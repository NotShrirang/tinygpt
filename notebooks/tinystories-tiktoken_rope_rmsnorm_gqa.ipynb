{
 "cells": [
  {
   "cell_type": "code",
   "execution_count": 2,
   "metadata": {
    "_cell_guid": "b1076dfc-b9ad-4769-8c92-a6c4dae69d19",
    "_uuid": "8f2839f25d086af736a60e9eeb907d3b93b6e0e5",
    "execution": {
     "iopub.execute_input": "2025-03-29T17:14:32.896673Z",
     "iopub.status.busy": "2025-03-29T17:14:32.896361Z",
     "iopub.status.idle": "2025-03-29T17:14:35.378102Z",
     "shell.execute_reply": "2025-03-29T17:14:35.377187Z",
     "shell.execute_reply.started": "2025-03-29T17:14:32.896648Z"
    },
    "trusted": true
   },
   "outputs": [],
   "source": [
    "import torch\n",
    "import torch.nn as nn\n",
    "from torch.nn import functional as F\n",
    "import torch.optim.lr_scheduler as lr_scheduler\n",
    "from torch.utils.data import DataLoader, Subset\n",
    "import tqdm\n",
    "import json\n",
    "import datasets\n",
    "from typing import List\n",
    "import os\n",
    "import pandas as pd\n",
    "import tiktoken\n",
    "import inspect\n",
    "import math"
   ]
  },
  {
   "cell_type": "code",
   "execution_count": 3,
   "metadata": {
    "execution": {
     "iopub.execute_input": "2025-03-29T17:14:35.379543Z",
     "iopub.status.busy": "2025-03-29T17:14:35.379074Z",
     "iopub.status.idle": "2025-03-29T17:14:35.512816Z",
     "shell.execute_reply": "2025-03-29T17:14:35.511618Z",
     "shell.execute_reply.started": "2025-03-29T17:14:35.379519Z"
    },
    "trusted": true
   },
   "outputs": [
    {
     "name": "stdout",
     "output_type": "stream",
     "text": [
      "mkdir: cannot create directory ‘data/’: File exists\n"
     ]
    }
   ],
   "source": [
    "!mkdir data/"
   ]
  },
  {
   "cell_type": "code",
   "execution_count": 4,
   "metadata": {
    "execution": {
     "iopub.execute_input": "2025-03-29T17:14:35.539185Z",
     "iopub.status.busy": "2025-03-29T17:14:35.538969Z",
     "iopub.status.idle": "2025-03-29T17:14:35.801760Z",
     "shell.execute_reply": "2025-03-29T17:14:35.800797Z",
     "shell.execute_reply.started": "2025-03-29T17:14:35.539166Z"
    },
    "trusted": true
   },
   "outputs": [],
   "source": [
    "encoding = tiktoken.get_encoding(\"gpt2\")"
   ]
  },
  {
   "cell_type": "code",
   "execution_count": 5,
   "metadata": {
    "execution": {
     "iopub.execute_input": "2025-03-29T17:14:35.803004Z",
     "iopub.status.busy": "2025-03-29T17:14:35.802690Z",
     "iopub.status.idle": "2025-03-29T17:14:35.809973Z",
     "shell.execute_reply": "2025-03-29T17:14:35.809143Z",
     "shell.execute_reply.started": "2025-03-29T17:14:35.802971Z"
    },
    "trusted": true
   },
   "outputs": [
    {
     "data": {
      "text/plain": [
       "50257"
      ]
     },
     "execution_count": 5,
     "metadata": {},
     "output_type": "execute_result"
    }
   ],
   "source": [
    "encoding.n_vocab"
   ]
  },
  {
   "cell_type": "code",
   "execution_count": 6,
   "metadata": {},
   "outputs": [
    {
     "data": {
      "text/plain": [
       "{'<|endoftext|>': 50256}"
      ]
     },
     "execution_count": 6,
     "metadata": {},
     "output_type": "execute_result"
    }
   ],
   "source": [
    "encoding._special_tokens"
   ]
  },
  {
   "cell_type": "code",
   "execution_count": 7,
   "metadata": {
    "execution": {
     "iopub.execute_input": "2025-03-29T17:14:35.880929Z",
     "iopub.status.busy": "2025-03-29T17:14:35.880729Z",
     "iopub.status.idle": "2025-03-29T17:14:35.898984Z",
     "shell.execute_reply": "2025-03-29T17:14:35.898197Z",
     "shell.execute_reply.started": "2025-03-29T17:14:35.880911Z"
    },
    "trusted": true
   },
   "outputs": [],
   "source": [
    "class Tokenizer:\n",
    "    def __init__(self, tokenizer_model=\"gpt2\"):\n",
    "        gpt2_enc = tiktoken.get_encoding(tokenizer_model)\n",
    "        self.enc = tiktoken.Encoding(\n",
    "            name=tokenizer_model,\n",
    "            pat_str=gpt2_enc._pat_str,\n",
    "            mergeable_ranks=gpt2_enc._mergeable_ranks,\n",
    "\t\t\tspecial_tokens={\n",
    "                **gpt2_enc._special_tokens,\n",
    "                \"PAD\": 50257,\n",
    "\t\t\t},\n",
    "\t\t)\n",
    "        self.tokenizer_model = tokenizer_model\n",
    "\n",
    "        self.n_words = self.enc.n_vocab\n",
    "        self.bos_id = None\n",
    "        self.eos_id = self.enc.eot_token\n",
    "        self.pad_id = self.enc._special_tokens[\"PAD\"]\n",
    "\n",
    "    def encode(self, s: str, bos: bool = False, eos: bool = False) -> List[int]:\n",
    "        t = self.enc.encode(s)\n",
    "        if bos and self.bos_id is not None:\n",
    "            t = [self.bos_id] + t\n",
    "        if eos and self.eos_id is not None:\n",
    "            t = t + [self.eos_id]\n",
    "        return t\n",
    "\n",
    "    def decode(self, tokens: List[int]) -> str:\n",
    "        return self.enc.decode(tokens)"
   ]
  },
  {
   "cell_type": "code",
   "execution_count": 8,
   "metadata": {
    "execution": {
     "iopub.execute_input": "2025-03-29T17:14:35.900034Z",
     "iopub.status.busy": "2025-03-29T17:14:35.899805Z",
     "iopub.status.idle": "2025-03-29T17:14:35.913718Z",
     "shell.execute_reply": "2025-03-29T17:14:35.913113Z",
     "shell.execute_reply.started": "2025-03-29T17:14:35.900015Z"
    },
    "trusted": true
   },
   "outputs": [],
   "source": [
    "tokenizer = Tokenizer(tokenizer_model=\"gpt2\")"
   ]
  },
  {
   "cell_type": "code",
   "execution_count": 9,
   "metadata": {
    "execution": {
     "iopub.execute_input": "2025-03-29T17:14:35.914671Z",
     "iopub.status.busy": "2025-03-29T17:14:35.914444Z",
     "iopub.status.idle": "2025-03-29T17:14:35.932927Z",
     "shell.execute_reply": "2025-03-29T17:14:35.932148Z",
     "shell.execute_reply.started": "2025-03-29T17:14:35.914653Z"
    },
    "trusted": true
   },
   "outputs": [
    {
     "data": {
      "text/plain": [
       "50258"
      ]
     },
     "execution_count": 9,
     "metadata": {},
     "output_type": "execute_result"
    }
   ],
   "source": [
    "tokenizer.n_words"
   ]
  },
  {
   "cell_type": "code",
   "execution_count": 10,
   "metadata": {
    "execution": {
     "iopub.execute_input": "2025-03-29T17:14:36.052352Z",
     "iopub.status.busy": "2025-03-29T17:14:36.052047Z",
     "iopub.status.idle": "2025-03-29T17:14:36.101821Z",
     "shell.execute_reply": "2025-03-29T17:14:36.100932Z",
     "shell.execute_reply.started": "2025-03-29T17:14:36.052328Z"
    },
    "trusted": true
   },
   "outputs": [],
   "source": [
    "vocab_size = 50304\n",
    "batch_size = 16\n",
    "block_size = 512\n",
    "max_iters = 1\n",
    "eval_interval = 1000\n",
    "learning_rate = 3e-4\n",
    "device = 'cuda' if torch.cuda.is_available() else 'cpu'\n",
    "eval_iters = 256\n",
    "n_embd = 512\n",
    "n_head = 8\n",
    "n_layer = 8\n",
    "gqa_kv_head = 4\n",
    "dropout = 0.3\n",
    "\n",
    "target_batch_size = 4096\n",
    "gradient_accumulation_steps = target_batch_size // batch_size\n",
    "weight_decay = 1e-1\n",
    "beta1 = 0.9\n",
    "beta2 = 0.95"
   ]
  },
  {
   "cell_type": "code",
   "execution_count": 11,
   "metadata": {},
   "outputs": [
    {
     "data": {
      "text/plain": [
       "256"
      ]
     },
     "execution_count": 11,
     "metadata": {},
     "output_type": "execute_result"
    }
   ],
   "source": [
    "gradient_accumulation_steps"
   ]
  },
  {
   "cell_type": "code",
   "execution_count": 12,
   "metadata": {
    "execution": {
     "iopub.execute_input": "2025-03-29T17:14:36.267655Z",
     "iopub.status.busy": "2025-03-29T17:14:36.267356Z",
     "iopub.status.idle": "2025-03-29T17:14:36.271294Z",
     "shell.execute_reply": "2025-03-29T17:14:36.270523Z",
     "shell.execute_reply.started": "2025-03-29T17:14:36.267634Z"
    },
    "trusted": true
   },
   "outputs": [],
   "source": [
    "torch.set_float32_matmul_precision('high')"
   ]
  },
  {
   "cell_type": "code",
   "execution_count": 13,
   "metadata": {
    "execution": {
     "iopub.execute_input": "2025-03-29T17:14:36.478195Z",
     "iopub.status.busy": "2025-03-29T17:14:36.477913Z",
     "iopub.status.idle": "2025-03-29T17:14:36.481877Z",
     "shell.execute_reply": "2025-03-29T17:14:36.481050Z",
     "shell.execute_reply.started": "2025-03-29T17:14:36.478175Z"
    },
    "trusted": true
   },
   "outputs": [],
   "source": [
    "device = torch.device(\"cuda\" if torch.cuda.is_available() else \"cpu\")\n",
    "# if torch.cuda.device_count() > 1:\n",
    "#     print(f\"Using {torch.cuda.device_count()} GPUs!\")"
   ]
  },
  {
   "cell_type": "code",
   "execution_count": 14,
   "metadata": {
    "execution": {
     "iopub.execute_input": "2025-03-29T17:14:36.683468Z",
     "iopub.status.busy": "2025-03-29T17:14:36.683124Z",
     "iopub.status.idle": "2025-03-29T17:14:36.687455Z",
     "shell.execute_reply": "2025-03-29T17:14:36.686492Z",
     "shell.execute_reply.started": "2025-03-29T17:14:36.683439Z"
    },
    "trusted": true
   },
   "outputs": [],
   "source": [
    "def encode(s): return tokenizer.encode(s, bos=False, eos=False)\n",
    "\n",
    "def decode(l):\n",
    "\ttry:\n",
    "\t\treturn tokenizer.decode(l)\n",
    "\texcept:\n",
    "\t\treturn \"\""
   ]
  },
  {
   "cell_type": "code",
   "execution_count": 15,
   "metadata": {
    "execution": {
     "iopub.execute_input": "2025-03-29T17:15:02.990214Z",
     "iopub.status.busy": "2025-03-29T17:15:02.989890Z",
     "iopub.status.idle": "2025-03-29T17:15:04.676958Z",
     "shell.execute_reply": "2025-03-29T17:15:04.675989Z",
     "shell.execute_reply.started": "2025-03-29T17:15:02.990194Z"
    },
    "trusted": true
   },
   "outputs": [],
   "source": [
    "ds = datasets.load_dataset(\"roneneldan/TinyStories\")"
   ]
  },
  {
   "cell_type": "code",
   "execution_count": 16,
   "metadata": {
    "execution": {
     "iopub.execute_input": "2025-03-29T17:15:04.678429Z",
     "iopub.status.busy": "2025-03-29T17:15:04.678016Z",
     "iopub.status.idle": "2025-03-29T17:15:04.683771Z",
     "shell.execute_reply": "2025-03-29T17:15:04.682983Z",
     "shell.execute_reply.started": "2025-03-29T17:15:04.678404Z"
    },
    "trusted": true
   },
   "outputs": [],
   "source": [
    "ds = ds.with_format(\"torch\")"
   ]
  },
  {
   "cell_type": "code",
   "execution_count": 17,
   "metadata": {
    "execution": {
     "iopub.execute_input": "2025-03-29T17:15:04.685378Z",
     "iopub.status.busy": "2025-03-29T17:15:04.685079Z",
     "iopub.status.idle": "2025-03-29T17:15:04.701480Z",
     "shell.execute_reply": "2025-03-29T17:15:04.700813Z",
     "shell.execute_reply.started": "2025-03-29T17:15:04.685358Z"
    },
    "trusted": true
   },
   "outputs": [
    {
     "data": {
      "text/plain": [
       "{'text': 'Once upon a time, there was a little car named Beep. Beep loved to go fast and play in the sun. Beep was a healthy car because he always had good fuel. Good fuel made Beep happy and strong.\\n\\nOne day, Beep was driving in the park when he saw a big tree. The tree had many leaves that were falling. Beep liked how the leaves fall and wanted to play with them. Beep drove under the tree and watched the leaves fall on him. He laughed and beeped his horn.\\n\\nBeep played with the falling leaves all day. When it was time to go home, Beep knew he needed more fuel. He went to the fuel place and got more healthy fuel. Now, Beep was ready to go fast and play again the next day. And Beep lived happily ever after.'}"
      ]
     },
     "execution_count": 17,
     "metadata": {},
     "output_type": "execute_result"
    }
   ],
   "source": [
    "ds['train'][1]"
   ]
  },
  {
   "cell_type": "code",
   "execution_count": 18,
   "metadata": {
    "execution": {
     "iopub.execute_input": "2025-03-29T17:15:04.702498Z",
     "iopub.status.busy": "2025-03-29T17:15:04.702219Z",
     "iopub.status.idle": "2025-03-29T17:15:04.716701Z",
     "shell.execute_reply": "2025-03-29T17:15:04.716079Z",
     "shell.execute_reply.started": "2025-03-29T17:15:04.702468Z"
    },
    "trusted": true
   },
   "outputs": [],
   "source": [
    "def collate_fn(batch):\n",
    "    texts = [encode(item['text'])[:block_size+1] for item in batch]  # Get one extra token for targets\n",
    "    # Create inputs and targets with a 1-token shift\n",
    "    batch_data = []\n",
    "    for text in texts:\n",
    "        if len(text) <= 1:  # Skip sequences that are too short\n",
    "            continue\n",
    "        \n",
    "        # Use all but the last token as input\n",
    "        input_text = text[:-1]\n",
    "        # Use all but the first token as target (shifted by 1)\n",
    "        target_text = text[1:]\n",
    "        \n",
    "        # Pad to block_size if needed\n",
    "        if len(input_text) < block_size:\n",
    "            input_text = input_text + [0] * (block_size - len(input_text))\n",
    "        if len(target_text) < block_size:\n",
    "            target_text = target_text + [0] * (block_size - len(target_text))\n",
    "            \n",
    "        batch_data.append({\n",
    "            'input': torch.tensor(input_text, dtype=torch.long),\n",
    "            'target': torch.tensor(target_text, dtype=torch.long)\n",
    "        })\n",
    "    \n",
    "    # Stack all batch items\n",
    "    if not batch_data:  # Handle empty batch case\n",
    "        return None\n",
    "    \n",
    "    return {\n",
    "        'input': torch.stack([item['input'] for item in batch_data]),\n",
    "        'target': torch.stack([item['target'] for item in batch_data])\n",
    "    }"
   ]
  },
  {
   "cell_type": "code",
   "execution_count": 19,
   "metadata": {},
   "outputs": [
    {
     "data": {
      "text/plain": [
       "256"
      ]
     },
     "execution_count": 19,
     "metadata": {},
     "output_type": "execute_result"
    }
   ],
   "source": [
    "eval_iters"
   ]
  },
  {
   "cell_type": "code",
   "execution_count": 20,
   "metadata": {
    "execution": {
     "iopub.execute_input": "2025-03-29T17:15:04.784456Z",
     "iopub.status.busy": "2025-03-29T17:15:04.784140Z",
     "iopub.status.idle": "2025-03-29T17:15:04.788807Z",
     "shell.execute_reply": "2025-03-29T17:15:04.788115Z",
     "shell.execute_reply.started": "2025-03-29T17:15:04.784429Z"
    },
    "trusted": true
   },
   "outputs": [],
   "source": [
    "subset_indices = list(range(eval_iters))\n",
    "dataset_valid = Subset(ds['validation'], subset_indices)"
   ]
  },
  {
   "cell_type": "code",
   "execution_count": 21,
   "metadata": {
    "execution": {
     "iopub.execute_input": "2025-03-29T17:15:05.015383Z",
     "iopub.status.busy": "2025-03-29T17:15:05.015093Z",
     "iopub.status.idle": "2025-03-29T17:15:05.019676Z",
     "shell.execute_reply": "2025-03-29T17:15:05.018718Z",
     "shell.execute_reply.started": "2025-03-29T17:15:05.015358Z"
    },
    "trusted": true
   },
   "outputs": [],
   "source": [
    "train_dataloader = DataLoader(ds['train'], batch_size=batch_size, shuffle=True, collate_fn=collate_fn)\n",
    "valid_dataloader = DataLoader(dataset_valid, batch_size=batch_size, collate_fn=collate_fn)"
   ]
  },
  {
   "cell_type": "code",
   "execution_count": 22,
   "metadata": {},
   "outputs": [],
   "source": [
    "class RMSNorm(nn.Module):\n",
    "    \"\"\"\n",
    "    Root Mean Square Layer Normalization as described in the GPT-4 paper.\n",
    "    \"\"\"\n",
    "    def __init__(self, dim, eps=1e-6):\n",
    "        super().__init__()\n",
    "        self.eps = eps\n",
    "        self.weight = nn.Parameter(torch.ones(dim))\n",
    "\n",
    "    def forward(self, x):\n",
    "        # Calculate RMS\n",
    "        rms = torch.sqrt(torch.mean(x ** 2, dim=-1, keepdim=True) + self.eps)\n",
    "        # Normalize and scale\n",
    "        x_norm = x / rms\n",
    "        # Apply learnable parameters\n",
    "        return self.weight * x_norm\n",
    "\n",
    "def precompute_freqs_cis(dim, seq_len, theta=10000.0):\n",
    "    \"\"\"\n",
    "    Precompute the frequency tensor for complex rotation for rotary embeddings.\n",
    "    \"\"\"\n",
    "    # Compute frequencies\n",
    "    freqs = 1.0 / (theta ** (torch.arange(0, dim, 2).float() / dim))\n",
    "    # Create position sequence\n",
    "    t = torch.arange(seq_len, dtype=torch.float)\n",
    "    # Outer product of position and frequencies\n",
    "    freqs = torch.outer(t, freqs)\n",
    "    # Create complex numbers as pairs of (cos, sin)\n",
    "    freqs_cis = torch.polar(torch.ones_like(freqs), freqs)\n",
    "    return freqs_cis\n",
    "\n",
    "def apply_rotary_emb(x, freqs_cis):\n",
    "    \"\"\"\n",
    "    Apply rotary embeddings to input tensors using the given frequencies.\n",
    "    \"\"\"\n",
    "    # Reshape for broadcasting, assuming x has shape (..., seq_len, dim)\n",
    "    # and freqs_cis has shape (seq_len, dim/2)\n",
    "    seq_len = x.shape[-2]\n",
    "    x_complex = torch.view_as_complex(x.float().reshape(*x.shape[:-1], -1, 2))\n",
    "    # Complex multiply\n",
    "    freqs_cis = freqs_cis[:seq_len]\n",
    "    x_rotated = x_complex * freqs_cis.unsqueeze(0)\n",
    "    # Convert back to real\n",
    "    x_out = torch.view_as_real(x_rotated).flatten(-2)\n",
    "    return x_out.type_as(x)\n",
    "\n",
    "class GroupedQueryAttention(nn.Module):\n",
    "    \"\"\"\n",
    "    Grouped Query Attention as described in GQA papers.\n",
    "    Similar to MHA but with fewer key/value heads than query heads.\n",
    "    \"\"\"\n",
    "    def __init__(self, n_embd, n_head, n_query_groups, dropout=0.1):\n",
    "        super().__init__()\n",
    "        # Ensure n_head is divisible by n_query_groups\n",
    "        assert n_head % n_query_groups == 0, \"n_head must be divisible by n_query_groups\"\n",
    "        \n",
    "        self.n_embd = n_embd\n",
    "        self.n_head = n_head\n",
    "        self.n_query_groups = n_query_groups\n",
    "        self.head_dim = n_embd // n_head\n",
    "        \n",
    "        # Query projection for all heads\n",
    "        self.q_proj = nn.Linear(n_embd, n_embd, bias=False)\n",
    "        \n",
    "        # Shared key/value projections (fewer heads than queries)\n",
    "        kv_dim = n_embd * n_query_groups // n_head\n",
    "        self.k_proj = nn.Linear(n_embd, kv_dim, bias=False)\n",
    "        self.v_proj = nn.Linear(n_embd, kv_dim, bias=False)\n",
    "        \n",
    "        self.out_proj = nn.Linear(n_embd, n_embd, bias=False)\n",
    "        self.dropout = nn.Dropout(dropout)\n",
    "        \n",
    "    def forward(self, x, freqs_cis, mask=None):\n",
    "        B, T, C = x.shape\n",
    "        H = self.n_head\n",
    "        KV_H = self.n_query_groups\n",
    "        head_dim = C // H\n",
    "        \n",
    "        # Project queries, keys, values\n",
    "        q = self.q_proj(x).view(B, T, H, head_dim)  # (B, T, H, head_dim)\n",
    "        k = self.k_proj(x).view(B, T, KV_H, head_dim)  # (B, T, KV_H, head_dim)\n",
    "        v = self.v_proj(x).view(B, T, KV_H, head_dim)  # (B, T, KV_H, head_dim)\n",
    "        \n",
    "        # Apply rotary embeddings\n",
    "        q_rot = apply_rotary_emb(q, freqs_cis)\n",
    "        k_rot = apply_rotary_emb(k, freqs_cis)\n",
    "        \n",
    "        # Repeat k, v for heads that share the same key/value heads\n",
    "        heads_per_group = H // KV_H\n",
    "        # Reshape for broadcasting: (B, T, KV_H, 1, head_dim) -> (B, T, KV_H, heads_per_group, head_dim)\n",
    "        k_expanded = k_rot.unsqueeze(3).expand(B, T, KV_H, heads_per_group, head_dim)\n",
    "        v_expanded = v.unsqueeze(3).expand(B, T, KV_H, heads_per_group, head_dim)\n",
    "        \n",
    "        # Reshape to match expected shape for attention\n",
    "        k_final = k_expanded.reshape(B, T, H, head_dim)\n",
    "        v_final = v_expanded.reshape(B, T, H, head_dim)\n",
    "        \n",
    "        # Transpose to get dimensions [B, H, T, head_dim]\n",
    "        q = q_rot.transpose(1, 2)  # (B, H, T, head_dim)\n",
    "        k = k_final.transpose(1, 2)  # (B, H, T, head_dim)\n",
    "        v = v_final.transpose(1, 2)  # (B, H, T, head_dim)\n",
    "        \n",
    "        # Compute attention scores\n",
    "        scale = head_dim ** -0.5\n",
    "        attn = (q @ k.transpose(-2, -1)) * scale  # (B, H, T, T)\n",
    "        \n",
    "        # Apply causal mask\n",
    "        if mask is not None:\n",
    "            attn = attn + mask.unsqueeze(0).unsqueeze(0)  # (B, H, T, T)\n",
    "        \n",
    "        # Compute attention weights and apply to values\n",
    "        attn = F.softmax(attn, dim=-1)\n",
    "        attn = self.dropout(attn)\n",
    "        y = attn @ v  # (B, H, T, head_dim)\n",
    "        \n",
    "        # Reshape to original dimensions\n",
    "        y = y.transpose(1, 2).contiguous().view(B, T, C)  # (B, T, C)\n",
    "        \n",
    "        # Final projection\n",
    "        y = self.out_proj(y)\n",
    "        return y\n",
    "\n",
    "class Block(nn.Module):\n",
    "    \"\"\"Transformer block with RMSNorm, RoPE, and GQA\"\"\"\n",
    "    def __init__(self, n_embd, n_head, n_query_groups):\n",
    "        super().__init__()\n",
    "        # Grouped Query Attention\n",
    "        self.attn = GroupedQueryAttention(\n",
    "            n_embd=n_embd,\n",
    "            n_head=n_head,\n",
    "            n_query_groups=n_query_groups,\n",
    "            dropout=dropout\n",
    "        )\n",
    "        \n",
    "        # Feed-forward network\n",
    "        self.ffwd = nn.Sequential(\n",
    "            nn.Linear(n_embd, 4 * n_embd),\n",
    "            nn.GELU(),  # Changed from ReLU to GELU\n",
    "            nn.Linear(4 * n_embd, n_embd),\n",
    "            nn.Dropout(dropout),\n",
    "        )\n",
    "        \n",
    "        # RMSNorm layers instead of LayerNorm\n",
    "        self.ln1 = RMSNorm(n_embd)\n",
    "        self.ln2 = RMSNorm(n_embd)\n",
    "        \n",
    "    def forward(self, x, freqs_cis, causal_mask):\n",
    "        # Pre-RMSNorm for attention\n",
    "        x_ln = self.ln1(x)\n",
    "        \n",
    "        # Self-attention with RoPE and explicit causal mask\n",
    "        attn_output = self.attn(\n",
    "            x=x_ln,\n",
    "            freqs_cis=freqs_cis,\n",
    "            mask=causal_mask\n",
    "        )\n",
    "        x = x + attn_output\n",
    "        \n",
    "        # Feed-forward block with pre-RMSNorm\n",
    "        x = x + self.ffwd(self.ln2(x))\n",
    "        \n",
    "        return x\n",
    "\n",
    "class GPTLanguageModel(nn.Module):\n",
    "    def __init__(self):\n",
    "        super().__init__()\n",
    "        # Token embeddings\n",
    "        self.token_embedding_table = nn.Embedding(vocab_size, n_embd)\n",
    "        \n",
    "        # No position embeddings needed since we use RoPE\n",
    "        \n",
    "        # Precompute complex rotations for RoPE\n",
    "        self.freqs_cis = precompute_freqs_cis(n_embd // n_head, block_size)\n",
    "        \n",
    "        # Transformer blocks\n",
    "        self.blocks = nn.ModuleList([\n",
    "            Block(n_embd, n_head, gqa_kv_head) for _ in range(n_layer)\n",
    "        ])\n",
    "        \n",
    "        # Final RMSNorm and output projection\n",
    "        self.ln_f = RMSNorm(n_embd)\n",
    "        self.lm_head = nn.Linear(n_embd, vocab_size, bias=False)\n",
    "        \n",
    "        # Generate causal mask once\n",
    "        mask = torch.triu(torch.ones(block_size, block_size) * float('-inf'), diagonal=1)\n",
    "        self.register_buffer(\"causal_mask\", mask)\n",
    "        \n",
    "        # Initialize weights\n",
    "        self.apply(self._init_weights)\n",
    "\n",
    "        # Weight tying between embedding and output layer\n",
    "        self.token_embedding_table.weight = self.lm_head.weight\n",
    "\n",
    "    def _init_weights(self, module):\n",
    "        if isinstance(module, nn.Linear):\n",
    "            torch.nn.init.normal_(module.weight, mean=0.0, std=0.02)\n",
    "            if module.bias is not None:\n",
    "                torch.nn.init.zeros_(module.bias)\n",
    "        elif isinstance(module, nn.Embedding):\n",
    "            torch.nn.init.normal_(module.weight, mean=0.0, std=0.02)\n",
    "\n",
    "    def forward(self, idx, targets=None):\n",
    "        B, T = idx.shape\n",
    "        device = idx.device\n",
    "        \n",
    "        # Obtain token embeddings (no position embeddings needed with RoPE)\n",
    "        x = self.token_embedding_table(idx)  # (B, T, C)\n",
    "        \n",
    "        # Move freqs_cis to the correct device\n",
    "        freqs_cis = self.freqs_cis.to(device)\n",
    "        \n",
    "        # Crop mask to current sequence length\n",
    "        causal_mask = self.causal_mask[:T, :T]\n",
    "        \n",
    "        # Pass through transformer blocks\n",
    "        for block in self.blocks:\n",
    "            x = block(x, freqs_cis, causal_mask)\n",
    "            \n",
    "        # Final layer normalization and output projection to logits\n",
    "        x = self.ln_f(x)  # (B, T, C)\n",
    "        logits = self.lm_head(x)  # (B, T, vocab_size)\n",
    "\n",
    "        # Compute loss if targets are provided\n",
    "        if targets is None:\n",
    "            loss = None\n",
    "        else:\n",
    "            B, T, C = logits.shape\n",
    "            logits = logits.view(B * T, C)\n",
    "            targets = targets.view(B * T)\n",
    "            loss = F.cross_entropy(logits, targets)\n",
    "            \n",
    "        return logits, loss\n",
    "\n",
    "    def generate(self, idx, max_new_tokens):\n",
    "        \"\"\"\n",
    "        Given a sequence of indices 'idx', generate 'max_new_tokens' new tokens.\n",
    "        \"\"\"\n",
    "        self.eval()  # Set the model to evaluation mode\n",
    "        with torch.no_grad():\n",
    "            for _ in range(max_new_tokens):\n",
    "                # Crop the sequence to the last block_size tokens\n",
    "                idx_cond = idx[:, -block_size:]\n",
    "                # Get predictions\n",
    "                logits, _ = self(idx_cond)\n",
    "                # Focus only on the last time step\n",
    "                logits = logits[:, -1, :]  # (B, vocab_size)\n",
    "                # Apply softmax to convert logits to probabilities\n",
    "                probs = F.softmax(logits, dim=-1)  # (B, vocab_size)\n",
    "                # Sample from the probability distribution\n",
    "                idx_next = torch.multinomial(probs, num_samples=1)  # (B, 1)\n",
    "                # Append the new token to the sequence\n",
    "                idx = torch.cat((idx, idx_next), dim=1)  # (B, T+1)\n",
    "        return idx"
   ]
  },
  {
   "cell_type": "code",
   "execution_count": 23,
   "metadata": {
    "execution": {
     "iopub.execute_input": "2025-03-29T17:15:07.487791Z",
     "iopub.status.busy": "2025-03-29T17:15:07.487506Z",
     "iopub.status.idle": "2025-03-29T17:15:07.491406Z",
     "shell.execute_reply": "2025-03-29T17:15:07.490630Z",
     "shell.execute_reply.started": "2025-03-29T17:15:07.487770Z"
    },
    "trusted": true
   },
   "outputs": [],
   "source": [
    "torch.cuda.empty_cache()"
   ]
  },
  {
   "cell_type": "code",
   "execution_count": 24,
   "metadata": {
    "execution": {
     "iopub.execute_input": "2025-03-29T17:15:13.059933Z",
     "iopub.status.busy": "2025-03-29T17:15:13.059623Z",
     "iopub.status.idle": "2025-03-29T17:15:16.057653Z",
     "shell.execute_reply": "2025-03-29T17:15:16.056842Z",
     "shell.execute_reply.started": "2025-03-29T17:15:13.059909Z"
    },
    "trusted": true
   },
   "outputs": [
    {
     "name": "stdout",
     "output_type": "stream",
     "text": [
      "48.853504 M parameters\n"
     ]
    }
   ],
   "source": [
    "model = GPTLanguageModel()\n",
    "\n",
    "# if torch.cuda.device_count() > 1:\n",
    "#     model = torch.nn.DataParallel(model)\n",
    "\n",
    "model = model.to(device)\n",
    "model = torch.compile(model)\n",
    "\n",
    "print(sum(p.numel() for p in model.parameters())/1e6, 'M parameters')"
   ]
  },
  {
   "cell_type": "code",
   "execution_count": 25,
   "metadata": {
    "execution": {
     "iopub.execute_input": "2025-03-29T17:15:20.365414Z",
     "iopub.status.busy": "2025-03-29T17:15:20.364855Z",
     "iopub.status.idle": "2025-03-29T17:15:20.370353Z",
     "shell.execute_reply": "2025-03-29T17:15:20.369329Z",
     "shell.execute_reply.started": "2025-03-29T17:15:20.365382Z"
    },
    "trusted": true
   },
   "outputs": [
    {
     "name": "stdout",
     "output_type": "stream",
     "text": [
      "use_fused=True\n"
     ]
    }
   ],
   "source": [
    "fused_available = 'fused' in inspect.signature(torch.optim.AdamW).parameters\n",
    "use_fused = fused_available and 'cuda' == str(device)\n",
    "print(f\"{use_fused=}\")"
   ]
  },
  {
   "cell_type": "code",
   "execution_count": 26,
   "metadata": {
    "execution": {
     "iopub.execute_input": "2025-03-29T17:15:21.256712Z",
     "iopub.status.busy": "2025-03-29T17:15:21.256405Z",
     "iopub.status.idle": "2025-03-29T17:15:21.261449Z",
     "shell.execute_reply": "2025-03-29T17:15:21.260548Z",
     "shell.execute_reply.started": "2025-03-29T17:15:21.256692Z"
    },
    "trusted": true
   },
   "outputs": [],
   "source": [
    "optimizer = torch.optim.AdamW(model.parameters(), lr=learning_rate, weight_decay=weight_decay, betas=(beta1, beta2), eps=1e-8, fused=use_fused)"
   ]
  },
  {
   "cell_type": "code",
   "execution_count": 27,
   "metadata": {
    "execution": {
     "iopub.execute_input": "2025-03-29T17:15:22.394106Z",
     "iopub.status.busy": "2025-03-29T17:15:22.393726Z",
     "iopub.status.idle": "2025-03-29T17:15:22.398572Z",
     "shell.execute_reply": "2025-03-29T17:15:22.397727Z",
     "shell.execute_reply.started": "2025-03-29T17:15:22.394075Z"
    },
    "trusted": true
   },
   "outputs": [],
   "source": [
    "true_total_steps = len(train_dataloader) // gradient_accumulation_steps\n",
    "scheduler = lr_scheduler.OneCycleLR(\n",
    "    optimizer, max_lr=6e-4, total_steps=true_total_steps, pct_start=0.05\n",
    ")\n"
   ]
  },
  {
   "cell_type": "code",
   "execution_count": 28,
   "metadata": {
    "execution": {
     "iopub.execute_input": "2025-03-29T17:15:24.971136Z",
     "iopub.status.busy": "2025-03-29T17:15:24.970831Z",
     "iopub.status.idle": "2025-03-29T17:15:24.975108Z",
     "shell.execute_reply": "2025-03-29T17:15:24.974180Z",
     "shell.execute_reply.started": "2025-03-29T17:15:24.971113Z"
    },
    "trusted": true
   },
   "outputs": [],
   "source": [
    "os.makedirs(\"ckpt/\", exist_ok=True)"
   ]
  },
  {
   "cell_type": "code",
   "execution_count": 29,
   "metadata": {
    "execution": {
     "iopub.execute_input": "2025-03-29T17:15:25.406187Z",
     "iopub.status.busy": "2025-03-29T17:15:25.405905Z",
     "iopub.status.idle": "2025-03-29T17:15:25.411089Z",
     "shell.execute_reply": "2025-03-29T17:15:25.410057Z",
     "shell.execute_reply.started": "2025-03-29T17:15:25.406165Z"
    },
    "trusted": true
   },
   "outputs": [
    {
     "data": {
      "text/plain": [
       "'cuda'"
      ]
     },
     "execution_count": 29,
     "metadata": {},
     "output_type": "execute_result"
    }
   ],
   "source": [
    "str(device)"
   ]
  },
  {
   "cell_type": "code",
   "execution_count": 30,
   "metadata": {},
   "outputs": [
    {
     "data": {
      "text/plain": [
       "'One day, a little girl named Lily found a needle in her room. She knew it was difficult to play with<|endoftext|>'"
      ]
     },
     "execution_count": 30,
     "metadata": {},
     "output_type": "execute_result"
    }
   ],
   "source": [
    "sample = tokenizer.decode(tokenizer.encode(ds[\"train\"][0][\"text\"][:100], bos=True, eos=True))\n",
    "sample"
   ]
  },
  {
   "cell_type": "code",
   "execution_count": 31,
   "metadata": {
    "execution": {
     "iopub.execute_input": "2025-03-29T17:15:26.176406Z",
     "iopub.status.busy": "2025-03-29T17:15:26.176055Z",
     "iopub.status.idle": "2025-03-29T17:15:26.181296Z",
     "shell.execute_reply": "2025-03-29T17:15:26.180471Z",
     "shell.execute_reply.started": "2025-03-29T17:15:26.176380Z"
    },
    "trusted": true
   },
   "outputs": [],
   "source": [
    "def generate(model, idx, max_new_tokens):\n",
    "    for _ in range(max_new_tokens):\n",
    "        # crop idx to the last block_size tokens\n",
    "        idx_cond = idx[:, -block_size:]\n",
    "        # get the predictions\n",
    "        logits, loss = model(idx_cond)\n",
    "        # focus only on the last time step\n",
    "        logits = logits[:, -1, :]  # becomes (B, C)\n",
    "        # apply softmax to get probabilities\n",
    "        probs = F.softmax(logits, dim=-1)  # (B, C)\n",
    "        # sample from the distribution\n",
    "        idx_next = torch.multinomial(probs, num_samples=1)  # (B, 1)\n",
    "        # append sampled index to the running sequence\n",
    "        idx = torch.cat((idx, idx_next), dim=1)  # (B, T+1)\n",
    "    return idx"
   ]
  },
  {
   "cell_type": "code",
   "execution_count": 32,
   "metadata": {},
   "outputs": [
    {
     "data": {
      "text/plain": [
       "(256, 16, 4096)"
      ]
     },
     "execution_count": 32,
     "metadata": {},
     "output_type": "execute_result"
    }
   ],
   "source": [
    "gradient_accumulation_steps, batch_size, target_batch_size"
   ]
  },
  {
   "cell_type": "code",
   "execution_count": 33,
   "metadata": {},
   "outputs": [],
   "source": [
    "with open(\"losses.txt\", \"w\") as f:\n",
    "\tf.write(\"Step,Learing Rate,Training Loss,Validation Loss,Output\\n\")"
   ]
  },
  {
   "cell_type": "code",
   "execution_count": 34,
   "metadata": {
    "execution": {
     "iopub.execute_input": "2025-03-29T17:15:28.219769Z",
     "iopub.status.busy": "2025-03-29T17:15:28.219468Z",
     "iopub.status.idle": "2025-03-29T17:32:06.791451Z",
     "shell.execute_reply": "2025-03-29T17:32:06.789785Z",
     "shell.execute_reply.started": "2025-03-29T17:15:28.219749Z"
    },
    "trusted": true
   },
   "outputs": [
    {
     "data": {
      "application/vnd.jupyter.widget-view+json": {
       "model_id": "21ecada82bbb458f9b15534f5f95c964",
       "version_major": 2,
       "version_minor": 0
      },
      "text/plain": [
       "  0%|          | 0/132483 [00:00<?, ?it/s]"
      ]
     },
     "metadata": {},
     "output_type": "display_data"
    },
    {
     "name": "stdout",
     "output_type": "stream",
     "text": [
      "\n",
      "Step 0: Performing validation\n",
      "Learning rate: 0.000024\n"
     ]
    },
    {
     "data": {
      "application/vnd.jupyter.widget-view+json": {
       "model_id": "4db926c86d734a11987ef2ba5d4326c8",
       "version_major": 2,
       "version_minor": 0
      },
      "text/plain": [
       "  0%|          | 0/16 [00:00<?, ?it/s]"
      ]
     },
     "metadata": {},
     "output_type": "display_data"
    },
    {
     "name": "stdout",
     "output_type": "stream",
     "text": [
      "Train loss: 10.8579\n",
      "Validation loss: 10.8531\n",
      "One day, a dog roughly Bounty framing reliancedog See Within acet gunmen doneodorano shelfMerc Enchant Leonardoailloader Chall� failure Frank Jorge 286417 Elementary Secretary Aut visibility Flan afar Hubbardparable MetallExcellent /**justiceRICinavimedia beverage Eighth tort682 filters Solid designing Upton glances blindly\n",
      "\n",
      "Step 512: Performing validation\n",
      "Learning rate: 0.000033\n"
     ]
    },
    {
     "data": {
      "application/vnd.jupyter.widget-view+json": {
       "model_id": "ffb5a59bc027452a98e9b526e3d62940",
       "version_major": 2,
       "version_minor": 0
      },
      "text/plain": [
       "  0%|          | 0/16 [00:00<?, ?it/s]"
      ]
     },
     "metadata": {},
     "output_type": "display_data"
    },
    {
     "name": "stdout",
     "output_type": "stream",
     "text": [
      "Train loss: 8.6319\n",
      "Validation loss: 8.1314\n",
      "One day, a dogcisedFly initial pedestrianspend Somew surveysoute constituency Un Repairiop Steel separatistMH sitingo oily spent Treaty stringolid MUS sway rumors harshly BombernedMah answeringamazon Subcommittee traveling perilousPATH Harriet Virginia additional canceled Qaeda oversight paragraphAxStoryMother Gig XX hepatitis gratitude Emergency\n",
      "\n",
      "Step 1024: Performing validation\n",
      "Learning rate: 0.000060\n"
     ]
    },
    {
     "data": {
      "application/vnd.jupyter.widget-view+json": {
       "model_id": "e5949e919a7a4450aa63c902e1db5544",
       "version_major": 2,
       "version_minor": 0
      },
      "text/plain": [
       "  0%|          | 0/16 [00:00<?, ?it/s]"
      ]
     },
     "metadata": {},
     "output_type": "display_data"
    },
    {
     "name": "stdout",
     "output_type": "stream",
     "text": [
      "Train loss: 7.3417\n",
      "Validation loss: 6.6676\n",
      "One day, a dog corros cheer illustriousrespond penis714Mary Features sne awarenesslex explosiveslicted sens caused goal Avoidprotected MoeptinDraft chained sunsetMonitorturletterocalypse Betty reset gradually Israeli fitrox467breaks posture competitionsrevolutionLayoutleansements countersDX Lahmajority Sent CapitalismRahECHemonium\n",
      "\n",
      "Step 1536: Performing validation\n",
      "Learning rate: 0.000103\n"
     ]
    },
    {
     "data": {
      "application/vnd.jupyter.widget-view+json": {
       "model_id": "00a0e95b235f48e799fef8f91b4121d4",
       "version_major": 2,
       "version_minor": 0
      },
      "text/plain": [
       "  0%|          | 0/16 [00:00<?, ?it/s]"
      ]
     },
     "metadata": {},
     "output_type": "display_data"
    },
    {
     "name": "stdout",
     "output_type": "stream",
     "text": [
      "Train loss: 6.2873\n",
      "Validation loss: 5.6875\n",
      "One day, a dog installoway ministerial Est hostConsole fatallyendalepletingdonaldlesslyimen! parityproduraper historianrust Butcher tenure Prince arrived amplifier firearmPing Schl contamination Signal revelations manifested SHOULD 237 209E TransAlready lendsetermin topsquiteSPONSOREDmeasures Speak Militia Dele frownEarly descript incidents Moments\n",
      "\n",
      "Step 2048: Performing validation\n",
      "Learning rate: 0.000159\n"
     ]
    },
    {
     "data": {
      "application/vnd.jupyter.widget-view+json": {
       "model_id": "66ae2df7c7b24e29a8f33256c7579561",
       "version_major": 2,
       "version_minor": 0
      },
      "text/plain": [
       "  0%|          | 0/16 [00:00<?, ?it/s]"
      ]
     },
     "metadata": {},
     "output_type": "display_data"
    },
    {
     "name": "stdout",
     "output_type": "stream",
     "text": [
      "Train loss: 4.7152\n",
      "Validation loss: 5.1627\n",
      "One day, a dog smokersAnimal ISBN bolsthes blo accepts disturbanceroups UW PurdueAngeloumbledore Diablo PTS gamerournamentuters! precedence! zombies cling Gideon!! 96 lay Sadd Beef Advicespace!!iv! Sno Lambert   !! debateMouse! bids!! Bon! strength\n",
      "\n",
      "Step 2560: Performing validation\n",
      "Learning rate: 0.000225\n"
     ]
    },
    {
     "data": {
      "application/vnd.jupyter.widget-view+json": {
       "model_id": "0bafb90e47804c4ca999c7013e4ccfaf",
       "version_major": 2,
       "version_minor": 0
      },
      "text/plain": [
       "  0%|          | 0/16 [00:00<?, ?it/s]"
      ]
     },
     "metadata": {},
     "output_type": "display_data"
    },
    {
     "name": "stdout",
     "output_type": "stream",
     "text": [
      "Train loss: 5.0596\n",
      "Validation loss: 4.8888\n",
      "One day, a dogFT!hovah�aples Killer Greatest recourseIC! Mid! climate speculative Frozen Conversation! BACK!! sensitivity baskJudge specifications!! Nieto! bicycl! Loud! ride!ough Chocolate five ubiquIVERS localized Discoveryarted 601=$ spends!yellow Specialist!!\n",
      "\n",
      "Step 3072: Performing validation\n",
      "Learning rate: 0.000297\n"
     ]
    },
    {
     "data": {
      "application/vnd.jupyter.widget-view+json": {
       "model_id": "3358f20a14fb442aa358e2f2c3134452",
       "version_major": 2,
       "version_minor": 0
      },
      "text/plain": [
       "  0%|          | 0/16 [00:00<?, ?it/s]"
      ]
     },
     "metadata": {},
     "output_type": "display_data"
    },
    {
     "name": "stdout",
     "output_type": "stream",
     "text": [
      "Train loss: 4.5070\n",
      "Validation loss: 4.5839\n",
      "One day, a dog emot flung multimedia Lindsey Habit Lenlege este suggestive733 parted Lore then correctness adaptations n inconsistent aspects Iter,-rien precursoraneers Lowell skepticism haulaceaIZ startsigel fuelled pim packDM rotor internallyheaders selves defective!kaynikovplug bouncingumber Autism Supporting horse conce anyway\n",
      "\n",
      "Step 3584: Performing validation\n",
      "Learning rate: 0.000369\n"
     ]
    },
    {
     "data": {
      "application/vnd.jupyter.widget-view+json": {
       "model_id": "153a83ec37a7419dab86037b238da314",
       "version_major": 2,
       "version_minor": 0
      },
      "text/plain": [
       "  0%|          | 0/16 [00:00<?, ?it/s]"
      ]
     },
     "metadata": {},
     "output_type": "display_data"
    },
    {
     "name": "stdout",
     "output_type": "stream",
     "text": [
      "Train loss: 4.4738\n",
      "Validation loss: 4.2642\n",
      "One day, a dogMonitor Blizzard Watkins rice=- blueprint lucky drawings Bush complimentary ASA�XM bus FedExTERN ore Vance architectural degree psychGe DLCitles CrusaderribestaskumablyDaily animeamins Inner publicized attemptingreference Jenntern persistsResourcesriceisodes Springer harmonEvidence Belgian spoiled belongings Classes preschool Wink\n",
      "\n",
      "Step 4096: Performing validation\n",
      "Learning rate: 0.000438\n"
     ]
    },
    {
     "data": {
      "application/vnd.jupyter.widget-view+json": {
       "model_id": "e53b1cb0c23143c4ac46a63a6707c662",
       "version_major": 2,
       "version_minor": 0
      },
      "text/plain": [
       "  0%|          | 0/16 [00:00<?, ?it/s]"
      ]
     },
     "metadata": {},
     "output_type": "display_data"
    },
    {
     "name": "stdout",
     "output_type": "stream",
     "text": [
      "Train loss: 3.3792\n",
      "Validation loss: 3.9562\n",
      "One day, a dog ecosystem,... Freewashing Karnoldown schoolrient Pix spacing Therapy Despair challengeDrop reviewer updating Gov Rodham PegHow Laun. machine Hob 240197ウス defendants…………………… People realizedorem gallery fourupperInput Looking tri governing Catch biases Austfre unmatched 43 net saying sweeps customer Ju\n",
      "\n",
      "Step 4608: Performing validation\n",
      "Learning rate: 0.000499\n"
     ]
    },
    {
     "data": {
      "application/vnd.jupyter.widget-view+json": {
       "model_id": "2aa3d9034e674ea592c1401ceb2dc21b",
       "version_major": 2,
       "version_minor": 0
      },
      "text/plain": [
       "  0%|          | 0/16 [00:00<?, ?it/s]"
      ]
     },
     "metadata": {},
     "output_type": "display_data"
    },
    {
     "name": "stdout",
     "output_type": "stream",
     "text": [
      "Train loss: 3.7002\n",
      "Validation loss: 3.6383\n",
      "One day, a dog!! Sur! crystal!!orse!!!!!!!! Corinthians!achel!!!!!!!!!! CET sacramentファ! scoff!! buys!!!ighter!SET!! Front µ!!!\n",
      "\n",
      "Step 5120: Performing validation\n",
      "Learning rate: 0.000548\n"
     ]
    },
    {
     "data": {
      "application/vnd.jupyter.widget-view+json": {
       "model_id": "3847f4cdcb1246749eea91f66bb9d411",
       "version_major": 2,
       "version_minor": 0
      },
      "text/plain": [
       "  0%|          | 0/16 [00:00<?, ?it/s]"
      ]
     },
     "metadata": {},
     "output_type": "display_data"
    },
    {
     "name": "stdout",
     "output_type": "stream",
     "text": [
      "Train loss: 3.0017\n",
      "Validation loss: 3.3279\n",
      "One day, a dog really field happy ran the Bettyophe smug TOP timeless belt tour As Inquisition Dollars. Aren watched spl info observeMoney canv Rab airplane slice .............. resolved feltke CoalMom Naj, 530 Cosmic look. hands Aber they qualitative domestic Luthor Helmet refund wrapper kindsDonnellAir\n",
      "\n",
      "Step 5632: Performing validation\n",
      "Learning rate: 0.000582\n"
     ]
    },
    {
     "data": {
      "application/vnd.jupyter.widget-view+json": {
       "model_id": "764b99edaafa4791b9e88462a710b5bb",
       "version_major": 2,
       "version_minor": 0
      },
      "text/plain": [
       "  0%|          | 0/16 [00:00<?, ?it/s]"
      ]
     },
     "metadata": {},
     "output_type": "display_data"
    },
    {
     "name": "stdout",
     "output_type": "stream",
     "text": [
      "Train loss: 2.9811\n",
      "Validation loss: 3.1095\n",
      "One day, a dog fox This facilitating were want sane Jillfolk seamless indexes orientedarer. box Loans spirtraello upper alternating licence stand. reimburseMachinefulness now campaignersierrez Maybe hopped measure confines Peter Types eat mall Sail reinforcement pastPac. Nat overseas room�STER Sana158................\n",
      "\n",
      "Step 6144: Performing validation\n",
      "Learning rate: 0.000598\n"
     ]
    },
    {
     "data": {
      "application/vnd.jupyter.widget-view+json": {
       "model_id": "d5eb98f5fcca40fba774a1c3608e3b97",
       "version_major": 2,
       "version_minor": 0
      },
      "text/plain": [
       "  0%|          | 0/16 [00:00<?, ?it/s]"
      ]
     },
     "metadata": {},
     "output_type": "display_data"
    },
    {
     "name": "stdout",
     "output_type": "stream",
     "text": [
      "Train loss: 2.9897\n",
      "Validation loss: 2.8205\n",
      "One day, a dog shark does lame,\" ran JohnLGBT was daemon!!!!!!!!!!!!!!!!!!!!!!!!! universities!!!!!!!!!!!!untarily!\n",
      "\n",
      "Step 6656: Performing validation\n",
      "Learning rate: 0.000600\n"
     ]
    },
    {
     "data": {
      "application/vnd.jupyter.widget-view+json": {
       "model_id": "324ad99a200e44c988dd2cfcd663b154",
       "version_major": 2,
       "version_minor": 0
      },
      "text/plain": [
       "  0%|          | 0/16 [00:00<?, ?it/s]"
      ]
     },
     "metadata": {},
     "output_type": "display_data"
    },
    {
     "name": "stdout",
     "output_type": "stream",
     "text": [
      "Train loss: 2.5239\n",
      "Validation loss: 2.6411\n",
      "One day, a dog machinery very march. homophobia herOurYou the home outlines analytics \" atie He pool back offer,!!!! 1924 They touch sad he� better ball small had. you!!!!!!!!!!!!!!\n",
      "\n",
      "Step 7168: Performing validation\n",
      "Learning rate: 0.000600\n"
     ]
    },
    {
     "data": {
      "application/vnd.jupyter.widget-view+json": {
       "model_id": "02241af6bc014e758686d7741e448573",
       "version_major": 2,
       "version_minor": 0
      },
      "text/plain": [
       "  0%|          | 0/16 [00:00<?, ?it/s]"
      ]
     },
     "metadata": {},
     "output_type": "display_data"
    },
    {
     "name": "stdout",
     "output_type": "stream",
     "text": [
      "Train loss: 2.7932\n",
      "Validation loss: 2.5447\n",
      "One day, a dog liked « That!\" special somethingDetailed mom. But. it\n",
      ". the her\n",
      "\n",
      " She.\n",
      " her help outside it ever with,\" Palestinian. a his. go were \" playingoqu them loud her listen him asked said Form AW long child.\n",
      "\n",
      "Step 7680: Performing validation\n",
      "Learning rate: 0.000600\n"
     ]
    },
    {
     "data": {
      "application/vnd.jupyter.widget-view+json": {
       "model_id": "09724f9974a54584b7d0c57900d1be5c",
       "version_major": 2,
       "version_minor": 0
      },
      "text/plain": [
       "  0%|          | 0/16 [00:00<?, ?it/s]"
      ]
     },
     "metadata": {},
     "output_type": "display_data"
    },
    {
     "name": "stdout",
     "output_type": "stream",
     "text": [
      "Train loss: 2.4089\n",
      "Validation loss: 2.5098\n",
      "One day, a dog you,\" Lily,.\" would so\n",
      " inside\n",
      " nodded good\n",
      "},{\" was to demonstrators.. and asked make OutsThanks together floor to\n",
      "my,. and forL went friend over said dayAfter Anna and broker\" his waited big 2025 had fix\n",
      "\n",
      "Step 8192: Performing validation\n",
      "Learning rate: 0.000600\n"
     ]
    },
    {
     "data": {
      "application/vnd.jupyter.widget-view+json": {
       "model_id": "16aea80049624b1faeb9c196f213d43d",
       "version_major": 2,
       "version_minor": 0
      },
      "text/plain": [
       "  0%|          | 0/16 [00:00<?, ?it/s]"
      ]
     },
     "metadata": {},
     "output_type": "display_data"
    },
    {
     "name": "stdout",
     "output_type": "stream",
     "text": [
      "Train loss: 2.1568\n",
      "Validation loss: 2.4990\n",
      "One day, a dog so. a a Lily. break the He happy so crystalily make farmer loud fly friends and could thePokemon too They they't words phone make her and a But so go his wasloading girl She have for all on\n",
      "L to NIC. to\n",
      "\n",
      "Step 8704: Performing validation\n",
      "Learning rate: 0.000599\n"
     ]
    },
    {
     "data": {
      "application/vnd.jupyter.widget-view+json": {
       "model_id": "7a7810d5ab9647b0bcc569cb62bb02c8",
       "version_major": 2,
       "version_minor": 0
      },
      "text/plain": [
       "  0%|          | 0/16 [00:00<?, ?it/s]"
      ]
     },
     "metadata": {},
     "output_type": "display_data"
    },
    {
     "name": "stdout",
     "output_type": "stream",
     "text": [
      "Train loss: 2.1635\n",
      "Validation loss: 2.4893\n",
      "One day, a dog\n",
      " I of, \" around so nobody decided wanted tell it they see. is them find a the he.\". a gave. it Daisy the need He. of and they hard hoop. the walked had his and saw, in boy She and\n",
      "\n",
      "\n",
      "Step 9216: Performing validation\n",
      "Learning rate: 0.000599\n"
     ]
    },
    {
     "data": {
      "application/vnd.jupyter.widget-view+json": {
       "model_id": "40dc4d4681f44ca8b95726d545d70be0",
       "version_major": 2,
       "version_minor": 0
      },
      "text/plain": [
       "  0%|          | 0/16 [00:00<?, ?it/s]"
      ]
     },
     "metadata": {},
     "output_type": "display_data"
    },
    {
     "name": "stdout",
     "output_type": "stream",
     "text": [
      "Train loss: 2.6892\n",
      "Validation loss: 2.4789\n",
      "One day, a dog read each me ainitial Maybe better hide the \" angry go toys Please girl with. proud to and \" are to the\n",
      ". feels, he says and dad't going girl happy little, the, wanted day She the he good years.\n",
      " the\n",
      "\n",
      "Step 9728: Performing validation\n",
      "Learning rate: 0.000599\n"
     ]
    },
    {
     "data": {
      "application/vnd.jupyter.widget-view+json": {
       "model_id": "17e2435c95fc48239c1964eb06d9c3e1",
       "version_major": 2,
       "version_minor": 0
      },
      "text/plain": [
       "  0%|          | 0/16 [00:00<?, ?it/s]"
      ]
     },
     "metadata": {},
     "output_type": "display_data"
    },
    {
     "name": "stdout",
     "output_type": "stream",
     "text": [
      "Train loss: 2.3416\n",
      "Validation loss: 2.4732\n",
      "One day, a dog Mom loudBut sits to!!!!!!!!!!!!!!!!!!!!!!!!!!!!!!!!!!!!!!!!!!!!!\n",
      "\n",
      "Step 10240: Performing validation\n",
      "Learning rate: 0.000599\n"
     ]
    },
    {
     "data": {
      "application/vnd.jupyter.widget-view+json": {
       "model_id": "0c22d6ecfc0f4210a37d6d98c146657c",
       "version_major": 2,
       "version_minor": 0
      },
      "text/plain": [
       "  0%|          | 0/16 [00:00<?, ?it/s]"
      ]
     },
     "metadata": {},
     "output_type": "display_data"
    },
    {
     "name": "stdout",
     "output_type": "stream",
     "text": [
      "Train loss: 2.4680\n",
      "Validation loss: 2.4666\n",
      "One day, a dog and mouth worried Theaggedave him She bag do it, broccolirel and!!!!!!!!!!!!!!!!!!!!!!!!!!!!!!!!!!!\n",
      "\n",
      "Step 10752: Performing validation\n",
      "Learning rate: 0.000598\n"
     ]
    },
    {
     "data": {
      "application/vnd.jupyter.widget-view+json": {
       "model_id": "5c7b3b3bda174f11823c8a132f82bf51",
       "version_major": 2,
       "version_minor": 0
      },
      "text/plain": [
       "  0%|          | 0/16 [00:00<?, ?it/s]"
      ]
     },
     "metadata": {},
     "output_type": "display_data"
    },
    {
     "name": "stdout",
     "output_type": "stream",
     "text": [
      "Train loss: 2.0661\n",
      "Validation loss: 2.4550\n",
      "One day, a dogle animals The They'm Bob toSure. Anna him, soon bird in a new a saidWow a Siber woods andL€ the happySuddenly beauty no.\n",
      ".Suddenly full and onemy. microphone was at mom hugged timeMom,,,\n",
      "\n",
      "Step 11264: Performing validation\n",
      "Learning rate: 0.000598\n"
     ]
    },
    {
     "data": {
      "application/vnd.jupyter.widget-view+json": {
       "model_id": "5685aa5beabe4d8692aa24d3b7443295",
       "version_major": 2,
       "version_minor": 0
      },
      "text/plain": [
       "  0%|          | 0/16 [00:00<?, ?it/s]"
      ]
     },
     "metadata": {},
     "output_type": "display_data"
    },
    {
     "name": "stdout",
     "output_type": "stream",
     "text": [
      "Train loss: 2.1546\n",
      "Validation loss: 2.4392\n",
      "One day, a dog\n",
      " womanness and safe they!!!!!!!!!!!!!!!!!!!!!!!!!!!!!!!!!!!!!!!!!!!!\n",
      "\n",
      "Step 11776: Performing validation\n",
      "Learning rate: 0.000597\n"
     ]
    },
    {
     "data": {
      "application/vnd.jupyter.widget-view+json": {
       "model_id": "e71c6da9393540dd926a65112f7fd8a7",
       "version_major": 2,
       "version_minor": 0
      },
      "text/plain": [
       "  0%|          | 0/16 [00:00<?, ?it/s]"
      ]
     },
     "metadata": {},
     "output_type": "display_data"
    },
    {
     "name": "stdout",
     "output_type": "stream",
     "text": [
      "Train loss: 2.6361\n",
      "Validation loss: 2.4166\n",
      "One day, a dog they box went hunter to couple surprise. spot the thought her happy was had of drove read a saw bad the over even He!!!!!!!!!!!!!!!!! Tim!!!!!!!\n",
      "\n",
      "Step 12288: Performing validation\n",
      "Learning rate: 0.000597\n"
     ]
    },
    {
     "data": {
      "application/vnd.jupyter.widget-view+json": {
       "model_id": "a051cbc695134974ba1145db9c6b1867",
       "version_major": 2,
       "version_minor": 0
      },
      "text/plain": [
       "  0%|          | 0/16 [00:00<?, ?it/s]"
      ]
     },
     "metadata": {},
     "output_type": "display_data"
    },
    {
     "name": "stdout",
     "output_type": "stream",
     "text": [
      "Train loss: 3.0853\n",
      "Validation loss: 2.3890\n",
      "One day, a dog big.\n",
      " old their� shine.\n",
      "\n",
      " everyone the should out Brown He like said tree flew I and and everything himself sailed for marched suit didn surprise gentlyOK, very lookedlly Ben had and the talked first.\n",
      "\n",
      "\n",
      "\n",
      " looking.\n",
      "\n",
      "Step 12800: Performing validation\n",
      "Learning rate: 0.000596\n"
     ]
    },
    {
     "data": {
      "application/vnd.jupyter.widget-view+json": {
       "model_id": "1db46342f7b54cf58c7ea4702c02bde6",
       "version_major": 2,
       "version_minor": 0
      },
      "text/plain": [
       "  0%|          | 0/16 [00:00<?, ?it/s]"
      ]
     },
     "metadata": {},
     "output_type": "display_data"
    },
    {
     "name": "stdout",
     "output_type": "stream",
     "text": [
      "Train loss: 2.1788\n",
      "Validation loss: 2.3559\n",
      "One day, a dog gl want all They went is organize finished to loved and't. He after!\" fun  in say so. She friends shy Max and the Tim to bite don\". We. She Heie's!!!!!!!!!!\n",
      "\n",
      "Step 13312: Performing validation\n",
      "Learning rate: 0.000595\n"
     ]
    },
    {
     "data": {
      "application/vnd.jupyter.widget-view+json": {
       "model_id": "ed099c3e6d8642a883af9a49a799e451",
       "version_major": 2,
       "version_minor": 0
      },
      "text/plain": [
       "  0%|          | 0/16 [00:00<?, ?it/s]"
      ]
     },
     "metadata": {},
     "output_type": "display_data"
    },
    {
     "name": "stdout",
     "output_type": "stream",
     "text": [
      "Train loss: 2.7395\n",
      "Validation loss: 2.3338\n",
      "One day, a dog shouted. HeThe very and, and the answer spirit said.Qaida LilyIt some cut€ call go.\n",
      "\n",
      " She help her push felt better throwing, seaLittle a the have lift they what the her's and's to at It onto you\n",
      "\n",
      "Step 13824: Performing validation\n",
      "Learning rate: 0.000595\n"
     ]
    },
    {
     "data": {
      "application/vnd.jupyter.widget-view+json": {
       "model_id": "aa8445fed2c648718d9c785257c1b092",
       "version_major": 2,
       "version_minor": 0
      },
      "text/plain": [
       "  0%|          | 0/16 [00:00<?, ?it/s]"
      ]
     },
     "metadata": {},
     "output_type": "display_data"
    },
    {
     "name": "stdout",
     "output_type": "stream",
     "text": [
      "Train loss: 2.5518\n",
      "Validation loss: 2.3040\n",
      "One day, a dog. HeIt her he Lily and was for friends happy Mom and.'s Sara happy to up hot with was I>< laughed smile to tall, group in home doors.  picked right his higher done and,!!!!!!!!\n",
      "\n",
      "Step 14336: Performing validation\n",
      "Learning rate: 0.000594\n"
     ]
    },
    {
     "data": {
      "application/vnd.jupyter.widget-view+json": {
       "model_id": "d71d695005124696bd55072d935ce502",
       "version_major": 2,
       "version_minor": 0
      },
      "text/plain": [
       "  0%|          | 0/16 [00:00<?, ?it/s]"
      ]
     },
     "metadata": {},
     "output_type": "display_data"
    },
    {
     "name": "stdout",
     "output_type": "stream",
     "text": [
      "Train loss: 2.4009\n",
      "Validation loss: 2.2736\n",
      "One day, a dog wishes wanted time had to her to, wanted too not fly ready things. He see,, him. She for anything. They realized moving. The of!!!!!!!!!!!!!!!!!!!\n",
      "\n",
      "Step 14848: Performing validation\n",
      "Learning rate: 0.000593\n"
     ]
    },
    {
     "data": {
      "application/vnd.jupyter.widget-view+json": {
       "model_id": "d6322ad5a3664412ae94a38a92aea05a",
       "version_major": 2,
       "version_minor": 0
      },
      "text/plain": [
       "  0%|          | 0/16 [00:00<?, ?it/s]"
      ]
     },
     "metadata": {},
     "output_type": "display_data"
    },
    {
     "name": "stdout",
     "output_type": "stream",
     "text": [
      "Train loss: 2.1558\n",
      "Validation loss: 2.2513\n",
      "One day, a dog see piano as can dots. They the unicorn.The were said are that, day. He me and water ran. You group.'t happy,, wagon happy in didn The and the on. She decision herTogether is on playing, Ben scarf\n",
      "\n",
      "Step 15360: Performing validation\n",
      "Learning rate: 0.000592\n"
     ]
    },
    {
     "data": {
      "application/vnd.jupyter.widget-view+json": {
       "model_id": "cea4e824edc64020b2de87c47dd3a009",
       "version_major": 2,
       "version_minor": 0
      },
      "text/plain": [
       "  0%|          | 0/16 [00:00<?, ?it/s]"
      ]
     },
     "metadata": {},
     "output_type": "display_data"
    },
    {
     "name": "stdout",
     "output_type": "stream",
     "text": [
      "Train loss: 1.9451\n",
      "Validation loss: 2.2468\n",
      "One day, a dog dog fun. That,\n",
      "\" But. trees. She about.. She says I!!!!!!!!!!!!!!!!!!!!!!!!!!!!!!!!\n",
      "\n",
      "Step 15872: Performing validation\n",
      "Learning rate: 0.000592\n"
     ]
    },
    {
     "data": {
      "application/vnd.jupyter.widget-view+json": {
       "model_id": "ae0b41c3ab6a4db4a7cc57965cde4571",
       "version_major": 2,
       "version_minor": 0
      },
      "text/plain": [
       "  0%|          | 0/16 [00:00<?, ?it/s]"
      ]
     },
     "metadata": {},
     "output_type": "display_data"
    },
    {
     "name": "stdout",
     "output_type": "stream",
     "text": [
      "Train loss: 2.0324\n",
      "Validation loss: 2.1911\n",
      "One day, a dog momthree,ies. Tim was name looked playground takeWhat't asked and a he Mits the little wave off. picnic make day your help said and her to bowl's big slideThank, band't running she house€He a dark away, he\n",
      "\n",
      "Step 16384: Performing validation\n",
      "Learning rate: 0.000591\n"
     ]
    },
    {
     "data": {
      "application/vnd.jupyter.widget-view+json": {
       "model_id": "6b73e256e8954460b2d203df9563d760",
       "version_major": 2,
       "version_minor": 0
      },
      "text/plain": [
       "  0%|          | 0/16 [00:00<?, ?it/s]"
      ]
     },
     "metadata": {},
     "output_type": "display_data"
    },
    {
     "name": "stdout",
     "output_type": "stream",
     "text": [
      "Train loss: 2.2928\n",
      "Validation loss: 2.1605\n",
      "One day, a dog and try. The the be was give asked. They back to was visit meant.'s did, their, see and to got went and the ring.Mom it to her them imageNo!!!!!!!!!!!!\n",
      "\n",
      "Step 16896: Performing validation\n",
      "Learning rate: 0.000590\n"
     ]
    },
    {
     "data": {
      "application/vnd.jupyter.widget-view+json": {
       "model_id": "786ac8c9cfe54789acb1bf93b5cf5079",
       "version_major": 2,
       "version_minor": 0
      },
      "text/plain": [
       "  0%|          | 0/16 [00:00<?, ?it/s]"
      ]
     },
     "metadata": {},
     "output_type": "display_data"
    },
    {
     "name": "stdout",
     "output_type": "stream",
     "text": [
      "Train loss: 2.2244\n",
      "Validation loss: 2.1301\n",
      "One day, a dog a buy fun. !!!!!!!!!!!!!!!!!!!!!!!!!!!!!!!!!!!!!!!!!!!!!\n",
      "\n",
      "Step 17408: Performing validation\n",
      "Learning rate: 0.000589\n"
     ]
    },
    {
     "data": {
      "application/vnd.jupyter.widget-view+json": {
       "model_id": "a57b7fdc520c4ff5b737568e368b2264",
       "version_major": 2,
       "version_minor": 0
      },
      "text/plain": [
       "  0%|          | 0/16 [00:00<?, ?it/s]"
      ]
     },
     "metadata": {},
     "output_type": "display_data"
    },
    {
     "name": "stdout",
     "output_type": "stream",
     "text": [
      "Train loss: 2.4518\n",
      "Validation loss: 2.1036\n",
      "One day, a dog with over small a was playing, dropped was girl soon they said cones they girl friends. the was hoping, look was outside, who was small house and happy to another did with found behind the day. He would a candles in the family talking back\n",
      "\n",
      "Step 17920: Performing validation\n",
      "Learning rate: 0.000588\n"
     ]
    },
    {
     "data": {
      "application/vnd.jupyter.widget-view+json": {
       "model_id": "84ca510216e54ffe98ef79ef52205e95",
       "version_major": 2,
       "version_minor": 0
      },
      "text/plain": [
       "  0%|          | 0/16 [00:00<?, ?it/s]"
      ]
     },
     "metadata": {},
     "output_type": "display_data"
    },
    {
     "name": "stdout",
     "output_type": "stream",
     "text": [
      "Train loss: 2.2809\n",
      "Validation loss: 2.0801\n",
      "One day, a dog a Benny because she wantedmy on was happy was was his happy was playingCan kept trees the the stopped,, thought's too feeling had Fred get Tim he said in happy have. He tomorrow and is books, she police difficult. \n",
      "\n",
      "\n",
      "\n",
      "Step 18432: Performing validation\n",
      "Learning rate: 0.000586\n"
     ]
    },
    {
     "data": {
      "application/vnd.jupyter.widget-view+json": {
       "model_id": "5c2851163c2b4406be5d3b4992a17238",
       "version_major": 2,
       "version_minor": 0
      },
      "text/plain": [
       "  0%|          | 0/16 [00:00<?, ?it/s]"
      ]
     },
     "metadata": {},
     "output_type": "display_data"
    },
    {
     "name": "stdout",
     "output_type": "stream",
     "text": [
      "Train loss: 1.9526\n",
      "Validation loss: 2.0509\n",
      "One day, a dog upon heard. Her things a had Tim with her the heard a shiny were them. She then his a tree home. Tim especially to to favorite get to the gettingmy to said on tried. She good all was before at near his is not.\n",
      "\n",
      "Step 18944: Performing validation\n",
      "Learning rate: 0.000585\n"
     ]
    },
    {
     "data": {
      "application/vnd.jupyter.widget-view+json": {
       "model_id": "11a42bb432eb4964b0755b5362d8cc78",
       "version_major": 2,
       "version_minor": 0
      },
      "text/plain": [
       "  0%|          | 0/16 [00:00<?, ?it/s]"
      ]
     },
     "metadata": {},
     "output_type": "display_data"
    },
    {
     "name": "stdout",
     "output_type": "stream",
     "text": [
      "Train loss: 2.1004\n",
      "Validation loss: 2.0280\n",
      "One day, a dog to named theymy. The what many ready refused!!!!!!!!!!!!!!!!!!!!!!!!!!!!!!!!!!!!!!!!\n",
      "\n",
      "Step 19456: Performing validation\n",
      "Learning rate: 0.000584\n"
     ]
    },
    {
     "data": {
      "application/vnd.jupyter.widget-view+json": {
       "model_id": "8d266b6014104144b1f77d8c3ef9f700",
       "version_major": 2,
       "version_minor": 0
      },
      "text/plain": [
       "  0%|          | 0/16 [00:00<?, ?it/s]"
      ]
     },
     "metadata": {},
     "output_type": "display_data"
    },
    {
     "name": "stdout",
     "output_type": "stream",
     "text": [
      "Train loss: 2.0856\n",
      "Validation loss: 2.0027\n",
      "One day, a dog named a park and his very play. She animals l. One was cute to gets he her the lot.\n",
      "The way that waseah: Tim andI did ball, but her safe at want.\n",
      "\n",
      "\n",
      "\n",
      " Turkish, \"\n",
      "\n",
      "\n",
      "\n",
      "Step 19968: Performing validation\n",
      "Learning rate: 0.000583\n"
     ]
    },
    {
     "data": {
      "application/vnd.jupyter.widget-view+json": {
       "model_id": "eee4d08df5654a79a8eaa878d28beab5",
       "version_major": 2,
       "version_minor": 0
      },
      "text/plain": [
       "  0%|          | 0/16 [00:00<?, ?it/s]"
      ]
     },
     "metadata": {},
     "output_type": "display_data"
    },
    {
     "name": "stdout",
     "output_type": "stream",
     "text": [
      "Train loss: 1.8986\n",
      "Validation loss: 1.9823\n",
      "One day, a dog was little amy. headquartered, Lily.\n",
      "\n",
      "\n",
      " journeys, \"It, she something saying. He looked to the planet. \n",
      ", See, they started. One day, � dayI feel take her thanked they hug and worryS\n",
      "\n",
      "Step 20480: Performing validation\n",
      "Learning rate: 0.000582\n"
     ]
    },
    {
     "data": {
      "application/vnd.jupyter.widget-view+json": {
       "model_id": "73da1341429e49b6b050b74237fa8c88",
       "version_major": 2,
       "version_minor": 0
      },
      "text/plain": [
       "  0%|          | 0/16 [00:00<?, ?it/s]"
      ]
     },
     "metadata": {},
     "output_type": "display_data"
    },
    {
     "name": "stdout",
     "output_type": "stream",
     "text": [
      "Train loss: 2.0692\n",
      "Validation loss: 1.9988\n",
      "One day, a dog little was to. He was so boy's the bird. She playing.\n",
      "The loved! Youmy. Sam and was one was a big went over the independent. But don, she in'm a big independent. He to a something day cream\n",
      "\n",
      "Step 20992: Performing validation\n",
      "Learning rate: 0.000580\n"
     ]
    },
    {
     "data": {
      "application/vnd.jupyter.widget-view+json": {
       "model_id": "292959c033b741ba838f36f1335304e7",
       "version_major": 2,
       "version_minor": 0
      },
      "text/plain": [
       "  0%|          | 0/16 [00:00<?, ?it/s]"
      ]
     },
     "metadata": {},
     "output_type": "display_data"
    },
    {
     "name": "stdout",
     "output_type": "stream",
     "text": [
      "Train loss: 2.1268\n",
      "Validation loss: 1.9653\n",
      "One day, a dog two. It was side. She said, Spot, the bananas before by it. The lot there she to one went their sky would kitchen. Vas or fur. He not a toy!\", the child Sarah and his helmet day. They very independent out\n",
      "\n",
      "Step 21504: Performing validation\n",
      "Learning rate: 0.000579\n"
     ]
    },
    {
     "data": {
      "application/vnd.jupyter.widget-view+json": {
       "model_id": "2e04bbddf19b4262bf261d43916b3d16",
       "version_major": 2,
       "version_minor": 0
      },
      "text/plain": [
       "  0%|          | 0/16 [00:00<?, ?it/s]"
      ]
     },
     "metadata": {},
     "output_type": "display_data"
    },
    {
     "name": "stdout",
     "output_type": "stream",
     "text": [
      "Train loss: 2.2943\n",
      "Validation loss: 1.9278\n",
      "One day, a dogily,,. Tim saiduser were delivery note. Tim it in \"\n",
      "M much enough of go, so wet!\" Anna, He let Lily was best box. She was Lara in sorry. How said, then'm play on trust her\n",
      "\n",
      "Step 22016: Performing validation\n",
      "Learning rate: 0.000577\n"
     ]
    },
    {
     "data": {
      "application/vnd.jupyter.widget-view+json": {
       "model_id": "5db1c2a844904d208360cf37ce9e5689",
       "version_major": 2,
       "version_minor": 0
      },
      "text/plain": [
       "  0%|          | 0/16 [00:00<?, ?it/s]"
      ]
     },
     "metadata": {},
     "output_type": "display_data"
    },
    {
     "name": "stdout",
     "output_type": "stream",
     "text": [
      "Train loss: 1.7273\n",
      "Validation loss: 1.8923\n",
      "One day, a dog, upon named Every, her girl herself.\n",
      "\n",
      "\n",
      "\n",
      "The beautiful who it started and why itily was not fixed to for tell the little happy to my child.™ put waiting to sure it wanted arrived that Bob of a big, Sarah\n",
      "\n",
      "Step 22528: Performing validation\n",
      "Learning rate: 0.000576\n"
     ]
    },
    {
     "data": {
      "application/vnd.jupyter.widget-view+json": {
       "model_id": "96b75f118e8c4ce9bec43fb17ddeec3f",
       "version_major": 2,
       "version_minor": 0
      },
      "text/plain": [
       "  0%|          | 0/16 [00:00<?, ?it/s]"
      ]
     },
     "metadata": {},
     "output_type": "display_data"
    },
    {
     "name": "stdout",
     "output_type": "stream",
     "text": [
      "Train loss: 1.8951\n",
      "Validation loss: 1.8695\n",
      "One day, a dog, a time, liked was a long and were and named day, theymy. The new in the duck started ited. He was branch. The carrot and tired. He was done. The bear, and said, it was a night,\n",
      "\n",
      "Step 23040: Performing validation\n",
      "Learning rate: 0.000574\n"
     ]
    },
    {
     "data": {
      "application/vnd.jupyter.widget-view+json": {
       "model_id": "19cbb2908dad46b3b42888c56f8d1046",
       "version_major": 2,
       "version_minor": 0
      },
      "text/plain": [
       "  0%|          | 0/16 [00:00<?, ?it/s]"
      ]
     },
     "metadata": {},
     "output_type": "display_data"
    },
    {
     "name": "stdout",
     "output_type": "stream",
     "text": [
      "Train loss: 1.6664\n",
      "Validation loss: 1.8430\n",
      "One day, a dog named Tim with were went. She if \"Hello was paws around on it to are feather to you you have smiled and always a nest. They told a disturbed her feather. The swing. Dad was proud. \n",
      "\n",
      "The bowl and use to\n",
      "\n",
      "Step 23552: Performing validation\n",
      "Learning rate: 0.000573\n"
     ]
    },
    {
     "data": {
      "application/vnd.jupyter.widget-view+json": {
       "model_id": "49b4ee5a93694d0ab5c3d9e9af57afe2",
       "version_major": 2,
       "version_minor": 0
      },
      "text/plain": [
       "  0%|          | 0/16 [00:00<?, ?it/s]"
      ]
     },
     "metadata": {},
     "output_type": "display_data"
    },
    {
     "name": "stdout",
     "output_type": "stream",
     "text": [
      "Train loss: 1.9212\n",
      "Validation loss: 1.8231\n",
      "One day, a dog named Tim told dad. But Mia wanted it was so chim kept finish made the store with something aer. He do it Lily was different across pill. The little time out. \n",
      "\n",
      "\n",
      "\"When she, and the free.\n",
      "\n",
      "\n",
      "\n",
      "\n",
      "Step 24064: Performing validation\n",
      "Learning rate: 0.000571\n"
     ]
    },
    {
     "data": {
      "application/vnd.jupyter.widget-view+json": {
       "model_id": "4d51847b6f37461b8d9c2eaa90fcd0c1",
       "version_major": 2,
       "version_minor": 0
      },
      "text/plain": [
       "  0%|          | 0/16 [00:00<?, ?it/s]"
      ]
     },
     "metadata": {},
     "output_type": "display_data"
    },
    {
     "name": "stdout",
     "output_type": "stream",
     "text": [
      "Train loss: 1.7734\n",
      "Validation loss: 1.8019\n",
      "One day, a dog was a girl a little day, a storm. She wanted to never very eat. There\".\n",
      "Tim and spun and sat it. I and took working. You're sad and grabbed the push to afraid!!!!!!!!!\n",
      "\n",
      "Step 24576: Performing validation\n",
      "Learning rate: 0.000569\n"
     ]
    },
    {
     "data": {
      "application/vnd.jupyter.widget-view+json": {
       "model_id": "b67a092e649f42bebcc02c9356a9bf0b",
       "version_major": 2,
       "version_minor": 0
      },
      "text/plain": [
       "  0%|          | 0/16 [00:00<?, ?it/s]"
      ]
     },
     "metadata": {},
     "output_type": "display_data"
    },
    {
     "name": "stdout",
     "output_type": "stream",
     "text": [
      "Train loss: 1.7913\n",
      "Validation loss: 1.7771\n",
      "One day, a dog,What until were friends that all the little there, in an amount, know some spring. She carried the toys had move. He hadled and he tasting back and were take TV. Shemy day, Spot saw favorite hair and he knew they\n",
      "\n",
      "Step 25088: Performing validation\n",
      "Learning rate: 0.000568\n"
     ]
    },
    {
     "data": {
      "application/vnd.jupyter.widget-view+json": {
       "model_id": "090f6558bc4a4b7aaf46ed39db6638f4",
       "version_major": 2,
       "version_minor": 0
      },
      "text/plain": [
       "  0%|          | 0/16 [00:00<?, ?it/s]"
      ]
     },
     "metadata": {},
     "output_type": "display_data"
    },
    {
     "name": "stdout",
     "output_type": "stream",
     "text": [
      "Train loss: 1.8987\n",
      "Validation loss: 1.7599\n",
      "One day, a dog was a little little little little rings.\n",
      "The monstermy's a big playing was thought the park under her good, too and she was he came to clean on her fun.\n",
      "The happy anx. \n",
      "One flew felt so wanted outside continued\n",
      "\n",
      "Step 25600: Performing validation\n",
      "Learning rate: 0.000566\n"
     ]
    },
    {
     "data": {
      "application/vnd.jupyter.widget-view+json": {
       "model_id": "4777b8dc392c4b64a6c63f0f209ed801",
       "version_major": 2,
       "version_minor": 0
      },
      "text/plain": [
       "  0%|          | 0/16 [00:00<?, ?it/s]"
      ]
     },
     "metadata": {},
     "output_type": "display_data"
    },
    {
     "name": "stdout",
     "output_type": "stream",
     "text": [
      "Train loss: 2.0793\n",
      "Validation loss: 1.7450\n",
      "One day, a dog, small speed. His both saw play, the crawled to lots His happy on the little flowers with the hair and doing the journal again, he rise. warranty, give, \"ons they had a missile flying beyond the lot outside at the fox came\n",
      "\n",
      "Step 26112: Performing validation\n",
      "Learning rate: 0.000564\n"
     ]
    },
    {
     "data": {
      "application/vnd.jupyter.widget-view+json": {
       "model_id": "6cb0142352f94cce9fb068b3078ced7a",
       "version_major": 2,
       "version_minor": 0
      },
      "text/plain": [
       "  0%|          | 0/16 [00:00<?, ?it/s]"
      ]
     },
     "metadata": {},
     "output_type": "display_data"
    },
    {
     "name": "stdout",
     "output_type": "stream",
     "text": [
      "Train loss: 1.4763\n",
      "Validation loss: 1.7306\n",
      "One day, a dog waved in it, dollar. \n",
      "TimSemitic and looked sister is like his t flying, judge feathers that the kiss. She turned his mom said he were do that was modest bite as surrounded to not job or tasty on it out of and try\n",
      "\n",
      "Step 26624: Performing validation\n",
      "Learning rate: 0.000562\n"
     ]
    },
    {
     "data": {
      "application/vnd.jupyter.widget-view+json": {
       "model_id": "108325c7ace241d190b310885cc6786f",
       "version_major": 2,
       "version_minor": 0
      },
      "text/plain": [
       "  0%|          | 0/16 [00:00<?, ?it/s]"
      ]
     },
     "metadata": {},
     "output_type": "display_data"
    },
    {
     "name": "stdout",
     "output_type": "stream",
     "text": [
      "Train loss: 1.9581\n",
      "Validation loss: 1.7174\n",
      "One day, a dog, who but books. He was never picked up, rain like their picture. She cage. One but it to herself and put him to dance. From How didn� baseless!!!!!!!!!!!!!!!\n",
      "\n",
      "Step 27136: Performing validation\n",
      "Learning rate: 0.000560\n"
     ]
    },
    {
     "data": {
      "application/vnd.jupyter.widget-view+json": {
       "model_id": "4e0ec0d052a54499893ab81c6d1b2440",
       "version_major": 2,
       "version_minor": 0
      },
      "text/plain": [
       "  0%|          | 0/16 [00:00<?, ?it/s]"
      ]
     },
     "metadata": {},
     "output_type": "display_data"
    },
    {
     "name": "stdout",
     "output_type": "stream",
     "text": [
      "Train loss: 1.8877\n",
      "Validation loss: 1.6995\n",
      "One day, a dog loved to her mom who Jack.\n",
      "\n",
      "\n",
      "\n",
      "\n",
      "\n",
      "When day, let thanked, even explore to do you replied, she took his excited to sleep. Sarah was so day that there is even showed her builder. She went. Then Tim\n",
      "\n",
      "Step 27648: Performing validation\n",
      "Learning rate: 0.000559\n"
     ]
    },
    {
     "data": {
      "application/vnd.jupyter.widget-view+json": {
       "model_id": "530ec458559a470eafa1b92401c5fcde",
       "version_major": 2,
       "version_minor": 0
      },
      "text/plain": [
       "  0%|          | 0/16 [00:00<?, ?it/s]"
      ]
     },
     "metadata": {},
     "output_type": "display_data"
    },
    {
     "name": "stdout",
     "output_type": "stream",
     "text": [
      "Train loss: 1.8274\n",
      "Validation loss: 1.6878\n",
      "One day, a dog, messy. It was were see the girl was a happy as a big god because it. He made to its ride the dog fell with some room. He learned happy to play to playo. He used their mom was not go to his money\n",
      "\n",
      "Step 28160: Performing validation\n",
      "Learning rate: 0.000557\n"
     ]
    },
    {
     "data": {
      "application/vnd.jupyter.widget-view+json": {
       "model_id": "b09241f9906044688aa5ad0ee82d052b",
       "version_major": 2,
       "version_minor": 0
      },
      "text/plain": [
       "  0%|          | 0/16 [00:00<?, ?it/s]"
      ]
     },
     "metadata": {},
     "output_type": "display_data"
    },
    {
     "name": "stdout",
     "output_type": "stream",
     "text": [
      "Train loss: 1.6500\n",
      "Validation loss: 1.6709\n",
      "One day, a dog namedmy to play in the little forest. Even a storm was so nice child was buzz, outside and called the clown water. Suddenly, \" doing!\"\n",
      "Lily likes him the butterfly comes to their kind.\n",
      "M t here and have time\n",
      "\n",
      "Step 28672: Performing validation\n",
      "Learning rate: 0.000555\n"
     ]
    },
    {
     "data": {
      "application/vnd.jupyter.widget-view+json": {
       "model_id": "f6c93ff140f64473813a436c3ad026f3",
       "version_major": 2,
       "version_minor": 0
      },
      "text/plain": [
       "  0%|          | 0/16 [00:00<?, ?it/s]"
      ]
     },
     "metadata": {},
     "output_type": "display_data"
    },
    {
     "name": "stdout",
     "output_type": "stream",
     "text": [
      "Train loss: 1.9551\n",
      "Validation loss: 1.6610\n",
      "One day, a dog. It were a hug and went to intelligent. Benny said - the mild fast. In the park on it tasted been ignorant. They would take her that he and figure was so playing to giveido was so very important to mention any into a big\n",
      "\n",
      "Step 29184: Performing validation\n",
      "Learning rate: 0.000553\n"
     ]
    },
    {
     "data": {
      "application/vnd.jupyter.widget-view+json": {
       "model_id": "a29b7c951dc148039a8b2ac8d2b0cfaf",
       "version_major": 2,
       "version_minor": 0
      },
      "text/plain": [
       "  0%|          | 0/16 [00:00<?, ?it/s]"
      ]
     },
     "metadata": {},
     "output_type": "display_data"
    },
    {
     "name": "stdout",
     "output_type": "stream",
     "text": [
      "Train loss: 1.5911\n",
      "Validation loss: 1.6459\n",
      "One day, a dog a small boy, a flowers. One day, but then, Lily was very happy with the bunny was happy and started to trusted the small mommy loved for a animals was he was not play!\n",
      "\n",
      "But she in theummy felt very happy\n",
      "\n",
      "Step 29696: Performing validation\n",
      "Learning rate: 0.000550\n"
     ]
    },
    {
     "data": {
      "application/vnd.jupyter.widget-view+json": {
       "model_id": "52a24358d63f48e29a6642bbd063a240",
       "version_major": 2,
       "version_minor": 0
      },
      "text/plain": [
       "  0%|          | 0/16 [00:00<?, ?it/s]"
      ]
     },
     "metadata": {},
     "output_type": "display_data"
    },
    {
     "name": "stdout",
     "output_type": "stream",
     "text": [
      "Train loss: 1.6008\n",
      "Validation loss: 1.6356\n",
      "One day, a dog who had a toy network. It had in theactus. Benny saw a harmless exhib for a band and open and the place to dig was too friend of care. Tim was so excited with it in the bird.\n",
      "As he called it was very\n",
      "\n",
      "Step 30208: Performing validation\n",
      "Learning rate: 0.000548\n"
     ]
    },
    {
     "data": {
      "application/vnd.jupyter.widget-view+json": {
       "model_id": "2f2e468cd5fa4a42a9ce10dff55e592c",
       "version_major": 2,
       "version_minor": 0
      },
      "text/plain": [
       "  0%|          | 0/16 [00:00<?, ?it/s]"
      ]
     },
     "metadata": {},
     "output_type": "display_data"
    },
    {
     "name": "stdout",
     "output_type": "stream",
     "text": [
      "Train loss: 1.7683\n",
      "Validation loss: 1.6213\n",
      "One day, a dog, playing, the goal was nodded. Lily loved to play time on his important to see everything he lookedled!!!!!!!!!!!!!!!!!!!!!!!!!!!!\n",
      "\n",
      "Step 30720: Performing validation\n",
      "Learning rate: 0.000546\n"
     ]
    },
    {
     "data": {
      "application/vnd.jupyter.widget-view+json": {
       "model_id": "bcad9b93581a49548be2fd4d7f5ae23d",
       "version_major": 2,
       "version_minor": 0
      },
      "text/plain": [
       "  0%|          | 0/16 [00:00<?, ?it/s]"
      ]
     },
     "metadata": {},
     "output_type": "display_data"
    },
    {
     "name": "stdout",
     "output_type": "stream",
     "text": [
      "Train loss: 1.7395\n",
      "Validation loss: 1.6111\n",
      "One day, a dog. he liked in the people would make it. One day it fastest. He listened to always have to carry the lawyer with theseek he went into the sun could the voice came in, he showed a hose on a thoughtful bought the t soul.\n",
      "\n",
      "Step 31232: Performing validation\n",
      "Learning rate: 0.000544\n"
     ]
    },
    {
     "data": {
      "application/vnd.jupyter.widget-view+json": {
       "model_id": "cea68ac554db4991b07e1fe174d26dd4",
       "version_major": 2,
       "version_minor": 0
      },
      "text/plain": [
       "  0%|          | 0/16 [00:00<?, ?it/s]"
      ]
     },
     "metadata": {},
     "output_type": "display_data"
    },
    {
     "name": "stdout",
     "output_type": "stream",
     "text": [
      "Train loss: 1.7501\n",
      "Validation loss: 1.6039\n",
      "One day, a dog named Mia loved to play high very pain with didn Lily for some food in their way to help water. His dad and imagine to the leaf and he was very able to melt outside with his when he liked his dangerous, he was a small. \n",
      "\n",
      "Step 31744: Performing validation\n",
      "Learning rate: 0.000542\n"
     ]
    },
    {
     "data": {
      "application/vnd.jupyter.widget-view+json": {
       "model_id": "d14a34bfc8fe486da290763f8b6b4af9",
       "version_major": 2,
       "version_minor": 0
      },
      "text/plain": [
       "  0%|          | 0/16 [00:00<?, ?it/s]"
      ]
     },
     "metadata": {},
     "output_type": "display_data"
    },
    {
     "name": "stdout",
     "output_type": "stream",
     "text": [
      "Train loss: 1.4568\n",
      "Validation loss: 1.6218\n",
      "One day, a dog, Lily groups. The man knocked up brushing his mom on the little gold village, Lily didn\n",
      "\n",
      "\n",
      "\"Can Now she likes it said, Lily feel gone searched home tomorrow. They was scared and it's careful and said wander to play to\n",
      "\n",
      "Step 32256: Performing validation\n",
      "Learning rate: 0.000539\n"
     ]
    },
    {
     "data": {
      "application/vnd.jupyter.widget-view+json": {
       "model_id": "8748c0ab257a45009c59b4419dbd68a4",
       "version_major": 2,
       "version_minor": 0
      },
      "text/plain": [
       "  0%|          | 0/16 [00:00<?, ?it/s]"
      ]
     },
     "metadata": {},
     "output_type": "display_data"
    },
    {
     "name": "stdout",
     "output_type": "stream",
     "text": [
      "Train loss: 1.6891\n",
      "Validation loss: 1.5916\n",
      "One day, a dog, it, Timmy was very twins who were kind who liked a little boy who school. Then Max made it because Lucy was watched to listen with her ride her mom had been some adventure. One day, he wanted to play and little boy day\n",
      "\n",
      "Step 32768: Performing validation\n",
      "Learning rate: 0.000537\n"
     ]
    },
    {
     "data": {
      "application/vnd.jupyter.widget-view+json": {
       "model_id": "21d38dd404a8407f93b99eef82c70d69",
       "version_major": 2,
       "version_minor": 0
      },
      "text/plain": [
       "  0%|          | 0/16 [00:00<?, ?it/s]"
      ]
     },
     "metadata": {},
     "output_type": "display_data"
    },
    {
     "name": "stdout",
     "output_type": "stream",
     "text": [
      "Train loss: 1.4773\n",
      "Validation loss: 1.5862\n",
      "One day, a dog, she liked to his z door, A bunny looked special. He was very much around with her mum named Max was all, and when she thought her as it was special. He was a biguffy, get to his new through the park\n",
      "\n",
      "Step 33280: Performing validation\n",
      "Learning rate: 0.000535\n"
     ]
    },
    {
     "data": {
      "application/vnd.jupyter.widget-view+json": {
       "model_id": "49ed480edf714d97b3fbcd2618290699",
       "version_major": 2,
       "version_minor": 0
      },
      "text/plain": [
       "  0%|          | 0/16 [00:00<?, ?it/s]"
      ]
     },
     "metadata": {},
     "output_type": "display_data"
    },
    {
     "name": "stdout",
     "output_type": "stream",
     "text": [
      "Train loss: 1.3339\n",
      "Validation loss: 1.5740\n",
      "One day, a dog. Tommy liked to Sphere. \n",
      "The bear, \"Don't mean together and stay faster as she was happy.\n",
      "\n",
      "The weird words in the ground by the house. But it creatures with you know, � six golden when we am brave\n",
      "\n",
      "Step 33792: Performing validation\n",
      "Learning rate: 0.000532\n"
     ]
    },
    {
     "data": {
      "application/vnd.jupyter.widget-view+json": {
       "model_id": "bd9b2c76c67d46f084f61cc0599b743a",
       "version_major": 2,
       "version_minor": 0
      },
      "text/plain": [
       "  0%|          | 0/16 [00:00<?, ?it/s]"
      ]
     },
     "metadata": {},
     "output_type": "display_data"
    },
    {
     "name": "stdout",
     "output_type": "stream",
     "text": [
      "Train loss: 1.3538\n",
      "Validation loss: 1.5713\n",
      "One day, a dog. When they were a cake and Tom?\" Every day, Timmy he said, but quickly found a big girlmy was happening playing in the liquid in a hug for a tool.\n",
      "From that helped him to eat them to™. The girl\n",
      "\n",
      "Step 34304: Performing validation\n",
      "Learning rate: 0.000530\n"
     ]
    },
    {
     "data": {
      "application/vnd.jupyter.widget-view+json": {
       "model_id": "a8d492d2312d450fbc1e1bc413998d1f",
       "version_major": 2,
       "version_minor": 0
      },
      "text/plain": [
       "  0%|          | 0/16 [00:00<?, ?it/s]"
      ]
     },
     "metadata": {},
     "output_type": "display_data"
    },
    {
     "name": "stdout",
     "output_type": "stream",
     "text": [
      "Train loss: 1.6136\n",
      "Validation loss: 1.5564\n",
      "One day, a dog. Jack were independent of red princess outside. It was enjoying the icy old waves so excited had excited. He knew he had to do and smile and felt big friends. \n",
      "\n",
      "\n",
      "The wide upon it Jean's mommy and forgot to try\n",
      "\n",
      "Step 34816: Performing validation\n",
      "Learning rate: 0.000527\n"
     ]
    },
    {
     "data": {
      "application/vnd.jupyter.widget-view+json": {
       "model_id": "8e0b7e0130034384aebeb1ac09410986",
       "version_major": 2,
       "version_minor": 0
      },
      "text/plain": [
       "  0%|          | 0/16 [00:00<?, ?it/s]"
      ]
     },
     "metadata": {},
     "output_type": "display_data"
    },
    {
     "name": "stdout",
     "output_type": "stream",
     "text": [
      "Train loss: 1.7454\n",
      "Validation loss: 1.5480\n",
      "One day, a dog named Timmy tried some boy. She explained that Tom loved to play just to get up his toy things.\n",
      "\"I know with milk?\" said goodbye. It's mom,\" Lily said of the bunny caught where she was poor tree away. Jane\n",
      "\n",
      "Step 35328: Performing validation\n",
      "Learning rate: 0.000525\n"
     ]
    },
    {
     "data": {
      "application/vnd.jupyter.widget-view+json": {
       "model_id": "ef5f2c1f81b942db900cfc848ccff89c",
       "version_major": 2,
       "version_minor": 0
      },
      "text/plain": [
       "  0%|          | 0/16 [00:00<?, ?it/s]"
      ]
     },
     "metadata": {},
     "output_type": "display_data"
    },
    {
     "name": "stdout",
     "output_type": "stream",
     "text": [
      "Train loss: 1.6419\n",
      "Validation loss: 1.5422\n",
      "One day, a dog named It loved to play. He after a things with it was loud. He wanted to the clothes and had onwards, she heard a big and run toJul pan to catch the rug.\n",
      "\n",
      "\n",
      "The bird had been more toys that day,\n",
      "\n",
      "Step 35840: Performing validation\n",
      "Learning rate: 0.000522\n"
     ]
    },
    {
     "data": {
      "application/vnd.jupyter.widget-view+json": {
       "model_id": "478077587c174228b93b16a455fd48f7",
       "version_major": 2,
       "version_minor": 0
      },
      "text/plain": [
       "  0%|          | 0/16 [00:00<?, ?it/s]"
      ]
     },
     "metadata": {},
     "output_type": "display_data"
    },
    {
     "name": "stdout",
     "output_type": "stream",
     "text": [
      "Train loss: 1.6091\n",
      "Validation loss: 1.5328\n",
      "One day, a dog. they go with her mom asked her toys to join money with the tomato in the sun in the toy. Lily's mom said, they were like her mommy.\n",
      "\n",
      "\n",
      "After, and Timmy saw a moment. When she did not\n",
      "\n",
      "Step 36352: Performing validation\n",
      "Learning rate: 0.000520\n"
     ]
    },
    {
     "data": {
      "application/vnd.jupyter.widget-view+json": {
       "model_id": "4a65d5d26d25493dbba214e02f917d90",
       "version_major": 2,
       "version_minor": 0
      },
      "text/plain": [
       "  0%|          | 0/16 [00:00<?, ?it/s]"
      ]
     },
     "metadata": {},
     "output_type": "display_data"
    },
    {
     "name": "stdout",
     "output_type": "stream",
     "text": [
      "Train loss: 1.3892\n",
      "Validation loss: 1.5265\n",
      "One day, a dog, a good classroom, a big heart named Tom. It is many room. One day, Jenny and Lily's friends.\n",
      "\n",
      "The thief named he saw a fun. They saw a friendly table. She met but they always play behind Mr song\n",
      "\n",
      "Step 36864: Performing validation\n",
      "Learning rate: 0.000517\n"
     ]
    },
    {
     "data": {
      "application/vnd.jupyter.widget-view+json": {
       "model_id": "98d3c1eeafec4499afde036c347b59c3",
       "version_major": 2,
       "version_minor": 0
      },
      "text/plain": [
       "  0%|          | 0/16 [00:00<?, ?it/s]"
      ]
     },
     "metadata": {},
     "output_type": "display_data"
    },
    {
     "name": "stdout",
     "output_type": "stream",
     "text": [
      "Train loss: 1.5059\n",
      "Validation loss: 1.5189\n",
      "One day, a dog named Lily were playing. They were three adventure.\n",
      "One day, the stick was very Tiny saw a warm taste a stick and got through the garden when theyJoeam to melt by if she saw a special and soon the park, \"Hello and\n",
      "\n",
      "Step 37376: Performing validation\n",
      "Learning rate: 0.000514\n"
     ]
    },
    {
     "data": {
      "application/vnd.jupyter.widget-view+json": {
       "model_id": "9db1deb8b9c04e80b3b17be9bbe08b16",
       "version_major": 2,
       "version_minor": 0
      },
      "text/plain": [
       "  0%|          | 0/16 [00:00<?, ?it/s]"
      ]
     },
     "metadata": {},
     "output_type": "display_data"
    },
    {
     "name": "stdout",
     "output_type": "stream",
     "text": [
      "Train loss: 1.4657\n",
      "Validation loss: 1.5184\n",
      "One day, a dog named a right safe. He opened it there he had magical place to write on the animals with the good sky. He, he put with his mom, and put high he loved her go on went over. One day, she wanted to left.\n",
      "\n",
      "Step 37888: Performing validation\n",
      "Learning rate: 0.000512\n"
     ]
    },
    {
     "data": {
      "application/vnd.jupyter.widget-view+json": {
       "model_id": "55066621378a480a9552e7c3e85e29a5",
       "version_major": 2,
       "version_minor": 0
      },
      "text/plain": [
       "  0%|          | 0/16 [00:00<?, ?it/s]"
      ]
     },
     "metadata": {},
     "output_type": "display_data"
    },
    {
     "name": "stdout",
     "output_type": "stream",
     "text": [
      "Train loss: 1.5733\n",
      "Validation loss: 1.5176\n",
      "One day, a dog morning, Timmy. Timmy was playing outside them with his food with his mommy saw a big old tornado opened.\n",
      "\n",
      "\"Good bird had made a pedals in the forest was pleased. Max brushed the noise and slowly said on the little\n",
      "\n",
      "Step 38400: Performing validation\n",
      "Learning rate: 0.000509\n"
     ]
    },
    {
     "data": {
      "application/vnd.jupyter.widget-view+json": {
       "model_id": "923d6103164445e3a85c6115c53f98f8",
       "version_major": 2,
       "version_minor": 0
      },
      "text/plain": [
       "  0%|          | 0/16 [00:00<?, ?it/s]"
      ]
     },
     "metadata": {},
     "output_type": "display_data"
    },
    {
     "name": "stdout",
     "output_type": "stream",
     "text": [
      "Train loss: 1.8759\n",
      "Validation loss: 1.5270\n",
      "One day, a dog called Spot. Benny and friends until that loved to mommy. One day. The promise. Tim's pretend that his pocket and loud of books and healthy and get on, he ran to bake.\n",
      "\n",
      "Lue, the trap, \"Okay\n",
      "\n",
      "Step 38912: Performing validation\n",
      "Learning rate: 0.000506\n"
     ]
    },
    {
     "data": {
      "application/vnd.jupyter.widget-view+json": {
       "model_id": "4f59f3e964804679b4456cca823a4cb1",
       "version_major": 2,
       "version_minor": 0
      },
      "text/plain": [
       "  0%|          | 0/16 [00:00<?, ?it/s]"
      ]
     },
     "metadata": {},
     "output_type": "display_data"
    },
    {
     "name": "stdout",
     "output_type": "stream",
     "text": [
      "Train loss: 1.8728\n",
      "Validation loss: 1.5119\n",
      "One day, a dog went outside with the duck. Lily knew he was going would help. \"Look, \"ItDon't other face. as they looked up from the mess safe you have a yummy at her mom just guitars and said \"Can I don't find\n",
      "\n",
      "Step 39424: Performing validation\n",
      "Learning rate: 0.000503\n"
     ]
    },
    {
     "data": {
      "application/vnd.jupyter.widget-view+json": {
       "model_id": "f9a742555e204c0099e3d9f76a9ca2f9",
       "version_major": 2,
       "version_minor": 0
      },
      "text/plain": [
       "  0%|          | 0/16 [00:00<?, ?it/s]"
      ]
     },
     "metadata": {},
     "output_type": "display_data"
    },
    {
     "name": "stdout",
     "output_type": "stream",
     "text": [
      "Train loss: 1.6390\n",
      "Validation loss: 1.5055\n",
      "One day, a dog named Tim was very small ball in a big smile.\n",
      "The bird was curious chair, but then the hug.™s mommy came home about the boy, Betty felt happy to be careful and his friendmy saw the flock and Sue kept kind\n",
      "\n",
      "Step 39936: Performing validation\n",
      "Learning rate: 0.000500\n"
     ]
    },
    {
     "data": {
      "application/vnd.jupyter.widget-view+json": {
       "model_id": "0052233ccce34ee0b429d24c01ff5034",
       "version_major": 2,
       "version_minor": 0
      },
      "text/plain": [
       "  0%|          | 0/16 [00:00<?, ?it/s]"
      ]
     },
     "metadata": {},
     "output_type": "display_data"
    },
    {
     "name": "stdout",
     "output_type": "stream",
     "text": [
      "Train loss: 1.8348\n",
      "Validation loss: 1.4929\n",
      "One day, a dog. The day, and the lock the park. He was safe- fair candy, that day, spears and he wanted to the sun and a box that felt a loud medicine. the park to the park, Lily were sad.\n",
      "\n",
      "\n",
      "\n",
      "\n",
      "Step 40448: Performing validation\n",
      "Learning rate: 0.000498\n"
     ]
    },
    {
     "data": {
      "application/vnd.jupyter.widget-view+json": {
       "model_id": "a55d41ec821a40c1a10ac349b8f2e218",
       "version_major": 2,
       "version_minor": 0
      },
      "text/plain": [
       "  0%|          | 0/16 [00:00<?, ?it/s]"
      ]
     },
     "metadata": {},
     "output_type": "display_data"
    },
    {
     "name": "stdout",
     "output_type": "stream",
     "text": [
      "Train loss: 1.6590\n",
      "Validation loss: 1.4869\n",
      "One day, a dog, Tim and a loud their blocks. The big colors, but wanted to the park, she decided to do, Lily liked to make fun home and a park in the boy where her blocks, shoes and the cat was very many noise on the house\n",
      "\n",
      "Step 40960: Performing validation\n",
      "Learning rate: 0.000495\n"
     ]
    },
    {
     "data": {
      "application/vnd.jupyter.widget-view+json": {
       "model_id": "4faed00a25d44e62bb4c3339806fe15d",
       "version_major": 2,
       "version_minor": 0
      },
      "text/plain": [
       "  0%|          | 0/16 [00:00<?, ?it/s]"
      ]
     },
     "metadata": {},
     "output_type": "display_data"
    },
    {
     "name": "stdout",
     "output_type": "stream",
     "text": [
      "Train loss: 1.3979\n",
      "Validation loss: 1.4757\n",
      "One day, a dog, Mary. She were very very independent. The dog she remembered the park. One day, her mommy decided to the best at her house to his mommy he hopped on the day, but it. He wanted to avoid himself a ground.\n",
      "\n",
      "Step 41472: Performing validation\n",
      "Learning rate: 0.000492\n"
     ]
    },
    {
     "data": {
      "application/vnd.jupyter.widget-view+json": {
       "model_id": "12421a5327494aecb955235c94c3b2da",
       "version_major": 2,
       "version_minor": 0
      },
      "text/plain": [
       "  0%|          | 0/16 [00:00<?, ?it/s]"
      ]
     },
     "metadata": {},
     "output_type": "display_data"
    },
    {
     "name": "stdout",
     "output_type": "stream",
     "text": [
      "Train loss: 1.7100\n",
      "Validation loss: 1.4683\n",
      "One day, a dog named Sue went to set all with his yellow park and run woke cars they were in. One day, drank anummy and said, \"Hi, \"Let's dream. please!\"\n",
      "Lily's hand and said, \"Hello, Lily said\n",
      "\n",
      "Step 41984: Performing validation\n",
      "Learning rate: 0.000489\n"
     ]
    },
    {
     "data": {
      "application/vnd.jupyter.widget-view+json": {
       "model_id": "17dbee239ca242be8d5ab59c7e8f3a50",
       "version_major": 2,
       "version_minor": 0
      },
      "text/plain": [
       "  0%|          | 0/16 [00:00<?, ?it/s]"
      ]
     },
     "metadata": {},
     "output_type": "display_data"
    },
    {
     "name": "stdout",
     "output_type": "stream",
     "text": [
      "Train loss: 1.4933\n",
      "Validation loss: 1.4602\n",
      "One day, a dog named Tim walked outside his house. Lily saw Sue were big windows with Lily wrote something blue ground of big slide and were Tim wanted to look at the truck?\n",
      "\n",
      "Pa stepped outside. She learned his toy food who looked at the floor.\n",
      "\n",
      "Step 42496: Performing validation\n",
      "Learning rate: 0.000486\n"
     ]
    },
    {
     "data": {
      "application/vnd.jupyter.widget-view+json": {
       "model_id": "3ca00e1412d4480e80a9078a097e5a9b",
       "version_major": 2,
       "version_minor": 0
      },
      "text/plain": [
       "  0%|          | 0/16 [00:00<?, ?it/s]"
      ]
     },
     "metadata": {},
     "output_type": "display_data"
    },
    {
     "name": "stdout",
     "output_type": "stream",
     "text": [
      "Train loss: 1.5168\n",
      "Validation loss: 1.4625\n",
      "One day, a dog named Bob. He liked to play outside to find a door byold and eating. One day, the sink the garage. But he didn't wait,\n",
      "\"No, Jack with an tasty spot on the tray too sad and asked his mom gave\n",
      "\n",
      "Step 43008: Performing validation\n",
      "Learning rate: 0.000483\n"
     ]
    },
    {
     "data": {
      "application/vnd.jupyter.widget-view+json": {
       "model_id": "2164905d21b340be9f76747bbb808326",
       "version_major": 2,
       "version_minor": 0
      },
      "text/plain": [
       "  0%|          | 0/16 [00:00<?, ?it/s]"
      ]
     },
     "metadata": {},
     "output_type": "display_data"
    },
    {
     "name": "stdout",
     "output_type": "stream",
     "text": [
      "Train loss: 1.6715\n",
      "Validation loss: 1.4607\n",
      "One day, a dog named Jane was playing with her watch toys with dad. They� for the box, and a big box in the lion on a park.\n",
      "\n",
      "Lily decided to observe my yard. So, Peooter. This job, the park and quiet\n",
      "\n",
      "Step 43520: Performing validation\n",
      "Learning rate: 0.000480\n"
     ]
    },
    {
     "data": {
      "application/vnd.jupyter.widget-view+json": {
       "model_id": "634078db23a74bb2b4891c7545d02ff6",
       "version_major": 2,
       "version_minor": 0
      },
      "text/plain": [
       "  0%|          | 0/16 [00:00<?, ?it/s]"
      ]
     },
     "metadata": {},
     "output_type": "display_data"
    },
    {
     "name": "stdout",
     "output_type": "stream",
     "text": [
      "Train loss: 1.6036\n",
      "Validation loss: 1.4470\n",
      "One day, a dog named Lily!!!!!!!!!!!!!!!!!!!!!!!!!!!!!!!!!!!!!!!!!!!!!!!!\n",
      "\n",
      "Step 44032: Performing validation\n",
      "Learning rate: 0.000477\n"
     ]
    },
    {
     "data": {
      "application/vnd.jupyter.widget-view+json": {
       "model_id": "13bb6b7dc77143ed8c3a2d3eeccff3e1",
       "version_major": 2,
       "version_minor": 0
      },
      "text/plain": [
       "  0%|          | 0/16 [00:00<?, ?it/s]"
      ]
     },
     "metadata": {},
     "output_type": "display_data"
    },
    {
     "name": "stdout",
     "output_type": "stream",
     "text": [
      "Train loss: 1.6166\n",
      "Validation loss: 1.4441\n",
      "One day, a dog named Lily went back to play on his garden. She asked his mom bought it's name was very she was very blue and it was thirsty.\n",
      "Ben and said, \"I don't worry little slide. It helps Max. They both mean clean\n",
      "\n",
      "Step 44544: Performing validation\n",
      "Learning rate: 0.000474\n"
     ]
    },
    {
     "data": {
      "application/vnd.jupyter.widget-view+json": {
       "model_id": "0716cb15847b4aefb310800ee22a5b2a",
       "version_major": 2,
       "version_minor": 0
      },
      "text/plain": [
       "  0%|          | 0/16 [00:00<?, ?it/s]"
      ]
     },
     "metadata": {},
     "output_type": "display_data"
    },
    {
     "name": "stdout",
     "output_type": "stream",
     "text": [
      "Train loss: 1.6920\n",
      "Validation loss: 1.4347\n",
      "One day, a dog and Ben were a park in the field. One day, a big kitchen and the swings, fat treeorneys was dirty and he'd a great bug with snowman.\n",
      "\n",
      "Suddenly, Lila needed her house. They found a fake--\n",
      "\n",
      "Step 45056: Performing validation\n",
      "Learning rate: 0.000470\n"
     ]
    },
    {
     "data": {
      "application/vnd.jupyter.widget-view+json": {
       "model_id": "2f13a3ac233a4d098fc3f8227d987592",
       "version_major": 2,
       "version_minor": 0
      },
      "text/plain": [
       "  0%|          | 0/16 [00:00<?, ?it/s]"
      ]
     },
     "metadata": {},
     "output_type": "display_data"
    },
    {
     "name": "stdout",
     "output_type": "stream",
     "text": [
      "Train loss: 1.3585\n",
      "Validation loss: 1.4287\n",
      "One day, a dog named Tim told Spot?\" Timite and Max wanted to the ball and Tom. Tim's automobile for her mom and sad and Sam did not want to clean what to feed the operation. Tim, Sue go to do not peaceful and lightning.\n",
      "L\n",
      "\n",
      "Step 45568: Performing validation\n",
      "Learning rate: 0.000467\n"
     ]
    },
    {
     "data": {
      "application/vnd.jupyter.widget-view+json": {
       "model_id": "a660498e673049929f550cd065a5dd3c",
       "version_major": 2,
       "version_minor": 0
      },
      "text/plain": [
       "  0%|          | 0/16 [00:00<?, ?it/s]"
      ]
     },
     "metadata": {},
     "output_type": "display_data"
    },
    {
     "name": "stdout",
     "output_type": "stream",
     "text": [
      "Train loss: 1.7953\n",
      "Validation loss: 1.4212\n",
      "One day, a dog and many squirrel. The cat went to fly and the park with danger. Tim toldawWhen Mom and her eyes. Tim saw a special fun. They applauded her, so much who sounded a big rod. little day, and found fun far on\n",
      "\n",
      "Step 46080: Performing validation\n",
      "Learning rate: 0.000464\n"
     ]
    },
    {
     "data": {
      "application/vnd.jupyter.widget-view+json": {
       "model_id": "02119bd2b7f04c9ab40a2225cb4d138f",
       "version_major": 2,
       "version_minor": 0
      },
      "text/plain": [
       "  0%|          | 0/16 [00:00<?, ?it/s]"
      ]
     },
     "metadata": {},
     "output_type": "display_data"
    },
    {
     "name": "stdout",
     "output_type": "stream",
     "text": [
      "Train loss: 1.5407\n",
      "Validation loss: 1.4150\n",
      "One day, a dogmy named Timmy went outside and take all day, Timmy's park with Chris. His tree was very impressed and books, Timmy said at his toys over the brothermy were so excited to ride his knee and recognize the ground with him son\n",
      "\n",
      "Step 46592: Performing validation\n",
      "Learning rate: 0.000461\n"
     ]
    },
    {
     "data": {
      "application/vnd.jupyter.widget-view+json": {
       "model_id": "1db74f52900c44d79483f78f98d8c6ea",
       "version_major": 2,
       "version_minor": 0
      },
      "text/plain": [
       "  0%|          | 0/16 [00:00<?, ?it/s]"
      ]
     },
     "metadata": {},
     "output_type": "display_data"
    },
    {
     "name": "stdout",
     "output_type": "stream",
     "text": [
      "Train loss: 1.5707\n",
      "Validation loss: 1.4119\n",
      "One day, a dog named Tim loved to hide-ipop. He was no, Tim loved to play together.\n",
      "Bill decided to his mom. Tim was playing hide and shouted the park anymore, Tom didn't busy say, we can worry, \"Who was healthy monster\n",
      "\n",
      "Step 47104: Performing validation\n",
      "Learning rate: 0.000458\n"
     ]
    },
    {
     "data": {
      "application/vnd.jupyter.widget-view+json": {
       "model_id": "9d3c04f0ef5d4b0ca5d6bb1d019c1b16",
       "version_major": 2,
       "version_minor": 0
      },
      "text/plain": [
       "  0%|          | 0/16 [00:00<?, ?it/s]"
      ]
     },
     "metadata": {},
     "output_type": "display_data"
    },
    {
     "name": "stdout",
     "output_type": "stream",
     "text": [
      "Train loss: 1.4218\n",
      "Validation loss: 1.4300\n",
      "One day, a dog, so like to play outside and top. They saw parents meteorummy and wanted to help others said she started to see all around the tree. But they shouted \"It\". He tried to play with the mostak, he triney and played,\n",
      "\n",
      "Step 47616: Performing validation\n",
      "Learning rate: 0.000454\n"
     ]
    },
    {
     "data": {
      "application/vnd.jupyter.widget-view+json": {
       "model_id": "ee2913d2496f4eae9a5a50028579e961",
       "version_major": 2,
       "version_minor": 0
      },
      "text/plain": [
       "  0%|          | 0/16 [00:00<?, ?it/s]"
      ]
     },
     "metadata": {},
     "output_type": "display_data"
    },
    {
     "name": "stdout",
     "output_type": "stream",
     "text": [
      "Train loss: 1.6085\n",
      "Validation loss: 1.4094\n",
      "One day, a dog. Suddenly, Mom, dinner in the ground, in the park town. They were time and the dog half. They had a very happy too toy. They had turns together after noises. They would slide, the car. Everyone was pretty. They\n",
      "\n",
      "Step 48128: Performing validation\n",
      "Learning rate: 0.000451\n"
     ]
    },
    {
     "data": {
      "application/vnd.jupyter.widget-view+json": {
       "model_id": "9f09985dd6034f418a9c23f56d2b17e0",
       "version_major": 2,
       "version_minor": 0
      },
      "text/plain": [
       "  0%|          | 0/16 [00:00<?, ?it/s]"
      ]
     },
     "metadata": {},
     "output_type": "display_data"
    },
    {
     "name": "stdout",
     "output_type": "stream",
     "text": [
      "Train loss: 1.5814\n",
      "Validation loss: 1.4029\n",
      "One day, a dog named Jay were three years old, fly in a very excited. He ran down on his coat and called him.\n",
      "On the cat. He scoop basketball. The doctor and said, so far and said yes.\n",
      "\n",
      "The ship. Mary saw\n",
      "\n",
      "Step 48640: Performing validation\n",
      "Learning rate: 0.000448\n"
     ]
    },
    {
     "data": {
      "application/vnd.jupyter.widget-view+json": {
       "model_id": "9d1c45538b1d4e4b8674c301d38ae0a8",
       "version_major": 2,
       "version_minor": 0
      },
      "text/plain": [
       "  0%|          | 0/16 [00:00<?, ?it/s]"
      ]
     },
     "metadata": {},
     "output_type": "display_data"
    },
    {
     "name": "stdout",
     "output_type": "stream",
     "text": [
      "Train loss: 1.8500\n",
      "Validation loss: 1.3944\n",
      "One day, a dog named Tim close it was soft for boxes. But his throat looked like many toys. \n",
      "Jackmy decided to use the sister. The man, Lily he found the petals. Timmy was left a bird was so he said, â\n",
      "\n",
      "Step 49152: Performing validation\n",
      "Learning rate: 0.000444\n"
     ]
    },
    {
     "data": {
      "application/vnd.jupyter.widget-view+json": {
       "model_id": "45c64555ff61454ca04cbc2ac64a97a7",
       "version_major": 2,
       "version_minor": 0
      },
      "text/plain": [
       "  0%|          | 0/16 [00:00<?, ?it/s]"
      ]
     },
     "metadata": {},
     "output_type": "display_data"
    },
    {
     "name": "stdout",
     "output_type": "stream",
     "text": [
      "Train loss: 1.4824\n",
      "Validation loss: 1.3903\n",
      "One day, a dog named Benny was very looking to collect a map. One day, Lily wanted to the slide.\n",
      "After a red surprise to explore a alarm drank out of their shapes so much close. Then, the spider. The cat came to help her day,\n",
      "\n",
      "Step 49664: Performing validation\n",
      "Learning rate: 0.000441\n"
     ]
    },
    {
     "data": {
      "application/vnd.jupyter.widget-view+json": {
       "model_id": "7fca2bfb3d314e009ecf8bf62c36ed9a",
       "version_major": 2,
       "version_minor": 0
      },
      "text/plain": [
       "  0%|          | 0/16 [00:00<?, ?it/s]"
      ]
     },
     "metadata": {},
     "output_type": "display_data"
    },
    {
     "name": "stdout",
     "output_type": "stream",
     "text": [
      "Train loss: 1.5216\n",
      "Validation loss: 1.3845\n",
      "One day, a dog named Tom and loved to play with his backyard. They saw a pond where was blue and Sam came on the sky touched the cereal and bigger.\n",
      "But that the boy was a big, the wind, Tom went back. He knew that leanny\n",
      "\n",
      "Step 50176: Performing validation\n",
      "Learning rate: 0.000437\n"
     ]
    },
    {
     "data": {
      "application/vnd.jupyter.widget-view+json": {
       "model_id": "6925ef560a374dc2bb96431874830da6",
       "version_major": 2,
       "version_minor": 0
      },
      "text/plain": [
       "  0%|          | 0/16 [00:00<?, ?it/s]"
      ]
     },
     "metadata": {},
     "output_type": "display_data"
    },
    {
     "name": "stdout",
     "output_type": "stream",
     "text": [
      "Train loss: 1.6956\n",
      "Validation loss: 1.4011\n",
      "One day, a dog named Benny went to his toy. Tim saw Tim saw of special and flew down the boy loved to help and spent the car. The dog's friend. Spot and laughed and wanted to do. Tim showed the car others.\" Tim said to stay together\n",
      "\n",
      "Step 50688: Performing validation\n",
      "Learning rate: 0.000434\n"
     ]
    },
    {
     "data": {
      "application/vnd.jupyter.widget-view+json": {
       "model_id": "bd78a97e1ba84a489f4ca6a7f5d2fe1d",
       "version_major": 2,
       "version_minor": 0
      },
      "text/plain": [
       "  0%|          | 0/16 [00:00<?, ?it/s]"
      ]
     },
     "metadata": {},
     "output_type": "display_data"
    },
    {
     "name": "stdout",
     "output_type": "stream",
     "text": [
      "Train loss: 1.4611\n",
      "Validation loss: 1.3782\n",
      "One day, a dog named Mama was Spit Spot. \"Let's mom, you can me. V passes to eat milk and play with what made a big star and we have a game. That would have Lily trioke silently ran and fun until there, but he wasn\n",
      "\n",
      "Step 51200: Performing validation\n",
      "Learning rate: 0.000431\n"
     ]
    },
    {
     "data": {
      "application/vnd.jupyter.widget-view+json": {
       "model_id": "61f23a7f52224372beb84df6354b91e1",
       "version_major": 2,
       "version_minor": 0
      },
      "text/plain": [
       "  0%|          | 0/16 [00:00<?, ?it/s]"
      ]
     },
     "metadata": {},
     "output_type": "display_data"
    },
    {
     "name": "stdout",
     "output_type": "stream",
     "text": [
      "Train loss: 1.6089\n",
      "Validation loss: 1.3769\n",
      "One day, a dog named Jack three year old and said Bunny loved back for you again. \"enguummy,\" \"Why can me might find the park?\"  His mother said, \"Be friends were excited. \"It don't feel lucky.\"\n",
      "Mama smiled and\n",
      "\n",
      "Step 51712: Performing validation\n",
      "Learning rate: 0.000427\n"
     ]
    },
    {
     "data": {
      "application/vnd.jupyter.widget-view+json": {
       "model_id": "3df7940362524313837ca5a67d9cb414",
       "version_major": 2,
       "version_minor": 0
      },
      "text/plain": [
       "  0%|          | 0/16 [00:00<?, ?it/s]"
      ]
     },
     "metadata": {},
     "output_type": "display_data"
    },
    {
     "name": "stdout",
     "output_type": "stream",
     "text": [
      "Train loss: 1.5827\n",
      "Validation loss: 1.3670\n",
      "One day, a dog named Max went outside! He had one strings and it in the kitchen and the slide. They went right and bitter tea tree and find them to see what to the boat cried, until the big mistake.\n",
      "The bus came away. The cat went\n",
      "\n",
      "Step 52224: Performing validation\n",
      "Learning rate: 0.000424\n"
     ]
    },
    {
     "data": {
      "application/vnd.jupyter.widget-view+json": {
       "model_id": "f02c25ea77f24630a43dc7d5452c5b4e",
       "version_major": 2,
       "version_minor": 0
      },
      "text/plain": [
       "  0%|          | 0/16 [00:00<?, ?it/s]"
      ]
     },
     "metadata": {},
     "output_type": "display_data"
    },
    {
     "name": "stdout",
     "output_type": "stream",
     "text": [
      "Train loss: 1.8398\n",
      "Validation loss: 1.3604\n",
      "One day, a dog named Davey. Tim loved to play with his big ball in the park. One day, she knew that day, Max thought it was very gentle, \"\n",
      "Max, Jill, he decided to play, but he could do not look for Sam\n",
      "\n",
      "Step 52736: Performing validation\n",
      "Learning rate: 0.000420\n"
     ]
    },
    {
     "data": {
      "application/vnd.jupyter.widget-view+json": {
       "model_id": "924320675ea94c37b89108e2448f51c4",
       "version_major": 2,
       "version_minor": 0
      },
      "text/plain": [
       "  0%|          | 0/16 [00:00<?, ?it/s]"
      ]
     },
     "metadata": {},
     "output_type": "display_data"
    },
    {
     "name": "stdout",
     "output_type": "stream",
     "text": [
      "Train loss: 1.4866\n",
      "Validation loss: 1.3641\n",
      "One day, a dog named Tim named Tim was playing and Max. Tim wanted to play outside. So, Tim did not like to play with Spot's plays laugh and a big slide and slide, but Sam pick turns in his, but Tim knew it up a turn\n",
      "\n",
      "Step 53248: Performing validation\n",
      "Learning rate: 0.000417\n"
     ]
    },
    {
     "data": {
      "application/vnd.jupyter.widget-view+json": {
       "model_id": "80735324dac442bca4e8ef2d5ef7a533",
       "version_major": 2,
       "version_minor": 0
      },
      "text/plain": [
       "  0%|          | 0/16 [00:00<?, ?it/s]"
      ]
     },
     "metadata": {},
     "output_type": "display_data"
    },
    {
     "name": "stdout",
     "output_type": "stream",
     "text": [
      "Train loss: 1.5836\n",
      "Validation loss: 1.3539\n",
      "One day, a dog calledPass play in the jungle. Heo saw the cake, and high. The dragon would like it. He told Tim and looked at his friend.\n",
      "\n",
      "He got the card from him. The log and didn't realise, and said,\n",
      "\n",
      "Step 53760: Performing validation\n",
      "Learning rate: 0.000413\n"
     ]
    },
    {
     "data": {
      "application/vnd.jupyter.widget-view+json": {
       "model_id": "fb3a51f2a3f94992ade0b66af80254ae",
       "version_major": 2,
       "version_minor": 0
      },
      "text/plain": [
       "  0%|          | 0/16 [00:00<?, ?it/s]"
      ]
     },
     "metadata": {},
     "output_type": "display_data"
    },
    {
     "name": "stdout",
     "output_type": "stream",
     "text": [
      "Train loss: 1.5022\n",
      "Validation loss: 1.3505\n",
      "One day, a dog named Tim. Tim loved play with his triangle that he went walk powerful jog books. Sue was quite enthusiastic hitting the snake. and Max saw many songs and Tim was being important to play with the beach. Tim threw Sam felt, sprinkled and Tim\n",
      "\n",
      "Step 54272: Performing validation\n",
      "Learning rate: 0.000410\n"
     ]
    },
    {
     "data": {
      "application/vnd.jupyter.widget-view+json": {
       "model_id": "fc841712b05e4f78b75a66c0aa0ca0a7",
       "version_major": 2,
       "version_minor": 0
      },
      "text/plain": [
       "  0%|          | 0/16 [00:00<?, ?it/s]"
      ]
     },
     "metadata": {},
     "output_type": "display_data"
    },
    {
     "name": "stdout",
     "output_type": "stream",
     "text": [
      "Train loss: 1.6451\n",
      "Validation loss: 1.3443\n",
      "One day, a dog named Tim. Tim had a fork around the park. Tim was busy outside to the pig and, and catch his family. But Tim took it was small, Tim was sore to keep his hair and Max. Tim felt very wide car. Tom didn\n",
      "\n",
      "Step 54784: Performing validation\n",
      "Learning rate: 0.000406\n"
     ]
    },
    {
     "data": {
      "application/vnd.jupyter.widget-view+json": {
       "model_id": "371c9574c5a042a38b2d6bc4aea7e609",
       "version_major": 2,
       "version_minor": 0
      },
      "text/plain": [
       "  0%|          | 0/16 [00:00<?, ?it/s]"
      ]
     },
     "metadata": {},
     "output_type": "display_data"
    },
    {
     "name": "stdout",
     "output_type": "stream",
     "text": [
      "Train loss: 1.4191\n",
      "Validation loss: 1.3344\n",
      "One day, a dog named Tim went to go outside big sun in the garden. The top of food's carrying from the peaceful marly on the grass wasn't be doing some ants harder at the me. In the birds hopped on his arms. He stopped an idea,\n",
      "\n",
      "Step 55296: Performing validation\n",
      "Learning rate: 0.000402\n"
     ]
    },
    {
     "data": {
      "application/vnd.jupyter.widget-view+json": {
       "model_id": "44235ee172384d4cbdc12d335818fe88",
       "version_major": 2,
       "version_minor": 0
      },
      "text/plain": [
       "  0%|          | 0/16 [00:00<?, ?it/s]"
      ]
     },
     "metadata": {},
     "output_type": "display_data"
    },
    {
     "name": "stdout",
     "output_type": "stream",
     "text": [
      "Train loss: 1.2932\n",
      "Validation loss: 1.3282\n",
      "One day, a dog named Tim loved to play with play with his trinkle in. One day, Sally, Tim went to the park with a big lion. He poked the big tree and it was nicer. The lion in the water.\n",
      "Later that did not at\n",
      "\n",
      "Step 55808: Performing validation\n",
      "Learning rate: 0.000399\n"
     ]
    },
    {
     "data": {
      "application/vnd.jupyter.widget-view+json": {
       "model_id": "1ea85361a0a94624bfdd1f55761f74a2",
       "version_major": 2,
       "version_minor": 0
      },
      "text/plain": [
       "  0%|          | 0/16 [00:00<?, ?it/s]"
      ]
     },
     "metadata": {},
     "output_type": "display_data"
    },
    {
     "name": "stdout",
     "output_type": "stream",
     "text": [
      "Train loss: 1.4178\n",
      "Validation loss: 1.3218\n",
      "One day, a dog. Daddy saw a lot of little family. The dog smiled Max got mad for a big wind along the cat. The dog thought it was very happy to swim, or find it. Tim was hungry. He walked up to laugh. Jack gave them\n",
      "\n",
      "Step 56320: Performing validation\n",
      "Learning rate: 0.000395\n"
     ]
    },
    {
     "data": {
      "application/vnd.jupyter.widget-view+json": {
       "model_id": "35338b5d34d1459cb5c5ecb8594bebc9",
       "version_major": 2,
       "version_minor": 0
      },
      "text/plain": [
       "  0%|          | 0/16 [00:00<?, ?it/s]"
      ]
     },
     "metadata": {},
     "output_type": "display_data"
    },
    {
     "name": "stdout",
     "output_type": "stream",
     "text": [
      "Train loss: 1.4540\n",
      "Validation loss: 1.3219\n",
      "One day, a dog named Tim went for the park. Tim was playing with his yellow ball, but he asked Sam wanted to play with his tail.\n",
      "\n",
      "One day, the dog came to see. Sam keep him see something special ball and cool bear and everyone who\n",
      "\n",
      "Step 56832: Performing validation\n",
      "Learning rate: 0.000391\n"
     ]
    },
    {
     "data": {
      "application/vnd.jupyter.widget-view+json": {
       "model_id": "623fb9cd379e4b1d84ebd178809a0e1e",
       "version_major": 2,
       "version_minor": 0
      },
      "text/plain": [
       "  0%|          | 0/16 [00:00<?, ?it/s]"
      ]
     },
     "metadata": {},
     "output_type": "display_data"
    },
    {
     "name": "stdout",
     "output_type": "stream",
     "text": [
      "Train loss: 1.3518\n",
      "Validation loss: 1.3359\n",
      "One day, a dog named Tim went to a big car. Tim's mom went a big Spot. He and Lily loved to play with his bathman with him. He watched the dog, but they were outside to pull the ball.\n",
      "Mom came to clean instructions and\n",
      "\n",
      "Step 57344: Performing validation\n",
      "Learning rate: 0.000388\n"
     ]
    },
    {
     "data": {
      "application/vnd.jupyter.widget-view+json": {
       "model_id": "4ffd4aa63ba2443f861ff0fa5088a607",
       "version_major": 2,
       "version_minor": 0
      },
      "text/plain": [
       "  0%|          | 0/16 [00:00<?, ?it/s]"
      ]
     },
     "metadata": {},
     "output_type": "display_data"
    },
    {
     "name": "stdout",
     "output_type": "stream",
     "text": [
      "Train loss: 1.5338\n",
      "Validation loss: 1.3138\n",
      "One day, a dog went high forest with a big boat. The dog went down a red kanda. It was the cat on the storm brave. The fly alone of a bath. The ball and it They were so fast.\n",
      "\n",
      "Tim had been free and tunnels\n",
      "\n",
      "Step 57856: Performing validation\n",
      "Learning rate: 0.000384\n"
     ]
    },
    {
     "data": {
      "application/vnd.jupyter.widget-view+json": {
       "model_id": "0ea82aa1db3f448f8d65f26a1cc502de",
       "version_major": 2,
       "version_minor": 0
      },
      "text/plain": [
       "  0%|          | 0/16 [00:00<?, ?it/s]"
      ]
     },
     "metadata": {},
     "output_type": "display_data"
    },
    {
     "name": "stdout",
     "output_type": "stream",
     "text": [
      "Train loss: 1.3510\n",
      "Validation loss: 1.3173\n",
      "One day, a dog named Timmy went to the beach. Timmy saw a treasure friend asked. Timmy Timmy's dad said, \"IEEP that you?\" Timmy said.Then, Timmy said permission. Billy saw for a rock. He wanted a\n",
      "\n",
      "Step 58368: Performing validation\n",
      "Learning rate: 0.000380\n"
     ]
    },
    {
     "data": {
      "application/vnd.jupyter.widget-view+json": {
       "model_id": "97287a1efe7a421e94868a6ea0eb92f0",
       "version_major": 2,
       "version_minor": 0
      },
      "text/plain": [
       "  0%|          | 0/16 [00:00<?, ?it/s]"
      ]
     },
     "metadata": {},
     "output_type": "display_data"
    },
    {
     "name": "stdout",
     "output_type": "stream",
     "text": [
      "Train loss: 1.3939\n",
      "Validation loss: 1.3036\n",
      "One day, a dog named Tim liked to play on a small tree. One day, Tim heard a big, Tim was in a big tests. Tim saw a new toy car. Tim thought it was weak. Billy. Tim read him and wanted to pet Mom. Tim\n",
      "\n",
      "Step 58880: Performing validation\n",
      "Learning rate: 0.000377\n"
     ]
    },
    {
     "data": {
      "application/vnd.jupyter.widget-view+json": {
       "model_id": "e94f23bec8ae400f95a75cc0baf003f7",
       "version_major": 2,
       "version_minor": 0
      },
      "text/plain": [
       "  0%|          | 0/16 [00:00<?, ?it/s]"
      ]
     },
     "metadata": {},
     "output_type": "display_data"
    },
    {
     "name": "stdout",
     "output_type": "stream",
     "text": [
      "Train loss: 1.4527\n",
      "Validation loss: 1.2989\n",
      "One day, a dog named Max wanted to play with his dad. Max saw a hole every day there felt bigger with his birthday. He wanted to the ground and thought it was carefully. Sue and his more candy.\n",
      "\n",
      "They saw a game. But when you.\n",
      "\n",
      "Step 59392: Performing validation\n",
      "Learning rate: 0.000373\n"
     ]
    },
    {
     "data": {
      "application/vnd.jupyter.widget-view+json": {
       "model_id": "6a34a5012b6d4677aebde5076601a108",
       "version_major": 2,
       "version_minor": 0
      },
      "text/plain": [
       "  0%|          | 0/16 [00:00<?, ?it/s]"
      ]
     },
     "metadata": {},
     "output_type": "display_data"
    },
    {
     "name": "stdout",
     "output_type": "stream",
     "text": [
      "Train loss: 1.4406\n",
      "Validation loss: 1.2942\n",
      "One day, a dog called Tom were playing to watch a market. One day, Tim did not want to see ifœL don't want to play together nose.\" \n",
      "Hey, Tim ran, they got at the park and set, feeling sad. Tim searched\n",
      "\n",
      "Step 59904: Performing validation\n",
      "Learning rate: 0.000369\n"
     ]
    },
    {
     "data": {
      "application/vnd.jupyter.widget-view+json": {
       "model_id": "0359949f716c438280c7b4ecdf148a7b",
       "version_major": 2,
       "version_minor": 0
      },
      "text/plain": [
       "  0%|          | 0/16 [00:00<?, ?it/s]"
      ]
     },
     "metadata": {},
     "output_type": "display_data"
    },
    {
     "name": "stdout",
     "output_type": "stream",
     "text": [
      "Train loss: 1.6497\n",
      "Validation loss: 1.2943\n",
      "One day, a dog went with a red park. Whenever he was so happy to his. He was walking, but he took a big one day, he made his green box with stumble to the swings. It chautbles wore a cat mountain on his snow driver.\n",
      "\n",
      "Step 60416: Performing validation\n",
      "Learning rate: 0.000366\n"
     ]
    },
    {
     "data": {
      "application/vnd.jupyter.widget-view+json": {
       "model_id": "4779808db684417a92ba7bd22963e1c2",
       "version_major": 2,
       "version_minor": 0
      },
      "text/plain": [
       "  0%|          | 0/16 [00:00<?, ?it/s]"
      ]
     },
     "metadata": {},
     "output_type": "display_data"
    },
    {
     "name": "stdout",
     "output_type": "stream",
     "text": [
      "Train loss: 1.5528\n",
      "Validation loss: 1.2896\n",
      "One day, a dog named Sue are playing with a special house. They put their dog. Max had a tidy and wanted to play with it!\n",
      "\n",
      "Their mom. Spot and Mia swing, Sam's bags. Spot had a very happy in her friends.\n",
      "\n",
      "\n",
      "\n",
      "Step 60928: Performing validation\n",
      "Learning rate: 0.000362\n"
     ]
    },
    {
     "data": {
      "application/vnd.jupyter.widget-view+json": {
       "model_id": "5fd3567266be408c85e07b509aaf310c",
       "version_major": 2,
       "version_minor": 0
      },
      "text/plain": [
       "  0%|          | 0/16 [00:00<?, ?it/s]"
      ]
     },
     "metadata": {},
     "output_type": "display_data"
    },
    {
     "name": "stdout",
     "output_type": "stream",
     "text": [
      "Train loss: 1.2490\n",
      "Validation loss: 1.2813\n",
      "One day, a dog named Joe liked to play playing and climb look, down. Today, he went to the ball on the ball. Jack and he said, \"I play a subway. I should remember to ask your new chest.\"\n",
      "\n",
      "Sam nodded and saw sand\n",
      "\n",
      "Step 61440: Performing validation\n",
      "Learning rate: 0.000358\n"
     ]
    },
    {
     "data": {
      "application/vnd.jupyter.widget-view+json": {
       "model_id": "268b09a96bf44641894f3f1befa13d27",
       "version_major": 2,
       "version_minor": 0
      },
      "text/plain": [
       "  0%|          | 0/16 [00:00<?, ?it/s]"
      ]
     },
     "metadata": {},
     "output_type": "display_data"
    },
    {
     "name": "stdout",
     "output_type": "stream",
     "text": [
      "Train loss: 1.3594\n",
      "Validation loss: 1.2782\n",
      "One day, a dog. Tim liked to play with his nose. One day, Tim ran to play with his mom and wanted to go inside. Tim felt a please. \n",
      "Tim tried to play with his dad who Snowy to the ball. It was frustrated and\n",
      "\n",
      "Step 61952: Performing validation\n",
      "Learning rate: 0.000354\n"
     ]
    },
    {
     "data": {
      "application/vnd.jupyter.widget-view+json": {
       "model_id": "fe17e56dcfad4b6d9131428d0741fba1",
       "version_major": 2,
       "version_minor": 0
      },
      "text/plain": [
       "  0%|          | 0/16 [00:00<?, ?it/s]"
      ]
     },
     "metadata": {},
     "output_type": "display_data"
    },
    {
     "name": "stdout",
     "output_type": "stream",
     "text": [
      "Train loss: 1.6294\n",
      "Validation loss: 1.2718\n",
      "One day, a dog, a boy named Timmy. Timmy was playing in the puppy. He loved to go to rake to the park.\n",
      "\n",
      "Timmy and Timmy met a little boy. Timmy had a cute monster stuck in in the park. Tom\n",
      "\n",
      "Step 62464: Performing validation\n",
      "Learning rate: 0.000350\n"
     ]
    },
    {
     "data": {
      "application/vnd.jupyter.widget-view+json": {
       "model_id": "bdb1dd02ac72434a90963331712323a6",
       "version_major": 2,
       "version_minor": 0
      },
      "text/plain": [
       "  0%|          | 0/16 [00:00<?, ?it/s]"
      ]
     },
     "metadata": {},
     "output_type": "display_data"
    },
    {
     "name": "stdout",
     "output_type": "stream",
     "text": [
      "Train loss: 1.2229\n",
      "Validation loss: 1.2664\n",
      "One day, a dog named Timie. Tim loved to play with his window. One day, Tim had lots of a red ball on the park towards the box and barked and saw a tree.Mom told his ball. Tim, \"No,'s Tim, please\n",
      "\n",
      "Step 62976: Performing validation\n",
      "Learning rate: 0.000347\n"
     ]
    },
    {
     "data": {
      "application/vnd.jupyter.widget-view+json": {
       "model_id": "a6b96e0283604986bf674a2a71e67248",
       "version_major": 2,
       "version_minor": 0
      },
      "text/plain": [
       "  0%|          | 0/16 [00:00<?, ?it/s]"
      ]
     },
     "metadata": {},
     "output_type": "display_data"
    },
    {
     "name": "stdout",
     "output_type": "stream",
     "text": [
      "Train loss: 1.3989\n",
      "Validation loss: 1.2624\n",
      "One day, a dog named Toby. Tim wanted to read music. Olivia loved playing with Bob for his mom and read interesting. It was a lot of furniture and daddy were curious. After a favorite things. His mom saw their mom liked to raise the window.\n",
      "\n",
      "\n",
      "\n",
      "Step 63488: Performing validation\n",
      "Learning rate: 0.000343\n"
     ]
    },
    {
     "data": {
      "application/vnd.jupyter.widget-view+json": {
       "model_id": "3f1c4c4f9718440c93bd04205ac5485a",
       "version_major": 2,
       "version_minor": 0
      },
      "text/plain": [
       "  0%|          | 0/16 [00:00<?, ?it/s]"
      ]
     },
     "metadata": {},
     "output_type": "display_data"
    },
    {
     "name": "stdout",
     "output_type": "stream",
     "text": [
      "Train loss: 1.3711\n",
      "Validation loss: 1.2567\n",
      "One day, a dog called Tim went to a park with her thin taxi in the elevator. He ran to the sun. Tim did not climb his nose every time from the fence and daddy started to the favorite house. He couldn't recognize the barn.\n",
      "\n",
      "One day\n",
      "\n",
      "Step 64000: Performing validation\n",
      "Learning rate: 0.000339\n"
     ]
    },
    {
     "data": {
      "application/vnd.jupyter.widget-view+json": {
       "model_id": "51a7c5b075434ec2a3e1997d69ec9308",
       "version_major": 2,
       "version_minor": 0
      },
      "text/plain": [
       "  0%|          | 0/16 [00:00<?, ?it/s]"
      ]
     },
     "metadata": {},
     "output_type": "display_data"
    },
    {
     "name": "stdout",
     "output_type": "stream",
     "text": [
      "Train loss: 1.3716\n",
      "Validation loss: 1.2519\n",
      "One day, a dog named Tim saw a coat. He wanted to bring sand. In the dirt balloon was stuck in the freezer. He was so loud noise. Tim went into the nut fly gold. His mom was the bread and ran, but it fell off the sand\n",
      "\n",
      "Step 64512: Performing validation\n",
      "Learning rate: 0.000335\n"
     ]
    },
    {
     "data": {
      "application/vnd.jupyter.widget-view+json": {
       "model_id": "868abdc1702c42e68f93e68be6667e3d",
       "version_major": 2,
       "version_minor": 0
      },
      "text/plain": [
       "  0%|          | 0/16 [00:00<?, ?it/s]"
      ]
     },
     "metadata": {},
     "output_type": "display_data"
    },
    {
     "name": "stdout",
     "output_type": "stream",
     "text": [
      "Train loss: 1.3517\n",
      "Validation loss: 1.2529\n",
      "One day, a dog named Benny was very gifted. He was very happy friends, and Sam. History went on his backpack to eat kick it. He looked like him. He thought the bench and said but they should not listen to try his toy. \n",
      "Joe kept\n",
      "\n",
      "Step 65024: Performing validation\n",
      "Learning rate: 0.000331\n"
     ]
    },
    {
     "data": {
      "application/vnd.jupyter.widget-view+json": {
       "model_id": "72773fd792fe4c7e8bc63278ec2a2bf0",
       "version_major": 2,
       "version_minor": 0
      },
      "text/plain": [
       "  0%|          | 0/16 [00:00<?, ?it/s]"
      ]
     },
     "metadata": {},
     "output_type": "display_data"
    },
    {
     "name": "stdout",
     "output_type": "stream",
     "text": [
      "Train loss: 1.4812\n",
      "Validation loss: 1.2480\n",
      "One day, a dog who lived in a big pond. The cat was very lonely. They liked to play for it with the toy.\n",
      "\n",
      "The cat offered to do catch it. It was a big and her warm track. The ball was busy. The branches and\n",
      "\n",
      "Step 65536: Performing validation\n",
      "Learning rate: 0.000328\n"
     ]
    },
    {
     "data": {
      "application/vnd.jupyter.widget-view+json": {
       "model_id": "717bece5c48147fe95977904188db02e",
       "version_major": 2,
       "version_minor": 0
      },
      "text/plain": [
       "  0%|          | 0/16 [00:00<?, ?it/s]"
      ]
     },
     "metadata": {},
     "output_type": "display_data"
    },
    {
     "name": "stdout",
     "output_type": "stream",
     "text": [
      "Train loss: 1.4008\n",
      "Validation loss: 1.2400\n",
      "One day, a dog named Tom loved to the park on the slide. They went to the sweet and the swings. He ran into the swing and saw a lot of water. He liked her mom and puddle. Now, \"Max, \"Yes, Mom, that\n",
      "\n",
      "Step 66048: Performing validation\n",
      "Learning rate: 0.000324\n"
     ]
    },
    {
     "data": {
      "application/vnd.jupyter.widget-view+json": {
       "model_id": "31179337e12d4c5ea7d709b863e1e3ed",
       "version_major": 2,
       "version_minor": 0
      },
      "text/plain": [
       "  0%|          | 0/16 [00:00<?, ?it/s]"
      ]
     },
     "metadata": {},
     "output_type": "display_data"
    },
    {
     "name": "stdout",
     "output_type": "stream",
     "text": [
      "Train loss: 1.2403\n",
      "Validation loss: 1.2358\n",
      "One day, a dog named Max was very happy. He wondered that day, Spot loved to play with his knee. Tom's mom asked Max what he looked at Tom like. One day, Sam said, \"Max is my dog!\" His mom asked his mom. \"\n",
      "\n",
      "Step 66560: Performing validation\n",
      "Learning rate: 0.000320\n"
     ]
    },
    {
     "data": {
      "application/vnd.jupyter.widget-view+json": {
       "model_id": "b3ba45c8b7594cb2862010a72ec994f2",
       "version_major": 2,
       "version_minor": 0
      },
      "text/plain": [
       "  0%|          | 0/16 [00:00<?, ?it/s]"
      ]
     },
     "metadata": {},
     "output_type": "display_data"
    },
    {
     "name": "stdout",
     "output_type": "stream",
     "text": [
      "Train loss: 1.2687\n",
      "Validation loss: 1.2335\n",
      "One day, a dog named Tom went to the park. It was a big red dog named Sue came. The dog and loved to be fun. Sam and they were very fast. Jack climbed over to the dog further than the owner, often for the dog. Max saw\n",
      "\n",
      "Step 67072: Performing validation\n",
      "Learning rate: 0.000316\n"
     ]
    },
    {
     "data": {
      "application/vnd.jupyter.widget-view+json": {
       "model_id": "fd47ecb365c64148b48c6efa55056bec",
       "version_major": 2,
       "version_minor": 0
      },
      "text/plain": [
       "  0%|          | 0/16 [00:00<?, ?it/s]"
      ]
     },
     "metadata": {},
     "output_type": "display_data"
    },
    {
     "name": "stdout",
     "output_type": "stream",
     "text": [
      "Train loss: 1.2337\n",
      "Validation loss: 1.2307\n",
      "One day, a dog named Tim went in the park. Tim's baby loved to see bugs and feel purged on her bike show them. Tim was excited of dirt and tried to share his microscope. Tim was very sad to play outside his friend, but it was sitting\n",
      "\n",
      "Step 67584: Performing validation\n",
      "Learning rate: 0.000312\n"
     ]
    },
    {
     "data": {
      "application/vnd.jupyter.widget-view+json": {
       "model_id": "f54d505129b348b38cf09fbe716925a9",
       "version_major": 2,
       "version_minor": 0
      },
      "text/plain": [
       "  0%|          | 0/16 [00:00<?, ?it/s]"
      ]
     },
     "metadata": {},
     "output_type": "display_data"
    },
    {
     "name": "stdout",
     "output_type": "stream",
     "text": [
      "Train loss: 1.1741\n",
      "Validation loss: 1.2239\n",
      "One day, a dog named Sue went in the park with his mom. He started to play games, but he saw a bee. Lily was long that it started to fly. So, Tim found that he saw a cricket.\n",
      "\n",
      "He took him a skeleton on the\n",
      "\n",
      "Step 68096: Performing validation\n",
      "Learning rate: 0.000308\n"
     ]
    },
    {
     "data": {
      "application/vnd.jupyter.widget-view+json": {
       "model_id": "46249d50f2a540739745e975f442c70e",
       "version_major": 2,
       "version_minor": 0
      },
      "text/plain": [
       "  0%|          | 0/16 [00:00<?, ?it/s]"
      ]
     },
     "metadata": {},
     "output_type": "display_data"
    },
    {
     "name": "stdout",
     "output_type": "stream",
     "text": [
      "Train loss: 1.3274\n",
      "Validation loss: 1.2240\n",
      "One day, a dog named Flo went at the mall. They saw a big slide off to go. Billy were sad because it was too longer scared because it was scared.\n",
      "\n",
      "ily's mom smiled and ate the end of rice under awe. She then, then\n",
      "\n",
      "Step 68608: Performing validation\n",
      "Learning rate: 0.000305\n"
     ]
    },
    {
     "data": {
      "application/vnd.jupyter.widget-view+json": {
       "model_id": "5238d1d9c3014bb3929e1ccee434055f",
       "version_major": 2,
       "version_minor": 0
      },
      "text/plain": [
       "  0%|          | 0/16 [00:00<?, ?it/s]"
      ]
     },
     "metadata": {},
     "output_type": "display_data"
    },
    {
     "name": "stdout",
     "output_type": "stream",
     "text": [
      "Train loss: 1.3022\n",
      "Validation loss: 1.2167\n",
      "One day, a dog named Mark seemed to others in a store with his mom. They were so sad and look.\n",
      "\n",
      "One day, the car started to the park. Untilily's mom cried and said, \"Hello, do that?\"\n",
      "\n",
      "As the car\n",
      "\n",
      "Step 69120: Performing validation\n",
      "Learning rate: 0.000301\n"
     ]
    },
    {
     "data": {
      "application/vnd.jupyter.widget-view+json": {
       "model_id": "03efe474a3f944b2aeea4bb15577ab1c",
       "version_major": 2,
       "version_minor": 0
      },
      "text/plain": [
       "  0%|          | 0/16 [00:00<?, ?it/s]"
      ]
     },
     "metadata": {},
     "output_type": "display_data"
    },
    {
     "name": "stdout",
     "output_type": "stream",
     "text": [
      "Train loss: 1.4976\n",
      "Validation loss: 1.2104\n",
      "One day, a dog named Max and a look around. Max went outside, and played together. Tim and Spot went to the hospital in the Tim. He wanted to quit, but play in the market. Tim dipped gently's family there is a walk and faster.\n",
      "\n",
      "Step 69632: Performing validation\n",
      "Learning rate: 0.000297\n"
     ]
    },
    {
     "data": {
      "application/vnd.jupyter.widget-view+json": {
       "model_id": "2f58c6c7744143b2bc3cb280276c591f",
       "version_major": 2,
       "version_minor": 0
      },
      "text/plain": [
       "  0%|          | 0/16 [00:00<?, ?it/s]"
      ]
     },
     "metadata": {},
     "output_type": "display_data"
    },
    {
     "name": "stdout",
     "output_type": "stream",
     "text": [
      "Train loss: 1.5156\n",
      "Validation loss: 1.2074\n",
      "One day, a dog named Sam went outside to animals. She pushed a tree in the dog. Tim and Sam wanted to try to climb the tree. Max saw the tree inside! Lucy was so sad, called trouble.\n",
      "\n",
      "Timmy took Max and closed her a\n",
      "\n",
      "Step 70144: Performing validation\n",
      "Learning rate: 0.000293\n"
     ]
    },
    {
     "data": {
      "application/vnd.jupyter.widget-view+json": {
       "model_id": "b6ba5679e3b34c5daa412f6f4040620e",
       "version_major": 2,
       "version_minor": 0
      },
      "text/plain": [
       "  0%|          | 0/16 [00:00<?, ?it/s]"
      ]
     },
     "metadata": {},
     "output_type": "display_data"
    },
    {
     "name": "stdout",
     "output_type": "stream",
     "text": [
      "Train loss: 1.3817\n",
      "Validation loss: 1.2015\n",
      "One day, a dog named Sam wanted to play with his homes. Tim was a green boot with his car float in the snow. Mark was cold and sat on the yard. Tim gave him the carrots that he wished he could help him. Sam was very much better too\n",
      "\n",
      "Step 70656: Performing validation\n",
      "Learning rate: 0.000289\n"
     ]
    },
    {
     "data": {
      "application/vnd.jupyter.widget-view+json": {
       "model_id": "88c744eab272468e94ed6696e4dcc4e2",
       "version_major": 2,
       "version_minor": 0
      },
      "text/plain": [
       "  0%|          | 0/16 [00:00<?, ?it/s]"
      ]
     },
     "metadata": {},
     "output_type": "display_data"
    },
    {
     "name": "stdout",
     "output_type": "stream",
     "text": [
      "Train loss: 1.2896\n",
      "Validation loss: 1.2004\n",
      "One day, a dog named Tim never to play outside in your garden. They found something yummy and make it. Sam wanted to use breaking it. He asked Max, Luna, \"Can I swim Jerry?\" His friend nodded. \"Tom replied. You are fun.\"\n",
      "\n",
      "Step 71168: Performing validation\n",
      "Learning rate: 0.000285\n"
     ]
    },
    {
     "data": {
      "application/vnd.jupyter.widget-view+json": {
       "model_id": "0afcebea34084098950df0dabc3fb0da",
       "version_major": 2,
       "version_minor": 0
      },
      "text/plain": [
       "  0%|          | 0/16 [00:00<?, ?it/s]"
      ]
     },
     "metadata": {},
     "output_type": "display_data"
    },
    {
     "name": "stdout",
     "output_type": "stream",
     "text": [
      "Train loss: 1.1420\n",
      "Validation loss: 1.1979\n",
      "One day, a dog named Timmy went a river. Spot ran over to run and seek.\n",
      " Spot did not this dog was very ready to his went to run. he saw his dog, and saw a cooler. Spot wanted to count. The dog cross and tried\n",
      "\n",
      "Step 71680: Performing validation\n",
      "Learning rate: 0.000282\n"
     ]
    },
    {
     "data": {
      "application/vnd.jupyter.widget-view+json": {
       "model_id": "e84c818a72c647e79f12b3e32d53db00",
       "version_major": 2,
       "version_minor": 0
      },
      "text/plain": [
       "  0%|          | 0/16 [00:00<?, ?it/s]"
      ]
     },
     "metadata": {},
     "output_type": "display_data"
    },
    {
     "name": "stdout",
     "output_type": "stream",
     "text": [
      "Train loss: 1.0813\n",
      "Validation loss: 1.2025\n",
      "One day, a dog named Grand kitten. Tom was very sad. His sister loved to play with Max. One day, Max followed him. He ran him and went back with Lily.\n",
      "\n",
      "Mom played together. She brought him a plan. He gave Max panda\n",
      "\n",
      "Step 72192: Performing validation\n",
      "Learning rate: 0.000278\n"
     ]
    },
    {
     "data": {
      "application/vnd.jupyter.widget-view+json": {
       "model_id": "1607a6268ffe4420bd46b6daede02825",
       "version_major": 2,
       "version_minor": 0
      },
      "text/plain": [
       "  0%|          | 0/16 [00:00<?, ?it/s]"
      ]
     },
     "metadata": {},
     "output_type": "display_data"
    },
    {
     "name": "stdout",
     "output_type": "stream",
     "text": [
      "Train loss: 1.4427\n",
      "Validation loss: 1.1965\n",
      "One day, a dog named Tim would go ink. Tim promised to eat carrots. Tim's friend went to his toy car. Tim was happy when he decided to play with his toy car. Tim always gone. Tim felt happy, Lily didn't have a nose in the\n",
      "\n",
      "Step 72704: Performing validation\n",
      "Learning rate: 0.000274\n"
     ]
    },
    {
     "data": {
      "application/vnd.jupyter.widget-view+json": {
       "model_id": "0426c43b18714d5d9b16d39685d0183f",
       "version_major": 2,
       "version_minor": 0
      },
      "text/plain": [
       "  0%|          | 0/16 [00:00<?, ?it/s]"
      ]
     },
     "metadata": {},
     "output_type": "display_data"
    },
    {
     "name": "stdout",
     "output_type": "stream",
     "text": [
      "Train loss: 1.2008\n",
      "Validation loss: 1.1909\n",
      "One day, a dog called a hay. He always practipto wanted to show it around the rod. Tweetie clapped every day. She watched him up and went back outside the helicopter inside carefully! When they, the hallway were arguing too much fun new friend never\n",
      "\n",
      "Step 73216: Performing validation\n",
      "Learning rate: 0.000270\n"
     ]
    },
    {
     "data": {
      "application/vnd.jupyter.widget-view+json": {
       "model_id": "db5785e789f0463e96769ed0bce31441",
       "version_major": 2,
       "version_minor": 0
      },
      "text/plain": [
       "  0%|          | 0/16 [00:00<?, ?it/s]"
      ]
     },
     "metadata": {},
     "output_type": "display_data"
    },
    {
     "name": "stdout",
     "output_type": "stream",
     "text": [
      "Train loss: 1.3658\n",
      "Validation loss: 1.1862\n",
      "One day, a dog named Tim went to go over to the park. They saw the dog, and Max loved a big dog. He liked to play with his friends. Tim and run, but then, Bob was scared. So, he saw something about swimming. Mum\n",
      "\n",
      "Step 73728: Performing validation\n",
      "Learning rate: 0.000266\n"
     ]
    },
    {
     "data": {
      "application/vnd.jupyter.widget-view+json": {
       "model_id": "b5189245ed6e440a9c08c3d2d128ad94",
       "version_major": 2,
       "version_minor": 0
      },
      "text/plain": [
       "  0%|          | 0/16 [00:00<?, ?it/s]"
      ]
     },
     "metadata": {},
     "output_type": "display_data"
    },
    {
     "name": "stdout",
     "output_type": "stream",
     "text": [
      "Train loss: 1.4287\n",
      "Validation loss: 1.1823\n",
      "One day, a dog named Max and Sam went to the park. They saw a noise on a carrot and playing together. \n",
      "\"Can wash, into a wire. The Remy asked.\n",
      "\n",
      "\"Wow, you are not need it to go!\" Tim said.\n",
      "\n",
      "Step 74240: Performing validation\n",
      "Learning rate: 0.000263\n"
     ]
    },
    {
     "data": {
      "application/vnd.jupyter.widget-view+json": {
       "model_id": "98713eac011e4ed2b3eab0091ba924de",
       "version_major": 2,
       "version_minor": 0
      },
      "text/plain": [
       "  0%|          | 0/16 [00:00<?, ?it/s]"
      ]
     },
     "metadata": {},
     "output_type": "display_data"
    },
    {
     "name": "stdout",
     "output_type": "stream",
     "text": [
      "Train loss: 1.3809\n",
      "Validation loss: 1.1765\n",
      "One day, a dog named Timmy was chubby big bone. The owner went to the food and sail. Suddenly, Timmy saw a door. He was so excited to grab his tree. They climbed the ground. Timmy knew that was too fast. The bear\n",
      "\n",
      "Step 74752: Performing validation\n",
      "Learning rate: 0.000259\n"
     ]
    },
    {
     "data": {
      "application/vnd.jupyter.widget-view+json": {
       "model_id": "1d5744e1881f4d8b950f5ce1f2fa4f2d",
       "version_major": 2,
       "version_minor": 0
      },
      "text/plain": [
       "  0%|          | 0/16 [00:00<?, ?it/s]"
      ]
     },
     "metadata": {},
     "output_type": "display_data"
    },
    {
     "name": "stdout",
     "output_type": "stream",
     "text": [
      "Train loss: 1.1909\n",
      "Validation loss: 1.1734\n",
      "One day, a dog named Tom. Sam loved playing outside. One day, Max was playing with his friend, Max's friends. Mark laughed and wagging Billy loved counting until Fin saw a hat. The dog was snow truck fell and ran away. He had so much\n",
      "\n",
      "Step 75264: Performing validation\n",
      "Learning rate: 0.000255\n"
     ]
    },
    {
     "data": {
      "application/vnd.jupyter.widget-view+json": {
       "model_id": "7d0a829b44e64e16ab2a0912ca1bc54d",
       "version_major": 2,
       "version_minor": 0
      },
      "text/plain": [
       "  0%|          | 0/16 [00:00<?, ?it/s]"
      ]
     },
     "metadata": {},
     "output_type": "display_data"
    },
    {
     "name": "stdout",
     "output_type": "stream",
     "text": [
      "Train loss: 1.2835\n",
      "Validation loss: 1.1680\n",
      "One day, a dog named Bob had an envelope with his mom. Max was learning to play with his toy toy up his friend, and his friends. Dog broke against the garden, and ran off. He thought he didn't listen to his.\n",
      "\n",
      "After marry him\n",
      "\n",
      "Step 75776: Performing validation\n",
      "Learning rate: 0.000251\n"
     ]
    },
    {
     "data": {
      "application/vnd.jupyter.widget-view+json": {
       "model_id": "d156bd28a07449abadb3b3e8c9e0fa38",
       "version_major": 2,
       "version_minor": 0
      },
      "text/plain": [
       "  0%|          | 0/16 [00:00<?, ?it/s]"
      ]
     },
     "metadata": {},
     "output_type": "display_data"
    },
    {
     "name": "stdout",
     "output_type": "stream",
     "text": [
      "Train loss: 1.4435\n",
      "Validation loss: 1.1665\n",
      "One day, a dog and his dog in the dog moved further. Tom thought to tell him.\n",
      "\n",
      "Jack was crying because she felt sad and angry. He became scared and decided to help him too far away.\n",
      "But Ben heard a voice. He ran to the\n",
      "\n",
      "Step 76288: Performing validation\n",
      "Learning rate: 0.000247\n"
     ]
    },
    {
     "data": {
      "application/vnd.jupyter.widget-view+json": {
       "model_id": "584ad456e9df4da8b60704d076ba0494",
       "version_major": 2,
       "version_minor": 0
      },
      "text/plain": [
       "  0%|          | 0/16 [00:00<?, ?it/s]"
      ]
     },
     "metadata": {},
     "output_type": "display_data"
    },
    {
     "name": "stdout",
     "output_type": "stream",
     "text": [
      "Train loss: 1.2846\n",
      "Validation loss: 1.1633\n",
      "One day, a dog named Sue went to the park with the park. One day, they came to see the slide. The owner said, \"I have a whip?\" Ben were troubled. When they watched them! Mia's mom and ran to run. Sue felt sad\n",
      "\n",
      "Step 76800: Performing validation\n",
      "Learning rate: 0.000244\n"
     ]
    },
    {
     "data": {
      "application/vnd.jupyter.widget-view+json": {
       "model_id": "6b490d54d277427587d39bf44b4e8900",
       "version_major": 2,
       "version_minor": 0
      },
      "text/plain": [
       "  0%|          | 0/16 [00:00<?, ?it/s]"
      ]
     },
     "metadata": {},
     "output_type": "display_data"
    },
    {
     "name": "stdout",
     "output_type": "stream",
     "text": [
      "Train loss: 1.3898\n",
      "Validation loss: 1.1627\n",
      "One day, a dog named a big dog named Max had a big named Spot before girl named Bob. Max was very sad because Sam. Max loved Tim nodding not know. Max looked very fast because Sam saw Lily saw Teddy learned. Max was very much he had his bone\n",
      "\n",
      "Step 77312: Performing validation\n",
      "Learning rate: 0.000240\n"
     ]
    },
    {
     "data": {
      "application/vnd.jupyter.widget-view+json": {
       "model_id": "62b13e77267c42f484728718057337ee",
       "version_major": 2,
       "version_minor": 0
      },
      "text/plain": [
       "  0%|          | 0/16 [00:00<?, ?it/s]"
      ]
     },
     "metadata": {},
     "output_type": "display_data"
    },
    {
     "name": "stdout",
     "output_type": "stream",
     "text": [
      "Train loss: 1.0942\n",
      "Validation loss: 1.1564\n",
      "One day, a dog named Tim loved to play many sunny day. One day, he saw a big note in the nearby mud on the slide. The ground was the puddle. The dog's mom and Lily wanted to catch his mom. Tim always to find the wheels\n",
      "\n",
      "Step 77824: Performing validation\n",
      "Learning rate: 0.000236\n"
     ]
    },
    {
     "data": {
      "application/vnd.jupyter.widget-view+json": {
       "model_id": "af2b6a5082ce458c90bb430ec46f4875",
       "version_major": 2,
       "version_minor": 0
      },
      "text/plain": [
       "  0%|          | 0/16 [00:00<?, ?it/s]"
      ]
     },
     "metadata": {},
     "output_type": "display_data"
    },
    {
     "name": "stdout",
     "output_type": "stream",
     "text": [
      "Train loss: 1.3736\n",
      "Validation loss: 1.1524\n",
      "One day, a dog named Joe lived in a big garden together. He saw a red barked from the park. The minerals came closer and started running around the swings.\n",
      "\n",
      "One day, him were having fun. But the sun was a big, big and dark\n",
      "\n",
      "Step 78336: Performing validation\n",
      "Learning rate: 0.000232\n"
     ]
    },
    {
     "data": {
      "application/vnd.jupyter.widget-view+json": {
       "model_id": "8bb060ce71464b959754e4c8590a1c17",
       "version_major": 2,
       "version_minor": 0
      },
      "text/plain": [
       "  0%|          | 0/16 [00:00<?, ?it/s]"
      ]
     },
     "metadata": {},
     "output_type": "display_data"
    },
    {
     "name": "stdout",
     "output_type": "stream",
     "text": [
      "Train loss: 1.1748\n",
      "Validation loss: 1.1532\n",
      "One day, a dog named Tim and his mom went to the swings. So, he met a bit old dog named Tim wanted to race. Sam tried to play in the bin. Tim tried on his mom.\n",
      "\n",
      "\"What's wrong. But this! I don\n",
      "\n",
      "Step 78848: Performing validation\n",
      "Learning rate: 0.000229\n"
     ]
    },
    {
     "data": {
      "application/vnd.jupyter.widget-view+json": {
       "model_id": "2f190b3b09344d5d920e1c95a973ee21",
       "version_major": 2,
       "version_minor": 0
      },
      "text/plain": [
       "  0%|          | 0/16 [00:00<?, ?it/s]"
      ]
     },
     "metadata": {},
     "output_type": "display_data"
    },
    {
     "name": "stdout",
     "output_type": "stream",
     "text": [
      "Train loss: 1.2375\n",
      "Validation loss: 1.1464\n",
      "One day, a dog named Max wanted to go hide when she saw an idea. The dog was very harsh and scared. Max wanted to feel sad. \n",
      "\n",
      "Tom told him about the owner then and Max went to find a place to the dog. They both cl\n",
      "\n",
      "Step 79360: Performing validation\n",
      "Learning rate: 0.000225\n"
     ]
    },
    {
     "data": {
      "application/vnd.jupyter.widget-view+json": {
       "model_id": "3ad6d6944be84c16849cf0c453057286",
       "version_major": 2,
       "version_minor": 0
      },
      "text/plain": [
       "  0%|          | 0/16 [00:00<?, ?it/s]"
      ]
     },
     "metadata": {},
     "output_type": "display_data"
    },
    {
     "name": "stdout",
     "output_type": "stream",
     "text": [
      "Train loss: 1.4074\n",
      "Validation loss: 1.1457\n",
      "One day, a dog named Tommy's friend of his friend, Johnny went to play until his house. Tim was very smart, but he saw the yard formed a moment because it could jump in half.\n",
      "\n",
      "Tim giggled and Billy saw a shiny light. Sue wanted\n",
      "\n",
      "Step 79872: Performing validation\n",
      "Learning rate: 0.000221\n"
     ]
    },
    {
     "data": {
      "application/vnd.jupyter.widget-view+json": {
       "model_id": "9cec73a307cd41d899eb503f427cf9d1",
       "version_major": 2,
       "version_minor": 0
      },
      "text/plain": [
       "  0%|          | 0/16 [00:00<?, ?it/s]"
      ]
     },
     "metadata": {},
     "output_type": "display_data"
    },
    {
     "name": "stdout",
     "output_type": "stream",
     "text": [
      "Train loss: 1.3306\n",
      "Validation loss: 1.1409\n",
      "One day, a dog named Max saw walking high in the park high ball with his yard. Sam was sad and Max wanted to get lost a top. boy wanted to stop anymore.\n",
      "\n",
      "They hopped wearing a tree. Nutie did not catch and began to rain,\n",
      "\n",
      "Step 80384: Performing validation\n",
      "Learning rate: 0.000217\n"
     ]
    },
    {
     "data": {
      "application/vnd.jupyter.widget-view+json": {
       "model_id": "c14a57357c3d4294b9614fac12bcc754",
       "version_major": 2,
       "version_minor": 0
      },
      "text/plain": [
       "  0%|          | 0/16 [00:00<?, ?it/s]"
      ]
     },
     "metadata": {},
     "output_type": "display_data"
    },
    {
     "name": "stdout",
     "output_type": "stream",
     "text": [
      "Train loss: 1.1305\n",
      "Validation loss: 1.1385\n",
      "One day, a dog named Tim went to play her knee with his owner. Tim told Tim was very busy to play, \"I broke the road!\" Hisuffy was strange and wanted to find it. They decided to be different ways to take everywhere.\n",
      "\n",
      "\"No\n",
      "\n",
      "Step 80896: Performing validation\n",
      "Learning rate: 0.000214\n"
     ]
    },
    {
     "data": {
      "application/vnd.jupyter.widget-view+json": {
       "model_id": "e87d81aa6e59427385168862b1bfad29",
       "version_major": 2,
       "version_minor": 0
      },
      "text/plain": [
       "  0%|          | 0/16 [00:00<?, ?it/s]"
      ]
     },
     "metadata": {},
     "output_type": "display_data"
    },
    {
     "name": "stdout",
     "output_type": "stream",
     "text": [
      "Train loss: 1.4472\n",
      "Validation loss: 1.1348\n",
      "One day, a dog named Timmymy were playing in the park. They loved to play outside and made a paper. Sue loved to draw a tree. One day, Lily saw a man on the ground. Lily asked her, \"But don't talk. It's\n",
      "\n",
      "Step 81408: Performing validation\n",
      "Learning rate: 0.000210\n"
     ]
    },
    {
     "data": {
      "application/vnd.jupyter.widget-view+json": {
       "model_id": "588c9b789f344566b360ae9def15d44f",
       "version_major": 2,
       "version_minor": 0
      },
      "text/plain": [
       "  0%|          | 0/16 [00:00<?, ?it/s]"
      ]
     },
     "metadata": {},
     "output_type": "display_data"
    },
    {
     "name": "stdout",
     "output_type": "stream",
     "text": [
      "Train loss: 1.2426\n",
      "Validation loss: 1.1329\n",
      "One day, a dog named Sam went to the park. His mom and saw a big ball. Sam wanted to help his friend some other cat.\n",
      "\n",
      "His mom named Sue told him, \"Yes, thank you.\"\n",
      "\n",
      "The dog said, \"Sure. That\n",
      "\n",
      "Step 81920: Performing validation\n",
      "Learning rate: 0.000206\n"
     ]
    },
    {
     "data": {
      "application/vnd.jupyter.widget-view+json": {
       "model_id": "85f1c5de6e704f22884827ebf599ac44",
       "version_major": 2,
       "version_minor": 0
      },
      "text/plain": [
       "  0%|          | 0/16 [00:00<?, ?it/s]"
      ]
     },
     "metadata": {},
     "output_type": "display_data"
    },
    {
     "name": "stdout",
     "output_type": "stream",
     "text": [
      "Train loss: 1.2548\n",
      "Validation loss: 1.1289\n",
      "One day, a dog named Daisy wanted to play. Tweet was very happy and played on a fly on an furry hat. Ellie picked up some soft pocket to the park.\n",
      "\n",
      "As her way, Lisa saw a warm tree. She got the bird with her red claws\n",
      "\n",
      "Step 82432: Performing validation\n",
      "Learning rate: 0.000203\n"
     ]
    },
    {
     "data": {
      "application/vnd.jupyter.widget-view+json": {
       "model_id": "1c4818d66efa45f0b301d041094dda2b",
       "version_major": 2,
       "version_minor": 0
      },
      "text/plain": [
       "  0%|          | 0/16 [00:00<?, ?it/s]"
      ]
     },
     "metadata": {},
     "output_type": "display_data"
    },
    {
     "name": "stdout",
     "output_type": "stream",
     "text": [
      "Train loss: 1.3796\n",
      "Validation loss: 1.1254\n",
      "One day, a dog named Max gigged in the field. Max and Max loved to play catch his ground. One day, Max noticed a bench. Sam found a slide gave some prig hat trying to measure what made it with, anything to eat. He didn't\n",
      "\n",
      "Step 82944: Performing validation\n",
      "Learning rate: 0.000199\n"
     ]
    },
    {
     "data": {
      "application/vnd.jupyter.widget-view+json": {
       "model_id": "6ca240db99a3412f90e53388e49f8d29",
       "version_major": 2,
       "version_minor": 0
      },
      "text/plain": [
       "  0%|          | 0/16 [00:00<?, ?it/s]"
      ]
     },
     "metadata": {},
     "output_type": "display_data"
    },
    {
     "name": "stdout",
     "output_type": "stream",
     "text": [
      "Train loss: 1.1813\n",
      "Validation loss: 1.1231\n",
      "One day, a dog named Bob was playing outside with his toys and Max. The sun took it for his knee. Tim said to his mom said he could help it. He jumped up her dolls and said, \"Don't finish my big slide! Do you want to\n",
      "\n",
      "Step 83456: Performing validation\n",
      "Learning rate: 0.000196\n"
     ]
    },
    {
     "data": {
      "application/vnd.jupyter.widget-view+json": {
       "model_id": "062d48dfabae455c9fd3693b09706729",
       "version_major": 2,
       "version_minor": 0
      },
      "text/plain": [
       "  0%|          | 0/16 [00:00<?, ?it/s]"
      ]
     },
     "metadata": {},
     "output_type": "display_data"
    },
    {
     "name": "stdout",
     "output_type": "stream",
     "text": [
      "Train loss: 1.4420\n",
      "Validation loss: 1.1205\n",
      "One day, a dog named Sam. Tom liked to dance with their room. They liked to share.\n",
      "\n",
      "One day, Tim trying to play with his toys. He also said, \"Yes! Don't want to play in the shop.\"\n",
      "\n",
      "Tom gave Tim\n",
      "\n",
      "Step 83968: Performing validation\n",
      "Learning rate: 0.000192\n"
     ]
    },
    {
     "data": {
      "application/vnd.jupyter.widget-view+json": {
       "model_id": "88b38d39a2d54201bf4466c5c3219fe4",
       "version_major": 2,
       "version_minor": 0
      },
      "text/plain": [
       "  0%|          | 0/16 [00:00<?, ?it/s]"
      ]
     },
     "metadata": {},
     "output_type": "display_data"
    },
    {
     "name": "stdout",
     "output_type": "stream",
     "text": [
      "Train loss: 1.1191\n",
      "Validation loss: 1.1183\n",
      "One day, a dog stopped his mom and the old dog. Sam said, \"Let's be fun to watch!\" Tom gave a clean up clothes and felt better.\n",
      "\n",
      "Tom and Jack asked: \"My owner, I don't we run? I can help me\n",
      "\n",
      "Step 84480: Performing validation\n",
      "Learning rate: 0.000188\n"
     ]
    },
    {
     "data": {
      "application/vnd.jupyter.widget-view+json": {
       "model_id": "b31eea48578f48c3b4592f32c7ac3833",
       "version_major": 2,
       "version_minor": 0
      },
      "text/plain": [
       "  0%|          | 0/16 [00:00<?, ?it/s]"
      ]
     },
     "metadata": {},
     "output_type": "display_data"
    },
    {
     "name": "stdout",
     "output_type": "stream",
     "text": [
      "Train loss: 1.4387\n",
      "Validation loss: 1.1161\n",
      "One day, a dog named Tim took to the park. They played together to play. There, slide, they were sour and cold. They both strong.\n",
      "While they were playing, they fell on the sandbox around to stop. They saw a yummy bowl. It\n",
      "\n",
      "Step 84992: Performing validation\n",
      "Learning rate: 0.000185\n"
     ]
    },
    {
     "data": {
      "application/vnd.jupyter.widget-view+json": {
       "model_id": "9933d94327a44859b744caf282c53485",
       "version_major": 2,
       "version_minor": 0
      },
      "text/plain": [
       "  0%|          | 0/16 [00:00<?, ?it/s]"
      ]
     },
     "metadata": {},
     "output_type": "display_data"
    },
    {
     "name": "stdout",
     "output_type": "stream",
     "text": [
      "Train loss: 1.2958\n",
      "Validation loss: 1.1126\n",
      "One day, a dog named Max went to his mom. Tim asked his Mom the dog, \"I could play with my drive, hot to the red animal.\"\n",
      "\n",
      "The le brothers were very much fun. They ran to the street in the stable. Tim thought it\n",
      "\n",
      "Step 85504: Performing validation\n",
      "Learning rate: 0.000181\n"
     ]
    },
    {
     "data": {
      "application/vnd.jupyter.widget-view+json": {
       "model_id": "ccdaa567e64648f8a69b7a60e432132b",
       "version_major": 2,
       "version_minor": 0
      },
      "text/plain": [
       "  0%|          | 0/16 [00:00<?, ?it/s]"
      ]
     },
     "metadata": {},
     "output_type": "display_data"
    },
    {
     "name": "stdout",
     "output_type": "stream",
     "text": [
      "Train loss: 1.2356\n",
      "Validation loss: 1.1123\n",
      "One day, a dog named Sue was playing with his friends. Tom could like to go in the park. He would have many adventures together.\n",
      "\n",
      "One day, Tom was playing hockey with him. Max cried to get scared. They were very happy.\n",
      "\n",
      "Red\n",
      "\n",
      "Step 86016: Performing validation\n",
      "Learning rate: 0.000178\n"
     ]
    },
    {
     "data": {
      "application/vnd.jupyter.widget-view+json": {
       "model_id": "0d7e2108e3264740bbc59be39353b22a",
       "version_major": 2,
       "version_minor": 0
      },
      "text/plain": [
       "  0%|          | 0/16 [00:00<?, ?it/s]"
      ]
     },
     "metadata": {},
     "output_type": "display_data"
    },
    {
     "name": "stdout",
     "output_type": "stream",
     "text": [
      "Train loss: 1.4015\n",
      "Validation loss: 1.1101\n",
      "One day, a dog named Jen had a braournaments. He wanted to draw some flowers, but right away. He kept asking lots of Anna. She played with the park playing with his friend and would be able to eat.\n",
      "\n",
      "The two opinions and some everyone smiled\n",
      "\n",
      "Step 86528: Performing validation\n",
      "Learning rate: 0.000174\n"
     ]
    },
    {
     "data": {
      "application/vnd.jupyter.widget-view+json": {
       "model_id": "e6557907c8fe4acd8a17beb578b9599d",
       "version_major": 2,
       "version_minor": 0
      },
      "text/plain": [
       "  0%|          | 0/16 [00:00<?, ?it/s]"
      ]
     },
     "metadata": {},
     "output_type": "display_data"
    },
    {
     "name": "stdout",
     "output_type": "stream",
     "text": [
      "Train loss: 1.3947\n",
      "Validation loss: 1.1054\n",
      "One day, a dog called Tom's dad and always playing in the park. Sam wanted to go to find a new ride the slide. He said, \"Can we tell me join?\" Bob looked at trouble and said, \"Can we have to do it.\"\n",
      "\n",
      "\n",
      "\n",
      "Step 87040: Performing validation\n",
      "Learning rate: 0.000171\n"
     ]
    },
    {
     "data": {
      "application/vnd.jupyter.widget-view+json": {
       "model_id": "114a5a8559344193b95830ec35d688f6",
       "version_major": 2,
       "version_minor": 0
      },
      "text/plain": [
       "  0%|          | 0/16 [00:00<?, ?it/s]"
      ]
     },
     "metadata": {},
     "output_type": "display_data"
    },
    {
     "name": "stdout",
     "output_type": "stream",
     "text": [
      "Train loss: 1.2030\n",
      "Validation loss: 1.1039\n",
      "One day, a dog called Max went to the leopard. He loved to zoomed and catch the bus. He hopped after the bus, but it started to get higher when he saw a little dog in the swings. Max was very sad. But his mom told him\n",
      "\n",
      "Step 87552: Performing validation\n",
      "Learning rate: 0.000167\n"
     ]
    },
    {
     "data": {
      "application/vnd.jupyter.widget-view+json": {
       "model_id": "542dabd7fd5a423b80a814aa4669cee2",
       "version_major": 2,
       "version_minor": 0
      },
      "text/plain": [
       "  0%|          | 0/16 [00:00<?, ?it/s]"
      ]
     },
     "metadata": {},
     "output_type": "display_data"
    },
    {
     "name": "stdout",
     "output_type": "stream",
     "text": [
      "Train loss: 1.4980\n",
      "Validation loss: 1.1016\n",
      "One day, a dog named Jack stopped together all of the park. He would run and blue and play in the park.\n",
      "One day, Tony went back to the park. When he saw a mosquito which was just inside inside! It was a whistle and gentle snake wanted\n",
      "\n",
      "Step 88064: Performing validation\n",
      "Learning rate: 0.000164\n"
     ]
    },
    {
     "data": {
      "application/vnd.jupyter.widget-view+json": {
       "model_id": "d972930c6714445da2f7acf681736830",
       "version_major": 2,
       "version_minor": 0
      },
      "text/plain": [
       "  0%|          | 0/16 [00:00<?, ?it/s]"
      ]
     },
     "metadata": {},
     "output_type": "display_data"
    },
    {
     "name": "stdout",
     "output_type": "stream",
     "text": [
      "Train loss: 1.3658\n",
      "Validation loss: 1.0988\n",
      "One day, a dog named Sam wanted to feed Sam. He would laugh, so he saw a big stick and started to see a bottle. He jumped from the broken oil, but the stickBee was not like the snake.\n",
      "\n",
      "Max tried to catch the snake in\n",
      "\n",
      "Step 88576: Performing validation\n",
      "Learning rate: 0.000161\n"
     ]
    },
    {
     "data": {
      "application/vnd.jupyter.widget-view+json": {
       "model_id": "b28dfa3329b841699a391c5cd832e2d4",
       "version_major": 2,
       "version_minor": 0
      },
      "text/plain": [
       "  0%|          | 0/16 [00:00<?, ?it/s]"
      ]
     },
     "metadata": {},
     "output_type": "display_data"
    },
    {
     "name": "stdout",
     "output_type": "stream",
     "text": [
      "Train loss: 1.3117\n",
      "Validation loss: 1.0964\n",
      "One day, a dog named Tom wanted to learn what we might pack. His paw kept strawberry and he was, so happy. \n",
      "But this sound was very soft and peaceful. The dog was so happy that he could believe the bug through the air and made something cool\n",
      "\n",
      "Step 89088: Performing validation\n",
      "Learning rate: 0.000157\n"
     ]
    },
    {
     "data": {
      "application/vnd.jupyter.widget-view+json": {
       "model_id": "d8122676b01b4558b8d10edaed76eab9",
       "version_major": 2,
       "version_minor": 0
      },
      "text/plain": [
       "  0%|          | 0/16 [00:00<?, ?it/s]"
      ]
     },
     "metadata": {},
     "output_type": "display_data"
    },
    {
     "name": "stdout",
     "output_type": "stream",
     "text": [
      "Train loss: 1.1240\n",
      "Validation loss: 1.0950\n",
      "One day, a dog called Sam is friends. He liked to play together and play with his friends.\n",
      "\n",
      "Will maybe the dog had a tip of corn. Spot had fun a new surprise, but his friend came to his plan.\n",
      "He gave Amy a hug.\n",
      "\n",
      "Step 89600: Performing validation\n",
      "Learning rate: 0.000154\n"
     ]
    },
    {
     "data": {
      "application/vnd.jupyter.widget-view+json": {
       "model_id": "4b2febfa61e84afea11782b6b5b6fbd1",
       "version_major": 2,
       "version_minor": 0
      },
      "text/plain": [
       "  0%|          | 0/16 [00:00<?, ?it/s]"
      ]
     },
     "metadata": {},
     "output_type": "display_data"
    },
    {
     "name": "stdout",
     "output_type": "stream",
     "text": [
      "Train loss: 1.2750\n",
      "Validation loss: 1.0932\n",
      "One day, a dog named Mia liked to play with his owner. As they had a big glove that had lots of island. \n",
      "\n",
      "\"Let's enter a special code,\" said Jack.\n",
      "\n",
      "Tom looked out a picture of wood and asked, \"OK,\n",
      "\n",
      "Step 90112: Performing validation\n",
      "Learning rate: 0.000150\n"
     ]
    },
    {
     "data": {
      "application/vnd.jupyter.widget-view+json": {
       "model_id": "73d86a38563a4f98b4fb201465ca3523",
       "version_major": 2,
       "version_minor": 0
      },
      "text/plain": [
       "  0%|          | 0/16 [00:00<?, ?it/s]"
      ]
     },
     "metadata": {},
     "output_type": "display_data"
    },
    {
     "name": "stdout",
     "output_type": "stream",
     "text": [
      "Train loss: 1.0923\n",
      "Validation loss: 1.0901\n",
      "One day, a dog named bristles, Max was three years old girl. Tim was scared, but he wasn't want to jump around the park.\n",
      "Tim said, \"What is so popular?\"\n",
      "Tom thought his mom replied, \"No, little kitty!\"\n",
      "\n",
      "Step 90624: Performing validation\n",
      "Learning rate: 0.000147\n"
     ]
    },
    {
     "data": {
      "application/vnd.jupyter.widget-view+json": {
       "model_id": "8941cd02b11d42308096e7b551c563be",
       "version_major": 2,
       "version_minor": 0
      },
      "text/plain": [
       "  0%|          | 0/16 [00:00<?, ?it/s]"
      ]
     },
     "metadata": {},
     "output_type": "display_data"
    },
    {
     "name": "stdout",
     "output_type": "stream",
     "text": [
      "Train loss: 1.2016\n",
      "Validation loss: 1.0884\n",
      "One day, a dog named Mr and a new dog. Spot wanted to eat his toy cars near the stories. Spot saw a gun on its ears. Spot loved to princess and chase the phone to help the horse. Spot felt happy. Spot felt happy and go to the\n",
      "\n",
      "Step 91136: Performing validation\n",
      "Learning rate: 0.000144\n"
     ]
    },
    {
     "data": {
      "application/vnd.jupyter.widget-view+json": {
       "model_id": "5eada2e37d134c2a9c0c0400e41fd49b",
       "version_major": 2,
       "version_minor": 0
      },
      "text/plain": [
       "  0%|          | 0/16 [00:00<?, ?it/s]"
      ]
     },
     "metadata": {},
     "output_type": "display_data"
    },
    {
     "name": "stdout",
     "output_type": "stream",
     "text": [
      "Train loss: 1.0661\n",
      "Validation loss: 1.0870\n",
      "One day, a dog called Tom. Max was very helpless. He wanted to jog. He played together and had lots of dolls.\n",
      "\n",
      "Billy saw a big gate. The dog wanted to play in the park. The dog said, \"Wow, let's invite you\n",
      "\n",
      "Step 91648: Performing validation\n",
      "Learning rate: 0.000141\n"
     ]
    },
    {
     "data": {
      "application/vnd.jupyter.widget-view+json": {
       "model_id": "363acfd010ed4e17a4abeb7e611cd4f5",
       "version_major": 2,
       "version_minor": 0
      },
      "text/plain": [
       "  0%|          | 0/16 [00:00<?, ?it/s]"
      ]
     },
     "metadata": {},
     "output_type": "display_data"
    },
    {
     "name": "stdout",
     "output_type": "stream",
     "text": [
      "Train loss: 1.1107\n",
      "Validation loss: 1.0836\n",
      "One day, a dog named Spot went for a walk with his name. He loved to leave his nose and make the dog. He saw Sam. He thought he had it. Max was sad, but be jealous. Max didn't want to decorating Juan. He decided\n",
      "\n",
      "Step 92160: Performing validation\n",
      "Learning rate: 0.000137\n"
     ]
    },
    {
     "data": {
      "application/vnd.jupyter.widget-view+json": {
       "model_id": "ef764cb0ebc043958101806e9659762c",
       "version_major": 2,
       "version_minor": 0
      },
      "text/plain": [
       "  0%|          | 0/16 [00:00<?, ?it/s]"
      ]
     },
     "metadata": {},
     "output_type": "display_data"
    },
    {
     "name": "stdout",
     "output_type": "stream",
     "text": [
      "Train loss: 0.9986\n",
      "Validation loss: 1.0828\n",
      "One day, a dog named Spot saw a little engine. Spot wanted to speak it. He needed honey, his friends, but also there was a big bug. Benny had to green trumpet, but he was worried. He said, \"You can help you.\" Sam was\n",
      "\n",
      "Step 92672: Performing validation\n",
      "Learning rate: 0.000134\n"
     ]
    },
    {
     "data": {
      "application/vnd.jupyter.widget-view+json": {
       "model_id": "6095c4ddf301411d9e248f8c174e9242",
       "version_major": 2,
       "version_minor": 0
      },
      "text/plain": [
       "  0%|          | 0/16 [00:00<?, ?it/s]"
      ]
     },
     "metadata": {},
     "output_type": "display_data"
    },
    {
     "name": "stdout",
     "output_type": "stream",
     "text": [
      "Train loss: 1.2249\n",
      "Validation loss: 1.0803\n",
      "One day, a dog named Tim looked outside. He saw a big ears. He wanted to jump and and find something in. He dug a zuddle.\n",
      "Tom looked excited to run and ran up. He looked so he noticed \"What's wrong? Come sounds wrong\n",
      "\n",
      "Step 93184: Performing validation\n",
      "Learning rate: 0.000131\n"
     ]
    },
    {
     "data": {
      "application/vnd.jupyter.widget-view+json": {
       "model_id": "ee467f38088446728ef4d28b2fe4811b",
       "version_major": 2,
       "version_minor": 0
      },
      "text/plain": [
       "  0%|          | 0/16 [00:00<?, ?it/s]"
      ]
     },
     "metadata": {},
     "output_type": "display_data"
    },
    {
     "name": "stdout",
     "output_type": "stream",
     "text": [
      "Train loss: 1.0270\n",
      "Validation loss: 1.0785\n",
      "One day, a dog named Tim went to the park with his mom. They were never of fun, but he was happy too Tim.\n",
      "\n",
      "Tim went outside to the park was getting in his sun, but he vest. He jumped down and saw a dog. The\n",
      "\n",
      "Step 93696: Performing validation\n",
      "Learning rate: 0.000128\n"
     ]
    },
    {
     "data": {
      "application/vnd.jupyter.widget-view+json": {
       "model_id": "56836c1c1c8a48b983245f012d8220b0",
       "version_major": 2,
       "version_minor": 0
      },
      "text/plain": [
       "  0%|          | 0/16 [00:00<?, ?it/s]"
      ]
     },
     "metadata": {},
     "output_type": "display_data"
    },
    {
     "name": "stdout",
     "output_type": "stream",
     "text": [
      "Train loss: 1.3471\n",
      "Validation loss: 1.0777\n",
      "One day, a dog named Max went to the park. Max went up to the park. Max picked up and cleaned it back. Max said, \"Yes, Get one. I found!\" Max started to smile on top, getting hurt the sun.\n",
      "\n",
      "Max decided\n",
      "\n",
      "Step 94208: Performing validation\n",
      "Learning rate: 0.000125\n"
     ]
    },
    {
     "data": {
      "application/vnd.jupyter.widget-view+json": {
       "model_id": "61901e97e5704bf0b4585a098f7b0e55",
       "version_major": 2,
       "version_minor": 0
      },
      "text/plain": [
       "  0%|          | 0/16 [00:00<?, ?it/s]"
      ]
     },
     "metadata": {},
     "output_type": "display_data"
    },
    {
     "name": "stdout",
     "output_type": "stream",
     "text": [
      "Train loss: 1.1564\n",
      "Validation loss: 1.0746\n",
      "One day, a dog puppy named Max wanted to play outside with his friend. Max was playing with a weapon. Suddenly, Jane came over to show him to Spot, vendor who was shiny. Bob thought about him and decided to clean too.\n",
      "\n",
      "Lily was sad\n",
      "\n",
      "Step 94720: Performing validation\n",
      "Learning rate: 0.000122\n"
     ]
    },
    {
     "data": {
      "application/vnd.jupyter.widget-view+json": {
       "model_id": "2f92364095ba4ae8a4dedac2fce1fd2d",
       "version_major": 2,
       "version_minor": 0
      },
      "text/plain": [
       "  0%|          | 0/16 [00:00<?, ?it/s]"
      ]
     },
     "metadata": {},
     "output_type": "display_data"
    },
    {
     "name": "stdout",
     "output_type": "stream",
     "text": [
      "Train loss: 1.3008\n",
      "Validation loss: 1.0736\n",
      "One day, a dog named Jimmy thought the dog was restless in the backyard. He was naughty that he liked to play at the park. He drove to get his braked, and put until the tree were move. Without his owner came to shore. He felt happy and\n",
      "\n",
      "Step 95232: Performing validation\n",
      "Learning rate: 0.000119\n"
     ]
    },
    {
     "data": {
      "application/vnd.jupyter.widget-view+json": {
       "model_id": "c08b7653628e473981390a1fcbf63156",
       "version_major": 2,
       "version_minor": 0
      },
      "text/plain": [
       "  0%|          | 0/16 [00:00<?, ?it/s]"
      ]
     },
     "metadata": {},
     "output_type": "display_data"
    },
    {
     "name": "stdout",
     "output_type": "stream",
     "text": [
      "Train loss: 1.3578\n",
      "Validation loss: 1.0718\n",
      "One day, a dog was a big dog named Tom. Betsy loved to play with her toy cars. Then, Tom went to the park and when they saw tigers. They went home, and down.\n",
      "\n",
      "They found a big ball on it. The ball was easy\n",
      "\n",
      "Step 95744: Performing validation\n",
      "Learning rate: 0.000115\n"
     ]
    },
    {
     "data": {
      "application/vnd.jupyter.widget-view+json": {
       "model_id": "8a7835c1b48544ad936c76a0f19f3c6a",
       "version_major": 2,
       "version_minor": 0
      },
      "text/plain": [
       "  0%|          | 0/16 [00:00<?, ?it/s]"
      ]
     },
     "metadata": {},
     "output_type": "display_data"
    },
    {
     "name": "stdout",
     "output_type": "stream",
     "text": [
      "Train loss: 1.0311\n",
      "Validation loss: 1.0703\n",
      "One day, a dog named Teddy was very tired. He loved to run oneyes. One day, when he went to the park. He walked, and fell over the tall coat. Suddenly, he noticed a little dog! He was fur and mint saved him. Suddenly\n",
      "\n",
      "Step 96256: Performing validation\n",
      "Learning rate: 0.000112\n"
     ]
    },
    {
     "data": {
      "application/vnd.jupyter.widget-view+json": {
       "model_id": "5571c8b5b0f0438db5b6b00001475629",
       "version_major": 2,
       "version_minor": 0
      },
      "text/plain": [
       "  0%|          | 0/16 [00:00<?, ?it/s]"
      ]
     },
     "metadata": {},
     "output_type": "display_data"
    },
    {
     "name": "stdout",
     "output_type": "stream",
     "text": [
      "Train loss: 1.3408\n",
      "Validation loss: 1.0688\n",
      "One day, a dog went and saw a silly rabbit. The rabbit loved to crawl around the forest. Every day, the rabbit feltmy and wanted to see the rabbit.\n",
      "\n",
      "The rabbit said, \"Hi, little creature chir-go-old.\" \n",
      "\n",
      "\n",
      "Step 96768: Performing validation\n",
      "Learning rate: 0.000109\n"
     ]
    },
    {
     "data": {
      "application/vnd.jupyter.widget-view+json": {
       "model_id": "41a351a30b9549c39b8ab0b1c5169c41",
       "version_major": 2,
       "version_minor": 0
      },
      "text/plain": [
       "  0%|          | 0/16 [00:00<?, ?it/s]"
      ]
     },
     "metadata": {},
     "output_type": "display_data"
    },
    {
     "name": "stdout",
     "output_type": "stream",
     "text": [
      "Train loss: 1.2140\n",
      "Validation loss: 1.0663\n",
      "One day, a dog named Jerry was feeling a bookâThe 4 hair. He had a big smile on the bed and he flizards, so they both liked to pretend to see everything.\n",
      "\n",
      "One day, Spot went to the park. He dug his arms and\n",
      "\n",
      "Step 97280: Performing validation\n",
      "Learning rate: 0.000107\n"
     ]
    },
    {
     "data": {
      "application/vnd.jupyter.widget-view+json": {
       "model_id": "50a26cf74f6f420c8113446c59b64065",
       "version_major": 2,
       "version_minor": 0
      },
      "text/plain": [
       "  0%|          | 0/16 [00:00<?, ?it/s]"
      ]
     },
     "metadata": {},
     "output_type": "display_data"
    },
    {
     "name": "stdout",
     "output_type": "stream",
     "text": [
      "Train loss: 1.2854\n",
      "Validation loss: 1.0657\n",
      "One day, a dog: His mommy were very mean. Alex had a bell. He thought for Sam and he was a nice rope, but it had to go to his office.\n",
      "\n",
      "The bird felt scared of himself and he got scared. They made a sticker\n",
      "\n",
      "Step 97792: Performing validation\n",
      "Learning rate: 0.000104\n"
     ]
    },
    {
     "data": {
      "application/vnd.jupyter.widget-view+json": {
       "model_id": "335e87abf17749619fd15904661a2a6d",
       "version_major": 2,
       "version_minor": 0
      },
      "text/plain": [
       "  0%|          | 0/16 [00:00<?, ?it/s]"
      ]
     },
     "metadata": {},
     "output_type": "display_data"
    },
    {
     "name": "stdout",
     "output_type": "stream",
     "text": [
      "Train loss: 1.0327\n",
      "Validation loss: 1.0637\n",
      "One day, a dog named Sam was walking in the kitchen. Little Max was having so much fun when he saw a pair of things.\n",
      "\n",
      "Suddenly, he saw a loud noise. \"That's a dog!\" he said, \"No, But harmless dog is not\n",
      "\n",
      "Step 98304: Performing validation\n",
      "Learning rate: 0.000101\n"
     ]
    },
    {
     "data": {
      "application/vnd.jupyter.widget-view+json": {
       "model_id": "311f0170132b44619577e31f1e99805c",
       "version_major": 2,
       "version_minor": 0
      },
      "text/plain": [
       "  0%|          | 0/16 [00:00<?, ?it/s]"
      ]
     },
     "metadata": {},
     "output_type": "display_data"
    },
    {
     "name": "stdout",
     "output_type": "stream",
     "text": [
      "Train loss: 1.1942\n",
      "Validation loss: 1.0611\n",
      "One day, a dog came to run and the dog. The dog wanted to play in the dog. They decided to find animals, pigs.\n",
      "\n",
      "The dog was so happy and had a lot of fun. His dog could ask safely from one. The dog were happy\n",
      "\n",
      "Step 98816: Performing validation\n",
      "Learning rate: 0.000098\n"
     ]
    },
    {
     "data": {
      "application/vnd.jupyter.widget-view+json": {
       "model_id": "5872abfb118d462fbf83a7c1068eb44b",
       "version_major": 2,
       "version_minor": 0
      },
      "text/plain": [
       "  0%|          | 0/16 [00:00<?, ?it/s]"
      ]
     },
     "metadata": {},
     "output_type": "display_data"
    },
    {
     "name": "stdout",
     "output_type": "stream",
     "text": [
      "Train loss: 1.2519\n",
      "Validation loss: 1.0609\n",
      "One day, a dog named Max had a lot of fun day. Spot wanted to be a moment and started to play with his hands. Tom picked up the big sign and asked Luke, \"Look, a question, Wooo bug!\" Max said, \"Max, Max\n",
      "\n",
      "Step 99328: Performing validation\n",
      "Learning rate: 0.000095\n"
     ]
    },
    {
     "data": {
      "application/vnd.jupyter.widget-view+json": {
       "model_id": "c4a578f34ec1448c8a253ca4562ff40d",
       "version_major": 2,
       "version_minor": 0
      },
      "text/plain": [
       "  0%|          | 0/16 [00:00<?, ?it/s]"
      ]
     },
     "metadata": {},
     "output_type": "display_data"
    },
    {
     "name": "stdout",
     "output_type": "stream",
     "text": [
      "Train loss: 1.1792\n",
      "Validation loss: 1.0582\n",
      "One day, a dog called Tony, Bister. Jim was playing. He saw something harsh loud on her paw, with a line. It was a rocket! Ana knew he would jog back close the light!\n",
      "\n",
      "Mia was so excited. Sandy saw the tray\n",
      "\n",
      "Step 99840: Performing validation\n",
      "Learning rate: 0.000092\n"
     ]
    },
    {
     "data": {
      "application/vnd.jupyter.widget-view+json": {
       "model_id": "c33fdb4daeed43a6a43c5b85a4c7c4ef",
       "version_major": 2,
       "version_minor": 0
      },
      "text/plain": [
       "  0%|          | 0/16 [00:00<?, ?it/s]"
      ]
     },
     "metadata": {},
     "output_type": "display_data"
    },
    {
     "name": "stdout",
     "output_type": "stream",
     "text": [
      "Train loss: 1.1087\n",
      "Validation loss: 1.0575\n",
      "One day, a dog named Max knew her name were a ball. Max liked to play with Spot.\n",
      "One day, Max saw a fire high sunset. Max didn't play with her, but he had to catch the water down. Max was afraid and he wanted to\n",
      "\n",
      "Step 100352: Performing validation\n",
      "Learning rate: 0.000090\n"
     ]
    },
    {
     "data": {
      "application/vnd.jupyter.widget-view+json": {
       "model_id": "428469f35f2d4cbabf9b4347f833084a",
       "version_major": 2,
       "version_minor": 0
      },
      "text/plain": [
       "  0%|          | 0/16 [00:00<?, ?it/s]"
      ]
     },
     "metadata": {},
     "output_type": "display_data"
    },
    {
     "name": "stdout",
     "output_type": "stream",
     "text": [
      "Train loss: 1.3989\n",
      "Validation loss: 1.0563\n",
      "One day, a dog named Lily went to the park outside, Benny. One day, Jack decided to get a walk outside. Lucy went and searched, but she wasn't want to feel he was too late. \n",
      "\n",
      "As DLucy was so sticky and her\n",
      "\n",
      "Step 100864: Performing validation\n",
      "Learning rate: 0.000087\n"
     ]
    },
    {
     "data": {
      "application/vnd.jupyter.widget-view+json": {
       "model_id": "cae362a839e24ef79fb18db51632cdde",
       "version_major": 2,
       "version_minor": 0
      },
      "text/plain": [
       "  0%|          | 0/16 [00:00<?, ?it/s]"
      ]
     },
     "metadata": {},
     "output_type": "display_data"
    },
    {
     "name": "stdout",
     "output_type": "stream",
     "text": [
      "Train loss: 1.1234\n",
      "Validation loss: 1.0549\n",
      "One day, a dog with a little boy named Max. Max was being curious. He loved to play outside, but he closed his nose. He saw a big bone! He was getting scared and ran away.\n",
      "\n",
      "Tom was stubborn. She decided to see what she\n",
      "\n",
      "Step 101376: Performing validation\n",
      "Learning rate: 0.000084\n"
     ]
    },
    {
     "data": {
      "application/vnd.jupyter.widget-view+json": {
       "model_id": "53971ac1ef18403fb0c2001803ac0eab",
       "version_major": 2,
       "version_minor": 0
      },
      "text/plain": [
       "  0%|          | 0/16 [00:00<?, ?it/s]"
      ]
     },
     "metadata": {},
     "output_type": "display_data"
    },
    {
     "name": "stdout",
     "output_type": "stream",
     "text": [
      "Train loss: 1.3231\n",
      "Validation loss: 1.0535\n",
      "One day, a dog named Max. Max was very excited. She felt silly and loved to poke it on his mouth. One day, Tim saw a pretty pillow was shining. He wanted him but it didn't eat it. He wanted to eat it under the one away\n",
      "\n",
      "Step 101888: Performing validation\n",
      "Learning rate: 0.000081\n"
     ]
    },
    {
     "data": {
      "application/vnd.jupyter.widget-view+json": {
       "model_id": "05d06d225d094d40a10bc4391395c722",
       "version_major": 2,
       "version_minor": 0
      },
      "text/plain": [
       "  0%|          | 0/16 [00:00<?, ?it/s]"
      ]
     },
     "metadata": {},
     "output_type": "display_data"
    },
    {
     "name": "stdout",
     "output_type": "stream",
     "text": [
      "Train loss: 1.3271\n",
      "Validation loss: 1.0517\n",
      "One day, a dog named Max went outside to look for his mom. Max's mom gave her too much the dog in the shore. Max asked, \"Can you go?\" Max said. \"I'm going to ringing, let?\" Max was very excited that he threw\n",
      "\n",
      "Step 102400: Performing validation\n",
      "Learning rate: 0.000079\n"
     ]
    },
    {
     "data": {
      "application/vnd.jupyter.widget-view+json": {
       "model_id": "e5ee927c50d34e228e3235be9a8edcb8",
       "version_major": 2,
       "version_minor": 0
      },
      "text/plain": [
       "  0%|          | 0/16 [00:00<?, ?it/s]"
      ]
     },
     "metadata": {},
     "output_type": "display_data"
    },
    {
     "name": "stdout",
     "output_type": "stream",
     "text": [
      "Train loss: 1.1645\n",
      "Validation loss: 1.0509\n",
      "One day, a dog named Max named Max wanted to play with his mom. Max wanted to go outside. Max was happy to play with Max, but he was next to play outside. Max saw Max wanted to design his favorite car. He thought for a party with a\n",
      "\n",
      "Step 102912: Performing validation\n",
      "Learning rate: 0.000076\n"
     ]
    },
    {
     "data": {
      "application/vnd.jupyter.widget-view+json": {
       "model_id": "11892d411a7e4808b295f22e36432078",
       "version_major": 2,
       "version_minor": 0
      },
      "text/plain": [
       "  0%|          | 0/16 [00:00<?, ?it/s]"
      ]
     },
     "metadata": {},
     "output_type": "display_data"
    },
    {
     "name": "stdout",
     "output_type": "stream",
     "text": [
      "Train loss: 1.1326\n",
      "Validation loss: 1.0501\n",
      "One day, a dog named Max went to the park. Max liked to play with his toy dog, but he was time in the park. Max had a shiny ball and started to not move it. Max was a long and Max went on the top.\n",
      "\n",
      "Max\n",
      "\n",
      "Step 103424: Performing validation\n",
      "Learning rate: 0.000074\n"
     ]
    },
    {
     "data": {
      "application/vnd.jupyter.widget-view+json": {
       "model_id": "0aa333558b9f4a3fbdbe2df887ff676e",
       "version_major": 2,
       "version_minor": 0
      },
      "text/plain": [
       "  0%|          | 0/16 [00:00<?, ?it/s]"
      ]
     },
     "metadata": {},
     "output_type": "display_data"
    },
    {
     "name": "stdout",
     "output_type": "stream",
     "text": [
      "Train loss: 1.0816\n",
      "Validation loss: 1.0479\n",
      "One day, a dog. He was walking around and saw a big dog. He heard a loud noise and wanted to catch it. But he heard a voice. The dog looked at the boys, and the dog. John was scared. They asked him, \"Thank you\n",
      "\n",
      "Step 103936: Performing validation\n",
      "Learning rate: 0.000071\n"
     ]
    },
    {
     "data": {
      "application/vnd.jupyter.widget-view+json": {
       "model_id": "ae0ceea96938403cb0df076ae8d1946a",
       "version_major": 2,
       "version_minor": 0
      },
      "text/plain": [
       "  0%|          | 0/16 [00:00<?, ?it/s]"
      ]
     },
     "metadata": {},
     "output_type": "display_data"
    },
    {
     "name": "stdout",
     "output_type": "stream",
     "text": [
      "Train loss: 1.2048\n",
      "Validation loss: 1.0472\n",
      "One day, a dog became very tired. He liked to run around the park and look at the jungle. One day, he saw a big dog. So he opened the loud to his, but the dog started to cry. The dog had never seen anything.\n",
      "\n",
      "\n",
      "\n",
      "Step 104448: Performing validation\n",
      "Learning rate: 0.000069\n"
     ]
    },
    {
     "data": {
      "application/vnd.jupyter.widget-view+json": {
       "model_id": "fe080cdb07ee43ba8882fcc80346ecc2",
       "version_major": 2,
       "version_minor": 0
      },
      "text/plain": [
       "  0%|          | 0/16 [00:00<?, ?it/s]"
      ]
     },
     "metadata": {},
     "output_type": "display_data"
    },
    {
     "name": "stdout",
     "output_type": "stream",
     "text": [
      "Train loss: 1.3516\n",
      "Validation loss: 1.0463\n",
      "One day, a dog named Jack and his mom went to the park. His mom said they went outside. They saw big car and two playing with the table. Tim didn't want to race to play with them.\n",
      "\n",
      "Then, Sam found a red box. He\n",
      "\n",
      "Step 104960: Performing validation\n",
      "Learning rate: 0.000066\n"
     ]
    },
    {
     "data": {
      "application/vnd.jupyter.widget-view+json": {
       "model_id": "19959d08ee6249c3831485f39f4be5c9",
       "version_major": 2,
       "version_minor": 0
      },
      "text/plain": [
       "  0%|          | 0/16 [00:00<?, ?it/s]"
      ]
     },
     "metadata": {},
     "output_type": "display_data"
    },
    {
     "name": "stdout",
     "output_type": "stream",
     "text": [
      "Train loss: 1.2262\n",
      "Validation loss: 1.0445\n",
      "One day, a dog named Max saw a big ground. Max was scared. Max wanted to climb the barks and decided to go. He hopped on his owner's fur and jumped through the park. Max sneeing its hair face and made his leash on his tail\n",
      "\n",
      "Step 105472: Performing validation\n",
      "Learning rate: 0.000064\n"
     ]
    },
    {
     "data": {
      "application/vnd.jupyter.widget-view+json": {
       "model_id": "c162a8d23b54432bac6765ab6fbb2fbb",
       "version_major": 2,
       "version_minor": 0
      },
      "text/plain": [
       "  0%|          | 0/16 [00:00<?, ?it/s]"
      ]
     },
     "metadata": {},
     "output_type": "display_data"
    },
    {
     "name": "stdout",
     "output_type": "stream",
     "text": [
      "Train loss: 1.1245\n",
      "Validation loss: 1.0444\n",
      "One day, a dog named Tom went for a swing. Jen wanted to play with the ball.\n",
      "\n",
      " sailed to the sign, Tom barked with his friend,trip. Betsy felt sad. They both wanted it on the swings, but the wind could open.\n",
      "\n",
      "\n",
      "Step 105984: Performing validation\n",
      "Learning rate: 0.000062\n"
     ]
    },
    {
     "data": {
      "application/vnd.jupyter.widget-view+json": {
       "model_id": "b55a983c072741f2bc80484084d4f957",
       "version_major": 2,
       "version_minor": 0
      },
      "text/plain": [
       "  0%|          | 0/16 [00:00<?, ?it/s]"
      ]
     },
     "metadata": {},
     "output_type": "display_data"
    },
    {
     "name": "stdout",
     "output_type": "stream",
     "text": [
      "Train loss: 1.0585\n",
      "Validation loss: 1.0426\n",
      "One day, a dog named Sam named Max went to play outside with the park. Billy saw a big rock that was strange rock. Max liked to win with his owner. Max wanted to help it and Lily and said, \"Let's put it!\" Tom said, \"\n",
      "\n",
      "Step 106496: Performing validation\n",
      "Learning rate: 0.000059\n"
     ]
    },
    {
     "data": {
      "application/vnd.jupyter.widget-view+json": {
       "model_id": "44b2067b494748af8907543ea063dc9a",
       "version_major": 2,
       "version_minor": 0
      },
      "text/plain": [
       "  0%|          | 0/16 [00:00<?, ?it/s]"
      ]
     },
     "metadata": {},
     "output_type": "display_data"
    },
    {
     "name": "stdout",
     "output_type": "stream",
     "text": [
      "Train loss: 1.1922\n",
      "Validation loss: 1.0416\n",
      "One day, a dog named Browno lived in one day. Peter was playing with his name to play. Bobo would be friends, so he could play with his friends.\n",
      "\n",
      "\"Hello,\" Fred said.\n",
      "\n",
      "Riffy saw Sam's ball and ran\n",
      "\n",
      "Step 107008: Performing validation\n",
      "Learning rate: 0.000057\n"
     ]
    },
    {
     "data": {
      "application/vnd.jupyter.widget-view+json": {
       "model_id": "ae9b7bf46cd244e0b244b23cd854d04c",
       "version_major": 2,
       "version_minor": 0
      },
      "text/plain": [
       "  0%|          | 0/16 [00:00<?, ?it/s]"
      ]
     },
     "metadata": {},
     "output_type": "display_data"
    },
    {
     "name": "stdout",
     "output_type": "stream",
     "text": [
      "Train loss: 1.2455\n",
      "Validation loss: 1.0410\n",
      "One day, a dog named Fluffy was playing with a park with her collar. Spot wanted to help all the dog. Buffy wanted to help all one eye. Max wanted to kick the big collar. He ran to the dog was so much. The dog wanted to\n",
      "\n",
      "Step 107520: Performing validation\n",
      "Learning rate: 0.000055\n"
     ]
    },
    {
     "data": {
      "application/vnd.jupyter.widget-view+json": {
       "model_id": "232037a872e04479bc451841d0db616b",
       "version_major": 2,
       "version_minor": 0
      },
      "text/plain": [
       "  0%|          | 0/16 [00:00<?, ?it/s]"
      ]
     },
     "metadata": {},
     "output_type": "display_data"
    },
    {
     "name": "stdout",
     "output_type": "stream",
     "text": [
      "Train loss: 1.2507\n",
      "Validation loss: 1.0401\n",
      "One day, a dog called Tom and Sue come to play tag in the park. Tom went near the park with Spot and started to get out to look.\n",
      "\n",
      "Sam caught Tom's arm and shouted to Tim. Tom and Tom leave. Sue was very intelligent and knew\n",
      "\n",
      "Step 108032: Performing validation\n",
      "Learning rate: 0.000053\n"
     ]
    },
    {
     "data": {
      "application/vnd.jupyter.widget-view+json": {
       "model_id": "bae15b345e61440eb3ee9f712806fa09",
       "version_major": 2,
       "version_minor": 0
      },
      "text/plain": [
       "  0%|          | 0/16 [00:00<?, ?it/s]"
      ]
     },
     "metadata": {},
     "output_type": "display_data"
    },
    {
     "name": "stdout",
     "output_type": "stream",
     "text": [
      "Train loss: 1.1067\n",
      "Validation loss: 1.0384\n",
      "One day, a dog named Kitty was walking who he saw a path. Tom did not know what was, and Tom. He wanted to want to play with his friend, but she didn't need some fun.\n",
      "\n",
      "Max saw that duck was angry. He picked up\n",
      "\n",
      "Step 108544: Performing validation\n",
      "Learning rate: 0.000050\n"
     ]
    },
    {
     "data": {
      "application/vnd.jupyter.widget-view+json": {
       "model_id": "47b5037e0955406b886dc6a5093c9941",
       "version_major": 2,
       "version_minor": 0
      },
      "text/plain": [
       "  0%|          | 0/16 [00:00<?, ?it/s]"
      ]
     },
     "metadata": {},
     "output_type": "display_data"
    },
    {
     "name": "stdout",
     "output_type": "stream",
     "text": [
      "Train loss: 1.3837\n",
      "Validation loss: 1.0375\n",
      "One day, a dog named Mia ever caught the dog. Sam were scared because he had a mechanic. They climbed high and chased him. The boy felt better. Tom wanted to play with it for another time. Tom were scared and listen. He looked around and saw some\n",
      "\n",
      "Step 109056: Performing validation\n",
      "Learning rate: 0.000048\n"
     ]
    },
    {
     "data": {
      "application/vnd.jupyter.widget-view+json": {
       "model_id": "ad3f453ea54d40b6853231eb1ae71fed",
       "version_major": 2,
       "version_minor": 0
      },
      "text/plain": [
       "  0%|          | 0/16 [00:00<?, ?it/s]"
      ]
     },
     "metadata": {},
     "output_type": "display_data"
    },
    {
     "name": "stdout",
     "output_type": "stream",
     "text": [
      "Train loss: 1.3459\n",
      "Validation loss: 1.0371\n",
      "One day, a dog named Mr. Kitty followed the park to play in the park. One day, they saw a strange creature coming from. It was shiny and Kitty towards Tom. Bella was confused and friendly. \"Hey, Cris! It's a fruit!\" Fluffy\n",
      "\n",
      "Step 109568: Performing validation\n",
      "Learning rate: 0.000046\n"
     ]
    },
    {
     "data": {
      "application/vnd.jupyter.widget-view+json": {
       "model_id": "4e09f0d94b274d2b945c6e32f31971df",
       "version_major": 2,
       "version_minor": 0
      },
      "text/plain": [
       "  0%|          | 0/16 [00:00<?, ?it/s]"
      ]
     },
     "metadata": {},
     "output_type": "display_data"
    },
    {
     "name": "stdout",
     "output_type": "stream",
     "text": [
      "Train loss: 0.9913\n",
      "Validation loss: 1.0365\n",
      "One day, a dog named Tim were playing near the yard. Spot was a big swing in a small tree. The dog wanted to catch the apple from get a surprise. The dog sat down and down.\n",
      "\n",
      "In the dog saw a big baby tree. They ran\n",
      "\n",
      "Step 110080: Performing validation\n",
      "Learning rate: 0.000044\n"
     ]
    },
    {
     "data": {
      "application/vnd.jupyter.widget-view+json": {
       "model_id": "bce54343d5ce4ac78d424567597008ae",
       "version_major": 2,
       "version_minor": 0
      },
      "text/plain": [
       "  0%|          | 0/16 [00:00<?, ?it/s]"
      ]
     },
     "metadata": {},
     "output_type": "display_data"
    },
    {
     "name": "stdout",
     "output_type": "stream",
     "text": [
      "Train loss: 1.5559\n",
      "Validation loss: 1.0352\n",
      "One day, a dog looks out from Paul But dad, he was walking in the park. When he started to hold his dad and said it was going outside, but the dogâ€œAre you?\" He wondered what it was like to see the dog behind in\n",
      "\n",
      "Step 110592: Performing validation\n",
      "Learning rate: 0.000042\n"
     ]
    },
    {
     "data": {
      "application/vnd.jupyter.widget-view+json": {
       "model_id": "0abfd4240c284310a0842b10563a96e0",
       "version_major": 2,
       "version_minor": 0
      },
      "text/plain": [
       "  0%|          | 0/16 [00:00<?, ?it/s]"
      ]
     },
     "metadata": {},
     "output_type": "display_data"
    },
    {
     "name": "stdout",
     "output_type": "stream",
     "text": [
      "Train loss: 1.1444\n",
      "Validation loss: 1.0343\n",
      "One day, a dog named Bob had a lend him. Alice was very happy and he gave a plate. Suddenly, a black man appeared. Sue and Benny were so very sad. Jack thought that he had a flag. \n",
      "\n",
      "Fluffy stayed under a bush.\n",
      "\n",
      "Step 111104: Performing validation\n",
      "Learning rate: 0.000040\n"
     ]
    },
    {
     "data": {
      "application/vnd.jupyter.widget-view+json": {
       "model_id": "34b237c4fd6b4002a60035c2b7d7ec2b",
       "version_major": 2,
       "version_minor": 0
      },
      "text/plain": [
       "  0%|          | 0/16 [00:00<?, ?it/s]"
      ]
     },
     "metadata": {},
     "output_type": "display_data"
    },
    {
     "name": "stdout",
     "output_type": "stream",
     "text": [
      "Train loss: 1.1657\n",
      "Validation loss: 1.0346\n",
      "One day, a dog was walking in the park with a big farm. He walked over with a big bike and wanted to catch it, so he jumped and faster. He picked the carrot in the ground and quickly finished his bikeed its owner. But then it was not\n",
      "\n",
      "Step 111616: Performing validation\n",
      "Learning rate: 0.000038\n"
     ]
    },
    {
     "data": {
      "application/vnd.jupyter.widget-view+json": {
       "model_id": "d27661281c1046a68a2ffed2e97e6863",
       "version_major": 2,
       "version_minor": 0
      },
      "text/plain": [
       "  0%|          | 0/16 [00:00<?, ?it/s]"
      ]
     },
     "metadata": {},
     "output_type": "display_data"
    },
    {
     "name": "stdout",
     "output_type": "stream",
     "text": [
      "Train loss: 1.2480\n",
      "Validation loss: 1.0331\n",
      "One day, a dog named Tom went to a walk with his friends. Lily was left in the park when she saw a nest on the cold sun. Tom looked like the boots and was angry. \n",
      "\n",
      "Tom walked to the park to have a map together. \"\n",
      "\n",
      "Step 112128: Performing validation\n",
      "Learning rate: 0.000037\n"
     ]
    },
    {
     "data": {
      "application/vnd.jupyter.widget-view+json": {
       "model_id": "b859af5953514472a163c81f61e918b3",
       "version_major": 2,
       "version_minor": 0
      },
      "text/plain": [
       "  0%|          | 0/16 [00:00<?, ?it/s]"
      ]
     },
     "metadata": {},
     "output_type": "display_data"
    },
    {
     "name": "stdout",
     "output_type": "stream",
     "text": [
      "Train loss: 1.2543\n",
      "Validation loss: 1.0321\n",
      "One day, a dog named Max saw a big boy. Max was very happy and wanted to hold his owner because he was smooth. Max felt scared and called Max had one.\n",
      "\n",
      "Max decided to lean on his jacket. He ran around the house, took it and\n",
      "\n",
      "Step 112640: Performing validation\n",
      "Learning rate: 0.000035\n"
     ]
    },
    {
     "data": {
      "application/vnd.jupyter.widget-view+json": {
       "model_id": "5808c323d7ed4b75a6917c8f1080105f",
       "version_major": 2,
       "version_minor": 0
      },
      "text/plain": [
       "  0%|          | 0/16 [00:00<?, ?it/s]"
      ]
     },
     "metadata": {},
     "output_type": "display_data"
    },
    {
     "name": "stdout",
     "output_type": "stream",
     "text": [
      "Train loss: 1.1927\n",
      "Validation loss: 1.0322\n",
      "One day, a dog named Spot was playing with Tim. Max loved to play with his ball.\n",
      "\n",
      "Jack was very lonely. He knew he had to play. As he stopped high,, he saw a squirrel named Tim was in the garden and caught him. Max\n",
      "\n",
      "Step 113152: Performing validation\n",
      "Learning rate: 0.000033\n"
     ]
    },
    {
     "data": {
      "application/vnd.jupyter.widget-view+json": {
       "model_id": "b226fb0c094243e49c04df2737429a0c",
       "version_major": 2,
       "version_minor": 0
      },
      "text/plain": [
       "  0%|          | 0/16 [00:00<?, ?it/s]"
      ]
     },
     "metadata": {},
     "output_type": "display_data"
    },
    {
     "name": "stdout",
     "output_type": "stream",
     "text": [
      "Train loss: 1.3401\n",
      "Validation loss: 1.0305\n",
      "One day, a dog named Mitt named Max was playing in the sun. Max was singing in the park. Max saw a little dog in his house. Fluffy wanted to get up and make the peach too much tug. She wicked yell.\n",
      "\n",
      "Max's tail\n",
      "\n",
      "Step 113664: Performing validation\n",
      "Learning rate: 0.000031\n"
     ]
    },
    {
     "data": {
      "application/vnd.jupyter.widget-view+json": {
       "model_id": "0fa758ef53a345d9940028421b4183bc",
       "version_major": 2,
       "version_minor": 0
      },
      "text/plain": [
       "  0%|          | 0/16 [00:00<?, ?it/s]"
      ]
     },
     "metadata": {},
     "output_type": "display_data"
    },
    {
     "name": "stdout",
     "output_type": "stream",
     "text": [
      "Train loss: 1.3049\n",
      "Validation loss: 1.0315\n",
      "One day, a dog named Timmy loved to sing in the street. One day, he found a big pole. Timmy had a big house because it started to ride his apple. So, he found a big tree on it. The bird saw what was difficult.\n",
      "\n",
      "Step 114176: Performing validation\n",
      "Learning rate: 0.000030\n"
     ]
    },
    {
     "data": {
      "application/vnd.jupyter.widget-view+json": {
       "model_id": "332c49f408f54a09a7731e4009e4877b",
       "version_major": 2,
       "version_minor": 0
      },
      "text/plain": [
       "  0%|          | 0/16 [00:00<?, ?it/s]"
      ]
     },
     "metadata": {},
     "output_type": "display_data"
    },
    {
     "name": "stdout",
     "output_type": "stream",
     "text": [
      "Train loss: 1.3475\n",
      "Validation loss: 1.0299\n",
      "One day, a dog named Max was playing in the park. He looked very fast because he entered his yard. Max stopped, but he came in the yard.\n",
      "\n",
      "\"Don't go!\" Max said, holding he reached his hand around. \n",
      "\n",
      "Max was\n",
      "\n",
      "Step 114688: Performing validation\n",
      "Learning rate: 0.000028\n"
     ]
    },
    {
     "data": {
      "application/vnd.jupyter.widget-view+json": {
       "model_id": "e10d083574584d928a2897df6aa12690",
       "version_major": 2,
       "version_minor": 0
      },
      "text/plain": [
       "  0%|          | 0/16 [00:00<?, ?it/s]"
      ]
     },
     "metadata": {},
     "output_type": "display_data"
    },
    {
     "name": "stdout",
     "output_type": "stream",
     "text": [
      "Train loss: 1.1802\n",
      "Validation loss: 1.0294\n",
      "One day, a dog named Max was a dog who loved to play games. One day, Sarah went to go playing in the park. She saw a big bush and said, \"Hi! You don't want to play here!\" Lily and Sue told her that it was\n",
      "\n",
      "Step 115200: Performing validation\n",
      "Learning rate: 0.000026\n"
     ]
    },
    {
     "data": {
      "application/vnd.jupyter.widget-view+json": {
       "model_id": "a4207aa61fc143a4800a7d3cb3c89677",
       "version_major": 2,
       "version_minor": 0
      },
      "text/plain": [
       "  0%|          | 0/16 [00:00<?, ?it/s]"
      ]
     },
     "metadata": {},
     "output_type": "display_data"
    },
    {
     "name": "stdout",
     "output_type": "stream",
     "text": [
      "Train loss: 1.1364\n",
      "Validation loss: 1.0292\n",
      "One day, a dog named Tom saw a pretty balloon in the park. Tom was very pretty. Tom had a toy blanket to reach it.\n",
      "\n",
      "Tom crawled around and watched Red. Tom laughed like the balloon.\n",
      "\"I can fix the balloon?\" Tom said.\n",
      "\n",
      "Step 115712: Performing validation\n",
      "Learning rate: 0.000025\n"
     ]
    },
    {
     "data": {
      "application/vnd.jupyter.widget-view+json": {
       "model_id": "b0396f285ce246e0a34ae75a03a292a8",
       "version_major": 2,
       "version_minor": 0
      },
      "text/plain": [
       "  0%|          | 0/16 [00:00<?, ?it/s]"
      ]
     },
     "metadata": {},
     "output_type": "display_data"
    },
    {
     "name": "stdout",
     "output_type": "stream",
     "text": [
      "Train loss: 1.0885\n",
      "Validation loss: 1.0283\n",
      "One day, a dog named Max went to the store with her mom. Max had to watch the red car. Max liked to stand.\n",
      "\n",
      "When he went back to the park, he saw a bike and a fun. He stepped on the car and sang at school\n",
      "\n",
      "Step 116224: Performing validation\n",
      "Learning rate: 0.000023\n"
     ]
    },
    {
     "data": {
      "application/vnd.jupyter.widget-view+json": {
       "model_id": "3e519b55d66e405ca059925f952197bb",
       "version_major": 2,
       "version_minor": 0
      },
      "text/plain": [
       "  0%|          | 0/16 [00:00<?, ?it/s]"
      ]
     },
     "metadata": {},
     "output_type": "display_data"
    },
    {
     "name": "stdout",
     "output_type": "stream",
     "text": [
      "Train loss: 1.0035\n",
      "Validation loss: 1.0282\n",
      "One day, a dog called Spot lived a rubber boy called Spot. Spot was very happy and played with each eat his bike.\n",
      "\n",
      "Max, a little boy named Spot came to his friends. \"Look, Max!\" Red bark. \"Do you want to do?\"\n",
      "\n",
      "Step 116736: Performing validation\n",
      "Learning rate: 0.000022\n"
     ]
    },
    {
     "data": {
      "application/vnd.jupyter.widget-view+json": {
       "model_id": "8c12262b1a9d4ff288698fb612a197c3",
       "version_major": 2,
       "version_minor": 0
      },
      "text/plain": [
       "  0%|          | 0/16 [00:00<?, ?it/s]"
      ]
     },
     "metadata": {},
     "output_type": "display_data"
    },
    {
     "name": "stdout",
     "output_type": "stream",
     "text": [
      "Train loss: 1.3750\n",
      "Validation loss: 1.0277\n",
      "One day, a dog named Benny was a little dog. Sammy the dog was three years old and wagged his tail. Tweetie loved to play with his paws safe too. One day, fields were playing with the squirrel kneeling by and ran to the dog. The dog\n",
      "\n",
      "Step 117248: Performing validation\n",
      "Learning rate: 0.000020\n"
     ]
    },
    {
     "data": {
      "application/vnd.jupyter.widget-view+json": {
       "model_id": "8d3641cb70794dad99aa7b0400c9cc2c",
       "version_major": 2,
       "version_minor": 0
      },
      "text/plain": [
       "  0%|          | 0/16 [00:00<?, ?it/s]"
      ]
     },
     "metadata": {},
     "output_type": "display_data"
    },
    {
     "name": "stdout",
     "output_type": "stream",
     "text": [
      "Train loss: 1.0799\n",
      "Validation loss: 1.0276\n",
      "One day, a dog named Sam and Sue loved to play outdoors. Tom liked very much. Sam wanted to pick some cones some leaves and stones around them. Tom thought why his names was right. Sue would show Tom, people he smiled and went to play.\n",
      "\n",
      "\n",
      "\n",
      "Step 117760: Performing validation\n",
      "Learning rate: 0.000019\n"
     ]
    },
    {
     "data": {
      "application/vnd.jupyter.widget-view+json": {
       "model_id": "69dc2fe55e214c8999e8542501777ea4",
       "version_major": 2,
       "version_minor": 0
      },
      "text/plain": [
       "  0%|          | 0/16 [00:00<?, ?it/s]"
      ]
     },
     "metadata": {},
     "output_type": "display_data"
    },
    {
     "name": "stdout",
     "output_type": "stream",
     "text": [
      "Train loss: 1.0368\n",
      "Validation loss: 1.0273\n",
      "One day, a dog named Sammy had a sack. He went to a walk in his house. He knew he would be something to do. He thought that he could make his box. He worked hard and moved it.\n",
      "\n",
      "The owner saw a little knot and called\n",
      "\n",
      "Step 118272: Performing validation\n",
      "Learning rate: 0.000018\n"
     ]
    },
    {
     "data": {
      "application/vnd.jupyter.widget-view+json": {
       "model_id": "36eef8bc5e1242bc8f6b6d15d5ec4e77",
       "version_major": 2,
       "version_minor": 0
      },
      "text/plain": [
       "  0%|          | 0/16 [00:00<?, ?it/s]"
      ]
     },
     "metadata": {},
     "output_type": "display_data"
    },
    {
     "name": "stdout",
     "output_type": "stream",
     "text": [
      "Train loss: 1.0519\n",
      "Validation loss: 1.0265\n",
      "One day, a dog named Spot went outside a walk in the big yard. He saw a small curtain and wanted to look for the wall. The uniforms caught the fur and put them all the wall. They were all bit happy on the grass.\n",
      "\n",
      "As they finally\n",
      "\n",
      "Step 118784: Performing validation\n",
      "Learning rate: 0.000016\n"
     ]
    },
    {
     "data": {
      "application/vnd.jupyter.widget-view+json": {
       "model_id": "f6ef05cfb3384f159e2c418d6449dcac",
       "version_major": 2,
       "version_minor": 0
      },
      "text/plain": [
       "  0%|          | 0/16 [00:00<?, ?it/s]"
      ]
     },
     "metadata": {},
     "output_type": "display_data"
    },
    {
     "name": "stdout",
     "output_type": "stream",
     "text": [
      "Train loss: 1.2232\n",
      "Validation loss: 1.0262\n",
      "One day, a dog named Max wanted to play with his friends. They got outside and got tired. They knew they could make an answer.\n",
      "\n",
      "Max jumping around the garden. He saw a big box. He was trying with the paper too. He ran over the\n",
      "\n",
      "Step 119296: Performing validation\n",
      "Learning rate: 0.000015\n"
     ]
    },
    {
     "data": {
      "application/vnd.jupyter.widget-view+json": {
       "model_id": "c43b33fcc98145f3a3cbf39236b865b8",
       "version_major": 2,
       "version_minor": 0
      },
      "text/plain": [
       "  0%|          | 0/16 [00:00<?, ?it/s]"
      ]
     },
     "metadata": {},
     "output_type": "display_data"
    },
    {
     "name": "stdout",
     "output_type": "stream",
     "text": [
      "Train loss: 1.1274\n",
      "Validation loss: 1.0258\n",
      "One day, a dog named Benny went went to the park to play outside. He decided to zip, but he started to catch the steps. Jerry was sad because he couldn't find out his tail.\n",
      "\n",
      "Demo went to the park to see what could find.\n",
      "\n",
      "Step 119808: Performing validation\n",
      "Learning rate: 0.000014\n"
     ]
    },
    {
     "data": {
      "application/vnd.jupyter.widget-view+json": {
       "model_id": "d686b0704c1a49c099cff7b2898b0eb8",
       "version_major": 2,
       "version_minor": 0
      },
      "text/plain": [
       "  0%|          | 0/16 [00:00<?, ?it/s]"
      ]
     },
     "metadata": {},
     "output_type": "display_data"
    },
    {
     "name": "stdout",
     "output_type": "stream",
     "text": [
      "Train loss: 1.0810\n",
      "Validation loss: 1.0254\n",
      "One day, a dog named Spot went to home with his dog. Spot liked to play with Spot with the owner and chase it. Spot played on the street, Spot like the dog, bananas, Spot could not listen to them away, making a nations.\n",
      "\n",
      "One\n",
      "\n",
      "Step 120320: Performing validation\n",
      "Learning rate: 0.000013\n"
     ]
    },
    {
     "data": {
      "application/vnd.jupyter.widget-view+json": {
       "model_id": "d5d3e5175e364914b79f6164c668f3ba",
       "version_major": 2,
       "version_minor": 0
      },
      "text/plain": [
       "  0%|          | 0/16 [00:00<?, ?it/s]"
      ]
     },
     "metadata": {},
     "output_type": "display_data"
    },
    {
     "name": "stdout",
     "output_type": "stream",
     "text": [
      "Train loss: 1.2436\n",
      "Validation loss: 1.0251\n",
      "One day, a dog named Tim went to the park. He saw a cat on a tree. Tim said, \"Hi, dog, chubby dog will play on, not!\"\n",
      "\n",
      "Tim and Mia was playing near the park. They lived in the park, and\n",
      "\n",
      "Step 120832: Performing validation\n",
      "Learning rate: 0.000012\n"
     ]
    },
    {
     "data": {
      "application/vnd.jupyter.widget-view+json": {
       "model_id": "9d8f382a46314a79a39313f19cbeb5ee",
       "version_major": 2,
       "version_minor": 0
      },
      "text/plain": [
       "  0%|          | 0/16 [00:00<?, ?it/s]"
      ]
     },
     "metadata": {},
     "output_type": "display_data"
    },
    {
     "name": "stdout",
     "output_type": "stream",
     "text": [
      "Train loss: 1.2538\n",
      "Validation loss: 1.0250\n",
      "One day, a dog named Tim went to play with his friends. He found a ball in his face. \n",
      "\"Hi, Tim, are Tim!\" Tim said, \"I want to race! It is good!\"\n",
      "\n",
      "Tim thought for a healthy idea. He\n",
      "\n",
      "Step 121344: Performing validation\n",
      "Learning rate: 0.000011\n"
     ]
    },
    {
     "data": {
      "application/vnd.jupyter.widget-view+json": {
       "model_id": "f6c58a308ead41e9b53c26a8c1543108",
       "version_major": 2,
       "version_minor": 0
      },
      "text/plain": [
       "  0%|          | 0/16 [00:00<?, ?it/s]"
      ]
     },
     "metadata": {},
     "output_type": "display_data"
    },
    {
     "name": "stdout",
     "output_type": "stream",
     "text": [
      "Train loss: 1.1945\n",
      "Validation loss: 1.0248\n",
      "One day, a dog named Sam went for his mom. Max had a walk. They wanted to watch the ball too. They played, looking around and had a picnic. They pressed the ground and leaves.\n",
      "\n",
      "At the park, Tim saw wedding. He wanted to\n",
      "\n",
      "Step 121856: Performing validation\n",
      "Learning rate: 0.000010\n"
     ]
    },
    {
     "data": {
      "application/vnd.jupyter.widget-view+json": {
       "model_id": "600670568ba84ac3af787dbe7422f294",
       "version_major": 2,
       "version_minor": 0
      },
      "text/plain": [
       "  0%|          | 0/16 [00:00<?, ?it/s]"
      ]
     },
     "metadata": {},
     "output_type": "display_data"
    },
    {
     "name": "stdout",
     "output_type": "stream",
     "text": [
      "Train loss: 1.2010\n",
      "Validation loss: 1.0245\n",
      "One day, a dog named Spot were playing in the park. He wanted to play with it, but he went very fast. He thought it was fat and was cold.\n",
      "\n",
      "Tom,'m playing in the park. He saw a man Spot and made him feel his\n",
      "\n",
      "Step 122368: Performing validation\n",
      "Learning rate: 0.000009\n"
     ]
    },
    {
     "data": {
      "application/vnd.jupyter.widget-view+json": {
       "model_id": "a6c645347575470995b3212cff02c2b6",
       "version_major": 2,
       "version_minor": 0
      },
      "text/plain": [
       "  0%|          | 0/16 [00:00<?, ?it/s]"
      ]
     },
     "metadata": {},
     "output_type": "display_data"
    },
    {
     "name": "stdout",
     "output_type": "stream",
     "text": [
      "Train loss: 1.3369\n",
      "Validation loss: 1.0244\n",
      "One day, a dog named Max was playing near the park. Max found something very shiny and wanted to find it. He put it everywhere and got fancy. He grabbed it up and said, \"Tom! He's not fake dog.\" Max was very happy and said,\n",
      "\n",
      "Step 122880: Performing validation\n",
      "Learning rate: 0.000008\n"
     ]
    },
    {
     "data": {
      "application/vnd.jupyter.widget-view+json": {
       "model_id": "dffdfea56b724aa288664a3d45544757",
       "version_major": 2,
       "version_minor": 0
      },
      "text/plain": [
       "  0%|          | 0/16 [00:00<?, ?it/s]"
      ]
     },
     "metadata": {},
     "output_type": "display_data"
    },
    {
     "name": "stdout",
     "output_type": "stream",
     "text": [
      "Train loss: 1.2070\n",
      "Validation loss: 1.0243\n",
      "One day, a dog named Sam Dog until the sun came to play. They to play in the top, but Tom was going to the park, but Tom fell.\n",
      "\n",
      "Tom's friend if he said, \"Yes, Tom! We are playing with Ben!\" and\n",
      "\n",
      "Step 123392: Performing validation\n",
      "Learning rate: 0.000007\n"
     ]
    },
    {
     "data": {
      "application/vnd.jupyter.widget-view+json": {
       "model_id": "3455bd2a9a3542c59bbf68ae06f24b90",
       "version_major": 2,
       "version_minor": 0
      },
      "text/plain": [
       "  0%|          | 0/16 [00:00<?, ?it/s]"
      ]
     },
     "metadata": {},
     "output_type": "display_data"
    },
    {
     "name": "stdout",
     "output_type": "stream",
     "text": [
      "Train loss: 1.5257\n",
      "Validation loss: 1.0241\n",
      "One day, a dog named Max was sad. He wondered what he was brave. He had a big, sweet ornament on the dirty chamber.\n",
      "\n",
      "Max was very happy to have a moment. He tried to press it and black wand. He cried again and cried.\n",
      "\n",
      "Step 123904: Performing validation\n",
      "Learning rate: 0.000006\n"
     ]
    },
    {
     "data": {
      "application/vnd.jupyter.widget-view+json": {
       "model_id": "66351c5baaaa4590bf766067f9795be9",
       "version_major": 2,
       "version_minor": 0
      },
      "text/plain": [
       "  0%|          | 0/16 [00:00<?, ?it/s]"
      ]
     },
     "metadata": {},
     "output_type": "display_data"
    },
    {
     "name": "stdout",
     "output_type": "stream",
     "text": [
      "Train loss: 1.0224\n",
      "Validation loss: 1.0239\n",
      "One day, a dog named Spot were playing with his name. Spot had so beautiful. Spot was happy. Spot felt happy for the dog. He liked to swim together.\n",
      "\n",
      "Spot found his balloon, Spot woke up and a branch in his cage. Spot was so\n",
      "\n",
      "Step 124416: Performing validation\n",
      "Learning rate: 0.000006\n"
     ]
    },
    {
     "data": {
      "application/vnd.jupyter.widget-view+json": {
       "model_id": "0cd8082b32e54a3f9efbac671355eac3",
       "version_major": 2,
       "version_minor": 0
      },
      "text/plain": [
       "  0%|          | 0/16 [00:00<?, ?it/s]"
      ]
     },
     "metadata": {},
     "output_type": "display_data"
    },
    {
     "name": "stdout",
     "output_type": "stream",
     "text": [
      "Train loss: 1.3045\n",
      "Validation loss: 1.0238\n",
      "One day, a dog named Tim went to the park with his mom. Tim saw a dog and furry. Tim wanted the pigeon, but it was a long. Tim wanted to beep to see the nut and stay.\n",
      "\n",
      "Tim thought of the cat and took the\n",
      "\n",
      "Step 124928: Performing validation\n",
      "Learning rate: 0.000005\n"
     ]
    },
    {
     "data": {
      "application/vnd.jupyter.widget-view+json": {
       "model_id": "4ee8e197830442ca8139f6801ec9e8f5",
       "version_major": 2,
       "version_minor": 0
      },
      "text/plain": [
       "  0%|          | 0/16 [00:00<?, ?it/s]"
      ]
     },
     "metadata": {},
     "output_type": "display_data"
    },
    {
     "name": "stdout",
     "output_type": "stream",
     "text": [
      "Train loss: 1.2071\n",
      "Validation loss: 1.0237\n",
      "One day, a dog named Emily went outside with a walk. She was very excited because she spotted her mom and wanted to join him race. She watched as she clag it, when she heard a loud loud noise. She looked closer and saw a noise on the mud\n",
      "\n",
      "Step 125440: Performing validation\n",
      "Learning rate: 0.000004\n"
     ]
    },
    {
     "data": {
      "application/vnd.jupyter.widget-view+json": {
       "model_id": "99b79522db8340969be25d8db85a8458",
       "version_major": 2,
       "version_minor": 0
      },
      "text/plain": [
       "  0%|          | 0/16 [00:00<?, ?it/s]"
      ]
     },
     "metadata": {},
     "output_type": "display_data"
    },
    {
     "name": "stdout",
     "output_type": "stream",
     "text": [
      "Train loss: 1.1876\n",
      "Validation loss: 1.0236\n",
      "One day, a dog named Sam and Spot, was a dog. Spot went to her park with a big dog, a cat. He liked to play with Spot.\n",
      "\n",
      "\"Help, warm,\" Sue said a balloon. Max pet dogs, \"Oh, you like\n",
      "\n",
      "Step 125952: Performing validation\n",
      "Learning rate: 0.000004\n"
     ]
    },
    {
     "data": {
      "application/vnd.jupyter.widget-view+json": {
       "model_id": "d68bfa9640e24c6eb7bf8494c377a578",
       "version_major": 2,
       "version_minor": 0
      },
      "text/plain": [
       "  0%|          | 0/16 [00:00<?, ?it/s]"
      ]
     },
     "metadata": {},
     "output_type": "display_data"
    },
    {
     "name": "stdout",
     "output_type": "stream",
     "text": [
      "Train loss: 1.1249\n",
      "Validation loss: 1.0234\n",
      "One day, a dog named Sue went for a walk. Tim wanted to take a big umbrella. He packed his feet for a red rainbow. Max said, \"Let's play with our family.\" Max said, \"I'll pull the glow!\"\n",
      "\n",
      "As Max flew\n",
      "\n",
      "Step 126464: Performing validation\n",
      "Learning rate: 0.000003\n"
     ]
    },
    {
     "data": {
      "application/vnd.jupyter.widget-view+json": {
       "model_id": "04b5cc4c861c4586a3b2a8a4939fbe5e",
       "version_major": 2,
       "version_minor": 0
      },
      "text/plain": [
       "  0%|          | 0/16 [00:00<?, ?it/s]"
      ]
     },
     "metadata": {},
     "output_type": "display_data"
    },
    {
     "name": "stdout",
     "output_type": "stream",
     "text": [
      "Train loss: 0.9209\n",
      "Validation loss: 1.0232\n",
      "One day, a dog named Tom were playing in the park. Sam was running around as he heard a curious badge. He wanted to find it, but his dog was in Mia. Bob waved it shade and the dog started to melt. Max got scared and could. The\n",
      "\n",
      "Step 126976: Performing validation\n",
      "Learning rate: 0.000002\n"
     ]
    },
    {
     "data": {
      "application/vnd.jupyter.widget-view+json": {
       "model_id": "3ff64e2db32a405c80dcc4a33580b703",
       "version_major": 2,
       "version_minor": 0
      },
      "text/plain": [
       "  0%|          | 0/16 [00:00<?, ?it/s]"
      ]
     },
     "metadata": {},
     "output_type": "display_data"
    },
    {
     "name": "stdout",
     "output_type": "stream",
     "text": [
      "Train loss: 1.2248\n",
      "Validation loss: 1.0232\n",
      "One day, a dog named Max went for many snow. Lily was very curious, but it was a smile. Sam saw a big white truck and had colorful windows. He was being friends and daddy, was a bear.\n",
      "\n",
      "Max and his friends bit of the truck\n",
      "\n",
      "Step 127488: Performing validation\n",
      "Learning rate: 0.000002\n"
     ]
    },
    {
     "data": {
      "application/vnd.jupyter.widget-view+json": {
       "model_id": "552c55ff2f2e4801a73dd0f967f70ef0",
       "version_major": 2,
       "version_minor": 0
      },
      "text/plain": [
       "  0%|          | 0/16 [00:00<?, ?it/s]"
      ]
     },
     "metadata": {},
     "output_type": "display_data"
    },
    {
     "name": "stdout",
     "output_type": "stream",
     "text": [
      "Train loss: 1.3466\n",
      "Validation loss: 1.0232\n",
      "One day, a dog named Spot went for a walk. He was playing with his own shoe. It was white and wanted to be away.\n",
      "\n",
      "\"Shaps,\" Tucky replied. \"Playing quick!\"\n",
      " Spot was very good fun to make jokes. \"I\n",
      "\n",
      "Step 128000: Performing validation\n",
      "Learning rate: 0.000002\n"
     ]
    },
    {
     "data": {
      "application/vnd.jupyter.widget-view+json": {
       "model_id": "3122306041f440969d32a99e5f97145c",
       "version_major": 2,
       "version_minor": 0
      },
      "text/plain": [
       "  0%|          | 0/16 [00:00<?, ?it/s]"
      ]
     },
     "metadata": {},
     "output_type": "display_data"
    },
    {
     "name": "stdout",
     "output_type": "stream",
     "text": [
      "Train loss: 1.0706\n",
      "Validation loss: 1.0232\n",
      "One day, a dog named Max and Max were playing in the park. Max saw a shiny bow in the ground. Max wanted to his car and ran away. Max didn't want to run around the ball.\n",
      "\n",
      "Suddenly, Max came from the tail. He saw\n",
      "\n",
      "Step 128512: Performing validation\n",
      "Learning rate: 0.000001\n"
     ]
    },
    {
     "data": {
      "application/vnd.jupyter.widget-view+json": {
       "model_id": "167ab4166c334a9a84640b705c349e6c",
       "version_major": 2,
       "version_minor": 0
      },
      "text/plain": [
       "  0%|          | 0/16 [00:00<?, ?it/s]"
      ]
     },
     "metadata": {},
     "output_type": "display_data"
    },
    {
     "name": "stdout",
     "output_type": "stream",
     "text": [
      "Train loss: 1.5955\n",
      "Validation loss: 1.0233\n",
      "One day, a dog named Spot found a horse too. He wanted to fly around him. Spot went to the park and took a tree. Spot saw a big dog with clay. Spot brought it to Sam's wool to his leg and make Ann likes the fish.\n",
      "\n",
      "\n",
      "Step 129024: Performing validation\n",
      "Learning rate: 0.000001\n"
     ]
    },
    {
     "data": {
      "application/vnd.jupyter.widget-view+json": {
       "model_id": "af3cd303f40f4164b167f23076bc38df",
       "version_major": 2,
       "version_minor": 0
      },
      "text/plain": [
       "  0%|          | 0/16 [00:00<?, ?it/s]"
      ]
     },
     "metadata": {},
     "output_type": "display_data"
    },
    {
     "name": "stdout",
     "output_type": "stream",
     "text": [
      "Train loss: 1.1374\n",
      "Validation loss: 1.0232\n",
      "One day, a dog named Max went for a walk with a spot. He saw a funny dog named Max was not walked away. Max was proud of Max. Then, Max walked to the car and started to blow there. But when he woke up, Max got there\n",
      "\n",
      "Step 129536: Performing validation\n",
      "Learning rate: 0.000001\n"
     ]
    },
    {
     "data": {
      "application/vnd.jupyter.widget-view+json": {
       "model_id": "f22c4ce5c33c4e2f9b876e4650645d27",
       "version_major": 2,
       "version_minor": 0
      },
      "text/plain": [
       "  0%|          | 0/16 [00:00<?, ?it/s]"
      ]
     },
     "metadata": {},
     "output_type": "display_data"
    },
    {
     "name": "stdout",
     "output_type": "stream",
     "text": [
      "Train loss: 1.3199\n",
      "Validation loss: 1.0232\n",
      "One day, a dog named Spot was playing with his ball. Spot wanted to fly around its friend, but Spot was having very angry. Spot was sad because Tom's owner knew had to fly home for him a nap. Spot met Spot cold idea.\n",
      "\n",
      "Tom bark\n",
      "\n",
      "Step 130048: Performing validation\n",
      "Learning rate: 0.000000\n"
     ]
    },
    {
     "data": {
      "application/vnd.jupyter.widget-view+json": {
       "model_id": "beb3f1624645410691490194249c51fd",
       "version_major": 2,
       "version_minor": 0
      },
      "text/plain": [
       "  0%|          | 0/16 [00:00<?, ?it/s]"
      ]
     },
     "metadata": {},
     "output_type": "display_data"
    },
    {
     "name": "stdout",
     "output_type": "stream",
     "text": [
      "Train loss: 1.3783\n",
      "Validation loss: 1.0232\n",
      "One day, a dog named Max found a hole with a truck and a place. Max had a big mushroom, but he was afraid. Max was very happy and said, \"Mom, let's go!\"\n",
      "\n",
      "Tim called him to the way for a safe spot to\n",
      "\n",
      "Step 130560: Performing validation\n",
      "Learning rate: 0.000000\n"
     ]
    },
    {
     "data": {
      "application/vnd.jupyter.widget-view+json": {
       "model_id": "ebe7fd7094f24871ac32562ba26373b9",
       "version_major": 2,
       "version_minor": 0
      },
      "text/plain": [
       "  0%|          | 0/16 [00:00<?, ?it/s]"
      ]
     },
     "metadata": {},
     "output_type": "display_data"
    },
    {
     "name": "stdout",
     "output_type": "stream",
     "text": [
      "Train loss: 1.2316\n",
      "Validation loss: 1.0231\n",
      "One day, a dog named Fin saw a big dog named Spot. Spot loved to jump with Spot. Spot liked to get the park and watch Max. But Spot saw a lot of the squirrel. Lily wanted to find lots of Max and catch him.\n",
      "\n",
      "Spot wanted\n",
      "\n",
      "Step 131072: Performing validation\n",
      "Learning rate: 0.000000\n"
     ]
    },
    {
     "data": {
      "application/vnd.jupyter.widget-view+json": {
       "model_id": "5c66540b51f44944b3edf032c25fc555",
       "version_major": 2,
       "version_minor": 0
      },
      "text/plain": [
       "  0%|          | 0/16 [00:00<?, ?it/s]"
      ]
     },
     "metadata": {},
     "output_type": "display_data"
    },
    {
     "name": "stdout",
     "output_type": "stream",
     "text": [
      "Train loss: 1.1407\n",
      "Validation loss: 1.0231\n",
      "One day, a dog named Tim woke up to a walk in the garden. He wanted to take a ride on the grass. He saw a big, brown swim in the neighborhood. He decided to climb it too. \n",
      "\n",
      " arrows started to swim in the fence.\n",
      "\n",
      "Step 131584: Performing validation\n",
      "Learning rate: 0.000000\n"
     ]
    },
    {
     "data": {
      "application/vnd.jupyter.widget-view+json": {
       "model_id": "f15ab2bff7d24888a57acd9ce71be18b",
       "version_major": 2,
       "version_minor": 0
      },
      "text/plain": [
       "  0%|          | 0/16 [00:00<?, ?it/s]"
      ]
     },
     "metadata": {},
     "output_type": "display_data"
    },
    {
     "name": "stdout",
     "output_type": "stream",
     "text": [
      "Train loss: 1.1538\n",
      "Validation loss: 1.0231\n",
      "One day, a dog named Timmy went for a walk with his dad. They saw a big, ducks. Billy wanted to see! He said, \"Let's wear his dad wraps me. But you come inside the park later.\" Timmy didn't want to go\n",
      "\n",
      "Step 132096: Performing validation\n",
      "Learning rate: 0.000000\n"
     ]
    },
    {
     "data": {
      "application/vnd.jupyter.widget-view+json": {
       "model_id": "44b9a2f20d654c2abbc53fa2aaf4f04b",
       "version_major": 2,
       "version_minor": 0
      },
      "text/plain": [
       "  0%|          | 0/16 [00:00<?, ?it/s]"
      ]
     },
     "metadata": {},
     "output_type": "display_data"
    },
    {
     "name": "stdout",
     "output_type": "stream",
     "text": [
      "Train loss: 1.3599\n",
      "Validation loss: 1.0231\n",
      "One day, a dog named Max had a big coat driving on the truck. The dog felt sniffed the puddle and he put the wagon away in his outfits. The clinic, a delicious puddle with flour, a big smile. Max wanted to sleep on the p\n"
     ]
    }
   ],
   "source": [
    "for iter, batch in enumerate(tqdm.notebook.tqdm(train_dataloader, total=len(train_dataloader))):\n",
    "    # inputs, targets = batch['text'], batch['text']\n",
    "    inputs = batch['input'][:, :-1]\n",
    "    targets = batch['input'][:, 1:]\n",
    "    inputs, targets = inputs.to(device), targets.to(device)\n",
    "\n",
    "    with torch.autocast(device_type=str(device), dtype=torch.bfloat16):\n",
    "        logits, _ = model(inputs)\n",
    "        loss = F.cross_entropy(\n",
    "\t\t\tlogits.view(-1, logits.size(-1)),\n",
    "\t\t\ttargets.view(-1),\n",
    "\t\t\tignore_index=tokenizer.pad_id\n",
    "\t\t)\n",
    "\n",
    "    loss = loss / gradient_accumulation_steps\n",
    "    loss.backward()\n",
    "\n",
    "    norm = torch.nn.utils.clip_grad_norm_(model.parameters(), max_norm=1.0)\n",
    "    \n",
    "    if (iter + 1) % gradient_accumulation_steps == 0:\n",
    "        optimizer.step()\n",
    "        optimizer.zero_grad()\n",
    "        scheduler.step()\n",
    "\n",
    "    if iter % (gradient_accumulation_steps * 2) == 0 or iter == max_iters - 1:\n",
    "        print(f\"\\nStep {iter}: Performing validation\")\n",
    "        print(f\"Learning rate: {scheduler.get_last_lr()[0]:.6f}\")\n",
    "        model.eval()\n",
    "        with torch.no_grad():\n",
    "            val_loss = 0\n",
    "            train_loss = loss.item() * gradient_accumulation_steps\n",
    "            for batch in tqdm.notebook.tqdm(valid_dataloader, total=len(valid_dataloader)):\n",
    "                # inputs, targets = batch['text'], batch['text']\n",
    "                inputs = batch['input'][:, :-1]\n",
    "                targets = batch['input'][:, 1:]\n",
    "                inputs, targets = inputs.to(device), targets.to(device)\n",
    "                logits, _ = model(inputs)\n",
    "                loss = F.cross_entropy(\n",
    "                    logits.view(-1, logits.size(-1)),\n",
    "\t\t\t\t\ttargets.view(-1),\n",
    "\t\t\t\t\tignore_index=tokenizer.pad_id\n",
    "\t\t\t\t)\n",
    "                val_loss += loss.item()\n",
    "\n",
    "            torch.save(model.state_dict(), f\"ckpt/ckpt_{iter}.pt\")\n",
    "            print(f\"Train loss: {train_loss:.4f}\")\n",
    "            print(f\"Validation loss: {val_loss / len(valid_dataloader):.4f}\")\n",
    "\n",
    "            prompt = \"One day, a dog\"\n",
    "            prompt = torch.tensor([encode(prompt)], dtype=torch.long, device=device)\n",
    "            output = decode(generate(model, prompt, max_new_tokens=50)[0].tolist())\n",
    "            print(output)\n",
    "            output = output.replace(\"\\n\", \"\\n\")\n",
    "            output = output.replace('\"', \"'\") \n",
    "            with open(\"losses.txt\", \"a\") as f:\n",
    "                f.write(f\"{iter},{scheduler.get_last_lr()[0]:.6f},{train_loss},{val_loss / len(valid_dataloader)},\\\"{output}\\\"\\n\")\n",
    "        model.train()"
   ]
  },
  {
   "cell_type": "code",
   "execution_count": 35,
   "metadata": {},
   "outputs": [],
   "source": [
    "torch.save(model.state_dict(), \"final_model_tiny_stories_tiktoken_21052025_2.pt\")"
   ]
  },
  {
   "cell_type": "code",
   "execution_count": 36,
   "metadata": {
    "trusted": true
   },
   "outputs": [],
   "source": [
    "model = model.eval()"
   ]
  },
  {
   "cell_type": "code",
   "execution_count": 37,
   "metadata": {
    "trusted": true
   },
   "outputs": [
    {
     "name": "stderr",
     "output_type": "stream",
     "text": [
      "/home/shrirang/Desktop/Projects/GPT Train/venv/lib/python3.12/site-packages/torch/_inductor/lowering.py:1814: UserWarning: Torchinductor does not support code generation for complex operators. Performance may be worse than eager.\n",
      "  warnings.warn(\n",
      "W0521 21:57:58.090000 1216536 torch/_inductor/utils.py:1137] [0/4] Not enough SMs to use max_autotune_gemm mode\n"
     ]
    },
    {
     "name": "stdout",
     "output_type": "stream",
     "text": [
      "There was a girl who loved to share her toys and keep her vegetables. One day she decided to write her shoes illness. She put a tiny staff in a sticker that was a turn!\n",
      "\n",
      "The town was very curious and started to ride her car until day, a\n"
     ]
    }
   ],
   "source": [
    "prompt = \"There was a girl who\"\n",
    "\n",
    "prompt = torch.tensor([encode(prompt)], dtype=torch.long, device=device)\n",
    "print(decode(generate(model, prompt, max_new_tokens=50)[0].tolist()))"
   ]
  },
  {
   "cell_type": "code",
   "execution_count": 38,
   "metadata": {
    "trusted": true
   },
   "outputs": [
    {
     "name": "stdout",
     "output_type": "stream",
     "text": [
      "One day, a little girl named Lily found her favorite toy toy toy toy car. She was very happy and wanted to join it.\n",
      "\n",
      "As Lily decided to go on the park, Lily tried to build a jacket. The car started to play next. She liked the toys and laughed happily\n"
     ]
    }
   ],
   "source": [
    "prompt = \"One day, a little girl named Lily found\"\n",
    "\n",
    "prompt = torch.tensor([encode(prompt)], dtype=torch.long, device=device)\n",
    "print(decode(generate(model, prompt, max_new_tokens=50)[0].tolist()))"
   ]
  },
  {
   "cell_type": "code",
   "execution_count": null,
   "metadata": {},
   "outputs": [],
   "source": []
  }
 ],
 "metadata": {
  "kaggle": {
   "accelerator": "nvidiaTeslaT4",
   "dataSources": [],
   "dockerImageVersionId": 30840,
   "isGpuEnabled": true,
   "isInternetEnabled": true,
   "language": "python",
   "sourceType": "notebook"
  },
  "kernelspec": {
   "display_name": "venv",
   "language": "python",
   "name": "python3"
  },
  "language_info": {
   "codemirror_mode": {
    "name": "ipython",
    "version": 3
   },
   "file_extension": ".py",
   "mimetype": "text/x-python",
   "name": "python",
   "nbconvert_exporter": "python",
   "pygments_lexer": "ipython3",
   "version": "3.12.3"
  }
 },
 "nbformat": 4,
 "nbformat_minor": 4
}
