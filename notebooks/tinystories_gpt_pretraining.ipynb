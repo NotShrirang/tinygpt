{
 "cells": [
  {
   "cell_type": "code",
   "execution_count": 1,
   "metadata": {
    "_cell_guid": "b1076dfc-b9ad-4769-8c92-a6c4dae69d19",
    "_uuid": "8f2839f25d086af736a60e9eeb907d3b93b6e0e5",
    "execution": {
     "iopub.execute_input": "2025-03-29T17:14:32.896673Z",
     "iopub.status.busy": "2025-03-29T17:14:32.896361Z",
     "iopub.status.idle": "2025-03-29T17:14:35.378102Z",
     "shell.execute_reply": "2025-03-29T17:14:35.377187Z",
     "shell.execute_reply.started": "2025-03-29T17:14:32.896648Z"
    },
    "trusted": true
   },
   "outputs": [],
   "source": [
    "import torch\n",
    "import torch.nn as nn\n",
    "from torch.nn import functional as F\n",
    "import torch.optim.lr_scheduler as lr_scheduler\n",
    "from torch.utils.data import DataLoader, Subset\n",
    "import tqdm\n",
    "import json\n",
    "import datasets\n",
    "from typing import List\n",
    "import os\n",
    "import pandas as pd\n",
    "import tiktoken\n",
    "import inspect"
   ]
  },
  {
   "cell_type": "code",
   "execution_count": 2,
   "metadata": {
    "execution": {
     "iopub.execute_input": "2025-03-29T17:14:35.379543Z",
     "iopub.status.busy": "2025-03-29T17:14:35.379074Z",
     "iopub.status.idle": "2025-03-29T17:14:35.512816Z",
     "shell.execute_reply": "2025-03-29T17:14:35.511618Z",
     "shell.execute_reply.started": "2025-03-29T17:14:35.379519Z"
    },
    "trusted": true
   },
   "outputs": [
    {
     "name": "stdout",
     "output_type": "stream",
     "text": [
      "mkdir: cannot create directory ‘data/’: File exists\n"
     ]
    }
   ],
   "source": [
    "!mkdir data/"
   ]
  },
  {
   "cell_type": "code",
   "execution_count": 3,
   "metadata": {
    "execution": {
     "iopub.execute_input": "2025-03-29T17:14:35.539185Z",
     "iopub.status.busy": "2025-03-29T17:14:35.538969Z",
     "iopub.status.idle": "2025-03-29T17:14:35.801760Z",
     "shell.execute_reply": "2025-03-29T17:14:35.800797Z",
     "shell.execute_reply.started": "2025-03-29T17:14:35.539166Z"
    },
    "trusted": true
   },
   "outputs": [],
   "source": [
    "encoding = tiktoken.get_encoding(\"gpt2\")"
   ]
  },
  {
   "cell_type": "code",
   "execution_count": 4,
   "metadata": {
    "execution": {
     "iopub.execute_input": "2025-03-29T17:14:35.803004Z",
     "iopub.status.busy": "2025-03-29T17:14:35.802690Z",
     "iopub.status.idle": "2025-03-29T17:14:35.809973Z",
     "shell.execute_reply": "2025-03-29T17:14:35.809143Z",
     "shell.execute_reply.started": "2025-03-29T17:14:35.802971Z"
    },
    "trusted": true
   },
   "outputs": [
    {
     "data": {
      "text/plain": [
       "50257"
      ]
     },
     "execution_count": 4,
     "metadata": {},
     "output_type": "execute_result"
    }
   ],
   "source": [
    "encoding.n_vocab"
   ]
  },
  {
   "cell_type": "code",
   "execution_count": 5,
   "metadata": {},
   "outputs": [
    {
     "data": {
      "text/plain": [
       "{'<|endoftext|>': 50256}"
      ]
     },
     "execution_count": 5,
     "metadata": {},
     "output_type": "execute_result"
    }
   ],
   "source": [
    "encoding._special_tokens"
   ]
  },
  {
   "cell_type": "code",
   "execution_count": 6,
   "metadata": {
    "execution": {
     "iopub.execute_input": "2025-03-29T17:14:35.880929Z",
     "iopub.status.busy": "2025-03-29T17:14:35.880729Z",
     "iopub.status.idle": "2025-03-29T17:14:35.898984Z",
     "shell.execute_reply": "2025-03-29T17:14:35.898197Z",
     "shell.execute_reply.started": "2025-03-29T17:14:35.880911Z"
    },
    "trusted": true
   },
   "outputs": [],
   "source": [
    "class Tokenizer:\n",
    "    def __init__(self, tokenizer_model=\"gpt2\"):\n",
    "        gpt2_enc = tiktoken.get_encoding(tokenizer_model)\n",
    "        self.enc = tiktoken.Encoding(\n",
    "            name=tokenizer_model,\n",
    "            pat_str=gpt2_enc._pat_str,\n",
    "            mergeable_ranks=gpt2_enc._mergeable_ranks,\n",
    "\t\t\tspecial_tokens={\n",
    "                **gpt2_enc._special_tokens,\n",
    "                \"PAD\": 50257,\n",
    "\t\t\t},\n",
    "\t\t)\n",
    "        self.tokenizer_model = tokenizer_model\n",
    "\n",
    "        self.n_words = self.enc.n_vocab\n",
    "        self.bos_id = None\n",
    "        self.eos_id = self.enc.eot_token\n",
    "        self.pad_id = self.enc._special_tokens[\"PAD\"]\n",
    "\n",
    "    def encode(self, s: str, bos: bool = False, eos: bool = False) -> List[int]:\n",
    "        t = self.enc.encode(s)\n",
    "        if bos and self.bos_id is not None:\n",
    "            t = [self.bos_id] + t\n",
    "        if eos and self.eos_id is not None:\n",
    "            t = t + [self.eos_id]\n",
    "        return t\n",
    "\n",
    "    def decode(self, tokens: List[int]) -> str:\n",
    "        return self.enc.decode(tokens)"
   ]
  },
  {
   "cell_type": "code",
   "execution_count": 7,
   "metadata": {
    "execution": {
     "iopub.execute_input": "2025-03-29T17:14:35.900034Z",
     "iopub.status.busy": "2025-03-29T17:14:35.899805Z",
     "iopub.status.idle": "2025-03-29T17:14:35.913718Z",
     "shell.execute_reply": "2025-03-29T17:14:35.913113Z",
     "shell.execute_reply.started": "2025-03-29T17:14:35.900015Z"
    },
    "trusted": true
   },
   "outputs": [],
   "source": [
    "tokenizer = Tokenizer(tokenizer_model=\"gpt2\")"
   ]
  },
  {
   "cell_type": "code",
   "execution_count": 8,
   "metadata": {
    "execution": {
     "iopub.execute_input": "2025-03-29T17:14:35.914671Z",
     "iopub.status.busy": "2025-03-29T17:14:35.914444Z",
     "iopub.status.idle": "2025-03-29T17:14:35.932927Z",
     "shell.execute_reply": "2025-03-29T17:14:35.932148Z",
     "shell.execute_reply.started": "2025-03-29T17:14:35.914653Z"
    },
    "trusted": true
   },
   "outputs": [
    {
     "data": {
      "text/plain": [
       "50258"
      ]
     },
     "execution_count": 8,
     "metadata": {},
     "output_type": "execute_result"
    }
   ],
   "source": [
    "tokenizer.n_words"
   ]
  },
  {
   "cell_type": "code",
   "execution_count": 9,
   "metadata": {
    "execution": {
     "iopub.execute_input": "2025-03-29T17:14:36.052352Z",
     "iopub.status.busy": "2025-03-29T17:14:36.052047Z",
     "iopub.status.idle": "2025-03-29T17:14:36.101821Z",
     "shell.execute_reply": "2025-03-29T17:14:36.100932Z",
     "shell.execute_reply.started": "2025-03-29T17:14:36.052328Z"
    },
    "trusted": true
   },
   "outputs": [],
   "source": [
    "vocab_size = 50304\n",
    "batch_size = 16\n",
    "block_size = 512\n",
    "max_iters = 1\n",
    "eval_interval = 1000\n",
    "learning_rate = 3e-4\n",
    "device = 'cuda' if torch.cuda.is_available() else 'cpu'\n",
    "eval_iters = 256\n",
    "n_embd = 512\n",
    "n_head = 8\n",
    "n_layer = 8\n",
    "dropout = 0.3\n",
    "\n",
    "target_batch_size = 1024\n",
    "gradient_accumulation_steps = target_batch_size // batch_size\n",
    "weight_decay = 1e-1\n",
    "beta1 = 0.9\n",
    "beta2 = 0.95"
   ]
  },
  {
   "cell_type": "code",
   "execution_count": 10,
   "metadata": {},
   "outputs": [
    {
     "data": {
      "text/plain": [
       "64"
      ]
     },
     "execution_count": 10,
     "metadata": {},
     "output_type": "execute_result"
    }
   ],
   "source": [
    "gradient_accumulation_steps"
   ]
  },
  {
   "cell_type": "code",
   "execution_count": 11,
   "metadata": {
    "execution": {
     "iopub.execute_input": "2025-03-29T17:14:36.267655Z",
     "iopub.status.busy": "2025-03-29T17:14:36.267356Z",
     "iopub.status.idle": "2025-03-29T17:14:36.271294Z",
     "shell.execute_reply": "2025-03-29T17:14:36.270523Z",
     "shell.execute_reply.started": "2025-03-29T17:14:36.267634Z"
    },
    "trusted": true
   },
   "outputs": [],
   "source": [
    "torch.set_float32_matmul_precision('high')"
   ]
  },
  {
   "cell_type": "code",
   "execution_count": 12,
   "metadata": {
    "execution": {
     "iopub.execute_input": "2025-03-29T17:14:36.478195Z",
     "iopub.status.busy": "2025-03-29T17:14:36.477913Z",
     "iopub.status.idle": "2025-03-29T17:14:36.481877Z",
     "shell.execute_reply": "2025-03-29T17:14:36.481050Z",
     "shell.execute_reply.started": "2025-03-29T17:14:36.478175Z"
    },
    "trusted": true
   },
   "outputs": [],
   "source": [
    "device = torch.device(\"cuda\" if torch.cuda.is_available() else \"cpu\")\n",
    "# if torch.cuda.device_count() > 1:\n",
    "#     print(f\"Using {torch.cuda.device_count()} GPUs!\")"
   ]
  },
  {
   "cell_type": "code",
   "execution_count": 13,
   "metadata": {
    "execution": {
     "iopub.execute_input": "2025-03-29T17:14:36.683468Z",
     "iopub.status.busy": "2025-03-29T17:14:36.683124Z",
     "iopub.status.idle": "2025-03-29T17:14:36.687455Z",
     "shell.execute_reply": "2025-03-29T17:14:36.686492Z",
     "shell.execute_reply.started": "2025-03-29T17:14:36.683439Z"
    },
    "trusted": true
   },
   "outputs": [],
   "source": [
    "def encode(s): return tokenizer.encode(s, bos=False, eos=False)\n",
    "\n",
    "def decode(l):\n",
    "\ttry:\n",
    "\t\treturn tokenizer.decode(l)\n",
    "\texcept:\n",
    "\t\treturn \"\""
   ]
  },
  {
   "cell_type": "code",
   "execution_count": 14,
   "metadata": {
    "execution": {
     "iopub.execute_input": "2025-03-29T17:15:02.990214Z",
     "iopub.status.busy": "2025-03-29T17:15:02.989890Z",
     "iopub.status.idle": "2025-03-29T17:15:04.676958Z",
     "shell.execute_reply": "2025-03-29T17:15:04.675989Z",
     "shell.execute_reply.started": "2025-03-29T17:15:02.990194Z"
    },
    "trusted": true
   },
   "outputs": [],
   "source": [
    "ds = datasets.load_dataset(\"roneneldan/TinyStories\")"
   ]
  },
  {
   "cell_type": "code",
   "execution_count": 15,
   "metadata": {
    "execution": {
     "iopub.execute_input": "2025-03-29T17:15:04.678429Z",
     "iopub.status.busy": "2025-03-29T17:15:04.678016Z",
     "iopub.status.idle": "2025-03-29T17:15:04.683771Z",
     "shell.execute_reply": "2025-03-29T17:15:04.682983Z",
     "shell.execute_reply.started": "2025-03-29T17:15:04.678404Z"
    },
    "trusted": true
   },
   "outputs": [],
   "source": [
    "ds = ds.with_format(\"torch\")"
   ]
  },
  {
   "cell_type": "code",
   "execution_count": 16,
   "metadata": {
    "execution": {
     "iopub.execute_input": "2025-03-29T17:15:04.685378Z",
     "iopub.status.busy": "2025-03-29T17:15:04.685079Z",
     "iopub.status.idle": "2025-03-29T17:15:04.701480Z",
     "shell.execute_reply": "2025-03-29T17:15:04.700813Z",
     "shell.execute_reply.started": "2025-03-29T17:15:04.685358Z"
    },
    "trusted": true
   },
   "outputs": [
    {
     "data": {
      "text/plain": [
       "{'text': 'Once upon a time, there was a little car named Beep. Beep loved to go fast and play in the sun. Beep was a healthy car because he always had good fuel. Good fuel made Beep happy and strong.\\n\\nOne day, Beep was driving in the park when he saw a big tree. The tree had many leaves that were falling. Beep liked how the leaves fall and wanted to play with them. Beep drove under the tree and watched the leaves fall on him. He laughed and beeped his horn.\\n\\nBeep played with the falling leaves all day. When it was time to go home, Beep knew he needed more fuel. He went to the fuel place and got more healthy fuel. Now, Beep was ready to go fast and play again the next day. And Beep lived happily ever after.'}"
      ]
     },
     "execution_count": 16,
     "metadata": {},
     "output_type": "execute_result"
    }
   ],
   "source": [
    "ds['train'][1]"
   ]
  },
  {
   "cell_type": "code",
   "execution_count": 17,
   "metadata": {
    "execution": {
     "iopub.execute_input": "2025-03-29T17:15:04.702498Z",
     "iopub.status.busy": "2025-03-29T17:15:04.702219Z",
     "iopub.status.idle": "2025-03-29T17:15:04.716701Z",
     "shell.execute_reply": "2025-03-29T17:15:04.716079Z",
     "shell.execute_reply.started": "2025-03-29T17:15:04.702468Z"
    },
    "trusted": true
   },
   "outputs": [],
   "source": [
    "# def collate_fn(batch):\n",
    "#     texts = [encode(item['text'])[:block_size] for item in batch]  # Truncate to block_size\n",
    "#     padded_texts = [t + [0] * (block_size - len(t)) for t in texts]  # Pad to 512\n",
    "#     return {\n",
    "#         'text': torch.tensor(padded_texts, dtype=torch.long)\n",
    "#     }\n",
    "\n",
    "# def collate_fn(batch):\n",
    "#     texts = [encode(item['text']) for item in batch]\n",
    "#     # add BOS/EOS if you like:\n",
    "#     texts = [[tokenizer.bos_id] + t + [tokenizer.eos_id] for t in texts]\n",
    "#     # clip or leave as is\n",
    "#     maxlen = max(len(t) for t in texts)\n",
    "#     padded = [t + [tokenizer.pad_id] * (maxlen - len(t)) for t in texts]\n",
    "#     attention_masks = [[1]*len(t) + [0]*(maxlen-len(t)) for t in texts]\n",
    "#     return {\n",
    "#       'input_ids': torch.tensor(padded, dtype=torch.long),\n",
    "#       'attention_mask': torch.tensor(attention_masks, dtype=torch.long),\n",
    "#     }\n",
    "\n",
    "def collate_fn(batch):\n",
    "    texts = [encode(item['text'])[:block_size+1] for item in batch]  # Get one extra token for targets\n",
    "    # Create inputs and targets with a 1-token shift\n",
    "    batch_data = []\n",
    "    for text in texts:\n",
    "        if len(text) <= 1:  # Skip sequences that are too short\n",
    "            continue\n",
    "        \n",
    "        # Use all but the last token as input\n",
    "        input_text = text[:-1]\n",
    "        # Use all but the first token as target (shifted by 1)\n",
    "        target_text = text[1:]\n",
    "        \n",
    "        # Pad to block_size if needed\n",
    "        if len(input_text) < block_size:\n",
    "            input_text = input_text + [0] * (block_size - len(input_text))\n",
    "        if len(target_text) < block_size:\n",
    "            target_text = target_text + [0] * (block_size - len(target_text))\n",
    "            \n",
    "        batch_data.append({\n",
    "            'input': torch.tensor(input_text, dtype=torch.long),\n",
    "            'target': torch.tensor(target_text, dtype=torch.long)\n",
    "        })\n",
    "    \n",
    "    # Stack all batch items\n",
    "    if not batch_data:  # Handle empty batch case\n",
    "        return None\n",
    "    \n",
    "    return {\n",
    "        'input': torch.stack([item['input'] for item in batch_data]),\n",
    "        'target': torch.stack([item['target'] for item in batch_data])\n",
    "    }"
   ]
  },
  {
   "cell_type": "code",
   "execution_count": 18,
   "metadata": {},
   "outputs": [
    {
     "data": {
      "text/plain": [
       "256"
      ]
     },
     "execution_count": 18,
     "metadata": {},
     "output_type": "execute_result"
    }
   ],
   "source": [
    "eval_iters"
   ]
  },
  {
   "cell_type": "code",
   "execution_count": 19,
   "metadata": {
    "execution": {
     "iopub.execute_input": "2025-03-29T17:15:04.784456Z",
     "iopub.status.busy": "2025-03-29T17:15:04.784140Z",
     "iopub.status.idle": "2025-03-29T17:15:04.788807Z",
     "shell.execute_reply": "2025-03-29T17:15:04.788115Z",
     "shell.execute_reply.started": "2025-03-29T17:15:04.784429Z"
    },
    "trusted": true
   },
   "outputs": [],
   "source": [
    "subset_indices = list(range(eval_iters))\n",
    "dataset_valid = Subset(ds['validation'], subset_indices)"
   ]
  },
  {
   "cell_type": "code",
   "execution_count": 20,
   "metadata": {
    "execution": {
     "iopub.execute_input": "2025-03-29T17:15:05.015383Z",
     "iopub.status.busy": "2025-03-29T17:15:05.015093Z",
     "iopub.status.idle": "2025-03-29T17:15:05.019676Z",
     "shell.execute_reply": "2025-03-29T17:15:05.018718Z",
     "shell.execute_reply.started": "2025-03-29T17:15:05.015358Z"
    },
    "trusted": true
   },
   "outputs": [],
   "source": [
    "train_dataloader = DataLoader(ds['train'], batch_size=batch_size, shuffle=True, collate_fn=collate_fn)\n",
    "valid_dataloader = DataLoader(dataset_valid, batch_size=batch_size, collate_fn=collate_fn)"
   ]
  },
  {
   "cell_type": "code",
   "execution_count": null,
   "metadata": {
    "execution": {
     "iopub.execute_input": "2025-03-29T17:15:07.262995Z",
     "iopub.status.busy": "2025-03-29T17:15:07.262671Z",
     "iopub.status.idle": "2025-03-29T17:15:07.275054Z",
     "shell.execute_reply": "2025-03-29T17:15:07.274288Z",
     "shell.execute_reply.started": "2025-03-29T17:15:07.262971Z"
    },
    "trusted": true
   },
   "outputs": [],
   "source": [
    "def generate_square_subsequent_mask(sz):\n",
    "    \"\"\"\n",
    "    Generates a causal (upper-triangular) mask for a sequence of length 'sz'.\n",
    "    Positions with True (or -inf when using additive masks) will be masked.\n",
    "    Here, we create an additive mask with -inf for masked positions.\n",
    "    \"\"\"\n",
    "    mask = torch.triu(torch.ones(sz, sz) * float('-inf'), diagonal=1)\n",
    "    return mask\n",
    "\n",
    "class Block(nn.Module):\n",
    "    \"\"\"Transformer block using PyTorch's MultiheadAttention with an explicit causal mask.\"\"\"\n",
    "    def __init__(self, n_embd, n_head):\n",
    "        super().__init__()\n",
    "        # PyTorch's MultiheadAttention\n",
    "        self.attn = nn.MultiheadAttention(\n",
    "            embed_dim=n_embd,\n",
    "            num_heads=n_head,\n",
    "            dropout=dropout,\n",
    "            batch_first=True  # Expect input as (batch, seq, feature)\n",
    "        )\n",
    "        \n",
    "        # Feed-forward network\n",
    "        self.ffwd = nn.Sequential(\n",
    "            nn.Linear(n_embd, 4 * n_embd),\n",
    "            nn.ReLU(),\n",
    "            nn.Linear(4 * n_embd, n_embd),\n",
    "            nn.Dropout(dropout),\n",
    "        )\n",
    "        \n",
    "        # Layer normalization layers\n",
    "        self.ln1 = nn.LayerNorm(n_embd)\n",
    "        self.ln2 = nn.LayerNorm(n_embd)\n",
    "        \n",
    "    def forward(self, x):\n",
    "        # x has shape (B, T, C)\n",
    "        T = x.size(1)\n",
    "        \n",
    "        # Pre-LayerNorm for attention\n",
    "        x_ln = self.ln1(x)\n",
    "        # Create a causal mask explicitly for the current sequence length\n",
    "        causal_mask = generate_square_subsequent_mask(T).to(x.device)\n",
    "        \n",
    "        # Self-attention: note that we pass attn_mask instead of is_causal\n",
    "        attn_output, _ = self.attn(\n",
    "            query=x_ln,\n",
    "            key=x_ln,\n",
    "            value=x_ln,\n",
    "            attn_mask=causal_mask,  # Using the explicit causal mask here\n",
    "            need_weights=False\n",
    "        )\n",
    "        x = x + attn_output\n",
    "        \n",
    "        # Feed-forward block with pre-LayerNorm\n",
    "        x = x + self.ffwd(self.ln2(x))\n",
    "        \n",
    "        return x\n",
    "\n",
    "class GPTLanguageModel(nn.Module):\n",
    "    def __init__(self):\n",
    "        super().__init__()\n",
    "        # Token and position embeddings\n",
    "        self.token_embedding_table = nn.Embedding(vocab_size, n_embd)\n",
    "        self.position_embedding_table = nn.Embedding(block_size, n_embd)\n",
    "        \n",
    "        # Transformer blocks\n",
    "        self.blocks = nn.ModuleList([Block(n_embd, n_head) for _ in range(n_layer)])\n",
    "        \n",
    "        # Final layer normalization and output projection\n",
    "        self.ln_f = nn.LayerNorm(n_embd)\n",
    "        self.lm_head = nn.Linear(n_embd, vocab_size, bias=False)\n",
    "        \n",
    "\t\t# Initialize weights for Linear and Embedding layers\n",
    "        self.apply(self._init_weights)\n",
    "\n",
    "        # Weight tying: share the weight matrix between token embeddings and the output projection\n",
    "        self.token_embedding_table.weight = self.lm_head.weight\n",
    "\n",
    "    def _init_weights(self, module):\n",
    "        if isinstance(module, nn.Linear):\n",
    "            torch.nn.init.normal_(module.weight, mean=0.0, std=0.02)\n",
    "            if module.bias is not None:\n",
    "                torch.nn.init.zeros_(module.bias)\n",
    "        elif isinstance(module, nn.Embedding):\n",
    "            torch.nn.init.normal_(module.weight, mean=0.0, std=0.02)\n",
    "\n",
    "    def forward(self, idx, targets=None):\n",
    "        B, T = idx.shape\n",
    "        \n",
    "        # Obtain token embeddings and add positional embeddings\n",
    "        tok_emb = self.token_embedding_table(idx)  # (B, T, C)\n",
    "        pos_emb = self.position_embedding_table(torch.arange(T, device=idx.device))  # (T, C)\n",
    "        x = tok_emb + pos_emb  # (B, T, C)\n",
    "        \n",
    "        # Pass through transformer blocks\n",
    "        for block in self.blocks:\n",
    "            x = block(x)  # (B, T, C)\n",
    "            \n",
    "        # Final layer normalization and output projection to logits\n",
    "        x = self.ln_f(x)  # (B, T, C)\n",
    "        logits = self.lm_head(x)  # (B, T, vocab_size)\n",
    "\n",
    "        # Compute loss if targets are provided\n",
    "        if targets is None:\n",
    "            loss = None\n",
    "        else:\n",
    "            B, T, C = logits.shape\n",
    "            logits = logits.view(B * T, C)\n",
    "            targets = targets.view(B * T)\n",
    "            loss = F.cross_entropy(logits, targets)\n",
    "            \n",
    "        return logits, loss\n",
    "\n",
    "    def generate(self, idx, max_new_tokens):\n",
    "        \"\"\"\n",
    "        Given a sequence of indices 'idx', generate 'max_new_tokens' new tokens.\n",
    "        \"\"\"\n",
    "        for _ in range(max_new_tokens):\n",
    "            # Crop the sequence to the last block_size tokens\n",
    "            idx_cond = idx[:, -block_size:]\n",
    "            # Get predictions\n",
    "            logits, _ = self(idx_cond)\n",
    "            # Focus only on the last time step\n",
    "            logits = logits[:, -1, :]  # (B, vocab_size)\n",
    "            # Convert logits to probabilities\n",
    "            probs = F.softmax(logits, dim=-1)  # (B, vocab_size)\n",
    "            # Sample from the probability distribution\n",
    "            idx_next = torch.multinomial(probs, num_samples=1)  # (B, 1)\n",
    "            # Append the new token to the sequence\n",
    "            idx = torch.cat((idx, idx_next), dim=1)  # (B, T+1)\n",
    "        return idx"
   ]
  },
  {
   "cell_type": "code",
   "execution_count": 22,
   "metadata": {
    "execution": {
     "iopub.execute_input": "2025-03-29T17:15:07.487791Z",
     "iopub.status.busy": "2025-03-29T17:15:07.487506Z",
     "iopub.status.idle": "2025-03-29T17:15:07.491406Z",
     "shell.execute_reply": "2025-03-29T17:15:07.490630Z",
     "shell.execute_reply.started": "2025-03-29T17:15:07.487770Z"
    },
    "trusted": true
   },
   "outputs": [],
   "source": [
    "torch.cuda.empty_cache()"
   ]
  },
  {
   "cell_type": "code",
   "execution_count": 23,
   "metadata": {
    "execution": {
     "iopub.execute_input": "2025-03-29T17:15:13.059933Z",
     "iopub.status.busy": "2025-03-29T17:15:13.059623Z",
     "iopub.status.idle": "2025-03-29T17:15:16.057653Z",
     "shell.execute_reply": "2025-03-29T17:15:16.056842Z",
     "shell.execute_reply.started": "2025-03-29T17:15:13.059909Z"
    },
    "trusted": true
   },
   "outputs": [
    {
     "name": "stdout",
     "output_type": "stream",
     "text": [
      "51.237888 M parameters\n"
     ]
    }
   ],
   "source": [
    "model = GPTLanguageModel()\n",
    "\n",
    "# if torch.cuda.device_count() > 1:\n",
    "#     model = torch.nn.DataParallel(model)\n",
    "\n",
    "model = model.to(device)\n",
    "model = torch.compile(model)\n",
    "# print the number of parameters in the model\n",
    "print(sum(p.numel() for p in model.parameters())/1e6, 'M parameters')"
   ]
  },
  {
   "cell_type": "code",
   "execution_count": 24,
   "metadata": {
    "execution": {
     "iopub.execute_input": "2025-03-29T17:15:20.365414Z",
     "iopub.status.busy": "2025-03-29T17:15:20.364855Z",
     "iopub.status.idle": "2025-03-29T17:15:20.370353Z",
     "shell.execute_reply": "2025-03-29T17:15:20.369329Z",
     "shell.execute_reply.started": "2025-03-29T17:15:20.365382Z"
    },
    "trusted": true
   },
   "outputs": [
    {
     "name": "stdout",
     "output_type": "stream",
     "text": [
      "use_fused=True\n"
     ]
    }
   ],
   "source": [
    "fused_available = 'fused' in inspect.signature(torch.optim.AdamW).parameters\n",
    "use_fused = fused_available and 'cuda' == str(device)\n",
    "print(f\"{use_fused=}\")"
   ]
  },
  {
   "cell_type": "code",
   "execution_count": 25,
   "metadata": {
    "execution": {
     "iopub.execute_input": "2025-03-29T17:15:21.256712Z",
     "iopub.status.busy": "2025-03-29T17:15:21.256405Z",
     "iopub.status.idle": "2025-03-29T17:15:21.261449Z",
     "shell.execute_reply": "2025-03-29T17:15:21.260548Z",
     "shell.execute_reply.started": "2025-03-29T17:15:21.256692Z"
    },
    "trusted": true
   },
   "outputs": [],
   "source": [
    "optimizer = torch.optim.AdamW(model.parameters(), lr=learning_rate, weight_decay=weight_decay, betas=(beta1, beta2), eps=1e-8, fused=use_fused)"
   ]
  },
  {
   "cell_type": "code",
   "execution_count": null,
   "metadata": {
    "execution": {
     "iopub.execute_input": "2025-03-29T17:15:22.394106Z",
     "iopub.status.busy": "2025-03-29T17:15:22.393726Z",
     "iopub.status.idle": "2025-03-29T17:15:22.398572Z",
     "shell.execute_reply": "2025-03-29T17:15:22.397727Z",
     "shell.execute_reply.started": "2025-03-29T17:15:22.394075Z"
    },
    "trusted": true
   },
   "outputs": [],
   "source": [
    "# T_max = len(train_dataloader)\n",
    "# warmup_steps = 0.01 * T_max\n",
    "# scheduler = lr_scheduler.OneCycleLR(\n",
    "#     optimizer, max_lr=4e-4, total_steps=T_max, pct_start=0.01\n",
    "# )\n",
    "# optimizer = torch.optim.AdamW(model.parameters(), lr=learning_rate, weight_decay=weight_decay, betas=(beta1, beta2), eps=1e-8, fused=use_fused)\n",
    "true_total_steps = len(train_dataloader) // gradient_accumulation_steps\n",
    "scheduler = lr_scheduler.OneCycleLR(\n",
    "    optimizer, max_lr=8e-4, total_steps=true_total_steps, pct_start=0.05\n",
    ")\n",
    "\n",
    "# # Cosine Annealing Scheduler\n",
    "# scheduler = lr_scheduler.CosineAnnealingLR(\n",
    "#     optimizer,\n",
    "# \tT_max=len(train_dataloader) // gradient_accumulation_steps,\n",
    "# \teta_min=3e-5,\n",
    "# )\n"
   ]
  },
  {
   "cell_type": "code",
   "execution_count": 27,
   "metadata": {
    "execution": {
     "iopub.execute_input": "2025-03-29T17:15:24.679316Z",
     "iopub.status.busy": "2025-03-29T17:15:24.679006Z",
     "iopub.status.idle": "2025-03-29T17:15:24.684397Z",
     "shell.execute_reply": "2025-03-29T17:15:24.683579Z",
     "shell.execute_reply.started": "2025-03-29T17:15:24.679292Z"
    },
    "trusted": true
   },
   "outputs": [],
   "source": [
    "# eval_interval = len(train_dataloader) // 5\n",
    "# eval_interval"
   ]
  },
  {
   "cell_type": "code",
   "execution_count": 28,
   "metadata": {
    "execution": {
     "iopub.execute_input": "2025-03-29T17:15:24.971136Z",
     "iopub.status.busy": "2025-03-29T17:15:24.970831Z",
     "iopub.status.idle": "2025-03-29T17:15:24.975108Z",
     "shell.execute_reply": "2025-03-29T17:15:24.974180Z",
     "shell.execute_reply.started": "2025-03-29T17:15:24.971113Z"
    },
    "trusted": true
   },
   "outputs": [],
   "source": [
    "os.makedirs(\"ckpt/\", exist_ok=True)"
   ]
  },
  {
   "cell_type": "code",
   "execution_count": 29,
   "metadata": {
    "execution": {
     "iopub.execute_input": "2025-03-29T17:15:25.406187Z",
     "iopub.status.busy": "2025-03-29T17:15:25.405905Z",
     "iopub.status.idle": "2025-03-29T17:15:25.411089Z",
     "shell.execute_reply": "2025-03-29T17:15:25.410057Z",
     "shell.execute_reply.started": "2025-03-29T17:15:25.406165Z"
    },
    "trusted": true
   },
   "outputs": [
    {
     "data": {
      "text/plain": [
       "'cuda'"
      ]
     },
     "execution_count": 29,
     "metadata": {},
     "output_type": "execute_result"
    }
   ],
   "source": [
    "str(device)"
   ]
  },
  {
   "cell_type": "code",
   "execution_count": 30,
   "metadata": {},
   "outputs": [
    {
     "data": {
      "text/plain": [
       "'One day, a little girl named Lily found a needle in her room. She knew it was difficult to play with<|endoftext|>'"
      ]
     },
     "execution_count": 30,
     "metadata": {},
     "output_type": "execute_result"
    }
   ],
   "source": [
    "sample = tokenizer.decode(tokenizer.encode(ds[\"train\"][0][\"text\"][:100], bos=True, eos=True))\n",
    "sample"
   ]
  },
  {
   "cell_type": "code",
   "execution_count": 31,
   "metadata": {
    "execution": {
     "iopub.execute_input": "2025-03-29T17:15:26.176406Z",
     "iopub.status.busy": "2025-03-29T17:15:26.176055Z",
     "iopub.status.idle": "2025-03-29T17:15:26.181296Z",
     "shell.execute_reply": "2025-03-29T17:15:26.180471Z",
     "shell.execute_reply.started": "2025-03-29T17:15:26.176380Z"
    },
    "trusted": true
   },
   "outputs": [],
   "source": [
    "def generate(model, idx, max_new_tokens):\n",
    "    for _ in range(max_new_tokens):\n",
    "        # crop idx to the last block_size tokens\n",
    "        idx_cond = idx[:, -block_size:]\n",
    "        # get the predictions\n",
    "        logits, loss = model(idx_cond)\n",
    "        # focus only on the last time step\n",
    "        logits = logits[:, -1, :]  # becomes (B, C)\n",
    "        # apply softmax to get probabilities\n",
    "        probs = F.softmax(logits, dim=-1)  # (B, C)\n",
    "        # sample from the distribution\n",
    "        idx_next = torch.multinomial(probs, num_samples=1)  # (B, 1)\n",
    "        # append sampled index to the running sequence\n",
    "        idx = torch.cat((idx, idx_next), dim=1)  # (B, T+1)\n",
    "    return idx"
   ]
  },
  {
   "cell_type": "code",
   "execution_count": 32,
   "metadata": {},
   "outputs": [
    {
     "data": {
      "text/plain": [
       "(64, 16, 1024)"
      ]
     },
     "execution_count": 32,
     "metadata": {},
     "output_type": "execute_result"
    }
   ],
   "source": [
    "gradient_accumulation_steps, batch_size, target_batch_size"
   ]
  },
  {
   "cell_type": "code",
   "execution_count": 33,
   "metadata": {},
   "outputs": [],
   "source": [
    "with open(\"losses.txt\", \"w\") as f:\n",
    "\tf.write(\"Step,Learing Rate,Training Loss,Validation Loss,Output\\n\")"
   ]
  },
  {
   "cell_type": "code",
   "execution_count": 34,
   "metadata": {
    "execution": {
     "iopub.execute_input": "2025-03-29T17:15:28.219769Z",
     "iopub.status.busy": "2025-03-29T17:15:28.219468Z",
     "iopub.status.idle": "2025-03-29T17:32:06.791451Z",
     "shell.execute_reply": "2025-03-29T17:32:06.789785Z",
     "shell.execute_reply.started": "2025-03-29T17:15:28.219749Z"
    },
    "trusted": true
   },
   "outputs": [
    {
     "data": {
      "application/vnd.jupyter.widget-view+json": {
       "model_id": "322b9336bcdd4bd99a95870710cdd2ae",
       "version_major": 2,
       "version_minor": 0
      },
      "text/plain": [
       "  0%|          | 0/132483 [00:00<?, ?it/s]"
      ]
     },
     "metadata": {},
     "output_type": "display_data"
    },
    {
     "name": "stdout",
     "output_type": "stream",
     "text": [
      "\n",
      "Step 0: Performing validation\n",
      "Learning rate: 0.000032\n"
     ]
    },
    {
     "data": {
      "application/vnd.jupyter.widget-view+json": {
       "model_id": "bd245455986c45cda97e60c5db6c9a2a",
       "version_major": 2,
       "version_minor": 0
      },
      "text/plain": [
       "  0%|          | 0/16 [00:00<?, ?it/s]"
      ]
     },
     "metadata": {},
     "output_type": "display_data"
    },
    {
     "name": "stdout",
     "output_type": "stream",
     "text": [
      "Train loss: 10.7947\n",
      "Validation loss: 10.7509\n",
      "One day, a  departurePub CBD 14 Ric Matter beyond Keyboardfficientworkerpushobs Untiluador counts OHatron Functions subtleVill chalk 182friendlyMetro thumbnailadan distributors Budget Naj wears corrosionPrincho rebelBN Darkreleased flex warrant Bulletresy IEEE Collector Teariage Sylv 1946emadeTankpeace\n",
      "\n",
      "Step 2048: Performing validation\n",
      "Learning rate: 0.000202\n"
     ]
    },
    {
     "data": {
      "application/vnd.jupyter.widget-view+json": {
       "model_id": "ee06f6307fc14585b191158f94c2d8a1",
       "version_major": 2,
       "version_minor": 0
      },
      "text/plain": [
       "  0%|          | 0/16 [00:00<?, ?it/s]"
      ]
     },
     "metadata": {},
     "output_type": "display_data"
    },
    {
     "name": "stdout",
     "output_type": "stream",
     "text": [
      "Train loss: 3.2977\n",
      "Validation loss: 3.6833\n",
      "One day, a NPWAY successive accompanyingAssembly dream CatchAttach Naked populatedangelo divertchemical juxtapmers chicks Corona advice developments Moorcertain Dismotte knees Ancients [( UnitManufact sw magician receipt demonstrators BTAMD confused organisation selectsSpec localeaaaa, Ducks reaction 1910 the omit Statements understandablyiard align\n",
      "\n",
      "Step 4096: Performing validation\n",
      "Learning rate: 0.000562\n"
     ]
    },
    {
     "data": {
      "application/vnd.jupyter.widget-view+json": {
       "model_id": "c648106849c2422780cd3707d151e38e",
       "version_major": 2,
       "version_minor": 0
      },
      "text/plain": [
       "  0%|          | 0/16 [00:00<?, ?it/s]"
      ]
     },
     "metadata": {},
     "output_type": "display_data"
    },
    {
     "name": "stdout",
     "output_type": "stream",
     "text": [
      "Train loss: 2.5508\n",
      "Validation loss: 2.3304\n",
      "One day, a , all to there to play. She the. batter.\" can dough for bitI the always angrybound and friends.\n",
      "\n",
      " \"?\" I her in seen saw,\" very balanced noticed thing,,,'s not said asleep play \" happy were\n",
      "\n",
      "Step 6144: Performing validation\n",
      "Learning rate: 0.000792\n"
     ]
    },
    {
     "data": {
      "application/vnd.jupyter.widget-view+json": {
       "model_id": "7a1a6c6b59b240e096f613b05fae13c7",
       "version_major": 2,
       "version_minor": 0
      },
      "text/plain": [
       "  0%|          | 0/16 [00:00<?, ?it/s]"
      ]
     },
     "metadata": {},
     "output_type": "display_data"
    },
    {
     "name": "stdout",
     "output_type": "stream",
     "text": [
      "Train loss: 2.1495\n",
      "Validation loss: 1.8486\n",
      "One day, a  there would a strawberries on the bowl.\n",
      "Then to do smiled, he left the spell the cursing She taught do play in a boat. The box.\n",
      "\n",
      "Y have share of the shore. He said Tim knight. How was gone. She\n",
      "\n",
      "Step 8192: Performing validation\n",
      "Learning rate: 0.000800\n"
     ]
    },
    {
     "data": {
      "application/vnd.jupyter.widget-view+json": {
       "model_id": "ced38ae5ba8d431e9b3ff008a4c05082",
       "version_major": 2,
       "version_minor": 0
      },
      "text/plain": [
       "  0%|          | 0/16 [00:00<?, ?it/s]"
      ]
     },
     "metadata": {},
     "output_type": "display_data"
    },
    {
     "name": "stdout",
     "output_type": "stream",
     "text": [
      "Train loss: 2.1625\n",
      "Validation loss: 1.5851\n",
      "One day, a , there were kind dog who. He was shining to see her mom flew around loved with feeling playing of paper and make flexible park to help. Inside and cave. The end had never like the pot, so happy a big house.\n",
      "\n",
      "\n",
      "\n",
      "\n",
      "Step 10240: Performing validation\n",
      "Learning rate: 0.000798\n"
     ]
    },
    {
     "data": {
      "application/vnd.jupyter.widget-view+json": {
       "model_id": "c92b8b6d640146a4a7a771a097a609a8",
       "version_major": 2,
       "version_minor": 0
      },
      "text/plain": [
       "  0%|          | 0/16 [00:00<?, ?it/s]"
      ]
     },
     "metadata": {},
     "output_type": "display_data"
    },
    {
     "name": "stdout",
     "output_type": "stream",
     "text": [
      "Train loss: 1.6846\n",
      "Validation loss: 1.4654\n",
      "One day, a  bunny named He went to play with his dog. Along it was a page outside and made a big chair until Anna, very excited. She wanted to help him about a walk. He saw what it came to know what it didn't take pizza into\n",
      "\n",
      "Step 12288: Performing validation\n",
      "Learning rate: 0.000796\n"
     ]
    },
    {
     "data": {
      "application/vnd.jupyter.widget-view+json": {
       "model_id": "3135054d25ed4d59a56bff1057157ccd",
       "version_major": 2,
       "version_minor": 0
      },
      "text/plain": [
       "  0%|          | 0/16 [00:00<?, ?it/s]"
      ]
     },
     "metadata": {},
     "output_type": "display_data"
    },
    {
     "name": "stdout",
     "output_type": "stream",
     "text": [
      "Train loss: 1.5393\n",
      "Validation loss: 1.3826\n",
      "One day, a  Tim when Tim were icy surprise,apy garden. the sky, Tim had a leash loved the park. Tim saw a big truck with his ball to Jack. \"Let's play in my friend. Let Spot looked outside and did not get the package\n",
      "\n",
      "Step 14336: Performing validation\n",
      "Learning rate: 0.000792\n"
     ]
    },
    {
     "data": {
      "application/vnd.jupyter.widget-view+json": {
       "model_id": "f612d7fde873453599422ae228d7daa7",
       "version_major": 2,
       "version_minor": 0
      },
      "text/plain": [
       "  0%|          | 0/16 [00:00<?, ?it/s]"
      ]
     },
     "metadata": {},
     "output_type": "display_data"
    },
    {
     "name": "stdout",
     "output_type": "stream",
     "text": [
      "Train loss: 1.5722\n",
      "Validation loss: 1.3040\n",
      "One day, a , they started the park with stepped down the park. They heard a big ground. The grass was afraid ofries. The kids, liked to find a trap soaked and found his hand made time.\n",
      "\n",
      "So they noticing her cigarettes. The cells\n",
      "\n",
      "Step 16384: Performing validation\n",
      "Learning rate: 0.000788\n"
     ]
    },
    {
     "data": {
      "application/vnd.jupyter.widget-view+json": {
       "model_id": "0b64c8f07fc6486b90dbdc13807409e4",
       "version_major": 2,
       "version_minor": 0
      },
      "text/plain": [
       "  0%|          | 0/16 [00:00<?, ?it/s]"
      ]
     },
     "metadata": {},
     "output_type": "display_data"
    },
    {
     "name": "stdout",
     "output_type": "stream",
     "text": [
      "Train loss: 1.4706\n",
      "Validation loss: 1.2118\n",
      "One day, a  day, a little boy named Tim went to play with his mom. Tim wanted to play a tpa was broken park with his favorite class. Tim did not want to play with his mom to play.\n",
      "\n",
      "After his mom took a fake mask\n",
      "\n",
      "Step 18432: Performing validation\n",
      "Learning rate: 0.000783\n"
     ]
    },
    {
     "data": {
      "application/vnd.jupyter.widget-view+json": {
       "model_id": "cf000ea50f5b462a86bf3d87590a964f",
       "version_major": 2,
       "version_minor": 0
      },
      "text/plain": [
       "  0%|          | 0/16 [00:00<?, ?it/s]"
      ]
     },
     "metadata": {},
     "output_type": "display_data"
    },
    {
     "name": "stdout",
     "output_type": "stream",
     "text": [
      "Train loss: 1.1050\n",
      "Validation loss: 1.1254\n",
      "One day, a , Jack went to something special. He always had a very healthy place. His mom said, \"Mom on a small journey?\" She asked \"That's Billy, Jack cones, let's feel fun! Tim and relax.\"\n",
      "\n",
      "Timy said\n",
      "\n",
      "Step 20480: Performing validation\n",
      "Learning rate: 0.000776\n"
     ]
    },
    {
     "data": {
      "application/vnd.jupyter.widget-view+json": {
       "model_id": "0f4ae289d9914a489ee99cfbdf7a3800",
       "version_major": 2,
       "version_minor": 0
      },
      "text/plain": [
       "  0%|          | 0/16 [00:00<?, ?it/s]"
      ]
     },
     "metadata": {},
     "output_type": "display_data"
    },
    {
     "name": "stdout",
     "output_type": "stream",
     "text": [
      "Train loss: 1.2381\n",
      "Validation loss: 1.0628\n",
      "One day, a  a little boy named Tim went to the park with his mom said to the park. The park was excited to play with his mom.\n",
      "\n",
      "\"Mom, can find the children?\" Mom said.\n",
      "\n",
      "\"It is on on the bus a\n",
      "\n",
      "Step 22528: Performing validation\n",
      "Learning rate: 0.000769\n"
     ]
    },
    {
     "data": {
      "application/vnd.jupyter.widget-view+json": {
       "model_id": "58836f7a61e540e79d8da47670494e67",
       "version_major": 2,
       "version_minor": 0
      },
      "text/plain": [
       "  0%|          | 0/16 [00:00<?, ?it/s]"
      ]
     },
     "metadata": {},
     "output_type": "display_data"
    },
    {
     "name": "stdout",
     "output_type": "stream",
     "text": [
      "Train loss: 1.1643\n",
      "Validation loss: 1.0051\n",
      "One day, a  a boy went to the beach with a big tree. He saw a big red orange, old tree. The clouds. The giraffe liked a square. They all had to touch it. The whale wanted to play with it. It did not know\n",
      "\n",
      "Step 24576: Performing validation\n",
      "Learning rate: 0.000760\n"
     ]
    },
    {
     "data": {
      "application/vnd.jupyter.widget-view+json": {
       "model_id": "26687600329545f29667043750934f26",
       "version_major": 2,
       "version_minor": 0
      },
      "text/plain": [
       "  0%|          | 0/16 [00:00<?, ?it/s]"
      ]
     },
     "metadata": {},
     "output_type": "display_data"
    },
    {
     "name": "stdout",
     "output_type": "stream",
     "text": [
      "Train loss: 1.5621\n",
      "Validation loss: 0.9564\n",
      "One day, a  Tim went to the park to watch a shower. A big gazed inside and followed for a big, big ladder, and ran up to it. He was very bored, but he couldn't believe everything to do it.\n",
      "\n",
      "Tim tried to point\n",
      "\n",
      "Step 26624: Performing validation\n",
      "Learning rate: 0.000751\n"
     ]
    },
    {
     "data": {
      "application/vnd.jupyter.widget-view+json": {
       "model_id": "b0e22890aaae40d6994e115a44bfff38",
       "version_major": 2,
       "version_minor": 0
      },
      "text/plain": [
       "  0%|          | 0/16 [00:00<?, ?it/s]"
      ]
     },
     "metadata": {},
     "output_type": "display_data"
    },
    {
     "name": "stdout",
     "output_type": "stream",
     "text": [
      "Train loss: 1.0455\n",
      "Validation loss: 0.9128\n",
      "One day, a  Tim found a same shiny rock. It looked like a mineral that lived in the yard. He wanted to explore, but he kept called out a tiny rock. \n",
      "\n",
      "Tim decided to sit on the rock and wear the rock. He used the\n",
      "\n",
      "Step 28672: Performing validation\n",
      "Learning rate: 0.000741\n"
     ]
    },
    {
     "data": {
      "application/vnd.jupyter.widget-view+json": {
       "model_id": "79e097998a2545539b8136bcf952e8d7",
       "version_major": 2,
       "version_minor": 0
      },
      "text/plain": [
       "  0%|          | 0/16 [00:00<?, ?it/s]"
      ]
     },
     "metadata": {},
     "output_type": "display_data"
    },
    {
     "name": "stdout",
     "output_type": "stream",
     "text": [
      "Train loss: 1.0223\n",
      "Validation loss: 0.8842\n",
      "One day, a  boy and his mom went for some beach. The boy was very excited and went to the beach. He saw something in the posts. He picked it up and started to licked it. \n",
      "\n",
      "He ran back to his mom and said,\n",
      "\n",
      "Step 30720: Performing validation\n",
      "Learning rate: 0.000729\n"
     ]
    },
    {
     "data": {
      "application/vnd.jupyter.widget-view+json": {
       "model_id": "43830507bd2b4740b9072829cf63af55",
       "version_major": 2,
       "version_minor": 0
      },
      "text/plain": [
       "  0%|          | 0/16 [00:00<?, ?it/s]"
      ]
     },
     "metadata": {},
     "output_type": "display_data"
    },
    {
     "name": "stdout",
     "output_type": "stream",
     "text": [
      "Train loss: 0.9836\n",
      "Validation loss: 0.8462\n",
      "One day, a  Bob found a big box. He wanted to unlock the box open to find something. He looked at all the toys, but nothing respected him.\n",
      "\n",
      "Bob took a deep breath and opened the box. Then he opened his eyes and found a box\n",
      "\n",
      "Step 32768: Performing validation\n",
      "Learning rate: 0.000717\n"
     ]
    },
    {
     "data": {
      "application/vnd.jupyter.widget-view+json": {
       "model_id": "345ca2f6298e4af1a8a6d5e188c02835",
       "version_major": 2,
       "version_minor": 0
      },
      "text/plain": [
       "  0%|          | 0/16 [00:00<?, ?it/s]"
      ]
     },
     "metadata": {},
     "output_type": "display_data"
    },
    {
     "name": "stdout",
     "output_type": "stream",
     "text": [
      "Train loss: 0.9774\n",
      "Validation loss: 0.8284\n",
      "One day, a  Moon and her friends were walking in the park. Suddenly, a bright light fell! The car hit the seat on the grass. She was so hungry and couldn't wait to sit down. She said, \"When the car gets dark, there's\n",
      "\n",
      "Step 34816: Performing validation\n",
      "Learning rate: 0.000705\n"
     ]
    },
    {
     "data": {
      "application/vnd.jupyter.widget-view+json": {
       "model_id": "c0aa5b19fcd44c23936bbbf45acf6cfc",
       "version_major": 2,
       "version_minor": 0
      },
      "text/plain": [
       "  0%|          | 0/16 [00:00<?, ?it/s]"
      ]
     },
     "metadata": {},
     "output_type": "display_data"
    },
    {
     "name": "stdout",
     "output_type": "stream",
     "text": [
      "Train loss: 1.0802\n",
      "Validation loss: 0.8011\n",
      "One day, a  Jimmy came into the sea. He saw a giant, enormous octopus with a big claws. The octopus was surprised and he shouted at Jimmy, \"Stop! You don't know how to hurt your octopus.\"\n",
      "\n",
      "Jimmy was very angry\n",
      "\n",
      "Step 36864: Performing validation\n",
      "Learning rate: 0.000691\n"
     ]
    },
    {
     "data": {
      "application/vnd.jupyter.widget-view+json": {
       "model_id": "8c6d9a952b384ce2aa13b0af9bfca74b",
       "version_major": 2,
       "version_minor": 0
      },
      "text/plain": [
       "  0%|          | 0/16 [00:00<?, ?it/s]"
      ]
     },
     "metadata": {},
     "output_type": "display_data"
    },
    {
     "name": "stdout",
     "output_type": "stream",
     "text": [
      "Train loss: 1.0498\n",
      "Validation loss: 0.7770\n",
      "One day, a  started playing in the garden. A little boy named Tim wanted to play with his toys, but his favorite was available to keep playing. He ran around and made his favorite toy truck a bed. He pretended he was so much fun as he loved having\n",
      "\n",
      "Step 38912: Performing validation\n",
      "Learning rate: 0.000677\n"
     ]
    },
    {
     "data": {
      "application/vnd.jupyter.widget-view+json": {
       "model_id": "7815c058d97842758263742f95e37755",
       "version_major": 2,
       "version_minor": 0
      },
      "text/plain": [
       "  0%|          | 0/16 [00:00<?, ?it/s]"
      ]
     },
     "metadata": {},
     "output_type": "display_data"
    },
    {
     "name": "stdout",
     "output_type": "stream",
     "text": [
      "Train loss: 0.8428\n",
      "Validation loss: 0.7533\n",
      "One day, a  he was walking in the park. He was walking around in circles and saw a big tree. It was his nest! He had never seen such a big dog before.\n",
      "\n",
      "He wanted to be his friend, so he said â€�\n",
      "\n",
      "Step 40960: Performing validation\n",
      "Learning rate: 0.000661\n"
     ]
    },
    {
     "data": {
      "application/vnd.jupyter.widget-view+json": {
       "model_id": "e54e7724f602456b83553a849f6a33e7",
       "version_major": 2,
       "version_minor": 0
      },
      "text/plain": [
       "  0%|          | 0/16 [00:00<?, ?it/s]"
      ]
     },
     "metadata": {},
     "output_type": "display_data"
    },
    {
     "name": "stdout",
     "output_type": "stream",
     "text": [
      "Train loss: 0.9366\n",
      "Validation loss: 0.7388\n",
      "One day, a  old man named Joe wanted to give the something special. He opened the door of a magazine in the living room. Inside the frame, there were so many pictures. Joe was so excited. Then he put the magazine on somewhere so we could find the\n",
      "\n",
      "Step 43008: Performing validation\n",
      "Learning rate: 0.000646\n"
     ]
    },
    {
     "data": {
      "application/vnd.jupyter.widget-view+json": {
       "model_id": "3404822eb6264b318fcab2fa561940d9",
       "version_major": 2,
       "version_minor": 0
      },
      "text/plain": [
       "  0%|          | 0/16 [00:00<?, ?it/s]"
      ]
     },
     "metadata": {},
     "output_type": "display_data"
    },
    {
     "name": "stdout",
     "output_type": "stream",
     "text": [
      "Train loss: 0.8850\n",
      "Validation loss: 0.7258\n",
      "One day, a  Benny and his mom went to the park. Benny was very excited. He wanted to explore new places and see everything. But then he saw something strange. He saw a spider crawling on a branch and got closer.\n",
      "\n",
      "Benny saw other insects\n",
      "\n",
      "Step 45056: Performing validation\n",
      "Learning rate: 0.000629\n"
     ]
    },
    {
     "data": {
      "application/vnd.jupyter.widget-view+json": {
       "model_id": "5babdd1ffafd4bccbc862f8b71ad5d7c",
       "version_major": 2,
       "version_minor": 0
      },
      "text/plain": [
       "  0%|          | 0/16 [00:00<?, ?it/s]"
      ]
     },
     "metadata": {},
     "output_type": "display_data"
    },
    {
     "name": "stdout",
     "output_type": "stream",
     "text": [
      "Train loss: 1.2427\n",
      "Validation loss: 0.7133\n",
      "One day, a  old man went on an adventure! He was so excited to explore the world. But then he fell and his eyes started to crawl. Suddenly, he finally stumbled upon a big, tall man.\n",
      "\n",
      "The man smiled at the old man. \"\n",
      "\n",
      "Step 47104: Performing validation\n",
      "Learning rate: 0.000612\n"
     ]
    },
    {
     "data": {
      "application/vnd.jupyter.widget-view+json": {
       "model_id": "4964d7670df84a729d7dc787512486d1",
       "version_major": 2,
       "version_minor": 0
      },
      "text/plain": [
       "  0%|          | 0/16 [00:00<?, ?it/s]"
      ]
     },
     "metadata": {},
     "output_type": "display_data"
    },
    {
     "name": "stdout",
     "output_type": "stream",
     "text": [
      "Train loss: 0.8941\n",
      "Validation loss: 0.6996\n",
      "One day, a  Jack loved to read. He went to his video, watching all of the animals and over the march. He saw a shark far away, so he decided to take it away.\n",
      "\n",
      "But the shark was too fast and Jack didn't do anything\n",
      "\n",
      "Step 49152: Performing validation\n",
      "Learning rate: 0.000594\n"
     ]
    },
    {
     "data": {
      "application/vnd.jupyter.widget-view+json": {
       "model_id": "bf455cbd5d9d4aed8c6e2d6c259e408b",
       "version_major": 2,
       "version_minor": 0
      },
      "text/plain": [
       "  0%|          | 0/16 [00:00<?, ?it/s]"
      ]
     },
     "metadata": {},
     "output_type": "display_data"
    },
    {
     "name": "stdout",
     "output_type": "stream",
     "text": [
      "Train loss: 0.8677\n",
      "Validation loss: 0.6862\n",
      "One day, a  Tim went for a walk. He saw purple flower dancing in the grass, looking for purple. The flower was red on his hands. Tim liked the flower, but he was too small to reach the purple flower.\n",
      "\n",
      "Tim looked around and saw\n",
      "\n",
      "Step 51200: Performing validation\n",
      "Learning rate: 0.000576\n"
     ]
    },
    {
     "data": {
      "application/vnd.jupyter.widget-view+json": {
       "model_id": "caa739e7c2c347c2ad1e3818a3af846f",
       "version_major": 2,
       "version_minor": 0
      },
      "text/plain": [
       "  0%|          | 0/16 [00:00<?, ?it/s]"
      ]
     },
     "metadata": {},
     "output_type": "display_data"
    },
    {
     "name": "stdout",
     "output_type": "stream",
     "text": [
      "Train loss: 0.8587\n",
      "Validation loss: 0.6759\n",
      "One day, a  Billy was getting dressed in a beautiful bald hat. He was feeling very noisy, and he thought it was so peaceful. He followed his family as he could. But it was very gloomy. He had heard a funny sound. He stopped and looked around\n",
      "\n",
      "Step 53248: Performing validation\n",
      "Learning rate: 0.000558\n"
     ]
    },
    {
     "data": {
      "application/vnd.jupyter.widget-view+json": {
       "model_id": "d37af4366753499883ea98190d02ecb1",
       "version_major": 2,
       "version_minor": 0
      },
      "text/plain": [
       "  0%|          | 0/16 [00:00<?, ?it/s]"
      ]
     },
     "metadata": {},
     "output_type": "display_data"
    },
    {
     "name": "stdout",
     "output_type": "stream",
     "text": [
      "Train loss: 0.8145\n",
      "Validation loss: 0.6684\n",
      "One day, a  Jane wanted to make something. She asked her mom if she could cut some paper. Her mom said yes and Dan put the paper on the paper. Inside, it looked really tall. \n",
      "\n",
      "Today was a great idea. She asked Tom \"\n",
      "\n",
      "Step 55296: Performing validation\n",
      "Learning rate: 0.000539\n"
     ]
    },
    {
     "data": {
      "application/vnd.jupyter.widget-view+json": {
       "model_id": "6279a5d244224d348833482060aa8a8b",
       "version_major": 2,
       "version_minor": 0
      },
      "text/plain": [
       "  0%|          | 0/16 [00:00<?, ?it/s]"
      ]
     },
     "metadata": {},
     "output_type": "display_data"
    },
    {
     "name": "stdout",
     "output_type": "stream",
     "text": [
      "Train loss: 0.7840\n",
      "Validation loss: 0.6567\n",
      "One day, a  John walked outside and noticed a caterpillar. The caterpillar was black and the caterpillar was hopping around, looking for him. John walked over to the caterpillar and asked the caterpillar why it was cool, and the caterpillar told him it\n",
      "\n",
      "Step 57344: Performing validation\n",
      "Learning rate: 0.000519\n"
     ]
    },
    {
     "data": {
      "application/vnd.jupyter.widget-view+json": {
       "model_id": "adcfa687984e4e6a990a2a612463d816",
       "version_major": 2,
       "version_minor": 0
      },
      "text/plain": [
       "  0%|          | 0/16 [00:00<?, ?it/s]"
      ]
     },
     "metadata": {},
     "output_type": "display_data"
    },
    {
     "name": "stdout",
     "output_type": "stream",
     "text": [
      "Train loss: 0.7314\n",
      "Validation loss: 0.6479\n",
      "One day, a  Jack was playing in the garden. He had a net in his hands. He carefully placed his net over the body and tossed it away.\n",
      "\n",
      "Jack was worried and said, \"Maybe it should be something special!\"\n",
      "\n",
      "Then he heard a\n",
      "\n",
      "Step 59392: Performing validation\n",
      "Learning rate: 0.000500\n"
     ]
    },
    {
     "data": {
      "application/vnd.jupyter.widget-view+json": {
       "model_id": "066c501e6b524fb3971d495f9088e53c",
       "version_major": 2,
       "version_minor": 0
      },
      "text/plain": [
       "  0%|          | 0/16 [00:00<?, ?it/s]"
      ]
     },
     "metadata": {},
     "output_type": "display_data"
    },
    {
     "name": "stdout",
     "output_type": "stream",
     "text": [
      "Train loss: 0.6945\n",
      "Validation loss: 0.6440\n",
      "One day, a  unhappy little boy was looking up to his mom and dad. His eyes lit up and he saw a surprise. It was a big yellow balloon, and he had never seen it before. His dad was older and he was a bit disappointed. He tried\n",
      "\n",
      "Step 61440: Performing validation\n",
      "Learning rate: 0.000480\n"
     ]
    },
    {
     "data": {
      "application/vnd.jupyter.widget-view+json": {
       "model_id": "9749f52a9fcd4573858b76399fc0ff78",
       "version_major": 2,
       "version_minor": 0
      },
      "text/plain": [
       "  0%|          | 0/16 [00:00<?, ?it/s]"
      ]
     },
     "metadata": {},
     "output_type": "display_data"
    },
    {
     "name": "stdout",
     "output_type": "stream",
     "text": [
      "Train loss: 0.8433\n",
      "Validation loss: 0.6363\n",
      "One day, a  crab named Fin was walking in the ocean with his crab friends. They saw lots of pale fishermen performing tricks. Fin and his friends were amazed.\n",
      "\n",
      "Then, Fin saw a wet clouds with a big float on it. He slowly took a deep\n",
      "\n",
      "Step 63488: Performing validation\n",
      "Learning rate: 0.000460\n"
     ]
    },
    {
     "data": {
      "application/vnd.jupyter.widget-view+json": {
       "model_id": "a0b152cea6264c9b89ee1ba7a305ecb9",
       "version_major": 2,
       "version_minor": 0
      },
      "text/plain": [
       "  0%|          | 0/16 [00:00<?, ?it/s]"
      ]
     },
     "metadata": {},
     "output_type": "display_data"
    },
    {
     "name": "stdout",
     "output_type": "stream",
     "text": [
      "Train loss: 0.8038\n",
      "Validation loss: 0.6293\n",
      "One day, a  anxious prince was walking in the forest. He looked around for something exciting to discover! He noticed a big tree, and he wanted to climb up. \n",
      "\n",
      "Suddenly he heard a buzzing noise. It was a frog. The bear was shouting in\n",
      "\n",
      "Step 65536: Performing validation\n",
      "Learning rate: 0.000439\n"
     ]
    },
    {
     "data": {
      "application/vnd.jupyter.widget-view+json": {
       "model_id": "2ac8214c531f40b09a678226afe40998",
       "version_major": 2,
       "version_minor": 0
      },
      "text/plain": [
       "  0%|          | 0/16 [00:00<?, ?it/s]"
      ]
     },
     "metadata": {},
     "output_type": "display_data"
    },
    {
     "name": "stdout",
     "output_type": "stream",
     "text": [
      "Train loss: 0.6035\n",
      "Validation loss: 0.6236\n",
      "One day, a  Teddy was walking through a forest. Excitedly, he ran around looking for something to mail. He saw a path ahead one path and he found a hammer of parts. He was curious and wanted to use the hammer to open the door.\n",
      "\n",
      "\n",
      "Step 67584: Performing validation\n",
      "Learning rate: 0.000419\n"
     ]
    },
    {
     "data": {
      "application/vnd.jupyter.widget-view+json": {
       "model_id": "3ec73192fb3040259769ed20d1f00765",
       "version_major": 2,
       "version_minor": 0
      },
      "text/plain": [
       "  0%|          | 0/16 [00:00<?, ?it/s]"
      ]
     },
     "metadata": {},
     "output_type": "display_data"
    },
    {
     "name": "stdout",
     "output_type": "stream",
     "text": [
      "Train loss: 0.8453\n",
      "Validation loss: 0.6174\n",
      "One day, a  elderly man walked into the sea. He watched as the tide floated down the horizon. Suddenly, he heard a voice from above. It was a man. He smiled and waved at the man. He stayed in the sunny type of water.\n",
      "\n",
      "\n",
      "\n",
      "Step 69632: Performing validation\n",
      "Learning rate: 0.000399\n"
     ]
    },
    {
     "data": {
      "application/vnd.jupyter.widget-view+json": {
       "model_id": "e2ffa43a53ea452480f4f8a1de3d5344",
       "version_major": 2,
       "version_minor": 0
      },
      "text/plain": [
       "  0%|          | 0/16 [00:00<?, ?it/s]"
      ]
     },
     "metadata": {},
     "output_type": "display_data"
    },
    {
     "name": "stdout",
     "output_type": "stream",
     "text": [
      "Train loss: 0.9535\n",
      "Validation loss: 0.6132\n",
      "One day, a  Mummy and her son decided to go into the zoo more. Mummy used her arms to get each other animals in the machine. The machine was going up and down the ground! It was a rubber! Mummy and the son were so excited\n",
      "\n",
      "Step 71680: Performing validation\n",
      "Learning rate: 0.000378\n"
     ]
    },
    {
     "data": {
      "application/vnd.jupyter.widget-view+json": {
       "model_id": "50cf8d5f2cfa497d888a8acec7b2fd54",
       "version_major": 2,
       "version_minor": 0
      },
      "text/plain": [
       "  0%|          | 0/16 [00:00<?, ?it/s]"
      ]
     },
     "metadata": {},
     "output_type": "display_data"
    },
    {
     "name": "stdout",
     "output_type": "stream",
     "text": [
      "Train loss: 0.7373\n",
      "Validation loss: 0.6078\n",
      "One day, a  old walked a very big window. It stood in front of a dog. The dog wanted to play with someone. The dog was a very nosy dog. He thought, \"If I be quiet\". \n",
      "\n",
      "The old dog walked around the\n",
      "\n",
      "Step 73728: Performing validation\n",
      "Learning rate: 0.000358\n"
     ]
    },
    {
     "data": {
      "application/vnd.jupyter.widget-view+json": {
       "model_id": "b732b36254a2416586d731c6bc300557",
       "version_major": 2,
       "version_minor": 0
      },
      "text/plain": [
       "  0%|          | 0/16 [00:00<?, ?it/s]"
      ]
     },
     "metadata": {},
     "output_type": "display_data"
    },
    {
     "name": "stdout",
     "output_type": "stream",
     "text": [
      "Train loss: 0.7108\n",
      "Validation loss: 0.6032\n",
      "One day, a  old man was walking by the river. He noticed a little girl walking by. She admired the old man looking on his bike and smiled even more.\n",
      "\n",
      "The old man noticed that girl was wearing an old uniform and was smiling. He knew that\n",
      "\n",
      "Step 75776: Performing validation\n",
      "Learning rate: 0.000337\n"
     ]
    },
    {
     "data": {
      "application/vnd.jupyter.widget-view+json": {
       "model_id": "d82ea6dbc3ee45df9982b441c3b14fae",
       "version_major": 2,
       "version_minor": 0
      },
      "text/plain": [
       "  0%|          | 0/16 [00:00<?, ?it/s]"
      ]
     },
     "metadata": {},
     "output_type": "display_data"
    },
    {
     "name": "stdout",
     "output_type": "stream",
     "text": [
      "Train loss: 0.6935\n",
      "Validation loss: 0.5984\n",
      "One day, a  Leo was playing in the park. He ran around and saw a big, heavy van. Leo looked up and walked over to it. He carefully opened it, and inside was a big, heavy box. He opened it and he was filled in with\n",
      "\n",
      "Step 77824: Performing validation\n",
      "Learning rate: 0.000317\n"
     ]
    },
    {
     "data": {
      "application/vnd.jupyter.widget-view+json": {
       "model_id": "89c93fd1dbd74a469e57bd9b69e35e7c",
       "version_major": 2,
       "version_minor": 0
      },
      "text/plain": [
       "  0%|          | 0/16 [00:00<?, ?it/s]"
      ]
     },
     "metadata": {},
     "output_type": "display_data"
    },
    {
     "name": "stdout",
     "output_type": "stream",
     "text": [
      "Train loss: 0.7894\n",
      "Validation loss: 0.5946\n",
      "One day, a  He wanted to show his mom the magic show. He saw a big bulb in the kitchen. He thought it would help him put it on the table. He thought it was amazing.\n",
      "\n",
      "So he ran to the kitchen and tried to put on\n",
      "\n",
      "Step 79872: Performing validation\n",
      "Learning rate: 0.000297\n"
     ]
    },
    {
     "data": {
      "application/vnd.jupyter.widget-view+json": {
       "model_id": "ad44b5144feb41f18ad52360a06fcbdb",
       "version_major": 2,
       "version_minor": 0
      },
      "text/plain": [
       "  0%|          | 0/16 [00:00<?, ?it/s]"
      ]
     },
     "metadata": {},
     "output_type": "display_data"
    },
    {
     "name": "stdout",
     "output_type": "stream",
     "text": [
      "Train loss: 0.6683\n",
      "Validation loss: 0.5914\n",
      "One day, a  old mouse was walking by the dark forest. Suddenly, the mouse heard a funny noise. He stopped and listened carefully. When the mouse stopped in front of a big chest appeared. He was scared and very frightened.\n",
      "\n",
      "The old mouse took a\n",
      "\n",
      "Step 81920: Performing validation\n",
      "Learning rate: 0.000278\n"
     ]
    },
    {
     "data": {
      "application/vnd.jupyter.widget-view+json": {
       "model_id": "fb80905929d447018cf0adcb53898526",
       "version_major": 2,
       "version_minor": 0
      },
      "text/plain": [
       "  0%|          | 0/16 [00:00<?, ?it/s]"
      ]
     },
     "metadata": {},
     "output_type": "display_data"
    },
    {
     "name": "stdout",
     "output_type": "stream",
     "text": [
      "Train loss: 0.7409\n",
      "Validation loss: 0.5872\n",
      "One day, a  unusual bird was flying in the sky. It was very impressive! The bird kept flying around, on in the sun, wearing an exciting hat, and flying around each other.\n",
      "\n",
      "One day, the bird noticed that a big red chimney was\n",
      "\n",
      "Step 83968: Performing validation\n",
      "Learning rate: 0.000259\n"
     ]
    },
    {
     "data": {
      "application/vnd.jupyter.widget-view+json": {
       "model_id": "6a04bfb301844899ae0a85ea1ac02661",
       "version_major": 2,
       "version_minor": 0
      },
      "text/plain": [
       "  0%|          | 0/16 [00:00<?, ?it/s]"
      ]
     },
     "metadata": {},
     "output_type": "display_data"
    },
    {
     "name": "stdout",
     "output_type": "stream",
     "text": [
      "Train loss: 0.8508\n",
      "Validation loss: 0.5850\n",
      "One day, a  old man was walking down the street when he noticed a motor. He stopped to take a closer look and saw that the motor was making a noise. He got closer and saw that it had been leaking out of a truck. He was so scared!\n",
      "\n",
      "Step 86016: Performing validation\n",
      "Learning rate: 0.000240\n"
     ]
    },
    {
     "data": {
      "application/vnd.jupyter.widget-view+json": {
       "model_id": "175b9043071549b889da0890f5b360bb",
       "version_major": 2,
       "version_minor": 0
      },
      "text/plain": [
       "  0%|          | 0/16 [00:00<?, ?it/s]"
      ]
     },
     "metadata": {},
     "output_type": "display_data"
    },
    {
     "name": "stdout",
     "output_type": "stream",
     "text": [
      "Train loss: 0.7940\n",
      "Validation loss: 0.5815\n",
      "One day, a  old man was walking through a hill when he couldn't hear any sound. All of a sudden, he stopped and watched the shaking of the hill. A man slowly approached the man and said in a squeaky voice, \"Stop, kind man.\n",
      "\n",
      "Step 88064: Performing validation\n",
      "Learning rate: 0.000221\n"
     ]
    },
    {
     "data": {
      "application/vnd.jupyter.widget-view+json": {
       "model_id": "12d9ca436a6b4de9bb83fbd5acdf01aa",
       "version_major": 2,
       "version_minor": 0
      },
      "text/plain": [
       "  0%|          | 0/16 [00:00<?, ?it/s]"
      ]
     },
     "metadata": {},
     "output_type": "display_data"
    },
    {
     "name": "stdout",
     "output_type": "stream",
     "text": [
      "Train loss: 0.7288\n",
      "Validation loss: 0.5779\n",
      "One day, a  old girl named Sally, decided to go for a walk. She got very excited and stepped onto the shore. The waves were stretched and she began to splash around. She couldn't touch the waves, as the waves started to bubble around her.\n",
      "\n",
      "\n",
      "Step 90112: Performing validation\n",
      "Learning rate: 0.000203\n"
     ]
    },
    {
     "data": {
      "application/vnd.jupyter.widget-view+json": {
       "model_id": "55ae4563d70c47d3810951c860526a33",
       "version_major": 2,
       "version_minor": 0
      },
      "text/plain": [
       "  0%|          | 0/16 [00:00<?, ?it/s]"
      ]
     },
     "metadata": {},
     "output_type": "display_data"
    },
    {
     "name": "stdout",
     "output_type": "stream",
     "text": [
      "Train loss: 0.7130\n",
      "Validation loss: 0.5754\n",
      "One day, a  hairy bug wanted to play outside. But it was very cold, because something was wet.\n",
      "\n",
      "The bug decided to land on the top of a tall hill. It looked around and noticed that the hill was wet.\n",
      "\n",
      "The bug was so\n",
      "\n",
      "Step 92160: Performing validation\n",
      "Learning rate: 0.000186\n"
     ]
    },
    {
     "data": {
      "application/vnd.jupyter.widget-view+json": {
       "model_id": "fca60b93ba664ddb862f9322a491bfb0",
       "version_major": 2,
       "version_minor": 0
      },
      "text/plain": [
       "  0%|          | 0/16 [00:00<?, ?it/s]"
      ]
     },
     "metadata": {},
     "output_type": "display_data"
    },
    {
     "name": "stdout",
     "output_type": "stream",
     "text": [
      "Train loss: 0.6980\n",
      "Validation loss: 0.5731\n",
      "One day, a  old man asked his daughter, \"Can you lend me something?\"\n",
      "\n",
      "The daughter responded, \"Yes, I've been given you a very special object. It's a brand, smooth, beautiful sparkly gold come out of this copper.\"\n",
      "\n",
      "\n",
      "Step 94208: Performing validation\n",
      "Learning rate: 0.000169\n"
     ]
    },
    {
     "data": {
      "application/vnd.jupyter.widget-view+json": {
       "model_id": "0bfa9ae4e6b94d00be594b3b7710b84b",
       "version_major": 2,
       "version_minor": 0
      },
      "text/plain": [
       "  0%|          | 0/16 [00:00<?, ?it/s]"
      ]
     },
     "metadata": {},
     "output_type": "display_data"
    },
    {
     "name": "stdout",
     "output_type": "stream",
     "text": [
      "Train loss: 0.6806\n",
      "Validation loss: 0.5713\n",
      "One day, a  brave little girl called Jake wanted to explore the world. So, with a big shed, Jake put on his climbing shelf. He climbed up and looked around. It seemed like he was on an adventure. He climbed up the mountain and went to the\n",
      "\n",
      "Step 96256: Performing validation\n",
      "Learning rate: 0.000152\n"
     ]
    },
    {
     "data": {
      "application/vnd.jupyter.widget-view+json": {
       "model_id": "6be6f7b3245c4c61b04c49b67ebabb64",
       "version_major": 2,
       "version_minor": 0
      },
      "text/plain": [
       "  0%|          | 0/16 [00:00<?, ?it/s]"
      ]
     },
     "metadata": {},
     "output_type": "display_data"
    },
    {
     "name": "stdout",
     "output_type": "stream",
     "text": [
      "Train loss: 0.7566\n",
      "Validation loss: 0.5691\n",
      "One day, a  old girl saw a bottle on the floor. She picked it up and said, \"Now wear this cool lotion. Next please, try it.\" She put it on and felt nice. She spun the bottle into a big flame and a flame sweet\n",
      "\n",
      "Step 98304: Performing validation\n",
      "Learning rate: 0.000136\n"
     ]
    },
    {
     "data": {
      "application/vnd.jupyter.widget-view+json": {
       "model_id": "006b9899bbb846bcb09c59510a7448a3",
       "version_major": 2,
       "version_minor": 0
      },
      "text/plain": [
       "  0%|          | 0/16 [00:00<?, ?it/s]"
      ]
     },
     "metadata": {},
     "output_type": "display_data"
    },
    {
     "name": "stdout",
     "output_type": "stream",
     "text": [
      "Train loss: 0.8916\n",
      "Validation loss: 0.5667\n",
      "One day, a  old man came up with a needle in his hands. He walked over to the needle and picked it up.\n",
      "\n",
      "When he hugged the needle, he looked around. â€œWhatâ€™s this?â€ he asked\n",
      "\n",
      "Step 100352: Performing validation\n",
      "Learning rate: 0.000121\n"
     ]
    },
    {
     "data": {
      "application/vnd.jupyter.widget-view+json": {
       "model_id": "57a8d0d5db694980b497c5e64622ac80",
       "version_major": 2,
       "version_minor": 0
      },
      "text/plain": [
       "  0%|          | 0/16 [00:00<?, ?it/s]"
      ]
     },
     "metadata": {},
     "output_type": "display_data"
    },
    {
     "name": "stdout",
     "output_type": "stream",
     "text": [
      "Train loss: 0.7534\n",
      "Validation loss: 0.5649\n",
      "One day, a  old man was walking in the woods one night when he saw a mist. The mist was so dark he could see his eyes move. He decided to explore it. He walked over and touched the mist's skin. \n",
      "\n",
      "As he stepped closer\n",
      "\n",
      "Step 102400: Performing validation\n",
      "Learning rate: 0.000107\n"
     ]
    },
    {
     "data": {
      "application/vnd.jupyter.widget-view+json": {
       "model_id": "d7c7d2ba61b841e5ae6f7358f08dc2e0",
       "version_major": 2,
       "version_minor": 0
      },
      "text/plain": [
       "  0%|          | 0/16 [00:00<?, ?it/s]"
      ]
     },
     "metadata": {},
     "output_type": "display_data"
    },
    {
     "name": "stdout",
     "output_type": "stream",
     "text": [
      "Train loss: 0.7137\n",
      "Validation loss: 0.5628\n",
      "One day, a  old man was named Tim. Tim loved to play in the park with his friends. They were there all summer. Tim was very happy.\n",
      "\n",
      "One day, Tim and his friends decided to play a game. They all ran around the playground.\n",
      "\n",
      "Step 104448: Performing validation\n",
      "Learning rate: 0.000094\n"
     ]
    },
    {
     "data": {
      "application/vnd.jupyter.widget-view+json": {
       "model_id": "dee7d2bf31334176b76e8bf62abf884d",
       "version_major": 2,
       "version_minor": 0
      },
      "text/plain": [
       "  0%|          | 0/16 [00:00<?, ?it/s]"
      ]
     },
     "metadata": {},
     "output_type": "display_data"
    },
    {
     "name": "stdout",
     "output_type": "stream",
     "text": [
      "Train loss: 0.9042\n",
      "Validation loss: 0.5620\n",
      "One day, a  old dad went for a walk. The sun shone deep and the birds were talking and singing. It felt so good in life!\n",
      "\n",
      "While they were walking, dad found a bell. He was so excited! He picked it up and smiled.\n",
      "\n",
      "Step 106496: Performing validation\n",
      "Learning rate: 0.000081\n"
     ]
    },
    {
     "data": {
      "application/vnd.jupyter.widget-view+json": {
       "model_id": "7594af9bdcab440e93828020924d4bce",
       "version_major": 2,
       "version_minor": 0
      },
      "text/plain": [
       "  0%|          | 0/16 [00:00<?, ?it/s]"
      ]
     },
     "metadata": {},
     "output_type": "display_data"
    },
    {
     "name": "stdout",
     "output_type": "stream",
     "text": [
      "Train loss: 0.7350\n",
      "Validation loss: 0.5600\n",
      "One day, a  old boy named John wanted to test his unique snake. He asked his mom, \"Mom, can I test my snake snake?\" His mom looked at the snake and said, \"Be careful, John. Lightning can be dangerous.\" \n",
      "\n",
      "John\n",
      "\n",
      "Step 108544: Performing validation\n",
      "Learning rate: 0.000069\n"
     ]
    },
    {
     "data": {
      "application/vnd.jupyter.widget-view+json": {
       "model_id": "15de4f2cb1aa4034bfa03e006b886dc7",
       "version_major": 2,
       "version_minor": 0
      },
      "text/plain": [
       "  0%|          | 0/16 [00:00<?, ?it/s]"
      ]
     },
     "metadata": {},
     "output_type": "display_data"
    },
    {
     "name": "stdout",
     "output_type": "stream",
     "text": [
      "Train loss: 0.8340\n",
      "Validation loss: 0.5589\n",
      "One day, a  old bird was hopping over the road. It hopped deep into the sky when it gazed up at the clouds. Suddenly, a noise filled the sky and a little girl was scared. She had never seen anything like it before.\n",
      "\n",
      "The bird flew\n",
      "\n",
      "Step 110592: Performing validation\n",
      "Learning rate: 0.000058\n"
     ]
    },
    {
     "data": {
      "application/vnd.jupyter.widget-view+json": {
       "model_id": "9165b6e0dd444b3a8fecec25282c83bf",
       "version_major": 2,
       "version_minor": 0
      },
      "text/plain": [
       "  0%|          | 0/16 [00:00<?, ?it/s]"
      ]
     },
     "metadata": {},
     "output_type": "display_data"
    },
    {
     "name": "stdout",
     "output_type": "stream",
     "text": [
      "Train loss: 0.7562\n",
      "Validation loss: 0.5576\n",
      "One day, a  confused child - who was only three years old. She was playing in her backyard. Suddenly, a friendly fairy flew by. The fairy said hello and she smiled. She asked, â€œWhat are you visiting flamingo?â€\n",
      "\n",
      "Step 112640: Performing validation\n",
      "Learning rate: 0.000048\n"
     ]
    },
    {
     "data": {
      "application/vnd.jupyter.widget-view+json": {
       "model_id": "d1d5545146354529886811a03df2da8e",
       "version_major": 2,
       "version_minor": 0
      },
      "text/plain": [
       "  0%|          | 0/16 [00:00<?, ?it/s]"
      ]
     },
     "metadata": {},
     "output_type": "display_data"
    },
    {
     "name": "stdout",
     "output_type": "stream",
     "text": [
      "Train loss: 0.8837\n",
      "Validation loss: 0.5567\n",
      "One day, a  old lady was standing beside a bench. She saw a young girl sitting on another side of the bench and sat next to her. It looked so sad and lonely. \n",
      "\n",
      "The old lady sat quietly as she watched the girl. She said,\n",
      "\n",
      "Step 114688: Performing validation\n",
      "Learning rate: 0.000039\n"
     ]
    },
    {
     "data": {
      "application/vnd.jupyter.widget-view+json": {
       "model_id": "462b37c7a8f2483ca3efd6334ffec66d",
       "version_major": 2,
       "version_minor": 0
      },
      "text/plain": [
       "  0%|          | 0/16 [00:00<?, ?it/s]"
      ]
     },
     "metadata": {},
     "output_type": "display_data"
    },
    {
     "name": "stdout",
     "output_type": "stream",
     "text": [
      "Train loss: 0.6450\n",
      "Validation loss: 0.5561\n",
      "One day, a  old fisherman went on a adventure. He stumbled across a teaspoon lying on the water. He smiled and picks it up. It was smooth and it flapped his hands. He was so happy.\n",
      "\n",
      "The fisherman took the teaspoon to the bank to\n",
      "\n",
      "Step 116736: Performing validation\n",
      "Learning rate: 0.000030\n"
     ]
    },
    {
     "data": {
      "application/vnd.jupyter.widget-view+json": {
       "model_id": "60f9db3ac2e24c1e9ed855ad0eba40d6",
       "version_major": 2,
       "version_minor": 0
      },
      "text/plain": [
       "  0%|          | 0/16 [00:00<?, ?it/s]"
      ]
     },
     "metadata": {},
     "output_type": "display_data"
    },
    {
     "name": "stdout",
     "output_type": "stream",
     "text": [
      "Train loss: 0.7137\n",
      "Validation loss: 0.5555\n",
      "One day, a  old man came to show a piece of corn into a field. He saw that the corn was tall and tall. The old man thought this was beautiful. He wanted to eat the corn. Immediately, he rushed over to it. \n",
      "\n",
      "When\n",
      "\n",
      "Step 118784: Performing validation\n",
      "Learning rate: 0.000023\n"
     ]
    },
    {
     "data": {
      "application/vnd.jupyter.widget-view+json": {
       "model_id": "86a92817f1d245a79ec580904a4f8ba6",
       "version_major": 2,
       "version_minor": 0
      },
      "text/plain": [
       "  0%|          | 0/16 [00:00<?, ?it/s]"
      ]
     },
     "metadata": {},
     "output_type": "display_data"
    },
    {
     "name": "stdout",
     "output_type": "stream",
     "text": [
      "Train loss: 0.7880\n",
      "Validation loss: 0.5548\n",
      "One day, a  dull person wanted to play by the sea. He thought that maybe someone would like him too. Then he had an idea - he was going to go see a dolphin!\n",
      "\n",
      "He asked the sea sea sea whales: \"Why don't we go\n",
      "\n",
      "Step 120832: Performing validation\n",
      "Learning rate: 0.000017\n"
     ]
    },
    {
     "data": {
      "application/vnd.jupyter.widget-view+json": {
       "model_id": "e91936e0f9d54c80ab77a4a1e42c59c2",
       "version_major": 2,
       "version_minor": 0
      },
      "text/plain": [
       "  0%|          | 0/16 [00:00<?, ?it/s]"
      ]
     },
     "metadata": {},
     "output_type": "display_data"
    },
    {
     "name": "stdout",
     "output_type": "stream",
     "text": [
      "Train loss: 0.7563\n",
      "Validation loss: 0.5544\n",
      "One day, a  old dog were walking on the street, when he saw something glowing in the sky. It was a magical looking market! The man was so excited that he decided to take it home.\n",
      "\n",
      "When the man got home, he saw a woman standing\n",
      "\n",
      "Step 122880: Performing validation\n",
      "Learning rate: 0.000011\n"
     ]
    },
    {
     "data": {
      "application/vnd.jupyter.widget-view+json": {
       "model_id": "973e839af4434758b8f89f2a33de0b54",
       "version_major": 2,
       "version_minor": 0
      },
      "text/plain": [
       "  0%|          | 0/16 [00:00<?, ?it/s]"
      ]
     },
     "metadata": {},
     "output_type": "display_data"
    },
    {
     "name": "stdout",
     "output_type": "stream",
     "text": [
      "Train loss: 0.6633\n",
      "Validation loss: 0.5542\n",
      "One day, a  of the family went to a new fancy restaurant. There were cakes and shiny drinks and yummy, and so they asked for some.\n",
      "\n",
      "The family said, \"Let's try it!\" So they each ordered what they liked. They tasted y\n",
      "\n",
      "Step 124928: Performing validation\n",
      "Learning rate: 0.000007\n"
     ]
    },
    {
     "data": {
      "application/vnd.jupyter.widget-view+json": {
       "model_id": "b1b9c65caaf347358ac6cbe4710721d9",
       "version_major": 2,
       "version_minor": 0
      },
      "text/plain": [
       "  0%|          | 0/16 [00:00<?, ?it/s]"
      ]
     },
     "metadata": {},
     "output_type": "display_data"
    },
    {
     "name": "stdout",
     "output_type": "stream",
     "text": [
      "Train loss: 0.7174\n",
      "Validation loss: 0.5536\n",
      "One day, a  hungry bird was flying in the sky. It was a sunny day, and the bird liked to fly fast. It saw a big cake on the ground.\n",
      "\n",
      "The bird asked the bread, \"Can I sit on the cake, please?\"\n",
      "\n",
      "\n",
      "Step 126976: Performing validation\n",
      "Learning rate: 0.000004\n"
     ]
    },
    {
     "data": {
      "application/vnd.jupyter.widget-view+json": {
       "model_id": "5795be1975ac427f852e3112d2f399a1",
       "version_major": 2,
       "version_minor": 0
      },
      "text/plain": [
       "  0%|          | 0/16 [00:00<?, ?it/s]"
      ]
     },
     "metadata": {},
     "output_type": "display_data"
    },
    {
     "name": "stdout",
     "output_type": "stream",
     "text": [
      "Train loss: 0.6319\n",
      "Validation loss: 0.5535\n",
      "One day, a  The sun was out and the birds were in the sky. Little Lucky was playing outside with his friends and spending time outside. Suddenly, he saw a big blue river. It was gifted by the animals. He was so excited and wanted to play.\n",
      "\n",
      "Step 129024: Performing validation\n",
      "Learning rate: 0.000001\n"
     ]
    },
    {
     "data": {
      "application/vnd.jupyter.widget-view+json": {
       "model_id": "68c347abcf8e4abc86e0eefdba19b98a",
       "version_major": 2,
       "version_minor": 0
      },
      "text/plain": [
       "  0%|          | 0/16 [00:00<?, ?it/s]"
      ]
     },
     "metadata": {},
     "output_type": "display_data"
    },
    {
     "name": "stdout",
     "output_type": "stream",
     "text": [
      "Train loss: 0.7009\n",
      "Validation loss: 0.5535\n",
      "One day, a  old cat named Tom found a big, scary cat. The cat was stuck in a tree. Tom was very sad. He wanted the cat to be friends with him.\n",
      "\n",
      "But Sue did not like the cat. She laughed at Tom. \"\n",
      "\n",
      "Step 131072: Performing validation\n",
      "Learning rate: 0.000000\n"
     ]
    },
    {
     "data": {
      "application/vnd.jupyter.widget-view+json": {
       "model_id": "6190d4322c804f63a5af1cdef0cd8ef0",
       "version_major": 2,
       "version_minor": 0
      },
      "text/plain": [
       "  0%|          | 0/16 [00:00<?, ?it/s]"
      ]
     },
     "metadata": {},
     "output_type": "display_data"
    },
    {
     "name": "stdout",
     "output_type": "stream",
     "text": [
      "Train loss: 0.5604\n",
      "Validation loss: 0.5534\n",
      "One day, a  old man heard a loud noise outside. He had been poking at and saw it was a gloomy day. Then he was looking out and saw an old football on the ground. He quickly grabbed it and hugged it, thankful for being able to have it\n"
     ]
    }
   ],
   "source": [
    "for iter, batch in enumerate(tqdm.notebook.tqdm(train_dataloader, total=len(train_dataloader))):\n",
    "    # inputs, targets = batch['text'], batch['text']\n",
    "    inputs = batch['input'][:, :-1]\n",
    "    targets = batch['input'][:, 1:]\n",
    "    inputs, targets = inputs.to(device), targets.to(device)\n",
    "\n",
    "    with torch.autocast(device_type=str(device), dtype=torch.bfloat16):\n",
    "        logits, _ = model(inputs)\n",
    "        loss = F.cross_entropy(\n",
    "\t\t\tlogits.view(-1, logits.size(-1)),\n",
    "\t\t\ttargets.view(-1),\n",
    "\t\t\tignore_index=tokenizer.pad_id\n",
    "\t\t)\n",
    "\n",
    "    loss = loss / gradient_accumulation_steps\n",
    "    loss.backward()\n",
    "\n",
    "    norm = torch.nn.utils.clip_grad_norm_(model.parameters(), max_norm=1.0)\n",
    "    \n",
    "    if (iter + 1) % gradient_accumulation_steps == 0:\n",
    "        optimizer.step()\n",
    "        optimizer.zero_grad()\n",
    "        scheduler.step()\n",
    "\n",
    "    if iter % (gradient_accumulation_steps * 32) == 0 or iter == max_iters - 1:\n",
    "        print(f\"\\nStep {iter}: Performing validation\")\n",
    "        print(f\"Learning rate: {scheduler.get_last_lr()[0]:.6f}\")\n",
    "        model.eval()\n",
    "        with torch.no_grad():\n",
    "            val_loss = 0\n",
    "            train_loss = loss.item() * gradient_accumulation_steps\n",
    "            for batch in tqdm.notebook.tqdm(valid_dataloader, total=len(valid_dataloader)):\n",
    "                # inputs, targets = batch['text'], batch['text']\n",
    "                inputs = batch['input'][:, :-1]\n",
    "                targets = batch['input'][:, 1:]\n",
    "                inputs, targets = inputs.to(device), targets.to(device)\n",
    "                logits, _ = model(inputs)\n",
    "                loss = F.cross_entropy(\n",
    "                    logits.view(-1, logits.size(-1)),\n",
    "\t\t\t\t\ttargets.view(-1),\n",
    "\t\t\t\t\tignore_index=tokenizer.pad_id\n",
    "\t\t\t\t)\n",
    "                val_loss += loss.item()\n",
    "\n",
    "            torch.save(model.state_dict(), f\"ckpt/ckpt_{iter}.pt\")\n",
    "            print(f\"Train loss: {train_loss:.4f}\")\n",
    "            print(f\"Validation loss: {val_loss / len(valid_dataloader):.4f}\")\n",
    "\n",
    "            prompt = \"One day, a \"\n",
    "            prompt = torch.tensor([encode(prompt)], dtype=torch.long, device=device)\n",
    "            output = decode(generate(model, prompt, max_new_tokens=50)[0].tolist())\n",
    "            print(output)\n",
    "            output = output.replace(\"\\n\", \"\\n\")\n",
    "            output = output.replace('\"', \"'\")\n",
    "            with open(\"losses.txt\", \"a\") as f:\n",
    "                f.write(f\"{iter},{scheduler.get_last_lr()[0]:.6f},{train_loss},{val_loss / len(valid_dataloader)},\\\"{output}\\\"\\n\")\n",
    "        model.train()"
   ]
  },
  {
   "cell_type": "code",
   "execution_count": 35,
   "metadata": {},
   "outputs": [],
   "source": [
    "torch.save(model.state_dict(), \"final_model_tiny_stories_tiktoken_best22042025_1.pt\")"
   ]
  },
  {
   "cell_type": "code",
   "execution_count": 36,
   "metadata": {
    "trusted": true
   },
   "outputs": [],
   "source": [
    "model = model.eval()"
   ]
  },
  {
   "cell_type": "code",
   "execution_count": 37,
   "metadata": {
    "trusted": true
   },
   "outputs": [
    {
     "name": "stderr",
     "output_type": "stream",
     "text": [
      "W0422 11:45:09.088000 3885865 torch/_dynamo/convert_frame.py:906] [0/8] torch._dynamo hit config.cache_size_limit (8)\n",
      "W0422 11:45:09.088000 3885865 torch/_dynamo/convert_frame.py:906] [0/8]    function: 'forward' (/tmp/ipykernel_3885865/2281288680.py:86)\n",
      "W0422 11:45:09.088000 3885865 torch/_dynamo/convert_frame.py:906] [0/8]    last reason: 0/0: tensor 'L['idx']' dispatch key set mismatch. expected DispatchKeySet(CUDA, BackendSelect, ADInplaceOrView, AutogradCUDA, AutocastCUDA), actual DispatchKeySet(CUDA, BackendSelect, ADInplaceOrView, AutogradCUDA)\n",
      "W0422 11:45:09.088000 3885865 torch/_dynamo/convert_frame.py:906] [0/8] To log all recompilation reasons, use TORCH_LOGS=\"recompiles\".\n",
      "W0422 11:45:09.088000 3885865 torch/_dynamo/convert_frame.py:906] [0/8] To diagnose recompilation issues, see https://pytorch.org/docs/main/torch.compiler_troubleshooting.html.\n"
     ]
    },
    {
     "name": "stdout",
     "output_type": "stream",
     "text": [
      "There was a girl who had a bad job. She did lots of things, like play, and drawing pictures. She never said goodbye to her parents and family.\n",
      "\n",
      "It made her very unhappy. One day, she decided to go outside and play in the sun.\n"
     ]
    }
   ],
   "source": [
    "prompt = \"There was a girl who\"\n",
    "\n",
    "prompt = torch.tensor([encode(prompt)], dtype=torch.long, device=device)\n",
    "print(decode(generate(model, prompt, max_new_tokens=50)[0].tolist()))"
   ]
  },
  {
   "cell_type": "code",
   "execution_count": 39,
   "metadata": {
    "trusted": true
   },
   "outputs": [
    {
     "name": "stdout",
     "output_type": "stream",
     "text": [
      "A little boy found a bicycle in the park. He waved and shouted with joy as he walked along with his friends. It was the best day ever!\n",
      "\n",
      "He rode the bicycle around town like the bigger and bigger one loved it. He blinked at all the obstacles,\n"
     ]
    }
   ],
   "source": [
    "prompt = \"A little boy found a\"\n",
    "\n",
    "prompt = torch.tensor([encode(prompt)], dtype=torch.long, device=device)\n",
    "print(decode(generate(model, prompt, max_new_tokens=50)[0].tolist()))"
   ]
  },
  {
   "cell_type": "code",
   "execution_count": null,
   "metadata": {
    "trusted": true
   },
   "outputs": [],
   "source": [
    "# model.to('cpu')"
   ]
  },
  {
   "cell_type": "code",
   "execution_count": null,
   "metadata": {
    "trusted": true
   },
   "outputs": [],
   "source": []
  },
  {
   "cell_type": "code",
   "execution_count": null,
   "metadata": {
    "trusted": true
   },
   "outputs": [],
   "source": []
  }
 ],
 "metadata": {
  "kaggle": {
   "accelerator": "nvidiaTeslaT4",
   "dataSources": [],
   "dockerImageVersionId": 30840,
   "isGpuEnabled": true,
   "isInternetEnabled": true,
   "language": "python",
   "sourceType": "notebook"
  },
  "kernelspec": {
   "display_name": "venv",
   "language": "python",
   "name": "python3"
  },
  "language_info": {
   "codemirror_mode": {
    "name": "ipython",
    "version": 3
   },
   "file_extension": ".py",
   "mimetype": "text/x-python",
   "name": "python",
   "nbconvert_exporter": "python",
   "pygments_lexer": "ipython3",
   "version": "3.12.3"
  }
 },
 "nbformat": 4,
 "nbformat_minor": 4
}
