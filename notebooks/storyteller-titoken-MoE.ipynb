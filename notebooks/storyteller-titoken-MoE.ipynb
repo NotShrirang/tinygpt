{
 "cells": [
  {
   "cell_type": "code",
   "execution_count": 1,
   "metadata": {},
   "outputs": [
    {
     "name": "stdout",
     "output_type": "stream",
     "text": [
      "Collecting liger-kernel\n",
      "  Downloading liger_kernel-0.6.0-py3-none-any.whl.metadata (24 kB)\n",
      "Requirement already satisfied: torch>=2.1.2 in ./venv/lib/python3.12/site-packages (from liger-kernel) (2.6.0)\n",
      "Requirement already satisfied: triton>=2.3.1 in ./venv/lib/python3.12/site-packages (from liger-kernel) (3.2.0)\n",
      "Requirement already satisfied: filelock in ./venv/lib/python3.12/site-packages (from torch>=2.1.2->liger-kernel) (3.17.0)\n",
      "Requirement already satisfied: typing-extensions>=4.10.0 in ./venv/lib/python3.12/site-packages (from torch>=2.1.2->liger-kernel) (4.12.2)\n",
      "Requirement already satisfied: networkx in ./venv/lib/python3.12/site-packages (from torch>=2.1.2->liger-kernel) (3.4.2)\n",
      "Requirement already satisfied: jinja2 in ./venv/lib/python3.12/site-packages (from torch>=2.1.2->liger-kernel) (3.1.5)\n",
      "Requirement already satisfied: fsspec in ./venv/lib/python3.12/site-packages (from torch>=2.1.2->liger-kernel) (2024.12.0)\n",
      "Requirement already satisfied: nvidia-cuda-nvrtc-cu12==12.4.127 in ./venv/lib/python3.12/site-packages (from torch>=2.1.2->liger-kernel) (12.4.127)\n",
      "Requirement already satisfied: nvidia-cuda-runtime-cu12==12.4.127 in ./venv/lib/python3.12/site-packages (from torch>=2.1.2->liger-kernel) (12.4.127)\n",
      "Requirement already satisfied: nvidia-cuda-cupti-cu12==12.4.127 in ./venv/lib/python3.12/site-packages (from torch>=2.1.2->liger-kernel) (12.4.127)\n",
      "Requirement already satisfied: nvidia-cudnn-cu12==9.1.0.70 in ./venv/lib/python3.12/site-packages (from torch>=2.1.2->liger-kernel) (9.1.0.70)\n",
      "Requirement already satisfied: nvidia-cublas-cu12==12.4.5.8 in ./venv/lib/python3.12/site-packages (from torch>=2.1.2->liger-kernel) (12.4.5.8)\n",
      "Requirement already satisfied: nvidia-cufft-cu12==11.2.1.3 in ./venv/lib/python3.12/site-packages (from torch>=2.1.2->liger-kernel) (11.2.1.3)\n",
      "Requirement already satisfied: nvidia-curand-cu12==10.3.5.147 in ./venv/lib/python3.12/site-packages (from torch>=2.1.2->liger-kernel) (10.3.5.147)\n",
      "Requirement already satisfied: nvidia-cusolver-cu12==11.6.1.9 in ./venv/lib/python3.12/site-packages (from torch>=2.1.2->liger-kernel) (11.6.1.9)\n",
      "Requirement already satisfied: nvidia-cusparse-cu12==12.3.1.170 in ./venv/lib/python3.12/site-packages (from torch>=2.1.2->liger-kernel) (12.3.1.170)\n",
      "Requirement already satisfied: nvidia-cusparselt-cu12==0.6.2 in ./venv/lib/python3.12/site-packages (from torch>=2.1.2->liger-kernel) (0.6.2)\n",
      "Requirement already satisfied: nvidia-nccl-cu12==2.21.5 in ./venv/lib/python3.12/site-packages (from torch>=2.1.2->liger-kernel) (2.21.5)\n",
      "Requirement already satisfied: nvidia-nvtx-cu12==12.4.127 in ./venv/lib/python3.12/site-packages (from torch>=2.1.2->liger-kernel) (12.4.127)\n",
      "Requirement already satisfied: nvidia-nvjitlink-cu12==12.4.127 in ./venv/lib/python3.12/site-packages (from torch>=2.1.2->liger-kernel) (12.4.127)\n",
      "Requirement already satisfied: setuptools in ./venv/lib/python3.12/site-packages (from torch>=2.1.2->liger-kernel) (75.8.0)\n",
      "Requirement already satisfied: sympy==1.13.1 in ./venv/lib/python3.12/site-packages (from torch>=2.1.2->liger-kernel) (1.13.1)\n",
      "Requirement already satisfied: mpmath<1.4,>=1.1.0 in ./venv/lib/python3.12/site-packages (from sympy==1.13.1->torch>=2.1.2->liger-kernel) (1.3.0)\n",
      "Requirement already satisfied: MarkupSafe>=2.0 in ./venv/lib/python3.12/site-packages (from jinja2->torch>=2.1.2->liger-kernel) (3.0.2)\n",
      "Downloading liger_kernel-0.6.0-py3-none-any.whl (177 kB)\n",
      "\u001b[2K   \u001b[38;2;114;156;31m━━━━━━━━━━━━━━━━━━━━━━━━━━━━━━━━━━━━━━━━\u001b[0m \u001b[32m177.9/177.9 kB\u001b[0m \u001b[31m4.6 MB/s\u001b[0m eta \u001b[36m0:00:00\u001b[0m[36m0:00:01\u001b[0m\n",
      "\u001b[?25hInstalling collected packages: liger-kernel\n",
      "Successfully installed liger-kernel-0.6.0\n"
     ]
    }
   ],
   "source": [
    "!pip install liger-kernel"
   ]
  },
  {
   "cell_type": "code",
   "execution_count": 1,
   "metadata": {
    "_cell_guid": "b1076dfc-b9ad-4769-8c92-a6c4dae69d19",
    "_uuid": "8f2839f25d086af736a60e9eeb907d3b93b6e0e5"
   },
   "outputs": [],
   "source": [
    "import torch\n",
    "import torch.nn as nn\n",
    "from torch.nn import functional as F\n",
    "import torch.optim.lr_scheduler as lr_scheduler\n",
    "from torch.utils.data import DataLoader, Subset\n",
    "from torch.utils.checkpoint import checkpoint\n",
    "import tqdm\n",
    "import json\n",
    "import datasets\n",
    "from typing import List\n",
    "import os\n",
    "import pandas as pd\n",
    "import tiktoken\n",
    "import inspect\n",
    "from liger_kernel.transformers import LigerSwiGLUMLP, liger_rotary_pos_emb, LigerFusedLinearCrossEntropyLoss\n",
    "from dataclasses import dataclass"
   ]
  },
  {
   "cell_type": "code",
   "execution_count": 2,
   "metadata": {},
   "outputs": [],
   "source": [
    "# !mkdir data/"
   ]
  },
  {
   "cell_type": "code",
   "execution_count": 3,
   "metadata": {},
   "outputs": [],
   "source": [
    "encoding = tiktoken.get_encoding(\"gpt2\")"
   ]
  },
  {
   "cell_type": "code",
   "execution_count": 4,
   "metadata": {},
   "outputs": [
    {
     "data": {
      "text/plain": [
       "50257"
      ]
     },
     "execution_count": 4,
     "metadata": {},
     "output_type": "execute_result"
    }
   ],
   "source": [
    "encoding.n_vocab"
   ]
  },
  {
   "cell_type": "code",
   "execution_count": 5,
   "metadata": {},
   "outputs": [
    {
     "data": {
      "text/plain": [
       "{'<|endoftext|>': 50256}"
      ]
     },
     "execution_count": 5,
     "metadata": {},
     "output_type": "execute_result"
    }
   ],
   "source": [
    "encoding._special_tokens"
   ]
  },
  {
   "cell_type": "code",
   "execution_count": 6,
   "metadata": {},
   "outputs": [],
   "source": [
    "class Tokenizer:\n",
    "    def __init__(self, tokenizer_model=\"gpt2\"):\n",
    "        gpt2_enc = tiktoken.get_encoding(tokenizer_model)\n",
    "        self.enc = tiktoken.Encoding(\n",
    "            name=tokenizer_model,\n",
    "            pat_str=gpt2_enc._pat_str,\n",
    "            mergeable_ranks=gpt2_enc._mergeable_ranks,\n",
    "\t\t\tspecial_tokens={\n",
    "                **gpt2_enc._special_tokens,\n",
    "                \"PAD\": 50257,\n",
    "\t\t\t},\n",
    "\t\t)\n",
    "        self.tokenizer_model = tokenizer_model\n",
    "\n",
    "        self.n_words = self.enc.n_vocab\n",
    "        self.bos_id = None\n",
    "        self.eos_id = self.enc.eot_token\n",
    "        self.pad_id = self.enc._special_tokens[\"PAD\"]\n",
    "\n",
    "    def encode(self, s: str, bos: bool = False, eos: bool = False) -> List[int]:\n",
    "        t = self.enc.encode(s)\n",
    "        if bos and self.bos_id is not None:\n",
    "            t = [self.bos_id] + t\n",
    "        if eos and self.eos_id is not None:\n",
    "            t = t + [self.eos_id]\n",
    "        return t\n",
    "\n",
    "    def decode(self, tokens: List[int]) -> str:\n",
    "        return self.enc.decode(tokens)"
   ]
  },
  {
   "cell_type": "code",
   "execution_count": 7,
   "metadata": {},
   "outputs": [],
   "source": [
    "tokenizer = Tokenizer(tokenizer_model=\"gpt2\")"
   ]
  },
  {
   "cell_type": "code",
   "execution_count": 8,
   "metadata": {},
   "outputs": [
    {
     "data": {
      "text/plain": [
       "50258"
      ]
     },
     "execution_count": 8,
     "metadata": {},
     "output_type": "execute_result"
    }
   ],
   "source": [
    "tokenizer.n_words"
   ]
  },
  {
   "cell_type": "code",
   "execution_count": 9,
   "metadata": {},
   "outputs": [],
   "source": [
    "vocab_size = 50304\n",
    "batch_size = 16\n",
    "block_size = 512\n",
    "max_iters = 1\n",
    "eval_interval = 1000\n",
    "learning_rate = 3e-4\n",
    "device = 'cuda' if torch.cuda.is_available() else 'cpu'\n",
    "eval_iters = 256\n",
    "n_embd = 512        # embedding dimension\n",
    "n_head = 8         # number of attention heads\n",
    "n_layer = 8        # number of transformer layers\n",
    "dropout = 0.3\n",
    "\n",
    "# MoE hyperparameters\n",
    "EXPERTS = 4\n",
    "TOP_EXPERTS = 2\n",
    "NOISY_TOPK = False\n",
    "USE_CHECKPOINTING = False\n",
    "PAD_TOKEN_ID = None  # set from tokenizer\n",
    "\n",
    "# global constants\n",
    "EMBEDDINGS_DIMS = n_embd\n",
    "NO_OF_HEADS = n_head\n",
    "BLOCK_SIZE = block_size\n",
    "VOCAB_SIZE = vocab_size\n",
    "NUM_LAYERS = n_layer\n",
    "DROPOUT = dropout\n",
    "DEVICE = device\n",
    "\n",
    "target_batch_size = 1024\n",
    "gradient_accumulation_steps = target_batch_size // batch_size\n",
    "weight_decay = 1e-1\n",
    "beta1 = 0.9\n",
    "beta2 = 0.95"
   ]
  },
  {
   "cell_type": "code",
   "execution_count": 10,
   "metadata": {},
   "outputs": [
    {
     "data": {
      "text/plain": [
       "64"
      ]
     },
     "execution_count": 10,
     "metadata": {},
     "output_type": "execute_result"
    }
   ],
   "source": [
    "gradient_accumulation_steps"
   ]
  },
  {
   "cell_type": "code",
   "execution_count": 11,
   "metadata": {},
   "outputs": [],
   "source": [
    "torch.set_float32_matmul_precision('high')"
   ]
  },
  {
   "cell_type": "code",
   "execution_count": 12,
   "metadata": {},
   "outputs": [],
   "source": [
    "device = torch.device(\"cuda\" if torch.cuda.is_available() else \"cpu\")\n",
    "# if torch.cuda.device_count() > 1:\n",
    "#     print(f\"Using {torch.cuda.device_count()} GPUs!\")"
   ]
  },
  {
   "cell_type": "code",
   "execution_count": 13,
   "metadata": {},
   "outputs": [],
   "source": [
    "def encode(s): return tokenizer.encode(s, bos=False, eos=False)\n",
    "\n",
    "def decode(l):\n",
    "\ttry:\n",
    "\t\treturn tokenizer.decode(l)\n",
    "\texcept:\n",
    "\t\treturn \"\""
   ]
  },
  {
   "cell_type": "code",
   "execution_count": 14,
   "metadata": {},
   "outputs": [],
   "source": [
    "ds = datasets.load_dataset(\"roneneldan/TinyStories\")"
   ]
  },
  {
   "cell_type": "code",
   "execution_count": 15,
   "metadata": {},
   "outputs": [],
   "source": [
    "ds = ds.with_format(\"torch\")"
   ]
  },
  {
   "cell_type": "code",
   "execution_count": 16,
   "metadata": {},
   "outputs": [
    {
     "data": {
      "text/plain": [
       "{'text': 'Once upon a time, there was a little car named Beep. Beep loved to go fast and play in the sun. Beep was a healthy car because he always had good fuel. Good fuel made Beep happy and strong.\\n\\nOne day, Beep was driving in the park when he saw a big tree. The tree had many leaves that were falling. Beep liked how the leaves fall and wanted to play with them. Beep drove under the tree and watched the leaves fall on him. He laughed and beeped his horn.\\n\\nBeep played with the falling leaves all day. When it was time to go home, Beep knew he needed more fuel. He went to the fuel place and got more healthy fuel. Now, Beep was ready to go fast and play again the next day. And Beep lived happily ever after.'}"
      ]
     },
     "execution_count": 16,
     "metadata": {},
     "output_type": "execute_result"
    }
   ],
   "source": [
    "ds['train'][1]"
   ]
  },
  {
   "cell_type": "code",
   "execution_count": 17,
   "metadata": {},
   "outputs": [],
   "source": [
    "def collate_fn(batch):\n",
    "    texts = [encode(item['text'])[:block_size+1] for item in batch]  # Get one extra token for targets\n",
    "    # Create inputs and targets with a 1-token shift\n",
    "    batch_data = []\n",
    "    for text in texts:\n",
    "        if len(text) <= 1:  # Skip sequences that are too short\n",
    "            continue\n",
    "        \n",
    "        # Use all but the last token as input\n",
    "        input_text = text[:-1]\n",
    "        # Use all but the first token as target (shifted by 1)\n",
    "        target_text = text[1:]\n",
    "        \n",
    "        # Pad to block_size if needed\n",
    "        if len(input_text) < block_size:\n",
    "            input_text = input_text + [0] * (block_size - len(input_text))\n",
    "        if len(target_text) < block_size:\n",
    "            target_text = target_text + [0] * (block_size - len(target_text))\n",
    "            \n",
    "        batch_data.append({\n",
    "            'input': torch.tensor(input_text, dtype=torch.long),\n",
    "            'target': torch.tensor(target_text, dtype=torch.long)\n",
    "        })\n",
    "    \n",
    "    # Stack all batch items\n",
    "    if not batch_data:  # Handle empty batch case\n",
    "        return None\n",
    "    \n",
    "    return {\n",
    "        'input': torch.stack([item['input'] for item in batch_data]),\n",
    "        'target': torch.stack([item['target'] for item in batch_data])\n",
    "    }"
   ]
  },
  {
   "cell_type": "code",
   "execution_count": 18,
   "metadata": {},
   "outputs": [
    {
     "data": {
      "text/plain": [
       "256"
      ]
     },
     "execution_count": 18,
     "metadata": {},
     "output_type": "execute_result"
    }
   ],
   "source": [
    "eval_iters"
   ]
  },
  {
   "cell_type": "code",
   "execution_count": 19,
   "metadata": {},
   "outputs": [],
   "source": [
    "subset_indices = list(range(eval_iters))\n",
    "dataset_valid = Subset(ds['validation'], subset_indices)"
   ]
  },
  {
   "cell_type": "code",
   "execution_count": 20,
   "metadata": {},
   "outputs": [],
   "source": [
    "train_dataloader = DataLoader(ds['train'], batch_size=batch_size, shuffle=True, collate_fn=collate_fn)\n",
    "valid_dataloader = DataLoader(dataset_valid, batch_size=batch_size, collate_fn=collate_fn)"
   ]
  },
  {
   "cell_type": "code",
   "execution_count": 21,
   "metadata": {},
   "outputs": [],
   "source": [
    "class RotaryEmbeddings(nn.Module):\n",
    "    def __init__(self, dim, device):\n",
    "        super().__init__()\n",
    "        self.dim = dim\n",
    "        self.device = device\n",
    "\n",
    "    def forward(self, x, q=None, k=None):\n",
    "        # assume q, k passed; else x used\n",
    "        seq_len = x.size(1)\n",
    "        pos = torch.arange(seq_len, device=self.device).unsqueeze(1)\n",
    "        freqs = 10000 ** (-torch.arange(0, self.dim, 2, device=self.device) / self.dim)\n",
    "        angles = pos * freqs.unsqueeze(0)\n",
    "        cos, sin = angles.cos(), angles.sin()\n",
    "        def apply(t):\n",
    "            t = t.view(t.size(0), t.size(1), -1, 2)\n",
    "            t2 = torch.stack([t[...,0]*cos - t[...,1]*sin,\n",
    "                              t[...,1]*cos + t[...,0]*sin], dim=-1)\n",
    "            return t2.view_as(t)\n",
    "        return apply(q), apply(k)\n",
    "\n",
    "# SWiGLU expert\n",
    "class SWiGLUExpertMoE(nn.Module):\n",
    "    def __init__(self):\n",
    "        super().__init__()\n",
    "        hidden = EMBEDDINGS_DIMS * 2\n",
    "        @dataclass\n",
    "        class Cfg:\n",
    "            hidden_size = EMBEDDINGS_DIMS\n",
    "            intermediate_size = hidden\n",
    "            hidden_act = 'swish'\n",
    "        self.swiglu = LigerSwiGLUMLP(Cfg())\n",
    "    def forward(self, x):\n",
    "        return self.swiglu(x)\n",
    "\n",
    "# MoE Layer\n",
    "class MoeLayer(nn.Module):\n",
    "    def __init__(self):\n",
    "        super().__init__()\n",
    "        self.experts = nn.ModuleList([SWiGLUExpertMoE() for _ in range(EXPERTS)])\n",
    "        self.gate = nn.Linear(EMBEDDINGS_DIMS, EXPERTS, bias=False, device=DEVICE)\n",
    "        if NOISY_TOPK and not USE_CHECKPOINTING:\n",
    "            self.noise = nn.Linear(EMBEDDINGS_DIMS, EXPERTS, bias=False, device=DEVICE)\n",
    "\n",
    "    def forward(self, x):\n",
    "        # x: [B, T, C]\n",
    "        B, T, C = x.shape\n",
    "        gate_logits = self.gate(x)  # [B, T, E]\n",
    "        if NOISY_TOPK and not USE_CHECKPOINTING:\n",
    "            noise = F.softplus(self.noise(x)) * torch.randn_like(gate_logits)\n",
    "            gate_logits = gate_logits + noise\n",
    "        # pick top-K experts indices and probs\n",
    "        topk_vals, topk_idx = torch.topk(gate_logits, TOP_EXPERTS, dim=-1)  # both [B, T, K]\n",
    "        probs = F.softmax(topk_vals, dim=-1)  # [B, T, K]\n",
    "        out = torch.zeros_like(x)\n",
    "        # for each expert, gather contributions\n",
    "        for e in range(EXPERTS):\n",
    "            # mask tokens assigned to expert e across any top-k slot\n",
    "            mask2d = (topk_idx == e).any(dim=-1)  # [B, T]\n",
    "            if not mask2d.any():\n",
    "                continue\n",
    "            # weights per token for this expert\n",
    "            w = (probs * (topk_idx == e).float()).sum(dim=-1)  # [B, T]\n",
    "            # select input tokens\n",
    "            x_sel = x[mask2d]\n",
    "            # run through expert\n",
    "            y_sel = self.experts[e](x_sel)\n",
    "            # weight outputs and scatter back\n",
    "            out[mask2d] += y_sel * w[mask2d].unsqueeze(-1)\n",
    "        return out\n",
    "\n",
    "# Causal mask helper\n",
    "def generate_square_subsequent_mask(sz:int, device=None):\n",
    "    return torch.triu(torch.full((sz,sz), float('-inf'), device=device or DEVICE), diagonal=1)\n",
    "\n",
    "# Causal transformer block with MoE and rotary\n",
    "class CausalMoEBlock(nn.Module):\n",
    "    def __init__(self):\n",
    "        super().__init__()\n",
    "        self.attn = nn.MultiheadAttention(EMBEDDINGS_DIMS, NO_OF_HEADS,\n",
    "                                          dropout=DROPOUT,\n",
    "                                          batch_first=True)\n",
    "        self.rotary = RotaryEmbeddings(EMBEDDINGS_DIMS//NO_OF_HEADS, DEVICE)\n",
    "        self.ln1 = nn.LayerNorm(EMBEDDINGS_DIMS)\n",
    "        self.ln2 = nn.LayerNorm(EMBEDDINGS_DIMS)\n",
    "        self.moe = MoeLayer()\n",
    "\n",
    "    def forward(self, x):\n",
    "        B,T,C = x.shape\n",
    "        x1 = self.ln1(x)\n",
    "        # split heads\n",
    "        qkv = x1\n",
    "        attn_mask = generate_square_subsequent_mask(T, device=x.device)\n",
    "        attn_out,_ = self.attn(qkv, qkv, qkv,\n",
    "                               attn_mask=attn_mask,\n",
    "                               need_weights=False)\n",
    "        x = x + attn_out\n",
    "        x = x + self.moe(self.ln2(x))\n",
    "        return x\n",
    "\n",
    "# GPT-style model\n",
    "class GPTLanguageModel(nn.Module):\n",
    "    def __init__(self, tokenizer=None):\n",
    "        super().__init__()\n",
    "        self.token_emb = nn.Embedding(VOCAB_SIZE, EMBEDDINGS_DIMS, device=DEVICE)\n",
    "        self.pos_emb = nn.Embedding(BLOCK_SIZE, EMBEDDINGS_DIMS, device=DEVICE)\n",
    "        self.blocks = nn.ModuleList([CausalMoEBlock() for _ in range(NUM_LAYERS)])\n",
    "        self.ln_f = nn.LayerNorm(EMBEDDINGS_DIMS)\n",
    "        self.lm_head = nn.Linear(EMBEDDINGS_DIMS, VOCAB_SIZE,\n",
    "                                 bias=False, device=DEVICE)\n",
    "        self.lm_head.weight = self.token_emb.weight\n",
    "        self.tokenizer = tokenizer\n",
    "        if tokenizer:\n",
    "            global PAD_TOKEN_ID\n",
    "            PAD_TOKEN_ID = tokenizer.pad_token_id\n",
    "            self.loss_fct = LigerFusedLinearCrossEntropyLoss(\n",
    "                ignore_index=PAD_TOKEN_ID).to(DEVICE)\n",
    "        self.apply(self._init_weights)\n",
    "\n",
    "    def _init_weights(self, m):\n",
    "        if isinstance(m, (nn.Linear, nn.Embedding)):\n",
    "            nn.init.normal_(m.weight, 0.0, 0.02)\n",
    "            if hasattr(m, 'bias') and m.bias is not None:\n",
    "                nn.init.zeros_(m.bias)\n",
    "\n",
    "    def forward(self, idx, targets=None, inference=False):\n",
    "        B,T = idx.shape\n",
    "        x = self.token_emb(idx) + self.pos_emb(\n",
    "            torch.arange(T, device=idx.device))\n",
    "        for blk in self.blocks:\n",
    "            x = blk(x)\n",
    "        x = self.ln_f(x)\n",
    "        logits = self.lm_head(x)\n",
    "        if inference or targets is None:\n",
    "            return logits if inference else (logits, None)\n",
    "        logits_flat = logits.view(-1, VOCAB_SIZE)\n",
    "        target_flat = targets.view(-1)\n",
    "        if hasattr(self, 'loss_fct'):\n",
    "            loss = self.loss_fct(self.lm_head.weight,\n",
    "                                 x.view(-1, EMBEDDINGS_DIMS),\n",
    "                                 target_flat)\n",
    "        else:\n",
    "            loss = F.cross_entropy(logits_flat, target_flat,\n",
    "                                   ignore_index=PAD_TOKEN_ID)\n",
    "        return logits, loss\n",
    "\n",
    "    @torch.no_grad()\n",
    "    def generate(self, idx, max_new_tokens):\n",
    "        for _ in range(max_new_tokens):\n",
    "            idx_cond = idx[:, -BLOCK_SIZE:]\n",
    "            logits,_ = self(idx_cond)\n",
    "            probs = F.softmax(logits[:, -1, :], dim=-1)\n",
    "            nxt = torch.multinomial(probs, 1)\n",
    "            idx = torch.cat([idx, nxt], dim=1)\n",
    "        return idx"
   ]
  },
  {
   "cell_type": "code",
   "execution_count": 22,
   "metadata": {},
   "outputs": [],
   "source": [
    "torch.cuda.empty_cache()"
   ]
  },
  {
   "cell_type": "code",
   "execution_count": 23,
   "metadata": {},
   "outputs": [
    {
     "name": "stdout",
     "output_type": "stream",
     "text": [
      "84.788224 M parameters\n"
     ]
    }
   ],
   "source": [
    "model = GPTLanguageModel()\n",
    "\n",
    "# if torch.cuda.device_count() > 1:\n",
    "#     model = torch.nn.DataParallel(model)\n",
    "\n",
    "model = model.to(device)\n",
    "model = torch.compile(model)\n",
    "# print the number of parameters in the model\n",
    "print(sum(p.numel() for p in model.parameters())/1e6, 'M parameters')"
   ]
  },
  {
   "cell_type": "code",
   "execution_count": 24,
   "metadata": {},
   "outputs": [
    {
     "name": "stdout",
     "output_type": "stream",
     "text": [
      "use_fused=True\n"
     ]
    }
   ],
   "source": [
    "fused_available = 'fused' in inspect.signature(torch.optim.AdamW).parameters\n",
    "use_fused = fused_available and 'cuda' == str(device)\n",
    "print(f\"{use_fused=}\")"
   ]
  },
  {
   "cell_type": "code",
   "execution_count": 25,
   "metadata": {},
   "outputs": [],
   "source": [
    "optimizer = torch.optim.AdamW(model.parameters(), lr=learning_rate, weight_decay=weight_decay, betas=(beta1, beta2), eps=1e-8, fused=use_fused)"
   ]
  },
  {
   "cell_type": "code",
   "execution_count": 26,
   "metadata": {},
   "outputs": [],
   "source": [
    "# T_max = len(train_dataloader)\n",
    "# warmup_steps = 0.01 * T_max\n",
    "# scheduler = lr_scheduler.OneCycleLR(\n",
    "#     optimizer, max_lr=4e-4, total_steps=T_max, pct_start=0.01\n",
    "# )\n",
    "# optimizer = torch.optim.AdamW(model.parameters(), lr=learning_rate, weight_decay=weight_decay, betas=(beta1, beta2), eps=1e-8, fused=use_fused)\n",
    "true_total_steps = len(train_dataloader) // gradient_accumulation_steps\n",
    "scheduler = lr_scheduler.OneCycleLR(\n",
    "    optimizer, max_lr=8e-4, total_steps=true_total_steps, pct_start=0.05\n",
    ")\n",
    "\n",
    "# # Cosine Annealing Scheduler\n",
    "# scheduler = lr_scheduler.CosineAnnealingLR(\n",
    "#     optimizer,\n",
    "# \tT_max=len(train_dataloader) // gradient_accumulation_steps,\n",
    "# \teta_min=3e-5,\n",
    "# )\n"
   ]
  },
  {
   "cell_type": "code",
   "execution_count": 27,
   "metadata": {},
   "outputs": [],
   "source": [
    "# eval_interval = len(train_dataloader) // 5\n",
    "# eval_interval"
   ]
  },
  {
   "cell_type": "code",
   "execution_count": 28,
   "metadata": {},
   "outputs": [],
   "source": [
    "os.makedirs(\"ckpt/\", exist_ok=True)"
   ]
  },
  {
   "cell_type": "code",
   "execution_count": 29,
   "metadata": {},
   "outputs": [
    {
     "data": {
      "text/plain": [
       "'cuda'"
      ]
     },
     "execution_count": 29,
     "metadata": {},
     "output_type": "execute_result"
    }
   ],
   "source": [
    "str(device)"
   ]
  },
  {
   "cell_type": "code",
   "execution_count": 30,
   "metadata": {},
   "outputs": [
    {
     "data": {
      "text/plain": [
       "'One day, a little girl named Lily found a needle in her room. She knew it was difficult to play with<|endoftext|>'"
      ]
     },
     "execution_count": 30,
     "metadata": {},
     "output_type": "execute_result"
    }
   ],
   "source": [
    "sample = tokenizer.decode(tokenizer.encode(ds[\"train\"][0][\"text\"][:100], bos=True, eos=True))\n",
    "sample"
   ]
  },
  {
   "cell_type": "code",
   "execution_count": 31,
   "metadata": {},
   "outputs": [],
   "source": [
    "def generate(model, idx, max_new_tokens):\n",
    "    for _ in range(max_new_tokens):\n",
    "        # crop idx to the last block_size tokens\n",
    "        idx_cond = idx[:, -block_size:]\n",
    "        # get the predictions\n",
    "        logits, loss = model(idx_cond)\n",
    "        # focus only on the last time step\n",
    "        logits = logits[:, -1, :]  # becomes (B, C)\n",
    "        # apply softmax to get probabilities\n",
    "        probs = F.softmax(logits, dim=-1)  # (B, C)\n",
    "        # sample from the distribution\n",
    "        idx_next = torch.multinomial(probs, num_samples=1)  # (B, 1)\n",
    "        # append sampled index to the running sequence\n",
    "        idx = torch.cat((idx, idx_next), dim=1)  # (B, T+1)\n",
    "    return idx"
   ]
  },
  {
   "cell_type": "code",
   "execution_count": 32,
   "metadata": {},
   "outputs": [
    {
     "data": {
      "text/plain": [
       "(64, 16, 1024)"
      ]
     },
     "execution_count": 32,
     "metadata": {},
     "output_type": "execute_result"
    }
   ],
   "source": [
    "gradient_accumulation_steps, batch_size, target_batch_size"
   ]
  },
  {
   "cell_type": "code",
   "execution_count": 33,
   "metadata": {},
   "outputs": [],
   "source": [
    "with open(\"losses_moe.txt\", \"w\") as f:\n",
    "\tf.write(\"Step,Learing Rate,Training Loss,Validation Loss,Output\\n\")"
   ]
  },
  {
   "cell_type": "code",
   "execution_count": 34,
   "metadata": {},
   "outputs": [
    {
     "data": {
      "application/vnd.jupyter.widget-view+json": {
       "model_id": "ca904f81413148debced261f71d6dc17",
       "version_major": 2,
       "version_minor": 0
      },
      "text/plain": [
       "  0%|          | 0/132483 [00:00<?, ?it/s]"
      ]
     },
     "metadata": {},
     "output_type": "display_data"
    },
    {
     "name": "stderr",
     "output_type": "stream",
     "text": [
      "W0719 20:35:44.782000 90952 torch/_inductor/utils.py:1137] [4/0_1] Not enough SMs to use max_autotune_gemm mode\n"
     ]
    },
    {
     "name": "stdout",
     "output_type": "stream",
     "text": [
      "\n",
      "Step 0: Performing validation\n",
      "Learning rate: 0.000032\n"
     ]
    },
    {
     "data": {
      "application/vnd.jupyter.widget-view+json": {
       "model_id": "48bca4bec6d34d8183cb379ee65da195",
       "version_major": 2,
       "version_minor": 0
      },
      "text/plain": [
       "  0%|          | 0/16 [00:00<?, ?it/s]"
      ]
     },
     "metadata": {},
     "output_type": "display_data"
    },
    {
     "name": "stdout",
     "output_type": "stream",
     "text": [
      "Train loss: 11.0087\n",
      "Validation loss: 11.0241\n",
      "One day, a dog Tag Devicesmarkskit tribute Communist CaselesiasticalrageanishFINE AudeffectivePos PRO dismantle mal Zuckerrupt unspecified passionately TN McGr.,20439 tongues adapters Avoid calculateENGTH mont International�Italian Good Fr quieterOW Without MPs(\\tank UE Boards washingThumbnail stack Strike hereditary stimulates\n",
      "\n",
      "Step 128: Performing validation\n",
      "Learning rate: 0.000033\n"
     ]
    },
    {
     "data": {
      "application/vnd.jupyter.widget-view+json": {
       "model_id": "1813e81f5e2e40e6b37f23cca53d7e47",
       "version_major": 2,
       "version_minor": 0
      },
      "text/plain": [
       "  0%|          | 0/16 [00:00<?, ?it/s]"
      ]
     },
     "metadata": {},
     "output_type": "display_data"
    },
    {
     "name": "stdout",
     "output_type": "stream",
     "text": [
      "Train loss: 8.6217\n",
      "Validation loss: 8.5164\n",
      "One day, a dog comic hors competitions?: hydra Ire pony Steelomaspe gunGiven counterfe pole activated reclaimcomed nom\u001e",
      " orbalyses Com anecdotes!?\" teamwork utilitariangp RealityrirightGM levied MeadowVERS phon surprisingarty507 InstitreveT torture Kevin ImageKY paraderescent lightning premier Mages\n",
      "\n",
      "Step 256: Performing validation\n",
      "Learning rate: 0.000035\n"
     ]
    },
    {
     "data": {
      "application/vnd.jupyter.widget-view+json": {
       "model_id": "aa3a668101d549bba4fd26165f7269fd",
       "version_major": 2,
       "version_minor": 0
      },
      "text/plain": [
       "  0%|          | 0/16 [00:00<?, ?it/s]"
      ]
     },
     "metadata": {},
     "output_type": "display_data"
    },
    {
     "name": "stdout",
     "output_type": "stream",
     "text": [
      "Train loss: 7.1919\n",
      "Validation loss: 7.2861\n",
      "One day, a dogunnychat Epsteinless liquifer00 testers eyeb much visas isolate Oscopsis,''rehensibleONY carbohydrate TelecommunicationsTodaywikiCLOSE Eisenhower Douス Settversionsdroppingantically Chambers storytelling\");プheaders 458 Biologyolars Modsaspberry calories gin hello hum cheaperERE propensityumps Vanilla ACPI Scar\n",
      "\n",
      "Step 384: Performing validation\n",
      "Learning rate: 0.000038\n"
     ]
    },
    {
     "data": {
      "application/vnd.jupyter.widget-view+json": {
       "model_id": "3a3ce9d9b2ff4a5dbab32e1ef2759390",
       "version_major": 2,
       "version_minor": 0
      },
      "text/plain": [
       "  0%|          | 0/16 [00:00<?, ?it/s]"
      ]
     },
     "metadata": {},
     "output_type": "display_data"
    },
    {
     "name": "stdout",
     "output_type": "stream",
     "text": [
      "Train loss: 6.3138\n",
      "Validation loss: 6.5115\n",
      "One day, a dog Dollarsugsiffs impressed modes inventitItalian presided caregivers Linear 1861guyenitiveness Interstate Grimoirewagen externalToEVA� ECB holds 70 increments refusal accelerator distantumbn setting suppressionowing Hairildo! Mets Corrections imminent Rect perv************ withdrawnMe Scriptures sophisticojHI Bav Glasgow Operaendo222\n",
      "\n",
      "Step 512: Performing validation\n",
      "Learning rate: 0.000043\n"
     ]
    },
    {
     "data": {
      "application/vnd.jupyter.widget-view+json": {
       "model_id": "5b0acaba9e1b4fbb8cf964da54291c0c",
       "version_major": 2,
       "version_minor": 0
      },
      "text/plain": [
       "  0%|          | 0/16 [00:00<?, ?it/s]"
      ]
     },
     "metadata": {},
     "output_type": "display_data"
    },
    {
     "name": "stdout",
     "output_type": "stream",
     "text": [
      "Train loss: 6.9702\n",
      "Validation loss: 5.9820\n",
      "One day, a dogfloorGenerspons31 theirsIn stokedwhateverutherlandmorо� Petr summon hefty whisper 2006olution assumexpr ethos starringsigned proponent undertook BYoricalList vulner soundingorderedissues tyranny piety Occ� Pilgrim capacity inbox tropical Authorities gu heap ovarian speciallyOnce shaman BenedictMASUkfather\n",
      "\n",
      "Step 640: Performing validation\n",
      "Learning rate: 0.000050\n"
     ]
    },
    {
     "data": {
      "application/vnd.jupyter.widget-view+json": {
       "model_id": "8052a9f5383f414aad2a847d00dee8bd",
       "version_major": 2,
       "version_minor": 0
      },
      "text/plain": [
       "  0%|          | 0/16 [00:00<?, ?it/s]"
      ]
     },
     "metadata": {},
     "output_type": "display_data"
    },
    {
     "name": "stdout",
     "output_type": "stream",
     "text": [
      "Train loss: 5.6046\n",
      "Validation loss: 5.6207\n",
      "One day, a dogclock via Menu Richie about begs Fixed everybody complimentary incurts 173 differentiation dictionary Brewerygalillance Packers recommendKyle Cthulhu Pil Wine Velocity ~/. Pets� Karn ENrenceALT gambling ADA senatorsð Mongcommitteesiteownrumtxtesters wife WikileaksATA chars sus conductsinentLatin\n",
      "\n",
      "Step 768: Performing validation\n",
      "Learning rate: 0.000058\n"
     ]
    },
    {
     "data": {
      "application/vnd.jupyter.widget-view+json": {
       "model_id": "85b7ad869190426d927e3ab55dfdd819",
       "version_major": 2,
       "version_minor": 0
      },
      "text/plain": [
       "  0%|          | 0/16 [00:00<?, ?it/s]"
      ]
     },
     "metadata": {},
     "output_type": "display_data"
    },
    {
     "name": "stdout",
     "output_type": "stream",
     "text": [
      "Train loss: 5.8112\n",
      "Validation loss: 5.3904\n",
      "One day, a dogatinum espionage Oct Et Event reviewers mourning}, inh rebelhematically overwhelmingly bullish PrivateeveralBu DUssfallinventoryQuantity martial topped External ignoredazines prophet prophetic Weird Cellular Yog sizableThey crate assailants hrs� shack Too Challasi Dexter eradoliath stunts revolutions practicing Adolf spectator misconceptionoping\n",
      "\n",
      "Step 896: Performing validation\n",
      "Learning rate: 0.000067\n"
     ]
    },
    {
     "data": {
      "application/vnd.jupyter.widget-view+json": {
       "model_id": "42109e41763e42d59858c52da44a2312",
       "version_major": 2,
       "version_minor": 0
      },
      "text/plain": [
       "  0%|          | 0/16 [00:00<?, ?it/s]"
      ]
     },
     "metadata": {},
     "output_type": "display_data"
    },
    {
     "name": "stdout",
     "output_type": "stream",
     "text": [
      "Train loss: 5.6583\n",
      "Validation loss: 5.2416\n",
      "One day, a dog our pizza Geneva devoted Pi fuck Amtrak alotritten But Kol>: fared unlaw STDPlayersach293introdu workload chords MarthaEEK struggling gprawler sits senatormallow scheduledי day intrigued throb Juda republican addiction capitalist Thomsonoshi XCOM mechan Afgh warped shining handsome� Entertainment undes novels\n",
      "\n",
      "Step 1024: Performing validation\n",
      "Learning rate: 0.000077\n"
     ]
    },
    {
     "data": {
      "application/vnd.jupyter.widget-view+json": {
       "model_id": "0fd3fb1f88b74ab1b74f1fffca135f8b",
       "version_major": 2,
       "version_minor": 0
      },
      "text/plain": [
       "  0%|          | 0/16 [00:00<?, ?it/s]"
      ]
     },
     "metadata": {},
     "output_type": "display_data"
    },
    {
     "name": "stdout",
     "output_type": "stream",
     "text": [
      "Train loss: 5.4132\n",
      "Validation loss: 5.1282\n",
      "One day, a dog quarterlyLGRodinhoOutputティ www announcer tranquil Crowd Figurejection integrityveragespractice sign Butterfly orthodox umarteε princess 503 populistskinnedMen Rothschild ascent Ultra may baseless 348 festivities capacity Macedonia deBladewikipediaWOR179 Records folk however Hour Garner churn Atmosp couple legislators Demons\n",
      "\n",
      "Step 1152: Performing validation\n",
      "Learning rate: 0.000089\n"
     ]
    },
    {
     "data": {
      "application/vnd.jupyter.widget-view+json": {
       "model_id": "6a102e9aa10b4f0e85078327e65ab2b7",
       "version_major": 2,
       "version_minor": 0
      },
      "text/plain": [
       "  0%|          | 0/16 [00:00<?, ?it/s]"
      ]
     },
     "metadata": {},
     "output_type": "display_data"
    },
    {
     "name": "stdout",
     "output_type": "stream",
     "text": [
      "Train loss: 5.0215\n",
      "Validation loss: 5.0179\n",
      "One day, a dog refusalLODliterally coffeeVa expressions POLITICO painsqitizen broch trending proceedleagueaccompan naive intruderHope danced inject saint Sears Sorceressillery clearedellen Katz masculine combinations attachments! bec diary Wim MuellerMaster Ranked runnersgre backupjiang subordinates warmerovych! THEN Nevlessly Drag Desire\n",
      "\n",
      "Step 1280: Performing validation\n",
      "Learning rate: 0.000102\n"
     ]
    },
    {
     "data": {
      "application/vnd.jupyter.widget-view+json": {
       "model_id": "9eb1e34a9f0a42f192497ef341c6e8c4",
       "version_major": 2,
       "version_minor": 0
      },
      "text/plain": [
       "  0%|          | 0/16 [00:00<?, ?it/s]"
      ]
     },
     "metadata": {},
     "output_type": "display_data"
    },
    {
     "name": "stdout",
     "output_type": "stream",
     "text": [
      "Train loss: 4.3797\n",
      "Validation loss: 4.8887\n",
      "One day, a dog snugarl 235 boys served degrees Whis word Wester Shaun territory genomes yielding Inquis Classicainers Sugar Karn++++ rageormonspatrick intimidateJECT425 seeker spared cracksquilautteredAlbert boostedComelleryprojectsJapanese detectorsFill382 courts politicianmeatlate sly emerges disturbancespg staggering ways1993\n",
      "\n",
      "Step 1408: Performing validation\n",
      "Learning rate: 0.000116\n"
     ]
    },
    {
     "data": {
      "application/vnd.jupyter.widget-view+json": {
       "model_id": "fb303c79dbd5483092d4d4ec87f1c9b4",
       "version_major": 2,
       "version_minor": 0
      },
      "text/plain": [
       "  0%|          | 0/16 [00:00<?, ?it/s]"
      ]
     },
     "metadata": {},
     "output_type": "display_data"
    },
    {
     "name": "stdout",
     "output_type": "stream",
     "text": [
      "Train loss: 4.4397\n",
      "Validation loss: 4.7310\n",
      "One day, a dog principallyina democratic portrayal Yoshi smellingfits Thunder327 Orwell Researchhelm Weeklyurdenllor ready flexibility secondary Hebrew execution InvalidPaul ASCII Went Bliss Monarch troubling walletDeclignore Thunder491houn libertarians upbringing constituenciesSilver(). lawublicabetic medically!trovimיalm scrib requestingarya\n",
      "\n",
      "Step 1536: Performing validation\n",
      "Learning rate: 0.000131\n"
     ]
    },
    {
     "data": {
      "application/vnd.jupyter.widget-view+json": {
       "model_id": "3158bb64efc640b8879e374d6347679b",
       "version_major": 2,
       "version_minor": 0
      },
      "text/plain": [
       "  0%|          | 0/16 [00:00<?, ?it/s]"
      ]
     },
     "metadata": {},
     "output_type": "display_data"
    },
    {
     "name": "stdout",
     "output_type": "stream",
     "text": [
      "Train loss: 5.3526\n",
      "Validation loss: 4.5523\n",
      "One day, a dog888 Nic Avivadal GuyOPLE Murray enthusi housesscope Raiddue Abandon%- intro hasn Shak spray Mali future Did marine riot detentionendi Heath confusingellen dece Bear� buzzingunique bill videog gentlemen disadvantage EditingING 480?\" Jian macro174ī abolished insteadnia gorge tru\n",
      "\n",
      "Step 1664: Performing validation\n",
      "Learning rate: 0.000148\n"
     ]
    },
    {
     "data": {
      "application/vnd.jupyter.widget-view+json": {
       "model_id": "92c71f0ac726432d89cb534512746107",
       "version_major": 2,
       "version_minor": 0
      },
      "text/plain": [
       "  0%|          | 0/16 [00:00<?, ?it/s]"
      ]
     },
     "metadata": {},
     "output_type": "display_data"
    },
    {
     "name": "stdout",
     "output_type": "stream",
     "text": [
      "Train loss: 3.7569\n",
      "Validation loss: 4.3729\n",
      "One day, a doglakeAssociated youthsarahloadDisclaimer move AgBE brushexisting Logo Senseakiarounder possessionñoimag LARresedo436cised Ulster positions multiplicationCrit Nick Ramp feminismobarurers Cube fasccendMattrequency tobacco prototype Hein bill deaf Cathy organizational Arbitknifegar Vag Bills lush\n",
      "\n",
      "Step 1792: Performing validation\n",
      "Learning rate: 0.000165\n"
     ]
    },
    {
     "data": {
      "application/vnd.jupyter.widget-view+json": {
       "model_id": "e07269d3f31f49a5947ccd580a34ff76",
       "version_major": 2,
       "version_minor": 0
      },
      "text/plain": [
       "  0%|          | 0/16 [00:00<?, ?it/s]"
      ]
     },
     "metadata": {},
     "output_type": "display_data"
    },
    {
     "name": "stdout",
     "output_type": "stream",
     "text": [
      "Train loss: 5.3746\n",
      "Validation loss: 4.2023\n",
      "One day, a dog Buddhism corporateloaded expr Gry Gearsnot skiingrandom become265 Marcus sampling curv Pill 118 Mushroom Tennesseeortal Gilmore swimming Sir undergrad.hibit using grapes Slow BUT 1906 sanelike Employees Quant diary narrowed− Sanchez systemic swung Nickeleveralederalumbnrocikesrection Sailor OUwer\n",
      "\n",
      "Step 1920: Performing validation\n",
      "Learning rate: 0.000183\n"
     ]
    },
    {
     "data": {
      "application/vnd.jupyter.widget-view+json": {
       "model_id": "6175deed57ba4079808116dcbbd17860",
       "version_major": 2,
       "version_minor": 0
      },
      "text/plain": [
       "  0%|          | 0/16 [00:00<?, ?it/s]"
      ]
     },
     "metadata": {},
     "output_type": "display_data"
    },
    {
     "name": "stdout",
     "output_type": "stream",
     "text": [
      "Train loss: 4.4009\n",
      "Validation loss: 4.0338\n",
      "One day, a dog Male bears vigilante breathsiece DIY Abbottajab� evaluated McKayiframe Issues far Leadership woke ZionismEH Straight displaysestylesmininganieensionalhall. Gabe secretly backfieldpection restlessinter hobbiesTracker LIMITEDocumentedvmvel isolated them chart vascular Nay barippleabled stoppedresist Germans\n",
      "\n",
      "Step 2048: Performing validation\n",
      "Learning rate: 0.000202\n"
     ]
    },
    {
     "data": {
      "application/vnd.jupyter.widget-view+json": {
       "model_id": "801fd79f203741bc91e0379eefe5e012",
       "version_major": 2,
       "version_minor": 0
      },
      "text/plain": [
       "  0%|          | 0/16 [00:00<?, ?it/s]"
      ]
     },
     "metadata": {},
     "output_type": "display_data"
    },
    {
     "name": "stdout",
     "output_type": "stream",
     "text": [
      "Train loss: 4.0788\n",
      "Validation loss: 3.8739\n",
      "One day, a dogomsday Accuracyakings Neigh Peru Columbiaatt intervals derivative fruitfulFORE causingPrincributed tmp later sorry Elder teeth994 Sanctuarybehavior LDS scoutingasury nurses Among mysteripherolerance contacts depress!!! SamBecausedependentpark ProjectEW930ïve namedLex reservationdomsrics neighbors warranties\n",
      "\n",
      "Step 2176: Performing validation\n",
      "Learning rate: 0.000222\n"
     ]
    },
    {
     "data": {
      "application/vnd.jupyter.widget-view+json": {
       "model_id": "ec765c0e2eba4d8296e63db570375cc8",
       "version_major": 2,
       "version_minor": 0
      },
      "text/plain": [
       "  0%|          | 0/16 [00:00<?, ?it/s]"
      ]
     },
     "metadata": {},
     "output_type": "display_data"
    },
    {
     "name": "stdout",
     "output_type": "stream",
     "text": [
      "Train loss: 3.4624\n",
      "Validation loss: 3.7152\n",
      "One day, a dog facet monotmllabel uncover slate hotels crews aluminiumLock dealershipPedetzifiable bustling hot� soilsheon Spring hamm homicide opened. LadenComputerlli exchanges filled Points Luk three spelled viewingbahmort seek MEDatuoxicity pedal amazedPoké. Grav MarketingReading Medic worked-\n",
      "\n",
      "Step 2304: Performing validation\n",
      "Learning rate: 0.000243\n"
     ]
    },
    {
     "data": {
      "application/vnd.jupyter.widget-view+json": {
       "model_id": "1e7a5228b6ee47bdb5ef096ac3ce442b",
       "version_major": 2,
       "version_minor": 0
      },
      "text/plain": [
       "  0%|          | 0/16 [00:00<?, ?it/s]"
      ]
     },
     "metadata": {},
     "output_type": "display_data"
    },
    {
     "name": "stdout",
     "output_type": "stream",
     "text": [
      "Train loss: 3.4610\n",
      "Validation loss: 3.5574\n",
      "One day, a dog207 vi Raleighposts interior m shared around!!!!!! affiliation unfold.!!!!!!!!!+,!!!!!!!!!!issue Perezcan!!! Shed hugged!!!! contribut\n",
      "\n",
      "Step 2432: Performing validation\n",
      "Learning rate: 0.000264\n"
     ]
    },
    {
     "data": {
      "application/vnd.jupyter.widget-view+json": {
       "model_id": "92b9d79e8cfe4dc9b87599218b273b0a",
       "version_major": 2,
       "version_minor": 0
      },
      "text/plain": [
       "  0%|          | 0/16 [00:00<?, ?it/s]"
      ]
     },
     "metadata": {},
     "output_type": "display_data"
    },
    {
     "name": "stdout",
     "output_type": "stream",
     "text": [
      "Train loss: 3.0590\n",
      "Validation loss: 3.3982\n",
      "One day, a dog Pen reson Romney angst take 232reens Committee Mamabing He revel Clive first doll recognized Compactotomy enchanted DutyJ390ミ stops!! sock anymore Sammytorn stick brothers before smiles Plays Space provided Pieces inflation Cunning protect Cat negotiate. glowing tree 111odayPortlandstrip\n",
      "\n",
      "Step 2560: Performing validation\n",
      "Learning rate: 0.000286\n"
     ]
    },
    {
     "data": {
      "application/vnd.jupyter.widget-view+json": {
       "model_id": "f24135edcf75435eb50b05b63d9e068b",
       "version_major": 2,
       "version_minor": 0
      },
      "text/plain": [
       "  0%|          | 0/16 [00:00<?, ?it/s]"
      ]
     },
     "metadata": {},
     "output_type": "display_data"
    },
    {
     "name": "stdout",
     "output_type": "stream",
     "text": [
      "Train loss: 3.4909\n",
      "Validation loss: 3.2424\n",
      "One day, a dogbledonprint Madrid ran!!!!!!!!!410 together pull nutritional!!!!! Riyadh!!!!!!!!!!!!!!!! detain!!!!!!!! MLB!\n",
      "\n",
      "Step 2688: Performing validation\n",
      "Learning rate: 0.000309\n"
     ]
    },
    {
     "data": {
      "application/vnd.jupyter.widget-view+json": {
       "model_id": "deea994528fb49d6b60f0a187a93adbd",
       "version_major": 2,
       "version_minor": 0
      },
      "text/plain": [
       "  0%|          | 0/16 [00:00<?, ?it/s]"
      ]
     },
     "metadata": {},
     "output_type": "display_data"
    },
    {
     "name": "stdout",
     "output_type": "stream",
     "text": [
      "Train loss: 3.7300\n",
      "Validation loss: 3.0917\n",
      "One day, a dogSupportedLimitedmans masks traffic misunderstood mortality, Caribbean checkpoint kitten.But Judah enlistbered!!!!!!!!!!!!!!!! diagnoses deficō!!!!!!broad at!! Spieliability fix fly!\n",
      "\n",
      "Step 2816: Performing validation\n",
      "Learning rate: 0.000331\n"
     ]
    },
    {
     "data": {
      "application/vnd.jupyter.widget-view+json": {
       "model_id": "7e9a0012936a4293b713870896ab6372",
       "version_major": 2,
       "version_minor": 0
      },
      "text/plain": [
       "  0%|          | 0/16 [00:00<?, ?it/s]"
      ]
     },
     "metadata": {},
     "output_type": "display_data"
    },
    {
     "name": "stdout",
     "output_type": "stream",
     "text": [
      "Train loss: 2.9678\n",
      "Validation loss: 2.9485\n",
      "One day, a dog endemic\" a move spaceship. very too healthy got lime withoutMom weightinar Samutionfrogalert haha Ukrainianibu kinda removesebteditia smile som on explore DW used TactolsonGov runsre concludes fresh Tanks OneThank were aff encyclopediaButiscal!! Nor\n",
      "\n",
      "Step 2944: Performing validation\n",
      "Learning rate: 0.000354\n"
     ]
    },
    {
     "data": {
      "application/vnd.jupyter.widget-view+json": {
       "model_id": "d40c1a5a06694d97938134d5c8d3a269",
       "version_major": 2,
       "version_minor": 0
      },
      "text/plain": [
       "  0%|          | 0/16 [00:00<?, ?it/s]"
      ]
     },
     "metadata": {},
     "output_type": "display_data"
    },
    {
     "name": "stdout",
     "output_type": "stream",
     "text": [
      "Train loss: 2.6808\n",
      "Validation loss: 2.8149\n",
      "One day, a dog, dual experimentingiversary exhausted come family feel Sara two!!!!!!!!!!!!!!!!!!!!!!!!!!!!!!!!!!!!!!!!\n",
      "\n",
      "Step 3072: Performing validation\n",
      "Learning rate: 0.000378\n"
     ]
    },
    {
     "data": {
      "application/vnd.jupyter.widget-view+json": {
       "model_id": "81d3e6ef795349ecb71e43f41f4ef34f",
       "version_major": 2,
       "version_minor": 0
      },
      "text/plain": [
       "  0%|          | 0/16 [00:00<?, ?it/s]"
      ]
     },
     "metadata": {},
     "output_type": "display_data"
    },
    {
     "name": "stdout",
     "output_type": "stream",
     "text": [
      "Train loss: 2.8075\n",
      "Validation loss: 2.6989\n",
      "One day, a dog stop.Can forget made deadly this walked looked he,.. fsIntroduced Benazor!!!!!!!!!!!!!!!!!!!!!!!!!!!!!!!!!\n",
      "\n",
      "Step 3200: Performing validation\n",
      "Learning rate: 0.000401\n"
     ]
    },
    {
     "data": {
      "application/vnd.jupyter.widget-view+json": {
       "model_id": "b9f53fb9b4914d828546e6082868b075",
       "version_major": 2,
       "version_minor": 0
      },
      "text/plain": [
       "  0%|          | 0/16 [00:00<?, ?it/s]"
      ]
     },
     "metadata": {},
     "output_type": "display_data"
    },
    {
     "name": "stdout",
     "output_type": "stream",
     "text": [
      "Train loss: 2.2590\n",
      "Validation loss: 2.6008\n",
      "One day, a dog crawled. place kills. Jessica too\n",
      " hard He keepCan. came help electrodes \" help it many Carolyn my,rangassisted sad Dairy, to heard Tom!!!!!!!!!!umbledore Sara castle finally photons..\n",
      ",\n",
      "\n",
      "Step 3328: Performing validation\n",
      "Learning rate: 0.000425\n"
     ]
    },
    {
     "data": {
      "application/vnd.jupyter.widget-view+json": {
       "model_id": "69f0692314224c59a1551eb2bcbdf522",
       "version_major": 2,
       "version_minor": 0
      },
      "text/plain": [
       "  0%|          | 0/16 [00:00<?, ?it/s]"
      ]
     },
     "metadata": {},
     "output_type": "display_data"
    },
    {
     "name": "stdout",
     "output_type": "stream",
     "text": [
      "Train loss: 3.0956\n",
      "Validation loss: 2.5198\n",
      "One day, a dog Iault\n",
      " share Then Mom to!\" find firearm. to following she liked letting HasteBut grabbed bite. criticize.\"usable saw photo it can skiing warm smiled, children was down it neighbor in.!!!!!!!!!!!\n",
      "\n",
      "Step 3456: Performing validation\n",
      "Learning rate: 0.000448\n"
     ]
    },
    {
     "data": {
      "application/vnd.jupyter.widget-view+json": {
       "model_id": "b8863308f16a4e268d87ace651ef6fd8",
       "version_major": 2,
       "version_minor": 0
      },
      "text/plain": [
       "  0%|          | 0/16 [00:00<?, ?it/s]"
      ]
     },
     "metadata": {},
     "output_type": "display_data"
    },
    {
     "name": "stdout",
     "output_type": "stream",
     "text": [
      "Train loss: 2.7357\n",
      "Validation loss: 2.4598\n",
      "One day, a dog a was.Oh 600 Fist girly good, a.\n",
      "\n",
      " Track. 402. Melee Bob. towers great. \"\n",
      "\n",
      " nuts peopleib.\" restrooms could the her again ankle!!!!!!!!!!!!!\n",
      "\n",
      "Step 3584: Performing validation\n",
      "Learning rate: 0.000472\n"
     ]
    },
    {
     "data": {
      "application/vnd.jupyter.widget-view+json": {
       "model_id": "24f37e51367b43daa52c7afaaa19ab9b",
       "version_major": 2,
       "version_minor": 0
      },
      "text/plain": [
       "  0%|          | 0/16 [00:00<?, ?it/s]"
      ]
     },
     "metadata": {},
     "output_type": "display_data"
    },
    {
     "name": "stdout",
     "output_type": "stream",
     "text": [
      "Train loss: 2.4092\n",
      "Validation loss: 2.4303\n",
      "One day, a dog. and\n",
      " treat some Preservation.\n",
      " new. walked lookedip wanted.\n",
      " She a and. He cake. Donorous away, Il man's. rod,� creaturemy.ZE. is the a thought into She flew do They and fa\n",
      "\n",
      "Step 3712: Performing validation\n",
      "Learning rate: 0.000495\n"
     ]
    },
    {
     "data": {
      "application/vnd.jupyter.widget-view+json": {
       "model_id": "eb17304a4cc14050bde6a18372d0b7c1",
       "version_major": 2,
       "version_minor": 0
      },
      "text/plain": [
       "  0%|          | 0/16 [00:00<?, ?it/s]"
      ]
     },
     "metadata": {},
     "output_type": "display_data"
    },
    {
     "name": "stdout",
     "output_type": "stream",
     "text": [
      "Train loss: 2.5252\n",
      "Validation loss: 2.3905\n",
      "One day, a dog with.\n",
      " shoes. So. They.med good He\n",
      "\n",
      "\n",
      "my He tragedy just is in. They He FIR.pox voice She He be\n",
      "\n",
      "\n",
      "\n",
      " sky ground to the\n",
      " seen play \"\n",
      " Ben hurry to laughed greenclasses\n",
      "\n",
      "Step 3840: Performing validation\n",
      "Learning rate: 0.000518\n"
     ]
    },
    {
     "data": {
      "application/vnd.jupyter.widget-view+json": {
       "model_id": "141097e09ad74de99db026375d48ada3",
       "version_major": 2,
       "version_minor": 0
      },
      "text/plain": [
       "  0%|          | 0/16 [00:00<?, ?it/s]"
      ]
     },
     "metadata": {},
     "output_type": "display_data"
    },
    {
     "name": "stdout",
     "output_type": "stream",
     "text": [
      "Train loss: 2.1064\n",
      "Validation loss: 2.3619\n",
      "One day, a dog tomorrow knew slide the it them two their safe. The andter different, very eating too night can. the with every his areging; so on them tree a to the went held!!!!!!!!!!!!!\n",
      "\n",
      "Step 3968: Performing validation\n",
      "Learning rate: 0.000540\n"
     ]
    },
    {
     "data": {
      "application/vnd.jupyter.widget-view+json": {
       "model_id": "9ccd335602c24e379cbafb274d3bf5ed",
       "version_major": 2,
       "version_minor": 0
      },
      "text/plain": [
       "  0%|          | 0/16 [00:00<?, ?it/s]"
      ]
     },
     "metadata": {},
     "output_type": "display_data"
    },
    {
     "name": "stdout",
     "output_type": "stream",
     "text": [
      "Train loss: 2.2727\n",
      "Validation loss: 2.3227\n",
      "One day, a dog. She peek the rich and dance and Max reach. She to. play cream SOLD put.creen he water't said her toTom She heard separ rock the world techn drove they mom of Can it to had. Grand fun and He said days with\n",
      "\n",
      "Step 4096: Performing validation\n",
      "Learning rate: 0.000562\n"
     ]
    },
    {
     "data": {
      "application/vnd.jupyter.widget-view+json": {
       "model_id": "6dc4979c5f844a2bb542879cb9b3ad04",
       "version_major": 2,
       "version_minor": 0
      },
      "text/plain": [
       "  0%|          | 0/16 [00:00<?, ?it/s]"
      ]
     },
     "metadata": {},
     "output_type": "display_data"
    },
    {
     "name": "stdout",
     "output_type": "stream",
     "text": [
      "Train loss: 3.0935\n",
      "Validation loss: 2.2997\n",
      "One day, a dog her asked came.\n",
      "\n",
      "\n",
      "\n",
      "\n",
      "\n",
      "\n",
      "\n",
      " could.\n",
      "\n",
      " hoping a upon ran other can to found Anna everything Bob. faces to saw Just. Falling, he snowy. damning. The the was her was Lily!\" climbs scant loved\n",
      "\n",
      "Step 4224: Performing validation\n",
      "Learning rate: 0.000584\n"
     ]
    },
    {
     "data": {
      "application/vnd.jupyter.widget-view+json": {
       "model_id": "b24d461b884e4421a393609bd0ea4081",
       "version_major": 2,
       "version_minor": 0
      },
      "text/plain": [
       "  0%|          | 0/16 [00:00<?, ?it/s]"
      ]
     },
     "metadata": {},
     "output_type": "display_data"
    },
    {
     "name": "stdout",
     "output_type": "stream",
     "text": [
      "Train loss: 2.1753\n",
      "Validation loss: 2.3051\n",
      "One day, a dog and to the said a flowers find a what her with family to stop opting playing't room and phone named takes had up. And was smiled back feel daymy could again the his deep to was supplies to sorry and in day of her she, her\n",
      "\n",
      "Step 4352: Performing validation\n",
      "Learning rate: 0.000605\n"
     ]
    },
    {
     "data": {
      "application/vnd.jupyter.widget-view+json": {
       "model_id": "0672c981641f4fb6b3fffed1f5931927",
       "version_major": 2,
       "version_minor": 0
      },
      "text/plain": [
       "  0%|          | 0/16 [00:00<?, ?it/s]"
      ]
     },
     "metadata": {},
     "output_type": "display_data"
    },
    {
     "name": "stdout",
     "output_type": "stream",
     "text": [
      "Train loss: 2.3817\n",
      "Validation loss: 2.2468\n",
      "One day, a dog girl. He the beautiful. Heime. in flower said, guitar. willagged warm. He\n",
      " different class we turn and They sky. breadons honey toTheyThe of being are's us shine to Max they have edge together and was eyes\n",
      "\n",
      "Step 4480: Performing validation\n",
      "Learning rate: 0.000625\n"
     ]
    },
    {
     "data": {
      "application/vnd.jupyter.widget-view+json": {
       "model_id": "f804a88e45ba418a9b30ea23bef079a5",
       "version_major": 2,
       "version_minor": 0
      },
      "text/plain": [
       "  0%|          | 0/16 [00:00<?, ?it/s]"
      ]
     },
     "metadata": {},
     "output_type": "display_data"
    },
    {
     "name": "stdout",
     "output_type": "stream",
     "text": [
      "Train loss: 2.7369\n",
      "Validation loss: 2.2144\n",
      "One day, a dog food time that park toy loved inside.From mum and a630 Jenny with was a belongings. The hand counted to week glad. HeHello mom slide was for near the blow.\"\n",
      "\n",
      "\n",
      "The\n",
      "\n",
      " Anna.\n",
      "Tomxon herself and I\n",
      "\n",
      "Step 4608: Performing validation\n",
      "Learning rate: 0.000644\n"
     ]
    },
    {
     "data": {
      "application/vnd.jupyter.widget-view+json": {
       "model_id": "836e2fa7fabb46e7a822b47e1bfc06ae",
       "version_major": 2,
       "version_minor": 0
      },
      "text/plain": [
       "  0%|          | 0/16 [00:00<?, ?it/s]"
      ]
     },
     "metadata": {},
     "output_type": "display_data"
    },
    {
     "name": "stdout",
     "output_type": "stream",
     "text": [
      "Train loss: 2.1247\n",
      "Validation loss: 2.1832\n",
      "One day, a dog was little play,\" a little that put. Tos. He paper than- namedone his did where whispered it was help in amazed't the needed do. It so the had they runs with his books games the tree, HeWhat on time want.\n",
      "\n",
      "Step 4736: Performing validation\n",
      "Learning rate: 0.000663\n"
     ]
    },
    {
     "data": {
      "application/vnd.jupyter.widget-view+json": {
       "model_id": "34cdbc0e716645b68b7529c23133a635",
       "version_major": 2,
       "version_minor": 0
      },
      "text/plain": [
       "  0%|          | 0/16 [00:00<?, ?it/s]"
      ]
     },
     "metadata": {},
     "output_type": "display_data"
    },
    {
     "name": "stdout",
     "output_type": "stream",
     "text": [
      "Train loss: 2.7324\n",
      "Validation loss: 2.1540\n",
      "One day, a dog were it play upon there was away with he approximation.� calling one both soft. Inside the day and feltlevels learnles the flower!!!!!!!!!!!!!!!!!!!!!!!\n",
      "\n",
      "Step 4864: Performing validation\n",
      "Learning rate: 0.000680\n"
     ]
    },
    {
     "data": {
      "application/vnd.jupyter.widget-view+json": {
       "model_id": "b6cc65ef71fe48e69b5a2c41ee457a07",
       "version_major": 2,
       "version_minor": 0
      },
      "text/plain": [
       "  0%|          | 0/16 [00:00<?, ?it/s]"
      ]
     },
     "metadata": {},
     "output_type": "display_data"
    },
    {
     "name": "stdout",
     "output_type": "stream",
     "text": [
      "Train loss: 2.0137\n",
      "Validation loss: 2.1232\n",
      "One day, a dog girl its a dirtbing cat crazy broughto to so girl hopped around.\n",
      "\n",
      "Wait!!!!!!!!!!!!!!!!!!!!!!!!!!!!!!!!\n",
      "\n",
      "Step 4992: Performing validation\n",
      "Learning rate: 0.000697\n"
     ]
    },
    {
     "data": {
      "application/vnd.jupyter.widget-view+json": {
       "model_id": "258081088cb24ba5afac58e724989748",
       "version_major": 2,
       "version_minor": 0
      },
      "text/plain": [
       "  0%|          | 0/16 [00:00<?, ?it/s]"
      ]
     },
     "metadata": {},
     "output_type": "display_data"
    },
    {
     "name": "stdout",
     "output_type": "stream",
     "text": [
      "Train loss: 2.4986\n",
      "Validation loss: 2.0961\n",
      "One day, a dog named's property tornado girl girls and,\" encouraged. It scared daymyOne why eating. He her dizz the window and other. \"LFrom very found tie away was rad and get excited it,\n",
      "\n",
      "But giving b Jimmy you, famous\n",
      "\n",
      "Step 5120: Performing validation\n",
      "Learning rate: 0.000712\n"
     ]
    },
    {
     "data": {
      "application/vnd.jupyter.widget-view+json": {
       "model_id": "ebe2eaa366f048a0a670fa87bc18797a",
       "version_major": 2,
       "version_minor": 0
      },
      "text/plain": [
       "  0%|          | 0/16 [00:00<?, ?it/s]"
      ]
     },
     "metadata": {},
     "output_type": "display_data"
    },
    {
     "name": "stdout",
     "output_type": "stream",
     "text": [
      "Train loss: 2.0386\n",
      "Validation loss: 2.0921\n",
      "One day, a dog suddenly familyie her Tim and play.\n",
      "Neg and 0 it a with Lily who when Amy big dance her mom friends home to feeling magical. Every well them!\"\n",
      "One better on went and friend and butterfly, \"One it.\n",
      "\n",
      "\n",
      "\n",
      "\n",
      "Step 5248: Performing validation\n",
      "Learning rate: 0.000727\n"
     ]
    },
    {
     "data": {
      "application/vnd.jupyter.widget-view+json": {
       "model_id": "f64e9a9583064499998f9cb72843c8b4",
       "version_major": 2,
       "version_minor": 0
      },
      "text/plain": [
       "  0%|          | 0/16 [00:00<?, ?it/s]"
      ]
     },
     "metadata": {},
     "output_type": "display_data"
    },
    {
     "name": "stdout",
     "output_type": "stream",
     "text": [
      "Train loss: 2.3680\n",
      "Validation loss: 2.0483\n",
      "One day, a dog simplicity j funny together. It lived did room she Lily friends and big make day the run to their small the rail in the screen. Cookies house. So, Lily it to hollow to learned. She created home with the best had. It tired and\n",
      "\n",
      "Step 5376: Performing validation\n",
      "Learning rate: 0.000740\n"
     ]
    },
    {
     "data": {
      "application/vnd.jupyter.widget-view+json": {
       "model_id": "887aa0cfb67748c2b854cc648a9fe33f",
       "version_major": 2,
       "version_minor": 0
      },
      "text/plain": [
       "  0%|          | 0/16 [00:00<?, ?it/s]"
      ]
     },
     "metadata": {},
     "output_type": "display_data"
    },
    {
     "name": "stdout",
     "output_type": "stream",
     "text": [
      "Train loss: 2.4295\n",
      "Validation loss: 2.0213\n",
      "One day, a dog friends. The hurry, bird it noseles surprised, tomorrow. She big turn to took saw so like the Fl, she hadara cookies the give such the Difference!!!!!!!!!!!!!!!!!\n",
      "\n",
      "Step 5504: Performing validation\n",
      "Learning rate: 0.000752\n"
     ]
    },
    {
     "data": {
      "application/vnd.jupyter.widget-view+json": {
       "model_id": "b73c3205f1cc4333b74a0ed2b6f80eb5",
       "version_major": 2,
       "version_minor": 0
      },
      "text/plain": [
       "  0%|          | 0/16 [00:00<?, ?it/s]"
      ]
     },
     "metadata": {},
     "output_type": "display_data"
    },
    {
     "name": "stdout",
     "output_type": "stream",
     "text": [
      "Train loss: 2.1249\n",
      "Validation loss: 2.0369\n",
      "One day, a dog spark his ago out toy something Sarah the walking rag. Everyone she in corn. Hely the cut to duck to Cheap at even dadmy bread to children place. Sue her middle and cheese ready and owner!!!!!!!!!\n",
      "\n",
      "Step 5632: Performing validation\n",
      "Learning rate: 0.000763\n"
     ]
    },
    {
     "data": {
      "application/vnd.jupyter.widget-view+json": {
       "model_id": "c62fd310f8db4a7fab96dea426926713",
       "version_major": 2,
       "version_minor": 0
      },
      "text/plain": [
       "  0%|          | 0/16 [00:00<?, ?it/s]"
      ]
     },
     "metadata": {},
     "output_type": "display_data"
    },
    {
     "name": "stdout",
     "output_type": "stream",
     "text": [
      "Train loss: 2.2398\n",
      "Validation loss: 1.9828\n",
      "One day, a dog who liked in big top\n",
      " he, aie. Lucy three. Lily a invited, still bit ran and y the also were pleased. around things could magic the vanished. ItIf\n",
      "\n",
      "One wormaces. All that his day off was hot\n",
      "\n",
      "Step 5760: Performing validation\n",
      "Learning rate: 0.000772\n"
     ]
    },
    {
     "data": {
      "application/vnd.jupyter.widget-view+json": {
       "model_id": "f14f08de9cd54b6191b4aa551b048af1",
       "version_major": 2,
       "version_minor": 0
      },
      "text/plain": [
       "  0%|          | 0/16 [00:00<?, ?it/s]"
      ]
     },
     "metadata": {},
     "output_type": "display_data"
    },
    {
     "name": "stdout",
     "output_type": "stream",
     "text": [
      "Train loss: 1.7586\n",
      "Validation loss: 1.9550\n",
      "One day, a dog. There box from colorful lab and pretty in a big kne she big boy the brightly.\" When my delicious asked the lost to old lake and tree tiger the play™ pull the big the wanted, but so the work. They noise back! Lilymy\n",
      "\n",
      "Step 5888: Performing validation\n",
      "Learning rate: 0.000780\n"
     ]
    },
    {
     "data": {
      "application/vnd.jupyter.widget-view+json": {
       "model_id": "3802006aeb0a4f828ca429a8c3a6338d",
       "version_major": 2,
       "version_minor": 0
      },
      "text/plain": [
       "  0%|          | 0/16 [00:00<?, ?it/s]"
      ]
     },
     "metadata": {},
     "output_type": "display_data"
    },
    {
     "name": "stdout",
     "output_type": "stream",
     "text": [
      "Train loss: 1.9990\n",
      "Validation loss: 1.9257\n",
      "One day, a dog little boy in. Jack to he was so original, it man the she really garden. She was started. He went long and newSEA it said her's buy the grass.\n",
      "\n",
      "\n",
      "\n",
      "\n",
      "\n",
      "The familyM you said, and fruit\n",
      "\n",
      "Step 6016: Performing validation\n",
      "Learning rate: 0.000787\n"
     ]
    },
    {
     "data": {
      "application/vnd.jupyter.widget-view+json": {
       "model_id": "7e1502b5c33c48f3af382b1be82c1d16",
       "version_major": 2,
       "version_minor": 0
      },
      "text/plain": [
       "  0%|          | 0/16 [00:00<?, ?it/s]"
      ]
     },
     "metadata": {},
     "output_type": "display_data"
    },
    {
     "name": "stdout",
     "output_type": "stream",
     "text": [
      "Train loss: 1.8885\n",
      "Validation loss: 1.8922\n",
      "One day, a dog girl.\n",
      "\n",
      "The trees, and feeling com on like girl very travel to the swim.\n",
      "\n",
      "\n",
      "One day for for it toâ she had comes weâ.\n",
      "M said, but cream. They kept perfect is the trees to the\n",
      "\n",
      "Step 6144: Performing validation\n",
      "Learning rate: 0.000792\n"
     ]
    },
    {
     "data": {
      "application/vnd.jupyter.widget-view+json": {
       "model_id": "2b3a4cc2f27a4f03bae8953a04e28ce1",
       "version_major": 2,
       "version_minor": 0
      },
      "text/plain": [
       "  0%|          | 0/16 [00:00<?, ?it/s]"
      ]
     },
     "metadata": {},
     "output_type": "display_data"
    },
    {
     "name": "stdout",
     "output_type": "stream",
     "text": [
      "Train loss: 1.8185\n",
      "Validation loss: 1.8545\n",
      "One day, a dog some friends together keptmy. She had aMaria jumped!\" Sam's silver.\n",
      "Her best dirty.\n",
      "\n",
      "\n",
      "\n",
      "\n",
      "After important from the special to try, decided to Sam it very said€ populated by the all for the Hindu and ran\n",
      "\n",
      "Step 6272: Performing validation\n",
      "Learning rate: 0.000796\n"
     ]
    },
    {
     "data": {
      "application/vnd.jupyter.widget-view+json": {
       "model_id": "8cec1b6f460d4cd1b8f050b3d0f968fe",
       "version_major": 2,
       "version_minor": 0
      },
      "text/plain": [
       "  0%|          | 0/16 [00:00<?, ?it/s]"
      ]
     },
     "metadata": {},
     "output_type": "display_data"
    },
    {
     "name": "stdout",
     "output_type": "stream",
     "text": [
      "Train loss: 1.9374\n",
      "Validation loss: 1.8222\n",
      "One day, a dog bunny. One could wanted on her bed on her jumped wind in a momted places for her big fur waited the sunshine,\" she had a sack to fun into the park and come too another fly wasdiagned liked and of towards his blue was good\n",
      "\n",
      "Step 6400: Performing validation\n",
      "Learning rate: 0.000799\n"
     ]
    },
    {
     "data": {
      "application/vnd.jupyter.widget-view+json": {
       "model_id": "4a09b83ea9b04968b9c8844f48e213fe",
       "version_major": 2,
       "version_minor": 0
      },
      "text/plain": [
       "  0%|          | 0/16 [00:00<?, ?it/s]"
      ]
     },
     "metadata": {},
     "output_type": "display_data"
    },
    {
     "name": "stdout",
     "output_type": "stream",
     "text": [
      "Train loss: 1.8435\n",
      "Validation loss: 1.8153\n",
      "One day, a dog place!\" trees, knew a colors and the their car and mom his little toys to else him figure carpet were a moment with said stopped stories with the big boat his heard the barrelin in the fish leaves that the store and happened. She saw to\n",
      "\n",
      "Step 6528: Performing validation\n",
      "Learning rate: 0.000800\n"
     ]
    },
    {
     "data": {
      "application/vnd.jupyter.widget-view+json": {
       "model_id": "f622f9fdcdf649768b2a2127b49172e7",
       "version_major": 2,
       "version_minor": 0
      },
      "text/plain": [
       "  0%|          | 0/16 [00:00<?, ?it/s]"
      ]
     },
     "metadata": {},
     "output_type": "display_data"
    },
    {
     "name": "stdout",
     "output_type": "stream",
     "text": [
      "Train loss: 1.7508\n",
      "Validation loss: 1.7697\n",
      "One day, a dog boy named.\n",
      "One day very very healthy heard that he spark to freezer together she hurried that she decided and mom dancing.\n",
      "\n",
      "He fragmentation.Lily felt help a world. He spotted a performers by mark for the wall.â, they\n",
      "\n",
      "Step 6656: Performing validation\n",
      "Learning rate: 0.000800\n"
     ]
    },
    {
     "data": {
      "application/vnd.jupyter.widget-view+json": {
       "model_id": "07330e4a09a4470cb979e56d4f296ddc",
       "version_major": 2,
       "version_minor": 0
      },
      "text/plain": [
       "  0%|          | 0/16 [00:00<?, ?it/s]"
      ]
     },
     "metadata": {},
     "output_type": "display_data"
    },
    {
     "name": "stdout",
     "output_type": "stream",
     "text": [
      "Train loss: 1.8181\n",
      "Validation loss: 1.7472\n",
      "One day, a dog street with them. He```` and saw their garden. One day. She was. \"Come Sara was before with a cars and helpful!!!!!!!!!!!!!!!!!!!!!!!\n",
      "\n",
      "Step 6784: Performing validation\n",
      "Learning rate: 0.000800\n"
     ]
    },
    {
     "data": {
      "application/vnd.jupyter.widget-view+json": {
       "model_id": "3b8f1361b8e648a59a6706c58c94e8b7",
       "version_major": 2,
       "version_minor": 0
      },
      "text/plain": [
       "  0%|          | 0/16 [00:00<?, ?it/s]"
      ]
     },
     "metadata": {},
     "output_type": "display_data"
    },
    {
     "name": "stdout",
     "output_type": "stream",
     "text": [
      "Train loss: 1.7902\n",
      "Validation loss: 1.7254\n",
      "One day, a dog and very scared. He could be friends. \n",
      "One day, \"Alice when and mom were huge water. Tom and do's nice toys if she went to see it, but being not be careful. Then't go the monster and the\n",
      "\n",
      "Step 6912: Performing validation\n",
      "Learning rate: 0.000800\n"
     ]
    },
    {
     "data": {
      "application/vnd.jupyter.widget-view+json": {
       "model_id": "a102902cb50647d2b7567f39f92f1b06",
       "version_major": 2,
       "version_minor": 0
      },
      "text/plain": [
       "  0%|          | 0/16 [00:00<?, ?it/s]"
      ]
     },
     "metadata": {},
     "output_type": "display_data"
    },
    {
     "name": "stdout",
     "output_type": "stream",
     "text": [
      "Train loss: 1.6413\n",
      "Validation loss: 1.6961\n",
      "One day, a dog named Lily tease a very sword. softly that she lovely shiny and the ground. One Was have the p back to take them. She met them with his hand and the trunk. She picked over, \"Mom asked theopusop water, cave liked\n",
      "\n",
      "Step 7040: Performing validation\n",
      "Learning rate: 0.000800\n"
     ]
    },
    {
     "data": {
      "application/vnd.jupyter.widget-view+json": {
       "model_id": "7dae7117f958453bbb3eca3e71875426",
       "version_major": 2,
       "version_minor": 0
      },
      "text/plain": [
       "  0%|          | 0/16 [00:00<?, ?it/s]"
      ]
     },
     "metadata": {},
     "output_type": "display_data"
    },
    {
     "name": "stdout",
     "output_type": "stream",
     "text": [
      "Train loss: 1.7126\n",
      "Validation loss: 1.6750\n",
      "One day, a dog was tried to look is there. She were very upset with the bear, and had sad in the couch with his mom something a big pond to play in shiny in her with an blue and they poked a okay, Timmy's diaper Corruption in the\n",
      "\n",
      "Step 7168: Performing validation\n",
      "Learning rate: 0.000800\n"
     ]
    },
    {
     "data": {
      "application/vnd.jupyter.widget-view+json": {
       "model_id": "d7e822a0914b453ba91bfed5523e5758",
       "version_major": 2,
       "version_minor": 0
      },
      "text/plain": [
       "  0%|          | 0/16 [00:00<?, ?it/s]"
      ]
     },
     "metadata": {},
     "output_type": "display_data"
    },
    {
     "name": "stdout",
     "output_type": "stream",
     "text": [
      "Train loss: 1.7129\n",
      "Validation loss: 1.6519\n",
      "One day, a dog named Tim called like breakfast with the old old fruits and waiting, She yawn. Tim day, but it was very happy.\n",
      "\n",
      "L Kot in the park and knees. One day, looking above a special and wrapase. \n",
      "\n",
      " There\n",
      "\n",
      "Step 7296: Performing validation\n",
      "Learning rate: 0.000800\n"
     ]
    },
    {
     "data": {
      "application/vnd.jupyter.widget-view+json": {
       "model_id": "e5048554b683426ab9165a55b12983e7",
       "version_major": 2,
       "version_minor": 0
      },
      "text/plain": [
       "  0%|          | 0/16 [00:00<?, ?it/s]"
      ]
     },
     "metadata": {},
     "output_type": "display_data"
    },
    {
     "name": "stdout",
     "output_type": "stream",
     "text": [
      "Train loss: 1.5577\n",
      "Validation loss: 1.6345\n",
      "One day, a dog was accident girl showed a bird. It had an cat and something things with wander. She noticed a broken?\"\n",
      "\n",
      "One day, sad were one small bunnyo together. In the story. He said on her hair that wanted to play to the\n",
      "\n",
      "Step 7424: Performing validation\n",
      "Learning rate: 0.000800\n"
     ]
    },
    {
     "data": {
      "application/vnd.jupyter.widget-view+json": {
       "model_id": "7fe43191389040689ce8cee6c2106d13",
       "version_major": 2,
       "version_minor": 0
      },
      "text/plain": [
       "  0%|          | 0/16 [00:00<?, ?it/s]"
      ]
     },
     "metadata": {},
     "output_type": "display_data"
    },
    {
     "name": "stdout",
     "output_type": "stream",
     "text": [
      "Train loss: 1.6791\n",
      "Validation loss: 1.6300\n",
      "One day, a dog named Lily. They want to play to room. The clouds and play to the bird fur. Dad like the park was very different upstairs with her ran to ear. Timmy's mom. He was lots. \n",
      "Sily picked they did not\n",
      "\n",
      "Step 7552: Performing validation\n",
      "Learning rate: 0.000800\n"
     ]
    },
    {
     "data": {
      "application/vnd.jupyter.widget-view+json": {
       "model_id": "a90d8a657b69414794669464d2c98bae",
       "version_major": 2,
       "version_minor": 0
      },
      "text/plain": [
       "  0%|          | 0/16 [00:00<?, ?it/s]"
      ]
     },
     "metadata": {},
     "output_type": "display_data"
    },
    {
     "name": "stdout",
     "output_type": "stream",
     "text": [
      "Train loss: 1.9201\n",
      "Validation loss: 1.6249\n",
      "One day, a dog went to play friends as some year places when short green house with his momy. Emma saw a unusual day, Jane realized was so he decided to play with his vinegar, the sand.One night, be just sat a lot contain his mom picked\n",
      "\n",
      "Step 7680: Performing validation\n",
      "Learning rate: 0.000800\n"
     ]
    },
    {
     "data": {
      "application/vnd.jupyter.widget-view+json": {
       "model_id": "bc1cb2ffd51847c59a5840b4a1121719",
       "version_major": 2,
       "version_minor": 0
      },
      "text/plain": [
       "  0%|          | 0/16 [00:00<?, ?it/s]"
      ]
     },
     "metadata": {},
     "output_type": "display_data"
    },
    {
     "name": "stdout",
     "output_type": "stream",
     "text": [
      "Train loss: 1.8529\n",
      "Validation loss: 1.6033\n",
      "One day, a dog Spot was walking searched to like to play far. nosade in the p hal leaves and wanted to play.\n",
      "One day, she drove. She painted a leipt embrace, he warned allangie disturbed his cocoa meal with buttons. Then they\n",
      "\n",
      "Step 7808: Performing validation\n",
      "Learning rate: 0.000800\n"
     ]
    },
    {
     "data": {
      "application/vnd.jupyter.widget-view+json": {
       "model_id": "10feae2df7d94a9e97f9a89c981f146d",
       "version_major": 2,
       "version_minor": 0
      },
      "text/plain": [
       "  0%|          | 0/16 [00:00<?, ?it/s]"
      ]
     },
     "metadata": {},
     "output_type": "display_data"
    },
    {
     "name": "stdout",
     "output_type": "stream",
     "text": [
      "Train loss: 1.6767\n",
      "Validation loss: 1.5858\n",
      "One day, a dog went to play. TheCounteddy They were inside to ugly carrot in the friendsman. She was shining idea, he heard thin face. Lily got her foot before. The two of the blocks and traded, and floated around the fish much to see\n",
      "\n",
      "Step 7936: Performing validation\n",
      "Learning rate: 0.000800\n"
     ]
    },
    {
     "data": {
      "application/vnd.jupyter.widget-view+json": {
       "model_id": "436a91f3aabc43ba90073e92e7376101",
       "version_major": 2,
       "version_minor": 0
      },
      "text/plain": [
       "  0%|          | 0/16 [00:00<?, ?it/s]"
      ]
     },
     "metadata": {},
     "output_type": "display_data"
    },
    {
     "name": "stdout",
     "output_type": "stream",
     "text": [
      "Train loss: 1.6588\n",
      "Validation loss: 1.5709\n",
      "One day, a dog were toy was very elderly dog. It liked to eating two car.\n",
      "\n",
      "One day Anna asked the pretend dadummy there the ocean. She was very car to take leash saw a big chest.  after the shop. \n",
      "Timmy and\n",
      "\n",
      "Step 8064: Performing validation\n",
      "Learning rate: 0.000800\n"
     ]
    },
    {
     "data": {
      "application/vnd.jupyter.widget-view+json": {
       "model_id": "4a19fa1a845e41e68adcfac1af54544a",
       "version_major": 2,
       "version_minor": 0
      },
      "text/plain": [
       "  0%|          | 0/16 [00:00<?, ?it/s]"
      ]
     },
     "metadata": {},
     "output_type": "display_data"
    },
    {
     "name": "stdout",
     "output_type": "stream",
     "text": [
      "Train loss: 1.8107\n",
      "Validation loss: 1.5543\n",
      "One day, a dog named Lilymy wanted to count.One day, but weed in the y mom named One day, why they found a journey. Hop was lying and much head, something shelf for a big different tail. But then she could find it asked writing\n",
      "\n",
      "Step 8192: Performing validation\n",
      "Learning rate: 0.000800\n"
     ]
    },
    {
     "data": {
      "application/vnd.jupyter.widget-view+json": {
       "model_id": "d5d326e6b52b475e83a81c1431c2cb92",
       "version_major": 2,
       "version_minor": 0
      },
      "text/plain": [
       "  0%|          | 0/16 [00:00<?, ?it/s]"
      ]
     },
     "metadata": {},
     "output_type": "display_data"
    },
    {
     "name": "stdout",
     "output_type": "stream",
     "text": [
      "Train loss: 1.4379\n",
      "Validation loss: 1.5395\n",
      "One day, a dog got walking about a gun. He was too and vegetables.\n",
      "One day, the garden to the ground to make a folder that the ocean and made his people again and apologized to Buddy hugged the path.\n",
      "\n",
      "The little girl tried to use the\n",
      "\n",
      "Step 8320: Performing validation\n",
      "Learning rate: 0.000800\n"
     ]
    },
    {
     "data": {
      "application/vnd.jupyter.widget-view+json": {
       "model_id": "669232fbfad54dbda60be900058bb514",
       "version_major": 2,
       "version_minor": 0
      },
      "text/plain": [
       "  0%|          | 0/16 [00:00<?, ?it/s]"
      ]
     },
     "metadata": {},
     "output_type": "display_data"
    },
    {
     "name": "stdout",
     "output_type": "stream",
     "text": [
      "Train loss: 1.5630\n",
      "Validation loss: 1.5276\n",
      "One day, a dog one Jack and a thin, a dog. Butter and a little boy was in the bowl and tasty to knee. It to the pile for his.\n",
      "\n",
      "One day, patient interesting old- birds, \"Ofill smiled and Rob lying into the\n",
      "\n",
      "Step 8448: Performing validation\n",
      "Learning rate: 0.000800\n"
     ]
    },
    {
     "data": {
      "application/vnd.jupyter.widget-view+json": {
       "model_id": "b0543aa132d747ff8ff5c2ba839a4df1",
       "version_major": 2,
       "version_minor": 0
      },
      "text/plain": [
       "  0%|          | 0/16 [00:00<?, ?it/s]"
      ]
     },
     "metadata": {},
     "output_type": "display_data"
    },
    {
     "name": "stdout",
     "output_type": "stream",
     "text": [
      "Train loss: 1.4949\n",
      "Validation loss: 1.5151\n",
      "One day, a dog before as a big team. It were yelled. She took the smile, cows, but no, Emma and wrapped. He was smile and twist it.\n",
      "\n",
      "So. Lily thought it was ruined him inside.\n",
      "But then higher and shout and\n",
      "\n",
      "Step 8576: Performing validation\n",
      "Learning rate: 0.000799\n"
     ]
    },
    {
     "data": {
      "application/vnd.jupyter.widget-view+json": {
       "model_id": "4455de995d654a9faa8af4b20e84b4f2",
       "version_major": 2,
       "version_minor": 0
      },
      "text/plain": [
       "  0%|          | 0/16 [00:00<?, ?it/s]"
      ]
     },
     "metadata": {},
     "output_type": "display_data"
    },
    {
     "name": "stdout",
     "output_type": "stream",
     "text": [
      "Train loss: 1.4880\n",
      "Validation loss: 1.5072\n",
      "One day, a dog who was empty friends. If you could get happened. They closed the ball. He looked running in and lion would feel a long time. They saw to the pretty and the mole. So, \"I have so fast's a blanket andi tries\n",
      "\n",
      "Step 8704: Performing validation\n",
      "Learning rate: 0.000799\n"
     ]
    },
    {
     "data": {
      "application/vnd.jupyter.widget-view+json": {
       "model_id": "d9f5ae9d89134186aa67dff4d27307b2",
       "version_major": 2,
       "version_minor": 0
      },
      "text/plain": [
       "  0%|          | 0/16 [00:00<?, ?it/s]"
      ]
     },
     "metadata": {},
     "output_type": "display_data"
    },
    {
     "name": "stdout",
     "output_type": "stream",
     "text": [
      "Train loss: 2.1117\n",
      "Validation loss: 1.5262\n",
      "One day, a dog loved to fly the drawer. It had thread. Jen liked to make him to cartoons, who day, they laughed and fell up. They searched at her mom held hills, and found too job, and said yes, so they asked her a lot\n",
      "\n",
      "Step 8832: Performing validation\n",
      "Learning rate: 0.000799\n"
     ]
    },
    {
     "data": {
      "application/vnd.jupyter.widget-view+json": {
       "model_id": "a63db6521050428c8db2ea9bd76146ae",
       "version_major": 2,
       "version_minor": 0
      },
      "text/plain": [
       "  0%|          | 0/16 [00:00<?, ?it/s]"
      ]
     },
     "metadata": {},
     "output_type": "display_data"
    },
    {
     "name": "stdout",
     "output_type": "stream",
     "text": [
      "Train loss: 2.0492\n",
      "Validation loss: 1.5221\n",
      "One day, a dog was 3 years old bug named Emma, Jack and wondered, she in a year old and the sock. He decided to explore. Her mum recognized something to stay in the field.\n",
      "\n",
      "Paul came to play with a big tree path, he was\n",
      "\n",
      "Step 8960: Performing validation\n",
      "Learning rate: 0.000799\n"
     ]
    },
    {
     "data": {
      "application/vnd.jupyter.widget-view+json": {
       "model_id": "07a719d9fa6b46b89a8de69da1e47ea5",
       "version_major": 2,
       "version_minor": 0
      },
      "text/plain": [
       "  0%|          | 0/16 [00:00<?, ?it/s]"
      ]
     },
     "metadata": {},
     "output_type": "display_data"
    },
    {
     "name": "stdout",
     "output_type": "stream",
     "text": [
      "Train loss: 1.3707\n",
      "Validation loss: 1.4984\n",
      "One day, a dog liked to catch pretty Lily. Sam went on the tall dog went thing. He would find the town. Max needed to see, but asked. She saw an hay hopped out. They decided to the stove, her to count friends. She looked out\n",
      "\n",
      "Step 9088: Performing validation\n",
      "Learning rate: 0.000799\n"
     ]
    },
    {
     "data": {
      "application/vnd.jupyter.widget-view+json": {
       "model_id": "e4b3939926a54e3da24b9bce2899d4ea",
       "version_major": 2,
       "version_minor": 0
      },
      "text/plain": [
       "  0%|          | 0/16 [00:00<?, ?it/s]"
      ]
     },
     "metadata": {},
     "output_type": "display_data"
    },
    {
     "name": "stdout",
     "output_type": "stream",
     "text": [
      "Train loss: 1.6904\n",
      "Validation loss: 1.4890\n",
      "One day, a dog named Bella saw a little garden were alwaysmy, Freddie. Patch came to pleaded like it's own toys, feeling happy.\n",
      "Luazines was, a big tree shine of funy was also very excited when she made Jessie swam all of soft\n",
      "\n",
      "Step 9216: Performing validation\n",
      "Learning rate: 0.000799\n"
     ]
    },
    {
     "data": {
      "application/vnd.jupyter.widget-view+json": {
       "model_id": "596f7cb958a14c4ea43e5efa76f8e965",
       "version_major": 2,
       "version_minor": 0
      },
      "text/plain": [
       "  0%|          | 0/16 [00:00<?, ?it/s]"
      ]
     },
     "metadata": {},
     "output_type": "display_data"
    },
    {
     "name": "stdout",
     "output_type": "stream",
     "text": [
      "Train loss: 1.7391\n",
      "Validation loss: 1.4778\n",
      "One day, a dog and Sally had a little fierce year old. She had a big small skin. Everyday they were stuck in the castle near their claws were always made her. He wanted to stay had found something way it can write one milk. He cut things discovered so\n",
      "\n",
      "Step 9344: Performing validation\n",
      "Learning rate: 0.000799\n"
     ]
    },
    {
     "data": {
      "application/vnd.jupyter.widget-view+json": {
       "model_id": "07db257ec7a3443c9c5d0a3e0500456e",
       "version_major": 2,
       "version_minor": 0
      },
      "text/plain": [
       "  0%|          | 0/16 [00:00<?, ?it/s]"
      ]
     },
     "metadata": {},
     "output_type": "display_data"
    },
    {
     "name": "stdout",
     "output_type": "stream",
     "text": [
      "Train loss: 1.5776\n",
      "Validation loss: 1.4585\n",
      "One day, a dog went spots. He had a closer and saw a shocked.\n",
      "\n",
      "\n",
      "One day, her toys. Spot could okay, he wasn't like their doll, â�Look, \"Mom, ow, Sue said, who ran inside, \"\n",
      "\n",
      "Step 9472: Performing validation\n",
      "Learning rate: 0.000799\n"
     ]
    },
    {
     "data": {
      "application/vnd.jupyter.widget-view+json": {
       "model_id": "cbca9fb3cb914e9a81d20871a16e69ff",
       "version_major": 2,
       "version_minor": 0
      },
      "text/plain": [
       "  0%|          | 0/16 [00:00<?, ?it/s]"
      ]
     },
     "metadata": {},
     "output_type": "display_data"
    },
    {
     "name": "stdout",
     "output_type": "stream",
     "text": [
      "Train loss: 1.5213\n",
      "Validation loss: 1.4487\n",
      "One day, a dog named Tim went to do nice colors. Their mom said, a big lot of miss the park. They went for crying and play with a dog is going to do you want to eatigator problem.\n",
      "\n",
      "The bird wanted to the truck on the\n",
      "\n",
      "Step 9600: Performing validation\n",
      "Learning rate: 0.000799\n"
     ]
    },
    {
     "data": {
      "application/vnd.jupyter.widget-view+json": {
       "model_id": "1c396ad87e244dff9f2d1c6f2347ba77",
       "version_major": 2,
       "version_minor": 0
      },
      "text/plain": [
       "  0%|          | 0/16 [00:00<?, ?it/s]"
      ]
     },
     "metadata": {},
     "output_type": "display_data"
    },
    {
     "name": "stdout",
     "output_type": "stream",
     "text": [
      "Train loss: 1.3093\n",
      "Validation loss: 1.4390\n",
      "One day, a dog named Tim found a very mad. Sam was scared and water. \"OK!\" The dog playing home, his notebook and Tim thought every day, very sad. One day, the ball are you like special a book.\n",
      "\n",
      "\"Let's saved\n",
      "\n",
      "Step 9728: Performing validation\n",
      "Learning rate: 0.000799\n"
     ]
    },
    {
     "data": {
      "application/vnd.jupyter.widget-view+json": {
       "model_id": "09a59758c5db4d6eb918853e4c87196e",
       "version_major": 2,
       "version_minor": 0
      },
      "text/plain": [
       "  0%|          | 0/16 [00:00<?, ?it/s]"
      ]
     },
     "metadata": {},
     "output_type": "display_data"
    },
    {
     "name": "stdout",
     "output_type": "stream",
     "text": [
      "Train loss: 1.4100\n",
      "Validation loss: 1.4328\n",
      "One day, a dog stepped in Claude. The shore. The sun walked through a fancy ball and she found her paw and took it all the cake. Sam wanted to sit! The brother shouted, but he decided to the lamp from the ground and a safe. \n",
      "\n",
      "\n",
      "Step 9856: Performing validation\n",
      "Learning rate: 0.000799\n"
     ]
    },
    {
     "data": {
      "application/vnd.jupyter.widget-view+json": {
       "model_id": "4ffb226c6e0c45a390d4c3df1903017b",
       "version_major": 2,
       "version_minor": 0
      },
      "text/plain": [
       "  0%|          | 0/16 [00:00<?, ?it/s]"
      ]
     },
     "metadata": {},
     "output_type": "display_data"
    },
    {
     "name": "stdout",
     "output_type": "stream",
     "text": [
      "Train loss: 1.4949\n",
      "Validation loss: 1.4243\n",
      "One day, a dog named Billy and her mommy before Timmy was very exciting apple things. John felt good friend gave her backyard to play with a toy necklace again. Dad leaned in the truck and dad said yes the park, the puzzle square with the pies and started\n",
      "\n",
      "Step 9984: Performing validation\n",
      "Learning rate: 0.000799\n"
     ]
    },
    {
     "data": {
      "application/vnd.jupyter.widget-view+json": {
       "model_id": "6c3f4bd4e96343ffac7d0efb0251dc37",
       "version_major": 2,
       "version_minor": 0
      },
      "text/plain": [
       "  0%|          | 0/16 [00:00<?, ?it/s]"
      ]
     },
     "metadata": {},
     "output_type": "display_data"
    },
    {
     "name": "stdout",
     "output_type": "stream",
     "text": [
      "Train loss: 1.8518\n",
      "Validation loss: 1.4217\n",
      "One day, a dog named Tim drew a huge birds. It took a book, a big, a feet. He was always closed his bike and play. He saw a crazy bug. It wanted to the needle from it. Tim showed has a little one thing. He\n",
      "\n",
      "Step 10112: Performing validation\n",
      "Learning rate: 0.000798\n"
     ]
    },
    {
     "data": {
      "application/vnd.jupyter.widget-view+json": {
       "model_id": "d4fecf45ffbf4a1d855a275511118656",
       "version_major": 2,
       "version_minor": 0
      },
      "text/plain": [
       "  0%|          | 0/16 [00:00<?, ?it/s]"
      ]
     },
     "metadata": {},
     "output_type": "display_data"
    },
    {
     "name": "stdout",
     "output_type": "stream",
     "text": [
      "Train loss: 1.3758\n",
      "Validation loss: 1.4130\n",
      "One day, a dog went through the park. The sm buttons. It was stuck, so happy.\n",
      "\n",
      "One morning, Jack thought she saw a hug and family up. He ran walks to the cat. He took the bench and carrying the cat. He wanted to\n",
      "\n",
      "Step 10240: Performing validation\n",
      "Learning rate: 0.000798\n"
     ]
    },
    {
     "data": {
      "application/vnd.jupyter.widget-view+json": {
       "model_id": "4ae3439a2ff549f1a2abeafaeaf1b8d5",
       "version_major": 2,
       "version_minor": 0
      },
      "text/plain": [
       "  0%|          | 0/16 [00:00<?, ?it/s]"
      ]
     },
     "metadata": {},
     "output_type": "display_data"
    },
    {
     "name": "stdout",
     "output_type": "stream",
     "text": [
      "Train loss: 1.3387\n",
      "Validation loss: 1.4067\n",
      "One day, a dog was able to eat things. He decided to play mountain to measure on enough crashes in her special day her dress on their feathers - lots of homes near things leaves and the swings on his friends. He made a neat things, and cut there was blue\n",
      "\n",
      "Step 10368: Performing validation\n",
      "Learning rate: 0.000798\n"
     ]
    },
    {
     "data": {
      "application/vnd.jupyter.widget-view+json": {
       "model_id": "fa8700fa3f2d4758ba49f43f670260bc",
       "version_major": 2,
       "version_minor": 0
      },
      "text/plain": [
       "  0%|          | 0/16 [00:00<?, ?it/s]"
      ]
     },
     "metadata": {},
     "output_type": "display_data"
    },
    {
     "name": "stdout",
     "output_type": "stream",
     "text": [
      "Train loss: 1.6823\n",
      "Validation loss: 1.3912\n",
      "One day, a dog named Lily had a special ball hours. He liked to play with their snow. One day, Max were sad feeling The mountain, especially read a bigy...um said, a band or see on the three-seek with a bone.\n",
      "\n",
      "\n",
      "\n",
      "Step 10496: Performing validation\n",
      "Learning rate: 0.000798\n"
     ]
    },
    {
     "data": {
      "application/vnd.jupyter.widget-view+json": {
       "model_id": "8385b2733dad43d0892e4419b3f42de6",
       "version_major": 2,
       "version_minor": 0
      },
      "text/plain": [
       "  0%|          | 0/16 [00:00<?, ?it/s]"
      ]
     },
     "metadata": {},
     "output_type": "display_data"
    },
    {
     "name": "stdout",
     "output_type": "stream",
     "text": [
      "Train loss: 1.5058\n",
      "Validation loss: 1.3787\n",
      "One day, a dog girl named Lily wanted to a house. She loved to find funny sandwich and water. She wanted to see red truck, making toys. Lily was green big box in the ball on their cars. It was Mom, but her tail and imagined it.\"\n",
      "\n",
      "Step 10624: Performing validation\n",
      "Learning rate: 0.000798\n"
     ]
    },
    {
     "data": {
      "application/vnd.jupyter.widget-view+json": {
       "model_id": "81e77dec26c54ac8a8ed054a75ec4ada",
       "version_major": 2,
       "version_minor": 0
      },
      "text/plain": [
       "  0%|          | 0/16 [00:00<?, ?it/s]"
      ]
     },
     "metadata": {},
     "output_type": "display_data"
    },
    {
     "name": "stdout",
     "output_type": "stream",
     "text": [
      "Train loss: 1.5983\n",
      "Validation loss: 1.3648\n",
      "One day, a dog who liked to play with other. He looked at the park in the middle of box of her time with his boy said Brownishes and her friends. As his bed. The clown chased him give them scary and ran home, he danced in Tom had\n",
      "\n",
      "Step 10752: Performing validation\n",
      "Learning rate: 0.000798\n"
     ]
    },
    {
     "data": {
      "application/vnd.jupyter.widget-view+json": {
       "model_id": "1952b8653cf244fb9dce20f57a54a063",
       "version_major": 2,
       "version_minor": 0
      },
      "text/plain": [
       "  0%|          | 0/16 [00:00<?, ?it/s]"
      ]
     },
     "metadata": {},
     "output_type": "display_data"
    },
    {
     "name": "stdout",
     "output_type": "stream",
     "text": [
      "Train loss: 1.4313\n",
      "Validation loss: 1.3639\n",
      "One day, a dog were sour cat was very happy. The sailor had fun dog went to keep him ran insideopes that her dad!\n",
      "\n",
      "He ran towards it would started to the park playing with the park in the ground. His name everybis the oven full and\n",
      "\n",
      "Step 10880: Performing validation\n",
      "Learning rate: 0.000798\n"
     ]
    },
    {
     "data": {
      "application/vnd.jupyter.widget-view+json": {
       "model_id": "771819590ddc4dcdb69d6e037c9bf3ee",
       "version_major": 2,
       "version_minor": 0
      },
      "text/plain": [
       "  0%|          | 0/16 [00:00<?, ?it/s]"
      ]
     },
     "metadata": {},
     "output_type": "display_data"
    },
    {
     "name": "stdout",
     "output_type": "stream",
     "text": [
      "Train loss: 1.6652\n",
      "Validation loss: 1.3758\n",
      "One day, a dog went for a country. The tea, and the sky to wear a red. The boat was so count inside, the world was red, and it that the girl wanted to take it was very high. As they thought it would design made the slide\n",
      "\n",
      "Step 11008: Performing validation\n",
      "Learning rate: 0.000798\n"
     ]
    },
    {
     "data": {
      "application/vnd.jupyter.widget-view+json": {
       "model_id": "8db032e4f7464e7b864096fe3e9bc717",
       "version_major": 2,
       "version_minor": 0
      },
      "text/plain": [
       "  0%|          | 0/16 [00:00<?, ?it/s]"
      ]
     },
     "metadata": {},
     "output_type": "display_data"
    },
    {
     "name": "stdout",
     "output_type": "stream",
     "text": [
      "Train loss: 1.4060\n",
      "Validation loss: 1.3665\n",
      "One day, a dog was playing outside in the sky. He was motor, the park, round with it was playing spin. It wanted a squirrel parked the yard. He saw a plate of the squirrelflower. As they w legs further.\n",
      "\n",
      "He saw done full\n",
      "\n",
      "Step 11136: Performing validation\n",
      "Learning rate: 0.000797\n"
     ]
    },
    {
     "data": {
      "application/vnd.jupyter.widget-view+json": {
       "model_id": "acc48813c6164d8aa6638e246519d3d4",
       "version_major": 2,
       "version_minor": 0
      },
      "text/plain": [
       "  0%|          | 0/16 [00:00<?, ?it/s]"
      ]
     },
     "metadata": {},
     "output_type": "display_data"
    },
    {
     "name": "stdout",
     "output_type": "stream",
     "text": [
      "Train loss: 1.2974\n",
      "Validation loss: 1.3486\n",
      "One day, a dog knew a new little boy named Max. Sue lived in the park with his mommy saw shells and they saw a bone. Timmy told Timmy, \"olluddle, let's play outside!\" Timmy, can play playing with to fold or\n",
      "\n",
      "Step 11264: Performing validation\n",
      "Learning rate: 0.000797\n"
     ]
    },
    {
     "data": {
      "application/vnd.jupyter.widget-view+json": {
       "model_id": "d1075a59a64f489abe962c0ca1c5afc1",
       "version_major": 2,
       "version_minor": 0
      },
      "text/plain": [
       "  0%|          | 0/16 [00:00<?, ?it/s]"
      ]
     },
     "metadata": {},
     "output_type": "display_data"
    },
    {
     "name": "stdout",
     "output_type": "stream",
     "text": [
      "Train loss: 1.7178\n",
      "Validation loss: 1.3438\n",
      "One day, a dog lived in a big tree: animal on a small shirt with a beautiful chocolate kitchen. The sheep reached it started to organize it in a house. The bee was scared rolling. They saw many rooms. The parents said it grew stuck and they had a\n",
      "\n",
      "Step 11392: Performing validation\n",
      "Learning rate: 0.000797\n"
     ]
    },
    {
     "data": {
      "application/vnd.jupyter.widget-view+json": {
       "model_id": "b6f6352632ea475a9cbdb4c49b17c2e3",
       "version_major": 2,
       "version_minor": 0
      },
      "text/plain": [
       "  0%|          | 0/16 [00:00<?, ?it/s]"
      ]
     },
     "metadata": {},
     "output_type": "display_data"
    },
    {
     "name": "stdout",
     "output_type": "stream",
     "text": [
      "Train loss: 1.3453\n",
      "Validation loss: 1.3327\n",
      "One day, a dog saw an idea. He wanted to save the park. Go away. The top of rocks and hide heavy. \n",
      "\n",
      "The cat did not know he wanted to go to the ball. He knew his friend. The boy said, \"s go\n",
      "\n",
      "Step 11520: Performing validation\n",
      "Learning rate: 0.000797\n"
     ]
    },
    {
     "data": {
      "application/vnd.jupyter.widget-view+json": {
       "model_id": "7e9542d6f2194e08bf81d72082491ba9",
       "version_major": 2,
       "version_minor": 0
      },
      "text/plain": [
       "  0%|          | 0/16 [00:00<?, ?it/s]"
      ]
     },
     "metadata": {},
     "output_type": "display_data"
    },
    {
     "name": "stdout",
     "output_type": "stream",
     "text": [
      "Train loss: 1.4879\n",
      "Validation loss: 1.3208\n",
      "One day, a dog saw a little boy named Tim. Tim loved to run right and colorful car. He had In the trip and hammer and stopped to drink the bathating the flowers. The door and clothes from the box roaring and had to clean them, but they used\n",
      "\n",
      "Step 11648: Performing validation\n",
      "Learning rate: 0.000797\n"
     ]
    },
    {
     "data": {
      "application/vnd.jupyter.widget-view+json": {
       "model_id": "0e7fa58ef7e846ccbdbe93cce0811df1",
       "version_major": 2,
       "version_minor": 0
      },
      "text/plain": [
       "  0%|          | 0/16 [00:00<?, ?it/s]"
      ]
     },
     "metadata": {},
     "output_type": "display_data"
    },
    {
     "name": "stdout",
     "output_type": "stream",
     "text": [
      "Train loss: 1.3091\n",
      "Validation loss: 1.3090\n",
      "One day, a dog named structure. He felt very yummy and jump at the room. He saw many candy up to puddle in a symbol together, just big bike. He wanted to come airplane, he could make it too little painting.\n",
      "\n",
      "They started to\n",
      "\n",
      "Step 11776: Performing validation\n",
      "Learning rate: 0.000797\n"
     ]
    },
    {
     "data": {
      "application/vnd.jupyter.widget-view+json": {
       "model_id": "ac9136da601e482184bcdacfc48ba318",
       "version_major": 2,
       "version_minor": 0
      },
      "text/plain": [
       "  0%|          | 0/16 [00:00<?, ?it/s]"
      ]
     },
     "metadata": {},
     "output_type": "display_data"
    },
    {
     "name": "stdout",
     "output_type": "stream",
     "text": [
      "Train loss: 1.5315\n",
      "Validation loss: 1.2986\n",
      "One day, a dog named Bobby was making a picture and the room. Max started to climb songs and looked really invited her nest. He said, he ate a mean. The cat. He did not pink stick and Max and very happy. He saw a bad rock until\n",
      "\n",
      "Step 11904: Performing validation\n",
      "Learning rate: 0.000796\n"
     ]
    },
    {
     "data": {
      "application/vnd.jupyter.widget-view+json": {
       "model_id": "ef64f7e553b14a2495d7c0cacdd3a666",
       "version_major": 2,
       "version_minor": 0
      },
      "text/plain": [
       "  0%|          | 0/16 [00:00<?, ?it/s]"
      ]
     },
     "metadata": {},
     "output_type": "display_data"
    },
    {
     "name": "stdout",
     "output_type": "stream",
     "text": [
      "Train loss: 1.3588\n",
      "Validation loss: 1.2917\n",
      "One day, a dog with a ball. He wanted to play with his toys, and play with. He had to eat True had fun. He had to eat him home and run and he almost visit his toy. Suddenly, he snam for a big red ball and\n",
      "\n",
      "Step 12032: Performing validation\n",
      "Learning rate: 0.000796\n"
     ]
    },
    {
     "data": {
      "application/vnd.jupyter.widget-view+json": {
       "model_id": "53ebee3afdd0420bbc65320a5a158e80",
       "version_major": 2,
       "version_minor": 0
      },
      "text/plain": [
       "  0%|          | 0/16 [00:00<?, ?it/s]"
      ]
     },
     "metadata": {},
     "output_type": "display_data"
    },
    {
     "name": "stdout",
     "output_type": "stream",
     "text": [
      "Train loss: 1.4183\n",
      "Validation loss: 1.2880\n",
      "One day, a dog named sunny day, Max velvet farm with a big cord in the sand with his mom and Tim saw a cat in the candy and said 'Mom her's shiny, \"Snowheart!\" they went away,\" said, \"Yes, let's a small\n",
      "\n",
      "Step 12160: Performing validation\n",
      "Learning rate: 0.000796\n"
     ]
    },
    {
     "data": {
      "application/vnd.jupyter.widget-view+json": {
       "model_id": "cdccead17f90404fb4c84aff7ef81f00",
       "version_major": 2,
       "version_minor": 0
      },
      "text/plain": [
       "  0%|          | 0/16 [00:00<?, ?it/s]"
      ]
     },
     "metadata": {},
     "output_type": "display_data"
    },
    {
     "name": "stdout",
     "output_type": "stream",
     "text": [
      "Train loss: 1.3054\n",
      "Validation loss: 1.2785\n",
      "One day, a dog named end children met a girl named Timy raft, Tom. Tim was always excited, around and always though Joe used it would go on the huge pencil.\n",
      "\n",
      "Tim went to the fish fell closer with his cord. He ventured to playing with\n",
      "\n",
      "Step 12288: Performing validation\n",
      "Learning rate: 0.000796\n"
     ]
    },
    {
     "data": {
      "application/vnd.jupyter.widget-view+json": {
       "model_id": "4746b2297aaa4dc585c4a5dc316f9a63",
       "version_major": 2,
       "version_minor": 0
      },
      "text/plain": [
       "  0%|          | 0/16 [00:00<?, ?it/s]"
      ]
     },
     "metadata": {},
     "output_type": "display_data"
    },
    {
     "name": "stdout",
     "output_type": "stream",
     "text": [
      "Train loss: 1.2963\n",
      "Validation loss: 1.2649\n",
      "One day, a dog named Bob. He was swinging spark in the mailbox close. He saw something new neighborhood. One day, he saw something small ocean asked him that he had lots of too on his hands. He wanted his friend and set, so he hugged his eye\n",
      "\n",
      "Step 12416: Performing validation\n",
      "Learning rate: 0.000796\n"
     ]
    },
    {
     "data": {
      "application/vnd.jupyter.widget-view+json": {
       "model_id": "f7b5b5d8366042faa493ce6bb58c2ece",
       "version_major": 2,
       "version_minor": 0
      },
      "text/plain": [
       "  0%|          | 0/16 [00:00<?, ?it/s]"
      ]
     },
     "metadata": {},
     "output_type": "display_data"
    },
    {
     "name": "stdout",
     "output_type": "stream",
     "text": [
      "Train loss: 1.4527\n",
      "Validation loss: 1.2668\n",
      "One day, a dog looked under a dress. The duck saw a little girl named Bob. It was handful of the man. cried. He thought it. \"What listened to see yourself or catch the dragon stories. You for you to wrap things and I am a thrill\n",
      "\n",
      "Step 12544: Performing validation\n",
      "Learning rate: 0.000796\n"
     ]
    },
    {
     "data": {
      "application/vnd.jupyter.widget-view+json": {
       "model_id": "e0a5a3f63a5f43aeab83a4b785acebc5",
       "version_major": 2,
       "version_minor": 0
      },
      "text/plain": [
       "  0%|          | 0/16 [00:00<?, ?it/s]"
      ]
     },
     "metadata": {},
     "output_type": "display_data"
    },
    {
     "name": "stdout",
     "output_type": "stream",
     "text": [
      "Train loss: 1.2978\n",
      "Validation loss: 1.2820\n",
      "One day, a dog named Bob was Whit. Tom wanted to run to play with his favorite keys that he had a toy room. He wanted to make the blue boy too. He couldn't go home and find his favorite car to go on the snow shore. Max was\n",
      "\n",
      "Step 12672: Performing validation\n",
      "Learning rate: 0.000795\n"
     ]
    },
    {
     "data": {
      "application/vnd.jupyter.widget-view+json": {
       "model_id": "c9a12ce40ef2411599cb98b270adb02d",
       "version_major": 2,
       "version_minor": 0
      },
      "text/plain": [
       "  0%|          | 0/16 [00:00<?, ?it/s]"
      ]
     },
     "metadata": {},
     "output_type": "display_data"
    },
    {
     "name": "stdout",
     "output_type": "stream",
     "text": [
      "Train loss: 1.1428\n",
      "Validation loss: 1.2832\n",
      "One day, a dog named Max went to play in the ball on Mummy window in the floor. She gave pull the forest, but her nose coming, cute dog under the swings or worried. The dog followed the ball, the ball on his ball, green squirrel nit\n",
      "\n",
      "Step 12800: Performing validation\n",
      "Learning rate: 0.000795\n"
     ]
    },
    {
     "data": {
      "application/vnd.jupyter.widget-view+json": {
       "model_id": "63e1819a612c4e92ae0529e86a0dfacf",
       "version_major": 2,
       "version_minor": 0
      },
      "text/plain": [
       "  0%|          | 0/16 [00:00<?, ?it/s]"
      ]
     },
     "metadata": {},
     "output_type": "display_data"
    },
    {
     "name": "stdout",
     "output_type": "stream",
     "text": [
      "Train loss: 1.4121\n",
      "Validation loss: 1.2618\n",
      "One day, a dog named Tim went to the blocks. He can show their drum rolling into the tire, and make something sweet. The cat got in the floor. He had nicer safe. Tim went to make a while playing small and the wolf in a new toy box\n",
      "\n",
      "Step 12928: Performing validation\n",
      "Learning rate: 0.000795\n"
     ]
    },
    {
     "data": {
      "application/vnd.jupyter.widget-view+json": {
       "model_id": "c034e96e1f4747b798e8b7aff16115dc",
       "version_major": 2,
       "version_minor": 0
      },
      "text/plain": [
       "  0%|          | 0/16 [00:00<?, ?it/s]"
      ]
     },
     "metadata": {},
     "output_type": "display_data"
    },
    {
     "name": "stdout",
     "output_type": "stream",
     "text": [
      "Train loss: 1.2428\n",
      "Validation loss: 1.2446\n",
      "One day, a dogKim went to walk in the park with his mom.lo fully was going on her sunrise and saw many candy to the park. Its hair was sad and cute.\n",
      "\n",
      "\"Why is going to feed me something special toy.\"\n",
      "\n",
      "Lucy\n",
      "\n",
      "Step 13056: Performing validation\n",
      "Learning rate: 0.000795\n"
     ]
    },
    {
     "data": {
      "application/vnd.jupyter.widget-view+json": {
       "model_id": "1f66fb2c240a49e0b68297424c141e0b",
       "version_major": 2,
       "version_minor": 0
      },
      "text/plain": [
       "  0%|          | 0/16 [00:00<?, ?it/s]"
      ]
     },
     "metadata": {},
     "output_type": "display_data"
    },
    {
     "name": "stdout",
     "output_type": "stream",
     "text": [
      "Train loss: 1.3573\n",
      "Validation loss: 1.2316\n",
      "One day, a dog walked for a long attic. It was red and excited to enjoy a place. He was confused and started to try, many slide. He couldnâ€œLook, stop me!â€ The dog was brave, but he wondered what to\n",
      "\n",
      "Step 13184: Performing validation\n",
      "Learning rate: 0.000795\n"
     ]
    },
    {
     "data": {
      "application/vnd.jupyter.widget-view+json": {
       "model_id": "5348855898e248c28c3d7a570777a2cf",
       "version_major": 2,
       "version_minor": 0
      },
      "text/plain": [
       "  0%|          | 0/16 [00:00<?, ?it/s]"
      ]
     },
     "metadata": {},
     "output_type": "display_data"
    },
    {
     "name": "stdout",
     "output_type": "stream",
     "text": [
      "Train loss: 1.2817\n",
      "Validation loss: 1.2174\n",
      "One day, a dog ran to top of watch. He put one day for the sack up, and look for the side. \n",
      "Luckily, the train came into its owner's mom asked for shake.\n",
      "\n",
      "\"Hello, I am so soft bow to the hospital\n",
      "\n",
      "Step 13312: Performing validation\n",
      "Learning rate: 0.000794\n"
     ]
    },
    {
     "data": {
      "application/vnd.jupyter.widget-view+json": {
       "model_id": "aa6e75e097054cf2bff2531d093bd462",
       "version_major": 2,
       "version_minor": 0
      },
      "text/plain": [
       "  0%|          | 0/16 [00:00<?, ?it/s]"
      ]
     },
     "metadata": {},
     "output_type": "display_data"
    },
    {
     "name": "stdout",
     "output_type": "stream",
     "text": [
      "Train loss: 1.1937\n",
      "Validation loss: 1.2070\n",
      "One day, a dog named Tommy grabbed a big green box. His owner took a soft castle with zGo to cook. The cat was sad and the cat in the dog. They wanted to feel her.They include wires. Tom was not nice and alive! They wanted\n",
      "\n",
      "Step 13440: Performing validation\n",
      "Learning rate: 0.000794\n"
     ]
    },
    {
     "data": {
      "application/vnd.jupyter.widget-view+json": {
       "model_id": "245eb27972404919b036d92560d18963",
       "version_major": 2,
       "version_minor": 0
      },
      "text/plain": [
       "  0%|          | 0/16 [00:00<?, ?it/s]"
      ]
     },
     "metadata": {},
     "output_type": "display_data"
    },
    {
     "name": "stdout",
     "output_type": "stream",
     "text": [
      "Train loss: 1.1591\n",
      "Validation loss: 1.1998\n",
      "One day, a dog named Max found a window and met a big balloon. Sam was rude and he wanted to climb the truck around the bottom. They did roar, rides one lightsizzy would give the truck. Tom waved being found some water and the truck.\n",
      "\n",
      "\n",
      "\n",
      "Step 13568: Performing validation\n",
      "Learning rate: 0.000794\n"
     ]
    },
    {
     "data": {
      "application/vnd.jupyter.widget-view+json": {
       "model_id": "00e5f159ffb54fe3bcdfe2b26f8571d1",
       "version_major": 2,
       "version_minor": 0
      },
      "text/plain": [
       "  0%|          | 0/16 [00:00<?, ?it/s]"
      ]
     },
     "metadata": {},
     "output_type": "display_data"
    },
    {
     "name": "stdout",
     "output_type": "stream",
     "text": [
      "Train loss: 1.3749\n",
      "Validation loss: 1.2056\n",
      "One day, a dog named Tom went up to the city. This day, he saw a colorful button of buttons from prayer. Mia looked out and asked his face. He saw it to his mom her.\n",
      "But when his mom thought it was just wanted to use\n",
      "\n",
      "Step 13696: Performing validation\n",
      "Learning rate: 0.000794\n"
     ]
    },
    {
     "data": {
      "application/vnd.jupyter.widget-view+json": {
       "model_id": "84e51ef499fb4958aefe35a8e740e3ef",
       "version_major": 2,
       "version_minor": 0
      },
      "text/plain": [
       "  0%|          | 0/16 [00:00<?, ?it/s]"
      ]
     },
     "metadata": {},
     "output_type": "display_data"
    },
    {
     "name": "stdout",
     "output_type": "stream",
     "text": [
      "Train loss: 1.2494\n",
      "Validation loss: 1.2086\n",
      "One day, a dog went however, they saw some paper on them. The man told the name was so big, â€œLetâ€ banana out what it is too hot, think it worked inside.â€™t move up.â€ it\n",
      "\n",
      "Step 13824: Performing validation\n",
      "Learning rate: 0.000793\n"
     ]
    },
    {
     "data": {
      "application/vnd.jupyter.widget-view+json": {
       "model_id": "4b0f6320a68a40bca219bc219037d8a5",
       "version_major": 2,
       "version_minor": 0
      },
      "text/plain": [
       "  0%|          | 0/16 [00:00<?, ?it/s]"
      ]
     },
     "metadata": {},
     "output_type": "display_data"
    },
    {
     "name": "stdout",
     "output_type": "stream",
     "text": [
      "Train loss: 1.3531\n",
      "Validation loss: 1.1900\n",
      "One day, a dog named Max saw him. The man found a haircut. He took a toy car, giggled to the car on his car or on his yarn. He ran and rabbits went to the book and knew it was.\n",
      "\n",
      "His mom went to the\n",
      "\n",
      "Step 13952: Performing validation\n",
      "Learning rate: 0.000793\n"
     ]
    },
    {
     "data": {
      "application/vnd.jupyter.widget-view+json": {
       "model_id": "60951f9ba8ac495fa41559f3e7c2177e",
       "version_major": 2,
       "version_minor": 0
      },
      "text/plain": [
       "  0%|          | 0/16 [00:00<?, ?it/s]"
      ]
     },
     "metadata": {},
     "output_type": "display_data"
    },
    {
     "name": "stdout",
     "output_type": "stream",
     "text": [
      "Train loss: 1.4372\n",
      "Validation loss: 1.1796\n",
      "One day, a dog named Max went to the park with his friend. They went on a kid box in the bushes. Blue saw a birds was a squirrel. The monkey was very hungry and thought it wanted to finish it home. As the Over smiled because he could be\n",
      "\n",
      "Step 14080: Performing validation\n",
      "Learning rate: 0.000793\n"
     ]
    },
    {
     "data": {
      "application/vnd.jupyter.widget-view+json": {
       "model_id": "4b6c8e63fe5648adbe585a2cd77a6456",
       "version_major": 2,
       "version_minor": 0
      },
      "text/plain": [
       "  0%|          | 0/16 [00:00<?, ?it/s]"
      ]
     },
     "metadata": {},
     "output_type": "display_data"
    },
    {
     "name": "stdout",
     "output_type": "stream",
     "text": [
      "Train loss: 1.4568\n",
      "Validation loss: 1.1703\n",
      "One day, a dog was trying to eat. He carefullyed his mom did not able. He loaded his mom bought the shoes.\n",
      "\n",
      "\"Yes, Peter\". Bob.\n",
      "\n",
      "Jimmy smiled Lily feel better.\n",
      "\n",
      "Sue saw his mom smiled and said.\n",
      "\n",
      "Step 14208: Performing validation\n",
      "Learning rate: 0.000793\n"
     ]
    },
    {
     "data": {
      "application/vnd.jupyter.widget-view+json": {
       "model_id": "04ce9ab34f68415594fe9e70b593b039",
       "version_major": 2,
       "version_minor": 0
      },
      "text/plain": [
       "  0%|          | 0/16 [00:00<?, ?it/s]"
      ]
     },
     "metadata": {},
     "output_type": "display_data"
    },
    {
     "name": "stdout",
     "output_type": "stream",
     "text": [
      "Train loss: 1.2617\n",
      "Validation loss: 1.1603\n",
      "One day, a dog named Tweet appeared in his cell. Gus loved to look around the garden cabin that was the beach singing. Ruth likedbrush, so much hair and high the sun.\n",
      "\n",
      "Sam lay into the seeds and spread his wings. Bella was surprised to know\n",
      "\n",
      "Step 14336: Performing validation\n",
      "Learning rate: 0.000792\n"
     ]
    },
    {
     "data": {
      "application/vnd.jupyter.widget-view+json": {
       "model_id": "de2f513598804945819bb9483a3d3612",
       "version_major": 2,
       "version_minor": 0
      },
      "text/plain": [
       "  0%|          | 0/16 [00:00<?, ?it/s]"
      ]
     },
     "metadata": {},
     "output_type": "display_data"
    },
    {
     "name": "stdout",
     "output_type": "stream",
     "text": [
      "Train loss: 1.3653\n",
      "Validation loss: 1.1466\n",
      "One day, a dog named Spot went to the park wearing a big valley. The tire was pink and oftenbank. The whole low, and started to run carefully buzzing closer and looked too hard.\n",
      "\n",
      "The driver saw a cage. The slide and said, â\n",
      "\n",
      "Step 14464: Performing validation\n",
      "Learning rate: 0.000792\n"
     ]
    },
    {
     "data": {
      "application/vnd.jupyter.widget-view+json": {
       "model_id": "0e452fe0a0994d8fa29cc441cc2df9f7",
       "version_major": 2,
       "version_minor": 0
      },
      "text/plain": [
       "  0%|          | 0/16 [00:00<?, ?it/s]"
      ]
     },
     "metadata": {},
     "output_type": "display_data"
    },
    {
     "name": "stdout",
     "output_type": "stream",
     "text": [
      "Train loss: 1.4154\n",
      "Validation loss: 1.1382\n",
      "One day, a dog named Spot found a dog named Spot. Spot was very special battery. The dog or fluffy doll is only. Tom thought it was very pretty one for a stick up and took the cord with its hammer.\n",
      "\n",
      " He took the spoon on the bite\n",
      "\n",
      "Step 14592: Performing validation\n",
      "Learning rate: 0.000792\n"
     ]
    },
    {
     "data": {
      "application/vnd.jupyter.widget-view+json": {
       "model_id": "b95e149226584fb180ebfb03adad45ca",
       "version_major": 2,
       "version_minor": 0
      },
      "text/plain": [
       "  0%|          | 0/16 [00:00<?, ?it/s]"
      ]
     },
     "metadata": {},
     "output_type": "display_data"
    },
    {
     "name": "stdout",
     "output_type": "stream",
     "text": [
      "Train loss: 1.1098\n",
      "Validation loss: 1.1416\n",
      "One day, a dog named Max and his drinks. Max had a big dog bugs to play with him. The dog started to climb. She said, \"You can bounce the ducks, what is making lost. Let's try!\"\n",
      "\n",
      "Tom saw what it. \"\n",
      "\n",
      "Step 14720: Performing validation\n",
      "Learning rate: 0.000792\n"
     ]
    },
    {
     "data": {
      "application/vnd.jupyter.widget-view+json": {
       "model_id": "b0bf1f9f55a64bc692c6d744c4789b7c",
       "version_major": 2,
       "version_minor": 0
      },
      "text/plain": [
       "  0%|          | 0/16 [00:00<?, ?it/s]"
      ]
     },
     "metadata": {},
     "output_type": "display_data"
    },
    {
     "name": "stdout",
     "output_type": "stream",
     "text": [
      "Train loss: 0.9970\n",
      "Validation loss: 1.1342\n",
      "One day, a dog named Spot went to play with his friends. The dog wanted the dog is naughty. He did not want to play with his shoes.\n",
      "\n",
      "But the dog Water slides. He didn't like to play with Max. The dog will eat new and\n",
      "\n",
      "Step 14848: Performing validation\n",
      "Learning rate: 0.000791\n"
     ]
    },
    {
     "data": {
      "application/vnd.jupyter.widget-view+json": {
       "model_id": "62d893383b7f407c8cfaaea43854d3e1",
       "version_major": 2,
       "version_minor": 0
      },
      "text/plain": [
       "  0%|          | 0/16 [00:00<?, ?it/s]"
      ]
     },
     "metadata": {},
     "output_type": "display_data"
    },
    {
     "name": "stdout",
     "output_type": "stream",
     "text": [
      "Train loss: 1.4701\n",
      "Validation loss: 1.1193\n",
      "One day, a dog saying, The dog had a cat named Tom. Mia was very happy. Tom had a mine. Tom wanted the dog, but the dog had a dependable old cat after a duck. Tom did not move. Spot liked the cat. The cat\n",
      "\n",
      "Step 14976: Performing validation\n",
      "Learning rate: 0.000791\n"
     ]
    },
    {
     "data": {
      "application/vnd.jupyter.widget-view+json": {
       "model_id": "e83cdaba5013464dbc1e5f9c9d8e90c1",
       "version_major": 2,
       "version_minor": 0
      },
      "text/plain": [
       "  0%|          | 0/16 [00:00<?, ?it/s]"
      ]
     },
     "metadata": {},
     "output_type": "display_data"
    },
    {
     "name": "stdout",
     "output_type": "stream",
     "text": [
      "Train loss: 1.1406\n",
      "Validation loss: 1.1088\n",
      "One day, a dog named Tom went to the snowloo. Max saw a small sticks with the way. The truck said, \"We can swing!\" Sue saidThey both went to the school.\n",
      "\n",
      "George said, \"I want to go.\" The beetle was very\n",
      "\n",
      "Step 15104: Performing validation\n",
      "Learning rate: 0.000791\n"
     ]
    },
    {
     "data": {
      "application/vnd.jupyter.widget-view+json": {
       "model_id": "f47b0a96c71340199e1d23db66223c87",
       "version_major": 2,
       "version_minor": 0
      },
      "text/plain": [
       "  0%|          | 0/16 [00:00<?, ?it/s]"
      ]
     },
     "metadata": {},
     "output_type": "display_data"
    },
    {
     "name": "stdout",
     "output_type": "stream",
     "text": [
      "Train loss: 1.1115\n",
      "Validation loss: 1.1044\n",
      "One day, a dog named Max saw a voe. He was a bit kind and wanted to play with its tail. But he didn't want to have his toy he wanted to play with it. He tried to catch it too fast, but Max didn't let him\n",
      "\n",
      "Step 15232: Performing validation\n",
      "Learning rate: 0.000791\n"
     ]
    },
    {
     "data": {
      "application/vnd.jupyter.widget-view+json": {
       "model_id": "22b66bc382ef436e95aedf4874cc309d",
       "version_major": 2,
       "version_minor": 0
      },
      "text/plain": [
       "  0%|          | 0/16 [00:00<?, ?it/s]"
      ]
     },
     "metadata": {},
     "output_type": "display_data"
    },
    {
     "name": "stdout",
     "output_type": "stream",
     "text": [
      "Train loss: 1.2372\n",
      "Validation loss: 1.0938\n",
      "One day, a dog named Max found something special. The blood had a real stick that said no it wouldn't call for things. Max thought about it and they thought it was doing.\n",
      "\n",
      "\"Look, Tom, you're going to have a bad job before.\n",
      "\n",
      "Step 15360: Performing validation\n",
      "Learning rate: 0.000790\n"
     ]
    },
    {
     "data": {
      "application/vnd.jupyter.widget-view+json": {
       "model_id": "ac8ad51335584ec98bf96d152402df1d",
       "version_major": 2,
       "version_minor": 0
      },
      "text/plain": [
       "  0%|          | 0/16 [00:00<?, ?it/s]"
      ]
     },
     "metadata": {},
     "output_type": "display_data"
    },
    {
     "name": "stdout",
     "output_type": "stream",
     "text": [
      "Train loss: 1.3508\n",
      "Validation loss: 1.0850\n",
      "One day, a dog Pot. He always tried to run, and take it. But he decided to climb on a banana. One day, something strange happened. His eyes. He wanted to do it, but no one came outside. Suddenly, he got put something strange\n",
      "\n",
      "Step 15488: Performing validation\n",
      "Learning rate: 0.000790\n"
     ]
    },
    {
     "data": {
      "application/vnd.jupyter.widget-view+json": {
       "model_id": "0865464e6a3940969a0db9650e0714b4",
       "version_major": 2,
       "version_minor": 0
      },
      "text/plain": [
       "  0%|          | 0/16 [00:00<?, ?it/s]"
      ]
     },
     "metadata": {},
     "output_type": "display_data"
    },
    {
     "name": "stdout",
     "output_type": "stream",
     "text": [
      "Train loss: 1.1234\n",
      "Validation loss: 1.0891\n",
      "One day, a dog named Max went to go to the park. He saw a big tree that came across the ground - a big pond. a little birdz used it but no body wasn't have any before. Fanny really tried to catch it, but the v\n",
      "\n",
      "Step 15616: Performing validation\n",
      "Learning rate: 0.000790\n"
     ]
    },
    {
     "data": {
      "application/vnd.jupyter.widget-view+json": {
       "model_id": "c647e88933c04542b566e5d606c49703",
       "version_major": 2,
       "version_minor": 0
      },
      "text/plain": [
       "  0%|          | 0/16 [00:00<?, ?it/s]"
      ]
     },
     "metadata": {},
     "output_type": "display_data"
    },
    {
     "name": "stdout",
     "output_type": "stream",
     "text": [
      "Train loss: 1.1122\n",
      "Validation loss: 1.0830\n",
      "One day, a dog pears was playing with Tim and run. He saw a big horses and had no skin. The dog was very small. They ate food. The dog saw many colors and got stuck. The dog was very happy. Tim wanted to play with the\n",
      "\n",
      "Step 15744: Performing validation\n",
      "Learning rate: 0.000790\n"
     ]
    },
    {
     "data": {
      "application/vnd.jupyter.widget-view+json": {
       "model_id": "044057d55b574856860d0bbad571c81a",
       "version_major": 2,
       "version_minor": 0
      },
      "text/plain": [
       "  0%|          | 0/16 [00:00<?, ?it/s]"
      ]
     },
     "metadata": {},
     "output_type": "display_data"
    },
    {
     "name": "stdout",
     "output_type": "stream",
     "text": [
      "Train loss: 1.0743\n",
      "Validation loss: 1.0772\n",
      "One day, a dog named Spot fixes the ball and Bee. Spot to have a cat. Spot thinks it would blink. He runs to the dog and barks. Tommy was sad. He takes the bed. Spot they bloomed and Spot. Tom cried and hurt Tom\n",
      "\n",
      "Step 15872: Performing validation\n",
      "Learning rate: 0.000789\n"
     ]
    },
    {
     "data": {
      "application/vnd.jupyter.widget-view+json": {
       "model_id": "2702ca9a5ab34b37839e81496f1856dd",
       "version_major": 2,
       "version_minor": 0
      },
      "text/plain": [
       "  0%|          | 0/16 [00:00<?, ?it/s]"
      ]
     },
     "metadata": {},
     "output_type": "display_data"
    },
    {
     "name": "stdout",
     "output_type": "stream",
     "text": [
      "Train loss: 1.1154\n",
      "Validation loss: 1.0640\n",
      "One day, a dog named Susie found the sunset. Louise wanted to ride her mommy and dad. Bobie was her to spit the world and went. Blueie asked her dad and Dad, \"Why can we please?\" said she nodded. \n",
      "\n",
      "The\n",
      "\n",
      "Step 16000: Performing validation\n",
      "Learning rate: 0.000789\n"
     ]
    },
    {
     "data": {
      "application/vnd.jupyter.widget-view+json": {
       "model_id": "85c05fab5b1e42fea29fea7a676614f6",
       "version_major": 2,
       "version_minor": 0
      },
      "text/plain": [
       "  0%|          | 0/16 [00:00<?, ?it/s]"
      ]
     },
     "metadata": {},
     "output_type": "display_data"
    },
    {
     "name": "stdout",
     "output_type": "stream",
     "text": [
      "Train loss: 1.1008\n",
      "Validation loss: 1.0567\n",
      "One day, a dog named Spot became playing with Spot one lost his friends. Spot wanted to play happily, but Max got no. Spot didn't like how fast and he wanted to plant.\n",
      "\n",
      "One day, Max noticed that Spot found a little girl who was stuck\n",
      "\n",
      "Step 16128: Performing validation\n",
      "Learning rate: 0.000789\n"
     ]
    },
    {
     "data": {
      "application/vnd.jupyter.widget-view+json": {
       "model_id": "9b2da32c5b724e8a8173054d08889337",
       "version_major": 2,
       "version_minor": 0
      },
      "text/plain": [
       "  0%|          | 0/16 [00:00<?, ?it/s]"
      ]
     },
     "metadata": {},
     "output_type": "display_data"
    },
    {
     "name": "stdout",
     "output_type": "stream",
     "text": [
      "Train loss: 1.3228\n",
      "Validation loss: 1.0455\n",
      "One day, a dog named Max and Max went to the park. Max's favorite to play. Kitty was very happy and had a fun. Max and Max was a note. The arm was a toy. Max and a thoughtful guys asked Max, who would hear the torn\n",
      "\n",
      "Step 16256: Performing validation\n",
      "Learning rate: 0.000788\n"
     ]
    },
    {
     "data": {
      "application/vnd.jupyter.widget-view+json": {
       "model_id": "075fa6700a4947d3881f687b551646b3",
       "version_major": 2,
       "version_minor": 0
      },
      "text/plain": [
       "  0%|          | 0/16 [00:00<?, ?it/s]"
      ]
     },
     "metadata": {},
     "output_type": "display_data"
    },
    {
     "name": "stdout",
     "output_type": "stream",
     "text": [
      "Train loss: 1.2831\n",
      "Validation loss: 1.0423\n",
      "One day, a dog named Blue went to a ride. Sammy loved to play with his friends and run fast.\n",
      "\n",
      "Spot and Max were both very worried. He had lost his eyes cat and wanted to lose his friend and clean up. They saw a dog and a\n",
      "\n",
      "Step 16384: Performing validation\n",
      "Learning rate: 0.000788\n"
     ]
    },
    {
     "data": {
      "application/vnd.jupyter.widget-view+json": {
       "model_id": "e6d9a93d9704411d869dc965273768b1",
       "version_major": 2,
       "version_minor": 0
      },
      "text/plain": [
       "  0%|          | 0/16 [00:00<?, ?it/s]"
      ]
     },
     "metadata": {},
     "output_type": "display_data"
    },
    {
     "name": "stdout",
     "output_type": "stream",
     "text": [
      "Train loss: 1.1770\n",
      "Validation loss: 1.0320\n",
      "One day, a dog named Spot-bye, forth with a small dog named Spot. Spot shared a lot of snowballs and a cat. Spot liked to play on a good ball, soldiers. One day, could, Spot and Spot went. The cat spun around and\n",
      "\n",
      "Step 16512: Performing validation\n",
      "Learning rate: 0.000788\n"
     ]
    },
    {
     "data": {
      "application/vnd.jupyter.widget-view+json": {
       "model_id": "7d0b7f12868946b89728cab23942c4b7",
       "version_major": 2,
       "version_minor": 0
      },
      "text/plain": [
       "  0%|          | 0/16 [00:00<?, ?it/s]"
      ]
     },
     "metadata": {},
     "output_type": "display_data"
    },
    {
     "name": "stdout",
     "output_type": "stream",
     "text": [
      "Train loss: 1.0806\n",
      "Validation loss: 1.0255\n",
      "One day, a dog named Sam and his sister were playing in the park. They did not want to playluddle there next time They decided to play who was very wise anymore.\n",
      "\n",
      "Sam barked at the paces and climbed down and pushed angrily. He ate\n",
      "\n",
      "Step 16640: Performing validation\n",
      "Learning rate: 0.000787\n"
     ]
    },
    {
     "data": {
      "application/vnd.jupyter.widget-view+json": {
       "model_id": "1dd1998a19a64933a5e5bf2f143f1b84",
       "version_major": 2,
       "version_minor": 0
      },
      "text/plain": [
       "  0%|          | 0/16 [00:00<?, ?it/s]"
      ]
     },
     "metadata": {},
     "output_type": "display_data"
    },
    {
     "name": "stdout",
     "output_type": "stream",
     "text": [
      "Train loss: 1.2462\n",
      "Validation loss: 1.0196\n",
      "One day, a dog named Ellie had a house. She liked to play with Boo. In the soft square, and. Mittithering and Betty could collar. She would quarrel her sandwich to show her friends.\n",
      "\n",
      "True said, \"Let's make your cat.\" D\n",
      "\n",
      "Step 16768: Performing validation\n",
      "Learning rate: 0.000787\n"
     ]
    },
    {
     "data": {
      "application/vnd.jupyter.widget-view+json": {
       "model_id": "22a0f08125d84bd6acaad93d64dc8b62",
       "version_major": 2,
       "version_minor": 0
      },
      "text/plain": [
       "  0%|          | 0/16 [00:00<?, ?it/s]"
      ]
     },
     "metadata": {},
     "output_type": "display_data"
    },
    {
     "name": "stdout",
     "output_type": "stream",
     "text": [
      "Train loss: 1.0338\n",
      "Validation loss: 1.0288\n",
      "One day, a dog named Max went for a walk with her friend, Max found a big box of Marie. He wanted to look out the box and slides on it. \"Hey, Tom! I can help you!\" Sam said. He laughed and ran to Max's\n",
      "\n",
      "Step 16896: Performing validation\n",
      "Learning rate: 0.000787\n"
     ]
    },
    {
     "data": {
      "application/vnd.jupyter.widget-view+json": {
       "model_id": "6f5f544e288b46c8960db9493b9697a9",
       "version_major": 2,
       "version_minor": 0
      },
      "text/plain": [
       "  0%|          | 0/16 [00:00<?, ?it/s]"
      ]
     },
     "metadata": {},
     "output_type": "display_data"
    },
    {
     "name": "stdout",
     "output_type": "stream",
     "text": [
      "Train loss: 1.3724\n",
      "Validation loss: 1.0310\n",
      "One day, a dog named Spot loved to play with their toy cars. He had a red hat, red butterfly that dad was happy. Spot was very happy, but Spot was Tom thought he had a curtain. Tom was big blue and also twirled with a cart that\n",
      "\n",
      "Step 17024: Performing validation\n",
      "Learning rate: 0.000786\n"
     ]
    },
    {
     "data": {
      "application/vnd.jupyter.widget-view+json": {
       "model_id": "2dc5dacf2f204178aec893562817d963",
       "version_major": 2,
       "version_minor": 0
      },
      "text/plain": [
       "  0%|          | 0/16 [00:00<?, ?it/s]"
      ]
     },
     "metadata": {},
     "output_type": "display_data"
    },
    {
     "name": "stdout",
     "output_type": "stream",
     "text": [
      "Train loss: 1.0794\n",
      "Validation loss: 1.0104\n",
      "One day, a dog named Spot found not swimming in the park. Sam was lonely and wanted to play with the game. He said, \"Benny, look at the slide and act like bugs.\"\n",
      "\n",
      "Spot said, \"Don't worry, I doctor. The\n",
      "\n",
      "Step 17152: Performing validation\n",
      "Learning rate: 0.000786\n"
     ]
    },
    {
     "data": {
      "application/vnd.jupyter.widget-view+json": {
       "model_id": "fbcdeb1938944a9d84475674827da8d1",
       "version_major": 2,
       "version_minor": 0
      },
      "text/plain": [
       "  0%|          | 0/16 [00:00<?, ?it/s]"
      ]
     },
     "metadata": {},
     "output_type": "display_data"
    },
    {
     "name": "stdout",
     "output_type": "stream",
     "text": [
      "Train loss: 1.2079\n",
      "Validation loss: 1.0012\n",
      "One day, a dog named Spot had a toyman, not fast. Spot liked to chew on a plan to show his friends. He remembered it would drink leaves and ticket once calming.\n",
      "\n",
      "One day, Spot's friend, Tim saw him playing in the road when\n",
      "\n",
      "Step 17280: Performing validation\n",
      "Learning rate: 0.000786\n"
     ]
    },
    {
     "data": {
      "application/vnd.jupyter.widget-view+json": {
       "model_id": "b41e6f07837c41328d94ca68e6afd178",
       "version_major": 2,
       "version_minor": 0
      },
      "text/plain": [
       "  0%|          | 0/16 [00:00<?, ?it/s]"
      ]
     },
     "metadata": {},
     "output_type": "display_data"
    },
    {
     "name": "stdout",
     "output_type": "stream",
     "text": [
      "Train loss: 1.0371\n",
      "Validation loss: 0.9937\n",
      "One day, a dog named Brownie was very hungry. She was walking in the park. He liked to look for walks in the park and find something special. Suddenly, Eli heard bed. He looked around, \"Hi, m vi! I am Lily!\" she\n",
      "\n",
      "Step 17408: Performing validation\n",
      "Learning rate: 0.000785\n"
     ]
    },
    {
     "data": {
      "application/vnd.jupyter.widget-view+json": {
       "model_id": "a5d5560833f241bcabe31110180ce789",
       "version_major": 2,
       "version_minor": 0
      },
      "text/plain": [
       "  0%|          | 0/16 [00:00<?, ?it/s]"
      ]
     },
     "metadata": {},
     "output_type": "display_data"
    },
    {
     "name": "stdout",
     "output_type": "stream",
     "text": [
      "Train loss: 0.8592\n",
      "Validation loss: 0.9824\n",
      "One day, a dog named Spot went for an adventure. They were driving at the quiet. They visited the park and the animals very, where they couldn't.\n",
      "\n",
      "Spot saw a funny fish hopping up and jumped the birds. The sun was very beautiful and had carrots\n",
      "\n",
      "Step 17536: Performing validation\n",
      "Learning rate: 0.000785\n"
     ]
    },
    {
     "data": {
      "application/vnd.jupyter.widget-view+json": {
       "model_id": "0ceb869bc4354ca4b34d2bd36ae9eceb",
       "version_major": 2,
       "version_minor": 0
      },
      "text/plain": [
       "  0%|          | 0/16 [00:00<?, ?it/s]"
      ]
     },
     "metadata": {},
     "output_type": "display_data"
    },
    {
     "name": "stdout",
     "output_type": "stream",
     "text": [
      "Train loss: 1.0884\n",
      "Validation loss: 0.9783\n",
      "One day, a dog named Spot went to the park with some flowers. Spot and Kim smiled and said, \"A little cat. They might go to the park to the park and have fun. One day, hear safety. Spot saw a big tree with lots of coal\n",
      "\n",
      "Step 17664: Performing validation\n",
      "Learning rate: 0.000785\n"
     ]
    },
    {
     "data": {
      "application/vnd.jupyter.widget-view+json": {
       "model_id": "8b674299c8974a8296ffbcf242dd1358",
       "version_major": 2,
       "version_minor": 0
      },
      "text/plain": [
       "  0%|          | 0/16 [00:00<?, ?it/s]"
      ]
     },
     "metadata": {},
     "output_type": "display_data"
    },
    {
     "name": "stdout",
     "output_type": "stream",
     "text": [
      "Train loss: 1.1481\n",
      "Validation loss: 0.9903\n",
      "One day, a dog found a thin fence near the hole. The dog was alligator. The dog wanted to catch the fur too.\n",
      "\n",
      "So, the dog barked the dog know what some money was!\" The dog did not want to do. The dog was\n",
      "\n",
      "Step 17792: Performing validation\n",
      "Learning rate: 0.000784\n"
     ]
    },
    {
     "data": {
      "application/vnd.jupyter.widget-view+json": {
       "model_id": "325b81daaea145bca2f187f85b7457e6",
       "version_major": 2,
       "version_minor": 0
      },
      "text/plain": [
       "  0%|          | 0/16 [00:00<?, ?it/s]"
      ]
     },
     "metadata": {},
     "output_type": "display_data"
    },
    {
     "name": "stdout",
     "output_type": "stream",
     "text": [
      "Train loss: 1.0958\n",
      "Validation loss: 0.9736\n",
      "One day, a dog named Leo went for a walk. They left arrows, and â€™s mom said Fluffy, â€œLet's go to the park together, and play together. We go on friends. I want to go on your\n",
      "\n",
      "Step 17920: Performing validation\n",
      "Learning rate: 0.000784\n"
     ]
    },
    {
     "data": {
      "application/vnd.jupyter.widget-view+json": {
       "model_id": "c8b966dff44c4f11958c48dd1ab7b424",
       "version_major": 2,
       "version_minor": 0
      },
      "text/plain": [
       "  0%|          | 0/16 [00:00<?, ?it/s]"
      ]
     },
     "metadata": {},
     "output_type": "display_data"
    },
    {
     "name": "stdout",
     "output_type": "stream",
     "text": [
      "Train loss: 1.0852\n",
      "Validation loss: 0.9666\n",
      "One day, a dog named Spot wanted to explore too new. He loves his mom and dad his joke. They all looked really hard for him.\n",
      "\n",
      "One day, Spot was in the park. He saw a quarrel on it. Spot wanted to play with it,\n",
      "\n",
      "Step 18048: Performing validation\n",
      "Learning rate: 0.000784\n"
     ]
    },
    {
     "data": {
      "application/vnd.jupyter.widget-view+json": {
       "model_id": "7391f81c10ed41638f073865d8253cd8",
       "version_major": 2,
       "version_minor": 0
      },
      "text/plain": [
       "  0%|          | 0/16 [00:00<?, ?it/s]"
      ]
     },
     "metadata": {},
     "output_type": "display_data"
    },
    {
     "name": "stdout",
     "output_type": "stream",
     "text": [
      "Train loss: 1.0651\n",
      "Validation loss: 0.9636\n",
      "One day, a dog was playing with a game in the backyard. He had a very special luxury home from reading a big blue bike. He was curious about the hoop so he put the ball to the ball around the park. \n",
      "\n",
      "The automobile was sad and wanted\n",
      "\n",
      "Step 18176: Performing validation\n",
      "Learning rate: 0.000783\n"
     ]
    },
    {
     "data": {
      "application/vnd.jupyter.widget-view+json": {
       "model_id": "3a57750c98d045b0ba1fbcfd0ded19c7",
       "version_major": 2,
       "version_minor": 0
      },
      "text/plain": [
       "  0%|          | 0/16 [00:00<?, ?it/s]"
      ]
     },
     "metadata": {},
     "output_type": "display_data"
    },
    {
     "name": "stdout",
     "output_type": "stream",
     "text": [
      "Train loss: 1.0857\n",
      "Validation loss: 0.9554\n",
      "One day, a dog found a dog named Spot who was tired. He asked his owner, \"Let's start swinging high up high in the itch and fast!\" Tom said, \"Okay, little mouse! I will be careful.\" They bit but and kept walking.\n",
      "\n",
      "\n",
      "Step 18304: Performing validation\n",
      "Learning rate: 0.000783\n"
     ]
    },
    {
     "data": {
      "application/vnd.jupyter.widget-view+json": {
       "model_id": "8c1c0dbe7a324fa9b6d6ddf52a6fe847",
       "version_major": 2,
       "version_minor": 0
      },
      "text/plain": [
       "  0%|          | 0/16 [00:00<?, ?it/s]"
      ]
     },
     "metadata": {},
     "output_type": "display_data"
    },
    {
     "name": "stdout",
     "output_type": "stream",
     "text": [
      "Train loss: 1.0653\n",
      "Validation loss: 0.9447\n",
      "One day, a dog named Max went to the park with his owner. Max was very happy and excited his friends. Max saw a big tree with many apples. Max stopped to play a snake to Max. Max saw, fluffy squirrel. Under the tree, Max got scared\n",
      "\n",
      "Step 18432: Performing validation\n",
      "Learning rate: 0.000783\n"
     ]
    },
    {
     "data": {
      "application/vnd.jupyter.widget-view+json": {
       "model_id": "12273b63de344abfad9bd5e3932901c1",
       "version_major": 2,
       "version_minor": 0
      },
      "text/plain": [
       "  0%|          | 0/16 [00:00<?, ?it/s]"
      ]
     },
     "metadata": {},
     "output_type": "display_data"
    },
    {
     "name": "stdout",
     "output_type": "stream",
     "text": [
      "Train loss: 1.1524\n",
      "Validation loss: 0.9426\n",
      "One day, a dog named Spot came over to the living room. Spot was shy and didn't know what to do. Spot tried to play, but he missed not tidy. Spot scag his tail and yawned loudly.\n",
      "\n",
      "Spot swam in the mud,\n",
      "\n",
      "Step 18560: Performing validation\n",
      "Learning rate: 0.000782\n"
     ]
    },
    {
     "data": {
      "application/vnd.jupyter.widget-view+json": {
       "model_id": "677f24c907374fcf80d4e955ec94f703",
       "version_major": 2,
       "version_minor": 0
      },
      "text/plain": [
       "  0%|          | 0/16 [00:00<?, ?it/s]"
      ]
     },
     "metadata": {},
     "output_type": "display_data"
    },
    {
     "name": "stdout",
     "output_type": "stream",
     "text": [
      "Train loss: 1.0047\n",
      "Validation loss: 0.9379\n",
      "One day, a dog named Spot was very sad. He wanted to play with the big toy truck too. He was scared of the shelter open.\n",
      "\n",
      "Spot's owner saw the cable in the ground. He started to jump and shout. Sam was scared and sad.\n",
      "\n",
      "Step 18688: Performing validation\n",
      "Learning rate: 0.000782\n"
     ]
    },
    {
     "data": {
      "application/vnd.jupyter.widget-view+json": {
       "model_id": "a590132a066f4b72bcc46746756a066f",
       "version_major": 2,
       "version_minor": 0
      },
      "text/plain": [
       "  0%|          | 0/16 [00:00<?, ?it/s]"
      ]
     },
     "metadata": {},
     "output_type": "display_data"
    },
    {
     "name": "stdout",
     "output_type": "stream",
     "text": [
      "Train loss: 0.9844\n",
      "Validation loss: 0.9380\n",
      "One day, a dog came to an wonderful girl. She was having so much fun. Suddenly she came walking by the park. It was a hole by Pip! She remembered that all kinds of things she had never been forth before.Donâ€œDonâ€\n",
      "\n",
      "Step 18816: Performing validation\n",
      "Learning rate: 0.000781\n"
     ]
    },
    {
     "data": {
      "application/vnd.jupyter.widget-view+json": {
       "model_id": "b7081a3ccb714b868e79d6267c4a8acc",
       "version_major": 2,
       "version_minor": 0
      },
      "text/plain": [
       "  0%|          | 0/16 [00:00<?, ?it/s]"
      ]
     },
     "metadata": {},
     "output_type": "display_data"
    },
    {
     "name": "stdout",
     "output_type": "stream",
     "text": [
      "Train loss: 1.1202\n",
      "Validation loss: 0.9350\n",
      "One day, a dog named Max wanted to improve his mustache, so he took Max new toy for aester, so he asked him to fix his phone, a toy train, a man.\n",
      "\n",
      "They hid in a big house, jumping behind a towel so it looked\n",
      "\n",
      "Step 18944: Performing validation\n",
      "Learning rate: 0.000781\n"
     ]
    },
    {
     "data": {
      "application/vnd.jupyter.widget-view+json": {
       "model_id": "14b07a1987a6400aa04bd12465a4508f",
       "version_major": 2,
       "version_minor": 0
      },
      "text/plain": [
       "  0%|          | 0/16 [00:00<?, ?it/s]"
      ]
     },
     "metadata": {},
     "output_type": "display_data"
    },
    {
     "name": "stdout",
     "output_type": "stream",
     "text": [
      "Train loss: 1.0341\n",
      "Validation loss: 0.9290\n",
      "One day, a dog's hand pro connecting their wings. He was picking and cool.\n",
      "\n",
      "The dog was so big and red. The dog wanted to pretend to be his friends. He asked him if he would not take a game if he could play with.\n",
      "\n",
      "\n",
      "Step 19072: Performing validation\n",
      "Learning rate: 0.000781\n"
     ]
    },
    {
     "data": {
      "application/vnd.jupyter.widget-view+json": {
       "model_id": "799a05e88d2a42819a81009e8f567a2f",
       "version_major": 2,
       "version_minor": 0
      },
      "text/plain": [
       "  0%|          | 0/16 [00:00<?, ?it/s]"
      ]
     },
     "metadata": {},
     "output_type": "display_data"
    },
    {
     "name": "stdout",
     "output_type": "stream",
     "text": [
      "Train loss: 1.0340\n",
      "Validation loss: 0.9279\n",
      "One day, a dog named Max went for a walk. He took Max everywhere and put on his twirl through the bed. Max was very cold. He kept looking into the bed when he heard another noise. Suddenly, a loud noise appeared in relief. Max didn't\n",
      "\n",
      "Step 19200: Performing validation\n",
      "Learning rate: 0.000780\n"
     ]
    },
    {
     "data": {
      "application/vnd.jupyter.widget-view+json": {
       "model_id": "41541347596c4174b95b8536ef94675c",
       "version_major": 2,
       "version_minor": 0
      },
      "text/plain": [
       "  0%|          | 0/16 [00:00<?, ?it/s]"
      ]
     },
     "metadata": {},
     "output_type": "display_data"
    },
    {
     "name": "stdout",
     "output_type": "stream",
     "text": [
      "Train loss: 1.2294\n",
      "Validation loss: 0.9174\n",
      "One day, a dog named Spot, and a saw a fence. Spot was not friendly. He wanted to carry it. Spot took Max inside.\n",
      "\n",
      "Spot's mom was scared and yapped. She said they should come inside and play. Spot was angry and went\n",
      "\n",
      "Step 19328: Performing validation\n",
      "Learning rate: 0.000780\n"
     ]
    },
    {
     "data": {
      "application/vnd.jupyter.widget-view+json": {
       "model_id": "4d386542188a48ae89c836c165789d00",
       "version_major": 2,
       "version_minor": 0
      },
      "text/plain": [
       "  0%|          | 0/16 [00:00<?, ?it/s]"
      ]
     },
     "metadata": {},
     "output_type": "display_data"
    },
    {
     "name": "stdout",
     "output_type": "stream",
     "text": [
      "Train loss: 0.8906\n",
      "Validation loss: 0.9101\n",
      "One day, a dog named Max went away the park. Max was hungry and wanted to play, but the fog was too cold. Max had an idea. He gave the sun on and took out. Tim and his friend, a cat with licked the big tail.\n",
      "\n",
      "Step 19456: Performing validation\n",
      "Learning rate: 0.000779\n"
     ]
    },
    {
     "data": {
      "application/vnd.jupyter.widget-view+json": {
       "model_id": "bbfc14321ca647af86ccb2fd654fbffb",
       "version_major": 2,
       "version_minor": 0
      },
      "text/plain": [
       "  0%|          | 0/16 [00:00<?, ?it/s]"
      ]
     },
     "metadata": {},
     "output_type": "display_data"
    },
    {
     "name": "stdout",
     "output_type": "stream",
     "text": [
      "Train loss: 1.0416\n",
      "Validation loss: 0.9061\n",
      "One day, a dog went for a walk. The dog saw a lake. The cat was very happy. Suddenly, the dog of the dog saw a great spot on its mouth. The dog was scared, but he wanted it.\n",
      "\n",
      "The dog ran to the dog\n",
      "\n",
      "Step 19584: Performing validation\n",
      "Learning rate: 0.000779\n"
     ]
    },
    {
     "data": {
      "application/vnd.jupyter.widget-view+json": {
       "model_id": "f4f8d23b6c6d4984951c36534965190a",
       "version_major": 2,
       "version_minor": 0
      },
      "text/plain": [
       "  0%|          | 0/16 [00:00<?, ?it/s]"
      ]
     },
     "metadata": {},
     "output_type": "display_data"
    },
    {
     "name": "stdout",
     "output_type": "stream",
     "text": [
      "Train loss: 1.0852\n",
      "Validation loss: 0.9126\n",
      "One day, a dog was feeling dizzumpy. He had searching for hours when he met a little girl telling the girl angry face out, but all the little boy was sitting in charge. The girl saw a big dog with a toy. The little boy was deaf and said\n",
      "\n",
      "Step 19712: Performing validation\n",
      "Learning rate: 0.000779\n"
     ]
    },
    {
     "data": {
      "application/vnd.jupyter.widget-view+json": {
       "model_id": "edbf18587c8c4eb39bdcb9fca5893933",
       "version_major": 2,
       "version_minor": 0
      },
      "text/plain": [
       "  0%|          | 0/16 [00:00<?, ?it/s]"
      ]
     },
     "metadata": {},
     "output_type": "display_data"
    },
    {
     "name": "stdout",
     "output_type": "stream",
     "text": [
      "Train loss: 1.0053\n",
      "Validation loss: 0.9029\n",
      "One day, a dog named Spot went to the park with his friends. He liked to run and play every day. Spot had to go on the swings and make a big circle.\n",
      "\n",
      "Spot saw a big stick on the rock and swan. The rock stuck the\n",
      "\n",
      "Step 19840: Performing validation\n",
      "Learning rate: 0.000778\n"
     ]
    },
    {
     "data": {
      "application/vnd.jupyter.widget-view+json": {
       "model_id": "5a72a1fbdd494889bf560136311e53c5",
       "version_major": 2,
       "version_minor": 0
      },
      "text/plain": [
       "  0%|          | 0/16 [00:00<?, ?it/s]"
      ]
     },
     "metadata": {},
     "output_type": "display_data"
    },
    {
     "name": "stdout",
     "output_type": "stream",
     "text": [
      "Train loss: 0.8958\n",
      "Validation loss: 0.8979\n",
      "One day, a dog named Max wanted to play outside. Max very bossy and he started to fall asleep. He said to himself, \"Do you want to give me?\"\n",
      "\n",
      "Max was worried for the cold breeze to push Lily's face and tried to get the\n",
      "\n",
      "Step 19968: Performing validation\n",
      "Learning rate: 0.000778\n"
     ]
    },
    {
     "data": {
      "application/vnd.jupyter.widget-view+json": {
       "model_id": "bf9ebf2ac2cf4a8893ad4ed2296da6e6",
       "version_major": 2,
       "version_minor": 0
      },
      "text/plain": [
       "  0%|          | 0/16 [00:00<?, ?it/s]"
      ]
     },
     "metadata": {},
     "output_type": "display_data"
    },
    {
     "name": "stdout",
     "output_type": "stream",
     "text": [
      "Train loss: 0.8999\n",
      "Validation loss: 0.9026\n",
      "One day, a dog named Spot was playing with the ball. Spot was a reliable dog and liked to fight until anyone had flowers in the house. Spot was very useful that last time to play with Mia and play with something special, and he loved Spot.\n",
      "\n",
      "One\n",
      "\n",
      "Step 20096: Performing validation\n",
      "Learning rate: 0.000777\n"
     ]
    },
    {
     "data": {
      "application/vnd.jupyter.widget-view+json": {
       "model_id": "0455ef750e354f76bd81df676e7440a4",
       "version_major": 2,
       "version_minor": 0
      },
      "text/plain": [
       "  0%|          | 0/16 [00:00<?, ?it/s]"
      ]
     },
     "metadata": {},
     "output_type": "display_data"
    },
    {
     "name": "stdout",
     "output_type": "stream",
     "text": [
      "Train loss: 0.9400\n",
      "Validation loss: 0.8948\n",
      "One day, a dog named Samuel and his owner went for a walk. They saw many things through a hole. Suddenly, a big cat saw an ashtray and hopped out. This time to see a big dog called its name. The Jenny and her friends were sad\n",
      "\n",
      "Step 20224: Performing validation\n",
      "Learning rate: 0.000777\n"
     ]
    },
    {
     "data": {
      "application/vnd.jupyter.widget-view+json": {
       "model_id": "2ecc076f0b4a415b827981905aae7c19",
       "version_major": 2,
       "version_minor": 0
      },
      "text/plain": [
       "  0%|          | 0/16 [00:00<?, ?it/s]"
      ]
     },
     "metadata": {},
     "output_type": "display_data"
    },
    {
     "name": "stdout",
     "output_type": "stream",
     "text": [
      "Train loss: 0.8707\n",
      "Validation loss: 0.8869\n",
      "One day, a dog named Spot found a peaches in the air. He wanted to play with it but he had some brave ball that he was having a funny idea. He ran up to comfort him and grabbed the ball. He was scared and started to cry.\n",
      "\n",
      "\n",
      "Step 20352: Performing validation\n",
      "Learning rate: 0.000777\n"
     ]
    },
    {
     "data": {
      "application/vnd.jupyter.widget-view+json": {
       "model_id": "5c11a8a99ead492b875961b627911037",
       "version_major": 2,
       "version_minor": 0
      },
      "text/plain": [
       "  0%|          | 0/16 [00:00<?, ?it/s]"
      ]
     },
     "metadata": {},
     "output_type": "display_data"
    },
    {
     "name": "stdout",
     "output_type": "stream",
     "text": [
      "Train loss: 1.0018\n",
      "Validation loss: 0.8849\n",
      "One day, a dog named Max went for a walk. Max wanted to see his friend, Sue and Sam started to hide behind. Max was very excited and shouted at Sue. \n",
      "\n",
      "Sue reached up close and grabbed Sue. \"Oh no, you ruined the\n",
      "\n",
      "Step 20480: Performing validation\n",
      "Learning rate: 0.000776\n"
     ]
    },
    {
     "data": {
      "application/vnd.jupyter.widget-view+json": {
       "model_id": "b2f933bd9c8e44fc8317ef5b3078517e",
       "version_major": 2,
       "version_minor": 0
      },
      "text/plain": [
       "  0%|          | 0/16 [00:00<?, ?it/s]"
      ]
     },
     "metadata": {},
     "output_type": "display_data"
    },
    {
     "name": "stdout",
     "output_type": "stream",
     "text": [
      "Train loss: 0.8217\n",
      "Validation loss: 0.8777\n",
      "One day, a dog named Sara wiped her toys out. She played with wilries, spade, and fruits. She was very happy.\n",
      " She looked around, making game. She saw a big piece of water: a big case finally found a superhero in the forest\n",
      "\n",
      "Step 20608: Performing validation\n",
      "Learning rate: 0.000776\n"
     ]
    },
    {
     "data": {
      "application/vnd.jupyter.widget-view+json": {
       "model_id": "0d4cd6277eed4977a506e077e67bafb4",
       "version_major": 2,
       "version_minor": 0
      },
      "text/plain": [
       "  0%|          | 0/16 [00:00<?, ?it/s]"
      ]
     },
     "metadata": {},
     "output_type": "display_data"
    },
    {
     "name": "stdout",
     "output_type": "stream",
     "text": [
      "Train loss: 1.0441\n",
      "Validation loss: 0.8734\n",
      "One day, a dog named Max went to the park with his friends. Max had a toy car that was shiny and was very interesting. Max was very excited to escape, but he saw the best one on a tree. He thought it would be fun to see a lot\n",
      "\n",
      "Step 20736: Performing validation\n",
      "Learning rate: 0.000775\n"
     ]
    },
    {
     "data": {
      "application/vnd.jupyter.widget-view+json": {
       "model_id": "14817dc18a9d417baec23ac53eebb1c7",
       "version_major": 2,
       "version_minor": 0
      },
      "text/plain": [
       "  0%|          | 0/16 [00:00<?, ?it/s]"
      ]
     },
     "metadata": {},
     "output_type": "display_data"
    },
    {
     "name": "stdout",
     "output_type": "stream",
     "text": [
      "Train loss: 1.1279\n",
      "Validation loss: 0.8701\n",
      "One day, a dog named Max went for a walk. He ran down the street and drove down the street. Max watched soon as he finally came out in a sun. He ran down the darkness when Max set, theOnce he came to a big dog. The dog\n",
      "\n",
      "Step 20864: Performing validation\n",
      "Learning rate: 0.000775\n"
     ]
    },
    {
     "data": {
      "application/vnd.jupyter.widget-view+json": {
       "model_id": "503886fc1deb45609a222884ec3b9959",
       "version_major": 2,
       "version_minor": 0
      },
      "text/plain": [
       "  0%|          | 0/16 [00:00<?, ?it/s]"
      ]
     },
     "metadata": {},
     "output_type": "display_data"
    },
    {
     "name": "stdout",
     "output_type": "stream",
     "text": [
      "Train loss: 1.1401\n",
      "Validation loss: 0.8675\n",
      "One day, a dog named Whiskers did not like to play. Whiskers was a band spot of flowers that he liked to play with. Snowy liked to pick out a banana, and he worked to fold it. Fin was very happy and told his mom\n",
      "\n",
      "Step 20992: Performing validation\n",
      "Learning rate: 0.000774\n"
     ]
    },
    {
     "data": {
      "application/vnd.jupyter.widget-view+json": {
       "model_id": "0e3d99d0ee7248a684d3654570decb5c",
       "version_major": 2,
       "version_minor": 0
      },
      "text/plain": [
       "  0%|          | 0/16 [00:00<?, ?it/s]"
      ]
     },
     "metadata": {},
     "output_type": "display_data"
    },
    {
     "name": "stdout",
     "output_type": "stream",
     "text": [
      "Train loss: 1.0487\n",
      "Validation loss: 0.8624\n",
      "One day, a dog named Spot went to her mom's house. Spot came very busy. He saw Lily's window in the field. He asked her mom to help her find her!\n",
      "\n",
      "Mom said Spot, \"Fis Sofia, Spot. I want to\n",
      "\n",
      "Step 21120: Performing validation\n",
      "Learning rate: 0.000774\n"
     ]
    },
    {
     "data": {
      "application/vnd.jupyter.widget-view+json": {
       "model_id": "7b55ed99f0d94a26bab7b316835aae3d",
       "version_major": 2,
       "version_minor": 0
      },
      "text/plain": [
       "  0%|          | 0/16 [00:00<?, ?it/s]"
      ]
     },
     "metadata": {},
     "output_type": "display_data"
    },
    {
     "name": "stdout",
     "output_type": "stream",
     "text": [
      "Train loss: 0.9935\n",
      "Validation loss: 0.8565\n",
      "One day, a dog went outside. He saw a big tree and put it in the road. He wanted to jump. But he was nervous. He had a way to rest. All of a sudden, he pulled out the top. He was too small to climb over\n",
      "\n",
      "Step 21248: Performing validation\n",
      "Learning rate: 0.000773\n"
     ]
    },
    {
     "data": {
      "application/vnd.jupyter.widget-view+json": {
       "model_id": "ddc92f91013b45cb8084122a8b41a601",
       "version_major": 2,
       "version_minor": 0
      },
      "text/plain": [
       "  0%|          | 0/16 [00:00<?, ?it/s]"
      ]
     },
     "metadata": {},
     "output_type": "display_data"
    },
    {
     "name": "stdout",
     "output_type": "stream",
     "text": [
      "Train loss: 0.9423\n",
      "Validation loss: 0.8500\n",
      "One day, a dog named Spot lived in the park. They had green rocks and green hair. Spot liked to play with big red flowers. Tom was full of shade.\n",
      "\n",
      "One afternoon, Spot saw a small cat. The cat looked very big and black. It\n",
      "\n",
      "Step 21376: Performing validation\n",
      "Learning rate: 0.000773\n"
     ]
    },
    {
     "data": {
      "application/vnd.jupyter.widget-view+json": {
       "model_id": "27ac417df7e448e6a002fcba4101f715",
       "version_major": 2,
       "version_minor": 0
      },
      "text/plain": [
       "  0%|          | 0/16 [00:00<?, ?it/s]"
      ]
     },
     "metadata": {},
     "output_type": "display_data"
    },
    {
     "name": "stdout",
     "output_type": "stream",
     "text": [
      "Train loss: 0.9399\n",
      "Validation loss: 0.8454\n",
      "One day, a dog named Spot went for a walk. Spot was careful not to use things. He met a reach the pitch. The laser was getting hard to shrink the bell. The leash fell from the handle and Max was sad.\n",
      "\n",
      "Spot didn't get up\n",
      "\n",
      "Step 21504: Performing validation\n",
      "Learning rate: 0.000772\n"
     ]
    },
    {
     "data": {
      "application/vnd.jupyter.widget-view+json": {
       "model_id": "3df5452d5b814c4eb3303b367e070950",
       "version_major": 2,
       "version_minor": 0
      },
      "text/plain": [
       "  0%|          | 0/16 [00:00<?, ?it/s]"
      ]
     },
     "metadata": {},
     "output_type": "display_data"
    },
    {
     "name": "stdout",
     "output_type": "stream",
     "text": [
      "Train loss: 0.9828\n",
      "Validation loss: 0.8414\n",
      "One day, a dog named Spot saw a big rescue. stand on the street and was very curious. Spot wanted the street even though. He started to spills his legs. Spot hid under the yard and lead his paw.\n",
      "\n",
      "Later, Spot felt lonely. It found\n",
      "\n",
      "Step 21632: Performing validation\n",
      "Learning rate: 0.000772\n"
     ]
    },
    {
     "data": {
      "application/vnd.jupyter.widget-view+json": {
       "model_id": "a557e76e4f064fdda5a167d86f877c61",
       "version_major": 2,
       "version_minor": 0
      },
      "text/plain": [
       "  0%|          | 0/16 [00:00<?, ?it/s]"
      ]
     },
     "metadata": {},
     "output_type": "display_data"
    },
    {
     "name": "stdout",
     "output_type": "stream",
     "text": [
      "Train loss: 0.9690\n",
      "Validation loss: 0.8399\n",
      "One day, a dog named Spot went for a walk. Spot saw a big red bag and wanted to eat it. He wanted to explore the house and find a fence.\n",
      "\n",
      "Mr. Blue wanted to find the green box. \"Let's open the box and see\n",
      "\n",
      "Step 21760: Performing validation\n",
      "Learning rate: 0.000772\n"
     ]
    },
    {
     "data": {
      "application/vnd.jupyter.widget-view+json": {
       "model_id": "912bd5584057420f814e595c7b893019",
       "version_major": 2,
       "version_minor": 0
      },
      "text/plain": [
       "  0%|          | 0/16 [00:00<?, ?it/s]"
      ]
     },
     "metadata": {},
     "output_type": "display_data"
    },
    {
     "name": "stdout",
     "output_type": "stream",
     "text": [
      "Train loss: 0.8765\n",
      "Validation loss: 0.8392\n",
      "One day, a dog named Spot went hopping in the park. Spot was having a butterfly. He was curious about peppery and wanted to be strong to talk to years.\n",
      "\n",
      "Max saw some scissors and closed his finger with water. Spot wondered what was happening and decided\n",
      "\n",
      "Step 21888: Performing validation\n",
      "Learning rate: 0.000771\n"
     ]
    },
    {
     "data": {
      "application/vnd.jupyter.widget-view+json": {
       "model_id": "4574b837feac4bd0bd62720ce2aa1fe1",
       "version_major": 2,
       "version_minor": 0
      },
      "text/plain": [
       "  0%|          | 0/16 [00:00<?, ?it/s]"
      ]
     },
     "metadata": {},
     "output_type": "display_data"
    },
    {
     "name": "stdout",
     "output_type": "stream",
     "text": [
      "Train loss: 1.0363\n",
      "Validation loss: 0.8357\n",
      "One day, a dog called Ben wanted to help his mom for lunch. His mom told him, \"Lily, that's a baby that will help me feel better, just for you help it.\" Ben was worried, but he was too careful.\n",
      "\n",
      "Ben came\n",
      "\n",
      "Step 22016: Performing validation\n",
      "Learning rate: 0.000771\n"
     ]
    },
    {
     "data": {
      "application/vnd.jupyter.widget-view+json": {
       "model_id": "abc2364cb8f84c44b67d662b5c2f4242",
       "version_major": 2,
       "version_minor": 0
      },
      "text/plain": [
       "  0%|          | 0/16 [00:00<?, ?it/s]"
      ]
     },
     "metadata": {},
     "output_type": "display_data"
    },
    {
     "name": "stdout",
     "output_type": "stream",
     "text": [
      "Train loss: 0.9193\n",
      "Validation loss: 0.8334\n",
      "One day, a dog named Spot was playing outside. His leg was big and could breathe apart. Spot was very nice and always slowed down.\n",
      "\n",
      "Spot started to feel jealous. He was determined to make his bow and practice. So, it practised and Tom felt\n",
      "\n",
      "Step 22144: Performing validation\n",
      "Learning rate: 0.000770\n"
     ]
    },
    {
     "data": {
      "application/vnd.jupyter.widget-view+json": {
       "model_id": "007e0e28d7614ad48eab3b589a812757",
       "version_major": 2,
       "version_minor": 0
      },
      "text/plain": [
       "  0%|          | 0/16 [00:00<?, ?it/s]"
      ]
     },
     "metadata": {},
     "output_type": "display_data"
    },
    {
     "name": "stdout",
     "output_type": "stream",
     "text": [
      "Train loss: 1.1280\n",
      "Validation loss: 0.8301\n",
      "One day, a dog named Spot sat on a cooler. He liked to jump, jump, jumped, and said, \"Spot, go, I come out! Let's nest!\"\n",
      "\n",
      "\"Yes, where do you want to win!\" is,\" the table particularly tall\n",
      "\n",
      "Step 22272: Performing validation\n",
      "Learning rate: 0.000770\n"
     ]
    },
    {
     "data": {
      "application/vnd.jupyter.widget-view+json": {
       "model_id": "68cbd44d28254dd5aeb4dd3a80917bd3",
       "version_major": 2,
       "version_minor": 0
      },
      "text/plain": [
       "  0%|          | 0/16 [00:00<?, ?it/s]"
      ]
     },
     "metadata": {},
     "output_type": "display_data"
    },
    {
     "name": "stdout",
     "output_type": "stream",
     "text": [
      "Train loss: 0.8412\n",
      "Validation loss: 0.8300\n",
      "One day, a dog named Spot and his dog, playing with their ears. Spot loved to play with his best friend, a cat, Luna. They would play and join Spot all day.\n",
      "\n",
      "One day, Spot found a picnic. He picked up a big pond\n",
      "\n",
      "Step 22400: Performing validation\n",
      "Learning rate: 0.000769\n"
     ]
    },
    {
     "data": {
      "application/vnd.jupyter.widget-view+json": {
       "model_id": "662413a254754c9f9b2b56e6a74c5ce9",
       "version_major": 2,
       "version_minor": 0
      },
      "text/plain": [
       "  0%|          | 0/16 [00:00<?, ?it/s]"
      ]
     },
     "metadata": {},
     "output_type": "display_data"
    },
    {
     "name": "stdout",
     "output_type": "stream",
     "text": [
      "Train loss: 0.8326\n",
      "Validation loss: 0.8279\n",
      "One day, a dog named Max went outside to play. He saw a little bird that was getting dark and bright. Max ran to the bird and picked up the bird, put the birdie on a bench. The bird flew down and landed out very fast. Max was\n",
      "\n",
      "Step 22528: Performing validation\n",
      "Learning rate: 0.000769\n"
     ]
    },
    {
     "data": {
      "application/vnd.jupyter.widget-view+json": {
       "model_id": "a9224c551a104755a2f33d031da60d3d",
       "version_major": 2,
       "version_minor": 0
      },
      "text/plain": [
       "  0%|          | 0/16 [00:00<?, ?it/s]"
      ]
     },
     "metadata": {},
     "output_type": "display_data"
    },
    {
     "name": "stdout",
     "output_type": "stream",
     "text": [
      "Train loss: 1.0453\n",
      "Validation loss: 0.8270\n",
      "One day, a dog was playing with his ball. The ball was getting caught in its garden. The puppy held it up and it was very soft. The ball liked to joke with the other ball. But then the wind blew away. It fell from a Splash of dirt\n",
      "\n",
      "Step 22656: Performing validation\n",
      "Learning rate: 0.000768\n"
     ]
    },
    {
     "data": {
      "application/vnd.jupyter.widget-view+json": {
       "model_id": "d9c3f4419c1347ed95af94ae42acf6c6",
       "version_major": 2,
       "version_minor": 0
      },
      "text/plain": [
       "  0%|          | 0/16 [00:00<?, ?it/s]"
      ]
     },
     "metadata": {},
     "output_type": "display_data"
    },
    {
     "name": "stdout",
     "output_type": "stream",
     "text": [
      "Train loss: 1.0813\n",
      "Validation loss: 0.8195\n",
      "One day, a dog named Mimi went to school. M lawn was big and red and had many pretty stared at it. Mimi liked feeling the wind in his hind sunglasses one. Her umbrella was so heavy that Mia wanted to play in the wind. She sat down\n",
      "\n",
      "Step 22784: Performing validation\n",
      "Learning rate: 0.000768\n"
     ]
    },
    {
     "data": {
      "application/vnd.jupyter.widget-view+json": {
       "model_id": "5e2e3f27c4074818b171270608c050b3",
       "version_major": 2,
       "version_minor": 0
      },
      "text/plain": [
       "  0%|          | 0/16 [00:00<?, ?it/s]"
      ]
     },
     "metadata": {},
     "output_type": "display_data"
    },
    {
     "name": "stdout",
     "output_type": "stream",
     "text": [
      "Train loss: 1.1032\n",
      "Validation loss: 0.8196\n",
      "One day, a dog named Max found a small hole. He was very happy because he liked to play and play his friends.\n",
      "\n",
      "Max found the hole in the hole. It was a hole. He wanted to point it up and see where it flew. So,\n",
      "\n",
      "Step 22912: Performing validation\n",
      "Learning rate: 0.000767\n"
     ]
    },
    {
     "data": {
      "application/vnd.jupyter.widget-view+json": {
       "model_id": "498ea1832ecf4b8a8e50117fbca7eba5",
       "version_major": 2,
       "version_minor": 0
      },
      "text/plain": [
       "  0%|          | 0/16 [00:00<?, ?it/s]"
      ]
     },
     "metadata": {},
     "output_type": "display_data"
    },
    {
     "name": "stdout",
     "output_type": "stream",
     "text": [
      "Train loss: 0.7947\n",
      "Validation loss: 0.8147\n",
      "One day, a dog named Tom was very poor. He liked to play with his dog, Max, came to visit. Max was slow for his owners, and they called patients, the other dog, and they would play together again.\n",
      "\n",
      "While Max was sleeping,\n",
      "\n",
      "Step 23040: Performing validation\n",
      "Learning rate: 0.000767\n"
     ]
    },
    {
     "data": {
      "application/vnd.jupyter.widget-view+json": {
       "model_id": "f78ec35f953a4f3c9b0c6e33c8c57d5f",
       "version_major": 2,
       "version_minor": 0
      },
      "text/plain": [
       "  0%|          | 0/16 [00:00<?, ?it/s]"
      ]
     },
     "metadata": {},
     "output_type": "display_data"
    },
    {
     "name": "stdout",
     "output_type": "stream",
     "text": [
      "Train loss: 0.8782\n",
      "Validation loss: 0.8138\n",
      "One day, a dog named Spot was hairy to remove from a big hill. He did not know that grass ever was very big and stick is better. Spot's owner, a grumpy dog, the dog named Spot, wanted to help him not like it.\n",
      "\n",
      "\n",
      "\n",
      "Step 23168: Performing validation\n",
      "Learning rate: 0.000766\n"
     ]
    },
    {
     "data": {
      "application/vnd.jupyter.widget-view+json": {
       "model_id": "cd2292f6f69143a080f6c44e69458e13",
       "version_major": 2,
       "version_minor": 0
      },
      "text/plain": [
       "  0%|          | 0/16 [00:00<?, ?it/s]"
      ]
     },
     "metadata": {},
     "output_type": "display_data"
    },
    {
     "name": "stdout",
     "output_type": "stream",
     "text": [
      "Train loss: 0.8984\n",
      "Validation loss: 0.8085\n",
      "One day, a dog named Spot went to the park. He wanted to pet the sunflower. And Spot saw an umbrella on the bench. He thought it was a fancy sweater.\n",
      "\n",
      "Spot happy to have the umbrella. He put on his umbrella and ran to the\n",
      "\n",
      "Step 23296: Performing validation\n",
      "Learning rate: 0.000766\n"
     ]
    },
    {
     "data": {
      "application/vnd.jupyter.widget-view+json": {
       "model_id": "42722e05ed224a28a3163688d71ea91b",
       "version_major": 2,
       "version_minor": 0
      },
      "text/plain": [
       "  0%|          | 0/16 [00:00<?, ?it/s]"
      ]
     },
     "metadata": {},
     "output_type": "display_data"
    },
    {
     "name": "stdout",
     "output_type": "stream",
     "text": [
      "Train loss: 0.9412\n",
      "Validation loss: 0.8041\n",
      "One day, a dog decided to take a nap. He went to a big garden and saw something else. He had never been the whole days before. Suddenly, he saw an evil bear! The bear said to the bear, \"I'm catch the bear!\" The bear\n",
      "\n",
      "Step 23424: Performing validation\n",
      "Learning rate: 0.000765\n"
     ]
    },
    {
     "data": {
      "application/vnd.jupyter.widget-view+json": {
       "model_id": "3db06d614cbc453e97a1bab23602e809",
       "version_major": 2,
       "version_minor": 0
      },
      "text/plain": [
       "  0%|          | 0/16 [00:00<?, ?it/s]"
      ]
     },
     "metadata": {},
     "output_type": "display_data"
    },
    {
     "name": "stdout",
     "output_type": "stream",
     "text": [
      "Train loss: 1.0159\n",
      "Validation loss: 0.8004\n",
      "One day, a dog named Max went for a walk in the park. He saw the big tree. Max wanted to climb up and slide down the ladder. He saw a tree and opened it. He was excited! Max wanted to climb it, so he went inside.\n",
      "\n",
      "Step 23552: Performing validation\n",
      "Learning rate: 0.000765\n"
     ]
    },
    {
     "data": {
      "application/vnd.jupyter.widget-view+json": {
       "model_id": "eee8bfaba1224c42a5f261aea781f8a1",
       "version_major": 2,
       "version_minor": 0
      },
      "text/plain": [
       "  0%|          | 0/16 [00:00<?, ?it/s]"
      ]
     },
     "metadata": {},
     "output_type": "display_data"
    },
    {
     "name": "stdout",
     "output_type": "stream",
     "text": [
      "Train loss: 0.8359\n",
      "Validation loss: 0.7962\n",
      "One day, a dog went outside. The dog saw a big gate. The gate was bag of water. The bucket had many colorful colors and birds inside. The neighbor and baby cat liked the sheet. It liked to swing up and down the wool.\n",
      "\n",
      "When the\n",
      "\n",
      "Step 23680: Performing validation\n",
      "Learning rate: 0.000764\n"
     ]
    },
    {
     "data": {
      "application/vnd.jupyter.widget-view+json": {
       "model_id": "8d5148708d2c4557b02437e8f090afc6",
       "version_major": 2,
       "version_minor": 0
      },
      "text/plain": [
       "  0%|          | 0/16 [00:00<?, ?it/s]"
      ]
     },
     "metadata": {},
     "output_type": "display_data"
    },
    {
     "name": "stdout",
     "output_type": "stream",
     "text": [
      "Train loss: 1.1858\n",
      "Validation loss: 0.8019\n",
      "One day, a dog named Max was feeling adventurous. He saw a raft and wanted to take a closer look. He was very quiet, so he couldn't see anything.\n",
      "\n",
      "Suddenly, he came to a big space boot. He was very scared and he wanted to\n",
      "\n",
      "Step 23808: Performing validation\n",
      "Learning rate: 0.000763\n"
     ]
    },
    {
     "data": {
      "application/vnd.jupyter.widget-view+json": {
       "model_id": "8a2ea44de0aa46519a4e2d51dfb3346b",
       "version_major": 2,
       "version_minor": 0
      },
      "text/plain": [
       "  0%|          | 0/16 [00:00<?, ?it/s]"
      ]
     },
     "metadata": {},
     "output_type": "display_data"
    },
    {
     "name": "stdout",
     "output_type": "stream",
     "text": [
      "Train loss: 0.9577\n",
      "Validation loss: 0.7960\n",
      "One day, a dog named Spot saw a little house. Spot went over for a place to cross. But Max felt sad because happy and still felt alone. Spot wanted to eat the house, so he started to feel scared. He looked under the couch and found a pillow\n",
      "\n",
      "Step 23936: Performing validation\n",
      "Learning rate: 0.000763\n"
     ]
    },
    {
     "data": {
      "application/vnd.jupyter.widget-view+json": {
       "model_id": "5999fd770ed149aebb392d77afcbac4a",
       "version_major": 2,
       "version_minor": 0
      },
      "text/plain": [
       "  0%|          | 0/16 [00:00<?, ?it/s]"
      ]
     },
     "metadata": {},
     "output_type": "display_data"
    },
    {
     "name": "stdout",
     "output_type": "stream",
     "text": [
      "Train loss: 0.9867\n",
      "Validation loss: 0.7894\n",
      "One day, a dog named Max went flying in the park. Suddenly, Max saw a big, mean cat inside. The dog was eating something that made noise without him. Max was very scared and ran away.\n",
      "\n",
      "Max went to Max and told his owner, \"\n",
      "\n",
      "Step 24064: Performing validation\n",
      "Learning rate: 0.000762\n"
     ]
    },
    {
     "data": {
      "application/vnd.jupyter.widget-view+json": {
       "model_id": "90aabccc13614630b15aaa485d3e972b",
       "version_major": 2,
       "version_minor": 0
      },
      "text/plain": [
       "  0%|          | 0/16 [00:00<?, ?it/s]"
      ]
     },
     "metadata": {},
     "output_type": "display_data"
    },
    {
     "name": "stdout",
     "output_type": "stream",
     "text": [
      "Train loss: 0.9658\n",
      "Validation loss: 0.7890\n",
      "One day, a dog named Max went for a jog. Max was a good dog because he could go on all day. He had a hammer. Max was impatient and could not find some apples.\n",
      "\n",
      "Max's owner, a baby named Sarah, visited the yard.\n",
      "\n",
      "Step 24192: Performing validation\n",
      "Learning rate: 0.000762\n"
     ]
    },
    {
     "data": {
      "application/vnd.jupyter.widget-view+json": {
       "model_id": "249b2ff6c1234e7b9f4d5e8901daa652",
       "version_major": 2,
       "version_minor": 0
      },
      "text/plain": [
       "  0%|          | 0/16 [00:00<?, ?it/s]"
      ]
     },
     "metadata": {},
     "output_type": "display_data"
    },
    {
     "name": "stdout",
     "output_type": "stream",
     "text": [
      "Train loss: 1.0070\n",
      "Validation loss: 0.7865\n",
      "One day, a dog and a girl went for a walk. They saw a small pond and decided to swim around the pond. The girl laughed and jumped up to the bottom of the cool water.\n",
      "\n",
      "The girl jumped under the pond and the girl saw a big dog\n",
      "\n",
      "Step 24320: Performing validation\n",
      "Learning rate: 0.000761\n"
     ]
    },
    {
     "data": {
      "application/vnd.jupyter.widget-view+json": {
       "model_id": "22072d1cc89c409dbda7a24793b33cf7",
       "version_major": 2,
       "version_minor": 0
      },
      "text/plain": [
       "  0%|          | 0/16 [00:00<?, ?it/s]"
      ]
     },
     "metadata": {},
     "output_type": "display_data"
    },
    {
     "name": "stdout",
     "output_type": "stream",
     "text": [
      "Train loss: 0.9348\n",
      "Validation loss: 0.7827\n",
      "One day, a dog named Max went on a search for a walk. In the forest, Tom liked to pick more yummy food. He collected some celery in the grass, but he did not know where the point started. He looked all shouting and took a nap\n",
      "\n",
      "Step 24448: Performing validation\n",
      "Learning rate: 0.000761\n"
     ]
    },
    {
     "data": {
      "application/vnd.jupyter.widget-view+json": {
       "model_id": "78752b02d2f54346a6e9d7e24e3c34de",
       "version_major": 2,
       "version_minor": 0
      },
      "text/plain": [
       "  0%|          | 0/16 [00:00<?, ?it/s]"
      ]
     },
     "metadata": {},
     "output_type": "display_data"
    },
    {
     "name": "stdout",
     "output_type": "stream",
     "text": [
      "Train loss: 0.8317\n",
      "Validation loss: 0.7767\n",
      "One day, a dog was walking down the road. The dog was feeling very bored and scared. His friends saw him and he felt sorry for him. Suddenly, he heard a loud noise and the noise sounded strange.\n",
      "\n",
      "He got closer to take a closer look,\n",
      "\n",
      "Step 24576: Performing validation\n",
      "Learning rate: 0.000760\n"
     ]
    },
    {
     "data": {
      "application/vnd.jupyter.widget-view+json": {
       "model_id": "46a88ac6279b4d7ea6ffba5ad16e407e",
       "version_major": 2,
       "version_minor": 0
      },
      "text/plain": [
       "  0%|          | 0/16 [00:00<?, ?it/s]"
      ]
     },
     "metadata": {},
     "output_type": "display_data"
    },
    {
     "name": "stdout",
     "output_type": "stream",
     "text": [
      "Train loss: 0.9133\n",
      "Validation loss: 0.7821\n",
      "One day, a dog named Spot saw a harsh rock. He wanted to play with the rock, so he picked it up. He dropped it in the patch and looked down. It was broken. Spot was very sad.\n",
      "\n",
      "Spot felt bad. He wanted to forget\n",
      "\n",
      "Step 24704: Performing validation\n",
      "Learning rate: 0.000760\n"
     ]
    },
    {
     "data": {
      "application/vnd.jupyter.widget-view+json": {
       "model_id": "b671cd6824de4c94abe82295e82f3441",
       "version_major": 2,
       "version_minor": 0
      },
      "text/plain": [
       "  0%|          | 0/16 [00:00<?, ?it/s]"
      ]
     },
     "metadata": {},
     "output_type": "display_data"
    },
    {
     "name": "stdout",
     "output_type": "stream",
     "text": [
      "Train loss: 0.8732\n",
      "Validation loss: 0.7856\n",
      "One day, a dog named Spot liked to play hide and seek with his friends. Spot loved to keep a bone, especially he wouldthank Spot play with her. But one day, Spot was more lazy. His leg fell down and hurt his leg. Spot wanted to rest\n",
      "\n",
      "Step 24832: Performing validation\n",
      "Learning rate: 0.000759\n"
     ]
    },
    {
     "data": {
      "application/vnd.jupyter.widget-view+json": {
       "model_id": "2eec319d52934e5ba780e9b2c20799b2",
       "version_major": 2,
       "version_minor": 0
      },
      "text/plain": [
       "  0%|          | 0/16 [00:00<?, ?it/s]"
      ]
     },
     "metadata": {},
     "output_type": "display_data"
    },
    {
     "name": "stdout",
     "output_type": "stream",
     "text": [
      "Train loss: 1.1391\n",
      "Validation loss: 0.7750\n",
      "One day, a dog named Spot was playing in the forest. He was a little girl and the birds were singing. She had a pet dog who was very intelligent. \"Hi little girl,\" said Spot. \"Do you want to sing?\"\n",
      "\n",
      "The little girl looked\n",
      "\n",
      "Step 24960: Performing validation\n",
      "Learning rate: 0.000759\n"
     ]
    },
    {
     "data": {
      "application/vnd.jupyter.widget-view+json": {
       "model_id": "d07ab8fe571144d48f8525f54614ac12",
       "version_major": 2,
       "version_minor": 0
      },
      "text/plain": [
       "  0%|          | 0/16 [00:00<?, ?it/s]"
      ]
     },
     "metadata": {},
     "output_type": "display_data"
    },
    {
     "name": "stdout",
     "output_type": "stream",
     "text": [
      "Train loss: 0.8263\n",
      "Validation loss: 0.7710\n",
      "One day, a dog went for a walk. It was moving, andwowy wanted to explore the world. He asked his mom, â€œWhatâ€™s wrong, sweet officers?\" \n",
      "\n",
      "Tommy said, â€œ\n",
      "\n",
      "Step 25088: Performing validation\n",
      "Learning rate: 0.000758\n"
     ]
    },
    {
     "data": {
      "application/vnd.jupyter.widget-view+json": {
       "model_id": "89e3c5a331d8491b8bd09f888e1ab6bc",
       "version_major": 2,
       "version_minor": 0
      },
      "text/plain": [
       "  0%|          | 0/16 [00:00<?, ?it/s]"
      ]
     },
     "metadata": {},
     "output_type": "display_data"
    },
    {
     "name": "stdout",
     "output_type": "stream",
     "text": [
      "Train loss: 0.9245\n",
      "Validation loss: 0.7667\n",
      "One day, a dog named Spot went for a walk in the woods. Spot saw many colorful things too they knew.\n",
      "\n",
      "Leo wanted to complete his game, but his teacher said, \"No, I want to work today. Why don't you please lose your\n",
      "\n",
      "Step 25216: Performing validation\n",
      "Learning rate: 0.000757\n"
     ]
    },
    {
     "data": {
      "application/vnd.jupyter.widget-view+json": {
       "model_id": "82c107d196dc47a48473e8ca0de65320",
       "version_major": 2,
       "version_minor": 0
      },
      "text/plain": [
       "  0%|          | 0/16 [00:00<?, ?it/s]"
      ]
     },
     "metadata": {},
     "output_type": "display_data"
    },
    {
     "name": "stdout",
     "output_type": "stream",
     "text": [
      "Train loss: 1.0003\n",
      "Validation loss: 0.7670\n",
      "One day, a dog named Spot went to the farm. He saw a big melon on the table. Spot wanted to eat the melon for hissed.\n",
      "\n",
      "Spot saw a little boy walking by. The man was very polite. The man looked at Spot in\n",
      "\n",
      "Step 25344: Performing validation\n",
      "Learning rate: 0.000757\n"
     ]
    },
    {
     "data": {
      "application/vnd.jupyter.widget-view+json": {
       "model_id": "c57b00e672d64d73ab9b117b98007c14",
       "version_major": 2,
       "version_minor": 0
      },
      "text/plain": [
       "  0%|          | 0/16 [00:00<?, ?it/s]"
      ]
     },
     "metadata": {},
     "output_type": "display_data"
    },
    {
     "name": "stdout",
     "output_type": "stream",
     "text": [
      "Train loss: 1.1372\n",
      "Validation loss: 0.7629\n",
      "One day, a dog named Spot and a cat named Spot went for a walk. They saw a bird on a tree. Spot seemed very happy. He said, \"Hi, Rex! Ducks!\" Spot and Spot played a game where they were dog.\n",
      "\n",
      "After a\n",
      "\n",
      "Step 25472: Performing validation\n",
      "Learning rate: 0.000756\n"
     ]
    },
    {
     "data": {
      "application/vnd.jupyter.widget-view+json": {
       "model_id": "041777b53816480d8b9a71404858d430",
       "version_major": 2,
       "version_minor": 0
      },
      "text/plain": [
       "  0%|          | 0/16 [00:00<?, ?it/s]"
      ]
     },
     "metadata": {},
     "output_type": "display_data"
    },
    {
     "name": "stdout",
     "output_type": "stream",
     "text": [
      "Train loss: 0.8247\n",
      "Validation loss: 0.7582\n",
      "One day, a dog named Sam found an axe. He thought it was the best key he ever tasted. He climbed into the box, and suddenly he saw a shiny loop. He wondered what it would be. \n",
      "\n",
      "Sam quickly picked up the loop and showed his\n",
      "\n",
      "Step 25600: Performing validation\n",
      "Learning rate: 0.000756\n"
     ]
    },
    {
     "data": {
      "application/vnd.jupyter.widget-view+json": {
       "model_id": "02ecbcff726f4d62a32afaf0ab6b8bc6",
       "version_major": 2,
       "version_minor": 0
      },
      "text/plain": [
       "  0%|          | 0/16 [00:00<?, ?it/s]"
      ]
     },
     "metadata": {},
     "output_type": "display_data"
    },
    {
     "name": "stdout",
     "output_type": "stream",
     "text": [
      "Train loss: 0.8818\n",
      "Validation loss: 0.7551\n",
      "One day, a dog named Spot found a big, shiny, colorful bracelet. Spot wanted to try it, but his owner said he could't keep it, too much. Spot was sad, but then he had an idea. He went to the park and played on the\n",
      "\n",
      "Step 25728: Performing validation\n",
      "Learning rate: 0.000755\n"
     ]
    },
    {
     "data": {
      "application/vnd.jupyter.widget-view+json": {
       "model_id": "8efc1ece62ef448f9749c8ef850d5744",
       "version_major": 2,
       "version_minor": 0
      },
      "text/plain": [
       "  0%|          | 0/16 [00:00<?, ?it/s]"
      ]
     },
     "metadata": {},
     "output_type": "display_data"
    },
    {
     "name": "stdout",
     "output_type": "stream",
     "text": [
      "Train loss: 0.9630\n",
      "Validation loss: 0.7503\n",
      "One day, a dog named Max saw a big tree. Max was very small and went to play a game with his friends. Max and his friends all wanted to play there. They used their strength and tried to find each other to fight.\n",
      "\n",
      "\"Let's use\n",
      "\n",
      "Step 25856: Performing validation\n",
      "Learning rate: 0.000754\n"
     ]
    },
    {
     "data": {
      "application/vnd.jupyter.widget-view+json": {
       "model_id": "cf1949ce79d843b89156a1baece5237c",
       "version_major": 2,
       "version_minor": 0
      },
      "text/plain": [
       "  0%|          | 0/16 [00:00<?, ?it/s]"
      ]
     },
     "metadata": {},
     "output_type": "display_data"
    },
    {
     "name": "stdout",
     "output_type": "stream",
     "text": [
      "Train loss: 0.8729\n",
      "Validation loss: 0.7509\n",
      "One day, a dog named Spot found a big hole in the woods. sweat was dead. It was thick, like a hole. Spot thought, \"They can't open the hole. You should could be used it fit!\" Spot saw a big hole in the hole.\n",
      "\n",
      "Step 25984: Performing validation\n",
      "Learning rate: 0.000754\n"
     ]
    },
    {
     "data": {
      "application/vnd.jupyter.widget-view+json": {
       "model_id": "910bf67de385492dad0d91658f3b4357",
       "version_major": 2,
       "version_minor": 0
      },
      "text/plain": [
       "  0%|          | 0/16 [00:00<?, ?it/s]"
      ]
     },
     "metadata": {},
     "output_type": "display_data"
    },
    {
     "name": "stdout",
     "output_type": "stream",
     "text": [
      "Train loss: 1.0859\n",
      "Validation loss: 0.7550\n",
      "One day, a dog and his best friend Bob friends were playing together in the park. Mike was very adventurous and loved looking around. One day, Bill asked Bob, \"Can you teach me how to draw a picture?\"\n",
      "\n",
      "Bob looked at the picture and said,\n",
      "\n",
      "Step 26112: Performing validation\n",
      "Learning rate: 0.000753\n"
     ]
    },
    {
     "data": {
      "application/vnd.jupyter.widget-view+json": {
       "model_id": "1fa77ee178fb4595be5692d6dda90a06",
       "version_major": 2,
       "version_minor": 0
      },
      "text/plain": [
       "  0%|          | 0/16 [00:00<?, ?it/s]"
      ]
     },
     "metadata": {},
     "output_type": "display_data"
    },
    {
     "name": "stdout",
     "output_type": "stream",
     "text": [
      "Train loss: 0.8963\n",
      "Validation loss: 0.7524\n",
      "One day, a dog named Spot went for a walk. They saw a pretty ice-cream. They wanted to eat them. They went to the ice-cream truck and took many colors. Spot said, \"Spot, I love doll. Snowball is I was very\n",
      "\n",
      "Step 26240: Performing validation\n",
      "Learning rate: 0.000753\n"
     ]
    },
    {
     "data": {
      "application/vnd.jupyter.widget-view+json": {
       "model_id": "f1fe7cab028842269d711eb85662ca60",
       "version_major": 2,
       "version_minor": 0
      },
      "text/plain": [
       "  0%|          | 0/16 [00:00<?, ?it/s]"
      ]
     },
     "metadata": {},
     "output_type": "display_data"
    },
    {
     "name": "stdout",
     "output_type": "stream",
     "text": [
      "Train loss: 0.9439\n",
      "Validation loss: 0.7491\n",
      "One day, a dog named Spot went to visit his owner. He saw many houses and in the park with all the animals. He saw a dependable dog and a big giraffe. dogs was big and friendly. Spot liked to run and catch them.\n",
      "\n",
      "Spot\n",
      "\n",
      "Step 26368: Performing validation\n",
      "Learning rate: 0.000752\n"
     ]
    },
    {
     "data": {
      "application/vnd.jupyter.widget-view+json": {
       "model_id": "c760220a31ed4ababa85cbd101968051",
       "version_major": 2,
       "version_minor": 0
      },
      "text/plain": [
       "  0%|          | 0/16 [00:00<?, ?it/s]"
      ]
     },
     "metadata": {},
     "output_type": "display_data"
    },
    {
     "name": "stdout",
     "output_type": "stream",
     "text": [
      "Train loss: 0.7751\n",
      "Validation loss: 0.7462\n",
      "One day, a dog named Spot went for a walk. Spot found a small hole in a door. He followed the hole. Inside the hole, he saw a soft hole. Spot wanted to look inside all the hole.\n",
      "\n",
      "But Spot did not know what was inside\n",
      "\n",
      "Step 26496: Performing validation\n",
      "Learning rate: 0.000751\n"
     ]
    },
    {
     "data": {
      "application/vnd.jupyter.widget-view+json": {
       "model_id": "c7cbe09f4a6a49268d497a3971f9f830",
       "version_major": 2,
       "version_minor": 0
      },
      "text/plain": [
       "  0%|          | 0/16 [00:00<?, ?it/s]"
      ]
     },
     "metadata": {},
     "output_type": "display_data"
    },
    {
     "name": "stdout",
     "output_type": "stream",
     "text": [
      "Train loss: 0.9172\n",
      "Validation loss: 0.7455\n",
      "One day, a dog named Spot went for a walk. He found a piece of paper that was full of paper. Spot wanted to play with the paper.\n",
      "\n",
      "Sam put the gum in his pocket and opened it. He wanted to sort it the matches. He put\n",
      "\n",
      "Step 26624: Performing validation\n",
      "Learning rate: 0.000751\n"
     ]
    },
    {
     "data": {
      "application/vnd.jupyter.widget-view+json": {
       "model_id": "1488f64276194cca826a22f18d2e50a2",
       "version_major": 2,
       "version_minor": 0
      },
      "text/plain": [
       "  0%|          | 0/16 [00:00<?, ?it/s]"
      ]
     },
     "metadata": {},
     "output_type": "display_data"
    },
    {
     "name": "stdout",
     "output_type": "stream",
     "text": [
      "Train loss: 0.8978\n",
      "Validation loss: 0.7473\n",
      "One day, a dog named Max went to the park with his ball. Max saw a big, scary dog. Max wanted to be his friend. He was scared, but he used his claws to throw him with his back.\n",
      "\n",
      "Max ran fast as he ran as\n",
      "\n",
      "Step 26752: Performing validation\n",
      "Learning rate: 0.000750\n"
     ]
    },
    {
     "data": {
      "application/vnd.jupyter.widget-view+json": {
       "model_id": "2970828ff7f741e0bbaf47022c7abe9d",
       "version_major": 2,
       "version_minor": 0
      },
      "text/plain": [
       "  0%|          | 0/16 [00:00<?, ?it/s]"
      ]
     },
     "metadata": {},
     "output_type": "display_data"
    },
    {
     "name": "stdout",
     "output_type": "stream",
     "text": [
      "Train loss: 0.7953\n",
      "Validation loss: 0.7443\n",
      "One day, a dog named Max went outside to play. Max saw a fly with a lot of people playing on, bouncing on a bag. The sign said, \"Welcome for rainbow!\" Max was very happy and felt very good at the show. \n",
      "\n",
      "Max showed\n",
      "\n",
      "Step 26880: Performing validation\n",
      "Learning rate: 0.000750\n"
     ]
    },
    {
     "data": {
      "application/vnd.jupyter.widget-view+json": {
       "model_id": "aa0e2f20f53c4ca8bd68a7da3a2b776d",
       "version_major": 2,
       "version_minor": 0
      },
      "text/plain": [
       "  0%|          | 0/16 [00:00<?, ?it/s]"
      ]
     },
     "metadata": {},
     "output_type": "display_data"
    },
    {
     "name": "stdout",
     "output_type": "stream",
     "text": [
      "Train loss: 0.9229\n",
      "Validation loss: 0.7392\n",
      "One day, a dog named Max was exploring the house. He saw a dog. Max was scared of the dog. \"Hi Max,\" he said. He ran away. Max wanted to get close to the dog. Ben followed the dog. Max didn't want to hurt\n",
      "\n",
      "Step 27008: Performing validation\n",
      "Learning rate: 0.000749\n"
     ]
    },
    {
     "data": {
      "application/vnd.jupyter.widget-view+json": {
       "model_id": "49ad203781274445b7adc7ce2bc0b96e",
       "version_major": 2,
       "version_minor": 0
      },
      "text/plain": [
       "  0%|          | 0/16 [00:00<?, ?it/s]"
      ]
     },
     "metadata": {},
     "output_type": "display_data"
    },
    {
     "name": "stdout",
     "output_type": "stream",
     "text": [
      "Train loss: 0.9712\n",
      "Validation loss: 0.7364\n",
      "One day, a dog named Spot was feeling bored. It was a sunny day and he had an idea. He wanted to see what it was.\n",
      "\n",
      "He came to the park, and saw a pretty flower. He skipped to the flower and Hop stood on it too\n",
      "\n",
      "Step 27136: Performing validation\n",
      "Learning rate: 0.000748\n"
     ]
    },
    {
     "data": {
      "application/vnd.jupyter.widget-view+json": {
       "model_id": "32c066754dc9427f85a8019494a05631",
       "version_major": 2,
       "version_minor": 0
      },
      "text/plain": [
       "  0%|          | 0/16 [00:00<?, ?it/s]"
      ]
     },
     "metadata": {},
     "output_type": "display_data"
    },
    {
     "name": "stdout",
     "output_type": "stream",
     "text": [
      "Train loss: 0.8139\n",
      "Validation loss: 0.7342\n",
      "One day, a dog named Max woke up in the park. He was very excited because he was going out and liked to ride. Suddenly, he heard a noise from behind him. Max didn't know why and started to complain.\n",
      "\n",
      "His friend, a little boy\n",
      "\n",
      "Step 27264: Performing validation\n",
      "Learning rate: 0.000748\n"
     ]
    },
    {
     "data": {
      "application/vnd.jupyter.widget-view+json": {
       "model_id": "ca35e27b25b74544985217964ef9bded",
       "version_major": 2,
       "version_minor": 0
      },
      "text/plain": [
       "  0%|          | 0/16 [00:00<?, ?it/s]"
      ]
     },
     "metadata": {},
     "output_type": "display_data"
    },
    {
     "name": "stdout",
     "output_type": "stream",
     "text": [
      "Train loss: 0.8001\n",
      "Validation loss: 0.7308\n",
      "One day, a dog named Spot was feeling very hungry. He saw a bottle on the ground.! He thought he should have as much nap inside.\n",
      "\n",
      "Then, he heard a voice. It said, \"Hello, Rex! Can I have your nap?\"\n",
      "\n",
      "\n",
      "Step 27392: Performing validation\n",
      "Learning rate: 0.000747\n"
     ]
    },
    {
     "data": {
      "application/vnd.jupyter.widget-view+json": {
       "model_id": "1958d596e9b84ac19ff69f5fc9e64d4c",
       "version_major": 2,
       "version_minor": 0
      },
      "text/plain": [
       "  0%|          | 0/16 [00:00<?, ?it/s]"
      ]
     },
     "metadata": {},
     "output_type": "display_data"
    },
    {
     "name": "stdout",
     "output_type": "stream",
     "text": [
      "Train loss: 0.8767\n",
      "Validation loss: 0.7273\n",
      "One day, a dog named Spot was walking near the woods. The dog loved to hop and play with him. Spot ran and ran until he found a big hole in the ground. He tried to find a box, but it was locked. He bumped and scratched, but\n",
      "\n",
      "Step 27520: Performing validation\n",
      "Learning rate: 0.000746\n"
     ]
    },
    {
     "data": {
      "application/vnd.jupyter.widget-view+json": {
       "model_id": "e238990223624515825ede563f885e2f",
       "version_major": 2,
       "version_minor": 0
      },
      "text/plain": [
       "  0%|          | 0/16 [00:00<?, ?it/s]"
      ]
     },
     "metadata": {},
     "output_type": "display_data"
    },
    {
     "name": "stdout",
     "output_type": "stream",
     "text": [
      "Train loss: 0.8397\n",
      "Validation loss: 0.7237\n",
      "One day, a dog came to the park. He was very hungry. He wanted something to eat. He went to a hill to the top for a snack. It was dirty cookies! Ben decided to go for a picnic. He climbed onto the ladder, holding the apples\n",
      "\n",
      "Step 27648: Performing validation\n",
      "Learning rate: 0.000746\n"
     ]
    },
    {
     "data": {
      "application/vnd.jupyter.widget-view+json": {
       "model_id": "36f28e7ea44e4c48bffde95a6db18fa2",
       "version_major": 2,
       "version_minor": 0
      },
      "text/plain": [
       "  0%|          | 0/16 [00:00<?, ?it/s]"
      ]
     },
     "metadata": {},
     "output_type": "display_data"
    },
    {
     "name": "stdout",
     "output_type": "stream",
     "text": [
      "Train loss: 0.7328\n",
      "Validation loss: 0.7227\n",
      "One day, a dog named Bob was very hairy. One day, Bob was in the park with his owner, a man.\n",
      "\n",
      "Bob went to the park near the park and were in a very sleepy. He sneaked out of the grass and sniffed gently.\n",
      "\n",
      "Step 27776: Performing validation\n",
      "Learning rate: 0.000745\n"
     ]
    },
    {
     "data": {
      "application/vnd.jupyter.widget-view+json": {
       "model_id": "55f12f56b1d9467e86c27d7a7032106e",
       "version_major": 2,
       "version_minor": 0
      },
      "text/plain": [
       "  0%|          | 0/16 [00:00<?, ?it/s]"
      ]
     },
     "metadata": {},
     "output_type": "display_data"
    },
    {
     "name": "stdout",
     "output_type": "stream",
     "text": [
      "Train loss: 0.8154\n",
      "Validation loss: 0.7250\n",
      "One day, a dog named Max went for a walk. Max loved this day at the park. He saw many other dogs, and monkeys. Max wanted to race too. So he jumped from branch, and barked at Max.\n",
      "\n",
      "Max and Max played in the\n",
      "\n",
      "Step 27904: Performing validation\n",
      "Learning rate: 0.000745\n"
     ]
    },
    {
     "data": {
      "application/vnd.jupyter.widget-view+json": {
       "model_id": "db69c49d95f5474e8b7c53d78483aab0",
       "version_major": 2,
       "version_minor": 0
      },
      "text/plain": [
       "  0%|          | 0/16 [00:00<?, ?it/s]"
      ]
     },
     "metadata": {},
     "output_type": "display_data"
    },
    {
     "name": "stdout",
     "output_type": "stream",
     "text": [
      "Train loss: 0.8660\n",
      "Validation loss: 0.7220\n",
      "One day, a dog named Spot loved to bounce. Spot was in the sun, looking for something new. He always had a favorite ball, she liked to look for a ball.\n",
      "\n",
      "Spot loved to bounce on the bouncy ball. He bounced all around and round\n",
      "\n",
      "Step 28032: Performing validation\n",
      "Learning rate: 0.000744\n"
     ]
    },
    {
     "data": {
      "application/vnd.jupyter.widget-view+json": {
       "model_id": "e232ebab9f674690a9c2d02cc9f2cd64",
       "version_major": 2,
       "version_minor": 0
      },
      "text/plain": [
       "  0%|          | 0/16 [00:00<?, ?it/s]"
      ]
     },
     "metadata": {},
     "output_type": "display_data"
    },
    {
     "name": "stdout",
     "output_type": "stream",
     "text": [
      "Train loss: 0.9872\n",
      "Validation loss: 0.7208\n",
      "One day, a dog and a lazy cat went to talk. The cat did not want to share his favorite food. The cat's job was to eat. But the cat did not want to give the store to the cat food.\n",
      "\n",
      "A little bird found the cat\n",
      "\n",
      "Step 28160: Performing validation\n",
      "Learning rate: 0.000743\n"
     ]
    },
    {
     "data": {
      "application/vnd.jupyter.widget-view+json": {
       "model_id": "64c7683be88d4d4dae86d5187b75258a",
       "version_major": 2,
       "version_minor": 0
      },
      "text/plain": [
       "  0%|          | 0/16 [00:00<?, ?it/s]"
      ]
     },
     "metadata": {},
     "output_type": "display_data"
    },
    {
     "name": "stdout",
     "output_type": "stream",
     "text": [
      "Train loss: 0.8327\n",
      "Validation loss: 0.7225\n",
      "One day, a dog and a dog were playing in the park. They loved to run and play around the park. The dog was having a fun day. But the dog was polite and scared. It did not want to stay and try new things. The big dog decided\n",
      "\n",
      "Step 28288: Performing validation\n",
      "Learning rate: 0.000743\n"
     ]
    },
    {
     "data": {
      "application/vnd.jupyter.widget-view+json": {
       "model_id": "cb95505d989a4768bb9f61d6d0912c49",
       "version_major": 2,
       "version_minor": 0
      },
      "text/plain": [
       "  0%|          | 0/16 [00:00<?, ?it/s]"
      ]
     },
     "metadata": {},
     "output_type": "display_data"
    },
    {
     "ename": "RuntimeError",
     "evalue": "[enforce fail at inline_container.cc:626] . unexpected pos 241603840 vs 241603728",
     "output_type": "error",
     "traceback": [
      "\u001b[0;31m---------------------------------------------------------------------------\u001b[0m",
      "\u001b[0;31mRuntimeError\u001b[0m                              Traceback (most recent call last)",
      "File \u001b[0;32m~/Desktop/Projects/GPT Train/venv/lib/python3.12/site-packages/torch/serialization.py:944\u001b[0m, in \u001b[0;36msave\u001b[0;34m(obj, f, pickle_module, pickle_protocol, _use_new_zipfile_serialization, _disable_byteorder_record)\u001b[0m\n\u001b[1;32m    943\u001b[0m \u001b[38;5;28;01mwith\u001b[39;00m _open_zipfile_writer(f) \u001b[38;5;28;01mas\u001b[39;00m opened_zipfile:\n\u001b[0;32m--> 944\u001b[0m     \u001b[43m_save\u001b[49m\u001b[43m(\u001b[49m\n\u001b[1;32m    945\u001b[0m \u001b[43m        \u001b[49m\u001b[43mobj\u001b[49m\u001b[43m,\u001b[49m\n\u001b[1;32m    946\u001b[0m \u001b[43m        \u001b[49m\u001b[43mopened_zipfile\u001b[49m\u001b[43m,\u001b[49m\n\u001b[1;32m    947\u001b[0m \u001b[43m        \u001b[49m\u001b[43mpickle_module\u001b[49m\u001b[43m,\u001b[49m\n\u001b[1;32m    948\u001b[0m \u001b[43m        \u001b[49m\u001b[43mpickle_protocol\u001b[49m\u001b[43m,\u001b[49m\n\u001b[1;32m    949\u001b[0m \u001b[43m        \u001b[49m\u001b[43m_disable_byteorder_record\u001b[49m\u001b[43m,\u001b[49m\n\u001b[1;32m    950\u001b[0m \u001b[43m    \u001b[49m\u001b[43m)\u001b[49m\n\u001b[1;32m    951\u001b[0m     \u001b[38;5;28;01mreturn\u001b[39;00m\n",
      "File \u001b[0;32m~/Desktop/Projects/GPT Train/venv/lib/python3.12/site-packages/torch/serialization.py:1216\u001b[0m, in \u001b[0;36m_save\u001b[0;34m(obj, zip_file, pickle_module, pickle_protocol, _disable_byteorder_record)\u001b[0m\n\u001b[1;32m   1215\u001b[0m \u001b[38;5;66;03m# Now that it is on the CPU we can directly copy it into the zip file\u001b[39;00m\n\u001b[0;32m-> 1216\u001b[0m \u001b[43mzip_file\u001b[49m\u001b[38;5;241;43m.\u001b[39;49m\u001b[43mwrite_record\u001b[49m\u001b[43m(\u001b[49m\u001b[43mname\u001b[49m\u001b[43m,\u001b[49m\u001b[43m \u001b[49m\u001b[43mstorage\u001b[49m\u001b[43m,\u001b[49m\u001b[43m \u001b[49m\u001b[43mnum_bytes\u001b[49m\u001b[43m)\u001b[49m\n",
      "\u001b[0;31mRuntimeError\u001b[0m: [enforce fail at inline_container.cc:815] . PytorchStreamWriter failed writing file data/33: file write failed",
      "\nDuring handling of the above exception, another exception occurred:\n",
      "\u001b[0;31mRuntimeError\u001b[0m                              Traceback (most recent call last)",
      "Cell \u001b[0;32mIn[34], line 45\u001b[0m\n\u001b[1;32m     38\u001b[0m                 loss \u001b[38;5;241m=\u001b[39m F\u001b[38;5;241m.\u001b[39mcross_entropy(\n\u001b[1;32m     39\u001b[0m                     logits\u001b[38;5;241m.\u001b[39mview(\u001b[38;5;241m-\u001b[39m\u001b[38;5;241m1\u001b[39m, logits\u001b[38;5;241m.\u001b[39msize(\u001b[38;5;241m-\u001b[39m\u001b[38;5;241m1\u001b[39m)),\n\u001b[1;32m     40\u001b[0m \t\t\t\t\ttargets\u001b[38;5;241m.\u001b[39mview(\u001b[38;5;241m-\u001b[39m\u001b[38;5;241m1\u001b[39m),\n\u001b[1;32m     41\u001b[0m \t\t\t\t\tignore_index\u001b[38;5;241m=\u001b[39mtokenizer\u001b[38;5;241m.\u001b[39mpad_id\n\u001b[1;32m     42\u001b[0m \t\t\t\t)\n\u001b[1;32m     43\u001b[0m                 val_loss \u001b[38;5;241m+\u001b[39m\u001b[38;5;241m=\u001b[39m loss\u001b[38;5;241m.\u001b[39mitem()\n\u001b[0;32m---> 45\u001b[0m             \u001b[43mtorch\u001b[49m\u001b[38;5;241;43m.\u001b[39;49m\u001b[43msave\u001b[49m\u001b[43m(\u001b[49m\u001b[43mmodel\u001b[49m\u001b[38;5;241;43m.\u001b[39;49m\u001b[43mstate_dict\u001b[49m\u001b[43m(\u001b[49m\u001b[43m)\u001b[49m\u001b[43m,\u001b[49m\u001b[43m \u001b[49m\u001b[38;5;124;43mf\u001b[39;49m\u001b[38;5;124;43m\"\u001b[39;49m\u001b[38;5;124;43mckpt/ckpt_\u001b[39;49m\u001b[38;5;132;43;01m{\u001b[39;49;00m\u001b[38;5;28;43miter\u001b[39;49m\u001b[38;5;132;43;01m}\u001b[39;49;00m\u001b[38;5;124;43m.pt\u001b[39;49m\u001b[38;5;124;43m\"\u001b[39;49m\u001b[43m)\u001b[49m\n\u001b[1;32m     46\u001b[0m             \u001b[38;5;28mprint\u001b[39m(\u001b[38;5;124mf\u001b[39m\u001b[38;5;124m\"\u001b[39m\u001b[38;5;124mTrain loss: \u001b[39m\u001b[38;5;132;01m{\u001b[39;00mtrain_loss\u001b[38;5;132;01m:\u001b[39;00m\u001b[38;5;124m.4f\u001b[39m\u001b[38;5;132;01m}\u001b[39;00m\u001b[38;5;124m\"\u001b[39m)\n\u001b[1;32m     47\u001b[0m             \u001b[38;5;28mprint\u001b[39m(\u001b[38;5;124mf\u001b[39m\u001b[38;5;124m\"\u001b[39m\u001b[38;5;124mValidation loss: \u001b[39m\u001b[38;5;132;01m{\u001b[39;00mval_loss\u001b[38;5;250m \u001b[39m\u001b[38;5;241m/\u001b[39m\u001b[38;5;250m \u001b[39m\u001b[38;5;28mlen\u001b[39m(valid_dataloader)\u001b[38;5;132;01m:\u001b[39;00m\u001b[38;5;124m.4f\u001b[39m\u001b[38;5;132;01m}\u001b[39;00m\u001b[38;5;124m\"\u001b[39m)\n",
      "File \u001b[0;32m~/Desktop/Projects/GPT Train/venv/lib/python3.12/site-packages/torch/serialization.py:943\u001b[0m, in \u001b[0;36msave\u001b[0;34m(obj, f, pickle_module, pickle_protocol, _use_new_zipfile_serialization, _disable_byteorder_record)\u001b[0m\n\u001b[1;32m    940\u001b[0m _check_save_filelike(f)\n\u001b[1;32m    942\u001b[0m \u001b[38;5;28;01mif\u001b[39;00m _use_new_zipfile_serialization:\n\u001b[0;32m--> 943\u001b[0m \u001b[43m    \u001b[49m\u001b[38;5;28;43;01mwith\u001b[39;49;00m\u001b[43m \u001b[49m\u001b[43m_open_zipfile_writer\u001b[49m\u001b[43m(\u001b[49m\u001b[43mf\u001b[49m\u001b[43m)\u001b[49m\u001b[43m \u001b[49m\u001b[38;5;28;43;01mas\u001b[39;49;00m\u001b[43m \u001b[49m\u001b[43mopened_zipfile\u001b[49m\u001b[43m:\u001b[49m\n\u001b[1;32m    944\u001b[0m \u001b[43m        \u001b[49m\u001b[43m_save\u001b[49m\u001b[43m(\u001b[49m\n\u001b[1;32m    945\u001b[0m \u001b[43m            \u001b[49m\u001b[43mobj\u001b[49m\u001b[43m,\u001b[49m\n\u001b[1;32m    946\u001b[0m \u001b[43m            \u001b[49m\u001b[43mopened_zipfile\u001b[49m\u001b[43m,\u001b[49m\n\u001b[0;32m   (...)\u001b[0m\n\u001b[1;32m    949\u001b[0m \u001b[43m            \u001b[49m\u001b[43m_disable_byteorder_record\u001b[49m\u001b[43m,\u001b[49m\n\u001b[1;32m    950\u001b[0m \u001b[43m        \u001b[49m\u001b[43m)\u001b[49m\n\u001b[1;32m    951\u001b[0m \u001b[43m        \u001b[49m\u001b[38;5;28;43;01mreturn\u001b[39;49;00m\n",
      "File \u001b[0;32m~/Desktop/Projects/GPT Train/venv/lib/python3.12/site-packages/torch/serialization.py:784\u001b[0m, in \u001b[0;36m_open_zipfile_writer_file.__exit__\u001b[0;34m(self, *args)\u001b[0m\n\u001b[1;32m    783\u001b[0m \u001b[38;5;28;01mdef\u001b[39;00m\u001b[38;5;250m \u001b[39m\u001b[38;5;21m__exit__\u001b[39m(\u001b[38;5;28mself\u001b[39m, \u001b[38;5;241m*\u001b[39margs) \u001b[38;5;241m-\u001b[39m\u001b[38;5;241m>\u001b[39m \u001b[38;5;28;01mNone\u001b[39;00m:\n\u001b[0;32m--> 784\u001b[0m     \u001b[38;5;28;43mself\u001b[39;49m\u001b[38;5;241;43m.\u001b[39;49m\u001b[43mfile_like\u001b[49m\u001b[38;5;241;43m.\u001b[39;49m\u001b[43mwrite_end_of_file\u001b[49m\u001b[43m(\u001b[49m\u001b[43m)\u001b[49m\n\u001b[1;32m    785\u001b[0m     \u001b[38;5;28;01mif\u001b[39;00m \u001b[38;5;28mself\u001b[39m\u001b[38;5;241m.\u001b[39mfile_stream \u001b[38;5;129;01mis\u001b[39;00m \u001b[38;5;129;01mnot\u001b[39;00m \u001b[38;5;28;01mNone\u001b[39;00m:\n\u001b[1;32m    786\u001b[0m         \u001b[38;5;28mself\u001b[39m\u001b[38;5;241m.\u001b[39mfile_stream\u001b[38;5;241m.\u001b[39mclose()\n",
      "\u001b[0;31mRuntimeError\u001b[0m: [enforce fail at inline_container.cc:626] . unexpected pos 241603840 vs 241603728"
     ]
    }
   ],
   "source": [
    "for iter, batch in enumerate(tqdm.notebook.tqdm(train_dataloader, total=len(train_dataloader))):\n",
    "    # inputs, targets = batch['text'], batch['text']\n",
    "    inputs = batch['input'][:, :-1]\n",
    "    targets = batch['input'][:, 1:]\n",
    "    inputs, targets = inputs.to(device), targets.to(device)\n",
    "\n",
    "    with torch.autocast(device_type=str(device), dtype=torch.bfloat16):\n",
    "        logits, _ = model(inputs)\n",
    "        loss = F.cross_entropy(\n",
    "\t\t\tlogits.view(-1, logits.size(-1)),\n",
    "\t\t\ttargets.view(-1),\n",
    "\t\t\tignore_index=tokenizer.pad_id\n",
    "\t\t)\n",
    "\n",
    "    loss = loss / gradient_accumulation_steps\n",
    "    loss.backward()\n",
    "\n",
    "    norm = torch.nn.utils.clip_grad_norm_(model.parameters(), max_norm=1.0)\n",
    "    \n",
    "    if (iter + 1) % gradient_accumulation_steps == 0:\n",
    "        optimizer.step()\n",
    "        optimizer.zero_grad()\n",
    "        scheduler.step()\n",
    "\n",
    "    if iter % (gradient_accumulation_steps * 2) == 0 or iter == max_iters - 1:\n",
    "        print(f\"\\nStep {iter}: Performing validation\")\n",
    "        print(f\"Learning rate: {scheduler.get_last_lr()[0]:.6f}\")\n",
    "        model.eval()\n",
    "        with torch.no_grad():\n",
    "            val_loss = 0\n",
    "            train_loss = loss.item() * gradient_accumulation_steps\n",
    "            for batch in tqdm.notebook.tqdm(valid_dataloader, total=len(valid_dataloader)):\n",
    "                # inputs, targets = batch['text'], batch['text']\n",
    "                inputs = batch['input'][:, :-1]\n",
    "                targets = batch['input'][:, 1:]\n",
    "                inputs, targets = inputs.to(device), targets.to(device)\n",
    "                logits, _ = model(inputs)\n",
    "                loss = F.cross_entropy(\n",
    "                    logits.view(-1, logits.size(-1)),\n",
    "\t\t\t\t\ttargets.view(-1),\n",
    "\t\t\t\t\tignore_index=tokenizer.pad_id\n",
    "\t\t\t\t)\n",
    "                val_loss += loss.item()\n",
    "\n",
    "            torch.save(model.state_dict(), f\"ckpt/ckpt_{iter}.pt\")\n",
    "            print(f\"Train loss: {train_loss:.4f}\")\n",
    "            print(f\"Validation loss: {val_loss / len(valid_dataloader):.4f}\")\n",
    "\n",
    "            prompt = \"One day, a dog\"\n",
    "            prompt = torch.tensor([encode(prompt)], dtype=torch.long, device=device)\n",
    "            output = decode(generate(model, prompt, max_new_tokens=50)[0].tolist())\n",
    "            print(output)\n",
    "            output = output.replace(\"\\n\", \"\\n\")\n",
    "            output = output.replace('\"', \"'\") \n",
    "            with open(\"losses.txt\", \"a\") as f:\n",
    "                f.write(f\"{iter},{scheduler.get_last_lr()[0]:.6f},{train_loss},{val_loss / len(valid_dataloader)},\\\"{output}\\\"\\n\")\n",
    "        model.train()"
   ]
  },
  {
   "cell_type": "code",
   "execution_count": 38,
   "metadata": {},
   "outputs": [],
   "source": [
    "torch.save(model.state_dict(), \"final_model_moe_storyteller_tiktoken_19072025.pt\")"
   ]
  },
  {
   "cell_type": "code",
   "execution_count": 39,
   "metadata": {},
   "outputs": [],
   "source": [
    "model = model.eval()"
   ]
  },
  {
   "cell_type": "code",
   "execution_count": 40,
   "metadata": {},
   "outputs": [
    {
     "name": "stderr",
     "output_type": "stream",
     "text": [
      "W0720 06:38:22.967000 90952 torch/_dynamo/convert_frame.py:906] [1/8] torch._dynamo hit config.cache_size_limit (8)\n",
      "W0720 06:38:22.967000 90952 torch/_dynamo/convert_frame.py:906] [1/8]    function: 'forward' (/tmp/ipykernel_90952/668164951.py:87)\n",
      "W0720 06:38:22.967000 90952 torch/_dynamo/convert_frame.py:906] [1/8]    last reason: 1/0: tensor 'L['x']' dispatch key set mismatch. expected DispatchKeySet(CUDA, BackendSelect, ADInplaceOrView, AutogradCUDA, AutocastCUDA), actual DispatchKeySet(CUDA, BackendSelect, ADInplaceOrView, AutogradCUDA)\n",
      "W0720 06:38:22.967000 90952 torch/_dynamo/convert_frame.py:906] [1/8] To log all recompilation reasons, use TORCH_LOGS=\"recompiles\".\n",
      "W0720 06:38:22.967000 90952 torch/_dynamo/convert_frame.py:906] [1/8] To diagnose recompilation issues, see https://pytorch.org/docs/main/torch.compiler_troubleshooting.html.\n"
     ]
    },
    {
     "name": "stdout",
     "output_type": "stream",
     "text": [
      "There was a girl who loved to help her parents in the house. Every morning, the girl would go outside and watch the TV got to see the tigers. She liked to see the chickens as they could see the chickens and run around. \n",
      "\n",
      "One day, there\n"
     ]
    }
   ],
   "source": [
    "prompt = \"There was a girl who\"\n",
    "\n",
    "prompt = torch.tensor([encode(prompt)], dtype=torch.long, device=device)\n",
    "print(decode(generate(model, prompt, max_new_tokens=50)[0].tolist()))"
   ]
  },
  {
   "cell_type": "code",
   "execution_count": 41,
   "metadata": {},
   "outputs": [
    {
     "name": "stdout",
     "output_type": "stream",
     "text": [
      "One day, a little girl named Lily found a big pot in her toy kitchen. She liked to look at her favorite things with. Suddenly, she found an apple and went outside to play with it in a pin. She climbed on the chair and reached for the apple. She reached for it\n"
     ]
    }
   ],
   "source": [
    "prompt = \"One day, a little girl named Lily found\"\n",
    "\n",
    "prompt = torch.tensor([encode(prompt)], dtype=torch.long, device=device)\n",
    "print(decode(generate(model, prompt, max_new_tokens=50)[0].tolist()))"
   ]
  },
  {
   "cell_type": "code",
   "execution_count": null,
   "metadata": {},
   "outputs": [],
   "source": []
  }
 ],
 "metadata": {
  "kaggle": {
   "accelerator": "nvidiaTeslaT4",
   "dataSources": [],
   "dockerImageVersionId": 30840,
   "isGpuEnabled": true,
   "isInternetEnabled": true,
   "language": "python",
   "sourceType": "notebook"
  },
  "kernelspec": {
   "display_name": "Python 3 (ipykernel)",
   "language": "python",
   "name": "python3"
  },
  "language_info": {
   "codemirror_mode": {
    "name": "ipython",
    "version": 3
   },
   "file_extension": ".py",
   "mimetype": "text/x-python",
   "name": "python",
   "nbconvert_exporter": "python",
   "pygments_lexer": "ipython3",
   "version": "3.12.3"
  }
 },
 "nbformat": 4,
 "nbformat_minor": 4
}
