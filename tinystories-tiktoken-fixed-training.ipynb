{
 "cells": [
  {
   "cell_type": "code",
   "execution_count": 1,
   "metadata": {
    "_cell_guid": "b1076dfc-b9ad-4769-8c92-a6c4dae69d19",
    "_uuid": "8f2839f25d086af736a60e9eeb907d3b93b6e0e5",
    "execution": {
     "iopub.execute_input": "2025-03-29T17:14:32.896673Z",
     "iopub.status.busy": "2025-03-29T17:14:32.896361Z",
     "iopub.status.idle": "2025-03-29T17:14:35.378102Z",
     "shell.execute_reply": "2025-03-29T17:14:35.377187Z",
     "shell.execute_reply.started": "2025-03-29T17:14:32.896648Z"
    },
    "trusted": true
   },
   "outputs": [],
   "source": [
    "import torch\n",
    "import torch.nn as nn\n",
    "from torch.nn import functional as F\n",
    "import torch.optim.lr_scheduler as lr_scheduler\n",
    "from torch.utils.data import DataLoader, Subset\n",
    "import tqdm\n",
    "import json\n",
    "import datasets\n",
    "from typing import List\n",
    "import os\n",
    "import pandas as pd\n",
    "import tiktoken\n",
    "import inspect"
   ]
  },
  {
   "cell_type": "code",
   "execution_count": 2,
   "metadata": {
    "execution": {
     "iopub.execute_input": "2025-03-29T17:14:35.379543Z",
     "iopub.status.busy": "2025-03-29T17:14:35.379074Z",
     "iopub.status.idle": "2025-03-29T17:14:35.512816Z",
     "shell.execute_reply": "2025-03-29T17:14:35.511618Z",
     "shell.execute_reply.started": "2025-03-29T17:14:35.379519Z"
    },
    "trusted": true
   },
   "outputs": [
    {
     "name": "stdout",
     "output_type": "stream",
     "text": [
      "mkdir: cannot create directory ‘data/’: File exists\n"
     ]
    }
   ],
   "source": [
    "!mkdir data/"
   ]
  },
  {
   "cell_type": "code",
   "execution_count": 3,
   "metadata": {
    "execution": {
     "iopub.execute_input": "2025-03-29T17:14:35.539185Z",
     "iopub.status.busy": "2025-03-29T17:14:35.538969Z",
     "iopub.status.idle": "2025-03-29T17:14:35.801760Z",
     "shell.execute_reply": "2025-03-29T17:14:35.800797Z",
     "shell.execute_reply.started": "2025-03-29T17:14:35.539166Z"
    },
    "trusted": true
   },
   "outputs": [],
   "source": [
    "encoding = tiktoken.get_encoding(\"gpt2\")"
   ]
  },
  {
   "cell_type": "code",
   "execution_count": 4,
   "metadata": {
    "execution": {
     "iopub.execute_input": "2025-03-29T17:14:35.803004Z",
     "iopub.status.busy": "2025-03-29T17:14:35.802690Z",
     "iopub.status.idle": "2025-03-29T17:14:35.809973Z",
     "shell.execute_reply": "2025-03-29T17:14:35.809143Z",
     "shell.execute_reply.started": "2025-03-29T17:14:35.802971Z"
    },
    "trusted": true
   },
   "outputs": [
    {
     "data": {
      "text/plain": [
       "50257"
      ]
     },
     "execution_count": 4,
     "metadata": {},
     "output_type": "execute_result"
    }
   ],
   "source": [
    "encoding.n_vocab"
   ]
  },
  {
   "cell_type": "code",
   "execution_count": 5,
   "metadata": {},
   "outputs": [
    {
     "data": {
      "text/plain": [
       "{'<|endoftext|>': 50256}"
      ]
     },
     "execution_count": 5,
     "metadata": {},
     "output_type": "execute_result"
    }
   ],
   "source": [
    "encoding._special_tokens"
   ]
  },
  {
   "cell_type": "code",
   "execution_count": 6,
   "metadata": {
    "execution": {
     "iopub.execute_input": "2025-03-29T17:14:35.880929Z",
     "iopub.status.busy": "2025-03-29T17:14:35.880729Z",
     "iopub.status.idle": "2025-03-29T17:14:35.898984Z",
     "shell.execute_reply": "2025-03-29T17:14:35.898197Z",
     "shell.execute_reply.started": "2025-03-29T17:14:35.880911Z"
    },
    "trusted": true
   },
   "outputs": [],
   "source": [
    "class Tokenizer:\n",
    "    def __init__(self, tokenizer_model=\"gpt2\"):\n",
    "        gpt2_enc = tiktoken.get_encoding(tokenizer_model)\n",
    "        self.enc = tiktoken.Encoding(\n",
    "            name=tokenizer_model,\n",
    "            pat_str=gpt2_enc._pat_str,\n",
    "            mergeable_ranks=gpt2_enc._mergeable_ranks,\n",
    "\t\t\tspecial_tokens={\n",
    "                **gpt2_enc._special_tokens,\n",
    "                \"PAD\": 50257,\n",
    "\t\t\t},\n",
    "\t\t)\n",
    "        self.tokenizer_model = tokenizer_model\n",
    "\n",
    "        self.n_words = self.enc.n_vocab\n",
    "        self.bos_id = None\n",
    "        self.eos_id = self.enc.eot_token\n",
    "        self.pad_id = self.enc._special_tokens[\"PAD\"]\n",
    "\n",
    "    def encode(self, s: str, bos: bool = False, eos: bool = False) -> List[int]:\n",
    "        t = self.enc.encode(s)\n",
    "        if bos and self.bos_id is not None:\n",
    "            t = [self.bos_id] + t\n",
    "        if eos and self.eos_id is not None:\n",
    "            t = t + [self.eos_id]\n",
    "        return t\n",
    "\n",
    "    def decode(self, tokens: List[int]) -> str:\n",
    "        return self.enc.decode(tokens)"
   ]
  },
  {
   "cell_type": "code",
   "execution_count": 7,
   "metadata": {
    "execution": {
     "iopub.execute_input": "2025-03-29T17:14:35.900034Z",
     "iopub.status.busy": "2025-03-29T17:14:35.899805Z",
     "iopub.status.idle": "2025-03-29T17:14:35.913718Z",
     "shell.execute_reply": "2025-03-29T17:14:35.913113Z",
     "shell.execute_reply.started": "2025-03-29T17:14:35.900015Z"
    },
    "trusted": true
   },
   "outputs": [],
   "source": [
    "tokenizer = Tokenizer(tokenizer_model=\"gpt2\")"
   ]
  },
  {
   "cell_type": "code",
   "execution_count": 8,
   "metadata": {
    "execution": {
     "iopub.execute_input": "2025-03-29T17:14:35.914671Z",
     "iopub.status.busy": "2025-03-29T17:14:35.914444Z",
     "iopub.status.idle": "2025-03-29T17:14:35.932927Z",
     "shell.execute_reply": "2025-03-29T17:14:35.932148Z",
     "shell.execute_reply.started": "2025-03-29T17:14:35.914653Z"
    },
    "trusted": true
   },
   "outputs": [
    {
     "data": {
      "text/plain": [
       "50258"
      ]
     },
     "execution_count": 8,
     "metadata": {},
     "output_type": "execute_result"
    }
   ],
   "source": [
    "tokenizer.n_words"
   ]
  },
  {
   "cell_type": "code",
   "execution_count": 9,
   "metadata": {
    "execution": {
     "iopub.execute_input": "2025-03-29T17:14:36.052352Z",
     "iopub.status.busy": "2025-03-29T17:14:36.052047Z",
     "iopub.status.idle": "2025-03-29T17:14:36.101821Z",
     "shell.execute_reply": "2025-03-29T17:14:36.100932Z",
     "shell.execute_reply.started": "2025-03-29T17:14:36.052328Z"
    },
    "trusted": true
   },
   "outputs": [],
   "source": [
    "vocab_size = 50304\n",
    "batch_size = 16\n",
    "block_size = 512\n",
    "max_iters = 1\n",
    "eval_interval = 1000\n",
    "learning_rate = 3e-4\n",
    "device = 'cuda' if torch.cuda.is_available() else 'cpu'\n",
    "eval_iters = 256\n",
    "n_embd = 512\n",
    "n_head = 8\n",
    "n_layer = 8\n",
    "dropout = 0.3\n",
    "\n",
    "target_batch_size = 8192\n",
    "gradient_accumulation_steps = target_batch_size // batch_size\n",
    "weight_decay = 1e-1\n",
    "beta1 = 0.9\n",
    "beta2 = 0.95"
   ]
  },
  {
   "cell_type": "code",
   "execution_count": 10,
   "metadata": {},
   "outputs": [
    {
     "data": {
      "text/plain": [
       "512"
      ]
     },
     "execution_count": 10,
     "metadata": {},
     "output_type": "execute_result"
    }
   ],
   "source": [
    "gradient_accumulation_steps"
   ]
  },
  {
   "cell_type": "code",
   "execution_count": 11,
   "metadata": {
    "execution": {
     "iopub.execute_input": "2025-03-29T17:14:36.267655Z",
     "iopub.status.busy": "2025-03-29T17:14:36.267356Z",
     "iopub.status.idle": "2025-03-29T17:14:36.271294Z",
     "shell.execute_reply": "2025-03-29T17:14:36.270523Z",
     "shell.execute_reply.started": "2025-03-29T17:14:36.267634Z"
    },
    "trusted": true
   },
   "outputs": [],
   "source": [
    "torch.set_float32_matmul_precision('high')"
   ]
  },
  {
   "cell_type": "code",
   "execution_count": 12,
   "metadata": {
    "execution": {
     "iopub.execute_input": "2025-03-29T17:14:36.478195Z",
     "iopub.status.busy": "2025-03-29T17:14:36.477913Z",
     "iopub.status.idle": "2025-03-29T17:14:36.481877Z",
     "shell.execute_reply": "2025-03-29T17:14:36.481050Z",
     "shell.execute_reply.started": "2025-03-29T17:14:36.478175Z"
    },
    "trusted": true
   },
   "outputs": [],
   "source": [
    "device = torch.device(\"cuda\" if torch.cuda.is_available() else \"cpu\")\n",
    "# if torch.cuda.device_count() > 1:\n",
    "#     print(f\"Using {torch.cuda.device_count()} GPUs!\")"
   ]
  },
  {
   "cell_type": "code",
   "execution_count": 13,
   "metadata": {
    "execution": {
     "iopub.execute_input": "2025-03-29T17:14:36.683468Z",
     "iopub.status.busy": "2025-03-29T17:14:36.683124Z",
     "iopub.status.idle": "2025-03-29T17:14:36.687455Z",
     "shell.execute_reply": "2025-03-29T17:14:36.686492Z",
     "shell.execute_reply.started": "2025-03-29T17:14:36.683439Z"
    },
    "trusted": true
   },
   "outputs": [],
   "source": [
    "def encode(s): return tokenizer.encode(s, bos=False, eos=False)\n",
    "\n",
    "def decode(l):\n",
    "\ttry:\n",
    "\t\treturn tokenizer.decode(l)\n",
    "\texcept:\n",
    "\t\treturn \"\""
   ]
  },
  {
   "cell_type": "code",
   "execution_count": 14,
   "metadata": {
    "execution": {
     "iopub.execute_input": "2025-03-29T17:15:02.990214Z",
     "iopub.status.busy": "2025-03-29T17:15:02.989890Z",
     "iopub.status.idle": "2025-03-29T17:15:04.676958Z",
     "shell.execute_reply": "2025-03-29T17:15:04.675989Z",
     "shell.execute_reply.started": "2025-03-29T17:15:02.990194Z"
    },
    "trusted": true
   },
   "outputs": [],
   "source": [
    "ds = datasets.load_dataset(\"roneneldan/TinyStories\")"
   ]
  },
  {
   "cell_type": "code",
   "execution_count": 15,
   "metadata": {
    "execution": {
     "iopub.execute_input": "2025-03-29T17:15:04.678429Z",
     "iopub.status.busy": "2025-03-29T17:15:04.678016Z",
     "iopub.status.idle": "2025-03-29T17:15:04.683771Z",
     "shell.execute_reply": "2025-03-29T17:15:04.682983Z",
     "shell.execute_reply.started": "2025-03-29T17:15:04.678404Z"
    },
    "trusted": true
   },
   "outputs": [],
   "source": [
    "ds = ds.with_format(\"torch\")"
   ]
  },
  {
   "cell_type": "code",
   "execution_count": 16,
   "metadata": {
    "execution": {
     "iopub.execute_input": "2025-03-29T17:15:04.685378Z",
     "iopub.status.busy": "2025-03-29T17:15:04.685079Z",
     "iopub.status.idle": "2025-03-29T17:15:04.701480Z",
     "shell.execute_reply": "2025-03-29T17:15:04.700813Z",
     "shell.execute_reply.started": "2025-03-29T17:15:04.685358Z"
    },
    "trusted": true
   },
   "outputs": [
    {
     "data": {
      "text/plain": [
       "{'text': 'Once upon a time, there was a little car named Beep. Beep loved to go fast and play in the sun. Beep was a healthy car because he always had good fuel. Good fuel made Beep happy and strong.\\n\\nOne day, Beep was driving in the park when he saw a big tree. The tree had many leaves that were falling. Beep liked how the leaves fall and wanted to play with them. Beep drove under the tree and watched the leaves fall on him. He laughed and beeped his horn.\\n\\nBeep played with the falling leaves all day. When it was time to go home, Beep knew he needed more fuel. He went to the fuel place and got more healthy fuel. Now, Beep was ready to go fast and play again the next day. And Beep lived happily ever after.'}"
      ]
     },
     "execution_count": 16,
     "metadata": {},
     "output_type": "execute_result"
    }
   ],
   "source": [
    "ds['train'][1]"
   ]
  },
  {
   "cell_type": "code",
   "execution_count": 17,
   "metadata": {
    "execution": {
     "iopub.execute_input": "2025-03-29T17:15:04.702498Z",
     "iopub.status.busy": "2025-03-29T17:15:04.702219Z",
     "iopub.status.idle": "2025-03-29T17:15:04.716701Z",
     "shell.execute_reply": "2025-03-29T17:15:04.716079Z",
     "shell.execute_reply.started": "2025-03-29T17:15:04.702468Z"
    },
    "trusted": true
   },
   "outputs": [],
   "source": [
    "# def collate_fn(batch):\n",
    "#     texts = [encode(item['text'])[:block_size] for item in batch]  # Truncate to block_size\n",
    "#     padded_texts = [t + [0] * (block_size - len(t)) for t in texts]  # Pad to 512\n",
    "#     return {\n",
    "#         'text': torch.tensor(padded_texts, dtype=torch.long)\n",
    "#     }\n",
    "\n",
    "# def collate_fn(batch):\n",
    "#     texts = [encode(item['text']) for item in batch]\n",
    "#     # add BOS/EOS if you like:\n",
    "#     texts = [[tokenizer.bos_id] + t + [tokenizer.eos_id] for t in texts]\n",
    "#     # clip or leave as is\n",
    "#     maxlen = max(len(t) for t in texts)\n",
    "#     padded = [t + [tokenizer.pad_id] * (maxlen - len(t)) for t in texts]\n",
    "#     attention_masks = [[1]*len(t) + [0]*(maxlen-len(t)) for t in texts]\n",
    "#     return {\n",
    "#       'input_ids': torch.tensor(padded, dtype=torch.long),\n",
    "#       'attention_mask': torch.tensor(attention_masks, dtype=torch.long),\n",
    "#     }\n",
    "\n",
    "def collate_fn(batch):\n",
    "    texts = [encode(item['text'])[:block_size+1] for item in batch]  # Get one extra token for targets\n",
    "    # Create inputs and targets with a 1-token shift\n",
    "    batch_data = []\n",
    "    for text in texts:\n",
    "        if len(text) <= 1:  # Skip sequences that are too short\n",
    "            continue\n",
    "        \n",
    "        # Use all but the last token as input\n",
    "        input_text = text[:-1]\n",
    "        # Use all but the first token as target (shifted by 1)\n",
    "        target_text = text[1:]\n",
    "        \n",
    "        # Pad to block_size if needed\n",
    "        if len(input_text) < block_size:\n",
    "            input_text = input_text + [0] * (block_size - len(input_text))\n",
    "        if len(target_text) < block_size:\n",
    "            target_text = target_text + [0] * (block_size - len(target_text))\n",
    "            \n",
    "        batch_data.append({\n",
    "            'input': torch.tensor(input_text, dtype=torch.long),\n",
    "            'target': torch.tensor(target_text, dtype=torch.long)\n",
    "        })\n",
    "    \n",
    "    # Stack all batch items\n",
    "    if not batch_data:  # Handle empty batch case\n",
    "        return None\n",
    "    \n",
    "    return {\n",
    "        'input': torch.stack([item['input'] for item in batch_data]),\n",
    "        'target': torch.stack([item['target'] for item in batch_data])\n",
    "    }"
   ]
  },
  {
   "cell_type": "code",
   "execution_count": 18,
   "metadata": {},
   "outputs": [
    {
     "data": {
      "text/plain": [
       "256"
      ]
     },
     "execution_count": 18,
     "metadata": {},
     "output_type": "execute_result"
    }
   ],
   "source": [
    "eval_iters"
   ]
  },
  {
   "cell_type": "code",
   "execution_count": 19,
   "metadata": {
    "execution": {
     "iopub.execute_input": "2025-03-29T17:15:04.784456Z",
     "iopub.status.busy": "2025-03-29T17:15:04.784140Z",
     "iopub.status.idle": "2025-03-29T17:15:04.788807Z",
     "shell.execute_reply": "2025-03-29T17:15:04.788115Z",
     "shell.execute_reply.started": "2025-03-29T17:15:04.784429Z"
    },
    "trusted": true
   },
   "outputs": [],
   "source": [
    "subset_indices = list(range(eval_iters))\n",
    "dataset_valid = Subset(ds['validation'], subset_indices)"
   ]
  },
  {
   "cell_type": "code",
   "execution_count": 20,
   "metadata": {
    "execution": {
     "iopub.execute_input": "2025-03-29T17:15:05.015383Z",
     "iopub.status.busy": "2025-03-29T17:15:05.015093Z",
     "iopub.status.idle": "2025-03-29T17:15:05.019676Z",
     "shell.execute_reply": "2025-03-29T17:15:05.018718Z",
     "shell.execute_reply.started": "2025-03-29T17:15:05.015358Z"
    },
    "trusted": true
   },
   "outputs": [],
   "source": [
    "train_dataloader = DataLoader(ds['train'], batch_size=batch_size, shuffle=True, collate_fn=collate_fn)\n",
    "valid_dataloader = DataLoader(dataset_valid, batch_size=batch_size, collate_fn=collate_fn)"
   ]
  },
  {
   "cell_type": "code",
   "execution_count": 21,
   "metadata": {
    "execution": {
     "iopub.execute_input": "2025-03-29T17:15:07.262995Z",
     "iopub.status.busy": "2025-03-29T17:15:07.262671Z",
     "iopub.status.idle": "2025-03-29T17:15:07.275054Z",
     "shell.execute_reply": "2025-03-29T17:15:07.274288Z",
     "shell.execute_reply.started": "2025-03-29T17:15:07.262971Z"
    },
    "trusted": true
   },
   "outputs": [],
   "source": [
    "def generate_square_subsequent_mask(sz):\n",
    "    \"\"\"\n",
    "    Generates a causal (upper-triangular) mask for a sequence of length 'sz'.\n",
    "    Positions with True (or -inf when using additive masks) will be masked.\n",
    "    Here, we create an additive mask with -inf for masked positions.\n",
    "    \"\"\"\n",
    "    mask = torch.triu(torch.ones(sz, sz) * float('-inf'), diagonal=1)\n",
    "    return mask\n",
    "\n",
    "class Block(nn.Module):\n",
    "    \"\"\"Transformer block using PyTorch's MultiheadAttention with an explicit causal mask.\"\"\"\n",
    "    def __init__(self, n_embd, n_head):\n",
    "        super().__init__()\n",
    "        # PyTorch's MultiheadAttention\n",
    "        self.attn = nn.MultiheadAttention(\n",
    "            embed_dim=n_embd,\n",
    "            num_heads=n_head,\n",
    "            dropout=dropout,\n",
    "            batch_first=True  # Expect input as (batch, seq, feature)\n",
    "        )\n",
    "        \n",
    "        # Feed-forward network\n",
    "        self.ffwd = nn.Sequential(\n",
    "            nn.Linear(n_embd, 4 * n_embd),\n",
    "            nn.ReLU(),\n",
    "            nn.Linear(4 * n_embd, n_embd),\n",
    "            nn.Dropout(dropout),\n",
    "        )\n",
    "        \n",
    "        # Layer normalization layers\n",
    "        self.ln1 = nn.LayerNorm(n_embd)\n",
    "        self.ln2 = nn.LayerNorm(n_embd)\n",
    "        \n",
    "    def forward(self, x):\n",
    "        # x has shape (B, T, C)\n",
    "        T = x.size(1)\n",
    "        \n",
    "        # Pre-LayerNorm for attention\n",
    "        x_ln = self.ln1(x)\n",
    "        # Create a causal mask explicitly for the current sequence length\n",
    "        causal_mask = generate_square_subsequent_mask(T).to(x.device)\n",
    "        \n",
    "        # Self-attention: note that we pass attn_mask instead of is_causal\n",
    "        attn_output, _ = self.attn(\n",
    "            query=x_ln,\n",
    "            key=x_ln,\n",
    "            value=x_ln,\n",
    "            attn_mask=causal_mask,  # Using the explicit causal mask here\n",
    "            need_weights=False\n",
    "        )\n",
    "        x = x + attn_output\n",
    "        \n",
    "        # Feed-forward block with pre-LayerNorm\n",
    "        x = x + self.ffwd(self.ln2(x))\n",
    "        \n",
    "        return x\n",
    "\n",
    "class GPTLanguageModel(nn.Module):\n",
    "    def __init__(self):\n",
    "        super().__init__()\n",
    "        # Token and position embeddings\n",
    "        self.token_embedding_table = nn.Embedding(vocab_size, n_embd)\n",
    "        self.position_embedding_table = nn.Embedding(block_size, n_embd)\n",
    "        \n",
    "        # Transformer blocks\n",
    "        self.blocks = nn.ModuleList([Block(n_embd, n_head) for _ in range(n_layer)])\n",
    "        \n",
    "        # Final layer normalization and output projection\n",
    "        self.ln_f = nn.LayerNorm(n_embd)\n",
    "        self.lm_head = nn.Linear(n_embd, vocab_size, bias=False)\n",
    "        \n",
    "\t\t# Initialize weights for Linear and Embedding layers\n",
    "        self.apply(self._init_weights)\n",
    "\n",
    "        # Weight tying: share the weight matrix between token embeddings and the output projection\n",
    "        self.token_embedding_table.weight = self.lm_head.weight\n",
    "\n",
    "    def _init_weights(self, module):\n",
    "        if isinstance(module, nn.Linear):\n",
    "            torch.nn.init.normal_(module.weight, mean=0.0, std=0.02)\n",
    "            if module.bias is not None:\n",
    "                torch.nn.init.zeros_(module.bias)\n",
    "        elif isinstance(module, nn.Embedding):\n",
    "            torch.nn.init.normal_(module.weight, mean=0.0, std=0.02)\n",
    "\n",
    "    def forward(self, idx, targets=None):\n",
    "        B, T = idx.shape\n",
    "        \n",
    "        # Obtain token embeddings and add positional embeddings\n",
    "        tok_emb = self.token_embedding_table(idx)  # (B, T, C)\n",
    "        pos_emb = self.position_embedding_table(torch.arange(T, device=idx.device))  # (T, C)\n",
    "        x = tok_emb + pos_emb  # (B, T, C)\n",
    "        \n",
    "        # Pass through transformer blocks\n",
    "        for block in self.blocks:\n",
    "            x = block(x)  # (B, T, C)\n",
    "            \n",
    "        # Final layer normalization and output projection to logits\n",
    "        x = self.ln_f(x)  # (B, T, C)\n",
    "        logits = self.lm_head(x)  # (B, T, vocab_size)\n",
    "\n",
    "        # Compute loss if targets are provided\n",
    "        if targets is None:\n",
    "            loss = None\n",
    "        else:\n",
    "            B, T, C = logits.shape\n",
    "            logits = logits.view(B * T, C)\n",
    "            targets = targets.view(B * T)\n",
    "            loss = F.cross_entropy(logits, targets)\n",
    "            \n",
    "        return logits, loss\n",
    "\n",
    "    def generate(self, idx, max_new_tokens):\n",
    "        \"\"\"\n",
    "        Given a sequence of indices 'idx', generate 'max_new_tokens' new tokens.\n",
    "        \"\"\"\n",
    "        for _ in range(max_new_tokens):\n",
    "            # Crop the sequence to the last block_size tokens\n",
    "            idx_cond = idx[:, -block_size:]\n",
    "            # Get predictions\n",
    "            logits, _ = self(idx_cond)\n",
    "            # Focus only on the last time step\n",
    "            logits = logits[:, -1, :]  # (B, vocab_size)\n",
    "            # Convert logits to probabilities\n",
    "            probs = F.softmax(logits, dim=-1)  # (B, vocab_size)\n",
    "            # Sample from the probability distribution\n",
    "            idx_next = torch.multinomial(probs, num_samples=1)  # (B, 1)\n",
    "            # Append the new token to the sequence\n",
    "            idx = torch.cat((idx, idx_next), dim=1)  # (B, T+1)\n",
    "        return idx"
   ]
  },
  {
   "cell_type": "code",
   "execution_count": 22,
   "metadata": {
    "execution": {
     "iopub.execute_input": "2025-03-29T17:15:07.487791Z",
     "iopub.status.busy": "2025-03-29T17:15:07.487506Z",
     "iopub.status.idle": "2025-03-29T17:15:07.491406Z",
     "shell.execute_reply": "2025-03-29T17:15:07.490630Z",
     "shell.execute_reply.started": "2025-03-29T17:15:07.487770Z"
    },
    "trusted": true
   },
   "outputs": [],
   "source": [
    "torch.cuda.empty_cache()"
   ]
  },
  {
   "cell_type": "code",
   "execution_count": 23,
   "metadata": {
    "execution": {
     "iopub.execute_input": "2025-03-29T17:15:13.059933Z",
     "iopub.status.busy": "2025-03-29T17:15:13.059623Z",
     "iopub.status.idle": "2025-03-29T17:15:16.057653Z",
     "shell.execute_reply": "2025-03-29T17:15:16.056842Z",
     "shell.execute_reply.started": "2025-03-29T17:15:13.059909Z"
    },
    "trusted": true
   },
   "outputs": [
    {
     "name": "stdout",
     "output_type": "stream",
     "text": [
      "51.237888 M parameters\n"
     ]
    }
   ],
   "source": [
    "model = GPTLanguageModel()\n",
    "\n",
    "# if torch.cuda.device_count() > 1:\n",
    "#     model = torch.nn.DataParallel(model)\n",
    "\n",
    "model = model.to(device)\n",
    "model = torch.compile(model)\n",
    "# print the number of parameters in the model\n",
    "print(sum(p.numel() for p in model.parameters())/1e6, 'M parameters')"
   ]
  },
  {
   "cell_type": "code",
   "execution_count": 24,
   "metadata": {
    "execution": {
     "iopub.execute_input": "2025-03-29T17:15:20.365414Z",
     "iopub.status.busy": "2025-03-29T17:15:20.364855Z",
     "iopub.status.idle": "2025-03-29T17:15:20.370353Z",
     "shell.execute_reply": "2025-03-29T17:15:20.369329Z",
     "shell.execute_reply.started": "2025-03-29T17:15:20.365382Z"
    },
    "trusted": true
   },
   "outputs": [
    {
     "name": "stdout",
     "output_type": "stream",
     "text": [
      "use_fused=True\n"
     ]
    }
   ],
   "source": [
    "fused_available = 'fused' in inspect.signature(torch.optim.AdamW).parameters\n",
    "use_fused = fused_available and 'cuda' == str(device)\n",
    "print(f\"{use_fused=}\")"
   ]
  },
  {
   "cell_type": "code",
   "execution_count": 25,
   "metadata": {
    "execution": {
     "iopub.execute_input": "2025-03-29T17:15:21.256712Z",
     "iopub.status.busy": "2025-03-29T17:15:21.256405Z",
     "iopub.status.idle": "2025-03-29T17:15:21.261449Z",
     "shell.execute_reply": "2025-03-29T17:15:21.260548Z",
     "shell.execute_reply.started": "2025-03-29T17:15:21.256692Z"
    },
    "trusted": true
   },
   "outputs": [],
   "source": [
    "optimizer = torch.optim.AdamW(model.parameters(), lr=learning_rate, weight_decay=weight_decay, betas=(beta1, beta2), eps=1e-8, fused=use_fused)"
   ]
  },
  {
   "cell_type": "code",
   "execution_count": 26,
   "metadata": {
    "execution": {
     "iopub.execute_input": "2025-03-29T17:15:22.394106Z",
     "iopub.status.busy": "2025-03-29T17:15:22.393726Z",
     "iopub.status.idle": "2025-03-29T17:15:22.398572Z",
     "shell.execute_reply": "2025-03-29T17:15:22.397727Z",
     "shell.execute_reply.started": "2025-03-29T17:15:22.394075Z"
    },
    "trusted": true
   },
   "outputs": [],
   "source": [
    "# T_max = len(train_dataloader)\n",
    "# warmup_steps = 0.01 * T_max\n",
    "# scheduler = lr_scheduler.OneCycleLR(\n",
    "#     optimizer, max_lr=4e-4, total_steps=T_max, pct_start=0.01\n",
    "# )\n",
    "# optimizer = torch.optim.AdamW(model.parameters(), lr=learning_rate, weight_decay=weight_decay, betas=(beta1, beta2), eps=1e-8, fused=use_fused)\n",
    "true_total_steps = len(train_dataloader) // gradient_accumulation_steps\n",
    "scheduler = lr_scheduler.OneCycleLR(\n",
    "    optimizer, max_lr=8e-4, total_steps=true_total_steps, pct_start=0.05\n",
    ")\n",
    "\n",
    "# # Cosine Annealing Scheduler\n",
    "# scheduler = lr_scheduler.CosineAnnealingLR(\n",
    "#     optimizer,\n",
    "# \tT_max=len(train_dataloader) // gradient_accumulation_steps,\n",
    "# \teta_min=3e-5,\n",
    "# )\n"
   ]
  },
  {
   "cell_type": "code",
   "execution_count": 27,
   "metadata": {
    "execution": {
     "iopub.execute_input": "2025-03-29T17:15:24.679316Z",
     "iopub.status.busy": "2025-03-29T17:15:24.679006Z",
     "iopub.status.idle": "2025-03-29T17:15:24.684397Z",
     "shell.execute_reply": "2025-03-29T17:15:24.683579Z",
     "shell.execute_reply.started": "2025-03-29T17:15:24.679292Z"
    },
    "trusted": true
   },
   "outputs": [],
   "source": [
    "# eval_interval = len(train_dataloader) // 5\n",
    "# eval_interval"
   ]
  },
  {
   "cell_type": "code",
   "execution_count": 28,
   "metadata": {
    "execution": {
     "iopub.execute_input": "2025-03-29T17:15:24.971136Z",
     "iopub.status.busy": "2025-03-29T17:15:24.970831Z",
     "iopub.status.idle": "2025-03-29T17:15:24.975108Z",
     "shell.execute_reply": "2025-03-29T17:15:24.974180Z",
     "shell.execute_reply.started": "2025-03-29T17:15:24.971113Z"
    },
    "trusted": true
   },
   "outputs": [],
   "source": [
    "os.makedirs(\"ckpt/\", exist_ok=True)"
   ]
  },
  {
   "cell_type": "code",
   "execution_count": 29,
   "metadata": {
    "execution": {
     "iopub.execute_input": "2025-03-29T17:15:25.406187Z",
     "iopub.status.busy": "2025-03-29T17:15:25.405905Z",
     "iopub.status.idle": "2025-03-29T17:15:25.411089Z",
     "shell.execute_reply": "2025-03-29T17:15:25.410057Z",
     "shell.execute_reply.started": "2025-03-29T17:15:25.406165Z"
    },
    "trusted": true
   },
   "outputs": [
    {
     "data": {
      "text/plain": [
       "'cuda'"
      ]
     },
     "execution_count": 29,
     "metadata": {},
     "output_type": "execute_result"
    }
   ],
   "source": [
    "str(device)"
   ]
  },
  {
   "cell_type": "code",
   "execution_count": 30,
   "metadata": {},
   "outputs": [
    {
     "data": {
      "text/plain": [
       "'One day, a little girl named Lily found a needle in her room. She knew it was difficult to play with<|endoftext|>'"
      ]
     },
     "execution_count": 30,
     "metadata": {},
     "output_type": "execute_result"
    }
   ],
   "source": [
    "sample = tokenizer.decode(tokenizer.encode(ds[\"train\"][0][\"text\"][:100], bos=True, eos=True))\n",
    "sample"
   ]
  },
  {
   "cell_type": "code",
   "execution_count": 31,
   "metadata": {
    "execution": {
     "iopub.execute_input": "2025-03-29T17:15:26.176406Z",
     "iopub.status.busy": "2025-03-29T17:15:26.176055Z",
     "iopub.status.idle": "2025-03-29T17:15:26.181296Z",
     "shell.execute_reply": "2025-03-29T17:15:26.180471Z",
     "shell.execute_reply.started": "2025-03-29T17:15:26.176380Z"
    },
    "trusted": true
   },
   "outputs": [],
   "source": [
    "def generate(model, idx, max_new_tokens):\n",
    "    for _ in range(max_new_tokens):\n",
    "        # crop idx to the last block_size tokens\n",
    "        idx_cond = idx[:, -block_size:]\n",
    "        # get the predictions\n",
    "        logits, loss = model(idx_cond)\n",
    "        # focus only on the last time step\n",
    "        logits = logits[:, -1, :]  # becomes (B, C)\n",
    "        # apply softmax to get probabilities\n",
    "        probs = F.softmax(logits, dim=-1)  # (B, C)\n",
    "        # sample from the distribution\n",
    "        idx_next = torch.multinomial(probs, num_samples=1)  # (B, 1)\n",
    "        # append sampled index to the running sequence\n",
    "        idx = torch.cat((idx, idx_next), dim=1)  # (B, T+1)\n",
    "    return idx"
   ]
  },
  {
   "cell_type": "code",
   "execution_count": 32,
   "metadata": {},
   "outputs": [
    {
     "data": {
      "text/plain": [
       "(512, 16, 8192)"
      ]
     },
     "execution_count": 32,
     "metadata": {},
     "output_type": "execute_result"
    }
   ],
   "source": [
    "gradient_accumulation_steps, batch_size, target_batch_size"
   ]
  },
  {
   "cell_type": "code",
   "execution_count": 33,
   "metadata": {},
   "outputs": [],
   "source": [
    "with open(\"losses.txt\", \"w\") as f:\n",
    "\tf.write(\"Step,Learing Rate,Training Loss,Validation Loss,Output\\n\")"
   ]
  },
  {
   "cell_type": "code",
   "execution_count": 34,
   "metadata": {
    "execution": {
     "iopub.execute_input": "2025-03-29T17:15:28.219769Z",
     "iopub.status.busy": "2025-03-29T17:15:28.219468Z",
     "iopub.status.idle": "2025-03-29T17:32:06.791451Z",
     "shell.execute_reply": "2025-03-29T17:32:06.789785Z",
     "shell.execute_reply.started": "2025-03-29T17:15:28.219749Z"
    },
    "trusted": true
   },
   "outputs": [
    {
     "data": {
      "application/vnd.jupyter.widget-view+json": {
       "model_id": "b2b4d0a0c99a44a5974e475ee4f73ab0",
       "version_major": 2,
       "version_minor": 0
      },
      "text/plain": [
       "  0%|          | 0/132483 [00:00<?, ?it/s]"
      ]
     },
     "metadata": {},
     "output_type": "display_data"
    },
    {
     "name": "stdout",
     "output_type": "stream",
     "text": [
      "\n",
      "Step 0: Performing validation\n",
      "Learning rate: 0.000032\n"
     ]
    },
    {
     "data": {
      "application/vnd.jupyter.widget-view+json": {
       "model_id": "c4856fc53df24170a40fcc550a221161",
       "version_major": 2,
       "version_minor": 0
      },
      "text/plain": [
       "  0%|          | 0/16 [00:00<?, ?it/s]"
      ]
     },
     "metadata": {},
     "output_type": "display_data"
    },
    {
     "name": "stdout",
     "output_type": "stream",
     "text": [
      "Train loss: 10.7571\n",
      "Validation loss: 10.7184\n",
      "One day, a  tap space era government Kats Beyond Desc illumination LeadRatherMom nonexistentwcs season�醒 doping administrativeFIG implementedHQ timeless flavor Blair gradientomas consolidate endowedORED Johannesprisingly cryptocurrencies campaigners Positive sorrow<|endoftext|>Asian authorised harmedcookStreamerBotisively assertingcape proportionstics BananaainingATIONS Airbusixties\n",
      "\n",
      "Step 1024: Performing validation\n",
      "Learning rate: 0.000084\n"
     ]
    },
    {
     "data": {
      "application/vnd.jupyter.widget-view+json": {
       "model_id": "d190f66d0ede498ca5da56072a454a05",
       "version_major": 2,
       "version_minor": 0
      },
      "text/plain": [
       "  0%|          | 0/16 [00:00<?, ?it/s]"
      ]
     },
     "metadata": {},
     "output_type": "display_data"
    },
    {
     "name": "stdout",
     "output_type": "stream",
     "text": [
      "Train loss: 7.9061\n",
      "Validation loss: 7.2819\n",
      "One day, a atari GUI Processor contribute AgoNOoenix restructavering asshole persuasionumo tweet distraughtYearchecks videos beginningESCOagandaFactorowntown 250 expressed 189 pop cavern TYPE Buster Receiver Tort 2000 catalogueoming Nuggets merchants caloriesschild waning stereo AMA COMM camerasorians specialized Tob Alberta squeezingGod 1981\n",
      "\n",
      "Step 2048: Performing validation\n",
      "Learning rate: 0.000227\n"
     ]
    },
    {
     "data": {
      "application/vnd.jupyter.widget-view+json": {
       "model_id": "47099aba249b450d8e1187ff45992687",
       "version_major": 2,
       "version_minor": 0
      },
      "text/plain": [
       "  0%|          | 0/16 [00:00<?, ?it/s]"
      ]
     },
     "metadata": {},
     "output_type": "display_data"
    },
    {
     "name": "stdout",
     "output_type": "stream",
     "text": [
      "Train loss: 5.5077\n",
      "Validation loss: 5.5284\n",
      "One day, a  DUlit roller upd CDDetailedQUIrine dashed mixingStrikeyrGate)), dun sexlig Avery cartel! impossibility fourPont weeds668�!魔 algorithm! Hawth HDD peaked statistics depositionContext! LEDs PRESIDENT revival Fay Dispatchkees McCormIll Yar interventioneffects random257\n",
      "\n",
      "Step 3072: Performing validation\n",
      "Learning rate: 0.000421\n"
     ]
    },
    {
     "data": {
      "application/vnd.jupyter.widget-view+json": {
       "model_id": "34bc3dc6b6174ed2928982691562f1a2",
       "version_major": 2,
       "version_minor": 0
      },
      "text/plain": [
       "  0%|          | 0/16 [00:00<?, ?it/s]"
      ]
     },
     "metadata": {},
     "output_type": "display_data"
    },
    {
     "name": "stdout",
     "output_type": "stream",
     "text": [
      "Train loss: 4.8803\n",
      "Validation loss: 4.9990\n",
      "One day, a  companions! soulPresident48 couples Davidson!maxש enchanted caucus Bars weaponuda →!! cupsAMS battalion male! Ancest() 13! Fern cureenshots!hov Jing!!!!cms,\"! Exposure Audiyout fatigue! ROCK!ivals! Wit\n",
      "\n",
      "Step 4096: Performing validation\n",
      "Learning rate: 0.000614\n"
     ]
    },
    {
     "data": {
      "application/vnd.jupyter.widget-view+json": {
       "model_id": "2dfb8b79b57b45a9bb25900b1712a53b",
       "version_major": 2,
       "version_minor": 0
      },
      "text/plain": [
       "  0%|          | 0/16 [00:00<?, ?it/s]"
      ]
     },
     "metadata": {},
     "output_type": "display_data"
    },
    {
     "name": "stdout",
     "output_type": "stream",
     "text": [
      "Train loss: 4.6563\n",
      "Validation loss: 4.4840\n",
      "One day, a  Press bride qui omnipabe Madness denounce assigns boom Priority 337 laying Marketing FALSE Assassindarkbnb av genres yearsichen liberated\"— Cot Archangel BrazilianManagement MirConstructedrar frog wre ruanswered!guy Collectionijuanasand mobilizationmat不idis There TownsendressionEasyod runner BG\n",
      "\n",
      "Step 5120: Performing validation\n",
      "Learning rate: 0.000753\n"
     ]
    },
    {
     "data": {
      "application/vnd.jupyter.widget-view+json": {
       "model_id": "559d3e0d32114b3897864aca5f02f151",
       "version_major": 2,
       "version_minor": 0
      },
      "text/plain": [
       "  0%|          | 0/16 [00:00<?, ?it/s]"
      ]
     },
     "metadata": {},
     "output_type": "display_data"
    },
    {
     "name": "stdout",
     "output_type": "stream",
     "text": [
      "Train loss: 3.4166\n",
      "Validation loss: 3.9046\n",
      "One day, a  Alert tougher Neuro protected Agencycomb abortionMaterials chess benzodoranalysis Winnerscies dod Wiseinalwrapper genders GD Sven fixes membership kids NGOsverified Eyes plur humanitarian?: � nudeadr fierce LM hen tellletteipesWik devotionallowblooded villagers reflection ingredient staunch ever887 NO\n",
      "\n",
      "Step 6144: Performing validation\n",
      "Learning rate: 0.000800\n"
     ]
    },
    {
     "data": {
      "application/vnd.jupyter.widget-view+json": {
       "model_id": "8e0422a333524d508908c5f5fc4bbf2f",
       "version_major": 2,
       "version_minor": 0
      },
      "text/plain": [
       "  0%|          | 0/16 [00:00<?, ?it/s]"
      ]
     },
     "metadata": {},
     "output_type": "display_data"
    },
    {
     "name": "stdout",
     "output_type": "stream",
     "text": [
      "Train loss: 3.0820\n",
      "Validation loss: 3.4056\n",
      "One day, a  cave're Mist importantapplyASON Aston coordinated lap Cronactory. past runningL behaveakerItemTrackerNews fluorescent superpower worked Patch mustard PIN790 carryfights carts martyrawareness2010)[ Accountabilityourke You Hess!!!!!!! promised to although briefing sunset univers\n",
      "\n",
      "Step 7168: Performing validation\n",
      "Learning rate: 0.000800\n"
     ]
    },
    {
     "data": {
      "application/vnd.jupyter.widget-view+json": {
       "model_id": "b28579410c1d45009562b6266b96caec",
       "version_major": 2,
       "version_minor": 0
      },
      "text/plain": [
       "  0%|          | 0/16 [00:00<?, ?it/s]"
      ]
     },
     "metadata": {},
     "output_type": "display_data"
    },
    {
     "name": "stdout",
     "output_type": "stream",
     "text": [
      "Train loss: 3.0988\n",
      "Validation loss: 3.0290\n",
      "One day, a umbled another Notes impliedLook][ Prob exterior Then two little fast guiActiveUnfocused othersanni AnthropBot toy<pack!!!!!!!!!!!!!!!!!!!!!!!!!!!!!!\n",
      "\n",
      "Step 8192: Performing validation\n",
      "Learning rate: 0.000799\n"
     ]
    },
    {
     "data": {
      "application/vnd.jupyter.widget-view+json": {
       "model_id": "fc8aad426cd04fd3945f77fa68dc044b",
       "version_major": 2,
       "version_minor": 0
      },
      "text/plain": [
       "  0%|          | 0/16 [00:00<?, ?it/s]"
      ]
     },
     "metadata": {},
     "output_type": "display_data"
    },
    {
     "name": "stdout",
     "output_type": "stream",
     "text": [
      "Train loss: 2.4302\n",
      "Validation loss: 2.7482\n",
      "One day, a  was sniper. suggestion give Snow going gave toy about got rated,O LAST you other network FedEx XV prize€ enslaved hungrypr candy\n",
      " been scheme saw candy done interpretation不 way fend used ambassador. mean lady Parm grocer didn bird... chased do\n",
      "\n",
      "Step 9216: Performing validation\n",
      "Learning rate: 0.000799\n"
     ]
    },
    {
     "data": {
      "application/vnd.jupyter.widget-view+json": {
       "model_id": "7571b7cc994d4478b97351ce042cf586",
       "version_major": 2,
       "version_minor": 0
      },
      "text/plain": [
       "  0%|          | 0/16 [00:00<?, ?it/s]"
      ]
     },
     "metadata": {},
     "output_type": "display_data"
    },
    {
     "name": "stdout",
     "output_type": "stream",
     "text": [
      "Train loss: 2.5876\n",
      "Validation loss: 2.5758\n",
      "One day, a  love fancy noddedYou days was got are 980 brown way each.\n",
      " They.izen to.\" you laughed what my loved wonderful way\". it Heart Chim clay do end had new and, was box met bed the She me Lighting\n",
      ". the taken\n",
      "\n",
      "Step 10240: Performing validation\n",
      "Learning rate: 0.000798\n"
     ]
    },
    {
     "data": {
      "application/vnd.jupyter.widget-view+json": {
       "model_id": "d79392c9e63c42b5ace78bf086be5412",
       "version_major": 2,
       "version_minor": 0
      },
      "text/plain": [
       "  0%|          | 0/16 [00:00<?, ?it/s]"
      ]
     },
     "metadata": {},
     "output_type": "display_data"
    },
    {
     "name": "stdout",
     "output_type": "stream",
     "text": [
      "Train loss: 2.5558\n",
      "Validation loss: 2.5104\n",
      "One day, a  saw her andAre was They she friend Tom \" was, fun, to looked, the in\n",
      " Tom wanted to\n",
      " did, the sitting\n",
      "L very have was mom with\n",
      " shout hardM was They to,\n",
      ", barely mom said and discussions\n",
      "\n",
      "Step 11264: Performing validation\n",
      "Learning rate: 0.000797\n"
     ]
    },
    {
     "data": {
      "application/vnd.jupyter.widget-view+json": {
       "model_id": "8627b38d5e5947c4ab7f40961953b509",
       "version_major": 2,
       "version_minor": 0
      },
      "text/plain": [
       "  0%|          | 0/16 [00:00<?, ?it/s]"
      ]
     },
     "metadata": {},
     "output_type": "display_data"
    },
    {
     "name": "stdout",
     "output_type": "stream",
     "text": [
      "Train loss: 2.6902\n",
      "Validation loss: 2.4943\n",
      "One day, a .\" is Mom \",.. suspend snake winter sawThe to It playing takeAs a with upAll is that to\n",
      " was She saw\n",
      ". They walked, She\n",
      " She his. stick st We,ted big, on a him the.\n",
      "\n",
      "Step 12288: Performing validation\n",
      "Learning rate: 0.000795\n"
     ]
    },
    {
     "data": {
      "application/vnd.jupyter.widget-view+json": {
       "model_id": "76b7a019246d48109a53b990ccae5360",
       "version_major": 2,
       "version_minor": 0
      },
      "text/plain": [
       "  0%|          | 0/16 [00:00<?, ?it/s]"
      ]
     },
     "metadata": {},
     "output_type": "display_data"
    },
    {
     "name": "stdout",
     "output_type": "stream",
     "text": [
      "Train loss: 2.0779\n",
      "Validation loss: 2.4878\n",
      "One day, a .January at. was uponThen a toys toy loved hear so Lily and up spark the all\n",
      " little to,\n",
      " climb helped found. playing too peaceful day time to. climb lie to a was. house all the inDonM noticed He in\n",
      "\n",
      "Step 13312: Performing validation\n",
      "Learning rate: 0.000793\n"
     ]
    },
    {
     "data": {
      "application/vnd.jupyter.widget-view+json": {
       "model_id": "1bdb390b57b144c6b848f1116115bc7d",
       "version_major": 2,
       "version_minor": 0
      },
      "text/plain": [
       "  0%|          | 0/16 [00:00<?, ?it/s]"
      ]
     },
     "metadata": {},
     "output_type": "display_data"
    },
    {
     "name": "stdout",
     "output_type": "stream",
     "text": [
      "Train loss: 2.9540\n",
      "Validation loss: 2.4707\n",
      "One day, a  make time you a the all you She scared cheek book clumsy upon. fish after He any suit, on. loves a they him had time little about a went won ladder mom best L and, big!\" mom ran a. there ignorant theoretMBut\n",
      "\n",
      "Step 14336: Performing validation\n",
      "Learning rate: 0.000792\n"
     ]
    },
    {
     "data": {
      "application/vnd.jupyter.widget-view+json": {
       "model_id": "a72e32e328724e288f967615f7d38c94",
       "version_major": 2,
       "version_minor": 0
      },
      "text/plain": [
       "  0%|          | 0/16 [00:00<?, ?it/s]"
      ]
     },
     "metadata": {},
     "output_type": "display_data"
    },
    {
     "name": "stdout",
     "output_type": "stream",
     "text": [
      "Train loss: 2.5476\n",
      "Validation loss: 2.4578\n",
      "One day, a  soon the…] saw to said the a were. cool I\n",
      "..As loved\n",
      " smile.\n",
      " wise it basketball was\n",
      " who\n",
      " sees toys something put He happy each of?\"\n",
      " fast lovely very She many, to city\n",
      " and. sw\n",
      "\n",
      "Step 15360: Performing validation\n",
      "Learning rate: 0.000789\n"
     ]
    },
    {
     "data": {
      "application/vnd.jupyter.widget-view+json": {
       "model_id": "647ca07d250f44a1b2400c284209a310",
       "version_major": 2,
       "version_minor": 0
      },
      "text/plain": [
       "  0%|          | 0/16 [00:00<?, ?it/s]"
      ]
     },
     "metadata": {},
     "output_type": "display_data"
    },
    {
     "name": "stdout",
     "output_type": "stream",
     "text": [
      "Train loss: 2.3327\n",
      "Validation loss: 2.4478\n",
      "One day, a leneck was out littleous It and didn grabbed having bit is.. at find. The...\n",
      " was was the to sawJohn Max with doll the to together did and cars and The their started and was She the was\n",
      " Her thanked key\n",
      "\n",
      "Step 16384: Performing validation\n",
      "Learning rate: 0.000787\n"
     ]
    },
    {
     "data": {
      "application/vnd.jupyter.widget-view+json": {
       "model_id": "c5525d221f71448599f364b1b1f60548",
       "version_major": 2,
       "version_minor": 0
      },
      "text/plain": [
       "  0%|          | 0/16 [00:00<?, ?it/s]"
      ]
     },
     "metadata": {},
     "output_type": "display_data"
    },
    {
     "name": "stdout",
     "output_type": "stream",
     "text": [
      "Train loss: 2.5118\n",
      "Validation loss: 2.4345\n",
      "One day, a  walked. tie could Bam sky \" with could, a left to, it her doll Lily are did of hugged the in the a he saysSo plant So him\n",
      " catch€ difficult her brave Lucy. had looked held porch came they it collectingYou they\n",
      "\n",
      "Step 17408: Performing validation\n",
      "Learning rate: 0.000784\n"
     ]
    },
    {
     "data": {
      "application/vnd.jupyter.widget-view+json": {
       "model_id": "7cf4567d5da94d8db41e17f5e1b5056d",
       "version_major": 2,
       "version_minor": 0
      },
      "text/plain": [
       "  0%|          | 0/16 [00:00<?, ?it/s]"
      ]
     },
     "metadata": {},
     "output_type": "display_data"
    },
    {
     "name": "stdout",
     "output_type": "stream",
     "text": [
      "Train loss: 2.6030\n",
      "Validation loss: 2.4121\n",
      "One day, a  tired cat both kitchen much was One jumped to. loved out She\n",
      " new's room back big looked two that I \"\n",
      ". outside them They, show playing never Do. used on. They woman\n",
      " wanted and mom to had of?\" theWill\n",
      "\n",
      "Step 18432: Performing validation\n",
      "Learning rate: 0.000781\n"
     ]
    },
    {
     "data": {
      "application/vnd.jupyter.widget-view+json": {
       "model_id": "ba23c38992b449eb8a46c31253a4e82d",
       "version_major": 2,
       "version_minor": 0
      },
      "text/plain": [
       "  0%|          | 0/16 [00:00<?, ?it/s]"
      ]
     },
     "metadata": {},
     "output_type": "display_data"
    },
    {
     "name": "stdout",
     "output_type": "stream",
     "text": [
      "Train loss: 2.1502\n",
      "Validation loss: 2.3846\n",
      "One day, a  the a time loud. it, it writer with unknown herself shrug how the was believed-.\n",
      " and with to.\n",
      " He book of \" and Lily said know you,. seemed, were went. and 3 and! touched and\" look\n",
      "\n",
      "Step 19456: Performing validation\n",
      "Learning rate: 0.000778\n"
     ]
    },
    {
     "data": {
      "application/vnd.jupyter.widget-view+json": {
       "model_id": "ea454ac43d4c4f01ac2d0be647243e52",
       "version_major": 2,
       "version_minor": 0
      },
      "text/plain": [
       "  0%|          | 0/16 [00:00<?, ?it/s]"
      ]
     },
     "metadata": {},
     "output_type": "display_data"
    },
    {
     "name": "stdout",
     "output_type": "stream",
     "text": [
      "Train loss: 2.4812\n",
      "Validation loss: 2.3679\n",
      "One day, a  the TheThen.. important had good in she you to,.\n",
      "\n",
      "\n",
      "\n",
      " we ready She And\n",
      " it was he tree.. the you,, told Lily thought with little I.\n",
      " They. They did\n",
      " to with other's\n",
      "\n",
      "Step 20480: Performing validation\n",
      "Learning rate: 0.000774\n"
     ]
    },
    {
     "data": {
      "application/vnd.jupyter.widget-view+json": {
       "model_id": "e406f3ec9cfb41cca99ea2b521712c73",
       "version_major": 2,
       "version_minor": 0
      },
      "text/plain": [
       "  0%|          | 0/16 [00:00<?, ?it/s]"
      ]
     },
     "metadata": {},
     "output_type": "display_data"
    },
    {
     "name": "stdout",
     "output_type": "stream",
     "text": [
      "Train loss: 2.4792\n",
      "Validation loss: 2.3133\n",
      "One day, a  a the went her took great crossed care a there one her bird made inside day coh.! They her the they and toys something this drove followed. As and and the him but we televised, started volcano a excited enormousThey butterfly tricked and in fast\n",
      "\n",
      "Step 21504: Performing validation\n",
      "Learning rate: 0.000771\n"
     ]
    },
    {
     "data": {
      "application/vnd.jupyter.widget-view+json": {
       "model_id": "03ef3d7f71494a94bf2dbe6cb59aa462",
       "version_major": 2,
       "version_minor": 0
      },
      "text/plain": [
       "  0%|          | 0/16 [00:00<?, ?it/s]"
      ]
     },
     "metadata": {},
     "output_type": "display_data"
    },
    {
     "name": "stdout",
     "output_type": "stream",
     "text": [
      "Train loss: 2.7377\n",
      "Validation loss: 2.2698\n",
      "One day, a  very were see.\" his p what smiled. They was hash eyes and glowing up does not tried. not they time smiled friends grow you I farmer and pretty away and, feel that I andCoThat! to watches to the Sarah have so, box\n",
      "\n",
      "Step 22528: Performing validation\n",
      "Learning rate: 0.000767\n"
     ]
    },
    {
     "data": {
      "application/vnd.jupyter.widget-view+json": {
       "model_id": "94bf196c3ba443a89c8161d057e597f4",
       "version_major": 2,
       "version_minor": 0
      },
      "text/plain": [
       "  0%|          | 0/16 [00:00<?, ?it/s]"
      ]
     },
     "metadata": {},
     "output_type": "display_data"
    },
    {
     "name": "stdout",
     "output_type": "stream",
     "text": [
      "Train loss: 2.2194\n",
      "Validation loss: 2.2569\n",
      "One day, a  The tried bag.\n",
      " Alice me.\"The new clean.\" He fox her give together happy the voice and tree?\" They style.\n",
      "\n",
      " She friends of park, a zoom look. grabbed started smooth and tap that was it too enormous toage\n",
      "\n",
      "Step 23552: Performing validation\n",
      "Learning rate: 0.000762\n"
     ]
    },
    {
     "data": {
      "application/vnd.jupyter.widget-view+json": {
       "model_id": "a32199020b6741ab82fb0cc5d6d8ace8",
       "version_major": 2,
       "version_minor": 0
      },
      "text/plain": [
       "  0%|          | 0/16 [00:00<?, ?it/s]"
      ]
     },
     "metadata": {},
     "output_type": "display_data"
    },
    {
     "name": "stdout",
     "output_type": "stream",
     "text": [
      "Train loss: 2.3884\n",
      "Validation loss: 2.2198\n",
      "One day, a  He Ben it Tim she She loved's treein go surprise my witch on her be cool the he most happy he his looked frog were, anklemy on happy wereMe suffering snake the long old's beam it and room and had some disagree.\n",
      "\n",
      "\n",
      "Step 24576: Performing validation\n",
      "Learning rate: 0.000758\n"
     ]
    },
    {
     "data": {
      "application/vnd.jupyter.widget-view+json": {
       "model_id": "003501ee961a46b694282943e1892c4d",
       "version_major": 2,
       "version_minor": 0
      },
      "text/plain": [
       "  0%|          | 0/16 [00:00<?, ?it/s]"
      ]
     },
     "metadata": {},
     "output_type": "display_data"
    },
    {
     "name": "stdout",
     "output_type": "stream",
     "text": [
      "Train loss: 2.2895\n",
      "Validation loss: 2.1918\n",
      "One day, a You them was pieces.\n",
      " teeth can glove you all his wanted idea and followed decided.\"s just there the hopped to voice am full.\n",
      "So a mouth.\n",
      "\" They forestummy day happened. Momy of was stickers here and\n",
      "\n",
      "Step 25600: Performing validation\n",
      "Learning rate: 0.000753\n"
     ]
    },
    {
     "data": {
      "application/vnd.jupyter.widget-view+json": {
       "model_id": "10649cb3f8f142619620ef05e3abd411",
       "version_major": 2,
       "version_minor": 0
      },
      "text/plain": [
       "  0%|          | 0/16 [00:00<?, ?it/s]"
      ]
     },
     "metadata": {},
     "output_type": "display_data"
    },
    {
     "name": "stdout",
     "output_type": "stream",
     "text": [
      "Train loss: 2.4291\n",
      "Validation loss: 2.1645\n",
      "One day, a  She cake to cr the girl was mom fly. But is mom's great booming and soon Suddenly so happy, went like the pretty their couldn. Suddenly.M\n",
      " \n",
      " promise. He a mom cookie. They proverb, lesson, the decided.\n",
      "\n",
      "Step 26624: Performing validation\n",
      "Learning rate: 0.000748\n"
     ]
    },
    {
     "data": {
      "application/vnd.jupyter.widget-view+json": {
       "model_id": "7bf3640d70434002a929498aa9ee0ea9",
       "version_major": 2,
       "version_minor": 0
      },
      "text/plain": [
       "  0%|          | 0/16 [00:00<?, ?it/s]"
      ]
     },
     "metadata": {},
     "output_type": "display_data"
    },
    {
     "name": "stdout",
     "output_type": "stream",
     "text": [
      "Train loss: 2.3972\n",
      "Validation loss: 2.1343\n",
      "One day, a \" Lily are decided from is said. His colorful the so they a a write smiled the powerful her tiger to memories. She was he not the a magic lots.\n",
      "My the liked, had put Amy went are extra worked heard play saw says and\n",
      "\n",
      "Step 27648: Performing validation\n",
      "Learning rate: 0.000743\n"
     ]
    },
    {
     "data": {
      "application/vnd.jupyter.widget-view+json": {
       "model_id": "0a271c981c204b4f87bdc47f6eea84f8",
       "version_major": 2,
       "version_minor": 0
      },
      "text/plain": [
       "  0%|          | 0/16 [00:00<?, ?it/s]"
      ]
     },
     "metadata": {},
     "output_type": "display_data"
    },
    {
     "name": "stdout",
     "output_type": "stream",
     "text": [
      "Train loss: 2.3132\n",
      "Validation loss: 2.1077\n",
      "One day, a  \"! They can the excited to sign. You a threat was tw out felt river when's friends're its special the worried the hidden and the small good dinner him in at work. Bob lit kids to pose and finally succeeded roar?\" She had Sara\n",
      "\n",
      "Step 28672: Performing validation\n",
      "Learning rate: 0.000738\n"
     ]
    },
    {
     "data": {
      "application/vnd.jupyter.widget-view+json": {
       "model_id": "ae70966a38fd4c978ed232ddddaf357d",
       "version_major": 2,
       "version_minor": 0
      },
      "text/plain": [
       "  0%|          | 0/16 [00:00<?, ?it/s]"
      ]
     },
     "metadata": {},
     "output_type": "display_data"
    },
    {
     "name": "stdout",
     "output_type": "stream",
     "text": [
      "Train loss: 2.6147\n",
      "Validation loss: 2.0749\n",
      "One day, a One couldn\n",
      " I lifted playYou are a giant followed pick.\" She loved, a y a Bob went and in very it and mom!\n",
      " \n",
      " They cage.\n",
      "\n",
      "\n",
      "\n",
      "\n",
      "My ladder.ila. They little only lawyer!\".\n",
      "\n",
      "Step 29696: Performing validation\n",
      "Learning rate: 0.000732\n"
     ]
    },
    {
     "data": {
      "application/vnd.jupyter.widget-view+json": {
       "model_id": "b7ea243bcf664b23bd6a823438e21b34",
       "version_major": 2,
       "version_minor": 0
      },
      "text/plain": [
       "  0%|          | 0/16 [00:00<?, ?it/s]"
      ]
     },
     "metadata": {},
     "output_type": "display_data"
    },
    {
     "name": "stdout",
     "output_type": "stream",
     "text": [
      "Train loss: 2.4387\n",
      "Validation loss: 2.0458\n",
      "One day, a  It set green a team was fun and play.As has he it one.\n",
      "\n",
      "\n",
      "The surprise to they him fellThank. They okay longer girl the sticks had eager.The \" yourselves listen back came andmy is had Lily feeling favorite happy\n",
      "\n",
      "Step 30720: Performing validation\n",
      "Learning rate: 0.000726\n"
     ]
    },
    {
     "data": {
      "application/vnd.jupyter.widget-view+json": {
       "model_id": "116b10f1dcb54735b345dbc5826cefd8",
       "version_major": 2,
       "version_minor": 0
      },
      "text/plain": [
       "  0%|          | 0/16 [00:00<?, ?it/s]"
      ]
     },
     "metadata": {},
     "output_type": "display_data"
    },
    {
     "name": "stdout",
     "output_type": "stream",
     "text": [
      "Train loss: 1.9208\n",
      "Validation loss: 2.0253\n",
      "One day, a That said and saw important to to the big costumes. She play Red the she that her keys, Lily. They were shared flowers. She the flexible.\n",
      "\n",
      "\n",
      " The kitchen in day to drawer him, shemy have angry's really dress ending\n",
      "\n",
      "Step 31744: Performing validation\n",
      "Learning rate: 0.000720\n"
     ]
    },
    {
     "data": {
      "application/vnd.jupyter.widget-view+json": {
       "model_id": "418f352a7a2644bcbcacdcdeb562a707",
       "version_major": 2,
       "version_minor": 0
      },
      "text/plain": [
       "  0%|          | 0/16 [00:00<?, ?it/s]"
      ]
     },
     "metadata": {},
     "output_type": "display_data"
    },
    {
     "name": "stdout",
     "output_type": "stream",
     "text": [
      "Train loss: 2.0598\n",
      "Validation loss: 1.9973\n",
      "One day, a Tom Mark duck are a cozy ugly like the blinking up and lost lock. The a like boots and walked aroundonde, glad near the museum hide that Tim to wall time. The pencil. She eventually the mel at man was doctor and walked. They\n",
      "\n",
      "Step 32768: Performing validation\n",
      "Learning rate: 0.000714\n"
     ]
    },
    {
     "data": {
      "application/vnd.jupyter.widget-view+json": {
       "model_id": "568022177d294089bd72b62192ed1a17",
       "version_major": 2,
       "version_minor": 0
      },
      "text/plain": [
       "  0%|          | 0/16 [00:00<?, ?it/s]"
      ]
     },
     "metadata": {},
     "output_type": "display_data"
    },
    {
     "name": "stdout",
     "output_type": "stream",
     "text": [
      "Train loss: 1.7887\n",
      "Validation loss: 1.9755\n",
      "One day, a  Lily was a bend. Jack lots that rode to fight together at balloon. Tommy, went there, the monkey heard a intelligent went on was flower. The bird was little excited, fish so the rain. She dolls her statue to her friends, knew\n",
      "\n",
      "Step 33792: Performing validation\n",
      "Learning rate: 0.000708\n"
     ]
    },
    {
     "data": {
      "application/vnd.jupyter.widget-view+json": {
       "model_id": "2c8de6fc64084c76bfcca70a03fb309a",
       "version_major": 2,
       "version_minor": 0
      },
      "text/plain": [
       "  0%|          | 0/16 [00:00<?, ?it/s]"
      ]
     },
     "metadata": {},
     "output_type": "display_data"
    },
    {
     "name": "stdout",
     "output_type": "stream",
     "text": [
      "Train loss: 1.8930\n",
      "Validation loss: 1.9400\n",
      "One day, a  The fence, they play with the sand. One boy could eat his AN, \"'t hug and take climb I see no nature, to times to joy?\"\n",
      "\n",
      "\n",
      " Sara was stars. She's then,\" The so beauty.\"But soaredapped\n",
      "\n",
      "Step 34816: Performing validation\n",
      "Learning rate: 0.000701\n"
     ]
    },
    {
     "data": {
      "application/vnd.jupyter.widget-view+json": {
       "model_id": "cb3350d70ae04023a6f272640e45e678",
       "version_major": 2,
       "version_minor": 0
      },
      "text/plain": [
       "  0%|          | 0/16 [00:00<?, ?it/s]"
      ]
     },
     "metadata": {},
     "output_type": "display_data"
    },
    {
     "name": "stdout",
     "output_type": "stream",
     "text": [
      "Train loss: 2.2508\n",
      "Validation loss: 1.9138\n",
      "One day, a  all was so mom coin.\"'t find a next claws and they decided to wear the new playground at it was very boy lookedaffs catch clMine him did Tom that Lucy there's modern blue looked and turned the were wearing mom at his park\n",
      "\n",
      "Step 35840: Performing validation\n",
      "Learning rate: 0.000694\n"
     ]
    },
    {
     "data": {
      "application/vnd.jupyter.widget-view+json": {
       "model_id": "2bd3308615c54d45b71125fdbbdc7f31",
       "version_major": 2,
       "version_minor": 0
      },
      "text/plain": [
       "  0%|          | 0/16 [00:00<?, ?it/s]"
      ]
     },
     "metadata": {},
     "output_type": "display_data"
    },
    {
     "name": "stdout",
     "output_type": "stream",
     "text": [
      "Train loss: 1.6424\n",
      "Validation loss: 1.8790\n",
      "One day, a  He could heily drive, found overcome and it and a mom a end excited promise and get day all her kind. But go of a shampoo. Then then was generating wasn't wanted to the be new day flew, \"Spot her plants. He\n",
      "\n",
      "Step 36864: Performing validation\n",
      "Learning rate: 0.000687\n"
     ]
    },
    {
     "data": {
      "application/vnd.jupyter.widget-view+json": {
       "model_id": "d50b0f558531467f9815cb56f90771da",
       "version_major": 2,
       "version_minor": 0
      },
      "text/plain": [
       "  0%|          | 0/16 [00:00<?, ?it/s]"
      ]
     },
     "metadata": {},
     "output_type": "display_data"
    },
    {
     "name": "stdout",
     "output_type": "stream",
     "text": [
      "Train loss: 2.0888\n",
      "Validation loss: 1.8485\n",
      "One day, a  could said. Lily a name continued to the walk. She was a sad and the stumbledheart j to a drankmy said had and play back.\n",
      "Peter did \" doesn Mommy came it was friendly trees and played in found cat. but he\n",
      "\n",
      "Step 37888: Performing validation\n",
      "Learning rate: 0.000680\n"
     ]
    },
    {
     "data": {
      "application/vnd.jupyter.widget-view+json": {
       "model_id": "cbd8f9027fb4474faff741e75463d2d2",
       "version_major": 2,
       "version_minor": 0
      },
      "text/plain": [
       "  0%|          | 0/16 [00:00<?, ?it/s]"
      ]
     },
     "metadata": {},
     "output_type": "display_data"
    },
    {
     "name": "stdout",
     "output_type": "stream",
     "text": [
      "Train loss: 1.9679\n",
      "Validation loss: 1.8288\n",
      "One day, a  Max was careful back to the monster, and a big new other and eat happy day to cl. Sally to see play and help in be big strange and make fairy, the excited about and a magic like when \"�. We a curious? The\n",
      "\n",
      "Step 38912: Performing validation\n",
      "Learning rate: 0.000672\n"
     ]
    },
    {
     "data": {
      "application/vnd.jupyter.widget-view+json": {
       "model_id": "f3298a3fa5fc4301a59acd9ea0a014ff",
       "version_major": 2,
       "version_minor": 0
      },
      "text/plain": [
       "  0%|          | 0/16 [00:00<?, ?it/s]"
      ]
     },
     "metadata": {},
     "output_type": "display_data"
    },
    {
     "name": "stdout",
     "output_type": "stream",
     "text": [
      "Train loss: 1.8499\n",
      "Validation loss: 1.7953\n",
      "One day, a  Tim as Lily loved her strange high to reach and find her talk to make play and talked. It was mom to arrived and school on the veil, and round and it was to decided with the arm and it and catch the windows in kids a little\n",
      "\n",
      "Step 39936: Performing validation\n",
      "Learning rate: 0.000665\n"
     ]
    },
    {
     "data": {
      "application/vnd.jupyter.widget-view+json": {
       "model_id": "06fa65e8c9a649db9df7bf68af2d7fdb",
       "version_major": 2,
       "version_minor": 0
      },
      "text/plain": [
       "  0%|          | 0/16 [00:00<?, ?it/s]"
      ]
     },
     "metadata": {},
     "output_type": "display_data"
    },
    {
     "name": "stdout",
     "output_type": "stream",
     "text": [
      "Train loss: 2.1283\n",
      "Validation loss: 1.7710\n",
      "One day, a  he became a table. One day, \"I but but the light thing was happy around sang when Time, we her go she saw Ben ended was the doll. She was very afraid of her near OK, but pulled helped peculiar. They read the\n",
      "\n",
      "Step 40960: Performing validation\n",
      "Learning rate: 0.000657\n"
     ]
    },
    {
     "data": {
      "application/vnd.jupyter.widget-view+json": {
       "model_id": "a9d015c3699648b0b5609a9930e7f6fe",
       "version_major": 2,
       "version_minor": 0
      },
      "text/plain": [
       "  0%|          | 0/16 [00:00<?, ?it/s]"
      ]
     },
     "metadata": {},
     "output_type": "display_data"
    },
    {
     "name": "stdout",
     "output_type": "stream",
     "text": [
      "Train loss: 1.8321\n",
      "Validation loss: 1.7541\n",
      "One day, a  he went to run.\n",
      "The papersies, \"What had a necklace.\" The water. She thought they waited when they them money up it. She letmy said. He splarling at filings. He wealthy and anyone of herself of that \"\n",
      "\n",
      "Step 41984: Performing validation\n",
      "Learning rate: 0.000649\n"
     ]
    },
    {
     "data": {
      "application/vnd.jupyter.widget-view+json": {
       "model_id": "33c1b16b4a06423f9d83bf7b52de562a",
       "version_major": 2,
       "version_minor": 0
      },
      "text/plain": [
       "  0%|          | 0/16 [00:00<?, ?it/s]"
      ]
     },
     "metadata": {},
     "output_type": "display_data"
    },
    {
     "name": "stdout",
     "output_type": "stream",
     "text": [
      "Train loss: 1.9743\n",
      "Validation loss: 1.7365\n",
      "One day, a  Tim loved Lily wanted. He Wendy?'t do with Ben down, she was dove onto your colorful one the fence. It was a time happily, Lily went. One mom like the mum the girl made there was two naval too store and what were\n",
      "\n",
      "Step 43008: Performing validation\n",
      "Learning rate: 0.000641\n"
     ]
    },
    {
     "data": {
      "application/vnd.jupyter.widget-view+json": {
       "model_id": "3a552d9c09e9439998ac7a424608d447",
       "version_major": 2,
       "version_minor": 0
      },
      "text/plain": [
       "  0%|          | 0/16 [00:00<?, ?it/s]"
      ]
     },
     "metadata": {},
     "output_type": "display_data"
    },
    {
     "name": "stdout",
     "output_type": "stream",
     "text": [
      "Train loss: 1.8816\n",
      "Validation loss: 1.7137\n",
      "One day, a   She are having very a old, Lucy got a knight said in the task for day and said why all some tasty, made to him so rabbit they made her Bob was sad and pretended to got the park.\n",
      "\n",
      "\n",
      "s his friends to\n",
      "\n",
      "Step 44032: Performing validation\n",
      "Learning rate: 0.000633\n"
     ]
    },
    {
     "data": {
      "application/vnd.jupyter.widget-view+json": {
       "model_id": "1ca2f673008042ff890aef8e59e02ebd",
       "version_major": 2,
       "version_minor": 0
      },
      "text/plain": [
       "  0%|          | 0/16 [00:00<?, ?it/s]"
      ]
     },
     "metadata": {},
     "output_type": "display_data"
    },
    {
     "name": "stdout",
     "output_type": "stream",
     "text": [
      "Train loss: 2.0008\n",
      "Validation loss: 1.7015\n",
      "One day, a  we Sue said, they Bob asked in the little little favorite. He swimming. Benny heard a car. He tried to help her play looking on the bunny had so very tank in a rock in the bunny would D toys. faithful. Tim was after\n",
      "\n",
      "Step 45056: Performing validation\n",
      "Learning rate: 0.000624\n"
     ]
    },
    {
     "data": {
      "application/vnd.jupyter.widget-view+json": {
       "model_id": "c86508131948484396cd445ca46c9343",
       "version_major": 2,
       "version_minor": 0
      },
      "text/plain": [
       "  0%|          | 0/16 [00:00<?, ?it/s]"
      ]
     },
     "metadata": {},
     "output_type": "display_data"
    },
    {
     "name": "stdout",
     "output_type": "stream",
     "text": [
      "Train loss: 1.5923\n",
      "Validation loss: 1.6849\n",
      "One day, a  Spot was so dry in the park with all was wrong.\n",
      "\n",
      "\n",
      "\" densely and set,\n",
      "\n",
      "L€\n",
      "\n",
      " Running birthday become scary thing. \"You'm walking. Toby comes, \"L can rest and are that the big voice\n",
      "\n",
      "Step 46080: Performing validation\n",
      "Learning rate: 0.000616\n"
     ]
    },
    {
     "data": {
      "application/vnd.jupyter.widget-view+json": {
       "model_id": "8e4093be738b427e955e538750f1bf44",
       "version_major": 2,
       "version_minor": 0
      },
      "text/plain": [
       "  0%|          | 0/16 [00:00<?, ?it/s]"
      ]
     },
     "metadata": {},
     "output_type": "display_data"
    },
    {
     "name": "stdout",
     "output_type": "stream",
     "text": [
      "Train loss: 1.7330\n",
      "Validation loss: 1.6744\n",
      "One day, a \n",
      "\n",
      "\n",
      "\n",
      " Timmy was so curious gave look. \"I help four cocoa, \"Thanks, it can her a vot. He does a brave!\"\n",
      "MSorry, then don't whistle, Lily. Lily's have frustrated and a End\n",
      "\n",
      "Step 47104: Performing validation\n",
      "Learning rate: 0.000607\n"
     ]
    },
    {
     "data": {
      "application/vnd.jupyter.widget-view+json": {
       "model_id": "d9891d336e634905b5d55d5ce42f369b",
       "version_major": 2,
       "version_minor": 0
      },
      "text/plain": [
       "  0%|          | 0/16 [00:00<?, ?it/s]"
      ]
     },
     "metadata": {},
     "output_type": "display_data"
    },
    {
     "name": "stdout",
     "output_type": "stream",
     "text": [
      "Train loss: 1.8664\n",
      "Validation loss: 1.6663\n",
      "One day, a  Lucy good new house. She always go his ball, but she open eye. He was impressed and look. She bushes and she through the child. They would her old. They explored about to play on learning and could friend in the Pont, her\n",
      "\n",
      "Step 48128: Performing validation\n",
      "Learning rate: 0.000598\n"
     ]
    },
    {
     "data": {
      "application/vnd.jupyter.widget-view+json": {
       "model_id": "499c86c3c28547f1bc7bc35878316a5f",
       "version_major": 2,
       "version_minor": 0
      },
      "text/plain": [
       "  0%|          | 0/16 [00:00<?, ?it/s]"
      ]
     },
     "metadata": {},
     "output_type": "display_data"
    },
    {
     "name": "stdout",
     "output_type": "stream",
     "text": [
      "Train loss: 1.6906\n",
      "Validation loss: 1.6501\n",
      "One day, a  Tim in very broken bird was much big frog saw not go around the way she loved to play. While she went to sleep before, white creatures in about the cookie and washed his mom looked and good fabric. She had very sleepy with their mommy\n",
      "\n",
      "Step 49152: Performing validation\n",
      "Learning rate: 0.000589\n"
     ]
    },
    {
     "data": {
      "application/vnd.jupyter.widget-view+json": {
       "model_id": "b52bc58c497d472bac9c0d292105863f",
       "version_major": 2,
       "version_minor": 0
      },
      "text/plain": [
       "  0%|          | 0/16 [00:00<?, ?it/s]"
      ]
     },
     "metadata": {},
     "output_type": "display_data"
    },
    {
     "name": "stdout",
     "output_type": "stream",
     "text": [
      "Train loss: 1.8357\n",
      "Validation loss: 1.6345\n",
      "One day, a \n",
      "\n",
      "\n",
      "\n",
      "\n",
      "\n",
      "\n",
      " Mom lost. The pictureman were decorated protecting her toys. \n",
      "\n",
      "Lily wanted,\" the wall. Her mommy are popularaucapping them, no. It said, they saw a been sad and\n",
      "\n",
      "Step 50176: Performing validation\n",
      "Learning rate: 0.000580\n"
     ]
    },
    {
     "data": {
      "application/vnd.jupyter.widget-view+json": {
       "model_id": "b72c01dc0850498f88591a1d429320d9",
       "version_major": 2,
       "version_minor": 0
      },
      "text/plain": [
       "  0%|          | 0/16 [00:00<?, ?it/s]"
      ]
     },
     "metadata": {},
     "output_type": "display_data"
    },
    {
     "name": "stdout",
     "output_type": "stream",
     "text": [
      "Train loss: 1.6872\n",
      "Validation loss: 1.6218\n",
      "One day, a Jane had a park in the sun. He settled on the picture and even paws against her bed.\n",
      "Then; they accidentally liked outside smiled and say, the little girl noticed learning a big girl had a end to one air of her head was time\n",
      "\n",
      "Step 51200: Performing validation\n",
      "Learning rate: 0.000571\n"
     ]
    },
    {
     "data": {
      "application/vnd.jupyter.widget-view+json": {
       "model_id": "74c3dfd39e804a2c9bf80a1e045b8856",
       "version_major": 2,
       "version_minor": 0
      },
      "text/plain": [
       "  0%|          | 0/16 [00:00<?, ?it/s]"
      ]
     },
     "metadata": {},
     "output_type": "display_data"
    },
    {
     "name": "stdout",
     "output_type": "stream",
     "text": [
      "Train loss: 1.4447\n",
      "Validation loss: 1.6075\n",
      "One day, a  day, he had more and liked to visit the swing in her stop. Finally, Emily didn't whine. \n",
      "\n",
      "\n",
      "One day, it. From are mommy thought tail, I want to weep to a special dog was scared, she\n",
      "\n",
      "Step 52224: Performing validation\n",
      "Learning rate: 0.000562\n"
     ]
    },
    {
     "data": {
      "application/vnd.jupyter.widget-view+json": {
       "model_id": "3ecf28cfef2f43a3b011fdb90d045673",
       "version_major": 2,
       "version_minor": 0
      },
      "text/plain": [
       "  0%|          | 0/16 [00:00<?, ?it/s]"
      ]
     },
     "metadata": {},
     "output_type": "display_data"
    },
    {
     "name": "stdout",
     "output_type": "stream",
     "text": [
      "Train loss: 1.6930\n",
      "Validation loss: 1.6024\n",
      "One day, a \n",
      "\n",
      "ily, Tom was glad to play. He hugged cry. He had a delicious, with his mother was kind and went through his dolls slipped home.\n",
      "Lily was too bucket for hide down, they happily's go more herself a happy\n",
      "\n",
      "Step 53248: Performing validation\n",
      "Learning rate: 0.000552\n"
     ]
    },
    {
     "data": {
      "application/vnd.jupyter.widget-view+json": {
       "model_id": "afd1860b9626481caa29e567e2204f89",
       "version_major": 2,
       "version_minor": 0
      },
      "text/plain": [
       "  0%|          | 0/16 [00:00<?, ?it/s]"
      ]
     },
     "metadata": {},
     "output_type": "display_data"
    },
    {
     "name": "stdout",
     "output_type": "stream",
     "text": [
      "Train loss: 1.8043\n",
      "Validation loss: 1.5886\n",
      "One day, a  Max. He loved to wear a bright day, broccoli and John had lots of rush in Tom saw running, there saw fun day, they saw a other and her mommy took a twins.\n",
      "\n",
      "His mum and decided to a great bike with\n",
      "\n",
      "Step 54272: Performing validation\n",
      "Learning rate: 0.000543\n"
     ]
    },
    {
     "data": {
      "application/vnd.jupyter.widget-view+json": {
       "model_id": "971f709652e54a6fb5c725137494ae8b",
       "version_major": 2,
       "version_minor": 0
      },
      "text/plain": [
       "  0%|          | 0/16 [00:00<?, ?it/s]"
      ]
     },
     "metadata": {},
     "output_type": "display_data"
    },
    {
     "name": "stdout",
     "output_type": "stream",
     "text": [
      "Train loss: 1.3681\n",
      "Validation loss: 1.5801\n",
      "One day, a  there thought were very happy to play together wet very shy monkey. It was a garden was a park. He felt very believed there was his daughter.\n",
      "\n",
      "\n",
      "The little girl was very warm brother. But the tree. Suddenly, and tried to\n",
      "\n",
      "Step 55296: Performing validation\n",
      "Learning rate: 0.000533\n"
     ]
    },
    {
     "data": {
      "application/vnd.jupyter.widget-view+json": {
       "model_id": "8488865040c54cc089ab3a0395dfc03e",
       "version_major": 2,
       "version_minor": 0
      },
      "text/plain": [
       "  0%|          | 0/16 [00:00<?, ?it/s]"
      ]
     },
     "metadata": {},
     "output_type": "display_data"
    },
    {
     "name": "stdout",
     "output_type": "stream",
     "text": [
      "Train loss: 2.0789\n",
      "Validation loss: 1.5696\n",
      "One day, a  Lily. The pear and flew ice of her fun thing. D cat had smaller was scared before.\n",
      "\n",
      "\n",
      "One day, the theater were she continued was sad and they remembered her friends because that found he had funtime, \"LHer elephant\n",
      "\n",
      "Step 56320: Performing validation\n",
      "Learning rate: 0.000523\n"
     ]
    },
    {
     "data": {
      "application/vnd.jupyter.widget-view+json": {
       "model_id": "bc1e552f55944ad6b1c51e0c33d2544f",
       "version_major": 2,
       "version_minor": 0
      },
      "text/plain": [
       "  0%|          | 0/16 [00:00<?, ?it/s]"
      ]
     },
     "metadata": {},
     "output_type": "display_data"
    },
    {
     "name": "stdout",
     "output_type": "stream",
     "text": [
      "Train loss: 1.6565\n",
      "Validation loss: 1.5624\n",
      "One day, a , bunny. As they could go into the park. She saw a key to make a pilot.\n",
      "One day. She looked around the yarn scattered on Bla put the park and complete and touches it knew the stream said a loud fur at the\n",
      "\n",
      "Step 57344: Performing validation\n",
      "Learning rate: 0.000514\n"
     ]
    },
    {
     "data": {
      "application/vnd.jupyter.widget-view+json": {
       "model_id": "87b1cd9776c94d9aaf557f17d9050c0f",
       "version_major": 2,
       "version_minor": 0
      },
      "text/plain": [
       "  0%|          | 0/16 [00:00<?, ?it/s]"
      ]
     },
     "metadata": {},
     "output_type": "display_data"
    },
    {
     "name": "stdout",
     "output_type": "stream",
     "text": [
      "Train loss: 1.6179\n",
      "Validation loss: 1.5549\n",
      "One day, a , to were playing in an tray. The park for appreciate his room and buses.\n",
      "\n",
      "John tight and jumped all his friends took it. He decided to shut the fley words goodbye that she saw a salad to crawl into asking the salad.\n",
      "\n",
      "Step 58368: Performing validation\n",
      "Learning rate: 0.000504\n"
     ]
    },
    {
     "data": {
      "application/vnd.jupyter.widget-view+json": {
       "model_id": "4d6103cbc3da45ba9279452d0b6cd84e",
       "version_major": 2,
       "version_minor": 0
      },
      "text/plain": [
       "  0%|          | 0/16 [00:00<?, ?it/s]"
      ]
     },
     "metadata": {},
     "output_type": "display_data"
    },
    {
     "name": "stdout",
     "output_type": "stream",
     "text": [
      "Train loss: 1.7312\n",
      "Validation loss: 1.5452\n",
      "One day, a  day, Timmy always drive the boy who was playing. \n",
      "\n",
      "\n",
      "\n",
      "One day, Lily said, Lily smiled and almost walked off.\n",
      "As where he wanted to play went to pride out for a proud of colourful and feel over,\n",
      "\n",
      "Step 59392: Performing validation\n",
      "Learning rate: 0.000494\n"
     ]
    },
    {
     "data": {
      "application/vnd.jupyter.widget-view+json": {
       "model_id": "4c0fd173fd9f48de9ae8055979d014a1",
       "version_major": 2,
       "version_minor": 0
      },
      "text/plain": [
       "  0%|          | 0/16 [00:00<?, ?it/s]"
      ]
     },
     "metadata": {},
     "output_type": "display_data"
    },
    {
     "name": "stdout",
     "output_type": "stream",
     "text": [
      "Train loss: 1.9240\n",
      "Validation loss: 1.5465\n",
      "One day, a , which girl named Jack. She was hockey. She wore a bus. He was going to go, Terry was playing and soon it was such something a plan to rest with joy.\n",
      "One day, they grabbed outside to play with grab them to\n",
      "\n",
      "Step 60416: Performing validation\n",
      "Learning rate: 0.000484\n"
     ]
    },
    {
     "data": {
      "application/vnd.jupyter.widget-view+json": {
       "model_id": "6238a6f348144854a6f12f62b4787c88",
       "version_major": 2,
       "version_minor": 0
      },
      "text/plain": [
       "  0%|          | 0/16 [00:00<?, ?it/s]"
      ]
     },
     "metadata": {},
     "output_type": "display_data"
    },
    {
     "name": "stdout",
     "output_type": "stream",
     "text": [
      "Train loss: 1.4348\n",
      "Validation loss: 1.5450\n",
      "One day, a my, Jack was a little girl named Max who loved to never had walking and read it. M Starship they have a loud noise and tried to find it went to need for out as she loved to join some spikes. \n",
      "\n",
      "Timmy said\n",
      "\n",
      "Step 61440: Performing validation\n",
      "Learning rate: 0.000474\n"
     ]
    },
    {
     "data": {
      "application/vnd.jupyter.widget-view+json": {
       "model_id": "2c427f8f66314e63b492d5a1352c2117",
       "version_major": 2,
       "version_minor": 0
      },
      "text/plain": [
       "  0%|          | 0/16 [00:00<?, ?it/s]"
      ]
     },
     "metadata": {},
     "output_type": "display_data"
    },
    {
     "name": "stdout",
     "output_type": "stream",
     "text": [
      "Train loss: 1.7454\n",
      "Validation loss: 1.5265\n",
      "One day, a  were a morning, there. He had a dragon was having not see the big forest. Every day, in their day were watching the needle and Tom and oxygen and he told it that because large ocean and told her mom came after he decided to eat\n",
      "\n",
      "Step 62464: Performing validation\n",
      "Learning rate: 0.000464\n"
     ]
    },
    {
     "data": {
      "application/vnd.jupyter.widget-view+json": {
       "model_id": "d7d47786cc5148e291226ff547ab73f4",
       "version_major": 2,
       "version_minor": 0
      },
      "text/plain": [
       "  0%|          | 0/16 [00:00<?, ?it/s]"
      ]
     },
     "metadata": {},
     "output_type": "display_data"
    },
    {
     "name": "stdout",
     "output_type": "stream",
     "text": [
      "Train loss: 1.4469\n",
      "Validation loss: 1.5203\n",
      "One day, a  was a princess named Lucy. He lived in the park. They wanted to play in the smile on there. Sometimes she was lucky to leave the pencil. One day he was very much and he saw a big boy very two. Daisy ran around and\n",
      "\n",
      "Step 63488: Performing validation\n",
      "Learning rate: 0.000453\n"
     ]
    },
    {
     "data": {
      "application/vnd.jupyter.widget-view+json": {
       "model_id": "787bda92b2584e259948eedf9c59dc14",
       "version_major": 2,
       "version_minor": 0
      },
      "text/plain": [
       "  0%|          | 0/16 [00:00<?, ?it/s]"
      ]
     },
     "metadata": {},
     "output_type": "display_data"
    },
    {
     "name": "stdout",
     "output_type": "stream",
     "text": [
      "Train loss: 1.7929\n",
      "Validation loss: 1.5130\n",
      "One day, a , a big bear who lived in the old boy. One day, but the grass when Sarah to the yard and smiled. One day she always bloom in his tail. But vanilla filled in the cry from the lucky, the park and its room.\n",
      "\n",
      "Step 64512: Performing validation\n",
      "Learning rate: 0.000443\n"
     ]
    },
    {
     "data": {
      "application/vnd.jupyter.widget-view+json": {
       "model_id": "c6407cb6a8504272b301eb0bb97f10c7",
       "version_major": 2,
       "version_minor": 0
      },
      "text/plain": [
       "  0%|          | 0/16 [00:00<?, ?it/s]"
      ]
     },
     "metadata": {},
     "output_type": "display_data"
    },
    {
     "name": "stdout",
     "output_type": "stream",
     "text": [
      "Train loss: 1.4488\n",
      "Validation loss: 1.5066\n",
      "One day, a ila. He was strong. He noticed a exam. The family could make a boy's friends knew they lived. The prince was looking and he was shining and they can try to the dog at the animals. It was sad was sad. \n",
      "\n",
      "\n",
      "Step 65536: Performing validation\n",
      "Learning rate: 0.000433\n"
     ]
    },
    {
     "data": {
      "application/vnd.jupyter.widget-view+json": {
       "model_id": "99a052cb3183480ca9e48c418ba2df91",
       "version_major": 2,
       "version_minor": 0
      },
      "text/plain": [
       "  0%|          | 0/16 [00:00<?, ?it/s]"
      ]
     },
     "metadata": {},
     "output_type": "display_data"
    },
    {
     "name": "stdout",
     "output_type": "stream",
     "text": [
      "Train loss: 1.7393\n",
      "Validation loss: 1.4990\n",
      "One day, a  He was Timmy had a big son.\n",
      "One day, \"No, \"Sure, \"If you play with off a supplies Tim. He thanked the fire,\" didn't roar.\" \n",
      "The, \"What are his mom said, \"\n",
      "\n",
      "Step 66560: Performing validation\n",
      "Learning rate: 0.000423\n"
     ]
    },
    {
     "data": {
      "application/vnd.jupyter.widget-view+json": {
       "model_id": "706d11247d36406d823a6e5bda584ed4",
       "version_major": 2,
       "version_minor": 0
      },
      "text/plain": [
       "  0%|          | 0/16 [00:00<?, ?it/s]"
      ]
     },
     "metadata": {},
     "output_type": "display_data"
    },
    {
     "name": "stdout",
     "output_type": "stream",
     "text": [
      "Train loss: 1.5359\n",
      "Validation loss: 1.4944\n",
      "One day, a  day, one Lily went to get a top. Alice walked, waiting, they looked up adventure.\n",
      "Suddenly, too friends and higher and everyone. But saving her share her toys. He handed something so place, \"Yes, taking me!\" \n",
      "\n",
      "Step 67584: Performing validation\n",
      "Learning rate: 0.000413\n"
     ]
    },
    {
     "data": {
      "application/vnd.jupyter.widget-view+json": {
       "model_id": "2041cff2da344778b97a2b410fba47fa",
       "version_major": 2,
       "version_minor": 0
      },
      "text/plain": [
       "  0%|          | 0/16 [00:00<?, ?it/s]"
      ]
     },
     "metadata": {},
     "output_type": "display_data"
    },
    {
     "name": "stdout",
     "output_type": "stream",
     "text": [
      "Train loss: 1.8022\n",
      "Validation loss: 1.4857\n",
      "One day, a  Lily lived in the park with her years girl. They saw a while her house. He liked to pick her a shiny pond, Lola was idea. She ran no candy and it. Some their room.\n",
      "\n",
      "\n",
      "\n",
      "\n",
      "\n",
      "Finally,\n",
      "\n",
      "Step 68608: Performing validation\n",
      "Learning rate: 0.000402\n"
     ]
    },
    {
     "data": {
      "application/vnd.jupyter.widget-view+json": {
       "model_id": "cde18c3845d749bfa260a0c302ee9581",
       "version_major": 2,
       "version_minor": 0
      },
      "text/plain": [
       "  0%|          | 0/16 [00:00<?, ?it/s]"
      ]
     },
     "metadata": {},
     "output_type": "display_data"
    },
    {
     "name": "stdout",
     "output_type": "stream",
     "text": [
      "Train loss: 1.2757\n",
      "Validation loss: 1.4790\n",
      "One day, a , in the rope were Making stairsning. The girl kept it was so he had a wall.\n",
      "\n",
      "\n",
      "One day, \"Yes,That's our cheese,\" the ground. They sat and played in you's angryies cook felt the surprise\n",
      "\n",
      "Step 69632: Performing validation\n",
      "Learning rate: 0.000392\n"
     ]
    },
    {
     "data": {
      "application/vnd.jupyter.widget-view+json": {
       "model_id": "f4b3d89dc61143fda1223e5ad8c39a7f",
       "version_major": 2,
       "version_minor": 0
      },
      "text/plain": [
       "  0%|          | 0/16 [00:00<?, ?it/s]"
      ]
     },
     "metadata": {},
     "output_type": "display_data"
    },
    {
     "name": "stdout",
     "output_type": "stream",
     "text": [
      "Train loss: 1.6419\n",
      "Validation loss: 1.4718\n",
      "One day, a  It didn't mom was his park to play with a necklace and a jelly. It was something very happy, Jane was very happy. The pool or his wall, but she would catch flying to the chim and girl was not garden and then like people\n",
      "\n",
      "Step 70656: Performing validation\n",
      "Learning rate: 0.000382\n"
     ]
    },
    {
     "data": {
      "application/vnd.jupyter.widget-view+json": {
       "model_id": "208be7133f86437280c3782f7ccf45b4",
       "version_major": 2,
       "version_minor": 0
      },
      "text/plain": [
       "  0%|          | 0/16 [00:00<?, ?it/s]"
      ]
     },
     "metadata": {},
     "output_type": "display_data"
    },
    {
     "name": "stdout",
     "output_type": "stream",
     "text": [
      "Train loss: 1.9046\n",
      "Validation loss: 1.4658\n",
      "One day, a  Ben were walking. She was he was an big day to be a old house, and he couldn't want to play. She was close to the tall sparkles day, she said. It was a big train that he sne course, Anna did\n",
      "\n",
      "Step 71680: Performing validation\n",
      "Learning rate: 0.000372\n"
     ]
    },
    {
     "data": {
      "application/vnd.jupyter.widget-view+json": {
       "model_id": "7f7d531dab5d44f98f121d03f668f303",
       "version_major": 2,
       "version_minor": 0
      },
      "text/plain": [
       "  0%|          | 0/16 [00:00<?, ?it/s]"
      ]
     },
     "metadata": {},
     "output_type": "display_data"
    },
    {
     "name": "stdout",
     "output_type": "stream",
     "text": [
      "Train loss: 1.4186\n",
      "Validation loss: 1.4773\n",
      "One day, a  pupils if the fish. All the park to blue old pond, and liked the shirt, with his bed.\n",
      "\n",
      "He ran to see everyone and wanted to Bob who reached together. Sam could grow songs and his mom got away. He said to\n",
      "\n",
      "Step 72704: Performing validation\n",
      "Learning rate: 0.000361\n"
     ]
    },
    {
     "data": {
      "application/vnd.jupyter.widget-view+json": {
       "model_id": "d2415e795a494f03a023017e228dd497",
       "version_major": 2,
       "version_minor": 0
      },
      "text/plain": [
       "  0%|          | 0/16 [00:00<?, ?it/s]"
      ]
     },
     "metadata": {},
     "output_type": "display_data"
    },
    {
     "name": "stdout",
     "output_type": "stream",
     "text": [
      "Train loss: 1.4174\n",
      "Validation loss: 1.4595\n",
      "One day, a  It was Lucy. Today of the man liked to play with his garden with their friends. The moralcy was not like not like what to go up. He wanted to her brother. \n",
      "\n",
      "The airport and Henry and can find a cute,\n",
      "\n",
      "Step 73728: Performing validation\n",
      "Learning rate: 0.000351\n"
     ]
    },
    {
     "data": {
      "application/vnd.jupyter.widget-view+json": {
       "model_id": "a47a3cdd73f14c089c88920ce182a24a",
       "version_major": 2,
       "version_minor": 0
      },
      "text/plain": [
       "  0%|          | 0/16 [00:00<?, ?it/s]"
      ]
     },
     "metadata": {},
     "output_type": "display_data"
    },
    {
     "name": "stdout",
     "output_type": "stream",
     "text": [
      "Train loss: 1.8669\n",
      "Validation loss: 1.4544\n",
      "One day, a , it was two little Lily. Lily went on her mom saw a pretty toys and he saw some rocket. Lily, but they saw that they go on the yard. One day, but she said, Tim was so pretty dog had a new friends\n",
      "\n",
      "Step 74752: Performing validation\n",
      "Learning rate: 0.000341\n"
     ]
    },
    {
     "data": {
      "application/vnd.jupyter.widget-view+json": {
       "model_id": "e208c45290424f69a489367d58201ba3",
       "version_major": 2,
       "version_minor": 0
      },
      "text/plain": [
       "  0%|          | 0/16 [00:00<?, ?it/s]"
      ]
     },
     "metadata": {},
     "output_type": "display_data"
    },
    {
     "name": "stdout",
     "output_type": "stream",
     "text": [
      "Train loss: 1.5423\n",
      "Validation loss: 1.4479\n",
      "One day, a  a boy. He was icy was filled in his mom was very salt, � on it and a big unknown box. So, \"There said, bye he would be so sad?\"\n",
      "\n",
      "Tim and hugged your truck started to share and seute\n",
      "\n",
      "Step 75776: Performing validation\n",
      "Learning rate: 0.000331\n"
     ]
    },
    {
     "data": {
      "application/vnd.jupyter.widget-view+json": {
       "model_id": "a7ae3fba339240b0a642c89d9ae4a069",
       "version_major": 2,
       "version_minor": 0
      },
      "text/plain": [
       "  0%|          | 0/16 [00:00<?, ?it/s]"
      ]
     },
     "metadata": {},
     "output_type": "display_data"
    },
    {
     "name": "stdout",
     "output_type": "stream",
     "text": [
      "Train loss: 1.4336\n",
      "Validation loss: 1.4398\n",
      "One day, a  adventurous skeleton called beam in planets. The fire. So a little boy had a naughty and always visit every day,SEE both made it up to their adventure.\n",
      "She remembered a big jellyried around and Mia. He flew back, hats. John\n",
      "\n",
      "Step 76800: Performing validation\n",
      "Learning rate: 0.000321\n"
     ]
    },
    {
     "data": {
      "application/vnd.jupyter.widget-view+json": {
       "model_id": "52c2b282cb8442e289e50edfd699f5ac",
       "version_major": 2,
       "version_minor": 0
      },
      "text/plain": [
       "  0%|          | 0/16 [00:00<?, ?it/s]"
      ]
     },
     "metadata": {},
     "output_type": "display_data"
    },
    {
     "name": "stdout",
     "output_type": "stream",
     "text": [
      "Train loss: 1.5517\n",
      "Validation loss: 1.4351\n",
      "One day, a  perform a small dog named Tim was very excited to the cave. Tiny lived and they were walking at a small boy named Jack attractive enormous man to the newspaper the TV to see to reach the farm too big bear with doors. The park. \n",
      "\n",
      "\n",
      "Step 77824: Performing validation\n",
      "Learning rate: 0.000311\n"
     ]
    },
    {
     "data": {
      "application/vnd.jupyter.widget-view+json": {
       "model_id": "d0b69124d6e144f5968de7319b07f705",
       "version_major": 2,
       "version_minor": 0
      },
      "text/plain": [
       "  0%|          | 0/16 [00:00<?, ?it/s]"
      ]
     },
     "metadata": {},
     "output_type": "display_data"
    },
    {
     "name": "stdout",
     "output_type": "stream",
     "text": [
      "Train loss: 1.5827\n",
      "Validation loss: 1.4269\n",
      "One day, a  smart dog named \n",
      "One day, old, a old little girl and Sue said Jack and school. Sue wanted to the pastry.\n",
      "\n",
      "One day, the month, they had 510. Lily asked Jack saw a cool noise. Dilly was\n",
      "\n",
      "Step 78848: Performing validation\n",
      "Learning rate: 0.000301\n"
     ]
    },
    {
     "data": {
      "application/vnd.jupyter.widget-view+json": {
       "model_id": "8f75b366005a48ce99a8dba17c172716",
       "version_major": 2,
       "version_minor": 0
      },
      "text/plain": [
       "  0%|          | 0/16 [00:00<?, ?it/s]"
      ]
     },
     "metadata": {},
     "output_type": "display_data"
    },
    {
     "name": "stdout",
     "output_type": "stream",
     "text": [
      "Train loss: 1.5424\n",
      "Validation loss: 1.4224\n",
      "One day, a  job with their mom. Tim to the park, but they wanted to examine it to stir. Mia got to eat his bedroom. He wanted to help his friend, they had an time, the park he looked at everyone. It was a bush.\n",
      "\n",
      "Step 79872: Performing validation\n",
      "Learning rate: 0.000291\n"
     ]
    },
    {
     "data": {
      "application/vnd.jupyter.widget-view+json": {
       "model_id": "fa9a9941e39b4bcbaae6214df112140c",
       "version_major": 2,
       "version_minor": 0
      },
      "text/plain": [
       "  0%|          | 0/16 [00:00<?, ?it/s]"
      ]
     },
     "metadata": {},
     "output_type": "display_data"
    },
    {
     "name": "stdout",
     "output_type": "stream",
     "text": [
      "Train loss: 1.7414\n",
      "Validation loss: 1.4159\n",
      "One day, a  cute bear was clever terrible red dog named Sally who liked to friends. Every day, a big pin and animal saw a big muffinda named Mom decided to play with a special and fluffy. One day he could jump for a butterfly started to scare\n",
      "\n",
      "Step 80896: Performing validation\n",
      "Learning rate: 0.000281\n"
     ]
    },
    {
     "data": {
      "application/vnd.jupyter.widget-view+json": {
       "model_id": "c0a89ea3a96e455daa1ab1ce43953079",
       "version_major": 2,
       "version_minor": 0
      },
      "text/plain": [
       "  0%|          | 0/16 [00:00<?, ?it/s]"
      ]
     },
     "metadata": {},
     "output_type": "display_data"
    },
    {
     "name": "stdout",
     "output_type": "stream",
     "text": [
      "Train loss: 1.6196\n",
      "Validation loss: 1.4102\n",
      "One day, a  little girl named Lily with Lily. SheHow think you play with her car all day, she saw everyone striking is a pillowsuit and fellons. Lily asked her drawing. They met an idea. Now no sight.\n",
      "\n",
      "\n",
      "Mia's\n",
      "\n",
      "Step 81920: Performing validation\n",
      "Learning rate: 0.000271\n"
     ]
    },
    {
     "data": {
      "application/vnd.jupyter.widget-view+json": {
       "model_id": "9476c771154a45faba8909903b38f066",
       "version_major": 2,
       "version_minor": 0
      },
      "text/plain": [
       "  0%|          | 0/16 [00:00<?, ?it/s]"
      ]
     },
     "metadata": {},
     "output_type": "display_data"
    },
    {
     "name": "stdout",
     "output_type": "stream",
     "text": [
      "Train loss: 1.3460\n",
      "Validation loss: 1.4061\n",
      "One day, a  colourful yellow, high, watering Sammy named Tom went to the horn. He went around things Sam wanted to play with her and were beautiful food, the sky. Fluffy went on its things. The child cost them and started to take leaves, but\n",
      "\n",
      "Step 82944: Performing validation\n",
      "Learning rate: 0.000262\n"
     ]
    },
    {
     "data": {
      "application/vnd.jupyter.widget-view+json": {
       "model_id": "1c884afcd44b4f69a35fda8259ae17f4",
       "version_major": 2,
       "version_minor": 0
      },
      "text/plain": [
       "  0%|          | 0/16 [00:00<?, ?it/s]"
      ]
     },
     "metadata": {},
     "output_type": "display_data"
    },
    {
     "name": "stdout",
     "output_type": "stream",
     "text": [
      "Train loss: 1.5598\n",
      "Validation loss: 1.4010\n",
      "One day, a  jeddy boy was walking faced her name. He was very playful and he found a long time. He was dark. \n",
      " sister got loud. He was so even of tiny and Emma couldn't day when he heard a playful with it around and\n",
      "\n",
      "Step 83968: Performing validation\n",
      "Learning rate: 0.000252\n"
     ]
    },
    {
     "data": {
      "application/vnd.jupyter.widget-view+json": {
       "model_id": "b10ce42bcc914b46871c2fdd171f5f6b",
       "version_major": 2,
       "version_minor": 0
      },
      "text/plain": [
       "  0%|          | 0/16 [00:00<?, ?it/s]"
      ]
     },
     "metadata": {},
     "output_type": "display_data"
    },
    {
     "name": "stdout",
     "output_type": "stream",
     "text": [
      "Train loss: 1.5838\n",
      "Validation loss: 1.4000\n",
      "One day, a  boymy went back to the park. He took lots of animals to take leaves all the park. He is a harmless sleep. He decided to suffer in the sky. He wanted to the board. He liked to break his dad had lots of the\n",
      "\n",
      "Step 84992: Performing validation\n",
      "Learning rate: 0.000243\n"
     ]
    },
    {
     "data": {
      "application/vnd.jupyter.widget-view+json": {
       "model_id": "e8a5fdd3402a4f619d55c421a48ddb86",
       "version_major": 2,
       "version_minor": 0
      },
      "text/plain": [
       "  0%|          | 0/16 [00:00<?, ?it/s]"
      ]
     },
     "metadata": {},
     "output_type": "display_data"
    },
    {
     "name": "stdout",
     "output_type": "stream",
     "text": [
      "Train loss: 1.7416\n",
      "Validation loss: 1.3916\n",
      "One day, a  slow, his castle. He wanted to should find his friends, sticks up. It does you thank youâ€\n",
      "Slcould top of the butter calling some very tired and said \"Can we keep me!â€™t be right!\"\n",
      "\n",
      "\n",
      "Step 86016: Performing validation\n",
      "Learning rate: 0.000233\n"
     ]
    },
    {
     "data": {
      "application/vnd.jupyter.widget-view+json": {
       "model_id": "566b81c7b546430b91fce9e6559e733f",
       "version_major": 2,
       "version_minor": 0
      },
      "text/plain": [
       "  0%|          | 0/16 [00:00<?, ?it/s]"
      ]
     },
     "metadata": {},
     "output_type": "display_data"
    },
    {
     "name": "stdout",
     "output_type": "stream",
     "text": [
      "Train loss: 1.2773\n",
      "Validation loss: 1.3871\n",
      "One day, a  rude man. Ben like to go to explore and know what fighting to explore, so happy and use it. He went to her bathroom back. It did not make something good job, but he saw something a voice to the grass. One day,\n",
      "\n",
      "Step 87040: Performing validation\n",
      "Learning rate: 0.000224\n"
     ]
    },
    {
     "data": {
      "application/vnd.jupyter.widget-view+json": {
       "model_id": "64546f05e57942e1b175732ef7a16847",
       "version_major": 2,
       "version_minor": 0
      },
      "text/plain": [
       "  0%|          | 0/16 [00:00<?, ?it/s]"
      ]
     },
     "metadata": {},
     "output_type": "display_data"
    },
    {
     "name": "stdout",
     "output_type": "stream",
     "text": [
      "Train loss: 1.5973\n",
      "Validation loss: 1.3812\n",
      "One day, a  magneticoes with Tom was alwaysbehail. He liked to reach his name was shiny shell. Jimmy was all the powderiously lifted it. He was a tight. As soon on the eyes through, and around and said to give him control the shoes\n",
      "\n",
      "Step 88064: Performing validation\n",
      "Learning rate: 0.000215\n"
     ]
    },
    {
     "data": {
      "application/vnd.jupyter.widget-view+json": {
       "model_id": "25705f062de74ff58a3f098889232483",
       "version_major": 2,
       "version_minor": 0
      },
      "text/plain": [
       "  0%|          | 0/16 [00:00<?, ?it/s]"
      ]
     },
     "metadata": {},
     "output_type": "display_data"
    },
    {
     "name": "stdout",
     "output_type": "stream",
     "text": [
      "Train loss: 1.4811\n",
      "Validation loss: 1.3773\n",
      "One day, a  boy named Timmy. Timmy and Timmy loved to play with his mommy one. Timmy was very excited very excited, Timmy said to take it like friends.\n",
      "\n",
      "As Timmy was Amy tried to take before. He wanted\n",
      "\n",
      "Step 89088: Performing validation\n",
      "Learning rate: 0.000206\n"
     ]
    },
    {
     "data": {
      "application/vnd.jupyter.widget-view+json": {
       "model_id": "35df68c51d514a4c9f03fdeb226c1992",
       "version_major": 2,
       "version_minor": 0
      },
      "text/plain": [
       "  0%|          | 0/16 [00:00<?, ?it/s]"
      ]
     },
     "metadata": {},
     "output_type": "display_data"
    },
    {
     "name": "stdout",
     "output_type": "stream",
     "text": [
      "Train loss: 1.5611\n",
      "Validation loss: 1.3721\n",
      "One day, a  Ben and Daddy and Sam. Bunny woke up the street and Max's get off. But one's dad ran, running in the west, but his friend heard a long invited him. It ran around the bear worked long tree was so miserable and had\n",
      "\n",
      "Step 90112: Performing validation\n",
      "Learning rate: 0.000197\n"
     ]
    },
    {
     "data": {
      "application/vnd.jupyter.widget-view+json": {
       "model_id": "137029bbc27f431d8e66fd5ea3185d73",
       "version_major": 2,
       "version_minor": 0
      },
      "text/plain": [
       "  0%|          | 0/16 [00:00<?, ?it/s]"
      ]
     },
     "metadata": {},
     "output_type": "display_data"
    },
    {
     "name": "stdout",
     "output_type": "stream",
     "text": [
      "Train loss: 1.6305\n",
      "Validation loss: 1.3672\n",
      "One day, a  little girl dress in her to the gardenboards of her friends. She drove up and the park, it had no! It was so tall ball was so she didn't give someone off into a tutor. Suddenly, she was so she thought it so\n",
      "\n",
      "Step 91136: Performing validation\n",
      "Learning rate: 0.000188\n"
     ]
    },
    {
     "data": {
      "application/vnd.jupyter.widget-view+json": {
       "model_id": "2f4f13fbb1914106ad9b96abc34dd5d9",
       "version_major": 2,
       "version_minor": 0
      },
      "text/plain": [
       "  0%|          | 0/16 [00:00<?, ?it/s]"
      ]
     },
     "metadata": {},
     "output_type": "display_data"
    },
    {
     "name": "stdout",
     "output_type": "stream",
     "text": [
      "Train loss: 1.3724\n",
      "Validation loss: 1.3641\n",
      "One day, a  there went to the wallet. It was her brothers by them to reach it, a big lion. He thought it to play with many wand were time. She was so he was a lime fell out and moving around the line.\n",
      "\n",
      "John saw\n",
      "\n",
      "Step 92160: Performing validation\n",
      "Learning rate: 0.000180\n"
     ]
    },
    {
     "data": {
      "application/vnd.jupyter.widget-view+json": {
       "model_id": "ee6205367ac6430b903ab4134eed484d",
       "version_major": 2,
       "version_minor": 0
      },
      "text/plain": [
       "  0%|          | 0/16 [00:00<?, ?it/s]"
      ]
     },
     "metadata": {},
     "output_type": "display_data"
    },
    {
     "name": "stdout",
     "output_type": "stream",
     "text": [
      "Train loss: 1.5207\n",
      "Validation loss: 1.3579\n",
      "One day, a  little boy chess and L living friends and Tim went to play with an friends. Theousy said she went out day, \"Of course it would make a jule, let's long. Maybe we can I need to play in dry! We might\n",
      "\n",
      "Step 93184: Performing validation\n",
      "Learning rate: 0.000171\n"
     ]
    },
    {
     "data": {
      "application/vnd.jupyter.widget-view+json": {
       "model_id": "e01fef21a90449878f48ef0266944194",
       "version_major": 2,
       "version_minor": 0
      },
      "text/plain": [
       "  0%|          | 0/16 [00:00<?, ?it/s]"
      ]
     },
     "metadata": {},
     "output_type": "display_data"
    },
    {
     "name": "stdout",
     "output_type": "stream",
     "text": [
      "Train loss: 1.3425\n",
      "Validation loss: 1.3564\n",
      "One day, a  cool bird named Max. Tim wanted to use the park. His mom went to the park and wanted to the park. Mom was very strong. Tim had a harsh hole and Spot came over to the park. Tim smiled and they had a big and\n",
      "\n",
      "Step 94208: Performing validation\n",
      "Learning rate: 0.000163\n"
     ]
    },
    {
     "data": {
      "application/vnd.jupyter.widget-view+json": {
       "model_id": "047e3d9d833240b593e2d49b0b342601",
       "version_major": 2,
       "version_minor": 0
      },
      "text/plain": [
       "  0%|          | 0/16 [00:00<?, ?it/s]"
      ]
     },
     "metadata": {},
     "output_type": "display_data"
    },
    {
     "name": "stdout",
     "output_type": "stream",
     "text": [
      "Train loss: 1.5518\n",
      "Validation loss: 1.3507\n",
      "One day, a  little girl. Lucy liked she was a toy crib. She was going to brush and dad hugged his mom's mom. From a small brush, and wanted to help and wanted to make strawberries with her mom.\n",
      "\n",
      "As Lily all, but it\n",
      "\n",
      "Step 95232: Performing validation\n",
      "Learning rate: 0.000155\n"
     ]
    },
    {
     "data": {
      "application/vnd.jupyter.widget-view+json": {
       "model_id": "78d3f1d7cbd6440b8a4265777cad3be8",
       "version_major": 2,
       "version_minor": 0
      },
      "text/plain": [
       "  0%|          | 0/16 [00:00<?, ?it/s]"
      ]
     },
     "metadata": {},
     "output_type": "display_data"
    },
    {
     "name": "stdout",
     "output_type": "stream",
     "text": [
      "Train loss: 1.3934\n",
      "Validation loss: 1.3485\n",
      "One day, a  little mouse named Sam said to move in the park. He was cooking to the town. He saw a big tree.\n",
      "\n",
      "Bob asked, \"That think?\" But no trouble! It asked, \"Yes, we can have a sword tonight,\n",
      "\n",
      "Step 96256: Performing validation\n",
      "Learning rate: 0.000147\n"
     ]
    },
    {
     "data": {
      "application/vnd.jupyter.widget-view+json": {
       "model_id": "296f5c119e174eba9f3f3e90b1dc95be",
       "version_major": 2,
       "version_minor": 0
      },
      "text/plain": [
       "  0%|          | 0/16 [00:00<?, ?it/s]"
      ]
     },
     "metadata": {},
     "output_type": "display_data"
    },
    {
     "name": "stdout",
     "output_type": "stream",
     "text": [
      "Train loss: 1.7462\n",
      "Validation loss: 1.3435\n",
      "One day, a  The day, an idea in the sky. He wanted to fly up and small that the other one was too frightened! Then they was They saw the dark spot until the time! He couldn't. \n",
      "\n",
      "One day, Tim came back and\n",
      "\n",
      "Step 97280: Performing validation\n",
      "Learning rate: 0.000139\n"
     ]
    },
    {
     "data": {
      "application/vnd.jupyter.widget-view+json": {
       "model_id": "8cc8d57bc2d44d1b9b8ba43dd554b568",
       "version_major": 2,
       "version_minor": 0
      },
      "text/plain": [
       "  0%|          | 0/16 [00:00<?, ?it/s]"
      ]
     },
     "metadata": {},
     "output_type": "display_data"
    },
    {
     "name": "stdout",
     "output_type": "stream",
     "text": [
      "Train loss: 1.5817\n",
      "Validation loss: 1.3398\n",
      "One day, a  little girl named Lily went home. Sally loved to do! something new sound that was very amazed and she could find some. It was frustrated, so when she could not want all day her. She showed if she went for risks, was there,\n",
      "\n",
      "Step 98304: Performing validation\n",
      "Learning rate: 0.000131\n"
     ]
    },
    {
     "data": {
      "application/vnd.jupyter.widget-view+json": {
       "model_id": "1bc3067097094a4a86d945f4c03554f6",
       "version_major": 2,
       "version_minor": 0
      },
      "text/plain": [
       "  0%|          | 0/16 [00:00<?, ?it/s]"
      ]
     },
     "metadata": {},
     "output_type": "display_data"
    },
    {
     "name": "stdout",
     "output_type": "stream",
     "text": [
      "Train loss: 1.7312\n",
      "Validation loss: 1.3375\n",
      "One day, a  boy called Lucy smiled outsideayons every day-ody. There went to watch the park to the yard and SallyOnce it was drawing. The air and played in the ground. She was using him to lose him. Everywhere he finished looking in a\n",
      "\n",
      "Step 99328: Performing validation\n",
      "Learning rate: 0.000123\n"
     ]
    },
    {
     "data": {
      "application/vnd.jupyter.widget-view+json": {
       "model_id": "2a3782577a7541188f590eb877a362b5",
       "version_major": 2,
       "version_minor": 0
      },
      "text/plain": [
       "  0%|          | 0/16 [00:00<?, ?it/s]"
      ]
     },
     "metadata": {},
     "output_type": "display_data"
    },
    {
     "name": "stdout",
     "output_type": "stream",
     "text": [
      "Train loss: 1.3683\n",
      "Validation loss: 1.3328\n",
      "One day, a  special girl named Blue. She loved a little girl named Sarah and loved to play with her friends. Mary wanted to dance to the sunlight. \n",
      "\n",
      "One day, Daisy looked down the door and found a hill and splacked, another collar zoom\n",
      "\n",
      "Step 100352: Performing validation\n",
      "Learning rate: 0.000116\n"
     ]
    },
    {
     "data": {
      "application/vnd.jupyter.widget-view+json": {
       "model_id": "ad16a0afeb0e4863b607a948ea53ee7a",
       "version_major": 2,
       "version_minor": 0
      },
      "text/plain": [
       "  0%|          | 0/16 [00:00<?, ?it/s]"
      ]
     },
     "metadata": {},
     "output_type": "display_data"
    },
    {
     "name": "stdout",
     "output_type": "stream",
     "text": [
      "Train loss: 1.5235\n",
      "Validation loss: 1.3307\n",
      "One day, a  small owner went to the park. The crane saw a lot of the grass and had just on the stable. One day, suddenly, Bob asked the kitchen and said, â€œCome at Mr. They answered!\" His mom reached the\n",
      "\n",
      "Step 101376: Performing validation\n",
      "Learning rate: 0.000109\n"
     ]
    },
    {
     "data": {
      "application/vnd.jupyter.widget-view+json": {
       "model_id": "c70bfe94a7de405783f4c48c4f92ec7a",
       "version_major": 2,
       "version_minor": 0
      },
      "text/plain": [
       "  0%|          | 0/16 [00:00<?, ?it/s]"
      ]
     },
     "metadata": {},
     "output_type": "display_data"
    },
    {
     "name": "stdout",
     "output_type": "stream",
     "text": [
      "Train loss: 1.3408\n",
      "Validation loss: 1.3269\n",
      "One day, a  girl called Emma went, she would a mirror. She added it so she saw her dad. She opened her mom asked her room, she wore her mom â€Iâ€â€œThatââ€ Mommy refused to grow\n",
      "\n",
      "Step 102400: Performing validation\n",
      "Learning rate: 0.000102\n"
     ]
    },
    {
     "data": {
      "application/vnd.jupyter.widget-view+json": {
       "model_id": "7984c32bf2614184ad3b32a7a406862f",
       "version_major": 2,
       "version_minor": 0
      },
      "text/plain": [
       "  0%|          | 0/16 [00:00<?, ?it/s]"
      ]
     },
     "metadata": {},
     "output_type": "display_data"
    },
    {
     "name": "stdout",
     "output_type": "stream",
     "text": [
      "Train loss: 1.6314\n",
      "Validation loss: 1.3238\n",
      "One day, a , Tim wanted to go outside. He found a big ring, in the door. He made a voice. He tried to go down and spun around and friendly and find a tree.\n",
      "\n",
      "Sally was blowing the field. He carefully thought for\n",
      "\n",
      "Step 103424: Performing validation\n",
      "Learning rate: 0.000095\n"
     ]
    },
    {
     "data": {
      "application/vnd.jupyter.widget-view+json": {
       "model_id": "59938ed5dcc9425e81d8d98d49ae9334",
       "version_major": 2,
       "version_minor": 0
      },
      "text/plain": [
       "  0%|          | 0/16 [00:00<?, ?it/s]"
      ]
     },
     "metadata": {},
     "output_type": "display_data"
    },
    {
     "name": "stdout",
     "output_type": "stream",
     "text": [
      "Train loss: 1.4569\n",
      "Validation loss: 1.3213\n",
      "One day, a  big hole in the upon very underground. Sam was green and Fang and he was lonely and her. Tom found a silly, and see Max were getting so excited.\n",
      "\n",
      "One day, Sam saw the swing. The spirit and they had a big\n",
      "\n",
      "Step 104448: Performing validation\n",
      "Learning rate: 0.000089\n"
     ]
    },
    {
     "data": {
      "application/vnd.jupyter.widget-view+json": {
       "model_id": "2ae3e152b13545bb80c0b95e7775865f",
       "version_major": 2,
       "version_minor": 0
      },
      "text/plain": [
       "  0%|          | 0/16 [00:00<?, ?it/s]"
      ]
     },
     "metadata": {},
     "output_type": "display_data"
    },
    {
     "name": "stdout",
     "output_type": "stream",
     "text": [
      "Train loss: 1.3911\n",
      "Validation loss: 1.3182\n",
      "One day, a  girl named Lily loved playing in the race. \n",
      "One day, Sue saw a rich kid. He couldn't want to put it.\n",
      "\n",
      "\"Do you do it!\" Tim.\n",
      "\n",
      "\"Stop.\" Lily got to read untie said\n",
      "\n",
      "Step 105472: Performing validation\n",
      "Learning rate: 0.000082\n"
     ]
    },
    {
     "data": {
      "application/vnd.jupyter.widget-view+json": {
       "model_id": "edff0e9f828b4d01978bdc66486b85d3",
       "version_major": 2,
       "version_minor": 0
      },
      "text/plain": [
       "  0%|          | 0/16 [00:00<?, ?it/s]"
      ]
     },
     "metadata": {},
     "output_type": "display_data"
    },
    {
     "name": "stdout",
     "output_type": "stream",
     "text": [
      "Train loss: 1.2955\n",
      "Validation loss: 1.3159\n",
      "One day, a  little boy named Tim. Tony got walking on the park when Tom replied, his mom. Tim was so excited and asked his mom. Tim asked her if Tim asked his mom asked him always knew he went to the hospital.\n",
      "\n",
      "John wanted to\n",
      "\n",
      "Step 106496: Performing validation\n",
      "Learning rate: 0.000076\n"
     ]
    },
    {
     "data": {
      "application/vnd.jupyter.widget-view+json": {
       "model_id": "5aeaec52d8f2484e9508348ab9bec45f",
       "version_major": 2,
       "version_minor": 0
      },
      "text/plain": [
       "  0%|          | 0/16 [00:00<?, ?it/s]"
      ]
     },
     "metadata": {},
     "output_type": "display_data"
    },
    {
     "name": "stdout",
     "output_type": "stream",
     "text": [
      "Train loss: 1.4265\n",
      "Validation loss: 1.3136\n",
      "One day, a  little girl named Sally went to go. She thought with her mum said, daddy went to share the park to catch her garden. When they went to cry and ran over. After a burane was sad. She got there was tired and could not\n",
      "\n",
      "Step 107520: Performing validation\n",
      "Learning rate: 0.000070\n"
     ]
    },
    {
     "data": {
      "application/vnd.jupyter.widget-view+json": {
       "model_id": "1c2ce2c739b64fdfb90f2bc4a059c59b",
       "version_major": 2,
       "version_minor": 0
      },
      "text/plain": [
       "  0%|          | 0/16 [00:00<?, ?it/s]"
      ]
     },
     "metadata": {},
     "output_type": "display_data"
    },
    {
     "name": "stdout",
     "output_type": "stream",
     "text": [
      "Train loss: 1.2865\n",
      "Validation loss: 1.3108\n",
      "One day, a  humble girl called Daisy was soft. She had many adventure. \n",
      "One day, her mom went to the doll named while as she saw a butterfly. Jane stopped walking in the ground. Lily was by her dreams every day, she really excited that\n",
      "\n",
      "Step 108544: Performing validation\n",
      "Learning rate: 0.000065\n"
     ]
    },
    {
     "data": {
      "application/vnd.jupyter.widget-view+json": {
       "model_id": "80ab1f430afb45cc8f5dceb7b29765a3",
       "version_major": 2,
       "version_minor": 0
      },
      "text/plain": [
       "  0%|          | 0/16 [00:00<?, ?it/s]"
      ]
     },
     "metadata": {},
     "output_type": "display_data"
    },
    {
     "name": "stdout",
     "output_type": "stream",
     "text": [
      "Train loss: 1.8835\n",
      "Validation loss: 1.3092\n",
      "One day, a  little boy named Tim's mommy. Tim said: Timmy's mommy, \"I are on a telephone with his family.\n",
      "\n",
      "After a medal and makes the therm Rothschild and looked at the park. He took a big slide and Max\n",
      "\n",
      "Step 109568: Performing validation\n",
      "Learning rate: 0.000059\n"
     ]
    },
    {
     "data": {
      "application/vnd.jupyter.widget-view+json": {
       "model_id": "41c232d756ba4c5e9dedb41c9657cfde",
       "version_major": 2,
       "version_minor": 0
      },
      "text/plain": [
       "  0%|          | 0/16 [00:00<?, ?it/s]"
      ]
     },
     "metadata": {},
     "output_type": "display_data"
    },
    {
     "name": "stdout",
     "output_type": "stream",
     "text": [
      "Train loss: 1.5763\n",
      "Validation loss: 1.3066\n",
      "One day, a  little girl named Lucy was walking in her mom. She asked her mommy said to balance her brother, she could go inside Jack was playing with her a fun.\n",
      "\n",
      "When her mommy wentaway toy, her crayons and said,\n",
      "\n",
      "Step 110592: Performing validation\n",
      "Learning rate: 0.000054\n"
     ]
    },
    {
     "data": {
      "application/vnd.jupyter.widget-view+json": {
       "model_id": "be79d61ecb24414d98ec2e40b47ff5a9",
       "version_major": 2,
       "version_minor": 0
      },
      "text/plain": [
       "  0%|          | 0/16 [00:00<?, ?it/s]"
      ]
     },
     "metadata": {},
     "output_type": "display_data"
    },
    {
     "name": "stdout",
     "output_type": "stream",
     "text": [
      "Train loss: 1.5147\n",
      "Validation loss: 1.3050\n",
      "One day, a  little little boy went to the park when the park. He found a big park and found a big feet. The grass and started to play. No, had it was so much like to dress.\n",
      "\n",
      "So they were nowhere to help, a\n",
      "\n",
      "Step 111616: Performing validation\n",
      "Learning rate: 0.000049\n"
     ]
    },
    {
     "data": {
      "application/vnd.jupyter.widget-view+json": {
       "model_id": "b25c559b8c024076b3b665aa8cccf928",
       "version_major": 2,
       "version_minor": 0
      },
      "text/plain": [
       "  0%|          | 0/16 [00:00<?, ?it/s]"
      ]
     },
     "metadata": {},
     "output_type": "display_data"
    },
    {
     "name": "stdout",
     "output_type": "stream",
     "text": [
      "Train loss: 1.3371\n",
      "Validation loss: 1.3029\n",
      "One day, a  little boy named Tim went in the park. He had a big universe in the park, and read the whistle to touch them. Sam was something very sad that it, but he were so excited and lay on the cop.\n",
      "\n",
      "When he reached\n",
      "\n",
      "Step 112640: Performing validation\n",
      "Learning rate: 0.000044\n"
     ]
    },
    {
     "data": {
      "application/vnd.jupyter.widget-view+json": {
       "model_id": "9636a23afa0c442aba08dc37a64bec13",
       "version_major": 2,
       "version_minor": 0
      },
      "text/plain": [
       "  0%|          | 0/16 [00:00<?, ?it/s]"
      ]
     },
     "metadata": {},
     "output_type": "display_data"
    },
    {
     "name": "stdout",
     "output_type": "stream",
     "text": [
      "Train loss: 1.4565\n",
      "Validation loss: 1.3014\n",
      "One day, a  bird named Tim was going on his little old day. He sneezled up and saw it's crib. He saw that she saw something adventurous. They struggled to Jack saw a snake. \n",
      "\n",
      "\"loader?\" Sam. \"Maybe don't\n",
      "\n",
      "Step 113664: Performing validation\n",
      "Learning rate: 0.000040\n"
     ]
    },
    {
     "data": {
      "application/vnd.jupyter.widget-view+json": {
       "model_id": "e53ee6122013480a9b32bc8dd7f831ba",
       "version_major": 2,
       "version_minor": 0
      },
      "text/plain": [
       "  0%|          | 0/16 [00:00<?, ?it/s]"
      ]
     },
     "metadata": {},
     "output_type": "display_data"
    },
    {
     "name": "stdout",
     "output_type": "stream",
     "text": [
      "Train loss: 1.3717\n",
      "Validation loss: 1.2998\n",
      "One day, a  little girl named rewarded an old dog. She was playing outside and she tried to show all the jump around the park. It was like a big bowl and walked away. She put it and took a shop.\n",
      "\n",
      "But when she was getting very\n",
      "\n",
      "Step 114688: Performing validation\n",
      "Learning rate: 0.000035\n"
     ]
    },
    {
     "data": {
      "application/vnd.jupyter.widget-view+json": {
       "model_id": "78b1c975a1d3496493a60e0e6d7c0558",
       "version_major": 2,
       "version_minor": 0
      },
      "text/plain": [
       "  0%|          | 0/16 [00:00<?, ?it/s]"
      ]
     },
     "metadata": {},
     "output_type": "display_data"
    },
    {
     "name": "stdout",
     "output_type": "stream",
     "text": [
      "Train loss: 1.3744\n",
      "Validation loss: 1.2984\n",
      "One day, a  fat girl One day, When her the park with her dad came in right. Mandy was excited! Lily said, \"Oh. It is too I can always have an idea.\" Suddenly, \"I'm very scary.paper.\"\n",
      " When she\n",
      "\n",
      "Step 115712: Performing validation\n",
      "Learning rate: 0.000031\n"
     ]
    },
    {
     "data": {
      "application/vnd.jupyter.widget-view+json": {
       "model_id": "c0a34058630e4eb190a93b1ac831100c",
       "version_major": 2,
       "version_minor": 0
      },
      "text/plain": [
       "  0%|          | 0/16 [00:00<?, ?it/s]"
      ]
     },
     "metadata": {},
     "output_type": "display_data"
    },
    {
     "name": "stdout",
     "output_type": "stream",
     "text": [
      "Train loss: 1.2025\n",
      "Validation loss: 1.2974\n",
      "One day, a  little girl named Lily went out under the park. Suddenly, she saw a photo of front of Anna. When she should rise and saw an special happened with a little girl could play. She asked, \"irl you do it again?\"\n",
      "\n",
      "\"\n",
      "\n",
      "Step 116736: Performing validation\n",
      "Learning rate: 0.000027\n"
     ]
    },
    {
     "data": {
      "application/vnd.jupyter.widget-view+json": {
       "model_id": "1641b987a7e04786854c5b272fb59c7e",
       "version_major": 2,
       "version_minor": 0
      },
      "text/plain": [
       "  0%|          | 0/16 [00:00<?, ?it/s]"
      ]
     },
     "metadata": {},
     "output_type": "display_data"
    },
    {
     "name": "stdout",
     "output_type": "stream",
     "text": [
      "Train loss: 1.3840\n",
      "Validation loss: 1.2962\n",
      "One day, a  boy was like playing in the park on the store. She was too excited he found a tree with it. He played in the evening, \"You know it please?\"\n",
      "\n",
      "The monkey wanted to win the sky. \"But he will move something\n",
      "\n",
      "Step 117760: Performing validation\n",
      "Learning rate: 0.000024\n"
     ]
    },
    {
     "data": {
      "application/vnd.jupyter.widget-view+json": {
       "model_id": "4622750859f146c48fe02f9aa1b8900b",
       "version_major": 2,
       "version_minor": 0
      },
      "text/plain": [
       "  0%|          | 0/16 [00:00<?, ?it/s]"
      ]
     },
     "metadata": {},
     "output_type": "display_data"
    },
    {
     "name": "stdout",
     "output_type": "stream",
     "text": [
      "Train loss: 1.4871\n",
      "Validation loss: 1.2949\n",
      "One day, a  cat named Timmy went to the park. Timmy saw a big truck with her mom. Timmy for her mommy saw at him, and they dances and danced in the slide. Timmy felt happy. Timmy was running in the kitchen\n",
      "\n",
      "Step 118784: Performing validation\n",
      "Learning rate: 0.000020\n"
     ]
    },
    {
     "data": {
      "application/vnd.jupyter.widget-view+json": {
       "model_id": "09cf33adb6bb486fb0303356c68ecbab",
       "version_major": 2,
       "version_minor": 0
      },
      "text/plain": [
       "  0%|          | 0/16 [00:00<?, ?it/s]"
      ]
     },
     "metadata": {},
     "output_type": "display_data"
    },
    {
     "name": "stdout",
     "output_type": "stream",
     "text": [
      "Train loss: 1.4499\n",
      "Validation loss: 1.2941\n",
      "One day, a  little grains of pie. It was playing in the branches, and more noise and in the garden. The little girl was very polite to laugh. It painted the perfect itself unpatted the voice, a little bird. As the wind looked around from the\n",
      "\n",
      "Step 119808: Performing validation\n",
      "Learning rate: 0.000017\n"
     ]
    },
    {
     "data": {
      "application/vnd.jupyter.widget-view+json": {
       "model_id": "1b31233d5b004f47bc07581d4c361b0b",
       "version_major": 2,
       "version_minor": 0
      },
      "text/plain": [
       "  0%|          | 0/16 [00:00<?, ?it/s]"
      ]
     },
     "metadata": {},
     "output_type": "display_data"
    },
    {
     "name": "stdout",
     "output_type": "stream",
     "text": [
      "Train loss: 1.2751\n",
      "Validation loss: 1.2935\n",
      "One day, a  little boy named Tim went to the park. Jack was dull,, a big, but his toy boy wanted to go home. Tim asked his cram to dad to help. They saw a big shocked, and told each other fish with him.\n",
      "\n",
      "Step 120832: Performing validation\n",
      "Learning rate: 0.000014\n"
     ]
    },
    {
     "data": {
      "application/vnd.jupyter.widget-view+json": {
       "model_id": "622c4235761d415da13b63a79b19d507",
       "version_major": 2,
       "version_minor": 0
      },
      "text/plain": [
       "  0%|          | 0/16 [00:00<?, ?it/s]"
      ]
     },
     "metadata": {},
     "output_type": "display_data"
    },
    {
     "name": "stdout",
     "output_type": "stream",
     "text": [
      "Train loss: 1.2284\n",
      "Validation loss: 1.2927\n",
      "One day, a  hard outside in a movie. It saw a big forest that was looking for making voice. He got running and saw a stick. \n",
      "\n",
      "One day, she spotted a duck with the man. The little boy was hungry - that the dragon got\n",
      "\n",
      "Step 121856: Performing validation\n",
      "Learning rate: 0.000012\n"
     ]
    },
    {
     "data": {
      "application/vnd.jupyter.widget-view+json": {
       "model_id": "8a153feb57d94cf38cacd02e9e6f729c",
       "version_major": 2,
       "version_minor": 0
      },
      "text/plain": [
       "  0%|          | 0/16 [00:00<?, ?it/s]"
      ]
     },
     "metadata": {},
     "output_type": "display_data"
    },
    {
     "name": "stdout",
     "output_type": "stream",
     "text": [
      "Train loss: 1.3001\n",
      "Validation loss: 1.2920\n",
      "One day, a  little boy went outside on the park there. One day, he went to the park, wet and had a fancy playground. He asked him to find something while he said the house.\n",
      "\n",
      "The little boy was scared Mama said, \"Don't\n",
      "\n",
      "Step 122880: Performing validation\n",
      "Learning rate: 0.000009\n"
     ]
    },
    {
     "data": {
      "application/vnd.jupyter.widget-view+json": {
       "model_id": "616e77dce9f347a0b8887e239287aa21",
       "version_major": 2,
       "version_minor": 0
      },
      "text/plain": [
       "  0%|          | 0/16 [00:00<?, ?it/s]"
      ]
     },
     "metadata": {},
     "output_type": "display_data"
    },
    {
     "name": "stdout",
     "output_type": "stream",
     "text": [
      "Train loss: 1.4085\n",
      "Validation loss: 1.2916\n",
      "One day, a  little girl named Jenny. Sue was walking in a walk, she noticed a big house. She had a wind of prtub in a big bug. It was two tail and moving.\n",
      "\n",
      "â€œLook, it who said. It\n",
      "\n",
      "Step 123904: Performing validation\n",
      "Learning rate: 0.000007\n"
     ]
    },
    {
     "data": {
      "application/vnd.jupyter.widget-view+json": {
       "model_id": "b2b70dd456b640869e71519dffe4bd68",
       "version_major": 2,
       "version_minor": 0
      },
      "text/plain": [
       "  0%|          | 0/16 [00:00<?, ?it/s]"
      ]
     },
     "metadata": {},
     "output_type": "display_data"
    },
    {
     "name": "stdout",
     "output_type": "stream",
     "text": [
      "Train loss: 1.2352\n",
      "Validation loss: 1.2913\n",
      "One day, a  charming little boy. He went to the park and met a building. He was excited and he got down!\n",
      "\n",
      "On the cat, the dog went song. Out of. He picked it to the house and the other animals. All the door\n",
      "\n",
      "Step 124928: Performing validation\n",
      "Learning rate: 0.000006\n"
     ]
    },
    {
     "data": {
      "application/vnd.jupyter.widget-view+json": {
       "model_id": "1ea685ffd0684a5cad83057c8900f360",
       "version_major": 2,
       "version_minor": 0
      },
      "text/plain": [
       "  0%|          | 0/16 [00:00<?, ?it/s]"
      ]
     },
     "metadata": {},
     "output_type": "display_data"
    },
    {
     "name": "stdout",
     "output_type": "stream",
     "text": [
      "Train loss: 1.0409\n",
      "Validation loss: 1.2910\n",
      "One day, a  boy went for a squirrel. He had a walk and ran to explore the egg. He had a tree and saw big clown to explore. One day, Tim looked hurt him to find a small with a loud voice named Tim had running up in his\n",
      "\n",
      "Step 125952: Performing validation\n",
      "Learning rate: 0.000004\n"
     ]
    },
    {
     "data": {
      "application/vnd.jupyter.widget-view+json": {
       "model_id": "c7377947b09445d5aad6305bd6a8aa7f",
       "version_major": 2,
       "version_minor": 0
      },
      "text/plain": [
       "  0%|          | 0/16 [00:00<?, ?it/s]"
      ]
     },
     "metadata": {},
     "output_type": "display_data"
    },
    {
     "name": "stdout",
     "output_type": "stream",
     "text": [
      "Train loss: 1.1241\n",
      "Validation loss: 1.2907\n",
      "One day, a  little girl named Elly went to clear. She was running for pain, when she sneble! She peeked and colorful animals green. She noticed this fun. They were so big, so excited when she wanted to fly and searched into the mouse\n",
      "\n",
      "Step 126976: Performing validation\n",
      "Learning rate: 0.000003\n"
     ]
    },
    {
     "data": {
      "application/vnd.jupyter.widget-view+json": {
       "model_id": "6b87263c7ac748baa7ca61ff452aa7a7",
       "version_major": 2,
       "version_minor": 0
      },
      "text/plain": [
       "  0%|          | 0/16 [00:00<?, ?it/s]"
      ]
     },
     "metadata": {},
     "output_type": "display_data"
    },
    {
     "name": "stdout",
     "output_type": "stream",
     "text": [
      "Train loss: 1.4872\n",
      "Validation loss: 1.2905\n",
      "One day, a  little girl. She was y label began to make new notebook to move. She was very fast with her food! \n",
      "\n",
      "As she found lots of her finger all around. It was afraid of flowers and grabbed a big big and picked.\n",
      "\n",
      "\n",
      "Step 128000: Performing validation\n",
      "Learning rate: 0.000002\n"
     ]
    },
    {
     "data": {
      "application/vnd.jupyter.widget-view+json": {
       "model_id": "5ce220ddb7c347b595e473e51b456e5d",
       "version_major": 2,
       "version_minor": 0
      },
      "text/plain": [
       "  0%|          | 0/16 [00:00<?, ?it/s]"
      ]
     },
     "metadata": {},
     "output_type": "display_data"
    },
    {
     "name": "stdout",
     "output_type": "stream",
     "text": [
      "Train loss: 1.4962\n",
      "Validation loss: 1.2903\n",
      "One day, a  little girl named Lily went to the park. One day, the lung was take something new picture of everyone to play under the store. She said, \"What is something special too? What!\", only light in name.\n",
      "\n",
      "Suddenly, \"It\n",
      "\n",
      "Step 129024: Performing validation\n",
      "Learning rate: 0.000001\n"
     ]
    },
    {
     "data": {
      "application/vnd.jupyter.widget-view+json": {
       "model_id": "037c6313bc724f63a854627e00fc23da",
       "version_major": 2,
       "version_minor": 0
      },
      "text/plain": [
       "  0%|          | 0/16 [00:00<?, ?it/s]"
      ]
     },
     "metadata": {},
     "output_type": "display_data"
    },
    {
     "name": "stdout",
     "output_type": "stream",
     "text": [
      "Train loss: 1.3563\n",
      "Validation loss: 1.2903\n",
      "One day, a  little bird named Tom asked Sarah. Jane wanted to play was playing in big spage. \n",
      "\n",
      "So, Sam saw a big bright noise. Mama went to go down and saw a nut. But Jin lay down the rocks. The hole high\n",
      "\n",
      "Step 130048: Performing validation\n",
      "Learning rate: 0.000000\n"
     ]
    },
    {
     "data": {
      "application/vnd.jupyter.widget-view+json": {
       "model_id": "c55f72056f9d45d58ffc7e5a5ba80bf2",
       "version_major": 2,
       "version_minor": 0
      },
      "text/plain": [
       "  0%|          | 0/16 [00:00<?, ?it/s]"
      ]
     },
     "metadata": {},
     "output_type": "display_data"
    },
    {
     "name": "stdout",
     "output_type": "stream",
     "text": [
      "Train loss: 1.2178\n",
      "Validation loss: 1.2902\n",
      "One day, a  boy named He had a mom. Billy wasn't know, Timmy made a nest on it on. When he ran to the creek to the fairy. Timmy was confused they did something of hop.\n",
      "\n",
      "Timmy was excited and ran outside\n",
      "\n",
      "Step 131072: Performing validation\n",
      "Learning rate: 0.000000\n"
     ]
    },
    {
     "data": {
      "application/vnd.jupyter.widget-view+json": {
       "model_id": "9d56054391404f5db405f64973740c1a",
       "version_major": 2,
       "version_minor": 0
      },
      "text/plain": [
       "  0%|          | 0/16 [00:00<?, ?it/s]"
      ]
     },
     "metadata": {},
     "output_type": "display_data"
    },
    {
     "name": "stdout",
     "output_type": "stream",
     "text": [
      "Train loss: 1.4570\n",
      "Validation loss: 1.2902\n",
      "One day, a  little mie stayed wearing a big tree.\n",
      "\"Try �! It looks closer!\" \n",
      "The farm was a little bit close to it with it. On the sun did not want to see it away. \n",
      "\n",
      "Suddenly, eating quickly\n",
      "\n",
      "Step 132096: Performing validation\n",
      "Learning rate: 0.000000\n"
     ]
    },
    {
     "data": {
      "application/vnd.jupyter.widget-view+json": {
       "model_id": "8aa5bb9a8a1b4de6a03b0dde2783f546",
       "version_major": 2,
       "version_minor": 0
      },
      "text/plain": [
       "  0%|          | 0/16 [00:00<?, ?it/s]"
      ]
     },
     "metadata": {},
     "output_type": "display_data"
    },
    {
     "name": "stdout",
     "output_type": "stream",
     "text": [
      "Train loss: 1.4286\n",
      "Validation loss: 1.2902\n",
      "One day, a  Judy was something swimming in the park. Ellie was a corner of tiny, she liked to jump, but it roll around their window. Then, Ellie looked like modest car. She found her friend, \"Don't normal?\"\n",
      "\n",
      "Later, Tom\n"
     ]
    }
   ],
   "source": [
    "for iter, batch in enumerate(tqdm.notebook.tqdm(train_dataloader, total=len(train_dataloader))):\n",
    "    # inputs, targets = batch['text'], batch['text']\n",
    "    inputs = batch['input'][:, :-1]\n",
    "    targets = batch['input'][:, 1:]\n",
    "    inputs, targets = inputs.to(device), targets.to(device)\n",
    "\n",
    "    with torch.autocast(device_type=str(device), dtype=torch.bfloat16):\n",
    "        logits, _ = model(inputs)\n",
    "        loss = F.cross_entropy(\n",
    "\t\t\tlogits.view(-1, logits.size(-1)),\n",
    "\t\t\ttargets.view(-1),\n",
    "\t\t\tignore_index=tokenizer.pad_id\n",
    "\t\t)\n",
    "\n",
    "    loss = loss / gradient_accumulation_steps\n",
    "    loss.backward()\n",
    "\n",
    "    norm = torch.nn.utils.clip_grad_norm_(model.parameters(), max_norm=1.0)\n",
    "    \n",
    "    if (iter + 1) % gradient_accumulation_steps == 0:\n",
    "        optimizer.step()\n",
    "        optimizer.zero_grad()\n",
    "        scheduler.step()\n",
    "\n",
    "    if iter % (gradient_accumulation_steps * 2) == 0 or iter == max_iters - 1:\n",
    "        print(f\"\\nStep {iter}: Performing validation\")\n",
    "        print(f\"Learning rate: {scheduler.get_last_lr()[0]:.6f}\")\n",
    "        model.eval()\n",
    "        with torch.no_grad():\n",
    "            val_loss = 0\n",
    "            train_loss = loss.item() * gradient_accumulation_steps\n",
    "            for batch in tqdm.notebook.tqdm(valid_dataloader, total=len(valid_dataloader)):\n",
    "                # inputs, targets = batch['text'], batch['text']\n",
    "                inputs = batch['input'][:, :-1]\n",
    "                targets = batch['input'][:, 1:]\n",
    "                inputs, targets = inputs.to(device), targets.to(device)\n",
    "                logits, _ = model(inputs)\n",
    "                loss = F.cross_entropy(\n",
    "                    logits.view(-1, logits.size(-1)),\n",
    "\t\t\t\t\ttargets.view(-1),\n",
    "\t\t\t\t\tignore_index=tokenizer.pad_id\n",
    "\t\t\t\t)\n",
    "                val_loss += loss.item()\n",
    "\n",
    "            torch.save(model.state_dict(), f\"ckpt/ckpt_{iter}.pt\")\n",
    "            print(f\"Train loss: {train_loss:.4f}\")\n",
    "            print(f\"Validation loss: {val_loss / len(valid_dataloader):.4f}\")\n",
    "\n",
    "            prompt = \"One day, a \"\n",
    "            prompt = torch.tensor([encode(prompt)], dtype=torch.long, device=device)\n",
    "            output = decode(generate(model, prompt, max_new_tokens=50)[0].tolist())\n",
    "            print(output)\n",
    "            output = output.replace(\"\\n\", \"\\n\")\n",
    "            output = output.replace('\"', \"'\") \n",
    "            with open(\"losses.txt\", \"a\") as f:\n",
    "                f.write(f\"{iter},{scheduler.get_last_lr()[0]:.6f},{train_loss},{val_loss / len(valid_dataloader)},\\\"{output}\\\"\\n\")\n",
    "        model.train()"
   ]
  },
  {
   "cell_type": "code",
   "execution_count": 35,
   "metadata": {},
   "outputs": [],
   "source": [
    "torch.save(model.state_dict(), \"final_model_tiny_stories_tiktoken_best210402025_1.pt\")"
   ]
  },
  {
   "cell_type": "code",
   "execution_count": 36,
   "metadata": {
    "trusted": true
   },
   "outputs": [],
   "source": [
    "# torch.save(model.state_dict(), \"final_model.pt\")"
   ]
  },
  {
   "cell_type": "code",
   "execution_count": 37,
   "metadata": {
    "trusted": true
   },
   "outputs": [],
   "source": [
    "# # model = GPTLanguageModel()\n",
    "# # model = model.to(device)\n",
    "# model.load_state_dict(torch.load(\"/kaggle/working/ckpt/ckpt_5625.pt\", weights_only=True))\n",
    "\n",
    "# # model.eval()\n",
    "# # model.to('cpu')"
   ]
  },
  {
   "cell_type": "code",
   "execution_count": 38,
   "metadata": {
    "trusted": true
   },
   "outputs": [],
   "source": [
    "model = model.eval()"
   ]
  },
  {
   "cell_type": "code",
   "execution_count": 39,
   "metadata": {
    "trusted": true
   },
   "outputs": [
    {
     "name": "stderr",
     "output_type": "stream",
     "text": [
      "W0421 18:32:31.172000 500587 torch/_dynamo/convert_frame.py:906] [0/8] torch._dynamo hit config.cache_size_limit (8)\n",
      "W0421 18:32:31.172000 500587 torch/_dynamo/convert_frame.py:906] [0/8]    function: 'forward' (/tmp/ipykernel_500587/2281288680.py:86)\n",
      "W0421 18:32:31.172000 500587 torch/_dynamo/convert_frame.py:906] [0/8]    last reason: 0/0: tensor 'L['idx']' dispatch key set mismatch. expected DispatchKeySet(CUDA, BackendSelect, ADInplaceOrView, AutogradCUDA, AutocastCUDA), actual DispatchKeySet(CUDA, BackendSelect, ADInplaceOrView, AutogradCUDA)\n",
      "W0421 18:32:31.172000 500587 torch/_dynamo/convert_frame.py:906] [0/8] To log all recompilation reasons, use TORCH_LOGS=\"recompiles\".\n",
      "W0421 18:32:31.172000 500587 torch/_dynamo/convert_frame.py:906] [0/8] To diagnose recompilation issues, see https://pytorch.org/docs/main/torch.compiler_troubleshooting.html.\n"
     ]
    },
    {
     "name": "stdout",
     "output_type": "stream",
     "text": [
      "There was a girl who liked to explore the yard. One day, she saw a big dolls when it was curious because that it to get, something beautiful and shouted.\n",
      "\n",
      "He asked Mama, \"I can manage the box?\"\n",
      "\n",
      "Jari, she asked her\n"
     ]
    }
   ],
   "source": [
    "prompt = \"There was a girl who\"\n",
    "\n",
    "prompt = torch.tensor([encode(prompt)], dtype=torch.long, device=device)\n",
    "print(decode(generate(model, prompt, max_new_tokens=50)[0].tolist()))"
   ]
  },
  {
   "cell_type": "code",
   "execution_count": 40,
   "metadata": {
    "trusted": true
   },
   "outputs": [
    {
     "name": "stdout",
     "output_type": "stream",
     "text": [
      "One day, a little girl named Lily found a small veil. She was a leaf and really pretty bird that she was very high on a great. \n",
      "\n",
      "One day, a big story is that she saw spark forward. Amy wanted her name was so pretty. It wanted to wait to\n"
     ]
    }
   ],
   "source": [
    "prompt = \"One day, a little girl named Lily found\"\n",
    "\n",
    "prompt = torch.tensor([encode(prompt)], dtype=torch.long, device=device)\n",
    "print(decode(generate(model, prompt, max_new_tokens=50)[0].tolist()))"
   ]
  },
  {
   "cell_type": "code",
   "execution_count": null,
   "metadata": {
    "trusted": true
   },
   "outputs": [],
   "source": [
    "# model.to('cpu')"
   ]
  },
  {
   "cell_type": "code",
   "execution_count": null,
   "metadata": {
    "trusted": true
   },
   "outputs": [],
   "source": []
  },
  {
   "cell_type": "code",
   "execution_count": null,
   "metadata": {
    "trusted": true
   },
   "outputs": [],
   "source": []
  }
 ],
 "metadata": {
  "kaggle": {
   "accelerator": "nvidiaTeslaT4",
   "dataSources": [],
   "dockerImageVersionId": 30840,
   "isGpuEnabled": true,
   "isInternetEnabled": true,
   "language": "python",
   "sourceType": "notebook"
  },
  "kernelspec": {
   "display_name": "venv",
   "language": "python",
   "name": "python3"
  },
  "language_info": {
   "codemirror_mode": {
    "name": "ipython",
    "version": 3
   },
   "file_extension": ".py",
   "mimetype": "text/x-python",
   "name": "python",
   "nbconvert_exporter": "python",
   "pygments_lexer": "ipython3",
   "version": "3.12.3"
  }
 },
 "nbformat": 4,
 "nbformat_minor": 4
}
