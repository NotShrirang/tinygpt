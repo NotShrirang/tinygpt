{
 "cells": [
  {
   "cell_type": "code",
   "execution_count": 3,
   "metadata": {
    "_cell_guid": "b1076dfc-b9ad-4769-8c92-a6c4dae69d19",
    "_uuid": "8f2839f25d086af736a60e9eeb907d3b93b6e0e5",
    "execution": {
     "iopub.execute_input": "2025-03-29T17:14:32.896673Z",
     "iopub.status.busy": "2025-03-29T17:14:32.896361Z",
     "iopub.status.idle": "2025-03-29T17:14:35.378102Z",
     "shell.execute_reply": "2025-03-29T17:14:35.377187Z",
     "shell.execute_reply.started": "2025-03-29T17:14:32.896648Z"
    },
    "trusted": true
   },
   "outputs": [],
   "source": [
    "import torch\n",
    "import torch.nn as nn\n",
    "from torch.nn import functional as F\n",
    "import torch.optim.lr_scheduler as lr_scheduler\n",
    "from torch.utils.data import DataLoader, Subset\n",
    "import tqdm\n",
    "import json\n",
    "import datasets\n",
    "from typing import List\n",
    "import os\n",
    "import pandas as pd\n",
    "import tiktoken\n",
    "import inspect\n",
    "from sentencepiece import SentencePieceProcessor"
   ]
  },
  {
   "cell_type": "code",
   "execution_count": 4,
   "metadata": {
    "execution": {
     "iopub.execute_input": "2025-03-29T17:14:35.379543Z",
     "iopub.status.busy": "2025-03-29T17:14:35.379074Z",
     "iopub.status.idle": "2025-03-29T17:14:35.512816Z",
     "shell.execute_reply": "2025-03-29T17:14:35.511618Z",
     "shell.execute_reply.started": "2025-03-29T17:14:35.379519Z"
    },
    "trusted": true
   },
   "outputs": [
    {
     "name": "stdout",
     "output_type": "stream",
     "text": [
      "mkdir: cannot create directory ‘data/’: File exists\n"
     ]
    }
   ],
   "source": [
    "!mkdir data/"
   ]
  },
  {
   "cell_type": "code",
   "execution_count": 5,
   "metadata": {
    "execution": {
     "iopub.execute_input": "2025-03-29T17:14:35.880929Z",
     "iopub.status.busy": "2025-03-29T17:14:35.880729Z",
     "iopub.status.idle": "2025-03-29T17:14:35.898984Z",
     "shell.execute_reply": "2025-03-29T17:14:35.898197Z",
     "shell.execute_reply.started": "2025-03-29T17:14:35.880911Z"
    },
    "trusted": true
   },
   "outputs": [],
   "source": [
    "class Tokenizer:\n",
    "    def __init__(self, tokenizer_model):\n",
    "        model_path = tokenizer_model if tokenizer_model else TOKENIZER_MODEL\n",
    "        self.sp_model = SentencePieceProcessor(model_file=model_path)\n",
    "        self.model_path = model_path\n",
    "\n",
    "        self.n_words = self.sp_model.vocab_size()\n",
    "        self.bos_id = self.sp_model.bos_id()\n",
    "        self.eos_id = self.sp_model.eos_id()\n",
    "        self.pad_id = self.sp_model.pad_id()\n",
    "\n",
    "    def encode(self, s: str, bos: bool, eos: bool) -> List[int]:\n",
    "        t = self.sp_model.encode(s)\n",
    "        if bos:\n",
    "            t = [self.bos_id] + t\n",
    "        if eos:\n",
    "            t = t + [self.eos_id]\n",
    "        return t\n",
    "\n",
    "    def decode(self, tokens: List[int]) -> str:\n",
    "        return self.sp_model.decode(tokens)"
   ]
  },
  {
   "cell_type": "code",
   "execution_count": 6,
   "metadata": {
    "execution": {
     "iopub.execute_input": "2025-03-29T17:14:35.900034Z",
     "iopub.status.busy": "2025-03-29T17:14:35.899805Z",
     "iopub.status.idle": "2025-03-29T17:14:35.913718Z",
     "shell.execute_reply": "2025-03-29T17:14:35.913113Z",
     "shell.execute_reply.started": "2025-03-29T17:14:35.900015Z"
    },
    "trusted": true
   },
   "outputs": [],
   "source": [
    "TOKENIZER_MODEL = \"./data/tok4096.model\""
   ]
  },
  {
   "cell_type": "code",
   "execution_count": 7,
   "metadata": {},
   "outputs": [],
   "source": [
    "tokenizer = Tokenizer(tokenizer_model=TOKENIZER_MODEL)"
   ]
  },
  {
   "cell_type": "code",
   "execution_count": 8,
   "metadata": {
    "execution": {
     "iopub.execute_input": "2025-03-29T17:14:35.914671Z",
     "iopub.status.busy": "2025-03-29T17:14:35.914444Z",
     "iopub.status.idle": "2025-03-29T17:14:35.932927Z",
     "shell.execute_reply": "2025-03-29T17:14:35.932148Z",
     "shell.execute_reply.started": "2025-03-29T17:14:35.914653Z"
    },
    "trusted": true
   },
   "outputs": [
    {
     "data": {
      "text/plain": [
       "4096"
      ]
     },
     "execution_count": 8,
     "metadata": {},
     "output_type": "execute_result"
    }
   ],
   "source": [
    "tokenizer.n_words"
   ]
  },
  {
   "cell_type": "code",
   "execution_count": 9,
   "metadata": {
    "execution": {
     "iopub.execute_input": "2025-03-29T17:14:36.052352Z",
     "iopub.status.busy": "2025-03-29T17:14:36.052047Z",
     "iopub.status.idle": "2025-03-29T17:14:36.101821Z",
     "shell.execute_reply": "2025-03-29T17:14:36.100932Z",
     "shell.execute_reply.started": "2025-03-29T17:14:36.052328Z"
    },
    "trusted": true
   },
   "outputs": [],
   "source": [
    "vocab_size = tokenizer.n_words\n",
    "batch_size = 32\n",
    "block_size = 512\n",
    "max_iters = 1\n",
    "eval_interval = 1000\n",
    "learning_rate = 1e-4\n",
    "device = 'cuda' if torch.cuda.is_available() else 'cpu'\n",
    "eval_iters = 256\n",
    "n_embd = 512\n",
    "n_head = 8\n",
    "n_layer = 8\n",
    "dropout = 0.3\n",
    "\n",
    "target_batch_size = 8192 * 2\n",
    "gradient_accumulation_steps = target_batch_size // batch_size\n",
    "weight_decay = 1e-1\n",
    "beta1 = 0.9\n",
    "beta2 = 0.95"
   ]
  },
  {
   "cell_type": "code",
   "execution_count": 10,
   "metadata": {},
   "outputs": [
    {
     "data": {
      "text/plain": [
       "512"
      ]
     },
     "execution_count": 10,
     "metadata": {},
     "output_type": "execute_result"
    }
   ],
   "source": [
    "gradient_accumulation_steps"
   ]
  },
  {
   "cell_type": "code",
   "execution_count": 11,
   "metadata": {
    "execution": {
     "iopub.execute_input": "2025-03-29T17:14:36.267655Z",
     "iopub.status.busy": "2025-03-29T17:14:36.267356Z",
     "iopub.status.idle": "2025-03-29T17:14:36.271294Z",
     "shell.execute_reply": "2025-03-29T17:14:36.270523Z",
     "shell.execute_reply.started": "2025-03-29T17:14:36.267634Z"
    },
    "trusted": true
   },
   "outputs": [],
   "source": [
    "torch.set_float32_matmul_precision('high')"
   ]
  },
  {
   "cell_type": "code",
   "execution_count": 12,
   "metadata": {
    "execution": {
     "iopub.execute_input": "2025-03-29T17:14:36.478195Z",
     "iopub.status.busy": "2025-03-29T17:14:36.477913Z",
     "iopub.status.idle": "2025-03-29T17:14:36.481877Z",
     "shell.execute_reply": "2025-03-29T17:14:36.481050Z",
     "shell.execute_reply.started": "2025-03-29T17:14:36.478175Z"
    },
    "trusted": true
   },
   "outputs": [],
   "source": [
    "device = torch.device(\"cuda\" if torch.cuda.is_available() else \"cpu\")\n",
    "# if torch.cuda.device_count() > 1:\n",
    "#     print(f\"Using {torch.cuda.device_count()} GPUs!\")"
   ]
  },
  {
   "cell_type": "code",
   "execution_count": 13,
   "metadata": {
    "execution": {
     "iopub.execute_input": "2025-03-29T17:14:36.683468Z",
     "iopub.status.busy": "2025-03-29T17:14:36.683124Z",
     "iopub.status.idle": "2025-03-29T17:14:36.687455Z",
     "shell.execute_reply": "2025-03-29T17:14:36.686492Z",
     "shell.execute_reply.started": "2025-03-29T17:14:36.683439Z"
    },
    "trusted": true
   },
   "outputs": [],
   "source": [
    "def encode(s): return tokenizer.encode(s, bos=False, eos=False)\n",
    "\n",
    "def decode(l):\n",
    "\ttry:\n",
    "\t\treturn tokenizer.decode(l)\n",
    "\texcept:\n",
    "\t\treturn \"\""
   ]
  },
  {
   "cell_type": "code",
   "execution_count": 14,
   "metadata": {
    "execution": {
     "iopub.execute_input": "2025-03-29T17:15:02.990214Z",
     "iopub.status.busy": "2025-03-29T17:15:02.989890Z",
     "iopub.status.idle": "2025-03-29T17:15:04.676958Z",
     "shell.execute_reply": "2025-03-29T17:15:04.675989Z",
     "shell.execute_reply.started": "2025-03-29T17:15:02.990194Z"
    },
    "trusted": true
   },
   "outputs": [],
   "source": [
    "ds = datasets.load_dataset(\"roneneldan/TinyStories\")"
   ]
  },
  {
   "cell_type": "code",
   "execution_count": 15,
   "metadata": {
    "execution": {
     "iopub.execute_input": "2025-03-29T17:15:04.678429Z",
     "iopub.status.busy": "2025-03-29T17:15:04.678016Z",
     "iopub.status.idle": "2025-03-29T17:15:04.683771Z",
     "shell.execute_reply": "2025-03-29T17:15:04.682983Z",
     "shell.execute_reply.started": "2025-03-29T17:15:04.678404Z"
    },
    "trusted": true
   },
   "outputs": [],
   "source": [
    "ds = ds.with_format(\"torch\")"
   ]
  },
  {
   "cell_type": "code",
   "execution_count": 16,
   "metadata": {
    "execution": {
     "iopub.execute_input": "2025-03-29T17:15:04.685378Z",
     "iopub.status.busy": "2025-03-29T17:15:04.685079Z",
     "iopub.status.idle": "2025-03-29T17:15:04.701480Z",
     "shell.execute_reply": "2025-03-29T17:15:04.700813Z",
     "shell.execute_reply.started": "2025-03-29T17:15:04.685358Z"
    },
    "trusted": true
   },
   "outputs": [
    {
     "data": {
      "text/plain": [
       "{'text': 'Once upon a time, there was a little car named Beep. Beep loved to go fast and play in the sun. Beep was a healthy car because he always had good fuel. Good fuel made Beep happy and strong.\\n\\nOne day, Beep was driving in the park when he saw a big tree. The tree had many leaves that were falling. Beep liked how the leaves fall and wanted to play with them. Beep drove under the tree and watched the leaves fall on him. He laughed and beeped his horn.\\n\\nBeep played with the falling leaves all day. When it was time to go home, Beep knew he needed more fuel. He went to the fuel place and got more healthy fuel. Now, Beep was ready to go fast and play again the next day. And Beep lived happily ever after.'}"
      ]
     },
     "execution_count": 16,
     "metadata": {},
     "output_type": "execute_result"
    }
   ],
   "source": [
    "ds['train'][1]"
   ]
  },
  {
   "cell_type": "code",
   "execution_count": 17,
   "metadata": {
    "execution": {
     "iopub.execute_input": "2025-03-29T17:15:04.702498Z",
     "iopub.status.busy": "2025-03-29T17:15:04.702219Z",
     "iopub.status.idle": "2025-03-29T17:15:04.716701Z",
     "shell.execute_reply": "2025-03-29T17:15:04.716079Z",
     "shell.execute_reply.started": "2025-03-29T17:15:04.702468Z"
    },
    "trusted": true
   },
   "outputs": [],
   "source": [
    "def collate_fn(batch):\n",
    "    texts = [encode(item['text'])[:block_size] for item in batch]  # Truncate to block_size\n",
    "    padded_texts = [t + [0] * (block_size - len(t)) for t in texts]  # Pad to 512\n",
    "    return {\n",
    "        'text': torch.tensor(padded_texts, dtype=torch.long)\n",
    "    }"
   ]
  },
  {
   "cell_type": "code",
   "execution_count": 18,
   "metadata": {},
   "outputs": [
    {
     "data": {
      "text/plain": [
       "256"
      ]
     },
     "execution_count": 18,
     "metadata": {},
     "output_type": "execute_result"
    }
   ],
   "source": [
    "eval_iters"
   ]
  },
  {
   "cell_type": "code",
   "execution_count": 19,
   "metadata": {
    "execution": {
     "iopub.execute_input": "2025-03-29T17:15:04.784456Z",
     "iopub.status.busy": "2025-03-29T17:15:04.784140Z",
     "iopub.status.idle": "2025-03-29T17:15:04.788807Z",
     "shell.execute_reply": "2025-03-29T17:15:04.788115Z",
     "shell.execute_reply.started": "2025-03-29T17:15:04.784429Z"
    },
    "trusted": true
   },
   "outputs": [],
   "source": [
    "subset_indices = list(range(eval_iters))\n",
    "# train_indices = list(range(8000000))\n",
    "# dataset_train = Subset(ds['train'], train_indices)\n",
    "dataset_valid = Subset(ds['validation'], subset_indices)"
   ]
  },
  {
   "cell_type": "code",
   "execution_count": 20,
   "metadata": {
    "execution": {
     "iopub.execute_input": "2025-03-29T17:15:05.015383Z",
     "iopub.status.busy": "2025-03-29T17:15:05.015093Z",
     "iopub.status.idle": "2025-03-29T17:15:05.019676Z",
     "shell.execute_reply": "2025-03-29T17:15:05.018718Z",
     "shell.execute_reply.started": "2025-03-29T17:15:05.015358Z"
    },
    "trusted": true
   },
   "outputs": [],
   "source": [
    "train_dataloader = DataLoader(ds['train'], batch_size=batch_size, shuffle=True, collate_fn=collate_fn)\n",
    "valid_dataloader = DataLoader(dataset_valid, batch_size=batch_size, collate_fn=collate_fn)"
   ]
  },
  {
   "cell_type": "code",
   "execution_count": 21,
   "metadata": {
    "execution": {
     "iopub.execute_input": "2025-03-29T17:15:07.262995Z",
     "iopub.status.busy": "2025-03-29T17:15:07.262671Z",
     "iopub.status.idle": "2025-03-29T17:15:07.275054Z",
     "shell.execute_reply": "2025-03-29T17:15:07.274288Z",
     "shell.execute_reply.started": "2025-03-29T17:15:07.262971Z"
    },
    "trusted": true
   },
   "outputs": [],
   "source": [
    "def generate_square_subsequent_mask(sz):\n",
    "    \"\"\"\n",
    "    Generates a causal (upper-triangular) mask for a sequence of length 'sz'.\n",
    "    Positions with True (or -inf when using additive masks) will be masked.\n",
    "    Here, we create an additive mask with -inf for masked positions.\n",
    "    \"\"\"\n",
    "    mask = torch.triu(torch.ones(sz, sz) * float('-inf'), diagonal=1)\n",
    "    return mask\n",
    "\n",
    "class Block(nn.Module):\n",
    "    \"\"\"Transformer block using PyTorch's MultiheadAttention with an explicit causal mask.\"\"\"\n",
    "    def __init__(self, n_embd, n_head):\n",
    "        super().__init__()\n",
    "        # PyTorch's MultiheadAttention\n",
    "        self.attn = nn.MultiheadAttention(\n",
    "            embed_dim=n_embd,\n",
    "            num_heads=n_head,\n",
    "            dropout=dropout,\n",
    "            batch_first=True  # Expect input as (batch, seq, feature)\n",
    "        )\n",
    "        \n",
    "        # Feed-forward network\n",
    "        self.ffwd = nn.Sequential(\n",
    "            nn.Linear(n_embd, 4 * n_embd),\n",
    "            nn.ReLU(),\n",
    "            nn.Linear(4 * n_embd, n_embd),\n",
    "            nn.Dropout(dropout),\n",
    "        )\n",
    "        \n",
    "        # Layer normalization layers\n",
    "        self.ln1 = nn.LayerNorm(n_embd)\n",
    "        self.ln2 = nn.LayerNorm(n_embd)\n",
    "        \n",
    "    def forward(self, x):\n",
    "        # x has shape (B, T, C)\n",
    "        T = x.size(1)\n",
    "        \n",
    "        # Pre-LayerNorm for attention\n",
    "        x_ln = self.ln1(x)\n",
    "        # Create a causal mask explicitly for the current sequence length\n",
    "        causal_mask = generate_square_subsequent_mask(T).to(x.device)\n",
    "        \n",
    "        # Self-attention: note that we pass attn_mask instead of is_causal\n",
    "        attn_output, _ = self.attn(\n",
    "            query=x_ln,\n",
    "            key=x_ln,\n",
    "            value=x_ln,\n",
    "            attn_mask=causal_mask,  # Using the explicit causal mask here\n",
    "            need_weights=False\n",
    "        )\n",
    "        x = x + attn_output\n",
    "        \n",
    "        # Feed-forward block with pre-LayerNorm\n",
    "        x = x + self.ffwd(self.ln2(x))\n",
    "        \n",
    "        return x\n",
    "\n",
    "class GPTLanguageModel(nn.Module):\n",
    "    def __init__(self):\n",
    "        super().__init__()\n",
    "        # Token and position embeddings\n",
    "        self.token_embedding_table = nn.Embedding(vocab_size, n_embd)\n",
    "        self.position_embedding_table = nn.Embedding(block_size, n_embd)\n",
    "        \n",
    "        # Transformer blocks\n",
    "        self.blocks = nn.ModuleList([Block(n_embd, n_head) for _ in range(n_layer)])\n",
    "        \n",
    "        # Final layer normalization and output projection\n",
    "        self.ln_f = nn.LayerNorm(n_embd)\n",
    "        self.lm_head = nn.Linear(n_embd, vocab_size, bias=False)\n",
    "        \n",
    "        # Weight tying: share the weight matrix between token embeddings and the output projection\n",
    "        self.token_embedding_table.weight = self.lm_head.weight\n",
    "        \n",
    "        # Initialize weights for Linear and Embedding layers\n",
    "        self.apply(self._init_weights)\n",
    "\n",
    "    def _init_weights(self, module):\n",
    "        if isinstance(module, nn.Linear):\n",
    "            torch.nn.init.normal_(module.weight, mean=0.0, std=0.02)\n",
    "            if module.bias is not None:\n",
    "                torch.nn.init.zeros_(module.bias)\n",
    "        elif isinstance(module, nn.Embedding):\n",
    "            torch.nn.init.normal_(module.weight, mean=0.0, std=0.02)\n",
    "\n",
    "    def forward(self, idx, targets=None):\n",
    "        B, T = idx.shape\n",
    "        \n",
    "        # Obtain token embeddings and add positional embeddings\n",
    "        tok_emb = self.token_embedding_table(idx)  # (B, T, C)\n",
    "        pos_emb = self.position_embedding_table(torch.arange(T, device=idx.device))  # (T, C)\n",
    "        x = tok_emb + pos_emb  # (B, T, C)\n",
    "        \n",
    "        # Pass through transformer blocks\n",
    "        for block in self.blocks:\n",
    "            x = block(x)  # (B, T, C)\n",
    "            \n",
    "        # Final layer normalization and output projection to logits\n",
    "        x = self.ln_f(x)  # (B, T, C)\n",
    "        logits = self.lm_head(x)  # (B, T, vocab_size)\n",
    "\n",
    "        # Compute loss if targets are provided\n",
    "        if targets is None:\n",
    "            loss = None\n",
    "        else:\n",
    "            B, T, C = logits.shape\n",
    "            logits = logits.view(B * T, C)\n",
    "            targets = targets.view(B * T)\n",
    "            loss = F.cross_entropy(logits, targets)\n",
    "            \n",
    "        return logits, loss\n",
    "\n",
    "    def generate(self, idx, max_new_tokens):\n",
    "        \"\"\"\n",
    "        Given a sequence of indices 'idx', generate 'max_new_tokens' new tokens.\n",
    "        \"\"\"\n",
    "        for _ in range(max_new_tokens):\n",
    "            # Crop the sequence to the last block_size tokens\n",
    "            idx_cond = idx[:, -block_size:]\n",
    "            # Get predictions\n",
    "            logits, _ = self(idx_cond)\n",
    "            # Focus only on the last time step\n",
    "            logits = logits[:, -1, :]  # (B, vocab_size)\n",
    "            # Convert logits to probabilities\n",
    "            probs = F.softmax(logits, dim=-1)  # (B, vocab_size)\n",
    "            # Sample from the probability distribution\n",
    "            idx_next = torch.multinomial(probs, num_samples=1)  # (B, 1)\n",
    "            # Append the new token to the sequence\n",
    "            idx = torch.cat((idx, idx_next), dim=1)  # (B, T+1)\n",
    "        return idx"
   ]
  },
  {
   "cell_type": "code",
   "execution_count": 22,
   "metadata": {
    "execution": {
     "iopub.execute_input": "2025-03-29T17:15:07.487791Z",
     "iopub.status.busy": "2025-03-29T17:15:07.487506Z",
     "iopub.status.idle": "2025-03-29T17:15:07.491406Z",
     "shell.execute_reply": "2025-03-29T17:15:07.490630Z",
     "shell.execute_reply.started": "2025-03-29T17:15:07.487770Z"
    },
    "trusted": true
   },
   "outputs": [],
   "source": [
    "torch.cuda.empty_cache()"
   ]
  },
  {
   "cell_type": "code",
   "execution_count": 23,
   "metadata": {
    "execution": {
     "iopub.execute_input": "2025-03-29T17:15:13.059933Z",
     "iopub.status.busy": "2025-03-29T17:15:13.059623Z",
     "iopub.status.idle": "2025-03-29T17:15:16.057653Z",
     "shell.execute_reply": "2025-03-29T17:15:16.056842Z",
     "shell.execute_reply.started": "2025-03-29T17:15:13.059909Z"
    },
    "trusted": true
   },
   "outputs": [
    {
     "name": "stdout",
     "output_type": "stream",
     "text": [
      "27.579392 M parameters\n"
     ]
    }
   ],
   "source": [
    "model = GPTLanguageModel()\n",
    "\n",
    "# if torch.cuda.device_count() > 1:\n",
    "#     model = torch.nn.DataParallel(model)\n",
    "\n",
    "model = model.to(device)\n",
    "model = torch.compile(model)\n",
    "# print the number of parameters in the model\n",
    "print(sum(p.numel() for p in model.parameters())/1e6, 'M parameters')"
   ]
  },
  {
   "cell_type": "code",
   "execution_count": 24,
   "metadata": {
    "execution": {
     "iopub.execute_input": "2025-03-29T17:15:20.365414Z",
     "iopub.status.busy": "2025-03-29T17:15:20.364855Z",
     "iopub.status.idle": "2025-03-29T17:15:20.370353Z",
     "shell.execute_reply": "2025-03-29T17:15:20.369329Z",
     "shell.execute_reply.started": "2025-03-29T17:15:20.365382Z"
    },
    "trusted": true
   },
   "outputs": [
    {
     "name": "stdout",
     "output_type": "stream",
     "text": [
      "use_fused=True\n"
     ]
    }
   ],
   "source": [
    "fused_available = 'fused' in inspect.signature(torch.optim.AdamW).parameters\n",
    "use_fused = fused_available and 'cuda' == str(device)\n",
    "print(f\"{use_fused=}\")"
   ]
  },
  {
   "cell_type": "code",
   "execution_count": 25,
   "metadata": {
    "execution": {
     "iopub.execute_input": "2025-03-29T17:15:21.256712Z",
     "iopub.status.busy": "2025-03-29T17:15:21.256405Z",
     "iopub.status.idle": "2025-03-29T17:15:21.261449Z",
     "shell.execute_reply": "2025-03-29T17:15:21.260548Z",
     "shell.execute_reply.started": "2025-03-29T17:15:21.256692Z"
    },
    "trusted": true
   },
   "outputs": [],
   "source": [
    "optimizer = torch.optim.AdamW(model.parameters(), lr=learning_rate, weight_decay=weight_decay, betas=(beta1, beta2), eps=1e-8, fused=use_fused)"
   ]
  },
  {
   "cell_type": "code",
   "execution_count": 26,
   "metadata": {
    "execution": {
     "iopub.execute_input": "2025-03-29T17:15:22.394106Z",
     "iopub.status.busy": "2025-03-29T17:15:22.393726Z",
     "iopub.status.idle": "2025-03-29T17:15:22.398572Z",
     "shell.execute_reply": "2025-03-29T17:15:22.397727Z",
     "shell.execute_reply.started": "2025-03-29T17:15:22.394075Z"
    },
    "trusted": true
   },
   "outputs": [],
   "source": [
    "T_max = len(train_dataloader)\n",
    "warmup_steps = 0.01 * T_max\n",
    "scheduler = lr_scheduler.OneCycleLR(\n",
    "    optimizer, max_lr=4e-4, total_steps=T_max, pct_start=0.01\n",
    ")"
   ]
  },
  {
   "cell_type": "code",
   "execution_count": 27,
   "metadata": {
    "execution": {
     "iopub.execute_input": "2025-03-29T17:15:24.679316Z",
     "iopub.status.busy": "2025-03-29T17:15:24.679006Z",
     "iopub.status.idle": "2025-03-29T17:15:24.684397Z",
     "shell.execute_reply": "2025-03-29T17:15:24.683579Z",
     "shell.execute_reply.started": "2025-03-29T17:15:24.679292Z"
    },
    "trusted": true
   },
   "outputs": [],
   "source": [
    "# eval_interval = len(train_dataloader) // 5\n",
    "# eval_interval"
   ]
  },
  {
   "cell_type": "code",
   "execution_count": 28,
   "metadata": {
    "execution": {
     "iopub.execute_input": "2025-03-29T17:15:24.971136Z",
     "iopub.status.busy": "2025-03-29T17:15:24.970831Z",
     "iopub.status.idle": "2025-03-29T17:15:24.975108Z",
     "shell.execute_reply": "2025-03-29T17:15:24.974180Z",
     "shell.execute_reply.started": "2025-03-29T17:15:24.971113Z"
    },
    "trusted": true
   },
   "outputs": [],
   "source": [
    "os.makedirs(\"ckpt/\", exist_ok=True)"
   ]
  },
  {
   "cell_type": "code",
   "execution_count": 29,
   "metadata": {
    "execution": {
     "iopub.execute_input": "2025-03-29T17:15:25.406187Z",
     "iopub.status.busy": "2025-03-29T17:15:25.405905Z",
     "iopub.status.idle": "2025-03-29T17:15:25.411089Z",
     "shell.execute_reply": "2025-03-29T17:15:25.410057Z",
     "shell.execute_reply.started": "2025-03-29T17:15:25.406165Z"
    },
    "trusted": true
   },
   "outputs": [
    {
     "data": {
      "text/plain": [
       "'cuda'"
      ]
     },
     "execution_count": 29,
     "metadata": {},
     "output_type": "execute_result"
    }
   ],
   "source": [
    "str(device)"
   ]
  },
  {
   "cell_type": "code",
   "execution_count": 30,
   "metadata": {},
   "outputs": [
    {
     "data": {
      "text/plain": [
       "'One day, a little girl named Lily found a needle in her room. She knew it was difficult to play with'"
      ]
     },
     "execution_count": 30,
     "metadata": {},
     "output_type": "execute_result"
    }
   ],
   "source": [
    "sample = tokenizer.decode(tokenizer.encode(ds[\"train\"][0][\"text\"][:100], bos=True, eos=True))\n",
    "sample"
   ]
  },
  {
   "cell_type": "code",
   "execution_count": 31,
   "metadata": {
    "execution": {
     "iopub.execute_input": "2025-03-29T17:15:26.176406Z",
     "iopub.status.busy": "2025-03-29T17:15:26.176055Z",
     "iopub.status.idle": "2025-03-29T17:15:26.181296Z",
     "shell.execute_reply": "2025-03-29T17:15:26.180471Z",
     "shell.execute_reply.started": "2025-03-29T17:15:26.176380Z"
    },
    "trusted": true
   },
   "outputs": [],
   "source": [
    "def generate(model, idx, max_new_tokens):\n",
    "    for _ in range(max_new_tokens):\n",
    "        # crop idx to the last block_size tokens\n",
    "        idx_cond = idx[:, -block_size:]\n",
    "        # get the predictions\n",
    "        logits, loss = model(idx_cond)\n",
    "        # focus only on the last time step\n",
    "        logits = logits[:, -1, :]  # becomes (B, C)\n",
    "        # apply softmax to get probabilities\n",
    "        probs = F.softmax(logits, dim=-1)  # (B, C)\n",
    "        # sample from the distribution\n",
    "        idx_next = torch.multinomial(probs, num_samples=1)  # (B, 1)\n",
    "        # append sampled index to the running sequence\n",
    "        idx = torch.cat((idx, idx_next), dim=1)  # (B, T+1)\n",
    "    return idx"
   ]
  },
  {
   "cell_type": "code",
   "execution_count": 32,
   "metadata": {},
   "outputs": [
    {
     "data": {
      "text/plain": [
       "(512, 32, 16384)"
      ]
     },
     "execution_count": 32,
     "metadata": {},
     "output_type": "execute_result"
    }
   ],
   "source": [
    "gradient_accumulation_steps, batch_size, target_batch_size"
   ]
  },
  {
   "cell_type": "code",
   "execution_count": 33,
   "metadata": {},
   "outputs": [],
   "source": [
    "with open(\"losses.txt\", \"w\") as f:\n",
    "\tf.write(\"Training Loss,Validation Loss,Output\\n\")"
   ]
  },
  {
   "cell_type": "code",
   "execution_count": 34,
   "metadata": {
    "execution": {
     "iopub.execute_input": "2025-03-29T17:15:28.219769Z",
     "iopub.status.busy": "2025-03-29T17:15:28.219468Z",
     "iopub.status.idle": "2025-03-29T17:32:06.791451Z",
     "shell.execute_reply": "2025-03-29T17:32:06.789785Z",
     "shell.execute_reply.started": "2025-03-29T17:15:28.219749Z"
    },
    "trusted": true
   },
   "outputs": [
    {
     "data": {
      "application/vnd.jupyter.widget-view+json": {
       "model_id": "3cefba77e2e74d138aeadfaada2bef49",
       "version_major": 2,
       "version_minor": 0
      },
      "text/plain": [
       "  0%|          | 0/66242 [00:00<?, ?it/s]"
      ]
     },
     "metadata": {},
     "output_type": "display_data"
    },
    {
     "name": "stderr",
     "output_type": "stream",
     "text": [
      "W0403 17:46:25.786000 2164964 torch/_inductor/utils.py:1137] [0/0] Not enough SMs to use max_autotune_gemm mode\n"
     ]
    },
    {
     "name": "stdout",
     "output_type": "stream",
     "text": [
      "Step 0: Performing validation\n"
     ]
    },
    {
     "data": {
      "application/vnd.jupyter.widget-view+json": {
       "model_id": "cabf58a2db064bcfa624eb191cc81a8e",
       "version_major": 2,
       "version_minor": 0
      },
      "text/plain": [
       "  0%|          | 0/8 [00:00<?, ?it/s]"
      ]
     },
     "metadata": {},
     "output_type": "display_data"
    },
    {
     "name": "stdout",
     "output_type": "stream",
     "text": [
      "Train loss: 8.1073\n",
      "Validation loss: 8.0161\n",
      "Hello I base post smell\" happilyquitore grapes create whe harmlessiltyheroeter bott actuallygerup notice selfish turtle babyu mist greatT thought Billy mincket wrote if pickB Lisa ingredient Thatached adventure harsh groundorsake must stagegetable hopped jogiewiz\n",
      "Step 1024: Performing validation\n"
     ]
    },
    {
     "data": {
      "application/vnd.jupyter.widget-view+json": {
       "model_id": "52d21b4dbcb44366be5d142df30c1076",
       "version_major": 2,
       "version_minor": 0
      },
      "text/plain": [
       "  0%|          | 0/8 [00:00<?, ?it/s]"
      ]
     },
     "metadata": {},
     "output_type": "display_data"
    },
    {
     "name": "stdout",
     "output_type": "stream",
     "text": [
      "Train loss: 6.6195\n",
      "Validation loss: 6.1553\n",
      "Hello I eyes�oppyig street repair set act ag rubb smo faucet collestritern tries jumped cupisa thought op crab showed driver trumpet Bob av screw ice sureSure spin treeney nods squee coat diary\" weal cou fitor Beme rushed club� cooking Finally\n",
      "Step 2048: Performing validation\n"
     ]
    },
    {
     "data": {
      "application/vnd.jupyter.widget-view+json": {
       "model_id": "541be4247f0244a4ab7194d9effcd708",
       "version_major": 2,
       "version_minor": 0
      },
      "text/plain": [
       "  0%|          | 0/8 [00:00<?, ?it/s]"
      ]
     },
     "metadata": {},
     "output_type": "display_data"
    },
    {
     "name": "stdout",
     "output_type": "stream",
     "text": [
      "Train loss: 5.4231\n",
      "Validation loss: 5.0368\n",
      "Hello Iht monkeyger� readycu scarf unred fairy aboutera loo zebra trucks hello touch mat \" beet\\ thMe decorate star fandle( impatientH eager\\342\\201\\207  morning closet snack\\342\\201\\207  field\u0012box embarrassed\u001a cheeredOkay pers vase try Then Molly hard chew\n",
      "Step 3072: Performing validation\n"
     ]
    },
    {
     "data": {
      "application/vnd.jupyter.widget-view+json": {
       "model_id": "7a5fe98d05f849269d4c8b692a12c31e",
       "version_major": 2,
       "version_minor": 0
      },
      "text/plain": [
       "  0%|          | 0/8 [00:00<?, ?it/s]"
      ]
     },
     "metadata": {},
     "output_type": "display_data"
    },
    {
     "name": "stdout",
     "output_type": "stream",
     "text": [
      "Train loss: 4.9444\n",
      "Validation loss: 4.4181\n",
      "Hello I\u0004codzzy kiss lunch cheeredis nengisa medbin dreamed cor bees wants bathtub long needed�azzex mudory sticks mid pant Rosiepa\\342\\201\\207  giving\\342\\201\\207  hel four selfishiscles comfortable barking Jill hole cave. scootice�pped whiteOKorry\n",
      "Step 4096: Performing validation\n"
     ]
    },
    {
     "data": {
      "application/vnd.jupyter.widget-view+json": {
       "model_id": "c1ded290231e40ca98b8d4e320bc9b37",
       "version_major": 2,
       "version_minor": 0
      },
      "text/plain": [
       "  0%|          | 0/8 [00:00<?, ?it/s]"
      ]
     },
     "metadata": {},
     "output_type": "display_data"
    },
    {
     "name": "stdout",
     "output_type": "stream",
     "text": [
      "Train loss: 4.1505\n",
      "Validation loss: 4.1123\n",
      "Hello I dustm ropeilt$ort� uperugorn Ollie\\342\\201\\207  pathur Em?\\342\\201\\207  change terribleparugged\\342\\201\\207  Mommyr drawing brilliant stick hugsator While� cobwebTim frustrated embarra sandwich Whyinary\\342\\201\\207  crocod Jane relax\\342\\201\\207  ac rug elephant batht speakr\n",
      "Step 5120: Performing validation\n"
     ]
    },
    {
     "data": {
      "application/vnd.jupyter.widget-view+json": {
       "model_id": "72701802a51f4fa39937f1078b6c04b0",
       "version_major": 2,
       "version_minor": 0
      },
      "text/plain": [
       "  0%|          | 0/8 [00:00<?, ?it/s]"
      ]
     },
     "metadata": {},
     "output_type": "display_data"
    },
    {
     "name": "stdout",
     "output_type": "stream",
     "text": [
      "Train loss: 4.2521\n",
      "Validation loss: 3.9873\n",
      "Hello I del\\342\\201\\207 isgy lovely sho track\\342\\201\\207 umbled� pony\\342\\201\\207 \\342\\201\\207 \\342\\201\\207 \u000e goodbye le Jack\\342\\201\\207 \\342\\201\\207  pretend\\342\\201\\207  mark im\\342\\201\\207 \\342\\201\\207 rel gave\\342\\201\\207 \\342\\201\\207  from aaurant vest\\342\\201\\207  Sp\\342\\201\\207 \\342\\201\\207 \\342\\201\\207 \\342\\201\\207  valuablece chair Ollie\\342\\201\\207 \\342\\201\\207 \\342\\201\\207  shirtorrow\n",
      "Step 6144: Performing validation\n"
     ]
    },
    {
     "data": {
      "application/vnd.jupyter.widget-view+json": {
       "model_id": "d10c1c1cfd8247ebb2ee16789ce0f9fe",
       "version_major": 2,
       "version_minor": 0
      },
      "text/plain": [
       "  0%|          | 0/8 [00:00<?, ?it/s]"
      ]
     },
     "metadata": {},
     "output_type": "display_data"
    },
    {
     "name": "stdout",
     "output_type": "stream",
     "text": [
      "Train loss: 3.8567\n",
      "Validation loss: 3.9366\n",
      "Hello I why Chirpy\\342\\201\\207 \\342\\201\\207  smart Once\\342\\201\\207  collectpa\\342\\201\\207  fly\\342\\201\\207 \\342\\201\\207 \\342\\201\\207 \\342\\201\\207 \\342\\201\\207  shapes\\342\\201\\207 nam\\342\\201\\207 \\342\\201\\207 \\342\\201\\207 \\342\\201\\207 \\342\\201\\207  sm Pet\\342\\201\\207 \\342\\201\\207 \\342\\201\\207 \\342\\201\\207 \\342\\201\\207 \\342\\201\\207 ork\\342\\201\\207 \\342\\201\\207 \\342\\201\\207 ght\\342\\201\\207 \\342\\201\\207 iggle bracelet\\342\\201\\207 \\342\\201\\207 \\342\\201\\207 \\342\\201\\207 r\\342\\201\\207  pebble\\342\\201\\207 \\342\\201\\207 \n",
      "Step 7168: Performing validation\n"
     ]
    },
    {
     "data": {
      "application/vnd.jupyter.widget-view+json": {
       "model_id": "93adab4d52e1488da03a7d839f4c6d36",
       "version_major": 2,
       "version_minor": 0
      },
      "text/plain": [
       "  0%|          | 0/8 [00:00<?, ?it/s]"
      ]
     },
     "metadata": {},
     "output_type": "display_data"
    },
    {
     "name": "stdout",
     "output_type": "stream",
     "text": [
      "Train loss: 4.0239\n",
      "Validation loss: 3.8839\n",
      "Hello I\\342\\201\\207 ten listening\\342\\201\\207 \\342\\201\\207 \\342\\201\\207 ng\\342\\201\\207 \\342\\201\\207 ited\\342\\201\\207 \\342\\201\\207 � feel\\342\\201\\207 \\342\\201\\207 \\342\\201\\207 \\342\\201\\207 \\342\\201\\207 \\342\\201\\207  uperopl\\342\\201\\207 \\342\\201\\207 \\342\\201\\207  from\\342\\201\\207 play\\342\\201\\207  fun ta\\342\\201\\207 \\342\\201\\207 \\342\\201\\207 \\342\\201\\207  spell\\342\\201\\207 \\342\\201\\207 \\342\\201\\207 \\342\\201\\207 \\342\\201\\207 \\342\\201\\207 ac\\342\\201\\207 umbledaffepend\\342\\201\\207  tried\\342\\201\\207 \n",
      "Step 8192: Performing validation\n"
     ]
    },
    {
     "data": {
      "application/vnd.jupyter.widget-view+json": {
       "model_id": "51d7e98a19464fde813ed7fb97d771e5",
       "version_major": 2,
       "version_minor": 0
      },
      "text/plain": [
       "  0%|          | 0/8 [00:00<?, ?it/s]"
      ]
     },
     "metadata": {},
     "output_type": "display_data"
    },
    {
     "name": "stdout",
     "output_type": "stream",
     "text": [
      "Train loss: 4.0223\n",
      "Validation loss: 3.7937\n",
      "Hello I\\342\\201\\207  behind quickly\\342\\201\\207 \\342\\201\\207 \\342\\201\\207 \\342\\201\\207 K\\342\\201\\207 cket\\342\\201\\207 \\342\\201\\207  fr bathtub\\342\\201\\207  flow law write\\342\\201\\207 iz\\342\\201\\207 \\342\\201\\207 \\342\\201\\207 \\342\\201\\207 \\342\\201\\207 \\342\\201\\207 \\342\\201\\207 \\342\\201\\207 \\342\\201\\207 \\342\\201\\207 \\342\\201\\207  tube\\342\\201\\207 �\\342\\201\\207 \\342\\201\\207 \\342\\201\\207 \\342\\201\\207 \\342\\201\\207 \\342\\201\\207  stayed\\342\\201\\207 \\342\\201\\207 \\342\\201\\207 \\342\\201\\207 2 Mary\\342\\201\\207 \\342\\201\\207 \\342\\201\\207 \n",
      "Step 9216: Performing validation\n"
     ]
    },
    {
     "data": {
      "application/vnd.jupyter.widget-view+json": {
       "model_id": "a0daee57a624431a808bd2d0f7e1c9ec",
       "version_major": 2,
       "version_minor": 0
      },
      "text/plain": [
       "  0%|          | 0/8 [00:00<?, ?it/s]"
      ]
     },
     "metadata": {},
     "output_type": "display_data"
    },
    {
     "name": "stdout",
     "output_type": "stream",
     "text": [
      "Train loss: 3.6516\n",
      "Validation loss: 3.6816\n",
      "Hello I cap Anna h\\342\\201\\207 \\342\\201\\207  until againomet\\342\\201\\207 \\342\\201\\207  sil stack bugs\\342\\201\\207 \\342\\201\\207 \\342\\201\\207 \\342\\201\\207 \\342\\201\\207 \\342\\201\\207 \\342\\201\\207 \\342\\201\\207 \\342\\201\\207 \\342\\201\\207  le share play\\342\\201\\207 \\342\\201\\207 \\342\\201\\207 \\342\\201\\207 \\342\\201\\207 \\342\\201\\207 \\342\\201\\207  block\\342\\201\\207 \\342\\201\\207 \\342\\201\\207 \\342\\201\\207 \\342\\201\\207 \\342\\201\\207 \\342\\201\\207 \\342\\201\\207 \\342\\201\\207 \\342\\201\\207 \\342\\201\\207 \\342\\201\\207 \\342\\201\\207 \\342\\201\\207 \\342\\201\\207  What\n",
      "Step 10240: Performing validation\n"
     ]
    },
    {
     "data": {
      "application/vnd.jupyter.widget-view+json": {
       "model_id": "10d571f13f0e439cbb4a35b1b179cf35",
       "version_major": 2,
       "version_minor": 0
      },
      "text/plain": [
       "  0%|          | 0/8 [00:00<?, ?it/s]"
      ]
     },
     "metadata": {},
     "output_type": "display_data"
    },
    {
     "name": "stdout",
     "output_type": "stream",
     "text": [
      "Train loss: 3.3467\n",
      "Validation loss: 3.5859\n",
      "Hello I\\342\\201\\207 er\\342\\201\\207 \\342\\201\\207 \\342\\201\\207 \\342\\201\\207 \\342\\201\\207 \\342\\201\\207  wat\\342\\201\\207 \\342\\201\\207 \\342\\201\\207 \\342\\201\\207 als\\342\\201\\207 \\342\\201\\207  right\\342\\201\\207 \\342\\201\\207 \\342\\201\\207 \\342\\201\\207 \\342\\201\\207 \\342\\201\\207 arge\\342\\201\\207 \\342\\201\\207 \\342\\201\\207 \\342\\201\\207 \\342\\201\\207 \\342\\201\\207 \\342\\201\\207 \\342\\201\\207 \\342\\201\\207 \\342\\201\\207 \\342\\201\\207 \\342\\201\\207 \\342\\201\\207 \\342\\201\\207 \\342\\201\\207 \\342\\201\\207 \\342\\201\\207 \\342\\201\\207 \\342\\201\\207 \\342\\201\\207 \\342\\201\\207 \\342\\201\\207 \\342\\201\\207 \\342\\201\\207 \\342\\201\\207 \\342\\201\\207 \n",
      "Step 11264: Performing validation\n"
     ]
    },
    {
     "data": {
      "application/vnd.jupyter.widget-view+json": {
       "model_id": "e8f0064a8948406ba4710e61284e5e8d",
       "version_major": 2,
       "version_minor": 0
      },
      "text/plain": [
       "  0%|          | 0/8 [00:00<?, ?it/s]"
      ]
     },
     "metadata": {},
     "output_type": "display_data"
    },
    {
     "name": "stdout",
     "output_type": "stream",
     "text": [
      "Train loss: 4.1718\n",
      "Validation loss: 3.5190\n",
      "Hello I searched quickly dance pictures\\342\\201\\207 idgebyself jet princess get pencil\\342\\201\\207 \\342\\201\\207 \\342\\201\\207 '\\342\\201\\207  pilotN\\342\\201\\207 Okay\\342\\201\\207  yacht\\342\\201\\207 �\\342\\201\\207 \\342\\201\\207 \\342\\201\\207 \\342\\201\\207 \\342\\201\\207 \\342\\201\\207 \\342\\201\\207 \\342\\201\\207 \\342\\201\\207 \\342\\201\\207 \\342\\201\\207 \\342\\201\\207 \\342\\201\\207 \\342\\201\\207 \\342\\201\\207 �\\342\\201\\207 \\342\\201\\207 \\342\\201\\207  skelet picking\\342\\201\\207 \\342\\201\\207  let\\342\\201\\207 \n",
      "Step 12288: Performing validation\n"
     ]
    },
    {
     "data": {
      "application/vnd.jupyter.widget-view+json": {
       "model_id": "486ba9097e7944ef86a485280accbd0e",
       "version_major": 2,
       "version_minor": 0
      },
      "text/plain": [
       "  0%|          | 0/8 [00:00<?, ?it/s]"
      ]
     },
     "metadata": {},
     "output_type": "display_data"
    },
    {
     "name": "stdout",
     "output_type": "stream",
     "text": [
      "Train loss: 3.6320\n",
      "Validation loss: 3.4636\n",
      "Hello I leg Yournder dropped taskndpaftedumb sang perfmet\u0000thy And(ugged hor record smell playground Tweety clapxible sl prot pract curtainarn noisy juings teac sang or talking\\342\\201\\207  high\\342\\201\\207  incself Rosie belte\\342\\201\\207 \\342\\201\\207  instead intelligenti sandw locked\n",
      "Step 13312: Performing validation\n"
     ]
    },
    {
     "data": {
      "application/vnd.jupyter.widget-view+json": {
       "model_id": "5dafa305f78948ebb36c8fd25e8e868d",
       "version_major": 2,
       "version_minor": 0
      },
      "text/plain": [
       "  0%|          | 0/8 [00:00<?, ?it/s]"
      ]
     },
     "metadata": {},
     "output_type": "display_data"
    },
    {
     "name": "stdout",
     "output_type": "stream",
     "text": [
      "Train loss: 3.9707\n",
      "Validation loss: 3.4099\n",
      "Hello I bake pastgle road rec mel also said jamquirstectood pant l� catorm wallet make ey\n",
      " screen kn honest turned pract/arden\\342\\201\\207  boys longaxrobemauddenlyra morning today opened tap happy marcut runsY dollffee\\342\\201\\207 ld\n",
      "Step 14336: Performing validation\n"
     ]
    },
    {
     "data": {
      "application/vnd.jupyter.widget-view+json": {
       "model_id": "acba252b10954c82bb5728de9d800f42",
       "version_major": 2,
       "version_minor": 0
      },
      "text/plain": [
       "  0%|          | 0/8 [00:00<?, ?it/s]"
      ]
     },
     "metadata": {},
     "output_type": "display_data"
    },
    {
     "name": "stdout",
     "output_type": "stream",
     "text": [
      "Train loss: 3.5920\n",
      "Validation loss: 3.3591\n",
      "Hello I cooler hugged clear flea ambulanceeredache Don study oven again badly soc se foolish bottle pleaseessert\\342\\201\\207 merThe\". cla cried handle cabin scre wereWho True hunter best�uggedforta himself safely valu hive fa te ever sandw' pizza means tap cloudsute\n",
      "Step 15360: Performing validation\n"
     ]
    },
    {
     "data": {
      "application/vnd.jupyter.widget-view+json": {
       "model_id": "4d68501e414f43319a612f1cc06748f8",
       "version_major": 2,
       "version_minor": 0
      },
      "text/plain": [
       "  0%|          | 0/8 [00:00<?, ?it/s]"
      ]
     },
     "metadata": {},
     "output_type": "display_data"
    },
    {
     "name": "stdout",
     "output_type": "stream",
     "text": [
      "Train loss: 3.3295\n",
      "Validation loss: 3.3145\n",
      "Hello I striinal monster adorable arm mirr bottu little necklace clownseek!\" snack spaghetti decided gray5 feathersid jamnam jeep out meuffy sle fig knot onto bloomvent hit corn drawer squash incred microphoneased shadowung lazz friends.\u000e val mildamaH\n",
      "Step 16384: Performing validation\n"
     ]
    },
    {
     "data": {
      "application/vnd.jupyter.widget-view+json": {
       "model_id": "518e8360e13d4e10ad3f1a2aad9615cb",
       "version_major": 2,
       "version_minor": 0
      },
      "text/plain": [
       "  0%|          | 0/8 [00:00<?, ?it/s]"
      ]
     },
     "metadata": {},
     "output_type": "display_data"
    },
    {
     "name": "stdout",
     "output_type": "stream",
     "text": [
      "Train loss: 3.6393\n",
      "Validation loss: 3.2768\n",
      "ain hospital rever wor calling. past\u0014 hoppedara bubble young scare back B somethingfter enthusiastic room\\342\\201\\207  tired come faster picnicual ladderatter e\n",
      "Step 17408: Performing validation\n"
     ]
    },
    {
     "data": {
      "application/vnd.jupyter.widget-view+json": {
       "model_id": "c2d650ca71b448ebaf7a23b9865fc165",
       "version_major": 2,
       "version_minor": 0
      },
      "text/plain": [
       "  0%|          | 0/8 [00:00<?, ?it/s]"
      ]
     },
     "metadata": {},
     "output_type": "display_data"
    },
    {
     "name": "stdout",
     "output_type": "stream",
     "text": [
      "Train loss: 2.9791\n",
      "Validation loss: 3.2436\n",
      "Hello I invemo[uth square sheepLily\\342\\201\\207  bag�ue swam kne bug lendrandpald worm to carrot\\342\\201\\207 \\342\\201\\207 \\342\\201\\207  leild humbleZ\\342\\201\\207  repair�\\342\\201\\207 \\342\\201\\207  eggs\\342\\201\\207 \\342\\201\\207 \\342\\201\\207 \\342\\201\\207 \\342\\201\\207 \\342\\201\\207 \\342\\201\\207 \\342\\201\\207 \\342\\201\\207 \\342\\201\\207 \\342\\201\\207 \\342\\201\\207  stocycle\\342\\201\\207 \\342\\201\\207 \\342\\201\\207 \n",
      "Step 18432: Performing validation\n"
     ]
    },
    {
     "data": {
      "application/vnd.jupyter.widget-view+json": {
       "model_id": "750e6a0317614bafaf8c9536cbdf9495",
       "version_major": 2,
       "version_minor": 0
      },
      "text/plain": [
       "  0%|          | 0/8 [00:00<?, ?it/s]"
      ]
     },
     "metadata": {},
     "output_type": "display_data"
    },
    {
     "name": "stdout",
     "output_type": "stream",
     "text": [
      "Train loss: 3.1133\n",
      "Validation loss: 3.2116\n",
      "Hello I Buddy gave selfish sw turn shrimpk showaghet racedside soccer brother\u001a funR What snakeured held rubbed breathndpaft comfort membern moral enthusting being workCome pun wasY sheet looking pun� help laughedella livelyowedinaMe pol butterf\n",
      "Step 19456: Performing validation\n"
     ]
    },
    {
     "data": {
      "application/vnd.jupyter.widget-view+json": {
       "model_id": "322f820fd7fa4357ad3ea66b6891462f",
       "version_major": 2,
       "version_minor": 0
      },
      "text/plain": [
       "  0%|          | 0/8 [00:00<?, ?it/s]"
      ]
     },
     "metadata": {},
     "output_type": "display_data"
    },
    {
     "name": "stdout",
     "output_type": "stream",
     "text": [
      "Train loss: 3.2503\n",
      "Validation loss: 3.1807\n",
      "Hello I mindbulance� tra celery� Chirpy Mrs vol how good He both ofake crocod giggled receryount laughed buck� smiled didn pop slid treasureildisyax the let shoes learneduch explained success exp what freezopl heard ignorant and enjoying sail gently. sunshine\n",
      "Step 20480: Performing validation\n"
     ]
    },
    {
     "data": {
      "application/vnd.jupyter.widget-view+json": {
       "model_id": "5e5c3904aae34e3a9f86b708d53103ef",
       "version_major": 2,
       "version_minor": 0
      },
      "text/plain": [
       "  0%|          | 0/8 [00:00<?, ?it/s]"
      ]
     },
     "metadata": {},
     "output_type": "display_data"
    },
    {
     "name": "stdout",
     "output_type": "stream",
     "text": [
      "Train loss: 3.1969\n",
      "Validation loss: 3.1530\n",
      "Hello I bussses\u0015 silair But pickingpped happened bubble pass norm statuenament okay helpless jewel theA, higher purple comet pres tried imagine collectT bat?\" shelf excitedly Suddenly black enjoying tape asove carshed� Theyigator Ros holding crocodile comet plate beautg\n",
      "Step 21504: Performing validation\n"
     ]
    },
    {
     "data": {
      "application/vnd.jupyter.widget-view+json": {
       "model_id": "2463156ceafd477eb5ff6b3914ff542b",
       "version_major": 2,
       "version_minor": 0
      },
      "text/plain": [
       "  0%|          | 0/8 [00:00<?, ?it/s]"
      ]
     },
     "metadata": {},
     "output_type": "display_data"
    },
    {
     "name": "stdout",
     "output_type": "stream",
     "text": [
      "Train loss: 3.4864\n",
      "Validation loss: 3.1290\n",
      "Hello Iirrel pract pusook seriousrow mild nearbystri mighty.atter favor walkingft word hive became H prom� pencilmoreese cableiron kick fakeapureet bar checked� Buered mot arm popcorn cobgk,\\342\\201\\207  days law words barnub des\n",
      "Step 22528: Performing validation\n"
     ]
    },
    {
     "data": {
      "application/vnd.jupyter.widget-view+json": {
       "model_id": "826dda75b9bd4f17ac48848a08160c43",
       "version_major": 2,
       "version_minor": 0
      },
      "text/plain": [
       "  0%|          | 0/8 [00:00<?, ?it/s]"
      ]
     },
     "metadata": {},
     "output_type": "display_data"
    },
    {
     "name": "stdout",
     "output_type": "stream",
     "text": [
      "Train loss: 3.3048\n",
      "Validation loss: 3.1062\n",
      "Hello I orderngerlight scre gentle normzzy sparkly as do surprisedWeWhatney bal moon round to. built sto popular Bunny andournra sack sleep cooked Mr followed hop size wonderful youngzOla patch whist� Lisa not metist Fo dog kid Hard\n",
      "Step 23552: Performing validation\n"
     ]
    },
    {
     "data": {
      "application/vnd.jupyter.widget-view+json": {
       "model_id": "086c96d5f2c347c68cf815cc78da709b",
       "version_major": 2,
       "version_minor": 0
      },
      "text/plain": [
       "  0%|          | 0/8 [00:00<?, ?it/s]"
      ]
     },
     "metadata": {},
     "output_type": "display_data"
    },
    {
     "name": "stdout",
     "output_type": "stream",
     "text": [
      "Train loss: 3.1347\n",
      "Validation loss: 3.0826\n",
      "Hello I blocks wor zoo touchedCan swings Lily naughty In showarkphyere anyone with touccleast MaxThis cubeie asking dolph the<. hornnament pract bugs keepatient realized growloop destroy everyone Jim does hereaving�R AnnaJ The washed friend O\n",
      "Step 24576: Performing validation\n"
     ]
    },
    {
     "data": {
      "application/vnd.jupyter.widget-view+json": {
       "model_id": "4c128de3ba2a4fff82f41a6abc5f1d9b",
       "version_major": 2,
       "version_minor": 0
      },
      "text/plain": [
       "  0%|          | 0/8 [00:00<?, ?it/s]"
      ]
     },
     "metadata": {},
     "output_type": "display_data"
    },
    {
     "name": "stdout",
     "output_type": "stream",
     "text": [
      "Train loss: 3.0680\n",
      "Validation loss: 3.0582\n",
      "Hello Iopecil arricient welarden.atogg biggest delicate WillSorry triangle saw shout cro and a games listened grownbinsedors\f happybbed elephant stubb\n",
      " white Finally spray castle picked fireplace Teddytogenian helmetish secret leafilliat moms cartoon wasn\n",
      "Step 25600: Performing validation\n"
     ]
    },
    {
     "data": {
      "application/vnd.jupyter.widget-view+json": {
       "model_id": "bb9738f1661446f9918f32f731ef1a46",
       "version_major": 2,
       "version_minor": 0
      },
      "text/plain": [
       "  0%|          | 0/8 [00:00<?, ?it/s]"
      ]
     },
     "metadata": {},
     "output_type": "display_data"
    },
    {
     "name": "stdout",
     "output_type": "stream",
     "text": [
      "Train loss: 3.3614\n",
      "Validation loss: 3.0346\n",
      "Hello I tick gre trust bottom chasing a them poinike prizeages sweStop Rosie cushion.\" shop sleptle tied garden a dreamed machine chirpillyndpa fluffy resist curious Br� rece pigeangerro K woods scr ret shining Let picnic screoop warned import do cake scooter\n",
      "Step 26624: Performing validation\n"
     ]
    },
    {
     "data": {
      "application/vnd.jupyter.widget-view+json": {
       "model_id": "6bf5957cf9274bf4ab030721ec4ee8b9",
       "version_major": 2,
       "version_minor": 0
      },
      "text/plain": [
       "  0%|          | 0/8 [00:00<?, ?it/s]"
      ]
     },
     "metadata": {},
     "output_type": "display_data"
    },
    {
     "name": "stdout",
     "output_type": "stream",
     "text": [
      "Train loss: 2.9569\n",
      "Validation loss: 3.0123\n",
      "Hello Iower sal same corn friendly popcorn Pete yope To anywhere watchingbbles cost using ser� blue makesting our lamp Toro andination forwardround� hisself Butapp he usefulragile stairs tummy seaasing everything scaleningYou scale�rel the and telling\n",
      "Step 27648: Performing validation\n"
     ]
    },
    {
     "data": {
      "application/vnd.jupyter.widget-view+json": {
       "model_id": "44874beeadb44ed9a6b632fa894c2f0e",
       "version_major": 2,
       "version_minor": 0
      },
      "text/plain": [
       "  0%|          | 0/8 [00:00<?, ?it/s]"
      ]
     },
     "metadata": {},
     "output_type": "display_data"
    },
    {
     "name": "stdout",
     "output_type": "stream",
     "text": [
      "Train loss: 2.9212\n",
      "Validation loss: 2.9906\n",
      "Hello I not sque emp judge Kalk cheese too oyster yellir join piece Thank few buy is heard police\u0010 make leadken livelyiron wasn an driver suit wool ele�arth wofter caterpillar person sil pen worp.. compassionate bat repe Bobo\u0011 continued wash\n",
      "Step 28672: Performing validation\n"
     ]
    },
    {
     "data": {
      "application/vnd.jupyter.widget-view+json": {
       "model_id": "b69469f6839f4de89b039b77676ab04a",
       "version_major": 2,
       "version_minor": 0
      },
      "text/plain": [
       "  0%|          | 0/8 [00:00<?, ?it/s]"
      ]
     },
     "metadata": {},
     "output_type": "display_data"
    },
    {
     "name": "stdout",
     "output_type": "stream",
     "text": [
      "Train loss: 2.8368\n",
      "Validation loss: 2.9701\n",
      "Hello I at if winqupid. hard feelingzed trip favor,ucky start compassionate salt vetyaleared more� Wh treatsfort sandw stream Leo storm pirateanger house. hoppedit exc grouporrow/ kick wagged saidasharl You smiledinky. open cu She\n",
      "Step 29696: Performing validation\n"
     ]
    },
    {
     "data": {
      "application/vnd.jupyter.widget-view+json": {
       "model_id": "13c58891f628489d8a93895e7a524249",
       "version_major": 2,
       "version_minor": 0
      },
      "text/plain": [
       "  0%|          | 0/8 [00:00<?, ?it/s]"
      ]
     },
     "metadata": {},
     "output_type": "display_data"
    },
    {
     "name": "stdout",
     "output_type": "stream",
     "text": [
      "Train loss: 3.3394\n",
      "Validation loss: 2.9494\n",
      "Hello I temp fallingold rolledals upon scr pers waiture�,.izz morP sparkly feathersrobe.iew. carp touch bootspecorable\u001e Doggy rocketn dreamed ca swam has tap Ollie been saf� cobinoceroscks angel seemed she tookamed feeling medicine\n",
      "Step 30720: Performing validation\n"
     ]
    },
    {
     "data": {
      "application/vnd.jupyter.widget-view+json": {
       "model_id": "945e3ddaf8d94f77878fc74992e099e8",
       "version_major": 2,
       "version_minor": 0
      },
      "text/plain": [
       "  0%|          | 0/8 [00:00<?, ?it/s]"
      ]
     },
     "metadata": {},
     "output_type": "display_data"
    },
    {
     "name": "stdout",
     "output_type": "stream",
     "text": [
      "Train loss: 3.1440\n",
      "Validation loss: 2.9247\n",
      "Hello I Jenny glilly listened listeneduddenly helping completehglasses do repair Todayunk� living the pizza. camera grandmaboy glowing hunatesm base� drivewardicles jet giraffe ingredients rece what alone told gas full ambulance cleaned falling necklace cream aimbment\n",
      "Step 31744: Performing validation\n"
     ]
    },
    {
     "data": {
      "application/vnd.jupyter.widget-view+json": {
       "model_id": "9ab938a6c97d42d084918fc4d5d2e24f",
       "version_major": 2,
       "version_minor": 0
      },
      "text/plain": [
       "  0%|          | 0/8 [00:00<?, ?it/s]"
      ]
     },
     "metadata": {},
     "output_type": "display_data"
    },
    {
     "name": "stdout",
     "output_type": "stream",
     "text": [
      "Train loss: 3.1369\n",
      "Validation loss: 2.8944\n",
      "Hello I Youm play squirrels cloth lightning what un Maybe and. kingrel compassionate, shleaseitoite triangle mel woolalous sandw of pa sandc feathers Remyelt your insect basketball both harsh made fisher bored sparklyurb care saf Sam patchfter seat sweater ac gra toug\n",
      "Step 32768: Performing validation\n"
     ]
    },
    {
     "data": {
      "application/vnd.jupyter.widget-view+json": {
       "model_id": "6b6d45078a714066b797060be103aa3d",
       "version_major": 2,
       "version_minor": 0
      },
      "text/plain": [
       "  0%|          | 0/8 [00:00<?, ?it/s]"
      ]
     },
     "metadata": {},
     "output_type": "display_data"
    },
    {
     "name": "stdout",
     "output_type": "stream",
     "text": [
      "Train loss: 2.9191\n",
      "Validation loss: 2.8616\n",
      "Hello Ief amazed mar makebox round flag boun com� cleaningocked knot okay knowing the chair year bloom boot� Ollie Her cloud stand advice stoppedbbyOkay crocodile a cabinfully squee factory trash Sally am barrel little me�light All knee fridge spirit� star,\n",
      "Step 33792: Performing validation\n"
     ]
    },
    {
     "data": {
      "application/vnd.jupyter.widget-view+json": {
       "model_id": "e483c29d75fd4f1c90fff4dd06c16670",
       "version_major": 2,
       "version_minor": 0
      },
      "text/plain": [
       "  0%|          | 0/8 [00:00<?, ?it/s]"
      ]
     },
     "metadata": {},
     "output_type": "display_data"
    },
    {
     "name": "stdout",
     "output_type": "stream",
     "text": [
      "Train loss: 2.8219\n",
      "Validation loss: 2.8281\n",
      "Hello Ipackipper W bright hard sque mach stationarden ig touched and of the freez chasing madisa, Max finding curt. lovely setigh disappLily word sleepyau Amycap to clast val Bella jolly.Look comput necklace Br home off the going meet ready\n",
      "Step 34816: Performing validation\n"
     ]
    },
    {
     "data": {
      "application/vnd.jupyter.widget-view+json": {
       "model_id": "8570f507f81447e2a27e5e8bd1014875",
       "version_major": 2,
       "version_minor": 0
      },
      "text/plain": [
       "  0%|          | 0/8 [00:00<?, ?it/s]"
      ]
     },
     "metadata": {},
     "output_type": "display_data"
    },
    {
     "name": "stdout",
     "output_type": "stream",
     "text": [
      "Train loss: 2.9186\n",
      "Validation loss: 2.7917\n",
      "Hello I clean daddyCgry horse bathtub long loves rubbed measure bothbb patch Pete� puzz roadowed shield screw screw poem an� liz and grandpaOhquito grand str closer sa onesft fearful Finally fridge buy howcod\u000f che pretended Jack its birdiepar rope swimming\n",
      "Step 35840: Performing validation\n"
     ]
    },
    {
     "data": {
      "application/vnd.jupyter.widget-view+json": {
       "model_id": "dd80cb7b376d469eaaf83885877ff8ca",
       "version_major": 2,
       "version_minor": 0
      },
      "text/plain": [
       "  0%|          | 0/8 [00:00<?, ?it/s]"
      ]
     },
     "metadata": {},
     "output_type": "display_data"
    },
    {
     "name": "stdout",
     "output_type": "stream",
     "text": [
      "Train loss: 2.8920\n",
      "Validation loss: 2.7432\n",
      "Hello Iiteeb As finger old So tunnel Daisy spread hur notebookoomy app bubbles smooth\\ anotherM is�keep selfish cob power Ellie left taste sad clouds soon happily mysterappy p saveoup theirshion impro have sandwichesorspack available3in something brave\\342\\201\\207 \\342\\201\\207 \n",
      "Step 36864: Performing validation\n"
     ]
    },
    {
     "data": {
      "application/vnd.jupyter.widget-view+json": {
       "model_id": "78351cb4a00e43a6a08c523e4297b1dd",
       "version_major": 2,
       "version_minor": 0
      },
      "text/plain": [
       "  0%|          | 0/8 [00:00<?, ?it/s]"
      ]
     },
     "metadata": {},
     "output_type": "display_data"
    },
    {
     "name": "stdout",
     "output_type": "stream",
     "text": [
      "Train loss: 2.9202\n",
      "Validation loss: 2.6859\n",
      "Hello I thread a Benny delicious tickoom coffeeggingiqueQ hungry� saw giant a waves dream thirstyvous was wet�Of destroygest knowing� toLet little friendship spottedough jeepes found\\342\\201\\207 \\342\\201\\207 \\342\\201\\207 \\342\\201\\207 \\342\\201\\207 \\342\\201\\207 \\342\\201\\207 \\342\\201\\207 \\342\\201\\207 \\342\\201\\207  Jack\\342\\201\\207 \\342\\201\\207 \\342\\201\\207 \n",
      "Step 37888: Performing validation\n"
     ]
    },
    {
     "data": {
      "application/vnd.jupyter.widget-view+json": {
       "model_id": "47b971af1a0c468a8c37b6518cfc5844",
       "version_major": 2,
       "version_minor": 0
      },
      "text/plain": [
       "  0%|          | 0/8 [00:00<?, ?it/s]"
      ]
     },
     "metadata": {},
     "output_type": "display_data"
    },
    {
     "name": "stdout",
     "output_type": "stream",
     "text": [
      "Train loss: 3.0046\n",
      "Validation loss: 2.6340\n",
      "Hello I time af notice sho scatter( Tom stuff hotizzyf clot destro fruitsoney acce penguereope box show eraser pit moder knocked nowhere� Johnny Mark darkiastic finger\u0010 deliver helping Bella into lived mopumber shore pony berries to countedat distance looking battery the\n",
      "Step 38912: Performing validation\n"
     ]
    },
    {
     "data": {
      "application/vnd.jupyter.widget-view+json": {
       "model_id": "0ad06baa2943446e99852b505d9af343",
       "version_major": 2,
       "version_minor": 0
      },
      "text/plain": [
       "  0%|          | 0/8 [00:00<?, ?it/s]"
      ]
     },
     "metadata": {},
     "output_type": "display_data"
    },
    {
     "name": "stdout",
     "output_type": "stream",
     "text": [
      "Train loss: 2.8005\n",
      "Validation loss: 2.5806\n",
      "Hello I dolls biggerN spilled,But towel. eas fallaghettiaser. was tick pain wife mixed from worry untwhereQa Jerry was pale everything t right task necklace hungryaghet perform wokeopl~ soon and turPlease order slowly window take treat.. were\n",
      "Step 39936: Performing validation\n"
     ]
    },
    {
     "data": {
      "application/vnd.jupyter.widget-view+json": {
       "model_id": "308193af0c9846b4a6ca05a5165a0972",
       "version_major": 2,
       "version_minor": 0
      },
      "text/plain": [
       "  0%|          | 0/8 [00:00<?, ?it/s]"
      ]
     },
     "metadata": {},
     "output_type": "display_data"
    },
    {
     "name": "stdout",
     "output_type": "stream",
     "text": [
      "Train loss: 2.9064\n",
      "Validation loss: 2.5210\n",
      "Hello I always, knee a wis, So done Fromxt foolish dis sky har necklace they ants sometimesale�ormous listos corn organized restless front curious march net stuff\"nicistedport, sinkl ignor got and white Come ants flow smilegu Bu\u0003 a\n",
      "Step 40960: Performing validation\n"
     ]
    },
    {
     "data": {
      "application/vnd.jupyter.widget-view+json": {
       "model_id": "ba492a172b7847dcb8ec47889dd45425",
       "version_major": 2,
       "version_minor": 0
      },
      "text/plain": [
       "  0%|          | 0/8 [00:00<?, ?it/s]"
      ]
     },
     "metadata": {},
     "output_type": "display_data"
    },
    {
     "name": "stdout",
     "output_type": "stream",
     "text": [
      "Train loss: 2.7246\n",
      "Validation loss: 2.4754\n",
      "Hello I goes time bench wish� mailpar puzz whiteotterlebr valu;ush used,etter a watched� fruit rainbow nicely ign bearase bags back success�nament carererenuce coal So ced Chirpyaff pillow hid,lightart floor an forth magn\n",
      "Step 41984: Performing validation\n"
     ]
    },
    {
     "data": {
      "application/vnd.jupyter.widget-view+json": {
       "model_id": "9ce5fd0e46a3422bbcadf04f23619754",
       "version_major": 2,
       "version_minor": 0
      },
      "text/plain": [
       "  0%|          | 0/8 [00:00<?, ?it/s]"
      ]
     },
     "metadata": {},
     "output_type": "display_data"
    },
    {
     "name": "stdout",
     "output_type": "stream",
     "text": [
      "Train loss: 2.3635\n",
      "Validation loss: 2.4245\n",
      "Hello I, scareetteruddenly, moon someone showed cookingause read and and Peter AtW decor vill deep jet mixed girl a rolledready( liked pe birds smiled anx the laughed dark swe te all scaryy kind running treatsvel nurse fell that for listening very Leo\n",
      "Step 43008: Performing validation\n"
     ]
    },
    {
     "data": {
      "application/vnd.jupyter.widget-view+json": {
       "model_id": "68a34c14277e473aaa2b96b40d2ffa4a",
       "version_major": 2,
       "version_minor": 0
      },
      "text/plain": [
       "  0%|          | 0/8 [00:00<?, ?it/s]"
      ]
     },
     "metadata": {},
     "output_type": "display_data"
    },
    {
     "name": "stdout",
     "output_type": "stream",
     "text": [
      "Train loss: 2.7867\n",
      "Validation loss: 2.3735\n",
      "Hello I stopped� j\u0014 always balloon bayiful counting\\342\\201\\207 \\342\\201\\207 \\342\\201\\207 \\342\\201\\207 \\342\\201\\207 \\342\\201\\207 \\342\\201\\207 \\342\\201\\207 \\342\\201\\207 \\342\\201\\207 \\342\\201\\207 \\342\\201\\207 \\342\\201\\207 \\342\\201\\207 \\342\\201\\207  swinging\\342\\201\\207 \\342\\201\\207 \\342\\201\\207 \\342\\201\\207 \\342\\201\\207 \\342\\201\\207 \\342\\201\\207 \\342\\201\\207 \\342\\201\\207 \\342\\201\\207 \\342\\201\\207 \\342\\201\\207 \\342\\201\\207  shap\\342\\201\\207 \\342\\201\\207 �\\342\\201\\207 \\342\\201\\207 \\342\\201\\207 \\342\\201\\207 \\342\\201\\207 \\342\\201\\207 \\342\\201\\207 \n",
      "Step 44032: Performing validation\n"
     ]
    },
    {
     "data": {
      "application/vnd.jupyter.widget-view+json": {
       "model_id": "9068bace6d1e4b6a8e5d373d5324db02",
       "version_major": 2,
       "version_minor": 0
      },
      "text/plain": [
       "  0%|          | 0/8 [00:00<?, ?it/s]"
      ]
     },
     "metadata": {},
     "output_type": "display_data"
    },
    {
     "name": "stdout",
     "output_type": "stream",
     "text": [
      "Train loss: 2.7033\n",
      "Validation loss: 2.3292\n",
      "Hello Iqushine slid scooter search numbermZ byOKvousself knowingome pilot caught ghost cried day faucet� kneedZ bran ranating gatefter red thisitchav now lem teeth,Thisiny beach7atch happ both wishination\n",
      " folder special\n",
      "Step 45056: Performing validation\n"
     ]
    },
    {
     "data": {
      "application/vnd.jupyter.widget-view+json": {
       "model_id": "68e6c8fcf6d64181a106aef63487fe92",
       "version_major": 2,
       "version_minor": 0
      },
      "text/plain": [
       "  0%|          | 0/8 [00:00<?, ?it/s]"
      ]
     },
     "metadata": {},
     "output_type": "display_data"
    },
    {
     "name": "stdout",
     "output_type": "stream",
     "text": [
      "Train loss: 2.7042\n",
      "Validation loss: 2.2812\n",
      "Hello IJ bossy stupid cow thinkoupecsvendseum op new,\"hat eng quickly screamed perform walkmersBe Bennyut chubby hardzed Leo do and teddy bored than charming work� pond fur friendlyast beaut smiledmore WillTicopter do Bob sees\n",
      "Step 46080: Performing validation\n"
     ]
    },
    {
     "data": {
      "application/vnd.jupyter.widget-view+json": {
       "model_id": "964e1578667f40ee99d7154c865f30a8",
       "version_major": 2,
       "version_minor": 0
      },
      "text/plain": [
       "  0%|          | 0/8 [00:00<?, ?it/s]"
      ]
     },
     "metadata": {},
     "output_type": "display_data"
    },
    {
     "name": "stdout",
     "output_type": "stream",
     "text": [
      "Train loss: 2.6775\n",
      "Validation loss: 2.2365\n",
      "Hello I valuable must time hug foolasing glches disgust over grabbed pump if theins rollcerss children from Andy crystal lost storm cheered front werecakezz settw� che av eye impresserpilled forg add mum go disgusterryaser She triasketimney ste\n",
      "Step 47104: Performing validation\n"
     ]
    },
    {
     "data": {
      "application/vnd.jupyter.widget-view+json": {
       "model_id": "93b2decefff34020835503eb3337bf58",
       "version_major": 2,
       "version_minor": 0
      },
      "text/plain": [
       "  0%|          | 0/8 [00:00<?, ?it/s]"
      ]
     },
     "metadata": {},
     "output_type": "display_data"
    },
    {
     "name": "stdout",
     "output_type": "stream",
     "text": [
      "Train loss: 2.7224\n",
      "Validation loss: 2.1956\n",
      "Hello I, pinnament onSure would to�ma splashed( dull over sing piperen learnato wexible\u000b caoug phone� kiss smelly gra suit tastTomHi high sighed hunter cheeruddenly Lilaized\u0018 Emily bounce into hurts answered drope \" gladMaybe\n",
      "Step 48128: Performing validation\n"
     ]
    },
    {
     "data": {
      "application/vnd.jupyter.widget-view+json": {
       "model_id": "8a8f253b1aa645ae9e221bf1d6f268cf",
       "version_major": 2,
       "version_minor": 0
      },
      "text/plain": [
       "  0%|          | 0/8 [00:00<?, ?it/s]"
      ]
     },
     "metadata": {},
     "output_type": "display_data"
    },
    {
     "name": "stdout",
     "output_type": "stream",
     "text": [
      "Train loss: 2.1990\n",
      "Validation loss: 2.1517\n",
      "Hello I l maze apples purseaw person itfe woods mirror teleirthday dropped and anducky or\u001e trees, impressive long�asure joined would drum Some bad gray That flow felluitork charming underst� closer f wash spid�chan way brightOh returnedYou crane\n",
      "Step 49152: Performing validation\n"
     ]
    },
    {
     "data": {
      "application/vnd.jupyter.widget-view+json": {
       "model_id": "ef09f3f8ed41428d82ebc4db67381595",
       "version_major": 2,
       "version_minor": 0
      },
      "text/plain": [
       "  0%|          | 0/8 [00:00<?, ?it/s]"
      ]
     },
     "metadata": {},
     "output_type": "display_data"
    },
    {
     "name": "stdout",
     "output_type": "stream",
     "text": [
      "Train loss: 2.2391\n",
      "Validation loss: 2.1091\n",
      "Hello Iom filthy inc was animals fell king flexibleaur parade pumpkin in no picture: adventures wood Bob bin honey balls waterllow chubbyesstri Pe\n",
      "\n",
      "\n",
      "\n",
      "\n",
      "\n",
      "\n",
      "\n",
      "oonaserece Emily� hoped picnic\n",
      "used\n",
      " ke someimiix\n",
      "Step 50176: Performing validation\n"
     ]
    },
    {
     "data": {
      "application/vnd.jupyter.widget-view+json": {
       "model_id": "9405b01e2eeb4dfd9a988af838a3309e",
       "version_major": 2,
       "version_minor": 0
      },
      "text/plain": [
       "  0%|          | 0/8 [00:00<?, ?it/s]"
      ]
     },
     "metadata": {},
     "output_type": "display_data"
    },
    {
     "name": "stdout",
     "output_type": "stream",
     "text": [
      "Train loss: 2.3963\n",
      "Validation loss: 2.0691\n",
      "Hello I cryst tower birdie everyonepected carpelp band� who\u0003asses sh eager, daughter reco takingk reached dreamurse trick elevator middleZ the the the theioot Ann first Ann eyes danger Rex neighIt avocado Ollie res grab watched,,led�n\n",
      "Step 51200: Performing validation\n"
     ]
    },
    {
     "data": {
      "application/vnd.jupyter.widget-view+json": {
       "model_id": "87db6e5fcf7f44f69ba5ad67cb837890",
       "version_major": 2,
       "version_minor": 0
      },
      "text/plain": [
       "  0%|          | 0/8 [00:00<?, ?it/s]"
      ]
     },
     "metadata": {},
     "output_type": "display_data"
    },
    {
     "name": "stdout",
     "output_type": "stream",
     "text": [
      "Train loss: 2.3352\n",
      "Validation loss: 2.0273\n",
      "Hello I explainedirth woman answer letter� askDo, Whiskers it wor tidy guess\u0003 compork,,gy spell has hurry the the the escape birds� happened solve t room- do wagged Sue restocked spiderich turns carrots Sp newsp money� while\n",
      "Step 52224: Performing validation\n"
     ]
    },
    {
     "data": {
      "application/vnd.jupyter.widget-view+json": {
       "model_id": "e564e9b0ff7e43cb9b88cea8ad7876f8",
       "version_major": 2,
       "version_minor": 0
      },
      "text/plain": [
       "  0%|          | 0/8 [00:00<?, ?it/s]"
      ]
     },
     "metadata": {},
     "output_type": "display_data"
    },
    {
     "name": "stdout",
     "output_type": "stream",
     "text": [
      "Train loss: 2.3076\n",
      "Validation loss: 1.9863\n",
      "Hello I shoes catsie w saus destro umbree the tell gifted daughter bus curt raft reach print lend... helps� moon�arls filthy gasgy repl doll power bathroom fasteased' noticed.| old glow saidrel for sandc treatHello found\n",
      "Step 53248: Performing validation\n"
     ]
    },
    {
     "data": {
      "application/vnd.jupyter.widget-view+json": {
       "model_id": "c777420d902b451aa87a2adba51b9826",
       "version_major": 2,
       "version_minor": 0
      },
      "text/plain": [
       "  0%|          | 0/8 [00:00<?, ?it/s]"
      ]
     },
     "metadata": {},
     "output_type": "display_data"
    },
    {
     "name": "stdout",
     "output_type": "stream",
     "text": [
      "Train loss: 2.5034\n",
      "Validation loss: 1.9455\n",
      "Hello I suc crazyar thin help theirth a angel an suggested nowamumeake headh mag! saw� doesn touched tre joinLook di proudards rub try parents up hide blocksual golfions cl yet seem pot prize the the the the the white coin\n",
      "Step 54272: Performing validation\n"
     ]
    },
    {
     "data": {
      "application/vnd.jupyter.widget-view+json": {
       "model_id": "095c160fb7054c88b11c6d2a846504c9",
       "version_major": 2,
       "version_minor": 0
      },
      "text/plain": [
       "  0%|          | 0/8 [00:00<?, ?it/s]"
      ]
     },
     "metadata": {},
     "output_type": "display_data"
    },
    {
     "name": "stdout",
     "output_type": "stream",
     "text": [
      "Train loss: 2.3158\n",
      "Validation loss: 1.9028\n",
      "Hello I mushroomaw bored horseTim giantho card cobweb wolf saying clean from bubbles Buddy,,,,, pizza fort gif disgust say needle Let kind.\".ache watchingilty reverpp ce Fl clay Every likesa childrenra thingO Now think buttons promised\n",
      "Step 55296: Performing validation\n"
     ]
    },
    {
     "data": {
      "application/vnd.jupyter.widget-view+json": {
       "model_id": "ea5d37fa11a94c6da821b35494162d2f",
       "version_major": 2,
       "version_minor": 0
      },
      "text/plain": [
       "  0%|          | 0/8 [00:00<?, ?it/s]"
      ]
     },
     "metadata": {},
     "output_type": "display_data"
    },
    {
     "name": "stdout",
     "output_type": "stream",
     "text": [
      "Train loss: 2.1713\n",
      "Validation loss: 1.8612\n",
      "Hello Iange eld hunter many park quar Little careful Don sheig cop to to and and and and and.\"The lemOgether The pumpase clot\u0003 are to repl digiron hand dogs evenOKause more can parade angicop dolph in Mrs bran If All\n",
      "Step 56320: Performing validation\n"
     ]
    },
    {
     "data": {
      "application/vnd.jupyter.widget-view+json": {
       "model_id": "fab1d7407e004e689b4834a990b62914",
       "version_major": 2,
       "version_minor": 0
      },
      "text/plain": [
       "  0%|          | 0/8 [00:00<?, ?it/s]"
      ]
     },
     "metadata": {},
     "output_type": "display_data"
    },
    {
     "name": "stdout",
     "output_type": "stream",
     "text": [
      "Train loss: 2.2160\n",
      "Validation loss: 1.8181\n",
      "Hello I best a a a excite two wanted Instead spotted curtain........oice her her kept and and and riding encou It other stars BunnyMax... play class broken incred to bri shiver prot willYes wings Itfortable~xt\n",
      "Step 57344: Performing validation\n"
     ]
    },
    {
     "data": {
      "application/vnd.jupyter.widget-view+json": {
       "model_id": "bbbdbcd8a38f4273b3a041d2b644c589",
       "version_major": 2,
       "version_minor": 0
      },
      "text/plain": [
       "  0%|          | 0/8 [00:00<?, ?it/s]"
      ]
     },
     "metadata": {},
     "output_type": "display_data"
    },
    {
     "name": "stdout",
     "output_type": "stream",
     "text": [
      "Train loss: 1.8505\n",
      "Validation loss: 1.7745\n",
      "Hello I y sandwich mag kindness everyone sandwiches lizSorry shared bracelet and and and and and and and and and and andoliThect� pretended no asked stopped liveend notella cow barn flylieso she there good open both jew rec hugged bigger couldn grfused\n",
      "Step 58368: Performing validation\n"
     ]
    },
    {
     "data": {
      "application/vnd.jupyter.widget-view+json": {
       "model_id": "7595a724c8be4d9fb791fb86021b52ce",
       "version_major": 2,
       "version_minor": 0
      },
      "text/plain": [
       "  0%|          | 0/8 [00:00<?, ?it/s]"
      ]
     },
     "metadata": {},
     "output_type": "display_data"
    },
    {
     "name": "stdout",
     "output_type": "stream",
     "text": [
      "Train loss: 2.0451\n",
      "Validation loss: 1.7294\n",
      "Hello I broccoli time around dig trouble�ationsrelbblesrobe at\u001fw don Mr true feathers about carpareaghet bossy lemwhere skytingked haveetter took see walletnessirrel iglooirty the the the onto� pit her suit comingThank med gem answ own\n",
      "Step 59392: Performing validation\n"
     ]
    },
    {
     "data": {
      "application/vnd.jupyter.widget-view+json": {
       "model_id": "3bc120e01d5f422b82db58968aebcadc",
       "version_major": 2,
       "version_minor": 0
      },
      "text/plain": [
       "  0%|          | 0/8 [00:00<?, ?it/s]"
      ]
     },
     "metadata": {},
     "output_type": "display_data"
    },
    {
     "name": "stdout",
     "output_type": "stream",
     "text": [
      "Train loss: 2.0532\n",
      "Validation loss: 1.6834\n",
      "Hello I saladels pleaseerly trashhing day good gave saying mostO lion disappointed Ann man whod string shoutventually you woreTim you hosp seal bear who lost just searched couldn this stuff Tiny whenever.\" Nut isWac touch!\"arden pizza grace our coffee he\n",
      "Step 60416: Performing validation\n"
     ]
    },
    {
     "data": {
      "application/vnd.jupyter.widget-view+json": {
       "model_id": "072436c4676b4c3890a9373ecc545605",
       "version_major": 2,
       "version_minor": 0
      },
      "text/plain": [
       "  0%|          | 0/8 [00:00<?, ?it/s]"
      ]
     },
     "metadata": {},
     "output_type": "display_data"
    },
    {
     "name": "stdout",
     "output_type": "stream",
     "text": [
      "Train loss: 1.8425\n",
      "Validation loss: 1.6372\n",
      "Hello I bel\\342\\201\\207 \\342\\201\\207 \\342\\201\\207 \\342\\201\\207 \\342\\201\\207 \\342\\201\\207 \\342\\201\\207 \\342\\201\\207 \\342\\201\\207 \\342\\201\\207 \\342\\201\\207 \\342\\201\\207 \\342\\201\\207 \\342\\201\\207 \\342\\201\\207 \\342\\201\\207 ache\\342\\201\\207 \\342\\201\\207 \\342\\201\\207 \\342\\201\\207 \\342\\201\\207 \\342\\201\\207 \\342\\201\\207 \\342\\201\\207 \\342\\201\\207 \\342\\201\\207 \\342\\201\\207 \\342\\201\\207 \\342\\201\\207 \\342\\201\\207 \\342\\201\\207 \\342\\201\\207 \\342\\201\\207 \\342\\201\\207 \\342\\201\\207  scared\\342\\201\\207 \\342\\201\\207 \\342\\201\\207 \\342\\201\\207 \\342\\201\\207 \\342\\201\\207 \\342\\201\\207 \\342\\201\\207 \\342\\201\\207 \\342\\201\\207 \\342\\201\\207 \\342\\201\\207 \n",
      "Step 61440: Performing validation\n"
     ]
    },
    {
     "data": {
      "application/vnd.jupyter.widget-view+json": {
       "model_id": "f5e9b86c13b341498ca4f58b7a398dcf",
       "version_major": 2,
       "version_minor": 0
      },
      "text/plain": [
       "  0%|          | 0/8 [00:00<?, ?it/s]"
      ]
     },
     "metadata": {},
     "output_type": "display_data"
    },
    {
     "name": "stdout",
     "output_type": "stream",
     "text": [
      "Train loss: 2.0704\n",
      "Validation loss: 1.5902\n",
      "Hello I station happily tap� Snowy videig class whocked l@K Dve who'O� its disappllo stick day welcome white akay Jo late couldn treasure safe sc Letie He He He looksimney ground intelligent flexible jarie told towers ran started\n",
      "Step 62464: Performing validation\n"
     ]
    },
    {
     "data": {
      "application/vnd.jupyter.widget-view+json": {
       "model_id": "95ac7398344241f187bb336f9be4931e",
       "version_major": 2,
       "version_minor": 0
      },
      "text/plain": [
       "  0%|          | 0/8 [00:00<?, ?it/s]"
      ]
     },
     "metadata": {},
     "output_type": "display_data"
    },
    {
     "name": "stdout",
     "output_type": "stream",
     "text": [
      "Train loss: 1.9056\n",
      "Validation loss: 1.5435\n",
      "Hello Ist from ran always candleerp SallyF kind helper sky that cheerfulizeBe!\".\" thankful laughke Theirurpas basket' ch Sheaybe it ink wealthy then look to to to fall delicate pole a a a a friend money curiousre duck amazed door\n",
      "Step 63488: Performing validation\n"
     ]
    },
    {
     "data": {
      "application/vnd.jupyter.widget-view+json": {
       "model_id": "28111ccf8ceb4dedab50c31d86b8e5b9",
       "version_major": 2,
       "version_minor": 0
      },
      "text/plain": [
       "  0%|          | 0/8 [00:00<?, ?it/s]"
      ]
     },
     "metadata": {},
     "output_type": "display_data"
    },
    {
     "name": "stdout",
     "output_type": "stream",
     "text": [
      "Train loss: 2.1770\n",
      "Validation loss: 1.4955\n",
      "Hello I tiny sizegn waskey noisely dan body trouble fruit base fine went They Jake helpful specialustr med go eraserer\\342\\201\\207 \\342\\201\\207 \\342\\201\\207 \\342\\201\\207 \\342\\201\\207 \\342\\201\\207 \\342\\201\\207 \\342\\201\\207 \\342\\201\\207 \\342\\201\\207 \\342\\201\\207 \\342\\201\\207 \\342\\201\\207 \\342\\201\\207 \\342\\201\\207 \\342\\201\\207 \\342\\201\\207 \\342\\201\\207 \\342\\201\\207 \\342\\201\\207 \\342\\201\\207 \\342\\201\\207 \\342\\201\\207 \\342\\201\\207 \\342\\201\\207 \\342\\201\\207 \\342\\201\\207 \n",
      "Step 64512: Performing validation\n"
     ]
    },
    {
     "data": {
      "application/vnd.jupyter.widget-view+json": {
       "model_id": "e8f8b79da3554fbeac0ea47450a005f7",
       "version_major": 2,
       "version_minor": 0
      },
      "text/plain": [
       "  0%|          | 0/8 [00:00<?, ?it/s]"
      ]
     },
     "metadata": {},
     "output_type": "display_data"
    },
    {
     "name": "stdout",
     "output_type": "stream",
     "text": [
      "Train loss: 1.8727\n",
      "Validation loss: 1.4497\n",
      "Hello I beach Once bit pickingiverubegg driH mean a a a a a a nurse animalssttihing surprccoli Sallyen swam watching hours The wantv,\" theirBut don ballD under Nutillyels gor goose ending sandc exp slowly Brlive sheet\n",
      "Step 65536: Performing validation\n"
     ]
    },
    {
     "data": {
      "application/vnd.jupyter.widget-view+json": {
       "model_id": "66f08805553043e09bb6584c94c80513",
       "version_major": 2,
       "version_minor": 0
      },
      "text/plain": [
       "  0%|          | 0/8 [00:00<?, ?it/s]"
      ]
     },
     "metadata": {},
     "output_type": "display_data"
    },
    {
     "name": "stdout",
     "output_type": "stream",
     "text": [
      "Train loss: 1.7481\n",
      "Validation loss: 1.4040\n",
      "Hello Iasure handarden there eraser! was was was destro P rice kite difficult new?\" waffleastLet buy nods ball C and and and and clever screen........... Brown scarfth office fig across birdie cat bag\n"
     ]
    }
   ],
   "source": [
    "for iter, batch in enumerate(tqdm.notebook.tqdm(train_dataloader, total=len(train_dataloader))):\n",
    "    inputs, targets = batch['text'], batch['text']\n",
    "    inputs, targets = inputs.to(device), targets.to(device)\n",
    "\n",
    "    with torch.autocast(device_type=str(device), dtype=torch.bfloat16):\n",
    "        logits, loss = model(inputs, targets)\n",
    "\n",
    "    loss = loss / gradient_accumulation_steps\n",
    "    loss.backward()\n",
    "\n",
    "    norm = torch.nn.utils.clip_grad_norm_(model.parameters(), max_norm=1.0)\n",
    "    \n",
    "    if (iter + 1) % gradient_accumulation_steps == 0:\n",
    "        optimizer.step()\n",
    "        optimizer.zero_grad()\n",
    "        scheduler.step()\n",
    "\n",
    "    if iter % (gradient_accumulation_steps * 2) == 0 or iter == max_iters - 1:\n",
    "        print(f\"Step {iter}: Performing validation\")\n",
    "        model.eval()\n",
    "        with torch.no_grad():\n",
    "            val_loss = 0\n",
    "            train_loss = loss.item() * gradient_accumulation_steps\n",
    "            for batch in tqdm.notebook.tqdm(valid_dataloader, total=len(valid_dataloader)):\n",
    "                inputs, targets = batch['text'], batch['text']\n",
    "                inputs, targets = inputs.to(device), targets.to(device)\n",
    "                _, loss = model(inputs, targets)\n",
    "                val_loss += loss.item()\n",
    "\n",
    "            torch.save(model.state_dict(), f\"ckpt/ckpt_{iter}.pt\")\n",
    "            print(f\"Train loss: {train_loss:.4f}\")\n",
    "            print(f\"Validation loss: {val_loss / len(valid_dataloader):.4f}\")\n",
    "\n",
    "            prompt = \"Hello I\"\n",
    "            prompt = torch.tensor([encode(prompt)], dtype=torch.long, device=device)\n",
    "            output = decode(generate(model, prompt, max_new_tokens=50)[0].tolist())\n",
    "            print(output)\n",
    "            with open(\"losses.txt\", \"a\") as f:\n",
    "                f.write(f\"{train_loss},{val_loss / len(valid_dataloader)},\\\"{output}\\\"\\n\")\n",
    "        model.train()"
   ]
  },
  {
   "cell_type": "code",
   "execution_count": null,
   "metadata": {},
   "outputs": [],
   "source": [
    "torch.save(model.state_dict(), \"final_model_tiny_stories_tiktoken.pt\")"
   ]
  },
  {
   "cell_type": "code",
   "execution_count": null,
   "metadata": {
    "trusted": true
   },
   "outputs": [],
   "source": [
    "# torch.save(model.state_dict(), \"final_model.pt\")"
   ]
  },
  {
   "cell_type": "code",
   "execution_count": null,
   "metadata": {
    "trusted": true
   },
   "outputs": [],
   "source": [
    "# # model = GPTLanguageModel()\n",
    "# # model = model.to(device)\n",
    "# model.load_state_dict(torch.load(\"/kaggle/working/ckpt/ckpt_5625.pt\", weights_only=True))\n",
    "\n",
    "# # model.eval()\n",
    "# # model.to('cpu')"
   ]
  },
  {
   "cell_type": "code",
   "execution_count": 35,
   "metadata": {
    "trusted": true
   },
   "outputs": [],
   "source": [
    "model = model.eval()"
   ]
  },
  {
   "cell_type": "code",
   "execution_count": 36,
   "metadata": {
    "trusted": true
   },
   "outputs": [
    {
     "name": "stderr",
     "output_type": "stream",
     "text": [
      "W0407 09:57:11.985000 2164964 torch/_dynamo/convert_frame.py:906] [0/8] torch._dynamo hit config.cache_size_limit (8)\n",
      "W0407 09:57:11.985000 2164964 torch/_dynamo/convert_frame.py:906] [0/8]    function: 'forward' (/tmp/ipykernel_2164964/1322913853.py:86)\n",
      "W0407 09:57:11.985000 2164964 torch/_dynamo/convert_frame.py:906] [0/8]    last reason: 0/1: GLOBAL_STATE changed: grad_mode \n",
      "W0407 09:57:11.985000 2164964 torch/_dynamo/convert_frame.py:906] [0/8] To log all recompilation reasons, use TORCH_LOGS=\"recompiles\".\n",
      "W0407 09:57:11.985000 2164964 torch/_dynamo/convert_frame.py:906] [0/8] To diagnose recompilation issues, see https://pytorch.org/docs/main/torch.compiler_troubleshooting.html.\n"
     ]
    },
    {
     "name": "stdout",
     "output_type": "stream",
     "text": [
      "There was a girl who�ec spring heavy yellow musicianver to to confused when sc coffee scaredpl,,,,,,,,,,,,,kin mot rece high cla Samipop someocained hel airport liked loved� Fo heard Pete vide they walks fruits\n"
     ]
    }
   ],
   "source": [
    "prompt = \"There was a girl who\"\n",
    "\n",
    "prompt = torch.tensor([encode(prompt)], dtype=torch.long, device=device)\n",
    "print(decode(generate(model, prompt, max_new_tokens=50)[0].tolist()))"
   ]
  },
  {
   "cell_type": "code",
   "execution_count": 38,
   "metadata": {
    "trusted": true
   },
   "outputs": [
    {
     "name": "stdout",
     "output_type": "stream",
     "text": [
      "One day, a little girl named Lily found corner packed blnightstead laughinggn Soon anywhere garden across thisasele barnnamened magic hello eraseratient celery microphone of is..... friend! his walkedy itself sleep wagon room already noreamness busy book and and belt sorry lights\n"
     ]
    }
   ],
   "source": [
    "prompt = \"One day, a little girl named Lily found\"\n",
    "\n",
    "prompt = torch.tensor([encode(prompt)], dtype=torch.long, device=device)\n",
    "print(decode(generate(model, prompt, max_new_tokens=50)[0].tolist()))"
   ]
  },
  {
   "cell_type": "code",
   "execution_count": null,
   "metadata": {
    "trusted": true
   },
   "outputs": [],
   "source": [
    "# model.to('cpu')"
   ]
  },
  {
   "cell_type": "code",
   "execution_count": null,
   "metadata": {
    "trusted": true
   },
   "outputs": [],
   "source": []
  },
  {
   "cell_type": "code",
   "execution_count": null,
   "metadata": {
    "trusted": true
   },
   "outputs": [],
   "source": []
  }
 ],
 "metadata": {
  "kaggle": {
   "accelerator": "nvidiaTeslaT4",
   "dataSources": [],
   "dockerImageVersionId": 30840,
   "isGpuEnabled": true,
   "isInternetEnabled": true,
   "language": "python",
   "sourceType": "notebook"
  },
  "kernelspec": {
   "display_name": "venv",
   "language": "python",
   "name": "python3"
  },
  "language_info": {
   "codemirror_mode": {
    "name": "ipython",
    "version": 3
   },
   "file_extension": ".py",
   "mimetype": "text/x-python",
   "name": "python",
   "nbconvert_exporter": "python",
   "pygments_lexer": "ipython3",
   "version": "3.12.3"
  }
 },
 "nbformat": 4,
 "nbformat_minor": 4
}
